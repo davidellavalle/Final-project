{
 "metadata": {
  "language_info": {
   "codemirror_mode": {
    "name": "ipython",
    "version": 3
   },
   "file_extension": ".py",
   "mimetype": "text/x-python",
   "name": "python",
   "nbconvert_exporter": "python",
   "pygments_lexer": "ipython3",
   "version": "3.8.5-final"
  },
  "orig_nbformat": 2,
  "kernelspec": {
   "name": "python385jvsc74a57bd0a9719f16ca6f0343f15fa28d7410c8121e835de914aaa6fbe146cb547a948587",
   "display_name": "Python 3.8.5 64-bit ('Davide Della Valle': virtualenv)"
  }
 },
 "nbformat": 4,
 "nbformat_minor": 2,
 "cells": [
  {
   "cell_type": "code",
   "execution_count": 1,
   "metadata": {},
   "outputs": [
    {
     "output_type": "display_data",
     "data": {
      "text/html": "        <script type=\"text/javascript\">\n        window.PlotlyConfig = {MathJaxConfig: 'local'};\n        if (window.MathJax) {MathJax.Hub.Config({SVG: {font: \"STIX-Web\"}});}\n        if (typeof require !== 'undefined') {\n        require.undef(\"plotly\");\n        requirejs.config({\n            paths: {\n                'plotly': ['https://cdn.plot.ly/plotly-latest.min']\n            }\n        });\n        require(['plotly'], function(Plotly) {\n            window._Plotly = Plotly;\n        });\n        }\n        </script>\n        "
     },
     "metadata": {}
    },
    {
     "output_type": "display_data",
     "data": {
      "text/html": "        <script type=\"text/javascript\">\n        window.PlotlyConfig = {MathJaxConfig: 'local'};\n        if (window.MathJax) {MathJax.Hub.Config({SVG: {font: \"STIX-Web\"}});}\n        if (typeof require !== 'undefined') {\n        require.undef(\"plotly\");\n        requirejs.config({\n            paths: {\n                'plotly': ['https://cdn.plot.ly/plotly-latest.min']\n            }\n        });\n        require(['plotly'], function(Plotly) {\n            window._Plotly = Plotly;\n        });\n        }\n        </script>\n        "
     },
     "metadata": {}
    }
   ],
   "source": [
    "import pandas as pd\n",
    "import numpy as np\n",
    "\n",
    "# to work with json files and flatten them\n",
    "import json\n",
    "\n",
    "# for conversion to datetime\n",
    "import datetime\n",
    "\n",
    "# visualization\n",
    "import plotly\n",
    "import chart_studio.plotly as py\n",
    "import plotly.express as px\n",
    "import matplotlib.pyplot as plt\n",
    "import seaborn as sns\n",
    "import cufflinks as cf\n",
    "import plotly.graph_objects as go\n",
    "# to have plotly working in my notebook\n",
    "from plotly.offline import download_plotlyjs, init_notebook_mode, plot, iplot\n",
    "init_notebook_mode(connected=True)\n",
    "# to make everything work locally\n",
    "cf.go_offline()\n",
    "# to show everything on notebook\n",
    "%matplotlib inline"
   ]
  },
  {
   "cell_type": "code",
   "execution_count": 2,
   "metadata": {},
   "outputs": [],
   "source": [
    "# fullVisitorId- A unique identifier for each user of the Google Merchandise Store.\n",
    "# channelGrouping - The channel via which the user came to the Store.\n",
    "# date - The date on which the user visited the Store.\n",
    "# device - The specifications for the device used to access the Store.\n",
    "# geoNetwork - This section contains information about the geography of the user.\n",
    "# socialEngagementType - Engagement type, either \"Socially Engaged\" or \"Not Socially Engaged\".\n",
    "# totals - This section contains aggregate values across the session.\n",
    "# trafficSource - This section contains information about the Traffic Source from which the session originated.\n",
    "# visitId - An identifier for this session. This is part of the value usually stored as the _utmb cookie. This is only unique to the user. For a completely unique ID, you should use a combination of fullVisitorId and visitId.\n",
    "# visitNumber - The session number for this user. If this is the first session, then this is set to 1.\n",
    "# visitStartTime - The timestamp .\n",
    "# hits - This row and nested fields are populated for any and all types of hits. Provides a record of all page visits.\n",
    "# customDimensions - This section contains any user-level or session-level custom dimensions that are set for a session. This is a repeated field and has an entry for each dimension that is set.\n",
    "# totals - This set of columns mostly includes high-level aggregate data."
   ]
  },
  {
   "cell_type": "code",
   "execution_count": 2,
   "metadata": {},
   "outputs": [
    {
     "output_type": "stream",
     "name": "stderr",
     "text": [
      "C:\\Users\\Davide Della Valle\\anacondanew\\lib\\site-packages\\IPython\\core\\interactiveshell.py:3146: DtypeWarning:\n\nColumns (3) have mixed types.Specify dtype option on import or set low_memory=False.\n\n"
     ]
    }
   ],
   "source": [
    "df = pd.read_csv(r\"train.csv\")"
   ]
  },
  {
   "cell_type": "code",
   "execution_count": 3,
   "metadata": {},
   "outputs": [
    {
     "output_type": "execute_result",
     "data": {
      "text/plain": [
       "  channelGrouping      date  \\\n",
       "0  Organic Search  20160902   \n",
       "1  Organic Search  20160902   \n",
       "2  Organic Search  20160902   \n",
       "3  Organic Search  20160902   \n",
       "4  Organic Search  20160902   \n",
       "\n",
       "                                              device        fullVisitorId  \\\n",
       "0  {\"browser\": \"Chrome\", \"browserVersion\": \"not a...  1131660440785968503   \n",
       "1  {\"browser\": \"Firefox\", \"browserVersion\": \"not ...   377306020877927890   \n",
       "2  {\"browser\": \"Chrome\", \"browserVersion\": \"not a...  3895546263509774583   \n",
       "3  {\"browser\": \"UC Browser\", \"browserVersion\": \"n...  4763447161404445595   \n",
       "4  {\"browser\": \"Chrome\", \"browserVersion\": \"not a...    27294437909732085   \n",
       "\n",
       "                                          geoNetwork  \\\n",
       "0  {\"continent\": \"Asia\", \"subContinent\": \"Western...   \n",
       "1  {\"continent\": \"Oceania\", \"subContinent\": \"Aust...   \n",
       "2  {\"continent\": \"Europe\", \"subContinent\": \"South...   \n",
       "3  {\"continent\": \"Asia\", \"subContinent\": \"Southea...   \n",
       "4  {\"continent\": \"Europe\", \"subContinent\": \"North...   \n",
       "\n",
       "                        sessionId  socialEngagementType  \\\n",
       "0  1131660440785968503_1472830385  Not Socially Engaged   \n",
       "1   377306020877927890_1472880147  Not Socially Engaged   \n",
       "2  3895546263509774583_1472865386  Not Socially Engaged   \n",
       "3  4763447161404445595_1472881213  Not Socially Engaged   \n",
       "4    27294437909732085_1472822600  Not Socially Engaged   \n",
       "\n",
       "                                              totals  \\\n",
       "0  {\"visits\": \"1\", \"hits\": \"1\", \"pageviews\": \"1\",...   \n",
       "1  {\"visits\": \"1\", \"hits\": \"1\", \"pageviews\": \"1\",...   \n",
       "2  {\"visits\": \"1\", \"hits\": \"1\", \"pageviews\": \"1\",...   \n",
       "3  {\"visits\": \"1\", \"hits\": \"1\", \"pageviews\": \"1\",...   \n",
       "4  {\"visits\": \"1\", \"hits\": \"1\", \"pageviews\": \"1\",...   \n",
       "\n",
       "                                       trafficSource     visitId  visitNumber  \\\n",
       "0  {\"campaign\": \"(not set)\", \"source\": \"google\", ...  1472830385            1   \n",
       "1  {\"campaign\": \"(not set)\", \"source\": \"google\", ...  1472880147            1   \n",
       "2  {\"campaign\": \"(not set)\", \"source\": \"google\", ...  1472865386            1   \n",
       "3  {\"campaign\": \"(not set)\", \"source\": \"google\", ...  1472881213            1   \n",
       "4  {\"campaign\": \"(not set)\", \"source\": \"google\", ...  1472822600            2   \n",
       "\n",
       "   visitStartTime  \n",
       "0      1472830385  \n",
       "1      1472880147  \n",
       "2      1472865386  \n",
       "3      1472881213  \n",
       "4      1472822600  "
      ],
      "text/html": "<div>\n<style scoped>\n    .dataframe tbody tr th:only-of-type {\n        vertical-align: middle;\n    }\n\n    .dataframe tbody tr th {\n        vertical-align: top;\n    }\n\n    .dataframe thead th {\n        text-align: right;\n    }\n</style>\n<table border=\"1\" class=\"dataframe\">\n  <thead>\n    <tr style=\"text-align: right;\">\n      <th></th>\n      <th>channelGrouping</th>\n      <th>date</th>\n      <th>device</th>\n      <th>fullVisitorId</th>\n      <th>geoNetwork</th>\n      <th>sessionId</th>\n      <th>socialEngagementType</th>\n      <th>totals</th>\n      <th>trafficSource</th>\n      <th>visitId</th>\n      <th>visitNumber</th>\n      <th>visitStartTime</th>\n    </tr>\n  </thead>\n  <tbody>\n    <tr>\n      <th>0</th>\n      <td>Organic Search</td>\n      <td>20160902</td>\n      <td>{\"browser\": \"Chrome\", \"browserVersion\": \"not a...</td>\n      <td>1131660440785968503</td>\n      <td>{\"continent\": \"Asia\", \"subContinent\": \"Western...</td>\n      <td>1131660440785968503_1472830385</td>\n      <td>Not Socially Engaged</td>\n      <td>{\"visits\": \"1\", \"hits\": \"1\", \"pageviews\": \"1\",...</td>\n      <td>{\"campaign\": \"(not set)\", \"source\": \"google\", ...</td>\n      <td>1472830385</td>\n      <td>1</td>\n      <td>1472830385</td>\n    </tr>\n    <tr>\n      <th>1</th>\n      <td>Organic Search</td>\n      <td>20160902</td>\n      <td>{\"browser\": \"Firefox\", \"browserVersion\": \"not ...</td>\n      <td>377306020877927890</td>\n      <td>{\"continent\": \"Oceania\", \"subContinent\": \"Aust...</td>\n      <td>377306020877927890_1472880147</td>\n      <td>Not Socially Engaged</td>\n      <td>{\"visits\": \"1\", \"hits\": \"1\", \"pageviews\": \"1\",...</td>\n      <td>{\"campaign\": \"(not set)\", \"source\": \"google\", ...</td>\n      <td>1472880147</td>\n      <td>1</td>\n      <td>1472880147</td>\n    </tr>\n    <tr>\n      <th>2</th>\n      <td>Organic Search</td>\n      <td>20160902</td>\n      <td>{\"browser\": \"Chrome\", \"browserVersion\": \"not a...</td>\n      <td>3895546263509774583</td>\n      <td>{\"continent\": \"Europe\", \"subContinent\": \"South...</td>\n      <td>3895546263509774583_1472865386</td>\n      <td>Not Socially Engaged</td>\n      <td>{\"visits\": \"1\", \"hits\": \"1\", \"pageviews\": \"1\",...</td>\n      <td>{\"campaign\": \"(not set)\", \"source\": \"google\", ...</td>\n      <td>1472865386</td>\n      <td>1</td>\n      <td>1472865386</td>\n    </tr>\n    <tr>\n      <th>3</th>\n      <td>Organic Search</td>\n      <td>20160902</td>\n      <td>{\"browser\": \"UC Browser\", \"browserVersion\": \"n...</td>\n      <td>4763447161404445595</td>\n      <td>{\"continent\": \"Asia\", \"subContinent\": \"Southea...</td>\n      <td>4763447161404445595_1472881213</td>\n      <td>Not Socially Engaged</td>\n      <td>{\"visits\": \"1\", \"hits\": \"1\", \"pageviews\": \"1\",...</td>\n      <td>{\"campaign\": \"(not set)\", \"source\": \"google\", ...</td>\n      <td>1472881213</td>\n      <td>1</td>\n      <td>1472881213</td>\n    </tr>\n    <tr>\n      <th>4</th>\n      <td>Organic Search</td>\n      <td>20160902</td>\n      <td>{\"browser\": \"Chrome\", \"browserVersion\": \"not a...</td>\n      <td>27294437909732085</td>\n      <td>{\"continent\": \"Europe\", \"subContinent\": \"North...</td>\n      <td>27294437909732085_1472822600</td>\n      <td>Not Socially Engaged</td>\n      <td>{\"visits\": \"1\", \"hits\": \"1\", \"pageviews\": \"1\",...</td>\n      <td>{\"campaign\": \"(not set)\", \"source\": \"google\", ...</td>\n      <td>1472822600</td>\n      <td>2</td>\n      <td>1472822600</td>\n    </tr>\n  </tbody>\n</table>\n</div>"
     },
     "metadata": {},
     "execution_count": 3
    }
   ],
   "source": [
    "df.head()"
   ]
  },
  {
   "cell_type": "code",
   "execution_count": 4,
   "metadata": {},
   "outputs": [
    {
     "output_type": "execute_result",
     "data": {
      "text/plain": [
       "824839726118485274     205\n",
       "1957458976293878100    205\n",
       "1856749147915772585    151\n",
       "3608475193341679870    149\n",
       "7634897085866546110    131\n",
       "                      ... \n",
       "7366117530963039873     32\n",
       "4309363468347582056     32\n",
       "7137924127061500750     32\n",
       "7858365857178065663     31\n",
       "8436426603099391262     31\n",
       "Name: fullVisitorId, Length: 100, dtype: int64"
      ]
     },
     "metadata": {},
     "execution_count": 4
    }
   ],
   "source": [
    "# the fullVisitorId is a unique identifier for each user of the Google Merchandise Store\n",
    "# As shown below there are visitors visiting more than once, ant the number if unique visitors\n",
    "# ???? check relationship with purchase\n",
    "\n",
    "df.fullVisitorId.value_counts()[:100]"
   ]
  },
  {
   "cell_type": "code",
   "execution_count": 5,
   "metadata": {},
   "outputs": [
    {
     "output_type": "stream",
     "name": "stdout",
     "text": [
      "Number of unique visitors in df:  742735  out of rows :  903653\n"
     ]
    }
   ],
   "source": [
    "print(\"Number of unique visitors in df: \",df.fullVisitorId.nunique(), \" out of rows : \",df.shape[0])"
   ]
  },
  {
   "cell_type": "code",
   "execution_count": 6,
   "metadata": {},
   "outputs": [
    {
     "output_type": "execute_result",
     "data": {
      "text/plain": [
       "       channelGrouping      date  \\\n",
       "478864  Organic Search  20160810   \n",
       "478176  Organic Search  20160810   \n",
       "478367  Organic Search  20160810   \n",
       "11357   Organic Search  20160811   \n",
       "11005   Organic Search  20160811   \n",
       "...                ...       ...   \n",
       "6602           Display  20170623   \n",
       "41081          Display  20170630   \n",
       "466127         Display  20170711   \n",
       "64846          Display  20170801   \n",
       "64847          Display  20170801   \n",
       "\n",
       "                                                   device  \\\n",
       "478864  {\"browser\": \"Firefox\", \"browserVersion\": \"not ...   \n",
       "478176  {\"browser\": \"Firefox\", \"browserVersion\": \"not ...   \n",
       "478367  {\"browser\": \"Firefox\", \"browserVersion\": \"not ...   \n",
       "11357   {\"browser\": \"Firefox\", \"browserVersion\": \"not ...   \n",
       "11005   {\"browser\": \"Firefox\", \"browserVersion\": \"not ...   \n",
       "...                                                   ...   \n",
       "6602    {\"browser\": \"Firefox\", \"browserVersion\": \"not ...   \n",
       "41081   {\"browser\": \"Firefox\", \"browserVersion\": \"not ...   \n",
       "466127  {\"browser\": \"Firefox\", \"browserVersion\": \"not ...   \n",
       "64846   {\"browser\": \"Firefox\", \"browserVersion\": \"not ...   \n",
       "64847   {\"browser\": \"Firefox\", \"browserVersion\": \"not ...   \n",
       "\n",
       "              fullVisitorId  \\\n",
       "478864  1957458976293878100   \n",
       "478176  1957458976293878100   \n",
       "478367  1957458976293878100   \n",
       "11357   1957458976293878100   \n",
       "11005   1957458976293878100   \n",
       "...                     ...   \n",
       "6602    1957458976293878100   \n",
       "41081   1957458976293878100   \n",
       "466127  1957458976293878100   \n",
       "64846   1957458976293878100   \n",
       "64847   1957458976293878100   \n",
       "\n",
       "                                               geoNetwork  \\\n",
       "478864  {\"continent\": \"Americas\", \"subContinent\": \"Nor...   \n",
       "478176  {\"continent\": \"Americas\", \"subContinent\": \"Nor...   \n",
       "478367  {\"continent\": \"Americas\", \"subContinent\": \"Nor...   \n",
       "11357   {\"continent\": \"Americas\", \"subContinent\": \"Nor...   \n",
       "11005   {\"continent\": \"Americas\", \"subContinent\": \"Nor...   \n",
       "...                                                   ...   \n",
       "6602    {\"continent\": \"Americas\", \"subContinent\": \"Nor...   \n",
       "41081   {\"continent\": \"Americas\", \"subContinent\": \"Nor...   \n",
       "466127  {\"continent\": \"Americas\", \"subContinent\": \"Nor...   \n",
       "64846   {\"continent\": \"Americas\", \"subContinent\": \"Nor...   \n",
       "64847   {\"continent\": \"Americas\", \"subContinent\": \"Nor...   \n",
       "\n",
       "                             sessionId  socialEngagementType  \\\n",
       "478864  1957458976293878100_1470858691  Not Socially Engaged   \n",
       "478176  1957458976293878100_1470863775  Not Socially Engaged   \n",
       "478367  1957458976293878100_1470866550  Not Socially Engaged   \n",
       "11357   1957458976293878100_1470931824  Not Socially Engaged   \n",
       "11005   1957458976293878100_1470934753  Not Socially Engaged   \n",
       "...                                ...                   ...   \n",
       "6602    1957458976293878100_1498248064  Not Socially Engaged   \n",
       "41081   1957458976293878100_1498830593  Not Socially Engaged   \n",
       "466127  1957458976293878100_1499803210  Not Socially Engaged   \n",
       "64846   1957458976293878100_1501599019  Not Socially Engaged   \n",
       "64847   1957458976293878100_1501613885  Not Socially Engaged   \n",
       "\n",
       "                                                   totals  \\\n",
       "478864   {\"visits\": \"1\", \"hits\": \"20\", \"pageviews\": \"14\"}   \n",
       "478176     {\"visits\": \"1\", \"hits\": \"3\", \"pageviews\": \"3\"}   \n",
       "478367     {\"visits\": \"1\", \"hits\": \"6\", \"pageviews\": \"4\"}   \n",
       "11357    {\"visits\": \"1\", \"hits\": \"26\", \"pageviews\": \"18\"}   \n",
       "11005      {\"visits\": \"1\", \"hits\": \"7\", \"pageviews\": \"4\"}   \n",
       "...                                                   ...   \n",
       "6602     {\"visits\": \"1\", \"hits\": \"11\", \"pageviews\": \"11\"}   \n",
       "41081   {\"visits\": \"1\", \"hits\": \"42\", \"pageviews\": \"30...   \n",
       "466127     {\"visits\": \"1\", \"hits\": \"2\", \"pageviews\": \"2\"}   \n",
       "64846      {\"visits\": \"1\", \"hits\": \"3\", \"pageviews\": \"3\"}   \n",
       "64847      {\"visits\": \"1\", \"hits\": \"3\", \"pageviews\": \"3\"}   \n",
       "\n",
       "                                            trafficSource     visitId  \\\n",
       "478864  {\"campaign\": \"(not set)\", \"source\": \"google\", ...  1470858691   \n",
       "478176  {\"campaign\": \"(not set)\", \"source\": \"google\", ...  1470863775   \n",
       "478367  {\"campaign\": \"(not set)\", \"source\": \"google\", ...  1470866550   \n",
       "11357   {\"campaign\": \"(not set)\", \"source\": \"google\", ...  1470931824   \n",
       "11005   {\"campaign\": \"(not set)\", \"source\": \"google\", ...  1470934753   \n",
       "...                                                   ...         ...   \n",
       "6602    {\"campaign\": \"(not set)\", \"source\": \"dfa\", \"me...  1498248064   \n",
       "41081   {\"campaign\": \"(not set)\", \"source\": \"dfa\", \"me...  1498830593   \n",
       "466127  {\"campaign\": \"(not set)\", \"source\": \"dfa\", \"me...  1499803210   \n",
       "64846   {\"campaign\": \"(not set)\", \"source\": \"dfa\", \"me...  1501599019   \n",
       "64847   {\"campaign\": \"(not set)\", \"source\": \"dfa\", \"me...  1501613885   \n",
       "\n",
       "        visitNumber  visitStartTime  \n",
       "478864           42      1470858691  \n",
       "478176           43      1470863775  \n",
       "478367           44      1470866550  \n",
       "11357            45      1470931824  \n",
       "11005            46      1470934753  \n",
       "...             ...             ...  \n",
       "6602            309      1498248064  \n",
       "41081           315      1498830593  \n",
       "466127          320      1499803210  \n",
       "64846           325      1501599019  \n",
       "64847           326      1501613885  \n",
       "\n",
       "[73 rows x 12 columns]"
      ],
      "text/html": "<div>\n<style scoped>\n    .dataframe tbody tr th:only-of-type {\n        vertical-align: middle;\n    }\n\n    .dataframe tbody tr th {\n        vertical-align: top;\n    }\n\n    .dataframe thead th {\n        text-align: right;\n    }\n</style>\n<table border=\"1\" class=\"dataframe\">\n  <thead>\n    <tr style=\"text-align: right;\">\n      <th></th>\n      <th>channelGrouping</th>\n      <th>date</th>\n      <th>device</th>\n      <th>fullVisitorId</th>\n      <th>geoNetwork</th>\n      <th>sessionId</th>\n      <th>socialEngagementType</th>\n      <th>totals</th>\n      <th>trafficSource</th>\n      <th>visitId</th>\n      <th>visitNumber</th>\n      <th>visitStartTime</th>\n    </tr>\n  </thead>\n  <tbody>\n    <tr>\n      <th>478864</th>\n      <td>Organic Search</td>\n      <td>20160810</td>\n      <td>{\"browser\": \"Firefox\", \"browserVersion\": \"not ...</td>\n      <td>1957458976293878100</td>\n      <td>{\"continent\": \"Americas\", \"subContinent\": \"Nor...</td>\n      <td>1957458976293878100_1470858691</td>\n      <td>Not Socially Engaged</td>\n      <td>{\"visits\": \"1\", \"hits\": \"20\", \"pageviews\": \"14\"}</td>\n      <td>{\"campaign\": \"(not set)\", \"source\": \"google\", ...</td>\n      <td>1470858691</td>\n      <td>42</td>\n      <td>1470858691</td>\n    </tr>\n    <tr>\n      <th>478176</th>\n      <td>Organic Search</td>\n      <td>20160810</td>\n      <td>{\"browser\": \"Firefox\", \"browserVersion\": \"not ...</td>\n      <td>1957458976293878100</td>\n      <td>{\"continent\": \"Americas\", \"subContinent\": \"Nor...</td>\n      <td>1957458976293878100_1470863775</td>\n      <td>Not Socially Engaged</td>\n      <td>{\"visits\": \"1\", \"hits\": \"3\", \"pageviews\": \"3\"}</td>\n      <td>{\"campaign\": \"(not set)\", \"source\": \"google\", ...</td>\n      <td>1470863775</td>\n      <td>43</td>\n      <td>1470863775</td>\n    </tr>\n    <tr>\n      <th>478367</th>\n      <td>Organic Search</td>\n      <td>20160810</td>\n      <td>{\"browser\": \"Firefox\", \"browserVersion\": \"not ...</td>\n      <td>1957458976293878100</td>\n      <td>{\"continent\": \"Americas\", \"subContinent\": \"Nor...</td>\n      <td>1957458976293878100_1470866550</td>\n      <td>Not Socially Engaged</td>\n      <td>{\"visits\": \"1\", \"hits\": \"6\", \"pageviews\": \"4\"}</td>\n      <td>{\"campaign\": \"(not set)\", \"source\": \"google\", ...</td>\n      <td>1470866550</td>\n      <td>44</td>\n      <td>1470866550</td>\n    </tr>\n    <tr>\n      <th>11357</th>\n      <td>Organic Search</td>\n      <td>20160811</td>\n      <td>{\"browser\": \"Firefox\", \"browserVersion\": \"not ...</td>\n      <td>1957458976293878100</td>\n      <td>{\"continent\": \"Americas\", \"subContinent\": \"Nor...</td>\n      <td>1957458976293878100_1470931824</td>\n      <td>Not Socially Engaged</td>\n      <td>{\"visits\": \"1\", \"hits\": \"26\", \"pageviews\": \"18\"}</td>\n      <td>{\"campaign\": \"(not set)\", \"source\": \"google\", ...</td>\n      <td>1470931824</td>\n      <td>45</td>\n      <td>1470931824</td>\n    </tr>\n    <tr>\n      <th>11005</th>\n      <td>Organic Search</td>\n      <td>20160811</td>\n      <td>{\"browser\": \"Firefox\", \"browserVersion\": \"not ...</td>\n      <td>1957458976293878100</td>\n      <td>{\"continent\": \"Americas\", \"subContinent\": \"Nor...</td>\n      <td>1957458976293878100_1470934753</td>\n      <td>Not Socially Engaged</td>\n      <td>{\"visits\": \"1\", \"hits\": \"7\", \"pageviews\": \"4\"}</td>\n      <td>{\"campaign\": \"(not set)\", \"source\": \"google\", ...</td>\n      <td>1470934753</td>\n      <td>46</td>\n      <td>1470934753</td>\n    </tr>\n    <tr>\n      <th>...</th>\n      <td>...</td>\n      <td>...</td>\n      <td>...</td>\n      <td>...</td>\n      <td>...</td>\n      <td>...</td>\n      <td>...</td>\n      <td>...</td>\n      <td>...</td>\n      <td>...</td>\n      <td>...</td>\n      <td>...</td>\n    </tr>\n    <tr>\n      <th>6602</th>\n      <td>Display</td>\n      <td>20170623</td>\n      <td>{\"browser\": \"Firefox\", \"browserVersion\": \"not ...</td>\n      <td>1957458976293878100</td>\n      <td>{\"continent\": \"Americas\", \"subContinent\": \"Nor...</td>\n      <td>1957458976293878100_1498248064</td>\n      <td>Not Socially Engaged</td>\n      <td>{\"visits\": \"1\", \"hits\": \"11\", \"pageviews\": \"11\"}</td>\n      <td>{\"campaign\": \"(not set)\", \"source\": \"dfa\", \"me...</td>\n      <td>1498248064</td>\n      <td>309</td>\n      <td>1498248064</td>\n    </tr>\n    <tr>\n      <th>41081</th>\n      <td>Display</td>\n      <td>20170630</td>\n      <td>{\"browser\": \"Firefox\", \"browserVersion\": \"not ...</td>\n      <td>1957458976293878100</td>\n      <td>{\"continent\": \"Americas\", \"subContinent\": \"Nor...</td>\n      <td>1957458976293878100_1498830593</td>\n      <td>Not Socially Engaged</td>\n      <td>{\"visits\": \"1\", \"hits\": \"42\", \"pageviews\": \"30...</td>\n      <td>{\"campaign\": \"(not set)\", \"source\": \"dfa\", \"me...</td>\n      <td>1498830593</td>\n      <td>315</td>\n      <td>1498830593</td>\n    </tr>\n    <tr>\n      <th>466127</th>\n      <td>Display</td>\n      <td>20170711</td>\n      <td>{\"browser\": \"Firefox\", \"browserVersion\": \"not ...</td>\n      <td>1957458976293878100</td>\n      <td>{\"continent\": \"Americas\", \"subContinent\": \"Nor...</td>\n      <td>1957458976293878100_1499803210</td>\n      <td>Not Socially Engaged</td>\n      <td>{\"visits\": \"1\", \"hits\": \"2\", \"pageviews\": \"2\"}</td>\n      <td>{\"campaign\": \"(not set)\", \"source\": \"dfa\", \"me...</td>\n      <td>1499803210</td>\n      <td>320</td>\n      <td>1499803210</td>\n    </tr>\n    <tr>\n      <th>64846</th>\n      <td>Display</td>\n      <td>20170801</td>\n      <td>{\"browser\": \"Firefox\", \"browserVersion\": \"not ...</td>\n      <td>1957458976293878100</td>\n      <td>{\"continent\": \"Americas\", \"subContinent\": \"Nor...</td>\n      <td>1957458976293878100_1501599019</td>\n      <td>Not Socially Engaged</td>\n      <td>{\"visits\": \"1\", \"hits\": \"3\", \"pageviews\": \"3\"}</td>\n      <td>{\"campaign\": \"(not set)\", \"source\": \"dfa\", \"me...</td>\n      <td>1501599019</td>\n      <td>325</td>\n      <td>1501599019</td>\n    </tr>\n    <tr>\n      <th>64847</th>\n      <td>Display</td>\n      <td>20170801</td>\n      <td>{\"browser\": \"Firefox\", \"browserVersion\": \"not ...</td>\n      <td>1957458976293878100</td>\n      <td>{\"continent\": \"Americas\", \"subContinent\": \"Nor...</td>\n      <td>1957458976293878100_1501613885</td>\n      <td>Not Socially Engaged</td>\n      <td>{\"visits\": \"1\", \"hits\": \"3\", \"pageviews\": \"3\"}</td>\n      <td>{\"campaign\": \"(not set)\", \"source\": \"dfa\", \"me...</td>\n      <td>1501613885</td>\n      <td>326</td>\n      <td>1501613885</td>\n    </tr>\n  </tbody>\n</table>\n<p>73 rows × 12 columns</p>\n</div>"
     },
     "metadata": {},
     "execution_count": 6
    }
   ],
   "source": [
    "# SPECIFIC CUSTOMER BEHAVIOUR\n",
    "# the visitor ID 1957458976293878100 appears in the DF 205 times as reported from the previous value_counts. \n",
    "# It seems anyway that the same user has visited the Gstore 326 times as reported in visitNumber. The missing data might be in the test dataset or just not included in this samples.\n",
    "df[df.fullVisitorId == \"1957458976293878100\"].sort_values(by=[\"visitNumber\"])"
   ]
  },
  {
   "cell_type": "code",
   "execution_count": 7,
   "metadata": {},
   "outputs": [
    {
     "output_type": "execute_result",
     "data": {
      "text/plain": [
       "1      703060\n",
       "2       92548\n",
       "3       35843\n",
       "4       19157\n",
       "5       11615\n",
       "        ...  \n",
       "306         1\n",
       "349         1\n",
       "350         1\n",
       "351         1\n",
       "395         1\n",
       "Name: visitNumber, Length: 384, dtype: int64"
      ]
     },
     "metadata": {},
     "execution_count": 7
    }
   ],
   "source": [
    "df.visitNumber.value_counts()"
   ]
  },
  {
   "cell_type": "code",
   "execution_count": 8,
   "metadata": {},
   "outputs": [],
   "source": [
    "#list(df.totals.unique())"
   ]
  },
  {
   "cell_type": "code",
   "execution_count": 9,
   "metadata": {},
   "outputs": [
    {
     "output_type": "execute_result",
     "data": {
      "text/plain": [
       "(903653, 12)"
      ]
     },
     "metadata": {},
     "execution_count": 9
    }
   ],
   "source": [
    "df.shape"
   ]
  },
  {
   "cell_type": "code",
   "execution_count": 10,
   "metadata": {},
   "outputs": [
    {
     "output_type": "stream",
     "name": "stdout",
     "text": [
      "<class 'pandas.core.frame.DataFrame'>\nRangeIndex: 903653 entries, 0 to 903652\nData columns (total 12 columns):\n #   Column                Non-Null Count   Dtype \n---  ------                --------------   ----- \n 0   channelGrouping       903653 non-null  object\n 1   date                  903653 non-null  int64 \n 2   device                903653 non-null  object\n 3   fullVisitorId         903653 non-null  object\n 4   geoNetwork            903653 non-null  object\n 5   sessionId             903653 non-null  object\n 6   socialEngagementType  903653 non-null  object\n 7   totals                903653 non-null  object\n 8   trafficSource         903653 non-null  object\n 9   visitId               903653 non-null  int64 \n 10  visitNumber           903653 non-null  int64 \n 11  visitStartTime        903653 non-null  int64 \ndtypes: int64(4), object(8)\nmemory usage: 82.7+ MB\n"
     ]
    }
   ],
   "source": [
    "df.info()"
   ]
  },
  {
   "cell_type": "code",
   "execution_count": 8,
   "metadata": {},
   "outputs": [
    {
     "output_type": "stream",
     "name": "stderr",
     "text": [
      "C:\\Users\\Davide Della Valle\\anacondanew\\lib\\site-packages\\IPython\\core\\interactiveshell.py:3146: DtypeWarning: Columns (3) have mixed types.Specify dtype option on import or set low_memory=False.\n  has_raised = await self.run_ast_nodes(code_ast.body, cell_name,\n"
     ]
    }
   ],
   "source": [
    "df1 = pd.read_csv(r\"test.csv\")"
   ]
  },
  {
   "cell_type": "code",
   "execution_count": 9,
   "metadata": {},
   "outputs": [
    {
     "output_type": "execute_result",
     "data": {
      "text/plain": [
       "  channelGrouping      date  \\\n",
       "0  Organic Search  20171016   \n",
       "1  Organic Search  20171016   \n",
       "2  Organic Search  20171016   \n",
       "3  Organic Search  20171016   \n",
       "4  Organic Search  20171016   \n",
       "\n",
       "                                              device        fullVisitorId  \\\n",
       "0  {\"browser\": \"Chrome\", \"browserVersion\": \"not a...  6167871330617112363   \n",
       "1  {\"browser\": \"Chrome\", \"browserVersion\": \"not a...  0643697640977915618   \n",
       "2  {\"browser\": \"Chrome\", \"browserVersion\": \"not a...  6059383810968229466   \n",
       "3  {\"browser\": \"Safari\", \"browserVersion\": \"not a...  2376720078563423631   \n",
       "4  {\"browser\": \"Safari\", \"browserVersion\": \"not a...  2314544520795440038   \n",
       "\n",
       "                                          geoNetwork  \\\n",
       "0  {\"continent\": \"Asia\", \"subContinent\": \"Southea...   \n",
       "1  {\"continent\": \"Europe\", \"subContinent\": \"South...   \n",
       "2  {\"continent\": \"Europe\", \"subContinent\": \"Weste...   \n",
       "3  {\"continent\": \"Americas\", \"subContinent\": \"Nor...   \n",
       "4  {\"continent\": \"Americas\", \"subContinent\": \"Nor...   \n",
       "\n",
       "                        sessionId  socialEngagementType  \\\n",
       "0  6167871330617112363_1508151024  Not Socially Engaged   \n",
       "1  0643697640977915618_1508175522  Not Socially Engaged   \n",
       "2  6059383810968229466_1508143220  Not Socially Engaged   \n",
       "3  2376720078563423631_1508193530  Not Socially Engaged   \n",
       "4  2314544520795440038_1508217442  Not Socially Engaged   \n",
       "\n",
       "                                              totals  \\\n",
       "0     {\"visits\": \"1\", \"hits\": \"4\", \"pageviews\": \"4\"}   \n",
       "1  {\"visits\": \"1\", \"hits\": \"5\", \"pageviews\": \"5\",...   \n",
       "2  {\"visits\": \"1\", \"hits\": \"7\", \"pageviews\": \"7\",...   \n",
       "3  {\"visits\": \"1\", \"hits\": \"8\", \"pageviews\": \"4\",...   \n",
       "4  {\"visits\": \"1\", \"hits\": \"9\", \"pageviews\": \"4\",...   \n",
       "\n",
       "                                       trafficSource     visitId  visitNumber  \\\n",
       "0  {\"campaign\": \"(not set)\", \"source\": \"google\", ...  1508151024            2   \n",
       "1  {\"campaign\": \"(not set)\", \"source\": \"google\", ...  1508175522            1   \n",
       "2  {\"campaign\": \"(not set)\", \"source\": \"google\", ...  1508143220            1   \n",
       "3  {\"campaign\": \"(not set)\", \"source\": \"google\", ...  1508193530            1   \n",
       "4  {\"campaign\": \"(not set)\", \"source\": \"google\", ...  1508217442            1   \n",
       "\n",
       "   visitStartTime  \n",
       "0      1508151024  \n",
       "1      1508175522  \n",
       "2      1508143220  \n",
       "3      1508193530  \n",
       "4      1508217442  "
      ],
      "text/html": "<div>\n<style scoped>\n    .dataframe tbody tr th:only-of-type {\n        vertical-align: middle;\n    }\n\n    .dataframe tbody tr th {\n        vertical-align: top;\n    }\n\n    .dataframe thead th {\n        text-align: right;\n    }\n</style>\n<table border=\"1\" class=\"dataframe\">\n  <thead>\n    <tr style=\"text-align: right;\">\n      <th></th>\n      <th>channelGrouping</th>\n      <th>date</th>\n      <th>device</th>\n      <th>fullVisitorId</th>\n      <th>geoNetwork</th>\n      <th>sessionId</th>\n      <th>socialEngagementType</th>\n      <th>totals</th>\n      <th>trafficSource</th>\n      <th>visitId</th>\n      <th>visitNumber</th>\n      <th>visitStartTime</th>\n    </tr>\n  </thead>\n  <tbody>\n    <tr>\n      <th>0</th>\n      <td>Organic Search</td>\n      <td>20171016</td>\n      <td>{\"browser\": \"Chrome\", \"browserVersion\": \"not a...</td>\n      <td>6167871330617112363</td>\n      <td>{\"continent\": \"Asia\", \"subContinent\": \"Southea...</td>\n      <td>6167871330617112363_1508151024</td>\n      <td>Not Socially Engaged</td>\n      <td>{\"visits\": \"1\", \"hits\": \"4\", \"pageviews\": \"4\"}</td>\n      <td>{\"campaign\": \"(not set)\", \"source\": \"google\", ...</td>\n      <td>1508151024</td>\n      <td>2</td>\n      <td>1508151024</td>\n    </tr>\n    <tr>\n      <th>1</th>\n      <td>Organic Search</td>\n      <td>20171016</td>\n      <td>{\"browser\": \"Chrome\", \"browserVersion\": \"not a...</td>\n      <td>0643697640977915618</td>\n      <td>{\"continent\": \"Europe\", \"subContinent\": \"South...</td>\n      <td>0643697640977915618_1508175522</td>\n      <td>Not Socially Engaged</td>\n      <td>{\"visits\": \"1\", \"hits\": \"5\", \"pageviews\": \"5\",...</td>\n      <td>{\"campaign\": \"(not set)\", \"source\": \"google\", ...</td>\n      <td>1508175522</td>\n      <td>1</td>\n      <td>1508175522</td>\n    </tr>\n    <tr>\n      <th>2</th>\n      <td>Organic Search</td>\n      <td>20171016</td>\n      <td>{\"browser\": \"Chrome\", \"browserVersion\": \"not a...</td>\n      <td>6059383810968229466</td>\n      <td>{\"continent\": \"Europe\", \"subContinent\": \"Weste...</td>\n      <td>6059383810968229466_1508143220</td>\n      <td>Not Socially Engaged</td>\n      <td>{\"visits\": \"1\", \"hits\": \"7\", \"pageviews\": \"7\",...</td>\n      <td>{\"campaign\": \"(not set)\", \"source\": \"google\", ...</td>\n      <td>1508143220</td>\n      <td>1</td>\n      <td>1508143220</td>\n    </tr>\n    <tr>\n      <th>3</th>\n      <td>Organic Search</td>\n      <td>20171016</td>\n      <td>{\"browser\": \"Safari\", \"browserVersion\": \"not a...</td>\n      <td>2376720078563423631</td>\n      <td>{\"continent\": \"Americas\", \"subContinent\": \"Nor...</td>\n      <td>2376720078563423631_1508193530</td>\n      <td>Not Socially Engaged</td>\n      <td>{\"visits\": \"1\", \"hits\": \"8\", \"pageviews\": \"4\",...</td>\n      <td>{\"campaign\": \"(not set)\", \"source\": \"google\", ...</td>\n      <td>1508193530</td>\n      <td>1</td>\n      <td>1508193530</td>\n    </tr>\n    <tr>\n      <th>4</th>\n      <td>Organic Search</td>\n      <td>20171016</td>\n      <td>{\"browser\": \"Safari\", \"browserVersion\": \"not a...</td>\n      <td>2314544520795440038</td>\n      <td>{\"continent\": \"Americas\", \"subContinent\": \"Nor...</td>\n      <td>2314544520795440038_1508217442</td>\n      <td>Not Socially Engaged</td>\n      <td>{\"visits\": \"1\", \"hits\": \"9\", \"pageviews\": \"4\",...</td>\n      <td>{\"campaign\": \"(not set)\", \"source\": \"google\", ...</td>\n      <td>1508217442</td>\n      <td>1</td>\n      <td>1508217442</td>\n    </tr>\n  </tbody>\n</table>\n</div>"
     },
     "metadata": {},
     "execution_count": 9
    }
   ],
   "source": [
    "df1.head()"
   ]
  },
  {
   "cell_type": "code",
   "execution_count": 10,
   "metadata": {},
   "outputs": [
    {
     "output_type": "execute_result",
     "data": {
      "text/plain": [
       "(804684, 12)"
      ]
     },
     "metadata": {},
     "execution_count": 10
    }
   ],
   "source": [
    "df1.shape"
   ]
  },
  {
   "cell_type": "code",
   "execution_count": 11,
   "metadata": {},
   "outputs": [
    {
     "output_type": "execute_result",
     "data": {
      "text/plain": [
       "channelGrouping         0\n",
       "date                    0\n",
       "device                  0\n",
       "fullVisitorId           0\n",
       "geoNetwork              0\n",
       "sessionId               0\n",
       "socialEngagementType    0\n",
       "totals                  0\n",
       "trafficSource           0\n",
       "visitId                 0\n",
       "visitNumber             0\n",
       "visitStartTime          0\n",
       "dtype: int64"
      ]
     },
     "metadata": {},
     "execution_count": 11
    }
   ],
   "source": [
    "df1.isnull().sum()"
   ]
  },
  {
   "cell_type": "code",
   "execution_count": 11,
   "metadata": {},
   "outputs": [
    {
     "output_type": "execute_result",
     "data": {
      "text/plain": [
       "  channelGrouping      date  \\\n",
       "0  Organic Search  20170207   \n",
       "1          Direct  20170106   \n",
       "2  Organic Search  20170719   \n",
       "3  Organic Search  20170613   \n",
       "4  Organic Search  20170307   \n",
       "\n",
       "                                              device        fullVisitorId  \\\n",
       "0  {\"browser\": \"Chrome\", \"browserVersion\": \"not a...  8976566381269660728   \n",
       "1  {\"browser\": \"Safari (in-app)\", \"browserVersion...  7319596394587630173   \n",
       "2  {\"browser\": \"Chrome\", \"browserVersion\": \"not a...   775460097706595900   \n",
       "3  {\"browser\": \"Firefox\", \"browserVersion\": \"not ...  2010538967358078662   \n",
       "4  {\"browser\": \"Chrome\", \"browserVersion\": \"not a...  1673796291795144112   \n",
       "\n",
       "                                          geoNetwork  \\\n",
       "0  {\"continent\": \"Americas\", \"subContinent\": \"Sou...   \n",
       "1  {\"continent\": \"Europe\", \"subContinent\": \"Weste...   \n",
       "2  {\"continent\": \"Americas\", \"subContinent\": \"Nor...   \n",
       "3  {\"continent\": \"Asia\", \"subContinent\": \"Souther...   \n",
       "4  {\"continent\": \"Americas\", \"subContinent\": \"Nor...   \n",
       "\n",
       "                        sessionId  socialEngagementType  \\\n",
       "0  8976566381269660728_1486523056  Not Socially Engaged   \n",
       "1  7319596394587630173_1483726650  Not Socially Engaged   \n",
       "2  0775460097706595900_1500511815  Not Socially Engaged   \n",
       "3  2010538967358078662_1497376758  Not Socially Engaged   \n",
       "4  1673796291795144112_1488959551  Not Socially Engaged   \n",
       "\n",
       "                                              totals  \\\n",
       "0  {\"visits\": \"1\", \"hits\": \"1\", \"pageviews\": \"1\",...   \n",
       "1  {\"visits\": \"1\", \"hits\": \"1\", \"pageviews\": \"1\",...   \n",
       "2  {\"visits\": \"1\", \"hits\": \"1\", \"pageviews\": \"1\",...   \n",
       "3  {\"visits\": \"1\", \"hits\": \"1\", \"pageviews\": \"1\",...   \n",
       "4  {\"visits\": \"1\", \"hits\": \"2\", \"pageviews\": \"2\",...   \n",
       "\n",
       "                                       trafficSource     visitId  visitNumber  \\\n",
       "0  {\"campaign\": \"(not set)\", \"source\": \"google\", ...  1486523056            2   \n",
       "1  {\"campaign\": \"(not set)\", \"source\": \"(direct)\"...  1483726650            1   \n",
       "2  {\"campaign\": \"(not set)\", \"source\": \"google\", ...  1500511815            4   \n",
       "3  {\"campaign\": \"(not set)\", \"source\": \"google\", ...  1497376758            1   \n",
       "4  {\"campaign\": \"(not set)\", \"source\": \"google\", ...  1488959551            1   \n",
       "\n",
       "   visitStartTime  \n",
       "0      1486523056  \n",
       "1      1483726650  \n",
       "2      1500511815  \n",
       "3      1497376758  \n",
       "4      1488959551  "
      ],
      "text/html": "<div>\n<style scoped>\n    .dataframe tbody tr th:only-of-type {\n        vertical-align: middle;\n    }\n\n    .dataframe tbody tr th {\n        vertical-align: top;\n    }\n\n    .dataframe thead th {\n        text-align: right;\n    }\n</style>\n<table border=\"1\" class=\"dataframe\">\n  <thead>\n    <tr style=\"text-align: right;\">\n      <th></th>\n      <th>channelGrouping</th>\n      <th>date</th>\n      <th>device</th>\n      <th>fullVisitorId</th>\n      <th>geoNetwork</th>\n      <th>sessionId</th>\n      <th>socialEngagementType</th>\n      <th>totals</th>\n      <th>trafficSource</th>\n      <th>visitId</th>\n      <th>visitNumber</th>\n      <th>visitStartTime</th>\n    </tr>\n  </thead>\n  <tbody>\n    <tr>\n      <th>0</th>\n      <td>Organic Search</td>\n      <td>20170207</td>\n      <td>{\"browser\": \"Chrome\", \"browserVersion\": \"not a...</td>\n      <td>8976566381269660728</td>\n      <td>{\"continent\": \"Americas\", \"subContinent\": \"Sou...</td>\n      <td>8976566381269660728_1486523056</td>\n      <td>Not Socially Engaged</td>\n      <td>{\"visits\": \"1\", \"hits\": \"1\", \"pageviews\": \"1\",...</td>\n      <td>{\"campaign\": \"(not set)\", \"source\": \"google\", ...</td>\n      <td>1486523056</td>\n      <td>2</td>\n      <td>1486523056</td>\n    </tr>\n    <tr>\n      <th>1</th>\n      <td>Direct</td>\n      <td>20170106</td>\n      <td>{\"browser\": \"Safari (in-app)\", \"browserVersion...</td>\n      <td>7319596394587630173</td>\n      <td>{\"continent\": \"Europe\", \"subContinent\": \"Weste...</td>\n      <td>7319596394587630173_1483726650</td>\n      <td>Not Socially Engaged</td>\n      <td>{\"visits\": \"1\", \"hits\": \"1\", \"pageviews\": \"1\",...</td>\n      <td>{\"campaign\": \"(not set)\", \"source\": \"(direct)\"...</td>\n      <td>1483726650</td>\n      <td>1</td>\n      <td>1483726650</td>\n    </tr>\n    <tr>\n      <th>2</th>\n      <td>Organic Search</td>\n      <td>20170719</td>\n      <td>{\"browser\": \"Chrome\", \"browserVersion\": \"not a...</td>\n      <td>775460097706595900</td>\n      <td>{\"continent\": \"Americas\", \"subContinent\": \"Nor...</td>\n      <td>0775460097706595900_1500511815</td>\n      <td>Not Socially Engaged</td>\n      <td>{\"visits\": \"1\", \"hits\": \"1\", \"pageviews\": \"1\",...</td>\n      <td>{\"campaign\": \"(not set)\", \"source\": \"google\", ...</td>\n      <td>1500511815</td>\n      <td>4</td>\n      <td>1500511815</td>\n    </tr>\n    <tr>\n      <th>3</th>\n      <td>Organic Search</td>\n      <td>20170613</td>\n      <td>{\"browser\": \"Firefox\", \"browserVersion\": \"not ...</td>\n      <td>2010538967358078662</td>\n      <td>{\"continent\": \"Asia\", \"subContinent\": \"Souther...</td>\n      <td>2010538967358078662_1497376758</td>\n      <td>Not Socially Engaged</td>\n      <td>{\"visits\": \"1\", \"hits\": \"1\", \"pageviews\": \"1\",...</td>\n      <td>{\"campaign\": \"(not set)\", \"source\": \"google\", ...</td>\n      <td>1497376758</td>\n      <td>1</td>\n      <td>1497376758</td>\n    </tr>\n    <tr>\n      <th>4</th>\n      <td>Organic Search</td>\n      <td>20170307</td>\n      <td>{\"browser\": \"Chrome\", \"browserVersion\": \"not a...</td>\n      <td>1673796291795144112</td>\n      <td>{\"continent\": \"Americas\", \"subContinent\": \"Nor...</td>\n      <td>1673796291795144112_1488959551</td>\n      <td>Not Socially Engaged</td>\n      <td>{\"visits\": \"1\", \"hits\": \"2\", \"pageviews\": \"2\",...</td>\n      <td>{\"campaign\": \"(not set)\", \"source\": \"google\", ...</td>\n      <td>1488959551</td>\n      <td>1</td>\n      <td>1488959551</td>\n    </tr>\n  </tbody>\n</table>\n</div>"
     },
     "metadata": {},
     "execution_count": 11
    }
   ],
   "source": [
    "# the dataset is too heavy therefore I have decided to reduce the amount of rows to 50,000, it will be around 80 MB and will be possible for uploading on github as well\n",
    "# I am reshuffling the rows as well to make sure that different samples are present in the new DF\n",
    "# ????? column totals contains data on revenue, in my sample just 1000 records out of 50000 are showing revenue. \n",
    "# Note: I have resampled the DF and now the records with revenue are less than 700, How should I deal with it? Teh question is should I have a defined number of revenue records? like 10% ore less? The scope of the dataset is to the predict transactions for the period December 1st 2018 through January 31st 2019....Prophet(time series)?\n",
    "# the actual project wants to make prediction of the visitors included in the column fullVisitorId listed in sample_submission_v2.csv.\n",
    "\n",
    "new = df.sample(frac = 1).head(60000)\n",
    "new.reset_index(drop=True,inplace=True)\n",
    "new.head()"
   ]
  },
  {
   "cell_type": "code",
   "execution_count": 12,
   "metadata": {},
   "outputs": [
    {
     "output_type": "execute_result",
     "data": {
      "text/plain": [
       "(60000, 12)"
      ]
     },
     "metadata": {},
     "execution_count": 12
    }
   ],
   "source": [
    "new.shape"
   ]
  },
  {
   "cell_type": "code",
   "execution_count": 13,
   "metadata": {},
   "outputs": [
    {
     "output_type": "execute_result",
     "data": {
      "text/plain": [
       "'{\"browser\": \"Chrome\", \"browserVersion\": \"not available in demo dataset\", \"browserSize\": \"not available in demo dataset\", \"operatingSystem\": \"iOS\", \"operatingSystemVersion\": \"not available in demo dataset\", \"isMobile\": true, \"mobileDeviceBranding\": \"not available in demo dataset\", \"mobileDeviceModel\": \"not available in demo dataset\", \"mobileInputSelector\": \"not available in demo dataset\", \"mobileDeviceInfo\": \"not available in demo dataset\", \"mobileDeviceMarketingName\": \"not available in demo dataset\", \"flashVersion\": \"not available in demo dataset\", \"language\": \"not available in demo dataset\", \"screenColors\": \"not available in demo dataset\", \"screenResolution\": \"not available in demo dataset\", \"deviceCategory\": \"mobile\"}'"
      ]
     },
     "metadata": {},
     "execution_count": 13
    }
   ],
   "source": [
    "# have a quick look at the different json columns and what they enclose\n",
    "\n",
    "new.device[0]"
   ]
  },
  {
   "cell_type": "code",
   "execution_count": 14,
   "metadata": {},
   "outputs": [
    {
     "output_type": "execute_result",
     "data": {
      "text/plain": [
       "'{\"continent\": \"Americas\", \"subContinent\": \"South America\", \"country\": \"Argentina\", \"region\": \"not available in demo dataset\", \"metro\": \"not available in demo dataset\", \"city\": \"not available in demo dataset\", \"cityId\": \"not available in demo dataset\", \"networkDomain\": \"fibertel.com.ar\", \"latitude\": \"not available in demo dataset\", \"longitude\": \"not available in demo dataset\", \"networkLocation\": \"not available in demo dataset\"}'"
      ]
     },
     "metadata": {},
     "execution_count": 14
    }
   ],
   "source": [
    "new.geoNetwork[0]"
   ]
  },
  {
   "cell_type": "code",
   "execution_count": 15,
   "metadata": {},
   "outputs": [
    {
     "output_type": "execute_result",
     "data": {
      "text/plain": [
       "'{\"visits\": \"1\", \"hits\": \"1\", \"pageviews\": \"1\", \"bounces\": \"1\", \"newVisits\": \"1\"}'"
      ]
     },
     "metadata": {},
     "execution_count": 15
    }
   ],
   "source": [
    "new.totals[6]"
   ]
  },
  {
   "cell_type": "code",
   "execution_count": 16,
   "metadata": {},
   "outputs": [
    {
     "output_type": "execute_result",
     "data": {
      "text/plain": [
       "'{\"campaign\": \"(not set)\", \"source\": \"google\", \"medium\": \"organic\", \"keyword\": \"(not provided)\", \"adwordsClickInfo\": {\"criteriaParameters\": \"not available in demo dataset\"}, \"isTrueDirect\": true}'"
      ]
     },
     "metadata": {},
     "execution_count": 16
    }
   ],
   "source": [
    "new.trafficSource[0]"
   ]
  },
  {
   "cell_type": "code",
   "execution_count": 17,
   "metadata": {},
   "outputs": [
    {
     "output_type": "execute_result",
     "data": {
      "text/plain": [
       "20170207"
      ]
     },
     "metadata": {},
     "execution_count": 17
    }
   ],
   "source": [
    "new.date[0]"
   ]
  },
  {
   "cell_type": "code",
   "execution_count": 18,
   "metadata": {},
   "outputs": [],
   "source": [
    "# convert integer to datetime\n",
    "\n",
    "new.date = pd.to_datetime(new.date,format=\"%Y%m%d\")"
   ]
  },
  {
   "cell_type": "code",
   "execution_count": 19,
   "metadata": {},
   "outputs": [],
   "source": [
    "# new.to_csv(r\"new.csv\")"
   ]
  },
  {
   "cell_type": "code",
   "execution_count": null,
   "metadata": {},
   "outputs": [],
   "source": [
    "new = pd.read_csv(r\"new.csv\")"
   ]
  },
  {
   "cell_type": "code",
   "execution_count": 44,
   "metadata": {},
   "outputs": [],
   "source": [
    "# 1 QUESTION: how to write this code??\n",
    "# \n",
    "# \n",
    "# def load_df(csv_path):\n",
    "#     JSON_COLUMNS = ['device', 'geoNetwork', 'totals', 'trafficSource']\n",
    "    \n",
    "#     df = pd.read_csv(csv_path, \n",
    "#                      converters={column: json.loads for column in JSON_COLUMNS}, \n",
    "#                      dtype={'fullVisitorId': 'str'}\n",
    "#                      )\n",
    "    \n",
    "#     for column in JSON_COLUMNS:\n",
    "#         column_as_df = json_normalize(df[column])\n",
    "#         column_as_df.columns = [f\"{column}.{subcolumn}\" for subcolumn in column_as_df.columns]\n",
    "#         df = df.drop(column, axis=1).merge(column_as_df, right_index=True, left_index=True)\n",
    "#     print(f\"Loaded {os.path.basename(csv_path)}. Shape: {df.shape}\")\n",
    "#     return df"
   ]
  },
  {
   "cell_type": "code",
   "execution_count": 20,
   "metadata": {},
   "outputs": [
    {
     "output_type": "execute_result",
     "data": {
      "text/plain": [
       "0        {\"browser\": \"Chrome\", \"browserVersion\": \"not a...\n",
       "1        {\"browser\": \"Safari (in-app)\", \"browserVersion...\n",
       "2        {\"browser\": \"Chrome\", \"browserVersion\": \"not a...\n",
       "3        {\"browser\": \"Firefox\", \"browserVersion\": \"not ...\n",
       "4        {\"browser\": \"Chrome\", \"browserVersion\": \"not a...\n",
       "                               ...                        \n",
       "59995    {\"browser\": \"Chrome\", \"browserVersion\": \"not a...\n",
       "59996    {\"browser\": \"Chrome\", \"browserVersion\": \"not a...\n",
       "59997    {\"browser\": \"Safari\", \"browserVersion\": \"not a...\n",
       "59998    {\"browser\": \"Chrome\", \"browserVersion\": \"not a...\n",
       "59999    {\"browser\": \"Chrome\", \"browserVersion\": \"not a...\n",
       "Name: device, Length: 60000, dtype: object"
      ]
     },
     "metadata": {},
     "execution_count": 20
    }
   ],
   "source": [
    "# there are several columns in form of json files, dictionaries which I will need to convert to create one final DF\n",
    "\n",
    "new.device"
   ]
  },
  {
   "cell_type": "code",
   "execution_count": 21,
   "metadata": {},
   "outputs": [],
   "source": [
    "# creating new df with just the device column to check if lambda function with json.loads works correctly\n",
    "device = new.device"
   ]
  },
  {
   "cell_type": "code",
   "execution_count": 47,
   "metadata": {},
   "outputs": [
    {
     "output_type": "execute_result",
     "data": {
      "text/plain": [
       "  browser                 browserVersion                    browserSize  \\\n",
       "0  Safari  not available in demo dataset  not available in demo dataset   \n",
       "1  Safari  not available in demo dataset  not available in demo dataset   \n",
       "2  Chrome  not available in demo dataset  not available in demo dataset   \n",
       "3  Chrome  not available in demo dataset  not available in demo dataset   \n",
       "4  Chrome  not available in demo dataset  not available in demo dataset   \n",
       "\n",
       "  operatingSystem         operatingSystemVersion  isMobile  \\\n",
       "0             iOS  not available in demo dataset      True   \n",
       "1       Macintosh  not available in demo dataset     False   \n",
       "2         Windows  not available in demo dataset     False   \n",
       "3         Windows  not available in demo dataset     False   \n",
       "4       Macintosh  not available in demo dataset     False   \n",
       "\n",
       "            mobileDeviceBranding              mobileDeviceModel  \\\n",
       "0  not available in demo dataset  not available in demo dataset   \n",
       "1  not available in demo dataset  not available in demo dataset   \n",
       "2  not available in demo dataset  not available in demo dataset   \n",
       "3  not available in demo dataset  not available in demo dataset   \n",
       "4  not available in demo dataset  not available in demo dataset   \n",
       "\n",
       "             mobileInputSelector               mobileDeviceInfo  \\\n",
       "0  not available in demo dataset  not available in demo dataset   \n",
       "1  not available in demo dataset  not available in demo dataset   \n",
       "2  not available in demo dataset  not available in demo dataset   \n",
       "3  not available in demo dataset  not available in demo dataset   \n",
       "4  not available in demo dataset  not available in demo dataset   \n",
       "\n",
       "       mobileDeviceMarketingName                   flashVersion  \\\n",
       "0  not available in demo dataset  not available in demo dataset   \n",
       "1  not available in demo dataset  not available in demo dataset   \n",
       "2  not available in demo dataset  not available in demo dataset   \n",
       "3  not available in demo dataset  not available in demo dataset   \n",
       "4  not available in demo dataset  not available in demo dataset   \n",
       "\n",
       "                        language                   screenColors  \\\n",
       "0  not available in demo dataset  not available in demo dataset   \n",
       "1  not available in demo dataset  not available in demo dataset   \n",
       "2  not available in demo dataset  not available in demo dataset   \n",
       "3  not available in demo dataset  not available in demo dataset   \n",
       "4  not available in demo dataset  not available in demo dataset   \n",
       "\n",
       "                screenResolution deviceCategory  \n",
       "0  not available in demo dataset         tablet  \n",
       "1  not available in demo dataset        desktop  \n",
       "2  not available in demo dataset        desktop  \n",
       "3  not available in demo dataset        desktop  \n",
       "4  not available in demo dataset        desktop  "
      ],
      "text/html": "<div>\n<style scoped>\n    .dataframe tbody tr th:only-of-type {\n        vertical-align: middle;\n    }\n\n    .dataframe tbody tr th {\n        vertical-align: top;\n    }\n\n    .dataframe thead th {\n        text-align: right;\n    }\n</style>\n<table border=\"1\" class=\"dataframe\">\n  <thead>\n    <tr style=\"text-align: right;\">\n      <th></th>\n      <th>browser</th>\n      <th>browserVersion</th>\n      <th>browserSize</th>\n      <th>operatingSystem</th>\n      <th>operatingSystemVersion</th>\n      <th>isMobile</th>\n      <th>mobileDeviceBranding</th>\n      <th>mobileDeviceModel</th>\n      <th>mobileInputSelector</th>\n      <th>mobileDeviceInfo</th>\n      <th>mobileDeviceMarketingName</th>\n      <th>flashVersion</th>\n      <th>language</th>\n      <th>screenColors</th>\n      <th>screenResolution</th>\n      <th>deviceCategory</th>\n    </tr>\n  </thead>\n  <tbody>\n    <tr>\n      <th>0</th>\n      <td>Safari</td>\n      <td>not available in demo dataset</td>\n      <td>not available in demo dataset</td>\n      <td>iOS</td>\n      <td>not available in demo dataset</td>\n      <td>True</td>\n      <td>not available in demo dataset</td>\n      <td>not available in demo dataset</td>\n      <td>not available in demo dataset</td>\n      <td>not available in demo dataset</td>\n      <td>not available in demo dataset</td>\n      <td>not available in demo dataset</td>\n      <td>not available in demo dataset</td>\n      <td>not available in demo dataset</td>\n      <td>not available in demo dataset</td>\n      <td>tablet</td>\n    </tr>\n    <tr>\n      <th>1</th>\n      <td>Safari</td>\n      <td>not available in demo dataset</td>\n      <td>not available in demo dataset</td>\n      <td>Macintosh</td>\n      <td>not available in demo dataset</td>\n      <td>False</td>\n      <td>not available in demo dataset</td>\n      <td>not available in demo dataset</td>\n      <td>not available in demo dataset</td>\n      <td>not available in demo dataset</td>\n      <td>not available in demo dataset</td>\n      <td>not available in demo dataset</td>\n      <td>not available in demo dataset</td>\n      <td>not available in demo dataset</td>\n      <td>not available in demo dataset</td>\n      <td>desktop</td>\n    </tr>\n    <tr>\n      <th>2</th>\n      <td>Chrome</td>\n      <td>not available in demo dataset</td>\n      <td>not available in demo dataset</td>\n      <td>Windows</td>\n      <td>not available in demo dataset</td>\n      <td>False</td>\n      <td>not available in demo dataset</td>\n      <td>not available in demo dataset</td>\n      <td>not available in demo dataset</td>\n      <td>not available in demo dataset</td>\n      <td>not available in demo dataset</td>\n      <td>not available in demo dataset</td>\n      <td>not available in demo dataset</td>\n      <td>not available in demo dataset</td>\n      <td>not available in demo dataset</td>\n      <td>desktop</td>\n    </tr>\n    <tr>\n      <th>3</th>\n      <td>Chrome</td>\n      <td>not available in demo dataset</td>\n      <td>not available in demo dataset</td>\n      <td>Windows</td>\n      <td>not available in demo dataset</td>\n      <td>False</td>\n      <td>not available in demo dataset</td>\n      <td>not available in demo dataset</td>\n      <td>not available in demo dataset</td>\n      <td>not available in demo dataset</td>\n      <td>not available in demo dataset</td>\n      <td>not available in demo dataset</td>\n      <td>not available in demo dataset</td>\n      <td>not available in demo dataset</td>\n      <td>not available in demo dataset</td>\n      <td>desktop</td>\n    </tr>\n    <tr>\n      <th>4</th>\n      <td>Chrome</td>\n      <td>not available in demo dataset</td>\n      <td>not available in demo dataset</td>\n      <td>Macintosh</td>\n      <td>not available in demo dataset</td>\n      <td>False</td>\n      <td>not available in demo dataset</td>\n      <td>not available in demo dataset</td>\n      <td>not available in demo dataset</td>\n      <td>not available in demo dataset</td>\n      <td>not available in demo dataset</td>\n      <td>not available in demo dataset</td>\n      <td>not available in demo dataset</td>\n      <td>not available in demo dataset</td>\n      <td>not available in demo dataset</td>\n      <td>desktop</td>\n    </tr>\n  </tbody>\n</table>\n</div>"
     },
     "metadata": {},
     "execution_count": 47
    }
   ],
   "source": [
    "# it works\n",
    "\n",
    "device = device.apply(lambda x: pd.Series(json.loads(x)))\n",
    "device.head()"
   ]
  },
  {
   "cell_type": "code",
   "execution_count": 48,
   "metadata": {},
   "outputs": [
    {
     "output_type": "execute_result",
     "data": {
      "text/plain": [
       "(50000, 16)"
      ]
     },
     "metadata": {},
     "execution_count": 48
    }
   ],
   "source": [
    "device.shape"
   ]
  },
  {
   "cell_type": "code",
   "execution_count": 162,
   "metadata": {},
   "outputs": [],
   "source": [
    "# apply json.loads to all columns with json files to extract them and create new DFs for further exploration\n",
    "# The columns will be explored one by one to understand the behaviour of visitors of GStore website\n",
    "# analyse all new DFs to drop columns with several missing data or columns that are not relevant for my research.\n",
    "\n",
    "# device = new.device.apply(lambda x: pd.Series(json.loads(x)))\n",
    "# geoNetwork = new.geoNetwork.apply(lambda x: pd.Series(json.loads(x)))\n",
    "totals = new.totals.apply(lambda x: pd.Series(json.loads(x)))\n",
    "# trafficSource = new.trafficSource.apply(lambda x: pd.Series(json.loads(x)))"
   ]
  },
  {
   "cell_type": "code",
   "execution_count": 23,
   "metadata": {},
   "outputs": [
    {
     "output_type": "execute_result",
     "data": {
      "text/plain": [
       "      continent      subContinent        country  \\\n",
       "0      Americas     South America      Argentina   \n",
       "1        Europe    Western Europe    Netherlands   \n",
       "2      Americas  Northern America  United States   \n",
       "3          Asia     Southern Asia          India   \n",
       "4      Americas  Northern America  United States   \n",
       "...         ...               ...            ...   \n",
       "59995  Americas  Northern America  United States   \n",
       "59996  Americas  Northern America  United States   \n",
       "59997  Americas  Northern America  United States   \n",
       "59998  Americas     South America         Brazil   \n",
       "59999  Americas     South America         Brazil   \n",
       "\n",
       "                              region                          metro  \\\n",
       "0      not available in demo dataset  not available in demo dataset   \n",
       "1      not available in demo dataset  not available in demo dataset   \n",
       "2                         California                   San Diego CA   \n",
       "3                        Maharashtra                      (not set)   \n",
       "4      not available in demo dataset  not available in demo dataset   \n",
       "...                              ...                            ...   \n",
       "59995           District of Columbia  Washington DC (Hagerstown MD)   \n",
       "59996  not available in demo dataset  not available in demo dataset   \n",
       "59997  not available in demo dataset  not available in demo dataset   \n",
       "59998             State of Sao Paulo                      (not set)   \n",
       "59999                State of Parana                      (not set)   \n",
       "\n",
       "                                city                         cityId  \\\n",
       "0      not available in demo dataset  not available in demo dataset   \n",
       "1      not available in demo dataset  not available in demo dataset   \n",
       "2                          San Diego  not available in demo dataset   \n",
       "3                             Mumbai  not available in demo dataset   \n",
       "4      not available in demo dataset  not available in demo dataset   \n",
       "...                              ...                            ...   \n",
       "59995                     Washington  not available in demo dataset   \n",
       "59996  not available in demo dataset  not available in demo dataset   \n",
       "59997  not available in demo dataset  not available in demo dataset   \n",
       "59998                      Sao Paulo  not available in demo dataset   \n",
       "59999                       Curitiba  not available in demo dataset   \n",
       "\n",
       "         networkDomain                       latitude  \\\n",
       "0      fibertel.com.ar  not available in demo dataset   \n",
       "1      unknown.unknown  not available in demo dataset   \n",
       "2            (not set)  not available in demo dataset   \n",
       "3      unknown.unknown  not available in demo dataset   \n",
       "4            (not set)  not available in demo dataset   \n",
       "...                ...                            ...   \n",
       "59995        (not set)  not available in demo dataset   \n",
       "59996      bestbuy.com  not available in demo dataset   \n",
       "59997           rr.com  not available in demo dataset   \n",
       "59998        (not set)  not available in demo dataset   \n",
       "59999        mj.gov.br  not available in demo dataset   \n",
       "\n",
       "                           longitude                networkLocation  \n",
       "0      not available in demo dataset  not available in demo dataset  \n",
       "1      not available in demo dataset  not available in demo dataset  \n",
       "2      not available in demo dataset  not available in demo dataset  \n",
       "3      not available in demo dataset  not available in demo dataset  \n",
       "4      not available in demo dataset  not available in demo dataset  \n",
       "...                              ...                            ...  \n",
       "59995  not available in demo dataset  not available in demo dataset  \n",
       "59996  not available in demo dataset  not available in demo dataset  \n",
       "59997  not available in demo dataset  not available in demo dataset  \n",
       "59998  not available in demo dataset  not available in demo dataset  \n",
       "59999  not available in demo dataset  not available in demo dataset  \n",
       "\n",
       "[60000 rows x 11 columns]"
      ],
      "text/html": "<div>\n<style scoped>\n    .dataframe tbody tr th:only-of-type {\n        vertical-align: middle;\n    }\n\n    .dataframe tbody tr th {\n        vertical-align: top;\n    }\n\n    .dataframe thead th {\n        text-align: right;\n    }\n</style>\n<table border=\"1\" class=\"dataframe\">\n  <thead>\n    <tr style=\"text-align: right;\">\n      <th></th>\n      <th>continent</th>\n      <th>subContinent</th>\n      <th>country</th>\n      <th>region</th>\n      <th>metro</th>\n      <th>city</th>\n      <th>cityId</th>\n      <th>networkDomain</th>\n      <th>latitude</th>\n      <th>longitude</th>\n      <th>networkLocation</th>\n    </tr>\n  </thead>\n  <tbody>\n    <tr>\n      <th>0</th>\n      <td>Americas</td>\n      <td>South America</td>\n      <td>Argentina</td>\n      <td>not available in demo dataset</td>\n      <td>not available in demo dataset</td>\n      <td>not available in demo dataset</td>\n      <td>not available in demo dataset</td>\n      <td>fibertel.com.ar</td>\n      <td>not available in demo dataset</td>\n      <td>not available in demo dataset</td>\n      <td>not available in demo dataset</td>\n    </tr>\n    <tr>\n      <th>1</th>\n      <td>Europe</td>\n      <td>Western Europe</td>\n      <td>Netherlands</td>\n      <td>not available in demo dataset</td>\n      <td>not available in demo dataset</td>\n      <td>not available in demo dataset</td>\n      <td>not available in demo dataset</td>\n      <td>unknown.unknown</td>\n      <td>not available in demo dataset</td>\n      <td>not available in demo dataset</td>\n      <td>not available in demo dataset</td>\n    </tr>\n    <tr>\n      <th>2</th>\n      <td>Americas</td>\n      <td>Northern America</td>\n      <td>United States</td>\n      <td>California</td>\n      <td>San Diego CA</td>\n      <td>San Diego</td>\n      <td>not available in demo dataset</td>\n      <td>(not set)</td>\n      <td>not available in demo dataset</td>\n      <td>not available in demo dataset</td>\n      <td>not available in demo dataset</td>\n    </tr>\n    <tr>\n      <th>3</th>\n      <td>Asia</td>\n      <td>Southern Asia</td>\n      <td>India</td>\n      <td>Maharashtra</td>\n      <td>(not set)</td>\n      <td>Mumbai</td>\n      <td>not available in demo dataset</td>\n      <td>unknown.unknown</td>\n      <td>not available in demo dataset</td>\n      <td>not available in demo dataset</td>\n      <td>not available in demo dataset</td>\n    </tr>\n    <tr>\n      <th>4</th>\n      <td>Americas</td>\n      <td>Northern America</td>\n      <td>United States</td>\n      <td>not available in demo dataset</td>\n      <td>not available in demo dataset</td>\n      <td>not available in demo dataset</td>\n      <td>not available in demo dataset</td>\n      <td>(not set)</td>\n      <td>not available in demo dataset</td>\n      <td>not available in demo dataset</td>\n      <td>not available in demo dataset</td>\n    </tr>\n    <tr>\n      <th>...</th>\n      <td>...</td>\n      <td>...</td>\n      <td>...</td>\n      <td>...</td>\n      <td>...</td>\n      <td>...</td>\n      <td>...</td>\n      <td>...</td>\n      <td>...</td>\n      <td>...</td>\n      <td>...</td>\n    </tr>\n    <tr>\n      <th>59995</th>\n      <td>Americas</td>\n      <td>Northern America</td>\n      <td>United States</td>\n      <td>District of Columbia</td>\n      <td>Washington DC (Hagerstown MD)</td>\n      <td>Washington</td>\n      <td>not available in demo dataset</td>\n      <td>(not set)</td>\n      <td>not available in demo dataset</td>\n      <td>not available in demo dataset</td>\n      <td>not available in demo dataset</td>\n    </tr>\n    <tr>\n      <th>59996</th>\n      <td>Americas</td>\n      <td>Northern America</td>\n      <td>United States</td>\n      <td>not available in demo dataset</td>\n      <td>not available in demo dataset</td>\n      <td>not available in demo dataset</td>\n      <td>not available in demo dataset</td>\n      <td>bestbuy.com</td>\n      <td>not available in demo dataset</td>\n      <td>not available in demo dataset</td>\n      <td>not available in demo dataset</td>\n    </tr>\n    <tr>\n      <th>59997</th>\n      <td>Americas</td>\n      <td>Northern America</td>\n      <td>United States</td>\n      <td>not available in demo dataset</td>\n      <td>not available in demo dataset</td>\n      <td>not available in demo dataset</td>\n      <td>not available in demo dataset</td>\n      <td>rr.com</td>\n      <td>not available in demo dataset</td>\n      <td>not available in demo dataset</td>\n      <td>not available in demo dataset</td>\n    </tr>\n    <tr>\n      <th>59998</th>\n      <td>Americas</td>\n      <td>South America</td>\n      <td>Brazil</td>\n      <td>State of Sao Paulo</td>\n      <td>(not set)</td>\n      <td>Sao Paulo</td>\n      <td>not available in demo dataset</td>\n      <td>(not set)</td>\n      <td>not available in demo dataset</td>\n      <td>not available in demo dataset</td>\n      <td>not available in demo dataset</td>\n    </tr>\n    <tr>\n      <th>59999</th>\n      <td>Americas</td>\n      <td>South America</td>\n      <td>Brazil</td>\n      <td>State of Parana</td>\n      <td>(not set)</td>\n      <td>Curitiba</td>\n      <td>not available in demo dataset</td>\n      <td>mj.gov.br</td>\n      <td>not available in demo dataset</td>\n      <td>not available in demo dataset</td>\n      <td>not available in demo dataset</td>\n    </tr>\n  </tbody>\n</table>\n<p>60000 rows × 11 columns</p>\n</div>"
     },
     "metadata": {},
     "execution_count": 23
    }
   ],
   "source": [
    "# eg: geoNetwork has 11 columns, when running sum of null values, it appears to be complete but actually all missing values are reported as \"not available in demo dataset\", a deeper exploration is needed on more features and keywords\n",
    "\n",
    "geoNetwork"
   ]
  },
  {
   "cell_type": "code",
   "execution_count": 24,
   "metadata": {},
   "outputs": [
    {
     "output_type": "execute_result",
     "data": {
      "text/plain": [
       "continent          0\n",
       "subContinent       0\n",
       "country            0\n",
       "region             0\n",
       "metro              0\n",
       "city               0\n",
       "cityId             0\n",
       "networkDomain      0\n",
       "latitude           0\n",
       "longitude          0\n",
       "networkLocation    0\n",
       "dtype: int64"
      ]
     },
     "metadata": {},
     "execution_count": 24
    }
   ],
   "source": [
    "geoNetwork.isnull().sum()"
   ]
  },
  {
   "cell_type": "code",
   "execution_count": 25,
   "metadata": {},
   "outputs": [
    {
     "output_type": "execute_result",
     "data": {
      "text/plain": [
       "continent              0\n",
       "subContinent           0\n",
       "country                0\n",
       "region             33662\n",
       "metro              33662\n",
       "city               33662\n",
       "cityId             60000\n",
       "networkDomain          0\n",
       "latitude           60000\n",
       "longitude          60000\n",
       "networkLocation    60000\n",
       "dtype: int64"
      ]
     },
     "metadata": {},
     "execution_count": 25
    }
   ],
   "source": [
    "# I will start dropping those columns where all data are missing. I will keep just country as several other columns are giving almost the same information. I would have liked to keep city as well for a more microresearch on the origin of buyers and visitors but more than 50% of this info is missing\n",
    "# # I will need to further analyse networkDomain since almost 50% of the info seems to be missing\n",
    "\n",
    "geoNetwork[geoNetwork == \"not available in demo dataset\"].count()"
   ]
  },
  {
   "cell_type": "code",
   "execution_count": 26,
   "metadata": {},
   "outputs": [
    {
     "output_type": "execute_result",
     "data": {
      "text/plain": [
       "continent             87\n",
       "subContinent          87\n",
       "country               87\n",
       "region              1807\n",
       "metro              13384\n",
       "city                2249\n",
       "cityId                 0\n",
       "networkDomain      16194\n",
       "latitude               0\n",
       "longitude              0\n",
       "networkLocation        0\n",
       "dtype: int64"
      ]
     },
     "metadata": {},
     "execution_count": 26
    }
   ],
   "source": [
    "geoNetwork[geoNetwork ==\"(not set)\"].count()"
   ]
  },
  {
   "cell_type": "code",
   "execution_count": 27,
   "metadata": {},
   "outputs": [
    {
     "output_type": "execute_result",
     "data": {
      "text/plain": [
       "(not set)          16194\n",
       "unknown.unknown     9771\n",
       "comcast.net         1968\n",
       "rr.com               928\n",
       "verizon.net          887\n",
       "                   ...  \n",
       "geleximco.vn           1\n",
       "tcfbank.com            1\n",
       "tqit.com               1\n",
       "link-kremen.net        1\n",
       "t-mont.net.pl          1\n",
       "Name: networkDomain, Length: 5588, dtype: int64"
      ]
     },
     "metadata": {},
     "execution_count": 27
    }
   ],
   "source": [
    "# more than 50% of the data is missing, \n",
    "# the list is composed by websites used by users before getting to GStore, I am not going to focus my analysis on thiese details for now so I will drop this columns as well.\n",
    "\n",
    "geoNetwork.networkDomain.value_counts()"
   ]
  },
  {
   "cell_type": "code",
   "execution_count": 36,
   "metadata": {},
   "outputs": [],
   "source": [
    "geoNetwork.drop(columns=[\"continent\",\"subContinent\",\"region\",\"metro\",\"city\",\"cityId\",\"latitude\",\"longitude\",\"networkLocation\",\"networkDomain\"], inplace=True)"
   ]
  },
  {
   "cell_type": "code",
   "execution_count": 37,
   "metadata": {},
   "outputs": [
    {
     "output_type": "execute_result",
     "data": {
      "text/plain": [
       "             country\n",
       "0          Argentina\n",
       "1        Netherlands\n",
       "2      United States\n",
       "3              India\n",
       "4      United States\n",
       "...              ...\n",
       "59995  United States\n",
       "59996  United States\n",
       "59997  United States\n",
       "59998         Brazil\n",
       "59999         Brazil\n",
       "\n",
       "[60000 rows x 1 columns]"
      ],
      "text/html": "<div>\n<style scoped>\n    .dataframe tbody tr th:only-of-type {\n        vertical-align: middle;\n    }\n\n    .dataframe tbody tr th {\n        vertical-align: top;\n    }\n\n    .dataframe thead th {\n        text-align: right;\n    }\n</style>\n<table border=\"1\" class=\"dataframe\">\n  <thead>\n    <tr style=\"text-align: right;\">\n      <th></th>\n      <th>country</th>\n    </tr>\n  </thead>\n  <tbody>\n    <tr>\n      <th>0</th>\n      <td>Argentina</td>\n    </tr>\n    <tr>\n      <th>1</th>\n      <td>Netherlands</td>\n    </tr>\n    <tr>\n      <th>2</th>\n      <td>United States</td>\n    </tr>\n    <tr>\n      <th>3</th>\n      <td>India</td>\n    </tr>\n    <tr>\n      <th>4</th>\n      <td>United States</td>\n    </tr>\n    <tr>\n      <th>...</th>\n      <td>...</td>\n    </tr>\n    <tr>\n      <th>59995</th>\n      <td>United States</td>\n    </tr>\n    <tr>\n      <th>59996</th>\n      <td>United States</td>\n    </tr>\n    <tr>\n      <th>59997</th>\n      <td>United States</td>\n    </tr>\n    <tr>\n      <th>59998</th>\n      <td>Brazil</td>\n    </tr>\n    <tr>\n      <th>59999</th>\n      <td>Brazil</td>\n    </tr>\n  </tbody>\n</table>\n<p>60000 rows × 1 columns</p>\n</div>"
     },
     "metadata": {},
     "execution_count": 37
    }
   ],
   "source": [
    "geoNetwork"
   ]
  },
  {
   "cell_type": "code",
   "execution_count": 117,
   "metadata": {},
   "outputs": [
    {
     "output_type": "execute_result",
     "data": {
      "text/plain": [
       "           country  count\n",
       "0    United States  24267\n",
       "1            India   3439\n",
       "2   United Kingdom   2487\n",
       "3           Canada   1703\n",
       "4          Vietnam   1606\n",
       "5           Turkey   1381\n",
       "6         Thailand   1364\n",
       "7          Germany   1343\n",
       "8            Japan   1338\n",
       "9           Brazil   1301\n",
       "10          others  19771"
      ],
      "text/html": "<div>\n<style scoped>\n    .dataframe tbody tr th:only-of-type {\n        vertical-align: middle;\n    }\n\n    .dataframe tbody tr th {\n        vertical-align: top;\n    }\n\n    .dataframe thead th {\n        text-align: right;\n    }\n</style>\n<table border=\"1\" class=\"dataframe\">\n  <thead>\n    <tr style=\"text-align: right;\">\n      <th></th>\n      <th>country</th>\n      <th>count</th>\n    </tr>\n  </thead>\n  <tbody>\n    <tr>\n      <th>0</th>\n      <td>United States</td>\n      <td>24267</td>\n    </tr>\n    <tr>\n      <th>1</th>\n      <td>India</td>\n      <td>3439</td>\n    </tr>\n    <tr>\n      <th>2</th>\n      <td>United Kingdom</td>\n      <td>2487</td>\n    </tr>\n    <tr>\n      <th>3</th>\n      <td>Canada</td>\n      <td>1703</td>\n    </tr>\n    <tr>\n      <th>4</th>\n      <td>Vietnam</td>\n      <td>1606</td>\n    </tr>\n    <tr>\n      <th>5</th>\n      <td>Turkey</td>\n      <td>1381</td>\n    </tr>\n    <tr>\n      <th>6</th>\n      <td>Thailand</td>\n      <td>1364</td>\n    </tr>\n    <tr>\n      <th>7</th>\n      <td>Germany</td>\n      <td>1343</td>\n    </tr>\n    <tr>\n      <th>8</th>\n      <td>Japan</td>\n      <td>1338</td>\n    </tr>\n    <tr>\n      <th>9</th>\n      <td>Brazil</td>\n      <td>1301</td>\n    </tr>\n    <tr>\n      <th>10</th>\n      <td>others</td>\n      <td>19771</td>\n    </tr>\n  </tbody>\n</table>\n</div>"
     },
     "metadata": {},
     "execution_count": 117
    }
   ],
   "source": [
    "# geonetwork.country.value_counts.....display top 10 country and group rest under others\n",
    "# normalize=True for percentage but here full number are fine\n",
    "country = geoNetwork.country.value_counts()[:10]\n",
    "country[\"others\"]= geoNetwork.country.value_counts()[10:].sum()\n",
    "country = pd.DataFrame(country).reset_index()\n",
    "country.columns = [\"country\",\"count\"]\n",
    "country"
   ]
  },
  {
   "cell_type": "code",
   "execution_count": 118,
   "metadata": {},
   "outputs": [
    {
     "output_type": "execute_result",
     "data": {
      "text/plain": [
       "          country  count iso_alpha\n",
       "0   United States  24267       USA\n",
       "1           India   3439       IND\n",
       "2  United Kingdom   2487       GBR\n",
       "3          Canada   1703       CAN\n",
       "4         Vietnam   1606       VNM\n",
       "5          Turkey   1381       TUR\n",
       "6        Thailand   1364       THA\n",
       "7         Germany   1343       DEU\n",
       "8           Japan   1338       JPN\n",
       "9          Brazil   1301       BRA"
      ],
      "text/html": "<div>\n<style scoped>\n    .dataframe tbody tr th:only-of-type {\n        vertical-align: middle;\n    }\n\n    .dataframe tbody tr th {\n        vertical-align: top;\n    }\n\n    .dataframe thead th {\n        text-align: right;\n    }\n</style>\n<table border=\"1\" class=\"dataframe\">\n  <thead>\n    <tr style=\"text-align: right;\">\n      <th></th>\n      <th>country</th>\n      <th>count</th>\n      <th>iso_alpha</th>\n    </tr>\n  </thead>\n  <tbody>\n    <tr>\n      <th>0</th>\n      <td>United States</td>\n      <td>24267</td>\n      <td>USA</td>\n    </tr>\n    <tr>\n      <th>1</th>\n      <td>India</td>\n      <td>3439</td>\n      <td>IND</td>\n    </tr>\n    <tr>\n      <th>2</th>\n      <td>United Kingdom</td>\n      <td>2487</td>\n      <td>GBR</td>\n    </tr>\n    <tr>\n      <th>3</th>\n      <td>Canada</td>\n      <td>1703</td>\n      <td>CAN</td>\n    </tr>\n    <tr>\n      <th>4</th>\n      <td>Vietnam</td>\n      <td>1606</td>\n      <td>VNM</td>\n    </tr>\n    <tr>\n      <th>5</th>\n      <td>Turkey</td>\n      <td>1381</td>\n      <td>TUR</td>\n    </tr>\n    <tr>\n      <th>6</th>\n      <td>Thailand</td>\n      <td>1364</td>\n      <td>THA</td>\n    </tr>\n    <tr>\n      <th>7</th>\n      <td>Germany</td>\n      <td>1343</td>\n      <td>DEU</td>\n    </tr>\n    <tr>\n      <th>8</th>\n      <td>Japan</td>\n      <td>1338</td>\n      <td>JPN</td>\n    </tr>\n    <tr>\n      <th>9</th>\n      <td>Brazil</td>\n      <td>1301</td>\n      <td>BRA</td>\n    </tr>\n  </tbody>\n</table>\n</div>"
     },
     "metadata": {},
     "execution_count": 118
    }
   ],
   "source": [
    "# extra df to extract the alpha name to be able to \n",
    "\n",
    "df = px.data.gapminder().query(\"year==2007\")\n",
    "df = df[[\"country\", \"iso_alpha\"]]\n",
    "\n",
    "map1 = pd.merge(country, df,on = \"country\")\n",
    "map1\n"
   ]
  },
  {
   "cell_type": "code",
   "execution_count": 119,
   "metadata": {},
   "outputs": [
    {
     "output_type": "display_data",
     "data": {
      "application/vnd.plotly.v1+json": {
       "config": {
        "plotlyServerURL": "https://plotly.com"
       },
       "data": [
        {
         "domain": {
          "x": [
           0,
           1
          ],
          "y": [
           0,
           1
          ]
         },
         "hovertemplate": "country=%{label}<br>count=%{value}<extra></extra>",
         "labels": [
          "United States",
          "India",
          "United Kingdom",
          "Canada",
          "Vietnam",
          "Turkey",
          "Thailand",
          "Germany",
          "Japan",
          "Brazil",
          "others"
         ],
         "legendgroup": "",
         "name": "",
         "showlegend": true,
         "type": "pie",
         "values": [
          24267,
          3439,
          2487,
          1703,
          1606,
          1381,
          1364,
          1343,
          1338,
          1301,
          19771
         ]
        }
       ],
       "layout": {
        "legend": {
         "tracegroupgap": 0
        },
        "piecolorway": [
         "#0d0887",
         "#46039f",
         "#7201a8",
         "#9c179e",
         "#bd3786",
         "#d8576b",
         "#ed7953",
         "#fb9f3a",
         "#fdca26",
         "#f0f921"
        ],
        "template": {
         "data": {
          "bar": [
           {
            "error_x": {
             "color": "#2a3f5f"
            },
            "error_y": {
             "color": "#2a3f5f"
            },
            "marker": {
             "line": {
              "color": "#E5ECF6",
              "width": 0.5
             }
            },
            "type": "bar"
           }
          ],
          "barpolar": [
           {
            "marker": {
             "line": {
              "color": "#E5ECF6",
              "width": 0.5
             }
            },
            "type": "barpolar"
           }
          ],
          "carpet": [
           {
            "aaxis": {
             "endlinecolor": "#2a3f5f",
             "gridcolor": "white",
             "linecolor": "white",
             "minorgridcolor": "white",
             "startlinecolor": "#2a3f5f"
            },
            "baxis": {
             "endlinecolor": "#2a3f5f",
             "gridcolor": "white",
             "linecolor": "white",
             "minorgridcolor": "white",
             "startlinecolor": "#2a3f5f"
            },
            "type": "carpet"
           }
          ],
          "choropleth": [
           {
            "colorbar": {
             "outlinewidth": 0,
             "ticks": ""
            },
            "type": "choropleth"
           }
          ],
          "contour": [
           {
            "colorbar": {
             "outlinewidth": 0,
             "ticks": ""
            },
            "colorscale": [
             [
              0,
              "#0d0887"
             ],
             [
              0.1111111111111111,
              "#46039f"
             ],
             [
              0.2222222222222222,
              "#7201a8"
             ],
             [
              0.3333333333333333,
              "#9c179e"
             ],
             [
              0.4444444444444444,
              "#bd3786"
             ],
             [
              0.5555555555555556,
              "#d8576b"
             ],
             [
              0.6666666666666666,
              "#ed7953"
             ],
             [
              0.7777777777777778,
              "#fb9f3a"
             ],
             [
              0.8888888888888888,
              "#fdca26"
             ],
             [
              1,
              "#f0f921"
             ]
            ],
            "type": "contour"
           }
          ],
          "contourcarpet": [
           {
            "colorbar": {
             "outlinewidth": 0,
             "ticks": ""
            },
            "type": "contourcarpet"
           }
          ],
          "heatmap": [
           {
            "colorbar": {
             "outlinewidth": 0,
             "ticks": ""
            },
            "colorscale": [
             [
              0,
              "#0d0887"
             ],
             [
              0.1111111111111111,
              "#46039f"
             ],
             [
              0.2222222222222222,
              "#7201a8"
             ],
             [
              0.3333333333333333,
              "#9c179e"
             ],
             [
              0.4444444444444444,
              "#bd3786"
             ],
             [
              0.5555555555555556,
              "#d8576b"
             ],
             [
              0.6666666666666666,
              "#ed7953"
             ],
             [
              0.7777777777777778,
              "#fb9f3a"
             ],
             [
              0.8888888888888888,
              "#fdca26"
             ],
             [
              1,
              "#f0f921"
             ]
            ],
            "type": "heatmap"
           }
          ],
          "heatmapgl": [
           {
            "colorbar": {
             "outlinewidth": 0,
             "ticks": ""
            },
            "colorscale": [
             [
              0,
              "#0d0887"
             ],
             [
              0.1111111111111111,
              "#46039f"
             ],
             [
              0.2222222222222222,
              "#7201a8"
             ],
             [
              0.3333333333333333,
              "#9c179e"
             ],
             [
              0.4444444444444444,
              "#bd3786"
             ],
             [
              0.5555555555555556,
              "#d8576b"
             ],
             [
              0.6666666666666666,
              "#ed7953"
             ],
             [
              0.7777777777777778,
              "#fb9f3a"
             ],
             [
              0.8888888888888888,
              "#fdca26"
             ],
             [
              1,
              "#f0f921"
             ]
            ],
            "type": "heatmapgl"
           }
          ],
          "histogram": [
           {
            "marker": {
             "colorbar": {
              "outlinewidth": 0,
              "ticks": ""
             }
            },
            "type": "histogram"
           }
          ],
          "histogram2d": [
           {
            "colorbar": {
             "outlinewidth": 0,
             "ticks": ""
            },
            "colorscale": [
             [
              0,
              "#0d0887"
             ],
             [
              0.1111111111111111,
              "#46039f"
             ],
             [
              0.2222222222222222,
              "#7201a8"
             ],
             [
              0.3333333333333333,
              "#9c179e"
             ],
             [
              0.4444444444444444,
              "#bd3786"
             ],
             [
              0.5555555555555556,
              "#d8576b"
             ],
             [
              0.6666666666666666,
              "#ed7953"
             ],
             [
              0.7777777777777778,
              "#fb9f3a"
             ],
             [
              0.8888888888888888,
              "#fdca26"
             ],
             [
              1,
              "#f0f921"
             ]
            ],
            "type": "histogram2d"
           }
          ],
          "histogram2dcontour": [
           {
            "colorbar": {
             "outlinewidth": 0,
             "ticks": ""
            },
            "colorscale": [
             [
              0,
              "#0d0887"
             ],
             [
              0.1111111111111111,
              "#46039f"
             ],
             [
              0.2222222222222222,
              "#7201a8"
             ],
             [
              0.3333333333333333,
              "#9c179e"
             ],
             [
              0.4444444444444444,
              "#bd3786"
             ],
             [
              0.5555555555555556,
              "#d8576b"
             ],
             [
              0.6666666666666666,
              "#ed7953"
             ],
             [
              0.7777777777777778,
              "#fb9f3a"
             ],
             [
              0.8888888888888888,
              "#fdca26"
             ],
             [
              1,
              "#f0f921"
             ]
            ],
            "type": "histogram2dcontour"
           }
          ],
          "mesh3d": [
           {
            "colorbar": {
             "outlinewidth": 0,
             "ticks": ""
            },
            "type": "mesh3d"
           }
          ],
          "parcoords": [
           {
            "line": {
             "colorbar": {
              "outlinewidth": 0,
              "ticks": ""
             }
            },
            "type": "parcoords"
           }
          ],
          "pie": [
           {
            "automargin": true,
            "type": "pie"
           }
          ],
          "scatter": [
           {
            "marker": {
             "colorbar": {
              "outlinewidth": 0,
              "ticks": ""
             }
            },
            "type": "scatter"
           }
          ],
          "scatter3d": [
           {
            "line": {
             "colorbar": {
              "outlinewidth": 0,
              "ticks": ""
             }
            },
            "marker": {
             "colorbar": {
              "outlinewidth": 0,
              "ticks": ""
             }
            },
            "type": "scatter3d"
           }
          ],
          "scattercarpet": [
           {
            "marker": {
             "colorbar": {
              "outlinewidth": 0,
              "ticks": ""
             }
            },
            "type": "scattercarpet"
           }
          ],
          "scattergeo": [
           {
            "marker": {
             "colorbar": {
              "outlinewidth": 0,
              "ticks": ""
             }
            },
            "type": "scattergeo"
           }
          ],
          "scattergl": [
           {
            "marker": {
             "colorbar": {
              "outlinewidth": 0,
              "ticks": ""
             }
            },
            "type": "scattergl"
           }
          ],
          "scattermapbox": [
           {
            "marker": {
             "colorbar": {
              "outlinewidth": 0,
              "ticks": ""
             }
            },
            "type": "scattermapbox"
           }
          ],
          "scatterpolar": [
           {
            "marker": {
             "colorbar": {
              "outlinewidth": 0,
              "ticks": ""
             }
            },
            "type": "scatterpolar"
           }
          ],
          "scatterpolargl": [
           {
            "marker": {
             "colorbar": {
              "outlinewidth": 0,
              "ticks": ""
             }
            },
            "type": "scatterpolargl"
           }
          ],
          "scatterternary": [
           {
            "marker": {
             "colorbar": {
              "outlinewidth": 0,
              "ticks": ""
             }
            },
            "type": "scatterternary"
           }
          ],
          "surface": [
           {
            "colorbar": {
             "outlinewidth": 0,
             "ticks": ""
            },
            "colorscale": [
             [
              0,
              "#0d0887"
             ],
             [
              0.1111111111111111,
              "#46039f"
             ],
             [
              0.2222222222222222,
              "#7201a8"
             ],
             [
              0.3333333333333333,
              "#9c179e"
             ],
             [
              0.4444444444444444,
              "#bd3786"
             ],
             [
              0.5555555555555556,
              "#d8576b"
             ],
             [
              0.6666666666666666,
              "#ed7953"
             ],
             [
              0.7777777777777778,
              "#fb9f3a"
             ],
             [
              0.8888888888888888,
              "#fdca26"
             ],
             [
              1,
              "#f0f921"
             ]
            ],
            "type": "surface"
           }
          ],
          "table": [
           {
            "cells": {
             "fill": {
              "color": "#EBF0F8"
             },
             "line": {
              "color": "white"
             }
            },
            "header": {
             "fill": {
              "color": "#C8D4E3"
             },
             "line": {
              "color": "white"
             }
            },
            "type": "table"
           }
          ]
         },
         "layout": {
          "annotationdefaults": {
           "arrowcolor": "#2a3f5f",
           "arrowhead": 0,
           "arrowwidth": 1
          },
          "autotypenumbers": "strict",
          "coloraxis": {
           "colorbar": {
            "outlinewidth": 0,
            "ticks": ""
           }
          },
          "colorscale": {
           "diverging": [
            [
             0,
             "#8e0152"
            ],
            [
             0.1,
             "#c51b7d"
            ],
            [
             0.2,
             "#de77ae"
            ],
            [
             0.3,
             "#f1b6da"
            ],
            [
             0.4,
             "#fde0ef"
            ],
            [
             0.5,
             "#f7f7f7"
            ],
            [
             0.6,
             "#e6f5d0"
            ],
            [
             0.7,
             "#b8e186"
            ],
            [
             0.8,
             "#7fbc41"
            ],
            [
             0.9,
             "#4d9221"
            ],
            [
             1,
             "#276419"
            ]
           ],
           "sequential": [
            [
             0,
             "#0d0887"
            ],
            [
             0.1111111111111111,
             "#46039f"
            ],
            [
             0.2222222222222222,
             "#7201a8"
            ],
            [
             0.3333333333333333,
             "#9c179e"
            ],
            [
             0.4444444444444444,
             "#bd3786"
            ],
            [
             0.5555555555555556,
             "#d8576b"
            ],
            [
             0.6666666666666666,
             "#ed7953"
            ],
            [
             0.7777777777777778,
             "#fb9f3a"
            ],
            [
             0.8888888888888888,
             "#fdca26"
            ],
            [
             1,
             "#f0f921"
            ]
           ],
           "sequentialminus": [
            [
             0,
             "#0d0887"
            ],
            [
             0.1111111111111111,
             "#46039f"
            ],
            [
             0.2222222222222222,
             "#7201a8"
            ],
            [
             0.3333333333333333,
             "#9c179e"
            ],
            [
             0.4444444444444444,
             "#bd3786"
            ],
            [
             0.5555555555555556,
             "#d8576b"
            ],
            [
             0.6666666666666666,
             "#ed7953"
            ],
            [
             0.7777777777777778,
             "#fb9f3a"
            ],
            [
             0.8888888888888888,
             "#fdca26"
            ],
            [
             1,
             "#f0f921"
            ]
           ]
          },
          "colorway": [
           "#636efa",
           "#EF553B",
           "#00cc96",
           "#ab63fa",
           "#FFA15A",
           "#19d3f3",
           "#FF6692",
           "#B6E880",
           "#FF97FF",
           "#FECB52"
          ],
          "font": {
           "color": "#2a3f5f"
          },
          "geo": {
           "bgcolor": "white",
           "lakecolor": "white",
           "landcolor": "#E5ECF6",
           "showlakes": true,
           "showland": true,
           "subunitcolor": "white"
          },
          "hoverlabel": {
           "align": "left"
          },
          "hovermode": "closest",
          "mapbox": {
           "style": "light"
          },
          "paper_bgcolor": "white",
          "plot_bgcolor": "#E5ECF6",
          "polar": {
           "angularaxis": {
            "gridcolor": "white",
            "linecolor": "white",
            "ticks": ""
           },
           "bgcolor": "#E5ECF6",
           "radialaxis": {
            "gridcolor": "white",
            "linecolor": "white",
            "ticks": ""
           }
          },
          "scene": {
           "xaxis": {
            "backgroundcolor": "#E5ECF6",
            "gridcolor": "white",
            "gridwidth": 2,
            "linecolor": "white",
            "showbackground": true,
            "ticks": "",
            "zerolinecolor": "white"
           },
           "yaxis": {
            "backgroundcolor": "#E5ECF6",
            "gridcolor": "white",
            "gridwidth": 2,
            "linecolor": "white",
            "showbackground": true,
            "ticks": "",
            "zerolinecolor": "white"
           },
           "zaxis": {
            "backgroundcolor": "#E5ECF6",
            "gridcolor": "white",
            "gridwidth": 2,
            "linecolor": "white",
            "showbackground": true,
            "ticks": "",
            "zerolinecolor": "white"
           }
          },
          "shapedefaults": {
           "line": {
            "color": "#2a3f5f"
           }
          },
          "ternary": {
           "aaxis": {
            "gridcolor": "white",
            "linecolor": "white",
            "ticks": ""
           },
           "baxis": {
            "gridcolor": "white",
            "linecolor": "white",
            "ticks": ""
           },
           "bgcolor": "#E5ECF6",
           "caxis": {
            "gridcolor": "white",
            "linecolor": "white",
            "ticks": ""
           }
          },
          "title": {
           "x": 0.05
          },
          "xaxis": {
           "automargin": true,
           "gridcolor": "white",
           "linecolor": "white",
           "ticks": "",
           "title": {
            "standoff": 15
           },
           "zerolinecolor": "white",
           "zerolinewidth": 2
          },
          "yaxis": {
           "automargin": true,
           "gridcolor": "white",
           "linecolor": "white",
           "ticks": "",
           "title": {
            "standoff": 15
           },
           "zerolinecolor": "white",
           "zerolinewidth": 2
          }
         }
        },
        "title": {
         "text": "Origin of GStore visitors"
        }
       }
      },
      "text/html": "<div>                            <div id=\"bbe023c4-9212-4eb7-a245-1486a4afff17\" class=\"plotly-graph-div\" style=\"height:525px; width:100%;\"></div>            <script type=\"text/javascript\">                require([\"plotly\"], function(Plotly) {                    window.PLOTLYENV=window.PLOTLYENV || {};                                    if (document.getElementById(\"bbe023c4-9212-4eb7-a245-1486a4afff17\")) {                    Plotly.newPlot(                        \"bbe023c4-9212-4eb7-a245-1486a4afff17\",                        [{\"domain\": {\"x\": [0.0, 1.0], \"y\": [0.0, 1.0]}, \"hovertemplate\": \"country=%{label}<br>count=%{value}<extra></extra>\", \"labels\": [\"United States\", \"India\", \"United Kingdom\", \"Canada\", \"Vietnam\", \"Turkey\", \"Thailand\", \"Germany\", \"Japan\", \"Brazil\", \"others\"], \"legendgroup\": \"\", \"name\": \"\", \"showlegend\": true, \"type\": \"pie\", \"values\": [24267, 3439, 2487, 1703, 1606, 1381, 1364, 1343, 1338, 1301, 19771]}],                        {\"legend\": {\"tracegroupgap\": 0}, \"piecolorway\": [\"#0d0887\", \"#46039f\", \"#7201a8\", \"#9c179e\", \"#bd3786\", \"#d8576b\", \"#ed7953\", \"#fb9f3a\", \"#fdca26\", \"#f0f921\"], \"template\": {\"data\": {\"bar\": [{\"error_x\": {\"color\": \"#2a3f5f\"}, \"error_y\": {\"color\": \"#2a3f5f\"}, \"marker\": {\"line\": {\"color\": \"#E5ECF6\", \"width\": 0.5}}, \"type\": \"bar\"}], \"barpolar\": [{\"marker\": {\"line\": {\"color\": \"#E5ECF6\", \"width\": 0.5}}, \"type\": \"barpolar\"}], \"carpet\": [{\"aaxis\": {\"endlinecolor\": \"#2a3f5f\", \"gridcolor\": \"white\", \"linecolor\": \"white\", \"minorgridcolor\": \"white\", \"startlinecolor\": \"#2a3f5f\"}, \"baxis\": {\"endlinecolor\": \"#2a3f5f\", \"gridcolor\": \"white\", \"linecolor\": \"white\", \"minorgridcolor\": \"white\", \"startlinecolor\": \"#2a3f5f\"}, \"type\": \"carpet\"}], \"choropleth\": [{\"colorbar\": {\"outlinewidth\": 0, \"ticks\": \"\"}, \"type\": \"choropleth\"}], \"contour\": [{\"colorbar\": {\"outlinewidth\": 0, \"ticks\": \"\"}, \"colorscale\": [[0.0, \"#0d0887\"], [0.1111111111111111, \"#46039f\"], [0.2222222222222222, \"#7201a8\"], [0.3333333333333333, \"#9c179e\"], [0.4444444444444444, \"#bd3786\"], [0.5555555555555556, \"#d8576b\"], [0.6666666666666666, \"#ed7953\"], [0.7777777777777778, \"#fb9f3a\"], [0.8888888888888888, \"#fdca26\"], [1.0, \"#f0f921\"]], \"type\": \"contour\"}], \"contourcarpet\": [{\"colorbar\": {\"outlinewidth\": 0, \"ticks\": \"\"}, \"type\": \"contourcarpet\"}], \"heatmap\": [{\"colorbar\": {\"outlinewidth\": 0, \"ticks\": \"\"}, \"colorscale\": [[0.0, \"#0d0887\"], [0.1111111111111111, \"#46039f\"], [0.2222222222222222, \"#7201a8\"], [0.3333333333333333, \"#9c179e\"], [0.4444444444444444, \"#bd3786\"], [0.5555555555555556, \"#d8576b\"], [0.6666666666666666, \"#ed7953\"], [0.7777777777777778, \"#fb9f3a\"], [0.8888888888888888, \"#fdca26\"], [1.0, \"#f0f921\"]], \"type\": \"heatmap\"}], \"heatmapgl\": [{\"colorbar\": {\"outlinewidth\": 0, \"ticks\": \"\"}, \"colorscale\": [[0.0, \"#0d0887\"], [0.1111111111111111, \"#46039f\"], [0.2222222222222222, \"#7201a8\"], [0.3333333333333333, \"#9c179e\"], [0.4444444444444444, \"#bd3786\"], [0.5555555555555556, \"#d8576b\"], [0.6666666666666666, \"#ed7953\"], [0.7777777777777778, \"#fb9f3a\"], [0.8888888888888888, \"#fdca26\"], [1.0, \"#f0f921\"]], \"type\": \"heatmapgl\"}], \"histogram\": [{\"marker\": {\"colorbar\": {\"outlinewidth\": 0, \"ticks\": \"\"}}, \"type\": \"histogram\"}], \"histogram2d\": [{\"colorbar\": {\"outlinewidth\": 0, \"ticks\": \"\"}, \"colorscale\": [[0.0, \"#0d0887\"], [0.1111111111111111, \"#46039f\"], [0.2222222222222222, \"#7201a8\"], [0.3333333333333333, \"#9c179e\"], [0.4444444444444444, \"#bd3786\"], [0.5555555555555556, \"#d8576b\"], [0.6666666666666666, \"#ed7953\"], [0.7777777777777778, \"#fb9f3a\"], [0.8888888888888888, \"#fdca26\"], [1.0, \"#f0f921\"]], \"type\": \"histogram2d\"}], \"histogram2dcontour\": [{\"colorbar\": {\"outlinewidth\": 0, \"ticks\": \"\"}, \"colorscale\": [[0.0, \"#0d0887\"], [0.1111111111111111, \"#46039f\"], [0.2222222222222222, \"#7201a8\"], [0.3333333333333333, \"#9c179e\"], [0.4444444444444444, \"#bd3786\"], [0.5555555555555556, \"#d8576b\"], [0.6666666666666666, \"#ed7953\"], [0.7777777777777778, \"#fb9f3a\"], [0.8888888888888888, \"#fdca26\"], [1.0, \"#f0f921\"]], \"type\": \"histogram2dcontour\"}], \"mesh3d\": [{\"colorbar\": {\"outlinewidth\": 0, \"ticks\": \"\"}, \"type\": \"mesh3d\"}], \"parcoords\": [{\"line\": {\"colorbar\": {\"outlinewidth\": 0, \"ticks\": \"\"}}, \"type\": \"parcoords\"}], \"pie\": [{\"automargin\": true, \"type\": \"pie\"}], \"scatter\": [{\"marker\": {\"colorbar\": {\"outlinewidth\": 0, \"ticks\": \"\"}}, \"type\": \"scatter\"}], \"scatter3d\": [{\"line\": {\"colorbar\": {\"outlinewidth\": 0, \"ticks\": \"\"}}, \"marker\": {\"colorbar\": {\"outlinewidth\": 0, \"ticks\": \"\"}}, \"type\": \"scatter3d\"}], \"scattercarpet\": [{\"marker\": {\"colorbar\": {\"outlinewidth\": 0, \"ticks\": \"\"}}, \"type\": \"scattercarpet\"}], \"scattergeo\": [{\"marker\": {\"colorbar\": {\"outlinewidth\": 0, \"ticks\": \"\"}}, \"type\": \"scattergeo\"}], \"scattergl\": [{\"marker\": {\"colorbar\": {\"outlinewidth\": 0, \"ticks\": \"\"}}, \"type\": \"scattergl\"}], \"scattermapbox\": [{\"marker\": {\"colorbar\": {\"outlinewidth\": 0, \"ticks\": \"\"}}, \"type\": \"scattermapbox\"}], \"scatterpolar\": [{\"marker\": {\"colorbar\": {\"outlinewidth\": 0, \"ticks\": \"\"}}, \"type\": \"scatterpolar\"}], \"scatterpolargl\": [{\"marker\": {\"colorbar\": {\"outlinewidth\": 0, \"ticks\": \"\"}}, \"type\": \"scatterpolargl\"}], \"scatterternary\": [{\"marker\": {\"colorbar\": {\"outlinewidth\": 0, \"ticks\": \"\"}}, \"type\": \"scatterternary\"}], \"surface\": [{\"colorbar\": {\"outlinewidth\": 0, \"ticks\": \"\"}, \"colorscale\": [[0.0, \"#0d0887\"], [0.1111111111111111, \"#46039f\"], [0.2222222222222222, \"#7201a8\"], [0.3333333333333333, \"#9c179e\"], [0.4444444444444444, \"#bd3786\"], [0.5555555555555556, \"#d8576b\"], [0.6666666666666666, \"#ed7953\"], [0.7777777777777778, \"#fb9f3a\"], [0.8888888888888888, \"#fdca26\"], [1.0, \"#f0f921\"]], \"type\": \"surface\"}], \"table\": [{\"cells\": {\"fill\": {\"color\": \"#EBF0F8\"}, \"line\": {\"color\": \"white\"}}, \"header\": {\"fill\": {\"color\": \"#C8D4E3\"}, \"line\": {\"color\": \"white\"}}, \"type\": \"table\"}]}, \"layout\": {\"annotationdefaults\": {\"arrowcolor\": \"#2a3f5f\", \"arrowhead\": 0, \"arrowwidth\": 1}, \"autotypenumbers\": \"strict\", \"coloraxis\": {\"colorbar\": {\"outlinewidth\": 0, \"ticks\": \"\"}}, \"colorscale\": {\"diverging\": [[0, \"#8e0152\"], [0.1, \"#c51b7d\"], [0.2, \"#de77ae\"], [0.3, \"#f1b6da\"], [0.4, \"#fde0ef\"], [0.5, \"#f7f7f7\"], [0.6, \"#e6f5d0\"], [0.7, \"#b8e186\"], [0.8, \"#7fbc41\"], [0.9, \"#4d9221\"], [1, \"#276419\"]], \"sequential\": [[0.0, \"#0d0887\"], [0.1111111111111111, \"#46039f\"], [0.2222222222222222, \"#7201a8\"], [0.3333333333333333, \"#9c179e\"], [0.4444444444444444, \"#bd3786\"], [0.5555555555555556, \"#d8576b\"], [0.6666666666666666, \"#ed7953\"], [0.7777777777777778, \"#fb9f3a\"], [0.8888888888888888, \"#fdca26\"], [1.0, \"#f0f921\"]], \"sequentialminus\": [[0.0, \"#0d0887\"], [0.1111111111111111, \"#46039f\"], [0.2222222222222222, \"#7201a8\"], [0.3333333333333333, \"#9c179e\"], [0.4444444444444444, \"#bd3786\"], [0.5555555555555556, \"#d8576b\"], [0.6666666666666666, \"#ed7953\"], [0.7777777777777778, \"#fb9f3a\"], [0.8888888888888888, \"#fdca26\"], [1.0, \"#f0f921\"]]}, \"colorway\": [\"#636efa\", \"#EF553B\", \"#00cc96\", \"#ab63fa\", \"#FFA15A\", \"#19d3f3\", \"#FF6692\", \"#B6E880\", \"#FF97FF\", \"#FECB52\"], \"font\": {\"color\": \"#2a3f5f\"}, \"geo\": {\"bgcolor\": \"white\", \"lakecolor\": \"white\", \"landcolor\": \"#E5ECF6\", \"showlakes\": true, \"showland\": true, \"subunitcolor\": \"white\"}, \"hoverlabel\": {\"align\": \"left\"}, \"hovermode\": \"closest\", \"mapbox\": {\"style\": \"light\"}, \"paper_bgcolor\": \"white\", \"plot_bgcolor\": \"#E5ECF6\", \"polar\": {\"angularaxis\": {\"gridcolor\": \"white\", \"linecolor\": \"white\", \"ticks\": \"\"}, \"bgcolor\": \"#E5ECF6\", \"radialaxis\": {\"gridcolor\": \"white\", \"linecolor\": \"white\", \"ticks\": \"\"}}, \"scene\": {\"xaxis\": {\"backgroundcolor\": \"#E5ECF6\", \"gridcolor\": \"white\", \"gridwidth\": 2, \"linecolor\": \"white\", \"showbackground\": true, \"ticks\": \"\", \"zerolinecolor\": \"white\"}, \"yaxis\": {\"backgroundcolor\": \"#E5ECF6\", \"gridcolor\": \"white\", \"gridwidth\": 2, \"linecolor\": \"white\", \"showbackground\": true, \"ticks\": \"\", \"zerolinecolor\": \"white\"}, \"zaxis\": {\"backgroundcolor\": \"#E5ECF6\", \"gridcolor\": \"white\", \"gridwidth\": 2, \"linecolor\": \"white\", \"showbackground\": true, \"ticks\": \"\", \"zerolinecolor\": \"white\"}}, \"shapedefaults\": {\"line\": {\"color\": \"#2a3f5f\"}}, \"ternary\": {\"aaxis\": {\"gridcolor\": \"white\", \"linecolor\": \"white\", \"ticks\": \"\"}, \"baxis\": {\"gridcolor\": \"white\", \"linecolor\": \"white\", \"ticks\": \"\"}, \"bgcolor\": \"#E5ECF6\", \"caxis\": {\"gridcolor\": \"white\", \"linecolor\": \"white\", \"ticks\": \"\"}}, \"title\": {\"x\": 0.05}, \"xaxis\": {\"automargin\": true, \"gridcolor\": \"white\", \"linecolor\": \"white\", \"ticks\": \"\", \"title\": {\"standoff\": 15}, \"zerolinecolor\": \"white\", \"zerolinewidth\": 2}, \"yaxis\": {\"automargin\": true, \"gridcolor\": \"white\", \"linecolor\": \"white\", \"ticks\": \"\", \"title\": {\"standoff\": 15}, \"zerolinecolor\": \"white\", \"zerolinewidth\": 2}}}, \"title\": {\"text\": \"Origin of GStore visitors\"}},                        {\"responsive\": true}                    ).then(function(){\n                            \nvar gd = document.getElementById('bbe023c4-9212-4eb7-a245-1486a4afff17');\nvar x = new MutationObserver(function (mutations, observer) {{\n        var display = window.getComputedStyle(gd).display;\n        if (!display || display === 'none') {{\n            console.log([gd, 'removed!']);\n            Plotly.purge(gd);\n            observer.disconnect();\n        }}\n}});\n\n// Listen for the removal of the full notebook cells\nvar notebookContainer = gd.closest('#notebook-container');\nif (notebookContainer) {{\n    x.observe(notebookContainer, {childList: true});\n}}\n\n// Listen for the clearing of the current output cell\nvar outputEl = gd.closest('.output');\nif (outputEl) {{\n    x.observe(outputEl, {childList: true});\n}}\n\n                        })                };                });            </script>        </div>"
     },
     "metadata": {}
    }
   ],
   "source": [
    "px.pie(country, values=\"count\", names=\"country\", title=\"Origin of GStore visitors\", color_discrete_sequence=px.colors.sequential.Plasma)\n"
   ]
  },
  {
   "cell_type": "code",
   "execution_count": 120,
   "metadata": {},
   "outputs": [
    {
     "output_type": "display_data",
     "data": {
      "application/vnd.plotly.v1+json": {
       "config": {
        "plotlyServerURL": "https://plotly.com"
       },
       "data": [
        {
         "geo": "geo",
         "hovertemplate": "<b>%{hovertext}</b><br><br>country=United States<br>count=%{marker.size}<br>iso_alpha=%{location}<extra></extra>",
         "hovertext": [
          "United States"
         ],
         "legendgroup": "United States",
         "locations": [
          "USA"
         ],
         "marker": {
          "color": "#0d0887",
          "size": [
           24267
          ],
          "sizemode": "area",
          "sizeref": 60.6675,
          "symbol": "circle"
         },
         "mode": "markers",
         "name": "United States",
         "showlegend": true,
         "type": "scattergeo"
        },
        {
         "geo": "geo",
         "hovertemplate": "<b>%{hovertext}</b><br><br>country=India<br>count=%{marker.size}<br>iso_alpha=%{location}<extra></extra>",
         "hovertext": [
          "India"
         ],
         "legendgroup": "India",
         "locations": [
          "IND"
         ],
         "marker": {
          "color": "#46039f",
          "size": [
           3439
          ],
          "sizemode": "area",
          "sizeref": 60.6675,
          "symbol": "circle"
         },
         "mode": "markers",
         "name": "India",
         "showlegend": true,
         "type": "scattergeo"
        },
        {
         "geo": "geo",
         "hovertemplate": "<b>%{hovertext}</b><br><br>country=United Kingdom<br>count=%{marker.size}<br>iso_alpha=%{location}<extra></extra>",
         "hovertext": [
          "United Kingdom"
         ],
         "legendgroup": "United Kingdom",
         "locations": [
          "GBR"
         ],
         "marker": {
          "color": "#7201a8",
          "size": [
           2487
          ],
          "sizemode": "area",
          "sizeref": 60.6675,
          "symbol": "circle"
         },
         "mode": "markers",
         "name": "United Kingdom",
         "showlegend": true,
         "type": "scattergeo"
        },
        {
         "geo": "geo",
         "hovertemplate": "<b>%{hovertext}</b><br><br>country=Canada<br>count=%{marker.size}<br>iso_alpha=%{location}<extra></extra>",
         "hovertext": [
          "Canada"
         ],
         "legendgroup": "Canada",
         "locations": [
          "CAN"
         ],
         "marker": {
          "color": "#9c179e",
          "size": [
           1703
          ],
          "sizemode": "area",
          "sizeref": 60.6675,
          "symbol": "circle"
         },
         "mode": "markers",
         "name": "Canada",
         "showlegend": true,
         "type": "scattergeo"
        },
        {
         "geo": "geo",
         "hovertemplate": "<b>%{hovertext}</b><br><br>country=Vietnam<br>count=%{marker.size}<br>iso_alpha=%{location}<extra></extra>",
         "hovertext": [
          "Vietnam"
         ],
         "legendgroup": "Vietnam",
         "locations": [
          "VNM"
         ],
         "marker": {
          "color": "#bd3786",
          "size": [
           1606
          ],
          "sizemode": "area",
          "sizeref": 60.6675,
          "symbol": "circle"
         },
         "mode": "markers",
         "name": "Vietnam",
         "showlegend": true,
         "type": "scattergeo"
        },
        {
         "geo": "geo",
         "hovertemplate": "<b>%{hovertext}</b><br><br>country=Turkey<br>count=%{marker.size}<br>iso_alpha=%{location}<extra></extra>",
         "hovertext": [
          "Turkey"
         ],
         "legendgroup": "Turkey",
         "locations": [
          "TUR"
         ],
         "marker": {
          "color": "#d8576b",
          "size": [
           1381
          ],
          "sizemode": "area",
          "sizeref": 60.6675,
          "symbol": "circle"
         },
         "mode": "markers",
         "name": "Turkey",
         "showlegend": true,
         "type": "scattergeo"
        },
        {
         "geo": "geo",
         "hovertemplate": "<b>%{hovertext}</b><br><br>country=Thailand<br>count=%{marker.size}<br>iso_alpha=%{location}<extra></extra>",
         "hovertext": [
          "Thailand"
         ],
         "legendgroup": "Thailand",
         "locations": [
          "THA"
         ],
         "marker": {
          "color": "#ed7953",
          "size": [
           1364
          ],
          "sizemode": "area",
          "sizeref": 60.6675,
          "symbol": "circle"
         },
         "mode": "markers",
         "name": "Thailand",
         "showlegend": true,
         "type": "scattergeo"
        },
        {
         "geo": "geo",
         "hovertemplate": "<b>%{hovertext}</b><br><br>country=Germany<br>count=%{marker.size}<br>iso_alpha=%{location}<extra></extra>",
         "hovertext": [
          "Germany"
         ],
         "legendgroup": "Germany",
         "locations": [
          "DEU"
         ],
         "marker": {
          "color": "#fb9f3a",
          "size": [
           1343
          ],
          "sizemode": "area",
          "sizeref": 60.6675,
          "symbol": "circle"
         },
         "mode": "markers",
         "name": "Germany",
         "showlegend": true,
         "type": "scattergeo"
        },
        {
         "geo": "geo",
         "hovertemplate": "<b>%{hovertext}</b><br><br>country=Japan<br>count=%{marker.size}<br>iso_alpha=%{location}<extra></extra>",
         "hovertext": [
          "Japan"
         ],
         "legendgroup": "Japan",
         "locations": [
          "JPN"
         ],
         "marker": {
          "color": "#fdca26",
          "size": [
           1338
          ],
          "sizemode": "area",
          "sizeref": 60.6675,
          "symbol": "circle"
         },
         "mode": "markers",
         "name": "Japan",
         "showlegend": true,
         "type": "scattergeo"
        },
        {
         "geo": "geo",
         "hovertemplate": "<b>%{hovertext}</b><br><br>country=Brazil<br>count=%{marker.size}<br>iso_alpha=%{location}<extra></extra>",
         "hovertext": [
          "Brazil"
         ],
         "legendgroup": "Brazil",
         "locations": [
          "BRA"
         ],
         "marker": {
          "color": "#f0f921",
          "size": [
           1301
          ],
          "sizemode": "area",
          "sizeref": 60.6675,
          "symbol": "circle"
         },
         "mode": "markers",
         "name": "Brazil",
         "showlegend": true,
         "type": "scattergeo"
        }
       ],
       "layout": {
        "geo": {
         "center": {},
         "domain": {
          "x": [
           0,
           1
          ],
          "y": [
           0,
           1
          ]
         },
         "projection": {
          "type": "natural earth"
         }
        },
        "legend": {
         "itemsizing": "constant",
         "title": {
          "text": "country"
         },
         "tracegroupgap": 0
        },
        "template": {
         "data": {
          "bar": [
           {
            "error_x": {
             "color": "#2a3f5f"
            },
            "error_y": {
             "color": "#2a3f5f"
            },
            "marker": {
             "line": {
              "color": "#E5ECF6",
              "width": 0.5
             }
            },
            "type": "bar"
           }
          ],
          "barpolar": [
           {
            "marker": {
             "line": {
              "color": "#E5ECF6",
              "width": 0.5
             }
            },
            "type": "barpolar"
           }
          ],
          "carpet": [
           {
            "aaxis": {
             "endlinecolor": "#2a3f5f",
             "gridcolor": "white",
             "linecolor": "white",
             "minorgridcolor": "white",
             "startlinecolor": "#2a3f5f"
            },
            "baxis": {
             "endlinecolor": "#2a3f5f",
             "gridcolor": "white",
             "linecolor": "white",
             "minorgridcolor": "white",
             "startlinecolor": "#2a3f5f"
            },
            "type": "carpet"
           }
          ],
          "choropleth": [
           {
            "colorbar": {
             "outlinewidth": 0,
             "ticks": ""
            },
            "type": "choropleth"
           }
          ],
          "contour": [
           {
            "colorbar": {
             "outlinewidth": 0,
             "ticks": ""
            },
            "colorscale": [
             [
              0,
              "#0d0887"
             ],
             [
              0.1111111111111111,
              "#46039f"
             ],
             [
              0.2222222222222222,
              "#7201a8"
             ],
             [
              0.3333333333333333,
              "#9c179e"
             ],
             [
              0.4444444444444444,
              "#bd3786"
             ],
             [
              0.5555555555555556,
              "#d8576b"
             ],
             [
              0.6666666666666666,
              "#ed7953"
             ],
             [
              0.7777777777777778,
              "#fb9f3a"
             ],
             [
              0.8888888888888888,
              "#fdca26"
             ],
             [
              1,
              "#f0f921"
             ]
            ],
            "type": "contour"
           }
          ],
          "contourcarpet": [
           {
            "colorbar": {
             "outlinewidth": 0,
             "ticks": ""
            },
            "type": "contourcarpet"
           }
          ],
          "heatmap": [
           {
            "colorbar": {
             "outlinewidth": 0,
             "ticks": ""
            },
            "colorscale": [
             [
              0,
              "#0d0887"
             ],
             [
              0.1111111111111111,
              "#46039f"
             ],
             [
              0.2222222222222222,
              "#7201a8"
             ],
             [
              0.3333333333333333,
              "#9c179e"
             ],
             [
              0.4444444444444444,
              "#bd3786"
             ],
             [
              0.5555555555555556,
              "#d8576b"
             ],
             [
              0.6666666666666666,
              "#ed7953"
             ],
             [
              0.7777777777777778,
              "#fb9f3a"
             ],
             [
              0.8888888888888888,
              "#fdca26"
             ],
             [
              1,
              "#f0f921"
             ]
            ],
            "type": "heatmap"
           }
          ],
          "heatmapgl": [
           {
            "colorbar": {
             "outlinewidth": 0,
             "ticks": ""
            },
            "colorscale": [
             [
              0,
              "#0d0887"
             ],
             [
              0.1111111111111111,
              "#46039f"
             ],
             [
              0.2222222222222222,
              "#7201a8"
             ],
             [
              0.3333333333333333,
              "#9c179e"
             ],
             [
              0.4444444444444444,
              "#bd3786"
             ],
             [
              0.5555555555555556,
              "#d8576b"
             ],
             [
              0.6666666666666666,
              "#ed7953"
             ],
             [
              0.7777777777777778,
              "#fb9f3a"
             ],
             [
              0.8888888888888888,
              "#fdca26"
             ],
             [
              1,
              "#f0f921"
             ]
            ],
            "type": "heatmapgl"
           }
          ],
          "histogram": [
           {
            "marker": {
             "colorbar": {
              "outlinewidth": 0,
              "ticks": ""
             }
            },
            "type": "histogram"
           }
          ],
          "histogram2d": [
           {
            "colorbar": {
             "outlinewidth": 0,
             "ticks": ""
            },
            "colorscale": [
             [
              0,
              "#0d0887"
             ],
             [
              0.1111111111111111,
              "#46039f"
             ],
             [
              0.2222222222222222,
              "#7201a8"
             ],
             [
              0.3333333333333333,
              "#9c179e"
             ],
             [
              0.4444444444444444,
              "#bd3786"
             ],
             [
              0.5555555555555556,
              "#d8576b"
             ],
             [
              0.6666666666666666,
              "#ed7953"
             ],
             [
              0.7777777777777778,
              "#fb9f3a"
             ],
             [
              0.8888888888888888,
              "#fdca26"
             ],
             [
              1,
              "#f0f921"
             ]
            ],
            "type": "histogram2d"
           }
          ],
          "histogram2dcontour": [
           {
            "colorbar": {
             "outlinewidth": 0,
             "ticks": ""
            },
            "colorscale": [
             [
              0,
              "#0d0887"
             ],
             [
              0.1111111111111111,
              "#46039f"
             ],
             [
              0.2222222222222222,
              "#7201a8"
             ],
             [
              0.3333333333333333,
              "#9c179e"
             ],
             [
              0.4444444444444444,
              "#bd3786"
             ],
             [
              0.5555555555555556,
              "#d8576b"
             ],
             [
              0.6666666666666666,
              "#ed7953"
             ],
             [
              0.7777777777777778,
              "#fb9f3a"
             ],
             [
              0.8888888888888888,
              "#fdca26"
             ],
             [
              1,
              "#f0f921"
             ]
            ],
            "type": "histogram2dcontour"
           }
          ],
          "mesh3d": [
           {
            "colorbar": {
             "outlinewidth": 0,
             "ticks": ""
            },
            "type": "mesh3d"
           }
          ],
          "parcoords": [
           {
            "line": {
             "colorbar": {
              "outlinewidth": 0,
              "ticks": ""
             }
            },
            "type": "parcoords"
           }
          ],
          "pie": [
           {
            "automargin": true,
            "type": "pie"
           }
          ],
          "scatter": [
           {
            "marker": {
             "colorbar": {
              "outlinewidth": 0,
              "ticks": ""
             }
            },
            "type": "scatter"
           }
          ],
          "scatter3d": [
           {
            "line": {
             "colorbar": {
              "outlinewidth": 0,
              "ticks": ""
             }
            },
            "marker": {
             "colorbar": {
              "outlinewidth": 0,
              "ticks": ""
             }
            },
            "type": "scatter3d"
           }
          ],
          "scattercarpet": [
           {
            "marker": {
             "colorbar": {
              "outlinewidth": 0,
              "ticks": ""
             }
            },
            "type": "scattercarpet"
           }
          ],
          "scattergeo": [
           {
            "marker": {
             "colorbar": {
              "outlinewidth": 0,
              "ticks": ""
             }
            },
            "type": "scattergeo"
           }
          ],
          "scattergl": [
           {
            "marker": {
             "colorbar": {
              "outlinewidth": 0,
              "ticks": ""
             }
            },
            "type": "scattergl"
           }
          ],
          "scattermapbox": [
           {
            "marker": {
             "colorbar": {
              "outlinewidth": 0,
              "ticks": ""
             }
            },
            "type": "scattermapbox"
           }
          ],
          "scatterpolar": [
           {
            "marker": {
             "colorbar": {
              "outlinewidth": 0,
              "ticks": ""
             }
            },
            "type": "scatterpolar"
           }
          ],
          "scatterpolargl": [
           {
            "marker": {
             "colorbar": {
              "outlinewidth": 0,
              "ticks": ""
             }
            },
            "type": "scatterpolargl"
           }
          ],
          "scatterternary": [
           {
            "marker": {
             "colorbar": {
              "outlinewidth": 0,
              "ticks": ""
             }
            },
            "type": "scatterternary"
           }
          ],
          "surface": [
           {
            "colorbar": {
             "outlinewidth": 0,
             "ticks": ""
            },
            "colorscale": [
             [
              0,
              "#0d0887"
             ],
             [
              0.1111111111111111,
              "#46039f"
             ],
             [
              0.2222222222222222,
              "#7201a8"
             ],
             [
              0.3333333333333333,
              "#9c179e"
             ],
             [
              0.4444444444444444,
              "#bd3786"
             ],
             [
              0.5555555555555556,
              "#d8576b"
             ],
             [
              0.6666666666666666,
              "#ed7953"
             ],
             [
              0.7777777777777778,
              "#fb9f3a"
             ],
             [
              0.8888888888888888,
              "#fdca26"
             ],
             [
              1,
              "#f0f921"
             ]
            ],
            "type": "surface"
           }
          ],
          "table": [
           {
            "cells": {
             "fill": {
              "color": "#EBF0F8"
             },
             "line": {
              "color": "white"
             }
            },
            "header": {
             "fill": {
              "color": "#C8D4E3"
             },
             "line": {
              "color": "white"
             }
            },
            "type": "table"
           }
          ]
         },
         "layout": {
          "annotationdefaults": {
           "arrowcolor": "#2a3f5f",
           "arrowhead": 0,
           "arrowwidth": 1
          },
          "autotypenumbers": "strict",
          "coloraxis": {
           "colorbar": {
            "outlinewidth": 0,
            "ticks": ""
           }
          },
          "colorscale": {
           "diverging": [
            [
             0,
             "#8e0152"
            ],
            [
             0.1,
             "#c51b7d"
            ],
            [
             0.2,
             "#de77ae"
            ],
            [
             0.3,
             "#f1b6da"
            ],
            [
             0.4,
             "#fde0ef"
            ],
            [
             0.5,
             "#f7f7f7"
            ],
            [
             0.6,
             "#e6f5d0"
            ],
            [
             0.7,
             "#b8e186"
            ],
            [
             0.8,
             "#7fbc41"
            ],
            [
             0.9,
             "#4d9221"
            ],
            [
             1,
             "#276419"
            ]
           ],
           "sequential": [
            [
             0,
             "#0d0887"
            ],
            [
             0.1111111111111111,
             "#46039f"
            ],
            [
             0.2222222222222222,
             "#7201a8"
            ],
            [
             0.3333333333333333,
             "#9c179e"
            ],
            [
             0.4444444444444444,
             "#bd3786"
            ],
            [
             0.5555555555555556,
             "#d8576b"
            ],
            [
             0.6666666666666666,
             "#ed7953"
            ],
            [
             0.7777777777777778,
             "#fb9f3a"
            ],
            [
             0.8888888888888888,
             "#fdca26"
            ],
            [
             1,
             "#f0f921"
            ]
           ],
           "sequentialminus": [
            [
             0,
             "#0d0887"
            ],
            [
             0.1111111111111111,
             "#46039f"
            ],
            [
             0.2222222222222222,
             "#7201a8"
            ],
            [
             0.3333333333333333,
             "#9c179e"
            ],
            [
             0.4444444444444444,
             "#bd3786"
            ],
            [
             0.5555555555555556,
             "#d8576b"
            ],
            [
             0.6666666666666666,
             "#ed7953"
            ],
            [
             0.7777777777777778,
             "#fb9f3a"
            ],
            [
             0.8888888888888888,
             "#fdca26"
            ],
            [
             1,
             "#f0f921"
            ]
           ]
          },
          "colorway": [
           "#636efa",
           "#EF553B",
           "#00cc96",
           "#ab63fa",
           "#FFA15A",
           "#19d3f3",
           "#FF6692",
           "#B6E880",
           "#FF97FF",
           "#FECB52"
          ],
          "font": {
           "color": "#2a3f5f"
          },
          "geo": {
           "bgcolor": "white",
           "lakecolor": "white",
           "landcolor": "#E5ECF6",
           "showlakes": true,
           "showland": true,
           "subunitcolor": "white"
          },
          "hoverlabel": {
           "align": "left"
          },
          "hovermode": "closest",
          "mapbox": {
           "style": "light"
          },
          "paper_bgcolor": "white",
          "plot_bgcolor": "#E5ECF6",
          "polar": {
           "angularaxis": {
            "gridcolor": "white",
            "linecolor": "white",
            "ticks": ""
           },
           "bgcolor": "#E5ECF6",
           "radialaxis": {
            "gridcolor": "white",
            "linecolor": "white",
            "ticks": ""
           }
          },
          "scene": {
           "xaxis": {
            "backgroundcolor": "#E5ECF6",
            "gridcolor": "white",
            "gridwidth": 2,
            "linecolor": "white",
            "showbackground": true,
            "ticks": "",
            "zerolinecolor": "white"
           },
           "yaxis": {
            "backgroundcolor": "#E5ECF6",
            "gridcolor": "white",
            "gridwidth": 2,
            "linecolor": "white",
            "showbackground": true,
            "ticks": "",
            "zerolinecolor": "white"
           },
           "zaxis": {
            "backgroundcolor": "#E5ECF6",
            "gridcolor": "white",
            "gridwidth": 2,
            "linecolor": "white",
            "showbackground": true,
            "ticks": "",
            "zerolinecolor": "white"
           }
          },
          "shapedefaults": {
           "line": {
            "color": "#2a3f5f"
           }
          },
          "ternary": {
           "aaxis": {
            "gridcolor": "white",
            "linecolor": "white",
            "ticks": ""
           },
           "baxis": {
            "gridcolor": "white",
            "linecolor": "white",
            "ticks": ""
           },
           "bgcolor": "#E5ECF6",
           "caxis": {
            "gridcolor": "white",
            "linecolor": "white",
            "ticks": ""
           }
          },
          "title": {
           "x": 0.05
          },
          "xaxis": {
           "automargin": true,
           "gridcolor": "white",
           "linecolor": "white",
           "ticks": "",
           "title": {
            "standoff": 15
           },
           "zerolinecolor": "white",
           "zerolinewidth": 2
          },
          "yaxis": {
           "automargin": true,
           "gridcolor": "white",
           "linecolor": "white",
           "ticks": "",
           "title": {
            "standoff": 15
           },
           "zerolinecolor": "white",
           "zerolinewidth": 2
          }
         }
        },
        "title": {
         "text": "Origin of GStore website vistiors"
        }
       }
      },
      "text/html": "<div>                            <div id=\"98f906e8-5e1b-436c-b11d-a2c57c9cb14c\" class=\"plotly-graph-div\" style=\"height:525px; width:100%;\"></div>            <script type=\"text/javascript\">                require([\"plotly\"], function(Plotly) {                    window.PLOTLYENV=window.PLOTLYENV || {};                                    if (document.getElementById(\"98f906e8-5e1b-436c-b11d-a2c57c9cb14c\")) {                    Plotly.newPlot(                        \"98f906e8-5e1b-436c-b11d-a2c57c9cb14c\",                        [{\"geo\": \"geo\", \"hovertemplate\": \"<b>%{hovertext}</b><br><br>country=United States<br>count=%{marker.size}<br>iso_alpha=%{location}<extra></extra>\", \"hovertext\": [\"United States\"], \"legendgroup\": \"United States\", \"locations\": [\"USA\"], \"marker\": {\"color\": \"#0d0887\", \"size\": [24267], \"sizemode\": \"area\", \"sizeref\": 60.6675, \"symbol\": \"circle\"}, \"mode\": \"markers\", \"name\": \"United States\", \"showlegend\": true, \"type\": \"scattergeo\"}, {\"geo\": \"geo\", \"hovertemplate\": \"<b>%{hovertext}</b><br><br>country=India<br>count=%{marker.size}<br>iso_alpha=%{location}<extra></extra>\", \"hovertext\": [\"India\"], \"legendgroup\": \"India\", \"locations\": [\"IND\"], \"marker\": {\"color\": \"#46039f\", \"size\": [3439], \"sizemode\": \"area\", \"sizeref\": 60.6675, \"symbol\": \"circle\"}, \"mode\": \"markers\", \"name\": \"India\", \"showlegend\": true, \"type\": \"scattergeo\"}, {\"geo\": \"geo\", \"hovertemplate\": \"<b>%{hovertext}</b><br><br>country=United Kingdom<br>count=%{marker.size}<br>iso_alpha=%{location}<extra></extra>\", \"hovertext\": [\"United Kingdom\"], \"legendgroup\": \"United Kingdom\", \"locations\": [\"GBR\"], \"marker\": {\"color\": \"#7201a8\", \"size\": [2487], \"sizemode\": \"area\", \"sizeref\": 60.6675, \"symbol\": \"circle\"}, \"mode\": \"markers\", \"name\": \"United Kingdom\", \"showlegend\": true, \"type\": \"scattergeo\"}, {\"geo\": \"geo\", \"hovertemplate\": \"<b>%{hovertext}</b><br><br>country=Canada<br>count=%{marker.size}<br>iso_alpha=%{location}<extra></extra>\", \"hovertext\": [\"Canada\"], \"legendgroup\": \"Canada\", \"locations\": [\"CAN\"], \"marker\": {\"color\": \"#9c179e\", \"size\": [1703], \"sizemode\": \"area\", \"sizeref\": 60.6675, \"symbol\": \"circle\"}, \"mode\": \"markers\", \"name\": \"Canada\", \"showlegend\": true, \"type\": \"scattergeo\"}, {\"geo\": \"geo\", \"hovertemplate\": \"<b>%{hovertext}</b><br><br>country=Vietnam<br>count=%{marker.size}<br>iso_alpha=%{location}<extra></extra>\", \"hovertext\": [\"Vietnam\"], \"legendgroup\": \"Vietnam\", \"locations\": [\"VNM\"], \"marker\": {\"color\": \"#bd3786\", \"size\": [1606], \"sizemode\": \"area\", \"sizeref\": 60.6675, \"symbol\": \"circle\"}, \"mode\": \"markers\", \"name\": \"Vietnam\", \"showlegend\": true, \"type\": \"scattergeo\"}, {\"geo\": \"geo\", \"hovertemplate\": \"<b>%{hovertext}</b><br><br>country=Turkey<br>count=%{marker.size}<br>iso_alpha=%{location}<extra></extra>\", \"hovertext\": [\"Turkey\"], \"legendgroup\": \"Turkey\", \"locations\": [\"TUR\"], \"marker\": {\"color\": \"#d8576b\", \"size\": [1381], \"sizemode\": \"area\", \"sizeref\": 60.6675, \"symbol\": \"circle\"}, \"mode\": \"markers\", \"name\": \"Turkey\", \"showlegend\": true, \"type\": \"scattergeo\"}, {\"geo\": \"geo\", \"hovertemplate\": \"<b>%{hovertext}</b><br><br>country=Thailand<br>count=%{marker.size}<br>iso_alpha=%{location}<extra></extra>\", \"hovertext\": [\"Thailand\"], \"legendgroup\": \"Thailand\", \"locations\": [\"THA\"], \"marker\": {\"color\": \"#ed7953\", \"size\": [1364], \"sizemode\": \"area\", \"sizeref\": 60.6675, \"symbol\": \"circle\"}, \"mode\": \"markers\", \"name\": \"Thailand\", \"showlegend\": true, \"type\": \"scattergeo\"}, {\"geo\": \"geo\", \"hovertemplate\": \"<b>%{hovertext}</b><br><br>country=Germany<br>count=%{marker.size}<br>iso_alpha=%{location}<extra></extra>\", \"hovertext\": [\"Germany\"], \"legendgroup\": \"Germany\", \"locations\": [\"DEU\"], \"marker\": {\"color\": \"#fb9f3a\", \"size\": [1343], \"sizemode\": \"area\", \"sizeref\": 60.6675, \"symbol\": \"circle\"}, \"mode\": \"markers\", \"name\": \"Germany\", \"showlegend\": true, \"type\": \"scattergeo\"}, {\"geo\": \"geo\", \"hovertemplate\": \"<b>%{hovertext}</b><br><br>country=Japan<br>count=%{marker.size}<br>iso_alpha=%{location}<extra></extra>\", \"hovertext\": [\"Japan\"], \"legendgroup\": \"Japan\", \"locations\": [\"JPN\"], \"marker\": {\"color\": \"#fdca26\", \"size\": [1338], \"sizemode\": \"area\", \"sizeref\": 60.6675, \"symbol\": \"circle\"}, \"mode\": \"markers\", \"name\": \"Japan\", \"showlegend\": true, \"type\": \"scattergeo\"}, {\"geo\": \"geo\", \"hovertemplate\": \"<b>%{hovertext}</b><br><br>country=Brazil<br>count=%{marker.size}<br>iso_alpha=%{location}<extra></extra>\", \"hovertext\": [\"Brazil\"], \"legendgroup\": \"Brazil\", \"locations\": [\"BRA\"], \"marker\": {\"color\": \"#f0f921\", \"size\": [1301], \"sizemode\": \"area\", \"sizeref\": 60.6675, \"symbol\": \"circle\"}, \"mode\": \"markers\", \"name\": \"Brazil\", \"showlegend\": true, \"type\": \"scattergeo\"}],                        {\"geo\": {\"center\": {}, \"domain\": {\"x\": [0.0, 1.0], \"y\": [0.0, 1.0]}, \"projection\": {\"type\": \"natural earth\"}}, \"legend\": {\"itemsizing\": \"constant\", \"title\": {\"text\": \"country\"}, \"tracegroupgap\": 0}, \"template\": {\"data\": {\"bar\": [{\"error_x\": {\"color\": \"#2a3f5f\"}, \"error_y\": {\"color\": \"#2a3f5f\"}, \"marker\": {\"line\": {\"color\": \"#E5ECF6\", \"width\": 0.5}}, \"type\": \"bar\"}], \"barpolar\": [{\"marker\": {\"line\": {\"color\": \"#E5ECF6\", \"width\": 0.5}}, \"type\": \"barpolar\"}], \"carpet\": [{\"aaxis\": {\"endlinecolor\": \"#2a3f5f\", \"gridcolor\": \"white\", \"linecolor\": \"white\", \"minorgridcolor\": \"white\", \"startlinecolor\": \"#2a3f5f\"}, \"baxis\": {\"endlinecolor\": \"#2a3f5f\", \"gridcolor\": \"white\", \"linecolor\": \"white\", \"minorgridcolor\": \"white\", \"startlinecolor\": \"#2a3f5f\"}, \"type\": \"carpet\"}], \"choropleth\": [{\"colorbar\": {\"outlinewidth\": 0, \"ticks\": \"\"}, \"type\": \"choropleth\"}], \"contour\": [{\"colorbar\": {\"outlinewidth\": 0, \"ticks\": \"\"}, \"colorscale\": [[0.0, \"#0d0887\"], [0.1111111111111111, \"#46039f\"], [0.2222222222222222, \"#7201a8\"], [0.3333333333333333, \"#9c179e\"], [0.4444444444444444, \"#bd3786\"], [0.5555555555555556, \"#d8576b\"], [0.6666666666666666, \"#ed7953\"], [0.7777777777777778, \"#fb9f3a\"], [0.8888888888888888, \"#fdca26\"], [1.0, \"#f0f921\"]], \"type\": \"contour\"}], \"contourcarpet\": [{\"colorbar\": {\"outlinewidth\": 0, \"ticks\": \"\"}, \"type\": \"contourcarpet\"}], \"heatmap\": [{\"colorbar\": {\"outlinewidth\": 0, \"ticks\": \"\"}, \"colorscale\": [[0.0, \"#0d0887\"], [0.1111111111111111, \"#46039f\"], [0.2222222222222222, \"#7201a8\"], [0.3333333333333333, \"#9c179e\"], [0.4444444444444444, \"#bd3786\"], [0.5555555555555556, \"#d8576b\"], [0.6666666666666666, \"#ed7953\"], [0.7777777777777778, \"#fb9f3a\"], [0.8888888888888888, \"#fdca26\"], [1.0, \"#f0f921\"]], \"type\": \"heatmap\"}], \"heatmapgl\": [{\"colorbar\": {\"outlinewidth\": 0, \"ticks\": \"\"}, \"colorscale\": [[0.0, \"#0d0887\"], [0.1111111111111111, \"#46039f\"], [0.2222222222222222, \"#7201a8\"], [0.3333333333333333, \"#9c179e\"], [0.4444444444444444, \"#bd3786\"], [0.5555555555555556, \"#d8576b\"], [0.6666666666666666, \"#ed7953\"], [0.7777777777777778, \"#fb9f3a\"], [0.8888888888888888, \"#fdca26\"], [1.0, \"#f0f921\"]], \"type\": \"heatmapgl\"}], \"histogram\": [{\"marker\": {\"colorbar\": {\"outlinewidth\": 0, \"ticks\": \"\"}}, \"type\": \"histogram\"}], \"histogram2d\": [{\"colorbar\": {\"outlinewidth\": 0, \"ticks\": \"\"}, \"colorscale\": [[0.0, \"#0d0887\"], [0.1111111111111111, \"#46039f\"], [0.2222222222222222, \"#7201a8\"], [0.3333333333333333, \"#9c179e\"], [0.4444444444444444, \"#bd3786\"], [0.5555555555555556, \"#d8576b\"], [0.6666666666666666, \"#ed7953\"], [0.7777777777777778, \"#fb9f3a\"], [0.8888888888888888, \"#fdca26\"], [1.0, \"#f0f921\"]], \"type\": \"histogram2d\"}], \"histogram2dcontour\": [{\"colorbar\": {\"outlinewidth\": 0, \"ticks\": \"\"}, \"colorscale\": [[0.0, \"#0d0887\"], [0.1111111111111111, \"#46039f\"], [0.2222222222222222, \"#7201a8\"], [0.3333333333333333, \"#9c179e\"], [0.4444444444444444, \"#bd3786\"], [0.5555555555555556, \"#d8576b\"], [0.6666666666666666, \"#ed7953\"], [0.7777777777777778, \"#fb9f3a\"], [0.8888888888888888, \"#fdca26\"], [1.0, \"#f0f921\"]], \"type\": \"histogram2dcontour\"}], \"mesh3d\": [{\"colorbar\": {\"outlinewidth\": 0, \"ticks\": \"\"}, \"type\": \"mesh3d\"}], \"parcoords\": [{\"line\": {\"colorbar\": {\"outlinewidth\": 0, \"ticks\": \"\"}}, \"type\": \"parcoords\"}], \"pie\": [{\"automargin\": true, \"type\": \"pie\"}], \"scatter\": [{\"marker\": {\"colorbar\": {\"outlinewidth\": 0, \"ticks\": \"\"}}, \"type\": \"scatter\"}], \"scatter3d\": [{\"line\": {\"colorbar\": {\"outlinewidth\": 0, \"ticks\": \"\"}}, \"marker\": {\"colorbar\": {\"outlinewidth\": 0, \"ticks\": \"\"}}, \"type\": \"scatter3d\"}], \"scattercarpet\": [{\"marker\": {\"colorbar\": {\"outlinewidth\": 0, \"ticks\": \"\"}}, \"type\": \"scattercarpet\"}], \"scattergeo\": [{\"marker\": {\"colorbar\": {\"outlinewidth\": 0, \"ticks\": \"\"}}, \"type\": \"scattergeo\"}], \"scattergl\": [{\"marker\": {\"colorbar\": {\"outlinewidth\": 0, \"ticks\": \"\"}}, \"type\": \"scattergl\"}], \"scattermapbox\": [{\"marker\": {\"colorbar\": {\"outlinewidth\": 0, \"ticks\": \"\"}}, \"type\": \"scattermapbox\"}], \"scatterpolar\": [{\"marker\": {\"colorbar\": {\"outlinewidth\": 0, \"ticks\": \"\"}}, \"type\": \"scatterpolar\"}], \"scatterpolargl\": [{\"marker\": {\"colorbar\": {\"outlinewidth\": 0, \"ticks\": \"\"}}, \"type\": \"scatterpolargl\"}], \"scatterternary\": [{\"marker\": {\"colorbar\": {\"outlinewidth\": 0, \"ticks\": \"\"}}, \"type\": \"scatterternary\"}], \"surface\": [{\"colorbar\": {\"outlinewidth\": 0, \"ticks\": \"\"}, \"colorscale\": [[0.0, \"#0d0887\"], [0.1111111111111111, \"#46039f\"], [0.2222222222222222, \"#7201a8\"], [0.3333333333333333, \"#9c179e\"], [0.4444444444444444, \"#bd3786\"], [0.5555555555555556, \"#d8576b\"], [0.6666666666666666, \"#ed7953\"], [0.7777777777777778, \"#fb9f3a\"], [0.8888888888888888, \"#fdca26\"], [1.0, \"#f0f921\"]], \"type\": \"surface\"}], \"table\": [{\"cells\": {\"fill\": {\"color\": \"#EBF0F8\"}, \"line\": {\"color\": \"white\"}}, \"header\": {\"fill\": {\"color\": \"#C8D4E3\"}, \"line\": {\"color\": \"white\"}}, \"type\": \"table\"}]}, \"layout\": {\"annotationdefaults\": {\"arrowcolor\": \"#2a3f5f\", \"arrowhead\": 0, \"arrowwidth\": 1}, \"autotypenumbers\": \"strict\", \"coloraxis\": {\"colorbar\": {\"outlinewidth\": 0, \"ticks\": \"\"}}, \"colorscale\": {\"diverging\": [[0, \"#8e0152\"], [0.1, \"#c51b7d\"], [0.2, \"#de77ae\"], [0.3, \"#f1b6da\"], [0.4, \"#fde0ef\"], [0.5, \"#f7f7f7\"], [0.6, \"#e6f5d0\"], [0.7, \"#b8e186\"], [0.8, \"#7fbc41\"], [0.9, \"#4d9221\"], [1, \"#276419\"]], \"sequential\": [[0.0, \"#0d0887\"], [0.1111111111111111, \"#46039f\"], [0.2222222222222222, \"#7201a8\"], [0.3333333333333333, \"#9c179e\"], [0.4444444444444444, \"#bd3786\"], [0.5555555555555556, \"#d8576b\"], [0.6666666666666666, \"#ed7953\"], [0.7777777777777778, \"#fb9f3a\"], [0.8888888888888888, \"#fdca26\"], [1.0, \"#f0f921\"]], \"sequentialminus\": [[0.0, \"#0d0887\"], [0.1111111111111111, \"#46039f\"], [0.2222222222222222, \"#7201a8\"], [0.3333333333333333, \"#9c179e\"], [0.4444444444444444, \"#bd3786\"], [0.5555555555555556, \"#d8576b\"], [0.6666666666666666, \"#ed7953\"], [0.7777777777777778, \"#fb9f3a\"], [0.8888888888888888, \"#fdca26\"], [1.0, \"#f0f921\"]]}, \"colorway\": [\"#636efa\", \"#EF553B\", \"#00cc96\", \"#ab63fa\", \"#FFA15A\", \"#19d3f3\", \"#FF6692\", \"#B6E880\", \"#FF97FF\", \"#FECB52\"], \"font\": {\"color\": \"#2a3f5f\"}, \"geo\": {\"bgcolor\": \"white\", \"lakecolor\": \"white\", \"landcolor\": \"#E5ECF6\", \"showlakes\": true, \"showland\": true, \"subunitcolor\": \"white\"}, \"hoverlabel\": {\"align\": \"left\"}, \"hovermode\": \"closest\", \"mapbox\": {\"style\": \"light\"}, \"paper_bgcolor\": \"white\", \"plot_bgcolor\": \"#E5ECF6\", \"polar\": {\"angularaxis\": {\"gridcolor\": \"white\", \"linecolor\": \"white\", \"ticks\": \"\"}, \"bgcolor\": \"#E5ECF6\", \"radialaxis\": {\"gridcolor\": \"white\", \"linecolor\": \"white\", \"ticks\": \"\"}}, \"scene\": {\"xaxis\": {\"backgroundcolor\": \"#E5ECF6\", \"gridcolor\": \"white\", \"gridwidth\": 2, \"linecolor\": \"white\", \"showbackground\": true, \"ticks\": \"\", \"zerolinecolor\": \"white\"}, \"yaxis\": {\"backgroundcolor\": \"#E5ECF6\", \"gridcolor\": \"white\", \"gridwidth\": 2, \"linecolor\": \"white\", \"showbackground\": true, \"ticks\": \"\", \"zerolinecolor\": \"white\"}, \"zaxis\": {\"backgroundcolor\": \"#E5ECF6\", \"gridcolor\": \"white\", \"gridwidth\": 2, \"linecolor\": \"white\", \"showbackground\": true, \"ticks\": \"\", \"zerolinecolor\": \"white\"}}, \"shapedefaults\": {\"line\": {\"color\": \"#2a3f5f\"}}, \"ternary\": {\"aaxis\": {\"gridcolor\": \"white\", \"linecolor\": \"white\", \"ticks\": \"\"}, \"baxis\": {\"gridcolor\": \"white\", \"linecolor\": \"white\", \"ticks\": \"\"}, \"bgcolor\": \"#E5ECF6\", \"caxis\": {\"gridcolor\": \"white\", \"linecolor\": \"white\", \"ticks\": \"\"}}, \"title\": {\"x\": 0.05}, \"xaxis\": {\"automargin\": true, \"gridcolor\": \"white\", \"linecolor\": \"white\", \"ticks\": \"\", \"title\": {\"standoff\": 15}, \"zerolinecolor\": \"white\", \"zerolinewidth\": 2}, \"yaxis\": {\"automargin\": true, \"gridcolor\": \"white\", \"linecolor\": \"white\", \"ticks\": \"\", \"title\": {\"standoff\": 15}, \"zerolinecolor\": \"white\", \"zerolinewidth\": 2}}}, \"title\": {\"text\": \"Origin of GStore website vistiors\"}},                        {\"responsive\": true}                    ).then(function(){\n                            \nvar gd = document.getElementById('98f906e8-5e1b-436c-b11d-a2c57c9cb14c');\nvar x = new MutationObserver(function (mutations, observer) {{\n        var display = window.getComputedStyle(gd).display;\n        if (!display || display === 'none') {{\n            console.log([gd, 'removed!']);\n            Plotly.purge(gd);\n            observer.disconnect();\n        }}\n}});\n\n// Listen for the removal of the full notebook cells\nvar notebookContainer = gd.closest('#notebook-container');\nif (notebookContainer) {{\n    x.observe(notebookContainer, {childList: true});\n}}\n\n// Listen for the clearing of the current output cell\nvar outputEl = gd.closest('.output');\nif (outputEl) {{\n    x.observe(outputEl, {childList: true});\n}}\n\n                        })                };                });            </script>        </div>"
     },
     "metadata": {}
    }
   ],
   "source": [
    "fig = px.scatter_geo(map1, locations=\"iso_alpha\", color=\"country\", color_discrete_sequence=px.colors.sequential.Plasma,\n",
    "                     hover_name=\"country\", size=\"count\",\n",
    "                     projection=\"natural earth\", title=\"Origin of GStore website vistiors\")\n",
    "fig.show()"
   ]
  },
  {
   "cell_type": "code",
   "execution_count": 113,
   "metadata": {},
   "outputs": [
    {
     "output_type": "execute_result",
     "data": {
      "text/plain": [
       "                 country iso_alpha\n",
       "11           Afghanistan       AFG\n",
       "23               Albania       ALB\n",
       "35               Algeria       DZA\n",
       "47                Angola       AGO\n",
       "59             Argentina       ARG\n",
       "...                  ...       ...\n",
       "1655             Vietnam       VNM\n",
       "1667  West Bank and Gaza       PSE\n",
       "1679         Yemen, Rep.       YEM\n",
       "1691              Zambia       ZMB\n",
       "1703            Zimbabwe       ZWE\n",
       "\n",
       "[142 rows x 2 columns]"
      ],
      "text/html": "<div>\n<style scoped>\n    .dataframe tbody tr th:only-of-type {\n        vertical-align: middle;\n    }\n\n    .dataframe tbody tr th {\n        vertical-align: top;\n    }\n\n    .dataframe thead th {\n        text-align: right;\n    }\n</style>\n<table border=\"1\" class=\"dataframe\">\n  <thead>\n    <tr style=\"text-align: right;\">\n      <th></th>\n      <th>country</th>\n      <th>iso_alpha</th>\n    </tr>\n  </thead>\n  <tbody>\n    <tr>\n      <th>11</th>\n      <td>Afghanistan</td>\n      <td>AFG</td>\n    </tr>\n    <tr>\n      <th>23</th>\n      <td>Albania</td>\n      <td>ALB</td>\n    </tr>\n    <tr>\n      <th>35</th>\n      <td>Algeria</td>\n      <td>DZA</td>\n    </tr>\n    <tr>\n      <th>47</th>\n      <td>Angola</td>\n      <td>AGO</td>\n    </tr>\n    <tr>\n      <th>59</th>\n      <td>Argentina</td>\n      <td>ARG</td>\n    </tr>\n    <tr>\n      <th>...</th>\n      <td>...</td>\n      <td>...</td>\n    </tr>\n    <tr>\n      <th>1655</th>\n      <td>Vietnam</td>\n      <td>VNM</td>\n    </tr>\n    <tr>\n      <th>1667</th>\n      <td>West Bank and Gaza</td>\n      <td>PSE</td>\n    </tr>\n    <tr>\n      <th>1679</th>\n      <td>Yemen, Rep.</td>\n      <td>YEM</td>\n    </tr>\n    <tr>\n      <th>1691</th>\n      <td>Zambia</td>\n      <td>ZMB</td>\n    </tr>\n    <tr>\n      <th>1703</th>\n      <td>Zimbabwe</td>\n      <td>ZWE</td>\n    </tr>\n  </tbody>\n</table>\n<p>142 rows × 2 columns</p>\n</div>"
     },
     "metadata": {},
     "execution_count": 113
    }
   ],
   "source": [
    "\n"
   ]
  },
  {
   "cell_type": "code",
   "execution_count": 53,
   "metadata": {},
   "outputs": [],
   "source": [
    "# ??? list(geoNetwork.networkDomain.unique()) # list of website where users came from, not going to use it "
   ]
  },
  {
   "cell_type": "code",
   "execution_count": null,
   "metadata": {},
   "outputs": [],
   "source": [
    "# Now the exploration will be run on DEVICE\n",
    "# what devices are visitors using?\n",
    "# what are the main used browsers or OS?"
   ]
  },
  {
   "cell_type": "code",
   "execution_count": 49,
   "metadata": {},
   "outputs": [
    {
     "output_type": "execute_result",
     "data": {
      "text/plain": [
       "browser                      object\n",
       "browserVersion               object\n",
       "browserSize                  object\n",
       "operatingSystem              object\n",
       "operatingSystemVersion       object\n",
       "isMobile                       bool\n",
       "mobileDeviceBranding         object\n",
       "mobileDeviceModel            object\n",
       "mobileInputSelector          object\n",
       "mobileDeviceInfo             object\n",
       "mobileDeviceMarketingName    object\n",
       "flashVersion                 object\n",
       "language                     object\n",
       "screenColors                 object\n",
       "screenResolution             object\n",
       "deviceCategory               object\n",
       "dtype: object"
      ]
     },
     "metadata": {},
     "execution_count": 49
    }
   ],
   "source": [
    "device.dtypes"
   ]
  },
  {
   "cell_type": "code",
   "execution_count": 50,
   "metadata": {},
   "outputs": [
    {
     "output_type": "execute_result",
     "data": {
      "text/plain": [
       "browser                      0\n",
       "browserVersion               0\n",
       "browserSize                  0\n",
       "operatingSystem              0\n",
       "operatingSystemVersion       0\n",
       "isMobile                     0\n",
       "mobileDeviceBranding         0\n",
       "mobileDeviceModel            0\n",
       "mobileInputSelector          0\n",
       "mobileDeviceInfo             0\n",
       "mobileDeviceMarketingName    0\n",
       "flashVersion                 0\n",
       "language                     0\n",
       "screenColors                 0\n",
       "screenResolution             0\n",
       "deviceCategory               0\n",
       "dtype: int64"
      ]
     },
     "metadata": {},
     "execution_count": 50
    }
   ],
   "source": [
    "# No null data, check on \"not available in demo dataset\"\n",
    "device.isnull().sum()"
   ]
  },
  {
   "cell_type": "code",
   "execution_count": 51,
   "metadata": {},
   "outputs": [
    {
     "output_type": "execute_result",
     "data": {
      "text/plain": [
       "browser                          0\n",
       "browserVersion               60000\n",
       "browserSize                  60000\n",
       "operatingSystem                  0\n",
       "operatingSystemVersion       60000\n",
       "isMobile                         0\n",
       "mobileDeviceBranding         60000\n",
       "mobileDeviceModel            60000\n",
       "mobileInputSelector          60000\n",
       "mobileDeviceInfo             60000\n",
       "mobileDeviceMarketingName    60000\n",
       "flashVersion                 60000\n",
       "language                     60000\n",
       "screenColors                 60000\n",
       "screenResolution             60000\n",
       "deviceCategory                   0\n",
       "dtype: int64"
      ]
     },
     "metadata": {},
     "execution_count": 51
    }
   ],
   "source": [
    "device[device == \"not available in demo dataset\"].count()"
   ]
  },
  {
   "cell_type": "code",
   "execution_count": 52,
   "metadata": {},
   "outputs": [],
   "source": [
    "device.drop(columns=[\"browserVersion\",\"browserSize\",\"operatingSystemVersion\",\"mobileDeviceBranding\",\"mobileDeviceModel\",\"mobileInputSelector\",\"mobileDeviceInfo\",\"mobileDeviceMarketingName\",\"flashVersion\", \"language\",\"screenColors\",\"screenResolution\"], inplace=True)"
   ]
  },
  {
   "cell_type": "code",
   "execution_count": 331,
   "metadata": {},
   "outputs": [],
   "source": [
    "device[\"for_counting\"] = 1"
   ]
  },
  {
   "cell_type": "code",
   "execution_count": 332,
   "metadata": {},
   "outputs": [
    {
     "output_type": "execute_result",
     "data": {
      "text/plain": [
       "             browser operatingSystem  isMobile deviceCategory  for_counting\n",
       "0             Safari             iOS      True         tablet             1\n",
       "1             Chrome         Windows     False        desktop             1\n",
       "2  Internet Explorer         Windows      True         mobile             1\n",
       "3            Firefox         Windows     False        desktop             1\n",
       "4             Chrome       Macintosh     False        desktop             1"
      ],
      "text/html": "<div>\n<style scoped>\n    .dataframe tbody tr th:only-of-type {\n        vertical-align: middle;\n    }\n\n    .dataframe tbody tr th {\n        vertical-align: top;\n    }\n\n    .dataframe thead th {\n        text-align: right;\n    }\n</style>\n<table border=\"1\" class=\"dataframe\">\n  <thead>\n    <tr style=\"text-align: right;\">\n      <th></th>\n      <th>browser</th>\n      <th>operatingSystem</th>\n      <th>isMobile</th>\n      <th>deviceCategory</th>\n      <th>for_counting</th>\n    </tr>\n  </thead>\n  <tbody>\n    <tr>\n      <th>0</th>\n      <td>Safari</td>\n      <td>iOS</td>\n      <td>True</td>\n      <td>tablet</td>\n      <td>1</td>\n    </tr>\n    <tr>\n      <th>1</th>\n      <td>Chrome</td>\n      <td>Windows</td>\n      <td>False</td>\n      <td>desktop</td>\n      <td>1</td>\n    </tr>\n    <tr>\n      <th>2</th>\n      <td>Internet Explorer</td>\n      <td>Windows</td>\n      <td>True</td>\n      <td>mobile</td>\n      <td>1</td>\n    </tr>\n    <tr>\n      <th>3</th>\n      <td>Firefox</td>\n      <td>Windows</td>\n      <td>False</td>\n      <td>desktop</td>\n      <td>1</td>\n    </tr>\n    <tr>\n      <th>4</th>\n      <td>Chrome</td>\n      <td>Macintosh</td>\n      <td>False</td>\n      <td>desktop</td>\n      <td>1</td>\n    </tr>\n  </tbody>\n</table>\n</div>"
     },
     "metadata": {},
     "execution_count": 332
    }
   ],
   "source": [
    "device.head()"
   ]
  },
  {
   "cell_type": "code",
   "execution_count": 343,
   "metadata": {},
   "outputs": [
    {
     "output_type": "execute_result",
     "data": {
      "text/plain": [
       "   deviceCategory            browser  isMobile  for_counting\n",
       "2         desktop             Chrome         6         33211\n",
       "26         mobile             Chrome      7444          7455\n",
       "18        desktop             Safari         4          6083\n",
       "36         mobile             Safari      4830          4832\n",
       "5         desktop            Firefox         0          2352\n",
       "6         desktop  Internet Explorer         1          1161\n",
       "48         tablet             Safari      1137          1138\n",
       "43         tablet             Chrome       676           676\n",
       "4         desktop               Edge         0           627\n",
       "24         mobile    Android Webview       436           436\n",
       "34         mobile         Opera Mini       416           416\n",
       "37         mobile    Safari (in-app)       366           366\n",
       "16        desktop              Opera         0           366\n",
       "21        desktop          YaBrowser         0           145\n",
       "29         mobile            Firefox        92            92\n",
       "38         mobile         UC Browser        86            86\n",
       "30         mobile  Internet Explorer        82            84\n",
       "3         desktop            Coc Coc         0            63\n",
       "49         tablet    Safari (in-app)        62            62\n",
       "42         tablet    Android Webview        45            45"
      ],
      "text/html": "<div>\n<style scoped>\n    .dataframe tbody tr th:only-of-type {\n        vertical-align: middle;\n    }\n\n    .dataframe tbody tr th {\n        vertical-align: top;\n    }\n\n    .dataframe thead th {\n        text-align: right;\n    }\n</style>\n<table border=\"1\" class=\"dataframe\">\n  <thead>\n    <tr style=\"text-align: right;\">\n      <th></th>\n      <th>deviceCategory</th>\n      <th>browser</th>\n      <th>isMobile</th>\n      <th>for_counting</th>\n    </tr>\n  </thead>\n  <tbody>\n    <tr>\n      <th>2</th>\n      <td>desktop</td>\n      <td>Chrome</td>\n      <td>6</td>\n      <td>33211</td>\n    </tr>\n    <tr>\n      <th>26</th>\n      <td>mobile</td>\n      <td>Chrome</td>\n      <td>7444</td>\n      <td>7455</td>\n    </tr>\n    <tr>\n      <th>18</th>\n      <td>desktop</td>\n      <td>Safari</td>\n      <td>4</td>\n      <td>6083</td>\n    </tr>\n    <tr>\n      <th>36</th>\n      <td>mobile</td>\n      <td>Safari</td>\n      <td>4830</td>\n      <td>4832</td>\n    </tr>\n    <tr>\n      <th>5</th>\n      <td>desktop</td>\n      <td>Firefox</td>\n      <td>0</td>\n      <td>2352</td>\n    </tr>\n    <tr>\n      <th>6</th>\n      <td>desktop</td>\n      <td>Internet Explorer</td>\n      <td>1</td>\n      <td>1161</td>\n    </tr>\n    <tr>\n      <th>48</th>\n      <td>tablet</td>\n      <td>Safari</td>\n      <td>1137</td>\n      <td>1138</td>\n    </tr>\n    <tr>\n      <th>43</th>\n      <td>tablet</td>\n      <td>Chrome</td>\n      <td>676</td>\n      <td>676</td>\n    </tr>\n    <tr>\n      <th>4</th>\n      <td>desktop</td>\n      <td>Edge</td>\n      <td>0</td>\n      <td>627</td>\n    </tr>\n    <tr>\n      <th>24</th>\n      <td>mobile</td>\n      <td>Android Webview</td>\n      <td>436</td>\n      <td>436</td>\n    </tr>\n    <tr>\n      <th>34</th>\n      <td>mobile</td>\n      <td>Opera Mini</td>\n      <td>416</td>\n      <td>416</td>\n    </tr>\n    <tr>\n      <th>37</th>\n      <td>mobile</td>\n      <td>Safari (in-app)</td>\n      <td>366</td>\n      <td>366</td>\n    </tr>\n    <tr>\n      <th>16</th>\n      <td>desktop</td>\n      <td>Opera</td>\n      <td>0</td>\n      <td>366</td>\n    </tr>\n    <tr>\n      <th>21</th>\n      <td>desktop</td>\n      <td>YaBrowser</td>\n      <td>0</td>\n      <td>145</td>\n    </tr>\n    <tr>\n      <th>29</th>\n      <td>mobile</td>\n      <td>Firefox</td>\n      <td>92</td>\n      <td>92</td>\n    </tr>\n    <tr>\n      <th>38</th>\n      <td>mobile</td>\n      <td>UC Browser</td>\n      <td>86</td>\n      <td>86</td>\n    </tr>\n    <tr>\n      <th>30</th>\n      <td>mobile</td>\n      <td>Internet Explorer</td>\n      <td>82</td>\n      <td>84</td>\n    </tr>\n    <tr>\n      <th>3</th>\n      <td>desktop</td>\n      <td>Coc Coc</td>\n      <td>0</td>\n      <td>63</td>\n    </tr>\n    <tr>\n      <th>49</th>\n      <td>tablet</td>\n      <td>Safari (in-app)</td>\n      <td>62</td>\n      <td>62</td>\n    </tr>\n    <tr>\n      <th>42</th>\n      <td>tablet</td>\n      <td>Android Webview</td>\n      <td>45</td>\n      <td>45</td>\n    </tr>\n  </tbody>\n</table>\n</div>"
     },
     "metadata": {},
     "execution_count": 343
    }
   ],
   "source": [
    "test = device.groupby([\"deviceCategory\", \"browser\"], as_index=False).sum().sort_values(by=\"for_counting\",ascending=False)[:20]\n",
    "test"
   ]
  },
  {
   "cell_type": "code",
   "execution_count": 344,
   "metadata": {},
   "outputs": [
    {
     "output_type": "execute_result",
     "data": {
      "text/plain": [
       "<AxesSubplot:xlabel='deviceCategory', ylabel='for_counting'>"
      ]
     },
     "metadata": {},
     "execution_count": 344
    },
    {
     "output_type": "display_data",
     "data": {
      "text/plain": "<Figure size 864x576 with 1 Axes>",
      "image/svg+xml": "<?xml version=\"1.0\" encoding=\"utf-8\" standalone=\"no\"?>\r\n<!DOCTYPE svg PUBLIC \"-//W3C//DTD SVG 1.1//EN\"\r\n  \"http://www.w3.org/Graphics/SVG/1.1/DTD/svg11.dtd\">\r\n<!-- Created with matplotlib (https://matplotlib.org/) -->\r\n<svg height=\"484.101094pt\" version=\"1.1\" viewBox=\"0 0 739.346406 484.101094\" width=\"739.346406pt\" xmlns=\"http://www.w3.org/2000/svg\" xmlns:xlink=\"http://www.w3.org/1999/xlink\">\r\n <metadata>\r\n  <rdf:RDF xmlns:cc=\"http://creativecommons.org/ns#\" xmlns:dc=\"http://purl.org/dc/elements/1.1/\" xmlns:rdf=\"http://www.w3.org/1999/02/22-rdf-syntax-ns#\">\r\n   <cc:Work>\r\n    <dc:type rdf:resource=\"http://purl.org/dc/dcmitype/StillImage\"/>\r\n    <dc:date>2021-04-12T18:01:36.050289</dc:date>\r\n    <dc:format>image/svg+xml</dc:format>\r\n    <dc:creator>\r\n     <cc:Agent>\r\n      <dc:title>Matplotlib v3.3.2, https://matplotlib.org/</dc:title>\r\n     </cc:Agent>\r\n    </dc:creator>\r\n   </cc:Work>\r\n  </rdf:RDF>\r\n </metadata>\r\n <defs>\r\n  <style type=\"text/css\">*{stroke-linecap:butt;stroke-linejoin:round;}</style>\r\n </defs>\r\n <g id=\"figure_1\">\r\n  <g id=\"patch_1\">\r\n   <path d=\"M 0 484.101094 \r\nL 739.346406 484.101094 \r\nL 739.346406 0 \r\nL 0 0 \r\nz\r\n\" style=\"fill:#ffffff;\"/>\r\n  </g>\r\n  <g id=\"axes_1\">\r\n   <g id=\"patch_2\">\r\n    <path d=\"M 62.546406 442.08 \r\nL 732.146406 442.08 \r\nL 732.146406 7.2 \r\nL 62.546406 7.2 \r\nz\r\n\" style=\"fill:#eaeaf2;\"/>\r\n   </g>\r\n   <g id=\"matplotlib.axis_1\">\r\n    <g id=\"xtick_1\">\r\n     <g id=\"text_1\">\r\n      <!-- desktop -->\r\n      <g style=\"fill:#262626;\" transform=\"translate(154.884375 459.453594)scale(0.11 -0.11)\">\r\n       <defs>\r\n        <path d=\"M 40.234375 0 \r\nL 40.234375 6.546875 \r\nQ 35.296875 -1.171875 25.734375 -1.171875 \r\nQ 19.53125 -1.171875 14.328125 2.25 \r\nQ 9.125 5.671875 6.265625 11.796875 \r\nQ 3.421875 17.921875 3.421875 25.875 \r\nQ 3.421875 33.640625 6 39.96875 \r\nQ 8.59375 46.296875 13.765625 49.65625 \r\nQ 18.953125 53.03125 25.34375 53.03125 \r\nQ 30.03125 53.03125 33.6875 51.046875 \r\nQ 37.359375 49.078125 39.65625 45.90625 \r\nL 39.65625 71.578125 \r\nL 48.390625 71.578125 \r\nL 48.390625 0 \r\nz\r\nM 12.453125 25.875 \r\nQ 12.453125 15.921875 16.640625 10.984375 \r\nQ 20.84375 6.0625 26.5625 6.0625 \r\nQ 32.328125 6.0625 36.34375 10.765625 \r\nQ 40.375 15.484375 40.375 25.140625 \r\nQ 40.375 35.796875 36.265625 40.765625 \r\nQ 32.171875 45.75 26.171875 45.75 \r\nQ 20.3125 45.75 16.375 40.96875 \r\nQ 12.453125 36.1875 12.453125 25.875 \r\nz\r\n\" id=\"ArialMT-100\"/>\r\n        <path d=\"M 42.09375 16.703125 \r\nL 51.171875 15.578125 \r\nQ 49.03125 7.625 43.21875 3.21875 \r\nQ 37.40625 -1.171875 28.375 -1.171875 \r\nQ 17 -1.171875 10.328125 5.828125 \r\nQ 3.65625 12.84375 3.65625 25.484375 \r\nQ 3.65625 38.578125 10.390625 45.796875 \r\nQ 17.140625 53.03125 27.875 53.03125 \r\nQ 38.28125 53.03125 44.875 45.953125 \r\nQ 51.46875 38.875 51.46875 26.03125 \r\nQ 51.46875 25.25 51.421875 23.6875 \r\nL 12.75 23.6875 \r\nQ 13.234375 15.140625 17.578125 10.59375 \r\nQ 21.921875 6.0625 28.421875 6.0625 \r\nQ 33.25 6.0625 36.671875 8.59375 \r\nQ 40.09375 11.140625 42.09375 16.703125 \r\nz\r\nM 13.234375 30.90625 \r\nL 42.1875 30.90625 \r\nQ 41.609375 37.453125 38.875 40.71875 \r\nQ 34.671875 45.796875 27.984375 45.796875 \r\nQ 21.921875 45.796875 17.796875 41.75 \r\nQ 13.671875 37.703125 13.234375 30.90625 \r\nz\r\n\" id=\"ArialMT-101\"/>\r\n        <path d=\"M 3.078125 15.484375 \r\nL 11.765625 16.84375 \r\nQ 12.5 11.625 15.84375 8.84375 \r\nQ 19.1875 6.0625 25.203125 6.0625 \r\nQ 31.25 6.0625 34.171875 8.515625 \r\nQ 37.109375 10.984375 37.109375 14.3125 \r\nQ 37.109375 17.28125 34.515625 19 \r\nQ 32.71875 20.171875 25.53125 21.96875 \r\nQ 15.875 24.421875 12.140625 26.203125 \r\nQ 8.40625 27.984375 6.46875 31.125 \r\nQ 4.546875 34.28125 4.546875 38.09375 \r\nQ 4.546875 41.546875 6.125 44.5 \r\nQ 7.71875 47.46875 10.453125 49.421875 \r\nQ 12.5 50.921875 16.03125 51.96875 \r\nQ 19.578125 53.03125 23.640625 53.03125 \r\nQ 29.734375 53.03125 34.34375 51.265625 \r\nQ 38.96875 49.515625 41.15625 46.5 \r\nQ 43.359375 43.5 44.1875 38.484375 \r\nL 35.59375 37.3125 \r\nQ 35.015625 41.3125 32.203125 43.546875 \r\nQ 29.390625 45.796875 24.265625 45.796875 \r\nQ 18.21875 45.796875 15.625 43.796875 \r\nQ 13.03125 41.796875 13.03125 39.109375 \r\nQ 13.03125 37.40625 14.109375 36.03125 \r\nQ 15.1875 34.625 17.484375 33.6875 \r\nQ 18.796875 33.203125 25.25 31.453125 \r\nQ 34.578125 28.953125 38.25 27.359375 \r\nQ 41.9375 25.78125 44.03125 22.75 \r\nQ 46.140625 19.734375 46.140625 15.234375 \r\nQ 46.140625 10.84375 43.578125 6.953125 \r\nQ 41.015625 3.078125 36.171875 0.953125 \r\nQ 31.34375 -1.171875 25.25 -1.171875 \r\nQ 15.140625 -1.171875 9.84375 3.03125 \r\nQ 4.546875 7.234375 3.078125 15.484375 \r\nz\r\n\" id=\"ArialMT-115\"/>\r\n        <path d=\"M 6.640625 0 \r\nL 6.640625 71.578125 \r\nL 15.4375 71.578125 \r\nL 15.4375 30.765625 \r\nL 36.234375 51.859375 \r\nL 47.609375 51.859375 \r\nL 27.78125 32.625 \r\nL 49.609375 0 \r\nL 38.765625 0 \r\nL 21.625 26.515625 \r\nL 15.4375 20.5625 \r\nL 15.4375 0 \r\nz\r\n\" id=\"ArialMT-107\"/>\r\n        <path d=\"M 25.78125 7.859375 \r\nL 27.046875 0.09375 \r\nQ 23.34375 -0.6875 20.40625 -0.6875 \r\nQ 15.625 -0.6875 12.984375 0.828125 \r\nQ 10.359375 2.34375 9.28125 4.8125 \r\nQ 8.203125 7.28125 8.203125 15.1875 \r\nL 8.203125 45.015625 \r\nL 1.765625 45.015625 \r\nL 1.765625 51.859375 \r\nL 8.203125 51.859375 \r\nL 8.203125 64.703125 \r\nL 16.9375 69.96875 \r\nL 16.9375 51.859375 \r\nL 25.78125 51.859375 \r\nL 25.78125 45.015625 \r\nL 16.9375 45.015625 \r\nL 16.9375 14.703125 \r\nQ 16.9375 10.9375 17.40625 9.859375 \r\nQ 17.875 8.796875 18.921875 8.15625 \r\nQ 19.96875 7.515625 21.921875 7.515625 \r\nQ 23.390625 7.515625 25.78125 7.859375 \r\nz\r\n\" id=\"ArialMT-116\"/>\r\n        <path d=\"M 3.328125 25.921875 \r\nQ 3.328125 40.328125 11.328125 47.265625 \r\nQ 18.015625 53.03125 27.640625 53.03125 \r\nQ 38.328125 53.03125 45.109375 46.015625 \r\nQ 51.90625 39.015625 51.90625 26.65625 \r\nQ 51.90625 16.65625 48.90625 10.90625 \r\nQ 45.90625 5.171875 40.15625 2 \r\nQ 34.421875 -1.171875 27.640625 -1.171875 \r\nQ 16.75 -1.171875 10.03125 5.8125 \r\nQ 3.328125 12.796875 3.328125 25.921875 \r\nz\r\nM 12.359375 25.921875 \r\nQ 12.359375 15.96875 16.703125 11.015625 \r\nQ 21.046875 6.0625 27.640625 6.0625 \r\nQ 34.1875 6.0625 38.53125 11.03125 \r\nQ 42.875 16.015625 42.875 26.21875 \r\nQ 42.875 35.84375 38.5 40.796875 \r\nQ 34.125 45.75 27.640625 45.75 \r\nQ 21.046875 45.75 16.703125 40.8125 \r\nQ 12.359375 35.890625 12.359375 25.921875 \r\nz\r\n\" id=\"ArialMT-111\"/>\r\n        <path d=\"M 6.59375 -19.875 \r\nL 6.59375 51.859375 \r\nL 14.59375 51.859375 \r\nL 14.59375 45.125 \r\nQ 17.4375 49.078125 21 51.046875 \r\nQ 24.5625 53.03125 29.640625 53.03125 \r\nQ 36.28125 53.03125 41.359375 49.609375 \r\nQ 46.4375 46.1875 49.015625 39.953125 \r\nQ 51.609375 33.734375 51.609375 26.3125 \r\nQ 51.609375 18.359375 48.75 11.984375 \r\nQ 45.90625 5.609375 40.453125 2.21875 \r\nQ 35.015625 -1.171875 29 -1.171875 \r\nQ 24.609375 -1.171875 21.109375 0.6875 \r\nQ 17.625 2.546875 15.375 5.375 \r\nL 15.375 -19.875 \r\nz\r\nM 14.546875 25.640625 \r\nQ 14.546875 15.625 18.59375 10.84375 \r\nQ 22.65625 6.0625 28.421875 6.0625 \r\nQ 34.28125 6.0625 38.453125 11.015625 \r\nQ 42.625 15.96875 42.625 26.375 \r\nQ 42.625 36.28125 38.546875 41.203125 \r\nQ 34.46875 46.140625 28.8125 46.140625 \r\nQ 23.1875 46.140625 18.859375 40.890625 \r\nQ 14.546875 35.640625 14.546875 25.640625 \r\nz\r\n\" id=\"ArialMT-112\"/>\r\n       </defs>\r\n       <use xlink:href=\"#ArialMT-100\"/>\r\n       <use x=\"55.615234\" xlink:href=\"#ArialMT-101\"/>\r\n       <use x=\"111.230469\" xlink:href=\"#ArialMT-115\"/>\r\n       <use x=\"161.230469\" xlink:href=\"#ArialMT-107\"/>\r\n       <use x=\"211.230469\" xlink:href=\"#ArialMT-116\"/>\r\n       <use x=\"239.013672\" xlink:href=\"#ArialMT-111\"/>\r\n       <use x=\"294.628906\" xlink:href=\"#ArialMT-112\"/>\r\n      </g>\r\n     </g>\r\n    </g>\r\n    <g id=\"xtick_2\">\r\n     <g id=\"text_2\">\r\n      <!-- mobile -->\r\n      <g style=\"fill:#262626;\" transform=\"translate(381.145469 459.453594)scale(0.11 -0.11)\">\r\n       <defs>\r\n        <path d=\"M 6.59375 0 \r\nL 6.59375 51.859375 \r\nL 14.453125 51.859375 \r\nL 14.453125 44.578125 \r\nQ 16.890625 48.390625 20.9375 50.703125 \r\nQ 25 53.03125 30.171875 53.03125 \r\nQ 35.9375 53.03125 39.625 50.640625 \r\nQ 43.3125 48.25 44.828125 43.953125 \r\nQ 50.984375 53.03125 60.84375 53.03125 \r\nQ 68.5625 53.03125 72.703125 48.75 \r\nQ 76.859375 44.484375 76.859375 35.59375 \r\nL 76.859375 0 \r\nL 68.109375 0 \r\nL 68.109375 32.671875 \r\nQ 68.109375 37.9375 67.25 40.25 \r\nQ 66.40625 42.578125 64.15625 43.984375 \r\nQ 61.921875 45.40625 58.890625 45.40625 \r\nQ 53.421875 45.40625 49.796875 41.765625 \r\nQ 46.1875 38.140625 46.1875 30.125 \r\nL 46.1875 0 \r\nL 37.40625 0 \r\nL 37.40625 33.6875 \r\nQ 37.40625 39.546875 35.25 42.46875 \r\nQ 33.109375 45.40625 28.21875 45.40625 \r\nQ 24.515625 45.40625 21.359375 43.453125 \r\nQ 18.21875 41.5 16.796875 37.734375 \r\nQ 15.375 33.984375 15.375 26.90625 \r\nL 15.375 0 \r\nz\r\n\" id=\"ArialMT-109\"/>\r\n        <path d=\"M 14.703125 0 \r\nL 6.546875 0 \r\nL 6.546875 71.578125 \r\nL 15.328125 71.578125 \r\nL 15.328125 46.046875 \r\nQ 20.90625 53.03125 29.546875 53.03125 \r\nQ 34.328125 53.03125 38.59375 51.09375 \r\nQ 42.875 49.171875 45.625 45.671875 \r\nQ 48.390625 42.1875 49.953125 37.25 \r\nQ 51.515625 32.328125 51.515625 26.703125 \r\nQ 51.515625 13.375 44.921875 6.09375 \r\nQ 38.328125 -1.171875 29.109375 -1.171875 \r\nQ 19.921875 -1.171875 14.703125 6.5 \r\nz\r\nM 14.59375 26.3125 \r\nQ 14.59375 17 17.140625 12.84375 \r\nQ 21.296875 6.0625 28.375 6.0625 \r\nQ 34.125 6.0625 38.328125 11.0625 \r\nQ 42.53125 16.0625 42.53125 25.984375 \r\nQ 42.53125 36.140625 38.5 40.96875 \r\nQ 34.46875 45.796875 28.765625 45.796875 \r\nQ 23 45.796875 18.796875 40.796875 \r\nQ 14.59375 35.796875 14.59375 26.3125 \r\nz\r\n\" id=\"ArialMT-98\"/>\r\n        <path d=\"M 6.640625 61.46875 \r\nL 6.640625 71.578125 \r\nL 15.4375 71.578125 \r\nL 15.4375 61.46875 \r\nz\r\nM 6.640625 0 \r\nL 6.640625 51.859375 \r\nL 15.4375 51.859375 \r\nL 15.4375 0 \r\nz\r\n\" id=\"ArialMT-105\"/>\r\n        <path d=\"M 6.390625 0 \r\nL 6.390625 71.578125 \r\nL 15.1875 71.578125 \r\nL 15.1875 0 \r\nz\r\n\" id=\"ArialMT-108\"/>\r\n       </defs>\r\n       <use xlink:href=\"#ArialMT-109\"/>\r\n       <use x=\"83.300781\" xlink:href=\"#ArialMT-111\"/>\r\n       <use x=\"138.916016\" xlink:href=\"#ArialMT-98\"/>\r\n       <use x=\"194.53125\" xlink:href=\"#ArialMT-105\"/>\r\n       <use x=\"216.748047\" xlink:href=\"#ArialMT-108\"/>\r\n       <use x=\"238.964844\" xlink:href=\"#ArialMT-101\"/>\r\n      </g>\r\n     </g>\r\n    </g>\r\n    <g id=\"xtick_3\">\r\n     <g id=\"text_3\">\r\n      <!-- tablet -->\r\n      <g style=\"fill:#262626;\" transform=\"translate(607.092891 459.453594)scale(0.11 -0.11)\">\r\n       <defs>\r\n        <path d=\"M 40.4375 6.390625 \r\nQ 35.546875 2.25 31.03125 0.53125 \r\nQ 26.515625 -1.171875 21.34375 -1.171875 \r\nQ 12.796875 -1.171875 8.203125 3 \r\nQ 3.609375 7.171875 3.609375 13.671875 \r\nQ 3.609375 17.484375 5.34375 20.625 \r\nQ 7.078125 23.78125 9.890625 25.6875 \r\nQ 12.703125 27.59375 16.21875 28.5625 \r\nQ 18.796875 29.25 24.03125 29.890625 \r\nQ 34.671875 31.15625 39.703125 32.90625 \r\nQ 39.75 34.71875 39.75 35.203125 \r\nQ 39.75 40.578125 37.25 42.78125 \r\nQ 33.890625 45.75 27.25 45.75 \r\nQ 21.046875 45.75 18.09375 43.578125 \r\nQ 15.140625 41.40625 13.71875 35.890625 \r\nL 5.125 37.0625 \r\nQ 6.296875 42.578125 8.984375 45.96875 \r\nQ 11.671875 49.359375 16.75 51.1875 \r\nQ 21.828125 53.03125 28.515625 53.03125 \r\nQ 35.15625 53.03125 39.296875 51.46875 \r\nQ 43.453125 49.90625 45.40625 47.53125 \r\nQ 47.359375 45.171875 48.140625 41.546875 \r\nQ 48.578125 39.3125 48.578125 33.453125 \r\nL 48.578125 21.734375 \r\nQ 48.578125 9.46875 49.140625 6.21875 \r\nQ 49.703125 2.984375 51.375 0 \r\nL 42.1875 0 \r\nQ 40.828125 2.734375 40.4375 6.390625 \r\nz\r\nM 39.703125 26.03125 \r\nQ 34.90625 24.078125 25.34375 22.703125 \r\nQ 19.921875 21.921875 17.671875 20.9375 \r\nQ 15.4375 19.96875 14.203125 18.09375 \r\nQ 12.984375 16.21875 12.984375 13.921875 \r\nQ 12.984375 10.40625 15.640625 8.0625 \r\nQ 18.3125 5.71875 23.4375 5.71875 \r\nQ 28.515625 5.71875 32.46875 7.9375 \r\nQ 36.421875 10.15625 38.28125 14.015625 \r\nQ 39.703125 17 39.703125 22.796875 \r\nz\r\n\" id=\"ArialMT-97\"/>\r\n       </defs>\r\n       <use xlink:href=\"#ArialMT-116\"/>\r\n       <use x=\"27.783203\" xlink:href=\"#ArialMT-97\"/>\r\n       <use x=\"83.398438\" xlink:href=\"#ArialMT-98\"/>\r\n       <use x=\"139.013672\" xlink:href=\"#ArialMT-108\"/>\r\n       <use x=\"161.230469\" xlink:href=\"#ArialMT-101\"/>\r\n       <use x=\"216.845703\" xlink:href=\"#ArialMT-116\"/>\r\n      </g>\r\n     </g>\r\n    </g>\r\n    <g id=\"text_4\">\r\n     <!-- deviceCategory -->\r\n     <g style=\"fill:#262626;\" transform=\"translate(355.659531 474.375469)scale(0.12 -0.12)\">\r\n      <defs>\r\n       <path d=\"M 21 0 \r\nL 1.265625 51.859375 \r\nL 10.546875 51.859375 \r\nL 21.6875 20.796875 \r\nQ 23.484375 15.765625 25 10.359375 \r\nQ 26.171875 14.453125 28.265625 20.21875 \r\nL 39.796875 51.859375 \r\nL 48.828125 51.859375 \r\nL 29.203125 0 \r\nz\r\n\" id=\"ArialMT-118\"/>\r\n       <path d=\"M 40.4375 19 \r\nL 49.078125 17.875 \r\nQ 47.65625 8.9375 41.8125 3.875 \r\nQ 35.984375 -1.171875 27.484375 -1.171875 \r\nQ 16.84375 -1.171875 10.375 5.78125 \r\nQ 3.90625 12.75 3.90625 25.734375 \r\nQ 3.90625 34.125 6.6875 40.421875 \r\nQ 9.46875 46.734375 15.15625 49.875 \r\nQ 20.84375 53.03125 27.546875 53.03125 \r\nQ 35.984375 53.03125 41.359375 48.75 \r\nQ 46.734375 44.484375 48.25 36.625 \r\nL 39.703125 35.296875 \r\nQ 38.484375 40.53125 35.375 43.15625 \r\nQ 32.28125 45.796875 27.875 45.796875 \r\nQ 21.234375 45.796875 17.078125 41.03125 \r\nQ 12.9375 36.28125 12.9375 25.984375 \r\nQ 12.9375 15.53125 16.9375 10.796875 \r\nQ 20.953125 6.0625 27.390625 6.0625 \r\nQ 32.5625 6.0625 36.03125 9.234375 \r\nQ 39.5 12.40625 40.4375 19 \r\nz\r\n\" id=\"ArialMT-99\"/>\r\n       <path d=\"M 58.796875 25.09375 \r\nL 68.265625 22.703125 \r\nQ 65.28125 11.03125 57.546875 4.90625 \r\nQ 49.8125 -1.21875 38.625 -1.21875 \r\nQ 27.046875 -1.21875 19.796875 3.484375 \r\nQ 12.546875 8.203125 8.765625 17.140625 \r\nQ 4.984375 26.078125 4.984375 36.328125 \r\nQ 4.984375 47.515625 9.25 55.828125 \r\nQ 13.53125 64.15625 21.40625 68.46875 \r\nQ 29.296875 72.796875 38.765625 72.796875 \r\nQ 49.515625 72.796875 56.828125 67.328125 \r\nQ 64.15625 61.859375 67.046875 51.953125 \r\nL 57.71875 49.75 \r\nQ 55.21875 57.5625 50.484375 61.125 \r\nQ 45.75 64.703125 38.578125 64.703125 \r\nQ 30.328125 64.703125 24.78125 60.734375 \r\nQ 19.234375 56.78125 16.984375 50.109375 \r\nQ 14.75 43.453125 14.75 36.375 \r\nQ 14.75 27.25 17.40625 20.4375 \r\nQ 20.0625 13.625 25.671875 10.25 \r\nQ 31.296875 6.890625 37.84375 6.890625 \r\nQ 45.796875 6.890625 51.3125 11.46875 \r\nQ 56.84375 16.0625 58.796875 25.09375 \r\nz\r\n\" id=\"ArialMT-67\"/>\r\n       <path d=\"M 4.984375 -4.296875 \r\nL 13.53125 -5.5625 \r\nQ 14.0625 -9.515625 16.5 -11.328125 \r\nQ 19.78125 -13.765625 25.4375 -13.765625 \r\nQ 31.546875 -13.765625 34.859375 -11.328125 \r\nQ 38.1875 -8.890625 39.359375 -4.5 \r\nQ 40.046875 -1.8125 39.984375 6.78125 \r\nQ 34.234375 0 25.640625 0 \r\nQ 14.9375 0 9.078125 7.71875 \r\nQ 3.21875 15.4375 3.21875 26.21875 \r\nQ 3.21875 33.640625 5.90625 39.90625 \r\nQ 8.59375 46.1875 13.6875 49.609375 \r\nQ 18.796875 53.03125 25.6875 53.03125 \r\nQ 34.859375 53.03125 40.828125 45.609375 \r\nL 40.828125 51.859375 \r\nL 48.921875 51.859375 \r\nL 48.921875 7.03125 \r\nQ 48.921875 -5.078125 46.453125 -10.125 \r\nQ 44 -15.1875 38.640625 -18.109375 \r\nQ 33.296875 -21.046875 25.484375 -21.046875 \r\nQ 16.21875 -21.046875 10.5 -16.875 \r\nQ 4.78125 -12.703125 4.984375 -4.296875 \r\nz\r\nM 12.25 26.859375 \r\nQ 12.25 16.65625 16.296875 11.96875 \r\nQ 20.359375 7.28125 26.46875 7.28125 \r\nQ 32.515625 7.28125 36.609375 11.9375 \r\nQ 40.71875 16.609375 40.71875 26.5625 \r\nQ 40.71875 36.078125 36.5 40.90625 \r\nQ 32.28125 45.75 26.3125 45.75 \r\nQ 20.453125 45.75 16.34375 40.984375 \r\nQ 12.25 36.234375 12.25 26.859375 \r\nz\r\n\" id=\"ArialMT-103\"/>\r\n       <path d=\"M 6.5 0 \r\nL 6.5 51.859375 \r\nL 14.40625 51.859375 \r\nL 14.40625 44 \r\nQ 17.4375 49.515625 20 51.265625 \r\nQ 22.5625 53.03125 25.640625 53.03125 \r\nQ 30.078125 53.03125 34.671875 50.203125 \r\nL 31.640625 42.046875 \r\nQ 28.421875 43.953125 25.203125 43.953125 \r\nQ 22.3125 43.953125 20.015625 42.21875 \r\nQ 17.71875 40.484375 16.75 37.40625 \r\nQ 15.28125 32.71875 15.28125 27.15625 \r\nL 15.28125 0 \r\nz\r\n\" id=\"ArialMT-114\"/>\r\n       <path d=\"M 6.203125 -19.96875 \r\nL 5.21875 -11.71875 \r\nQ 8.109375 -12.5 10.25 -12.5 \r\nQ 13.1875 -12.5 14.9375 -11.515625 \r\nQ 16.703125 -10.546875 17.828125 -8.796875 \r\nQ 18.65625 -7.46875 20.515625 -2.25 \r\nQ 20.75 -1.515625 21.296875 -0.09375 \r\nL 1.609375 51.859375 \r\nL 11.078125 51.859375 \r\nL 21.875 21.828125 \r\nQ 23.96875 16.109375 25.640625 9.8125 \r\nQ 27.15625 15.875 29.25 21.625 \r\nL 40.328125 51.859375 \r\nL 49.125 51.859375 \r\nL 29.390625 -0.875 \r\nQ 26.21875 -9.421875 24.46875 -12.640625 \r\nQ 22.125 -17 19.09375 -19.015625 \r\nQ 16.0625 -21.046875 11.859375 -21.046875 \r\nQ 9.328125 -21.046875 6.203125 -19.96875 \r\nz\r\n\" id=\"ArialMT-121\"/>\r\n      </defs>\r\n      <use xlink:href=\"#ArialMT-100\"/>\r\n      <use x=\"55.615234\" xlink:href=\"#ArialMT-101\"/>\r\n      <use x=\"111.230469\" xlink:href=\"#ArialMT-118\"/>\r\n      <use x=\"161.230469\" xlink:href=\"#ArialMT-105\"/>\r\n      <use x=\"183.447266\" xlink:href=\"#ArialMT-99\"/>\r\n      <use x=\"233.447266\" xlink:href=\"#ArialMT-101\"/>\r\n      <use x=\"289.0625\" xlink:href=\"#ArialMT-67\"/>\r\n      <use x=\"361.279297\" xlink:href=\"#ArialMT-97\"/>\r\n      <use x=\"416.894531\" xlink:href=\"#ArialMT-116\"/>\r\n      <use x=\"444.677734\" xlink:href=\"#ArialMT-101\"/>\r\n      <use x=\"500.292969\" xlink:href=\"#ArialMT-103\"/>\r\n      <use x=\"555.908203\" xlink:href=\"#ArialMT-111\"/>\r\n      <use x=\"611.523438\" xlink:href=\"#ArialMT-114\"/>\r\n      <use x=\"644.824219\" xlink:href=\"#ArialMT-121\"/>\r\n     </g>\r\n    </g>\r\n   </g>\r\n   <g id=\"matplotlib.axis_2\">\r\n    <g id=\"ytick_1\">\r\n     <g id=\"line2d_1\">\r\n      <path clip-path=\"url(#p9cb43b8bc2)\" d=\"M 62.546406 442.08 \r\nL 732.146406 442.08 \r\n\" style=\"fill:none;stroke:#ffffff;stroke-linecap:round;\"/>\r\n     </g>\r\n     <g id=\"text_5\">\r\n      <!-- 0 -->\r\n      <g style=\"fill:#262626;\" transform=\"translate(46.929375 446.016797)scale(0.11 -0.11)\">\r\n       <defs>\r\n        <path d=\"M 4.15625 35.296875 \r\nQ 4.15625 48 6.765625 55.734375 \r\nQ 9.375 63.484375 14.515625 67.671875 \r\nQ 19.671875 71.875 27.484375 71.875 \r\nQ 33.25 71.875 37.59375 69.546875 \r\nQ 41.9375 67.234375 44.765625 62.859375 \r\nQ 47.609375 58.5 49.21875 52.21875 \r\nQ 50.828125 45.953125 50.828125 35.296875 \r\nQ 50.828125 22.703125 48.234375 14.96875 \r\nQ 45.65625 7.234375 40.5 3 \r\nQ 35.359375 -1.21875 27.484375 -1.21875 \r\nQ 17.140625 -1.21875 11.234375 6.203125 \r\nQ 4.15625 15.140625 4.15625 35.296875 \r\nz\r\nM 13.1875 35.296875 \r\nQ 13.1875 17.671875 17.3125 11.828125 \r\nQ 21.4375 6 27.484375 6 \r\nQ 33.546875 6 37.671875 11.859375 \r\nQ 41.796875 17.71875 41.796875 35.296875 \r\nQ 41.796875 52.984375 37.671875 58.78125 \r\nQ 33.546875 64.59375 27.390625 64.59375 \r\nQ 21.34375 64.59375 17.71875 59.46875 \r\nQ 13.1875 52.9375 13.1875 35.296875 \r\nz\r\n\" id=\"ArialMT-48\"/>\r\n       </defs>\r\n       <use xlink:href=\"#ArialMT-48\"/>\r\n      </g>\r\n     </g>\r\n    </g>\r\n    <g id=\"ytick_2\">\r\n     <g id=\"line2d_2\">\r\n      <path clip-path=\"url(#p9cb43b8bc2)\" d=\"M 62.546406 379.725444 \r\nL 732.146406 379.725444 \r\n\" style=\"fill:none;stroke:#ffffff;stroke-linecap:round;\"/>\r\n     </g>\r\n     <g id=\"text_6\">\r\n      <!-- 5000 -->\r\n      <g style=\"fill:#262626;\" transform=\"translate(28.578281 383.662241)scale(0.11 -0.11)\">\r\n       <defs>\r\n        <path d=\"M 4.15625 18.75 \r\nL 13.375 19.53125 \r\nQ 14.40625 12.796875 18.140625 9.390625 \r\nQ 21.875 6 27.15625 6 \r\nQ 33.5 6 37.890625 10.78125 \r\nQ 42.28125 15.578125 42.28125 23.484375 \r\nQ 42.28125 31 38.0625 35.34375 \r\nQ 33.84375 39.703125 27 39.703125 \r\nQ 22.75 39.703125 19.328125 37.765625 \r\nQ 15.921875 35.84375 13.96875 32.765625 \r\nL 5.71875 33.84375 \r\nL 12.640625 70.609375 \r\nL 48.25 70.609375 \r\nL 48.25 62.203125 \r\nL 19.671875 62.203125 \r\nL 15.828125 42.96875 \r\nQ 22.265625 47.46875 29.34375 47.46875 \r\nQ 38.71875 47.46875 45.15625 40.96875 \r\nQ 51.609375 34.46875 51.609375 24.265625 \r\nQ 51.609375 14.546875 45.953125 7.46875 \r\nQ 39.0625 -1.21875 27.15625 -1.21875 \r\nQ 17.390625 -1.21875 11.203125 4.25 \r\nQ 5.03125 9.71875 4.15625 18.75 \r\nz\r\n\" id=\"ArialMT-53\"/>\r\n       </defs>\r\n       <use xlink:href=\"#ArialMT-53\"/>\r\n       <use x=\"55.615234\" xlink:href=\"#ArialMT-48\"/>\r\n       <use x=\"111.230469\" xlink:href=\"#ArialMT-48\"/>\r\n       <use x=\"166.845703\" xlink:href=\"#ArialMT-48\"/>\r\n      </g>\r\n     </g>\r\n    </g>\r\n    <g id=\"ytick_3\">\r\n     <g id=\"line2d_3\">\r\n      <path clip-path=\"url(#p9cb43b8bc2)\" d=\"M 62.546406 317.370889 \r\nL 732.146406 317.370889 \r\n\" style=\"fill:none;stroke:#ffffff;stroke-linecap:round;\"/>\r\n     </g>\r\n     <g id=\"text_7\">\r\n      <!-- 10000 -->\r\n      <g style=\"fill:#262626;\" transform=\"translate(22.46125 321.307686)scale(0.11 -0.11)\">\r\n       <defs>\r\n        <path d=\"M 37.25 0 \r\nL 28.46875 0 \r\nL 28.46875 56 \r\nQ 25.296875 52.984375 20.140625 49.953125 \r\nQ 14.984375 46.921875 10.890625 45.40625 \r\nL 10.890625 53.90625 \r\nQ 18.265625 57.375 23.78125 62.296875 \r\nQ 29.296875 67.234375 31.59375 71.875 \r\nL 37.25 71.875 \r\nz\r\n\" id=\"ArialMT-49\"/>\r\n       </defs>\r\n       <use xlink:href=\"#ArialMT-49\"/>\r\n       <use x=\"55.615234\" xlink:href=\"#ArialMT-48\"/>\r\n       <use x=\"111.230469\" xlink:href=\"#ArialMT-48\"/>\r\n       <use x=\"166.845703\" xlink:href=\"#ArialMT-48\"/>\r\n       <use x=\"222.460938\" xlink:href=\"#ArialMT-48\"/>\r\n      </g>\r\n     </g>\r\n    </g>\r\n    <g id=\"ytick_4\">\r\n     <g id=\"line2d_4\">\r\n      <path clip-path=\"url(#p9cb43b8bc2)\" d=\"M 62.546406 255.016333 \r\nL 732.146406 255.016333 \r\n\" style=\"fill:none;stroke:#ffffff;stroke-linecap:round;\"/>\r\n     </g>\r\n     <g id=\"text_8\">\r\n      <!-- 15000 -->\r\n      <g style=\"fill:#262626;\" transform=\"translate(22.46125 258.95313)scale(0.11 -0.11)\">\r\n       <use xlink:href=\"#ArialMT-49\"/>\r\n       <use x=\"55.615234\" xlink:href=\"#ArialMT-53\"/>\r\n       <use x=\"111.230469\" xlink:href=\"#ArialMT-48\"/>\r\n       <use x=\"166.845703\" xlink:href=\"#ArialMT-48\"/>\r\n       <use x=\"222.460938\" xlink:href=\"#ArialMT-48\"/>\r\n      </g>\r\n     </g>\r\n    </g>\r\n    <g id=\"ytick_5\">\r\n     <g id=\"line2d_5\">\r\n      <path clip-path=\"url(#p9cb43b8bc2)\" d=\"M 62.546406 192.661778 \r\nL 732.146406 192.661778 \r\n\" style=\"fill:none;stroke:#ffffff;stroke-linecap:round;\"/>\r\n     </g>\r\n     <g id=\"text_9\">\r\n      <!-- 20000 -->\r\n      <g style=\"fill:#262626;\" transform=\"translate(22.46125 196.598575)scale(0.11 -0.11)\">\r\n       <defs>\r\n        <path d=\"M 50.34375 8.453125 \r\nL 50.34375 0 \r\nL 3.03125 0 \r\nQ 2.9375 3.171875 4.046875 6.109375 \r\nQ 5.859375 10.9375 9.828125 15.625 \r\nQ 13.8125 20.3125 21.34375 26.46875 \r\nQ 33.015625 36.03125 37.109375 41.625 \r\nQ 41.21875 47.21875 41.21875 52.203125 \r\nQ 41.21875 57.421875 37.46875 61 \r\nQ 33.734375 64.59375 27.734375 64.59375 \r\nQ 21.390625 64.59375 17.578125 60.78125 \r\nQ 13.765625 56.984375 13.71875 50.25 \r\nL 4.6875 51.171875 \r\nQ 5.609375 61.28125 11.65625 66.578125 \r\nQ 17.71875 71.875 27.9375 71.875 \r\nQ 38.234375 71.875 44.234375 66.15625 \r\nQ 50.25 60.453125 50.25 52 \r\nQ 50.25 47.703125 48.484375 43.546875 \r\nQ 46.734375 39.40625 42.65625 34.8125 \r\nQ 38.578125 30.21875 29.109375 22.21875 \r\nQ 21.1875 15.578125 18.9375 13.203125 \r\nQ 16.703125 10.84375 15.234375 8.453125 \r\nz\r\n\" id=\"ArialMT-50\"/>\r\n       </defs>\r\n       <use xlink:href=\"#ArialMT-50\"/>\r\n       <use x=\"55.615234\" xlink:href=\"#ArialMT-48\"/>\r\n       <use x=\"111.230469\" xlink:href=\"#ArialMT-48\"/>\r\n       <use x=\"166.845703\" xlink:href=\"#ArialMT-48\"/>\r\n       <use x=\"222.460938\" xlink:href=\"#ArialMT-48\"/>\r\n      </g>\r\n     </g>\r\n    </g>\r\n    <g id=\"ytick_6\">\r\n     <g id=\"line2d_6\">\r\n      <path clip-path=\"url(#p9cb43b8bc2)\" d=\"M 62.546406 130.307222 \r\nL 732.146406 130.307222 \r\n\" style=\"fill:none;stroke:#ffffff;stroke-linecap:round;\"/>\r\n     </g>\r\n     <g id=\"text_10\">\r\n      <!-- 25000 -->\r\n      <g style=\"fill:#262626;\" transform=\"translate(22.46125 134.244019)scale(0.11 -0.11)\">\r\n       <use xlink:href=\"#ArialMT-50\"/>\r\n       <use x=\"55.615234\" xlink:href=\"#ArialMT-53\"/>\r\n       <use x=\"111.230469\" xlink:href=\"#ArialMT-48\"/>\r\n       <use x=\"166.845703\" xlink:href=\"#ArialMT-48\"/>\r\n       <use x=\"222.460938\" xlink:href=\"#ArialMT-48\"/>\r\n      </g>\r\n     </g>\r\n    </g>\r\n    <g id=\"ytick_7\">\r\n     <g id=\"line2d_7\">\r\n      <path clip-path=\"url(#p9cb43b8bc2)\" d=\"M 62.546406 67.952667 \r\nL 732.146406 67.952667 \r\n\" style=\"fill:none;stroke:#ffffff;stroke-linecap:round;\"/>\r\n     </g>\r\n     <g id=\"text_11\">\r\n      <!-- 30000 -->\r\n      <g style=\"fill:#262626;\" transform=\"translate(22.46125 71.889464)scale(0.11 -0.11)\">\r\n       <defs>\r\n        <path d=\"M 4.203125 18.890625 \r\nL 12.984375 20.0625 \r\nQ 14.5 12.59375 18.140625 9.296875 \r\nQ 21.78125 6 27 6 \r\nQ 33.203125 6 37.46875 10.296875 \r\nQ 41.75 14.59375 41.75 20.953125 \r\nQ 41.75 27 37.796875 30.921875 \r\nQ 33.84375 34.859375 27.734375 34.859375 \r\nQ 25.25 34.859375 21.53125 33.890625 \r\nL 22.515625 41.609375 \r\nQ 23.390625 41.5 23.921875 41.5 \r\nQ 29.546875 41.5 34.03125 44.421875 \r\nQ 38.53125 47.359375 38.53125 53.46875 \r\nQ 38.53125 58.296875 35.25 61.46875 \r\nQ 31.984375 64.65625 26.8125 64.65625 \r\nQ 21.6875 64.65625 18.265625 61.421875 \r\nQ 14.84375 58.203125 13.875 51.765625 \r\nL 5.078125 53.328125 \r\nQ 6.6875 62.15625 12.390625 67.015625 \r\nQ 18.109375 71.875 26.609375 71.875 \r\nQ 32.46875 71.875 37.390625 69.359375 \r\nQ 42.328125 66.84375 44.9375 62.5 \r\nQ 47.5625 58.15625 47.5625 53.265625 \r\nQ 47.5625 48.640625 45.0625 44.828125 \r\nQ 42.578125 41.015625 37.703125 38.765625 \r\nQ 44.046875 37.3125 47.5625 32.6875 \r\nQ 51.078125 28.078125 51.078125 21.140625 \r\nQ 51.078125 11.765625 44.234375 5.25 \r\nQ 37.40625 -1.265625 26.953125 -1.265625 \r\nQ 17.53125 -1.265625 11.296875 4.34375 \r\nQ 5.078125 9.96875 4.203125 18.890625 \r\nz\r\n\" id=\"ArialMT-51\"/>\r\n       </defs>\r\n       <use xlink:href=\"#ArialMT-51\"/>\r\n       <use x=\"55.615234\" xlink:href=\"#ArialMT-48\"/>\r\n       <use x=\"111.230469\" xlink:href=\"#ArialMT-48\"/>\r\n       <use x=\"166.845703\" xlink:href=\"#ArialMT-48\"/>\r\n       <use x=\"222.460938\" xlink:href=\"#ArialMT-48\"/>\r\n      </g>\r\n     </g>\r\n    </g>\r\n    <g id=\"text_12\">\r\n     <!-- for_counting -->\r\n     <g style=\"fill:#262626;\" transform=\"translate(15.935625 257.660625)rotate(-90)scale(0.12 -0.12)\">\r\n      <defs>\r\n       <path d=\"M 8.6875 0 \r\nL 8.6875 45.015625 \r\nL 0.921875 45.015625 \r\nL 0.921875 51.859375 \r\nL 8.6875 51.859375 \r\nL 8.6875 57.375 \r\nQ 8.6875 62.59375 9.625 65.140625 \r\nQ 10.890625 68.5625 14.078125 70.671875 \r\nQ 17.28125 72.796875 23.046875 72.796875 \r\nQ 26.765625 72.796875 31.25 71.921875 \r\nL 29.9375 64.265625 \r\nQ 27.203125 64.75 24.75 64.75 \r\nQ 20.75 64.75 19.09375 63.03125 \r\nQ 17.4375 61.328125 17.4375 56.640625 \r\nL 17.4375 51.859375 \r\nL 27.546875 51.859375 \r\nL 27.546875 45.015625 \r\nL 17.4375 45.015625 \r\nL 17.4375 0 \r\nz\r\n\" id=\"ArialMT-102\"/>\r\n       <path d=\"M -1.515625 -19.875 \r\nL -1.515625 -13.53125 \r\nL 56.734375 -13.53125 \r\nL 56.734375 -19.875 \r\nz\r\n\" id=\"ArialMT-95\"/>\r\n       <path d=\"M 40.578125 0 \r\nL 40.578125 7.625 \r\nQ 34.515625 -1.171875 24.125 -1.171875 \r\nQ 19.53125 -1.171875 15.546875 0.578125 \r\nQ 11.578125 2.34375 9.640625 5 \r\nQ 7.71875 7.671875 6.9375 11.53125 \r\nQ 6.390625 14.109375 6.390625 19.734375 \r\nL 6.390625 51.859375 \r\nL 15.1875 51.859375 \r\nL 15.1875 23.09375 \r\nQ 15.1875 16.21875 15.71875 13.8125 \r\nQ 16.546875 10.359375 19.234375 8.375 \r\nQ 21.921875 6.390625 25.875 6.390625 \r\nQ 29.828125 6.390625 33.296875 8.421875 \r\nQ 36.765625 10.453125 38.203125 13.9375 \r\nQ 39.65625 17.4375 39.65625 24.078125 \r\nL 39.65625 51.859375 \r\nL 48.4375 51.859375 \r\nL 48.4375 0 \r\nz\r\n\" id=\"ArialMT-117\"/>\r\n       <path d=\"M 6.59375 0 \r\nL 6.59375 51.859375 \r\nL 14.5 51.859375 \r\nL 14.5 44.484375 \r\nQ 20.21875 53.03125 31 53.03125 \r\nQ 35.6875 53.03125 39.625 51.34375 \r\nQ 43.5625 49.65625 45.515625 46.921875 \r\nQ 47.46875 44.1875 48.25 40.4375 \r\nQ 48.734375 37.984375 48.734375 31.890625 \r\nL 48.734375 0 \r\nL 39.9375 0 \r\nL 39.9375 31.546875 \r\nQ 39.9375 36.921875 38.90625 39.578125 \r\nQ 37.890625 42.234375 35.28125 43.8125 \r\nQ 32.671875 45.40625 29.15625 45.40625 \r\nQ 23.53125 45.40625 19.453125 41.84375 \r\nQ 15.375 38.28125 15.375 28.328125 \r\nL 15.375 0 \r\nz\r\n\" id=\"ArialMT-110\"/>\r\n      </defs>\r\n      <use xlink:href=\"#ArialMT-102\"/>\r\n      <use x=\"27.783203\" xlink:href=\"#ArialMT-111\"/>\r\n      <use x=\"83.398438\" xlink:href=\"#ArialMT-114\"/>\r\n      <use x=\"116.699219\" xlink:href=\"#ArialMT-95\"/>\r\n      <use x=\"172.314453\" xlink:href=\"#ArialMT-99\"/>\r\n      <use x=\"222.314453\" xlink:href=\"#ArialMT-111\"/>\r\n      <use x=\"277.929688\" xlink:href=\"#ArialMT-117\"/>\r\n      <use x=\"333.544922\" xlink:href=\"#ArialMT-110\"/>\r\n      <use x=\"389.160156\" xlink:href=\"#ArialMT-116\"/>\r\n      <use x=\"416.943359\" xlink:href=\"#ArialMT-105\"/>\r\n      <use x=\"439.160156\" xlink:href=\"#ArialMT-110\"/>\r\n      <use x=\"494.775391\" xlink:href=\"#ArialMT-103\"/>\r\n     </g>\r\n    </g>\r\n   </g>\r\n   <g id=\"patch_3\">\r\n    <path clip-path=\"url(#p9cb43b8bc2)\" d=\"M 84.866406 442.08 \r\nL 99.746406 442.08 \r\nL 99.746406 27.908571 \r\nL 84.866406 27.908571 \r\nz\r\n\" style=\"fill:#ea96a3;stroke:#ffffff;stroke-linejoin:miter;\"/>\r\n   </g>\r\n   <g id=\"patch_4\">\r\n    <path clip-path=\"url(#p9cb43b8bc2)\" d=\"M 308.066406 442.08 \r\nL 322.946406 442.08 \r\nL 322.946406 349.109358 \r\nL 308.066406 349.109358 \r\nz\r\n\" style=\"fill:#ea96a3;stroke:#ffffff;stroke-linejoin:miter;\"/>\r\n   </g>\r\n   <g id=\"patch_5\">\r\n    <path clip-path=\"url(#p9cb43b8bc2)\" d=\"M 531.266406 442.08 \r\nL 546.146406 442.08 \r\nL 546.146406 433.649664 \r\nL 531.266406 433.649664 \r\nz\r\n\" style=\"fill:#ea96a3;stroke:#ffffff;stroke-linejoin:miter;\"/>\r\n   </g>\r\n   <g id=\"patch_6\">\r\n    <path clip-path=\"url(#p9cb43b8bc2)\" d=\"M 99.746406 442.08 \r\nL 114.626406 442.08 \r\nL 114.626406 366.219448 \r\nL 99.746406 366.219448 \r\nz\r\n\" style=\"fill:#e19153;stroke:#ffffff;stroke-linejoin:miter;\"/>\r\n   </g>\r\n   <g id=\"patch_7\">\r\n    <path clip-path=\"url(#p9cb43b8bc2)\" d=\"M 322.946406 442.08 \r\nL 337.826406 442.08 \r\nL 337.826406 381.820558 \r\nL 322.946406 381.820558 \r\nz\r\n\" style=\"fill:#e19153;stroke:#ffffff;stroke-linejoin:miter;\"/>\r\n   </g>\r\n   <g id=\"patch_8\">\r\n    <path clip-path=\"url(#p9cb43b8bc2)\" d=\"M 546.146406 442.08 \r\nL 561.026406 442.08 \r\nL 561.026406 427.888103 \r\nL 546.146406 427.888103 \r\nz\r\n\" style=\"fill:#e19153;stroke:#ffffff;stroke-linejoin:miter;\"/>\r\n   </g>\r\n   <g id=\"patch_9\">\r\n    <path clip-path=\"url(#p9cb43b8bc2)\" d=\"M 114.626406 442.08 \r\nL 129.506406 442.08 \r\nL 129.506406 412.748417 \r\nL 114.626406 412.748417 \r\nz\r\n\" style=\"fill:#b89c49;stroke:#ffffff;stroke-linejoin:miter;\"/>\r\n   </g>\r\n   <g id=\"patch_10\">\r\n    <path clip-path=\"url(#p9cb43b8bc2)\" d=\"M 337.826406 442.08 \r\nL 352.706406 442.08 \r\nL 352.706406 440.932676 \r\nL 337.826406 440.932676 \r\nz\r\n\" style=\"fill:#b89c49;stroke:#ffffff;stroke-linejoin:miter;\"/>\r\n   </g>\r\n   <g id=\"patch_11\">\r\n    <path clip-path=\"url(#p9cb43b8bc2)\" d=\"M 0 0 \r\nz\r\n\" style=\"fill:#b89c49;stroke:#ffffff;stroke-linejoin:miter;\"/>\r\n   </g>\r\n   <g id=\"patch_12\">\r\n    <path clip-path=\"url(#p9cb43b8bc2)\" d=\"M 129.506406 442.08 \r\nL 144.386406 442.08 \r\nL 144.386406 427.601272 \r\nL 129.506406 427.601272 \r\nz\r\n\" style=\"fill:#98a246;stroke:#ffffff;stroke-linejoin:miter;\"/>\r\n   </g>\r\n   <g id=\"patch_13\">\r\n    <path clip-path=\"url(#p9cb43b8bc2)\" d=\"M 352.706406 442.08 \r\nL 367.586406 442.08 \r\nL 367.586406 441.032443 \r\nL 352.706406 441.032443 \r\nz\r\n\" style=\"fill:#98a246;stroke:#ffffff;stroke-linejoin:miter;\"/>\r\n   </g>\r\n   <g id=\"patch_14\">\r\n    <path clip-path=\"url(#p9cb43b8bc2)\" d=\"M 0 0 \r\nz\r\n\" style=\"fill:#98a246;stroke:#ffffff;stroke-linejoin:miter;\"/>\r\n   </g>\r\n   <g id=\"patch_15\">\r\n    <path clip-path=\"url(#p9cb43b8bc2)\" d=\"M 144.386406 442.08 \r\nL 159.266406 442.08 \r\nL 159.266406 434.260739 \r\nL 144.386406 434.260739 \r\nz\r\n\" style=\"fill:#60ae47;stroke:#ffffff;stroke-linejoin:miter;\"/>\r\n   </g>\r\n   <g id=\"patch_16\">\r\n    <path clip-path=\"url(#p9cb43b8bc2)\" d=\"M 0 0 \r\nz\r\n\" style=\"fill:#60ae47;stroke:#ffffff;stroke-linejoin:miter;\"/>\r\n   </g>\r\n   <g id=\"patch_17\">\r\n    <path clip-path=\"url(#p9cb43b8bc2)\" d=\"M 0 0 \r\nz\r\n\" style=\"fill:#60ae47;stroke:#ffffff;stroke-linejoin:miter;\"/>\r\n   </g>\r\n   <g id=\"patch_18\">\r\n    <path clip-path=\"url(#p9cb43b8bc2)\" d=\"M 0 0 \r\nz\r\n\" style=\"fill:#4aae8a;stroke:#ffffff;stroke-linejoin:miter;\"/>\r\n   </g>\r\n   <g id=\"patch_19\">\r\n    <path clip-path=\"url(#p9cb43b8bc2)\" d=\"M 382.466406 442.08 \r\nL 397.346406 442.08 \r\nL 397.346406 436.642683 \r\nL 382.466406 436.642683 \r\nz\r\n\" style=\"fill:#4aae8a;stroke:#ffffff;stroke-linejoin:miter;\"/>\r\n   </g>\r\n   <g id=\"patch_20\">\r\n    <path clip-path=\"url(#p9cb43b8bc2)\" d=\"M 605.666406 442.08 \r\nL 620.546406 442.08 \r\nL 620.546406 441.518809 \r\nL 605.666406 441.518809 \r\nz\r\n\" style=\"fill:#4aae8a;stroke:#ffffff;stroke-linejoin:miter;\"/>\r\n   </g>\r\n   <g id=\"patch_21\">\r\n    <path clip-path=\"url(#p9cb43b8bc2)\" d=\"M 0 0 \r\nz\r\n\" style=\"fill:#4baba4;stroke:#ffffff;stroke-linejoin:miter;\"/>\r\n   </g>\r\n   <g id=\"patch_22\">\r\n    <path clip-path=\"url(#p9cb43b8bc2)\" d=\"M 397.346406 442.08 \r\nL 412.226406 442.08 \r\nL 412.226406 436.892101 \r\nL 397.346406 436.892101 \r\nz\r\n\" style=\"fill:#4baba4;stroke:#ffffff;stroke-linejoin:miter;\"/>\r\n   </g>\r\n   <g id=\"patch_23\">\r\n    <path clip-path=\"url(#p9cb43b8bc2)\" d=\"M 0 0 \r\nz\r\n\" style=\"fill:#4baba4;stroke:#ffffff;stroke-linejoin:miter;\"/>\r\n   </g>\r\n   <g id=\"patch_24\">\r\n    <path clip-path=\"url(#p9cb43b8bc2)\" d=\"M 0 0 \r\nz\r\n\" style=\"fill:#4fabbc;stroke:#ffffff;stroke-linejoin:miter;\"/>\r\n   </g>\r\n   <g id=\"patch_25\">\r\n    <path clip-path=\"url(#p9cb43b8bc2)\" d=\"M 412.226406 442.08 \r\nL 427.106406 442.08 \r\nL 427.106406 437.515647 \r\nL 412.226406 437.515647 \r\nz\r\n\" style=\"fill:#4fabbc;stroke:#ffffff;stroke-linejoin:miter;\"/>\r\n   </g>\r\n   <g id=\"patch_26\">\r\n    <path clip-path=\"url(#p9cb43b8bc2)\" d=\"M 635.426406 442.08 \r\nL 650.306406 442.08 \r\nL 650.306406 441.306804 \r\nL 635.426406 441.306804 \r\nz\r\n\" style=\"fill:#4fabbc;stroke:#ffffff;stroke-linejoin:miter;\"/>\r\n   </g>\r\n   <g id=\"patch_27\">\r\n    <path clip-path=\"url(#p9cb43b8bc2)\" d=\"M 203.906406 442.08 \r\nL 218.786406 442.08 \r\nL 218.786406 437.515647 \r\nL 203.906406 437.515647 \r\nz\r\n\" style=\"fill:#6daee2;stroke:#ffffff;stroke-linejoin:miter;\"/>\r\n   </g>\r\n   <g id=\"patch_28\">\r\n    <path clip-path=\"url(#p9cb43b8bc2)\" d=\"M 0 0 \r\nz\r\n\" style=\"fill:#6daee2;stroke:#ffffff;stroke-linejoin:miter;\"/>\r\n   </g>\r\n   <g id=\"patch_29\">\r\n    <path clip-path=\"url(#p9cb43b8bc2)\" d=\"M 0 0 \r\nz\r\n\" style=\"fill:#6daee2;stroke:#ffffff;stroke-linejoin:miter;\"/>\r\n   </g>\r\n   <g id=\"patch_30\">\r\n    <path clip-path=\"url(#p9cb43b8bc2)\" d=\"M 218.786406 442.08 \r\nL 233.666406 442.08 \r\nL 233.666406 440.271718 \r\nL 218.786406 440.271718 \r\nz\r\n\" style=\"fill:#b6a8eb;stroke:#ffffff;stroke-linejoin:miter;\"/>\r\n   </g>\r\n   <g id=\"patch_31\">\r\n    <path clip-path=\"url(#p9cb43b8bc2)\" d=\"M 0 0 \r\nz\r\n\" style=\"fill:#b6a8eb;stroke:#ffffff;stroke-linejoin:miter;\"/>\r\n   </g>\r\n   <g id=\"patch_32\">\r\n    <path clip-path=\"url(#p9cb43b8bc2)\" d=\"M 0 0 \r\nz\r\n\" style=\"fill:#b6a8eb;stroke:#ffffff;stroke-linejoin:miter;\"/>\r\n   </g>\r\n   <g id=\"patch_33\">\r\n    <path clip-path=\"url(#p9cb43b8bc2)\" d=\"M 0 0 \r\nz\r\n\" style=\"fill:#df8fe7;stroke:#ffffff;stroke-linejoin:miter;\"/>\r\n   </g>\r\n   <g id=\"patch_34\">\r\n    <path clip-path=\"url(#p9cb43b8bc2)\" d=\"M 456.866406 442.08 \r\nL 471.746406 442.08 \r\nL 471.746406 441.007502 \r\nL 456.866406 441.007502 \r\nz\r\n\" style=\"fill:#df8fe7;stroke:#ffffff;stroke-linejoin:miter;\"/>\r\n   </g>\r\n   <g id=\"patch_35\">\r\n    <path clip-path=\"url(#p9cb43b8bc2)\" d=\"M 0 0 \r\nz\r\n\" style=\"fill:#df8fe7;stroke:#ffffff;stroke-linejoin:miter;\"/>\r\n   </g>\r\n   <g id=\"patch_36\">\r\n    <path clip-path=\"url(#p9cb43b8bc2)\" d=\"M 248.546406 442.08 \r\nL 263.426406 442.08 \r\nL 263.426406 441.294333 \r\nL 248.546406 441.294333 \r\nz\r\n\" style=\"fill:#e890c6;stroke:#ffffff;stroke-linejoin:miter;\"/>\r\n   </g>\r\n   <g id=\"patch_37\">\r\n    <path clip-path=\"url(#p9cb43b8bc2)\" d=\"M 0 0 \r\nz\r\n\" style=\"fill:#e890c6;stroke:#ffffff;stroke-linejoin:miter;\"/>\r\n   </g>\r\n   <g id=\"patch_38\">\r\n    <path clip-path=\"url(#p9cb43b8bc2)\" d=\"M 0 0 \r\nz\r\n\" style=\"fill:#e890c6;stroke:#ffffff;stroke-linejoin:miter;\"/>\r\n   </g>\r\n   <g id=\"line2d_8\">\r\n    <path clip-path=\"url(#p9cb43b8bc2)\" d=\"M 0 0 \r\n\" style=\"fill:none;stroke:#424242;stroke-linecap:round;stroke-width:2.7;\"/>\r\n   </g>\r\n   <g id=\"line2d_9\">\r\n    <path clip-path=\"url(#p9cb43b8bc2)\" d=\"M 0 0 \r\n\" style=\"fill:none;stroke:#424242;stroke-linecap:round;stroke-width:2.7;\"/>\r\n   </g>\r\n   <g id=\"line2d_10\">\r\n    <path clip-path=\"url(#p9cb43b8bc2)\" d=\"M 0 0 \r\n\" style=\"fill:none;stroke:#424242;stroke-linecap:round;stroke-width:2.7;\"/>\r\n   </g>\r\n   <g id=\"line2d_11\">\r\n    <path clip-path=\"url(#p9cb43b8bc2)\" d=\"M 0 0 \r\n\" style=\"fill:none;stroke:#424242;stroke-linecap:round;stroke-width:2.7;\"/>\r\n   </g>\r\n   <g id=\"line2d_12\">\r\n    <path clip-path=\"url(#p9cb43b8bc2)\" d=\"M 0 0 \r\n\" style=\"fill:none;stroke:#424242;stroke-linecap:round;stroke-width:2.7;\"/>\r\n   </g>\r\n   <g id=\"line2d_13\">\r\n    <path clip-path=\"url(#p9cb43b8bc2)\" d=\"M 0 0 \r\n\" style=\"fill:none;stroke:#424242;stroke-linecap:round;stroke-width:2.7;\"/>\r\n   </g>\r\n   <g id=\"line2d_14\">\r\n    <path clip-path=\"url(#p9cb43b8bc2)\" d=\"M 0 0 \r\n\" style=\"fill:none;stroke:#424242;stroke-linecap:round;stroke-width:2.7;\"/>\r\n   </g>\r\n   <g id=\"line2d_15\">\r\n    <path clip-path=\"url(#p9cb43b8bc2)\" d=\"M 0 0 \r\n\" style=\"fill:none;stroke:#424242;stroke-linecap:round;stroke-width:2.7;\"/>\r\n   </g>\r\n   <g id=\"line2d_16\">\r\n    <path clip-path=\"url(#p9cb43b8bc2)\" d=\"M 0 0 \r\n\" style=\"fill:none;stroke:#424242;stroke-linecap:round;stroke-width:2.7;\"/>\r\n   </g>\r\n   <g id=\"line2d_17\">\r\n    <path clip-path=\"url(#p9cb43b8bc2)\" d=\"M 0 0 \r\n\" style=\"fill:none;stroke:#424242;stroke-linecap:round;stroke-width:2.7;\"/>\r\n   </g>\r\n   <g id=\"line2d_18\">\r\n    <path clip-path=\"url(#p9cb43b8bc2)\" d=\"M 0 0 \r\n\" style=\"fill:none;stroke:#424242;stroke-linecap:round;stroke-width:2.7;\"/>\r\n   </g>\r\n   <g id=\"line2d_19\">\r\n    <path clip-path=\"url(#p9cb43b8bc2)\" d=\"M 0 0 \r\n\" style=\"fill:none;stroke:#424242;stroke-linecap:round;stroke-width:2.7;\"/>\r\n   </g>\r\n   <g id=\"line2d_20\">\r\n    <path clip-path=\"url(#p9cb43b8bc2)\" d=\"M 0 0 \r\n\" style=\"fill:none;stroke:#424242;stroke-linecap:round;stroke-width:2.7;\"/>\r\n   </g>\r\n   <g id=\"line2d_21\">\r\n    <path clip-path=\"url(#p9cb43b8bc2)\" d=\"M 0 0 \r\n\" style=\"fill:none;stroke:#424242;stroke-linecap:round;stroke-width:2.7;\"/>\r\n   </g>\r\n   <g id=\"line2d_22\">\r\n    <path clip-path=\"url(#p9cb43b8bc2)\" d=\"M 0 0 \r\n\" style=\"fill:none;stroke:#424242;stroke-linecap:round;stroke-width:2.7;\"/>\r\n   </g>\r\n   <g id=\"line2d_23\">\r\n    <path clip-path=\"url(#p9cb43b8bc2)\" d=\"M 0 0 \r\n\" style=\"fill:none;stroke:#424242;stroke-linecap:round;stroke-width:2.7;\"/>\r\n   </g>\r\n   <g id=\"line2d_24\">\r\n    <path clip-path=\"url(#p9cb43b8bc2)\" d=\"M 0 0 \r\n\" style=\"fill:none;stroke:#424242;stroke-linecap:round;stroke-width:2.7;\"/>\r\n   </g>\r\n   <g id=\"line2d_25\">\r\n    <path clip-path=\"url(#p9cb43b8bc2)\" d=\"M 0 0 \r\n\" style=\"fill:none;stroke:#424242;stroke-linecap:round;stroke-width:2.7;\"/>\r\n   </g>\r\n   <g id=\"line2d_26\">\r\n    <path clip-path=\"url(#p9cb43b8bc2)\" d=\"M 0 0 \r\n\" style=\"fill:none;stroke:#424242;stroke-linecap:round;stroke-width:2.7;\"/>\r\n   </g>\r\n   <g id=\"line2d_27\">\r\n    <path clip-path=\"url(#p9cb43b8bc2)\" d=\"M 0 0 \r\n\" style=\"fill:none;stroke:#424242;stroke-linecap:round;stroke-width:2.7;\"/>\r\n   </g>\r\n   <g id=\"line2d_28\">\r\n    <path clip-path=\"url(#p9cb43b8bc2)\" d=\"M 0 0 \r\n\" style=\"fill:none;stroke:#424242;stroke-linecap:round;stroke-width:2.7;\"/>\r\n   </g>\r\n   <g id=\"line2d_29\">\r\n    <path clip-path=\"url(#p9cb43b8bc2)\" d=\"M 0 0 \r\n\" style=\"fill:none;stroke:#424242;stroke-linecap:round;stroke-width:2.7;\"/>\r\n   </g>\r\n   <g id=\"line2d_30\">\r\n    <path clip-path=\"url(#p9cb43b8bc2)\" d=\"M 0 0 \r\n\" style=\"fill:none;stroke:#424242;stroke-linecap:round;stroke-width:2.7;\"/>\r\n   </g>\r\n   <g id=\"line2d_31\">\r\n    <path clip-path=\"url(#p9cb43b8bc2)\" d=\"M 0 0 \r\n\" style=\"fill:none;stroke:#424242;stroke-linecap:round;stroke-width:2.7;\"/>\r\n   </g>\r\n   <g id=\"line2d_32\">\r\n    <path clip-path=\"url(#p9cb43b8bc2)\" d=\"M 0 0 \r\n\" style=\"fill:none;stroke:#424242;stroke-linecap:round;stroke-width:2.7;\"/>\r\n   </g>\r\n   <g id=\"line2d_33\">\r\n    <path clip-path=\"url(#p9cb43b8bc2)\" d=\"M 0 0 \r\n\" style=\"fill:none;stroke:#424242;stroke-linecap:round;stroke-width:2.7;\"/>\r\n   </g>\r\n   <g id=\"line2d_34\">\r\n    <path clip-path=\"url(#p9cb43b8bc2)\" d=\"M 0 0 \r\n\" style=\"fill:none;stroke:#424242;stroke-linecap:round;stroke-width:2.7;\"/>\r\n   </g>\r\n   <g id=\"line2d_35\">\r\n    <path clip-path=\"url(#p9cb43b8bc2)\" d=\"M 0 0 \r\n\" style=\"fill:none;stroke:#424242;stroke-linecap:round;stroke-width:2.7;\"/>\r\n   </g>\r\n   <g id=\"line2d_36\">\r\n    <path clip-path=\"url(#p9cb43b8bc2)\" d=\"M 0 0 \r\n\" style=\"fill:none;stroke:#424242;stroke-linecap:round;stroke-width:2.7;\"/>\r\n   </g>\r\n   <g id=\"line2d_37\">\r\n    <path clip-path=\"url(#p9cb43b8bc2)\" d=\"M 0 0 \r\n\" style=\"fill:none;stroke:#424242;stroke-linecap:round;stroke-width:2.7;\"/>\r\n   </g>\r\n   <g id=\"line2d_38\">\r\n    <path clip-path=\"url(#p9cb43b8bc2)\" d=\"M 0 0 \r\n\" style=\"fill:none;stroke:#424242;stroke-linecap:round;stroke-width:2.7;\"/>\r\n   </g>\r\n   <g id=\"line2d_39\">\r\n    <path clip-path=\"url(#p9cb43b8bc2)\" d=\"M 0 0 \r\n\" style=\"fill:none;stroke:#424242;stroke-linecap:round;stroke-width:2.7;\"/>\r\n   </g>\r\n   <g id=\"line2d_40\">\r\n    <path clip-path=\"url(#p9cb43b8bc2)\" d=\"M 0 0 \r\n\" style=\"fill:none;stroke:#424242;stroke-linecap:round;stroke-width:2.7;\"/>\r\n   </g>\r\n   <g id=\"line2d_41\">\r\n    <path clip-path=\"url(#p9cb43b8bc2)\" d=\"M 0 0 \r\n\" style=\"fill:none;stroke:#424242;stroke-linecap:round;stroke-width:2.7;\"/>\r\n   </g>\r\n   <g id=\"line2d_42\">\r\n    <path clip-path=\"url(#p9cb43b8bc2)\" d=\"M 0 0 \r\n\" style=\"fill:none;stroke:#424242;stroke-linecap:round;stroke-width:2.7;\"/>\r\n   </g>\r\n   <g id=\"line2d_43\">\r\n    <path clip-path=\"url(#p9cb43b8bc2)\" d=\"M 0 0 \r\n\" style=\"fill:none;stroke:#424242;stroke-linecap:round;stroke-width:2.7;\"/>\r\n   </g>\r\n   <g id=\"patch_39\">\r\n    <path d=\"M 62.546406 442.08 \r\nL 62.546406 7.2 \r\n\" style=\"fill:none;stroke:#ffffff;stroke-linecap:square;stroke-linejoin:miter;stroke-width:1.25;\"/>\r\n   </g>\r\n   <g id=\"patch_40\">\r\n    <path d=\"M 732.146406 442.08 \r\nL 732.146406 7.2 \r\n\" style=\"fill:none;stroke:#ffffff;stroke-linecap:square;stroke-linejoin:miter;stroke-width:1.25;\"/>\r\n   </g>\r\n   <g id=\"patch_41\">\r\n    <path d=\"M 62.546406 442.08 \r\nL 732.146406 442.08 \r\n\" style=\"fill:none;stroke:#ffffff;stroke-linecap:square;stroke-linejoin:miter;stroke-width:1.25;\"/>\r\n   </g>\r\n   <g id=\"patch_42\">\r\n    <path d=\"M 62.546406 7.2 \r\nL 732.146406 7.2 \r\n\" style=\"fill:none;stroke:#ffffff;stroke-linecap:square;stroke-linejoin:miter;stroke-width:1.25;\"/>\r\n   </g>\r\n   <g id=\"legend_1\">\r\n    <g id=\"patch_43\">\r\n     <path d=\"M 337.0475 219.86625 \r\nL 457.645312 219.86625 \r\nQ 459.845312 219.86625 459.845312 217.66625 \r\nL 459.845312 14.9 \r\nQ 459.845312 12.7 457.645312 12.7 \r\nL 337.0475 12.7 \r\nQ 334.8475 12.7 334.8475 14.9 \r\nL 334.8475 217.66625 \r\nQ 334.8475 219.86625 337.0475 219.86625 \r\nz\r\n\" style=\"fill:#eaeaf2;opacity:0.8;stroke:#cccccc;stroke-linejoin:miter;\"/>\r\n    </g>\r\n    <g id=\"text_13\">\r\n     <!-- browser -->\r\n     <g style=\"fill:#262626;\" transform=\"translate(376.007969 25.689375)scale(0.12 -0.12)\">\r\n      <defs>\r\n       <path d=\"M 16.15625 0 \r\nL 0.296875 51.859375 \r\nL 9.375 51.859375 \r\nL 17.625 21.921875 \r\nL 20.703125 10.796875 \r\nQ 20.90625 11.625 23.390625 21.484375 \r\nL 31.640625 51.859375 \r\nL 40.671875 51.859375 \r\nL 48.4375 21.78125 \r\nL 51.03125 11.859375 \r\nL 54 21.875 \r\nL 62.890625 51.859375 \r\nL 71.4375 51.859375 \r\nL 55.21875 0 \r\nL 46.09375 0 \r\nL 37.84375 31.0625 \r\nL 35.84375 39.890625 \r\nL 25.34375 0 \r\nz\r\n\" id=\"ArialMT-119\"/>\r\n      </defs>\r\n      <use xlink:href=\"#ArialMT-98\"/>\r\n      <use x=\"55.615234\" xlink:href=\"#ArialMT-114\"/>\r\n      <use x=\"88.916016\" xlink:href=\"#ArialMT-111\"/>\r\n      <use x=\"144.53125\" xlink:href=\"#ArialMT-119\"/>\r\n      <use x=\"216.748047\" xlink:href=\"#ArialMT-115\"/>\r\n      <use x=\"266.748047\" xlink:href=\"#ArialMT-101\"/>\r\n      <use x=\"322.363281\" xlink:href=\"#ArialMT-114\"/>\r\n     </g>\r\n    </g>\r\n    <g id=\"patch_44\">\r\n     <path d=\"M 339.2475 41.447969 \r\nL 361.2475 41.447969 \r\nL 361.2475 33.747969 \r\nL 339.2475 33.747969 \r\nz\r\n\" style=\"fill:#ea96a3;stroke:#ffffff;stroke-linejoin:miter;\"/>\r\n    </g>\r\n    <g id=\"text_14\">\r\n     <!-- Chrome -->\r\n     <g style=\"fill:#262626;\" transform=\"translate(370.0475 41.447969)scale(0.11 -0.11)\">\r\n      <defs>\r\n       <path d=\"M 6.59375 0 \r\nL 6.59375 71.578125 \r\nL 15.375 71.578125 \r\nL 15.375 45.90625 \r\nQ 21.53125 53.03125 30.90625 53.03125 \r\nQ 36.671875 53.03125 40.921875 50.75 \r\nQ 45.171875 48.484375 47 44.484375 \r\nQ 48.828125 40.484375 48.828125 32.859375 \r\nL 48.828125 0 \r\nL 40.046875 0 \r\nL 40.046875 32.859375 \r\nQ 40.046875 39.453125 37.1875 42.453125 \r\nQ 34.328125 45.453125 29.109375 45.453125 \r\nQ 25.203125 45.453125 21.75 43.421875 \r\nQ 18.3125 41.40625 16.84375 37.9375 \r\nQ 15.375 34.46875 15.375 28.375 \r\nL 15.375 0 \r\nz\r\n\" id=\"ArialMT-104\"/>\r\n      </defs>\r\n      <use xlink:href=\"#ArialMT-67\"/>\r\n      <use x=\"72.216797\" xlink:href=\"#ArialMT-104\"/>\r\n      <use x=\"127.832031\" xlink:href=\"#ArialMT-114\"/>\r\n      <use x=\"161.132812\" xlink:href=\"#ArialMT-111\"/>\r\n      <use x=\"216.748047\" xlink:href=\"#ArialMT-109\"/>\r\n      <use x=\"300.048828\" xlink:href=\"#ArialMT-101\"/>\r\n     </g>\r\n    </g>\r\n    <g id=\"patch_45\">\r\n     <path d=\"M 339.2475 57.007812 \r\nL 361.2475 57.007812 \r\nL 361.2475 49.307812 \r\nL 339.2475 49.307812 \r\nz\r\n\" style=\"fill:#e19153;stroke:#ffffff;stroke-linejoin:miter;\"/>\r\n    </g>\r\n    <g id=\"text_15\">\r\n     <!-- Safari -->\r\n     <g style=\"fill:#262626;\" transform=\"translate(370.0475 57.007812)scale(0.11 -0.11)\">\r\n      <defs>\r\n       <path d=\"M 4.5 23 \r\nL 13.421875 23.78125 \r\nQ 14.0625 18.40625 16.375 14.96875 \r\nQ 18.703125 11.53125 23.578125 9.40625 \r\nQ 28.46875 7.28125 34.578125 7.28125 \r\nQ 39.984375 7.28125 44.140625 8.890625 \r\nQ 48.296875 10.5 50.3125 13.296875 \r\nQ 52.34375 16.109375 52.34375 19.4375 \r\nQ 52.34375 22.796875 50.390625 25.3125 \r\nQ 48.4375 27.828125 43.953125 29.546875 \r\nQ 41.0625 30.671875 31.203125 33.03125 \r\nQ 21.34375 35.40625 17.390625 37.5 \r\nQ 12.25 40.1875 9.734375 44.15625 \r\nQ 7.234375 48.140625 7.234375 53.078125 \r\nQ 7.234375 58.5 10.296875 63.203125 \r\nQ 13.375 67.921875 19.28125 70.359375 \r\nQ 25.203125 72.796875 32.421875 72.796875 \r\nQ 40.375 72.796875 46.453125 70.234375 \r\nQ 52.546875 67.671875 55.8125 62.6875 \r\nQ 59.078125 57.71875 59.328125 51.421875 \r\nL 50.25 50.734375 \r\nQ 49.515625 57.515625 45.28125 60.984375 \r\nQ 41.0625 64.453125 32.8125 64.453125 \r\nQ 24.21875 64.453125 20.28125 61.296875 \r\nQ 16.359375 58.15625 16.359375 53.71875 \r\nQ 16.359375 49.859375 19.140625 47.359375 \r\nQ 21.875 44.875 33.421875 42.265625 \r\nQ 44.96875 39.65625 49.265625 37.703125 \r\nQ 55.515625 34.8125 58.484375 30.390625 \r\nQ 61.46875 25.984375 61.46875 20.21875 \r\nQ 61.46875 14.5 58.203125 9.4375 \r\nQ 54.9375 4.390625 48.796875 1.578125 \r\nQ 42.671875 -1.21875 35.015625 -1.21875 \r\nQ 25.296875 -1.21875 18.71875 1.609375 \r\nQ 12.15625 4.4375 8.421875 10.125 \r\nQ 4.6875 15.828125 4.5 23 \r\nz\r\n\" id=\"ArialMT-83\"/>\r\n      </defs>\r\n      <use xlink:href=\"#ArialMT-83\"/>\r\n      <use x=\"66.699219\" xlink:href=\"#ArialMT-97\"/>\r\n      <use x=\"122.314453\" xlink:href=\"#ArialMT-102\"/>\r\n      <use x=\"150.097656\" xlink:href=\"#ArialMT-97\"/>\r\n      <use x=\"205.712891\" xlink:href=\"#ArialMT-114\"/>\r\n      <use x=\"239.013672\" xlink:href=\"#ArialMT-105\"/>\r\n     </g>\r\n    </g>\r\n    <g id=\"patch_46\">\r\n     <path d=\"M 339.2475 72.567656 \r\nL 361.2475 72.567656 \r\nL 361.2475 64.867656 \r\nL 339.2475 64.867656 \r\nz\r\n\" style=\"fill:#b89c49;stroke:#ffffff;stroke-linejoin:miter;\"/>\r\n    </g>\r\n    <g id=\"text_16\">\r\n     <!-- Firefox -->\r\n     <g style=\"fill:#262626;\" transform=\"translate(370.0475 72.567656)scale(0.11 -0.11)\">\r\n      <defs>\r\n       <path d=\"M 8.203125 0 \r\nL 8.203125 71.578125 \r\nL 56.5 71.578125 \r\nL 56.5 63.140625 \r\nL 17.671875 63.140625 \r\nL 17.671875 40.96875 \r\nL 51.265625 40.96875 \r\nL 51.265625 32.515625 \r\nL 17.671875 32.515625 \r\nL 17.671875 0 \r\nz\r\n\" id=\"ArialMT-70\"/>\r\n       <path d=\"M 0.734375 0 \r\nL 19.671875 26.953125 \r\nL 2.15625 51.859375 \r\nL 13.140625 51.859375 \r\nL 21.09375 39.703125 \r\nQ 23.34375 36.234375 24.703125 33.890625 \r\nQ 26.859375 37.109375 28.65625 39.59375 \r\nL 37.40625 51.859375 \r\nL 47.90625 51.859375 \r\nL 29.984375 27.4375 \r\nL 49.265625 0 \r\nL 38.484375 0 \r\nL 27.828125 16.109375 \r\nL 25 20.453125 \r\nL 11.375 0 \r\nz\r\n\" id=\"ArialMT-120\"/>\r\n      </defs>\r\n      <use xlink:href=\"#ArialMT-70\"/>\r\n      <use x=\"61.083984\" xlink:href=\"#ArialMT-105\"/>\r\n      <use x=\"83.300781\" xlink:href=\"#ArialMT-114\"/>\r\n      <use x=\"116.601562\" xlink:href=\"#ArialMT-101\"/>\r\n      <use x=\"172.216797\" xlink:href=\"#ArialMT-102\"/>\r\n      <use x=\"200\" xlink:href=\"#ArialMT-111\"/>\r\n      <use x=\"255.615234\" xlink:href=\"#ArialMT-120\"/>\r\n     </g>\r\n    </g>\r\n    <g id=\"patch_47\">\r\n     <path d=\"M 339.2475 88.1275 \r\nL 361.2475 88.1275 \r\nL 361.2475 80.4275 \r\nL 339.2475 80.4275 \r\nz\r\n\" style=\"fill:#98a246;stroke:#ffffff;stroke-linejoin:miter;\"/>\r\n    </g>\r\n    <g id=\"text_17\">\r\n     <!-- Internet Explorer -->\r\n     <g style=\"fill:#262626;\" transform=\"translate(370.0475 88.1275)scale(0.11 -0.11)\">\r\n      <defs>\r\n       <path d=\"M 9.328125 0 \r\nL 9.328125 71.578125 \r\nL 18.796875 71.578125 \r\nL 18.796875 0 \r\nz\r\n\" id=\"ArialMT-73\"/>\r\n       <path id=\"ArialMT-32\"/>\r\n       <path d=\"M 7.90625 0 \r\nL 7.90625 71.578125 \r\nL 59.671875 71.578125 \r\nL 59.671875 63.140625 \r\nL 17.390625 63.140625 \r\nL 17.390625 41.21875 \r\nL 56.984375 41.21875 \r\nL 56.984375 32.8125 \r\nL 17.390625 32.8125 \r\nL 17.390625 8.453125 \r\nL 61.328125 8.453125 \r\nL 61.328125 0 \r\nz\r\n\" id=\"ArialMT-69\"/>\r\n      </defs>\r\n      <use xlink:href=\"#ArialMT-73\"/>\r\n      <use x=\"27.783203\" xlink:href=\"#ArialMT-110\"/>\r\n      <use x=\"83.398438\" xlink:href=\"#ArialMT-116\"/>\r\n      <use x=\"111.181641\" xlink:href=\"#ArialMT-101\"/>\r\n      <use x=\"166.796875\" xlink:href=\"#ArialMT-114\"/>\r\n      <use x=\"200.097656\" xlink:href=\"#ArialMT-110\"/>\r\n      <use x=\"255.712891\" xlink:href=\"#ArialMT-101\"/>\r\n      <use x=\"311.328125\" xlink:href=\"#ArialMT-116\"/>\r\n      <use x=\"339.111328\" xlink:href=\"#ArialMT-32\"/>\r\n      <use x=\"366.894531\" xlink:href=\"#ArialMT-69\"/>\r\n      <use x=\"433.59375\" xlink:href=\"#ArialMT-120\"/>\r\n      <use x=\"483.59375\" xlink:href=\"#ArialMT-112\"/>\r\n      <use x=\"539.208984\" xlink:href=\"#ArialMT-108\"/>\r\n      <use x=\"561.425781\" xlink:href=\"#ArialMT-111\"/>\r\n      <use x=\"617.041016\" xlink:href=\"#ArialMT-114\"/>\r\n      <use x=\"650.341797\" xlink:href=\"#ArialMT-101\"/>\r\n      <use x=\"705.957031\" xlink:href=\"#ArialMT-114\"/>\r\n     </g>\r\n    </g>\r\n    <g id=\"patch_48\">\r\n     <path d=\"M 339.2475 103.687344 \r\nL 361.2475 103.687344 \r\nL 361.2475 95.987344 \r\nL 339.2475 95.987344 \r\nz\r\n\" style=\"fill:#60ae47;stroke:#ffffff;stroke-linejoin:miter;\"/>\r\n    </g>\r\n    <g id=\"text_18\">\r\n     <!-- Edge -->\r\n     <g style=\"fill:#262626;\" transform=\"translate(370.0475 103.687344)scale(0.11 -0.11)\">\r\n      <use xlink:href=\"#ArialMT-69\"/>\r\n      <use x=\"66.699219\" xlink:href=\"#ArialMT-100\"/>\r\n      <use x=\"122.314453\" xlink:href=\"#ArialMT-103\"/>\r\n      <use x=\"177.929688\" xlink:href=\"#ArialMT-101\"/>\r\n     </g>\r\n    </g>\r\n    <g id=\"patch_49\">\r\n     <path d=\"M 339.2475 119.376094 \r\nL 361.2475 119.376094 \r\nL 361.2475 111.676094 \r\nL 339.2475 111.676094 \r\nz\r\n\" style=\"fill:#4aae8a;stroke:#ffffff;stroke-linejoin:miter;\"/>\r\n    </g>\r\n    <g id=\"text_19\">\r\n     <!-- Android Webview -->\r\n     <g style=\"fill:#262626;\" transform=\"translate(370.0475 119.376094)scale(0.11 -0.11)\">\r\n      <defs>\r\n       <path d=\"M -0.140625 0 \r\nL 27.34375 71.578125 \r\nL 37.546875 71.578125 \r\nL 66.84375 0 \r\nL 56.0625 0 \r\nL 47.703125 21.6875 \r\nL 17.78125 21.6875 \r\nL 9.90625 0 \r\nz\r\nM 20.515625 29.390625 \r\nL 44.78125 29.390625 \r\nL 37.3125 49.21875 \r\nQ 33.890625 58.25 32.234375 64.0625 \r\nQ 30.859375 57.171875 28.375 50.390625 \r\nz\r\n\" id=\"ArialMT-65\"/>\r\n       <path d=\"M 20.21875 0 \r\nL 1.21875 71.578125 \r\nL 10.9375 71.578125 \r\nL 21.828125 24.65625 \r\nQ 23.578125 17.28125 24.859375 10.015625 \r\nQ 27.59375 21.484375 28.078125 23.25 \r\nL 41.703125 71.578125 \r\nL 53.125 71.578125 \r\nL 63.375 35.359375 \r\nQ 67.234375 21.875 68.953125 10.015625 \r\nQ 70.3125 16.796875 72.515625 25.59375 \r\nL 83.734375 71.578125 \r\nL 93.265625 71.578125 \r\nL 73.640625 0 \r\nL 64.5 0 \r\nL 49.421875 54.546875 \r\nQ 47.515625 61.375 47.171875 62.9375 \r\nQ 46.046875 58.015625 45.0625 54.546875 \r\nL 29.890625 0 \r\nz\r\n\" id=\"ArialMT-87\"/>\r\n      </defs>\r\n      <use xlink:href=\"#ArialMT-65\"/>\r\n      <use x=\"66.699219\" xlink:href=\"#ArialMT-110\"/>\r\n      <use x=\"122.314453\" xlink:href=\"#ArialMT-100\"/>\r\n      <use x=\"177.929688\" xlink:href=\"#ArialMT-114\"/>\r\n      <use x=\"211.230469\" xlink:href=\"#ArialMT-111\"/>\r\n      <use x=\"266.845703\" xlink:href=\"#ArialMT-105\"/>\r\n      <use x=\"289.0625\" xlink:href=\"#ArialMT-100\"/>\r\n      <use x=\"344.677734\" xlink:href=\"#ArialMT-32\"/>\r\n      <use x=\"372.460938\" xlink:href=\"#ArialMT-87\"/>\r\n      <use x=\"465.095703\" xlink:href=\"#ArialMT-101\"/>\r\n      <use x=\"520.710938\" xlink:href=\"#ArialMT-98\"/>\r\n      <use x=\"576.326172\" xlink:href=\"#ArialMT-118\"/>\r\n      <use x=\"626.326172\" xlink:href=\"#ArialMT-105\"/>\r\n      <use x=\"648.542969\" xlink:href=\"#ArialMT-101\"/>\r\n      <use x=\"704.158203\" xlink:href=\"#ArialMT-119\"/>\r\n     </g>\r\n    </g>\r\n    <g id=\"patch_50\">\r\n     <path d=\"M 339.2475 135.076875 \r\nL 361.2475 135.076875 \r\nL 361.2475 127.376875 \r\nL 339.2475 127.376875 \r\nz\r\n\" style=\"fill:#4baba4;stroke:#ffffff;stroke-linejoin:miter;\"/>\r\n    </g>\r\n    <g id=\"text_20\">\r\n     <!-- Opera Mini -->\r\n     <g style=\"fill:#262626;\" transform=\"translate(370.0475 135.076875)scale(0.11 -0.11)\">\r\n      <defs>\r\n       <path d=\"M 4.828125 34.859375 \r\nQ 4.828125 52.6875 14.390625 62.765625 \r\nQ 23.96875 72.859375 39.109375 72.859375 \r\nQ 49.03125 72.859375 56.984375 68.109375 \r\nQ 64.9375 63.375 69.109375 54.90625 \r\nQ 73.296875 46.4375 73.296875 35.6875 \r\nQ 73.296875 24.8125 68.890625 16.21875 \r\nQ 64.5 7.625 56.4375 3.203125 \r\nQ 48.390625 -1.21875 39.0625 -1.21875 \r\nQ 28.953125 -1.21875 20.984375 3.65625 \r\nQ 13.03125 8.546875 8.921875 16.984375 \r\nQ 4.828125 25.4375 4.828125 34.859375 \r\nz\r\nM 14.59375 34.71875 \r\nQ 14.59375 21.78125 21.546875 14.328125 \r\nQ 28.515625 6.890625 39.015625 6.890625 \r\nQ 49.703125 6.890625 56.609375 14.40625 \r\nQ 63.53125 21.921875 63.53125 35.75 \r\nQ 63.53125 44.484375 60.578125 51 \r\nQ 57.625 57.515625 51.921875 61.109375 \r\nQ 46.234375 64.703125 39.15625 64.703125 \r\nQ 29.109375 64.703125 21.84375 57.78125 \r\nQ 14.59375 50.875 14.59375 34.71875 \r\nz\r\n\" id=\"ArialMT-79\"/>\r\n       <path d=\"M 7.421875 0 \r\nL 7.421875 71.578125 \r\nL 21.6875 71.578125 \r\nL 38.625 20.90625 \r\nQ 40.96875 13.8125 42.046875 10.296875 \r\nQ 43.265625 14.203125 45.84375 21.78125 \r\nL 62.984375 71.578125 \r\nL 75.734375 71.578125 \r\nL 75.734375 0 \r\nL 66.609375 0 \r\nL 66.609375 59.90625 \r\nL 45.796875 0 \r\nL 37.25 0 \r\nL 16.546875 60.9375 \r\nL 16.546875 0 \r\nz\r\n\" id=\"ArialMT-77\"/>\r\n      </defs>\r\n      <use xlink:href=\"#ArialMT-79\"/>\r\n      <use x=\"77.783203\" xlink:href=\"#ArialMT-112\"/>\r\n      <use x=\"133.398438\" xlink:href=\"#ArialMT-101\"/>\r\n      <use x=\"189.013672\" xlink:href=\"#ArialMT-114\"/>\r\n      <use x=\"222.314453\" xlink:href=\"#ArialMT-97\"/>\r\n      <use x=\"277.929688\" xlink:href=\"#ArialMT-32\"/>\r\n      <use x=\"305.712891\" xlink:href=\"#ArialMT-77\"/>\r\n      <use x=\"389.013672\" xlink:href=\"#ArialMT-105\"/>\r\n      <use x=\"411.230469\" xlink:href=\"#ArialMT-110\"/>\r\n      <use x=\"466.845703\" xlink:href=\"#ArialMT-105\"/>\r\n     </g>\r\n    </g>\r\n    <g id=\"patch_51\">\r\n     <path d=\"M 339.2475 150.770781 \r\nL 361.2475 150.770781 \r\nL 361.2475 143.070781 \r\nL 339.2475 143.070781 \r\nz\r\n\" style=\"fill:#4fabbc;stroke:#ffffff;stroke-linejoin:miter;\"/>\r\n    </g>\r\n    <g id=\"text_21\">\r\n     <!-- Safari (in-app) -->\r\n     <g style=\"fill:#262626;\" transform=\"translate(370.0475 150.770781)scale(0.11 -0.11)\">\r\n      <defs>\r\n       <path d=\"M 23.390625 -21.046875 \r\nQ 16.109375 -11.859375 11.078125 0.4375 \r\nQ 6.0625 12.75 6.0625 25.921875 \r\nQ 6.0625 37.546875 9.8125 48.1875 \r\nQ 14.203125 60.546875 23.390625 72.796875 \r\nL 29.6875 72.796875 \r\nQ 23.78125 62.640625 21.875 58.296875 \r\nQ 18.890625 51.5625 17.1875 44.234375 \r\nQ 15.09375 35.109375 15.09375 25.875 \r\nQ 15.09375 2.390625 29.6875 -21.046875 \r\nz\r\n\" id=\"ArialMT-40\"/>\r\n       <path d=\"M 3.171875 21.484375 \r\nL 3.171875 30.328125 \r\nL 30.171875 30.328125 \r\nL 30.171875 21.484375 \r\nz\r\n\" id=\"ArialMT-45\"/>\r\n       <path d=\"M 12.359375 -21.046875 \r\nL 6.0625 -21.046875 \r\nQ 20.65625 2.390625 20.65625 25.875 \r\nQ 20.65625 35.0625 18.5625 44.09375 \r\nQ 16.890625 51.421875 13.921875 58.15625 \r\nQ 12.015625 62.546875 6.0625 72.796875 \r\nL 12.359375 72.796875 \r\nQ 21.53125 60.546875 25.921875 48.1875 \r\nQ 29.6875 37.546875 29.6875 25.921875 \r\nQ 29.6875 12.75 24.625 0.4375 \r\nQ 19.578125 -11.859375 12.359375 -21.046875 \r\nz\r\n\" id=\"ArialMT-41\"/>\r\n      </defs>\r\n      <use xlink:href=\"#ArialMT-83\"/>\r\n      <use x=\"66.699219\" xlink:href=\"#ArialMT-97\"/>\r\n      <use x=\"122.314453\" xlink:href=\"#ArialMT-102\"/>\r\n      <use x=\"150.097656\" xlink:href=\"#ArialMT-97\"/>\r\n      <use x=\"205.712891\" xlink:href=\"#ArialMT-114\"/>\r\n      <use x=\"239.013672\" xlink:href=\"#ArialMT-105\"/>\r\n      <use x=\"261.230469\" xlink:href=\"#ArialMT-32\"/>\r\n      <use x=\"289.013672\" xlink:href=\"#ArialMT-40\"/>\r\n      <use x=\"322.314453\" xlink:href=\"#ArialMT-105\"/>\r\n      <use x=\"344.53125\" xlink:href=\"#ArialMT-110\"/>\r\n      <use x=\"400.146484\" xlink:href=\"#ArialMT-45\"/>\r\n      <use x=\"433.447266\" xlink:href=\"#ArialMT-97\"/>\r\n      <use x=\"489.0625\" xlink:href=\"#ArialMT-112\"/>\r\n      <use x=\"544.677734\" xlink:href=\"#ArialMT-112\"/>\r\n      <use x=\"600.292969\" xlink:href=\"#ArialMT-41\"/>\r\n     </g>\r\n    </g>\r\n    <g id=\"patch_52\">\r\n     <path d=\"M 339.2475 166.600469 \r\nL 361.2475 166.600469 \r\nL 361.2475 158.900469 \r\nL 339.2475 158.900469 \r\nz\r\n\" style=\"fill:#6daee2;stroke:#ffffff;stroke-linejoin:miter;\"/>\r\n    </g>\r\n    <g id=\"text_22\">\r\n     <!-- Opera -->\r\n     <g style=\"fill:#262626;\" transform=\"translate(370.0475 166.600469)scale(0.11 -0.11)\">\r\n      <use xlink:href=\"#ArialMT-79\"/>\r\n      <use x=\"77.783203\" xlink:href=\"#ArialMT-112\"/>\r\n      <use x=\"133.398438\" xlink:href=\"#ArialMT-101\"/>\r\n      <use x=\"189.013672\" xlink:href=\"#ArialMT-114\"/>\r\n      <use x=\"222.314453\" xlink:href=\"#ArialMT-97\"/>\r\n     </g>\r\n    </g>\r\n    <g id=\"patch_53\">\r\n     <path d=\"M 339.2475 182.160312 \r\nL 361.2475 182.160312 \r\nL 361.2475 174.460312 \r\nL 339.2475 174.460312 \r\nz\r\n\" style=\"fill:#b6a8eb;stroke:#ffffff;stroke-linejoin:miter;\"/>\r\n    </g>\r\n    <g id=\"text_23\">\r\n     <!-- YaBrowser -->\r\n     <g style=\"fill:#262626;\" transform=\"translate(370.0475 182.160312)scale(0.11 -0.11)\">\r\n      <defs>\r\n       <path d=\"M 27.875 0 \r\nL 27.875 30.328125 \r\nL 0.296875 71.578125 \r\nL 11.8125 71.578125 \r\nL 25.921875 50 \r\nQ 29.828125 43.953125 33.203125 37.890625 \r\nQ 36.421875 43.5 41.015625 50.53125 \r\nL 54.890625 71.578125 \r\nL 65.921875 71.578125 \r\nL 37.359375 30.328125 \r\nL 37.359375 0 \r\nz\r\n\" id=\"ArialMT-89\"/>\r\n       <path d=\"M 7.328125 0 \r\nL 7.328125 71.578125 \r\nL 34.1875 71.578125 \r\nQ 42.390625 71.578125 47.34375 69.40625 \r\nQ 52.296875 67.234375 55.09375 62.71875 \r\nQ 57.90625 58.203125 57.90625 53.265625 \r\nQ 57.90625 48.6875 55.421875 44.625 \r\nQ 52.9375 40.578125 47.90625 38.09375 \r\nQ 54.390625 36.1875 57.875 31.59375 \r\nQ 61.375 27 61.375 20.75 \r\nQ 61.375 15.71875 59.25 11.390625 \r\nQ 57.125 7.078125 54 4.734375 \r\nQ 50.875 2.390625 46.15625 1.1875 \r\nQ 41.453125 0 34.625 0 \r\nz\r\nM 16.796875 41.5 \r\nL 32.28125 41.5 \r\nQ 38.578125 41.5 41.3125 42.328125 \r\nQ 44.921875 43.40625 46.75 45.890625 \r\nQ 48.578125 48.390625 48.578125 52.15625 \r\nQ 48.578125 55.71875 46.875 58.421875 \r\nQ 45.171875 61.140625 41.984375 62.140625 \r\nQ 38.8125 63.140625 31.109375 63.140625 \r\nL 16.796875 63.140625 \r\nz\r\nM 16.796875 8.453125 \r\nL 34.625 8.453125 \r\nQ 39.203125 8.453125 41.0625 8.796875 \r\nQ 44.34375 9.375 46.53125 10.734375 \r\nQ 48.734375 12.109375 50.140625 14.71875 \r\nQ 51.5625 17.328125 51.5625 20.75 \r\nQ 51.5625 24.75 49.515625 27.703125 \r\nQ 47.46875 30.671875 43.828125 31.859375 \r\nQ 40.1875 33.0625 33.34375 33.0625 \r\nL 16.796875 33.0625 \r\nz\r\n\" id=\"ArialMT-66\"/>\r\n      </defs>\r\n      <use xlink:href=\"#ArialMT-89\"/>\r\n      <use x=\"59.324219\" xlink:href=\"#ArialMT-97\"/>\r\n      <use x=\"114.939453\" xlink:href=\"#ArialMT-66\"/>\r\n      <use x=\"181.638672\" xlink:href=\"#ArialMT-114\"/>\r\n      <use x=\"214.939453\" xlink:href=\"#ArialMT-111\"/>\r\n      <use x=\"270.554688\" xlink:href=\"#ArialMT-119\"/>\r\n      <use x=\"342.771484\" xlink:href=\"#ArialMT-115\"/>\r\n      <use x=\"392.771484\" xlink:href=\"#ArialMT-101\"/>\r\n      <use x=\"448.386719\" xlink:href=\"#ArialMT-114\"/>\r\n     </g>\r\n    </g>\r\n    <g id=\"patch_54\">\r\n     <path d=\"M 339.2475 197.720156 \r\nL 361.2475 197.720156 \r\nL 361.2475 190.020156 \r\nL 339.2475 190.020156 \r\nz\r\n\" style=\"fill:#df8fe7;stroke:#ffffff;stroke-linejoin:miter;\"/>\r\n    </g>\r\n    <g id=\"text_24\">\r\n     <!-- UC Browser -->\r\n     <g style=\"fill:#262626;\" transform=\"translate(370.0475 197.720156)scale(0.11 -0.11)\">\r\n      <defs>\r\n       <path d=\"M 54.6875 71.578125 \r\nL 64.15625 71.578125 \r\nL 64.15625 30.21875 \r\nQ 64.15625 19.4375 61.71875 13.078125 \r\nQ 59.28125 6.734375 52.90625 2.75 \r\nQ 46.53125 -1.21875 36.1875 -1.21875 \r\nQ 26.125 -1.21875 19.71875 2.25 \r\nQ 13.328125 5.71875 10.59375 12.28125 \r\nQ 7.859375 18.84375 7.859375 30.21875 \r\nL 7.859375 71.578125 \r\nL 17.328125 71.578125 \r\nL 17.328125 30.28125 \r\nQ 17.328125 20.953125 19.0625 16.53125 \r\nQ 20.796875 12.109375 25.015625 9.71875 \r\nQ 29.25 7.328125 35.359375 7.328125 \r\nQ 45.796875 7.328125 50.234375 12.0625 \r\nQ 54.6875 16.796875 54.6875 30.28125 \r\nz\r\n\" id=\"ArialMT-85\"/>\r\n      </defs>\r\n      <use xlink:href=\"#ArialMT-85\"/>\r\n      <use x=\"72.216797\" xlink:href=\"#ArialMT-67\"/>\r\n      <use x=\"144.433594\" xlink:href=\"#ArialMT-32\"/>\r\n      <use x=\"172.216797\" xlink:href=\"#ArialMT-66\"/>\r\n      <use x=\"238.916016\" xlink:href=\"#ArialMT-114\"/>\r\n      <use x=\"272.216797\" xlink:href=\"#ArialMT-111\"/>\r\n      <use x=\"327.832031\" xlink:href=\"#ArialMT-119\"/>\r\n      <use x=\"400.048828\" xlink:href=\"#ArialMT-115\"/>\r\n      <use x=\"450.048828\" xlink:href=\"#ArialMT-101\"/>\r\n      <use x=\"505.664062\" xlink:href=\"#ArialMT-114\"/>\r\n     </g>\r\n    </g>\r\n    <g id=\"patch_55\">\r\n     <path d=\"M 339.2475 213.28 \r\nL 361.2475 213.28 \r\nL 361.2475 205.58 \r\nL 339.2475 205.58 \r\nz\r\n\" style=\"fill:#e890c6;stroke:#ffffff;stroke-linejoin:miter;\"/>\r\n    </g>\r\n    <g id=\"text_25\">\r\n     <!-- Coc Coc -->\r\n     <g style=\"fill:#262626;\" transform=\"translate(370.0475 213.28)scale(0.11 -0.11)\">\r\n      <use xlink:href=\"#ArialMT-67\"/>\r\n      <use x=\"72.216797\" xlink:href=\"#ArialMT-111\"/>\r\n      <use x=\"127.832031\" xlink:href=\"#ArialMT-99\"/>\r\n      <use x=\"177.832031\" xlink:href=\"#ArialMT-32\"/>\r\n      <use x=\"205.615234\" xlink:href=\"#ArialMT-67\"/>\r\n      <use x=\"277.832031\" xlink:href=\"#ArialMT-111\"/>\r\n      <use x=\"333.447266\" xlink:href=\"#ArialMT-99\"/>\r\n     </g>\r\n    </g>\r\n   </g>\r\n  </g>\r\n </g>\r\n <defs>\r\n  <clipPath id=\"p9cb43b8bc2\">\r\n   <rect height=\"434.88\" width=\"669.6\" x=\"62.546406\" y=\"7.2\"/>\r\n  </clipPath>\r\n </defs>\r\n</svg>\r\n",
      "image/png": "[encoded data removed]"
     },
     "metadata": {}
    }
   ],
   "source": [
    "sns.barplot(data=test, x=\"deviceCategory\", y=\"for_counting\", hue=\"browser\")"
   ]
  },
  {
   "cell_type": "code",
   "execution_count": 76,
   "metadata": {},
   "outputs": [
    {
     "output_type": "execute_result",
     "data": {
      "text/plain": [
       "    device  count  percent\n",
       "0  desktop  44200    73.67\n",
       "1   mobile  13782    22.97\n",
       "2   tablet   2018     3.36"
      ],
      "text/html": "<div>\n<style scoped>\n    .dataframe tbody tr th:only-of-type {\n        vertical-align: middle;\n    }\n\n    .dataframe tbody tr th {\n        vertical-align: top;\n    }\n\n    .dataframe thead th {\n        text-align: right;\n    }\n</style>\n<table border=\"1\" class=\"dataframe\">\n  <thead>\n    <tr style=\"text-align: right;\">\n      <th></th>\n      <th>device</th>\n      <th>count</th>\n      <th>percent</th>\n    </tr>\n  </thead>\n  <tbody>\n    <tr>\n      <th>0</th>\n      <td>desktop</td>\n      <td>44200</td>\n      <td>73.67</td>\n    </tr>\n    <tr>\n      <th>1</th>\n      <td>mobile</td>\n      <td>13782</td>\n      <td>22.97</td>\n    </tr>\n    <tr>\n      <th>2</th>\n      <td>tablet</td>\n      <td>2018</td>\n      <td>3.36</td>\n    </tr>\n  </tbody>\n</table>\n</div>"
     },
     "metadata": {},
     "execution_count": 76
    }
   ],
   "source": [
    "device_count = device.deviceCategory.value_counts().rename_axis('device').reset_index(name='count')\n",
    "device_count[\"percent\"] = round((device_count[\"count\"] / device_count[\"count\"].sum())*100,2)\n",
    "device_count"
   ]
  },
  {
   "cell_type": "code",
   "execution_count": 319,
   "metadata": {},
   "outputs": [],
   "source": [
    "#px.bar(device, x=\"deviceCategory\",color_discrete_sequence=px.colors.sequential.Plasma)"
   ]
  },
  {
   "cell_type": "code",
   "execution_count": 79,
   "metadata": {},
   "outputs": [],
   "source": [
    "# sns.set_theme(style=\"darkgrid\")\n",
    "# ax = sns.countplot(x=\"deviceCategory\", data=device,palette= \"flare\")"
   ]
  },
  {
   "cell_type": "code",
   "execution_count": 72,
   "metadata": {},
   "outputs": [],
   "source": [
    "# px.histogram(device, x=\"deviceCategory\", title=\"Device used by GStore visitors\",color=\"deviceCategory\",color_discrete_sequence=px.colors.sequential.Plasma)"
   ]
  },
  {
   "cell_type": "code",
   "execution_count": 78,
   "metadata": {},
   "outputs": [
    {
     "output_type": "display_data",
     "data": {
      "application/vnd.plotly.v1+json": {
       "config": {
        "plotlyServerURL": "https://plotly.com"
       },
       "data": [
        {
         "alignmentgroup": "True",
         "hovertemplate": "device=%{x}<br>count=%{y}<br>text=%{text}<extra></extra>",
         "legendgroup": "desktop",
         "marker": {
          "color": "#0d0887"
         },
         "name": "desktop",
         "offsetgroup": "desktop",
         "orientation": "v",
         "showlegend": true,
         "text": [
          "73.67%"
         ],
         "textposition": "auto",
         "type": "bar",
         "x": [
          "desktop"
         ],
         "xaxis": "x",
         "y": [
          44200
         ],
         "yaxis": "y"
        },
        {
         "alignmentgroup": "True",
         "hovertemplate": "device=%{x}<br>count=%{y}<br>text=%{text}<extra></extra>",
         "legendgroup": "mobile",
         "marker": {
          "color": "#46039f"
         },
         "name": "mobile",
         "offsetgroup": "mobile",
         "orientation": "v",
         "showlegend": true,
         "text": [
          "22.97%"
         ],
         "textposition": "auto",
         "type": "bar",
         "x": [
          "mobile"
         ],
         "xaxis": "x",
         "y": [
          13782
         ],
         "yaxis": "y"
        },
        {
         "alignmentgroup": "True",
         "hovertemplate": "device=%{x}<br>count=%{y}<br>text=%{text}<extra></extra>",
         "legendgroup": "tablet",
         "marker": {
          "color": "#7201a8"
         },
         "name": "tablet",
         "offsetgroup": "tablet",
         "orientation": "v",
         "showlegend": true,
         "text": [
          "3.36%"
         ],
         "textposition": "auto",
         "type": "bar",
         "x": [
          "tablet"
         ],
         "xaxis": "x",
         "y": [
          2018
         ],
         "yaxis": "y"
        }
       ],
       "layout": {
        "barmode": "relative",
        "legend": {
         "title": {
          "text": "device"
         },
         "tracegroupgap": 0
        },
        "template": {
         "data": {
          "bar": [
           {
            "error_x": {
             "color": "#2a3f5f"
            },
            "error_y": {
             "color": "#2a3f5f"
            },
            "marker": {
             "line": {
              "color": "#E5ECF6",
              "width": 0.5
             }
            },
            "type": "bar"
           }
          ],
          "barpolar": [
           {
            "marker": {
             "line": {
              "color": "#E5ECF6",
              "width": 0.5
             }
            },
            "type": "barpolar"
           }
          ],
          "carpet": [
           {
            "aaxis": {
             "endlinecolor": "#2a3f5f",
             "gridcolor": "white",
             "linecolor": "white",
             "minorgridcolor": "white",
             "startlinecolor": "#2a3f5f"
            },
            "baxis": {
             "endlinecolor": "#2a3f5f",
             "gridcolor": "white",
             "linecolor": "white",
             "minorgridcolor": "white",
             "startlinecolor": "#2a3f5f"
            },
            "type": "carpet"
           }
          ],
          "choropleth": [
           {
            "colorbar": {
             "outlinewidth": 0,
             "ticks": ""
            },
            "type": "choropleth"
           }
          ],
          "contour": [
           {
            "colorbar": {
             "outlinewidth": 0,
             "ticks": ""
            },
            "colorscale": [
             [
              0,
              "#0d0887"
             ],
             [
              0.1111111111111111,
              "#46039f"
             ],
             [
              0.2222222222222222,
              "#7201a8"
             ],
             [
              0.3333333333333333,
              "#9c179e"
             ],
             [
              0.4444444444444444,
              "#bd3786"
             ],
             [
              0.5555555555555556,
              "#d8576b"
             ],
             [
              0.6666666666666666,
              "#ed7953"
             ],
             [
              0.7777777777777778,
              "#fb9f3a"
             ],
             [
              0.8888888888888888,
              "#fdca26"
             ],
             [
              1,
              "#f0f921"
             ]
            ],
            "type": "contour"
           }
          ],
          "contourcarpet": [
           {
            "colorbar": {
             "outlinewidth": 0,
             "ticks": ""
            },
            "type": "contourcarpet"
           }
          ],
          "heatmap": [
           {
            "colorbar": {
             "outlinewidth": 0,
             "ticks": ""
            },
            "colorscale": [
             [
              0,
              "#0d0887"
             ],
             [
              0.1111111111111111,
              "#46039f"
             ],
             [
              0.2222222222222222,
              "#7201a8"
             ],
             [
              0.3333333333333333,
              "#9c179e"
             ],
             [
              0.4444444444444444,
              "#bd3786"
             ],
             [
              0.5555555555555556,
              "#d8576b"
             ],
             [
              0.6666666666666666,
              "#ed7953"
             ],
             [
              0.7777777777777778,
              "#fb9f3a"
             ],
             [
              0.8888888888888888,
              "#fdca26"
             ],
             [
              1,
              "#f0f921"
             ]
            ],
            "type": "heatmap"
           }
          ],
          "heatmapgl": [
           {
            "colorbar": {
             "outlinewidth": 0,
             "ticks": ""
            },
            "colorscale": [
             [
              0,
              "#0d0887"
             ],
             [
              0.1111111111111111,
              "#46039f"
             ],
             [
              0.2222222222222222,
              "#7201a8"
             ],
             [
              0.3333333333333333,
              "#9c179e"
             ],
             [
              0.4444444444444444,
              "#bd3786"
             ],
             [
              0.5555555555555556,
              "#d8576b"
             ],
             [
              0.6666666666666666,
              "#ed7953"
             ],
             [
              0.7777777777777778,
              "#fb9f3a"
             ],
             [
              0.8888888888888888,
              "#fdca26"
             ],
             [
              1,
              "#f0f921"
             ]
            ],
            "type": "heatmapgl"
           }
          ],
          "histogram": [
           {
            "marker": {
             "colorbar": {
              "outlinewidth": 0,
              "ticks": ""
             }
            },
            "type": "histogram"
           }
          ],
          "histogram2d": [
           {
            "colorbar": {
             "outlinewidth": 0,
             "ticks": ""
            },
            "colorscale": [
             [
              0,
              "#0d0887"
             ],
             [
              0.1111111111111111,
              "#46039f"
             ],
             [
              0.2222222222222222,
              "#7201a8"
             ],
             [
              0.3333333333333333,
              "#9c179e"
             ],
             [
              0.4444444444444444,
              "#bd3786"
             ],
             [
              0.5555555555555556,
              "#d8576b"
             ],
             [
              0.6666666666666666,
              "#ed7953"
             ],
             [
              0.7777777777777778,
              "#fb9f3a"
             ],
             [
              0.8888888888888888,
              "#fdca26"
             ],
             [
              1,
              "#f0f921"
             ]
            ],
            "type": "histogram2d"
           }
          ],
          "histogram2dcontour": [
           {
            "colorbar": {
             "outlinewidth": 0,
             "ticks": ""
            },
            "colorscale": [
             [
              0,
              "#0d0887"
             ],
             [
              0.1111111111111111,
              "#46039f"
             ],
             [
              0.2222222222222222,
              "#7201a8"
             ],
             [
              0.3333333333333333,
              "#9c179e"
             ],
             [
              0.4444444444444444,
              "#bd3786"
             ],
             [
              0.5555555555555556,
              "#d8576b"
             ],
             [
              0.6666666666666666,
              "#ed7953"
             ],
             [
              0.7777777777777778,
              "#fb9f3a"
             ],
             [
              0.8888888888888888,
              "#fdca26"
             ],
             [
              1,
              "#f0f921"
             ]
            ],
            "type": "histogram2dcontour"
           }
          ],
          "mesh3d": [
           {
            "colorbar": {
             "outlinewidth": 0,
             "ticks": ""
            },
            "type": "mesh3d"
           }
          ],
          "parcoords": [
           {
            "line": {
             "colorbar": {
              "outlinewidth": 0,
              "ticks": ""
             }
            },
            "type": "parcoords"
           }
          ],
          "pie": [
           {
            "automargin": true,
            "type": "pie"
           }
          ],
          "scatter": [
           {
            "marker": {
             "colorbar": {
              "outlinewidth": 0,
              "ticks": ""
             }
            },
            "type": "scatter"
           }
          ],
          "scatter3d": [
           {
            "line": {
             "colorbar": {
              "outlinewidth": 0,
              "ticks": ""
             }
            },
            "marker": {
             "colorbar": {
              "outlinewidth": 0,
              "ticks": ""
             }
            },
            "type": "scatter3d"
           }
          ],
          "scattercarpet": [
           {
            "marker": {
             "colorbar": {
              "outlinewidth": 0,
              "ticks": ""
             }
            },
            "type": "scattercarpet"
           }
          ],
          "scattergeo": [
           {
            "marker": {
             "colorbar": {
              "outlinewidth": 0,
              "ticks": ""
             }
            },
            "type": "scattergeo"
           }
          ],
          "scattergl": [
           {
            "marker": {
             "colorbar": {
              "outlinewidth": 0,
              "ticks": ""
             }
            },
            "type": "scattergl"
           }
          ],
          "scattermapbox": [
           {
            "marker": {
             "colorbar": {
              "outlinewidth": 0,
              "ticks": ""
             }
            },
            "type": "scattermapbox"
           }
          ],
          "scatterpolar": [
           {
            "marker": {
             "colorbar": {
              "outlinewidth": 0,
              "ticks": ""
             }
            },
            "type": "scatterpolar"
           }
          ],
          "scatterpolargl": [
           {
            "marker": {
             "colorbar": {
              "outlinewidth": 0,
              "ticks": ""
             }
            },
            "type": "scatterpolargl"
           }
          ],
          "scatterternary": [
           {
            "marker": {
             "colorbar": {
              "outlinewidth": 0,
              "ticks": ""
             }
            },
            "type": "scatterternary"
           }
          ],
          "surface": [
           {
            "colorbar": {
             "outlinewidth": 0,
             "ticks": ""
            },
            "colorscale": [
             [
              0,
              "#0d0887"
             ],
             [
              0.1111111111111111,
              "#46039f"
             ],
             [
              0.2222222222222222,
              "#7201a8"
             ],
             [
              0.3333333333333333,
              "#9c179e"
             ],
             [
              0.4444444444444444,
              "#bd3786"
             ],
             [
              0.5555555555555556,
              "#d8576b"
             ],
             [
              0.6666666666666666,
              "#ed7953"
             ],
             [
              0.7777777777777778,
              "#fb9f3a"
             ],
             [
              0.8888888888888888,
              "#fdca26"
             ],
             [
              1,
              "#f0f921"
             ]
            ],
            "type": "surface"
           }
          ],
          "table": [
           {
            "cells": {
             "fill": {
              "color": "#EBF0F8"
             },
             "line": {
              "color": "white"
             }
            },
            "header": {
             "fill": {
              "color": "#C8D4E3"
             },
             "line": {
              "color": "white"
             }
            },
            "type": "table"
           }
          ]
         },
         "layout": {
          "annotationdefaults": {
           "arrowcolor": "#2a3f5f",
           "arrowhead": 0,
           "arrowwidth": 1
          },
          "autotypenumbers": "strict",
          "coloraxis": {
           "colorbar": {
            "outlinewidth": 0,
            "ticks": ""
           }
          },
          "colorscale": {
           "diverging": [
            [
             0,
             "#8e0152"
            ],
            [
             0.1,
             "#c51b7d"
            ],
            [
             0.2,
             "#de77ae"
            ],
            [
             0.3,
             "#f1b6da"
            ],
            [
             0.4,
             "#fde0ef"
            ],
            [
             0.5,
             "#f7f7f7"
            ],
            [
             0.6,
             "#e6f5d0"
            ],
            [
             0.7,
             "#b8e186"
            ],
            [
             0.8,
             "#7fbc41"
            ],
            [
             0.9,
             "#4d9221"
            ],
            [
             1,
             "#276419"
            ]
           ],
           "sequential": [
            [
             0,
             "#0d0887"
            ],
            [
             0.1111111111111111,
             "#46039f"
            ],
            [
             0.2222222222222222,
             "#7201a8"
            ],
            [
             0.3333333333333333,
             "#9c179e"
            ],
            [
             0.4444444444444444,
             "#bd3786"
            ],
            [
             0.5555555555555556,
             "#d8576b"
            ],
            [
             0.6666666666666666,
             "#ed7953"
            ],
            [
             0.7777777777777778,
             "#fb9f3a"
            ],
            [
             0.8888888888888888,
             "#fdca26"
            ],
            [
             1,
             "#f0f921"
            ]
           ],
           "sequentialminus": [
            [
             0,
             "#0d0887"
            ],
            [
             0.1111111111111111,
             "#46039f"
            ],
            [
             0.2222222222222222,
             "#7201a8"
            ],
            [
             0.3333333333333333,
             "#9c179e"
            ],
            [
             0.4444444444444444,
             "#bd3786"
            ],
            [
             0.5555555555555556,
             "#d8576b"
            ],
            [
             0.6666666666666666,
             "#ed7953"
            ],
            [
             0.7777777777777778,
             "#fb9f3a"
            ],
            [
             0.8888888888888888,
             "#fdca26"
            ],
            [
             1,
             "#f0f921"
            ]
           ]
          },
          "colorway": [
           "#636efa",
           "#EF553B",
           "#00cc96",
           "#ab63fa",
           "#FFA15A",
           "#19d3f3",
           "#FF6692",
           "#B6E880",
           "#FF97FF",
           "#FECB52"
          ],
          "font": {
           "color": "#2a3f5f"
          },
          "geo": {
           "bgcolor": "white",
           "lakecolor": "white",
           "landcolor": "#E5ECF6",
           "showlakes": true,
           "showland": true,
           "subunitcolor": "white"
          },
          "hoverlabel": {
           "align": "left"
          },
          "hovermode": "closest",
          "mapbox": {
           "style": "light"
          },
          "paper_bgcolor": "white",
          "plot_bgcolor": "#E5ECF6",
          "polar": {
           "angularaxis": {
            "gridcolor": "white",
            "linecolor": "white",
            "ticks": ""
           },
           "bgcolor": "#E5ECF6",
           "radialaxis": {
            "gridcolor": "white",
            "linecolor": "white",
            "ticks": ""
           }
          },
          "scene": {
           "xaxis": {
            "backgroundcolor": "#E5ECF6",
            "gridcolor": "white",
            "gridwidth": 2,
            "linecolor": "white",
            "showbackground": true,
            "ticks": "",
            "zerolinecolor": "white"
           },
           "yaxis": {
            "backgroundcolor": "#E5ECF6",
            "gridcolor": "white",
            "gridwidth": 2,
            "linecolor": "white",
            "showbackground": true,
            "ticks": "",
            "zerolinecolor": "white"
           },
           "zaxis": {
            "backgroundcolor": "#E5ECF6",
            "gridcolor": "white",
            "gridwidth": 2,
            "linecolor": "white",
            "showbackground": true,
            "ticks": "",
            "zerolinecolor": "white"
           }
          },
          "shapedefaults": {
           "line": {
            "color": "#2a3f5f"
           }
          },
          "ternary": {
           "aaxis": {
            "gridcolor": "white",
            "linecolor": "white",
            "ticks": ""
           },
           "baxis": {
            "gridcolor": "white",
            "linecolor": "white",
            "ticks": ""
           },
           "bgcolor": "#E5ECF6",
           "caxis": {
            "gridcolor": "white",
            "linecolor": "white",
            "ticks": ""
           }
          },
          "title": {
           "x": 0.05
          },
          "xaxis": {
           "automargin": true,
           "gridcolor": "white",
           "linecolor": "white",
           "ticks": "",
           "title": {
            "standoff": 15
           },
           "zerolinecolor": "white",
           "zerolinewidth": 2
          },
          "yaxis": {
           "automargin": true,
           "gridcolor": "white",
           "linecolor": "white",
           "ticks": "",
           "title": {
            "standoff": 15
           },
           "zerolinecolor": "white",
           "zerolinewidth": 2
          }
         }
        },
        "title": {
         "text": "Device used by GStore visitors"
        },
        "xaxis": {
         "anchor": "y",
         "categoryarray": [
          "desktop",
          "mobile",
          "tablet"
         ],
         "categoryorder": "array",
         "domain": [
          0,
          1
         ],
         "title": {
          "text": "device"
         }
        },
        "yaxis": {
         "anchor": "x",
         "domain": [
          0,
          1
         ],
         "title": {
          "text": "count"
         }
        }
       }
      },
      "text/html": "<div>                            <div id=\"0cf1be81-31f1-4411-83e7-15d08d69e99f\" class=\"plotly-graph-div\" style=\"height:525px; width:100%;\"></div>            <script type=\"text/javascript\">                require([\"plotly\"], function(Plotly) {                    window.PLOTLYENV=window.PLOTLYENV || {};                                    if (document.getElementById(\"0cf1be81-31f1-4411-83e7-15d08d69e99f\")) {                    Plotly.newPlot(                        \"0cf1be81-31f1-4411-83e7-15d08d69e99f\",                        [{\"alignmentgroup\": \"True\", \"hovertemplate\": \"device=%{x}<br>count=%{y}<br>text=%{text}<extra></extra>\", \"legendgroup\": \"desktop\", \"marker\": {\"color\": \"#0d0887\"}, \"name\": \"desktop\", \"offsetgroup\": \"desktop\", \"orientation\": \"v\", \"showlegend\": true, \"text\": [\"73.67%\"], \"textposition\": \"auto\", \"type\": \"bar\", \"x\": [\"desktop\"], \"xaxis\": \"x\", \"y\": [44200], \"yaxis\": \"y\"}, {\"alignmentgroup\": \"True\", \"hovertemplate\": \"device=%{x}<br>count=%{y}<br>text=%{text}<extra></extra>\", \"legendgroup\": \"mobile\", \"marker\": {\"color\": \"#46039f\"}, \"name\": \"mobile\", \"offsetgroup\": \"mobile\", \"orientation\": \"v\", \"showlegend\": true, \"text\": [\"22.97%\"], \"textposition\": \"auto\", \"type\": \"bar\", \"x\": [\"mobile\"], \"xaxis\": \"x\", \"y\": [13782], \"yaxis\": \"y\"}, {\"alignmentgroup\": \"True\", \"hovertemplate\": \"device=%{x}<br>count=%{y}<br>text=%{text}<extra></extra>\", \"legendgroup\": \"tablet\", \"marker\": {\"color\": \"#7201a8\"}, \"name\": \"tablet\", \"offsetgroup\": \"tablet\", \"orientation\": \"v\", \"showlegend\": true, \"text\": [\"3.36%\"], \"textposition\": \"auto\", \"type\": \"bar\", \"x\": [\"tablet\"], \"xaxis\": \"x\", \"y\": [2018], \"yaxis\": \"y\"}],                        {\"barmode\": \"relative\", \"legend\": {\"title\": {\"text\": \"device\"}, \"tracegroupgap\": 0}, \"template\": {\"data\": {\"bar\": [{\"error_x\": {\"color\": \"#2a3f5f\"}, \"error_y\": {\"color\": \"#2a3f5f\"}, \"marker\": {\"line\": {\"color\": \"#E5ECF6\", \"width\": 0.5}}, \"type\": \"bar\"}], \"barpolar\": [{\"marker\": {\"line\": {\"color\": \"#E5ECF6\", \"width\": 0.5}}, \"type\": \"barpolar\"}], \"carpet\": [{\"aaxis\": {\"endlinecolor\": \"#2a3f5f\", \"gridcolor\": \"white\", \"linecolor\": \"white\", \"minorgridcolor\": \"white\", \"startlinecolor\": \"#2a3f5f\"}, \"baxis\": {\"endlinecolor\": \"#2a3f5f\", \"gridcolor\": \"white\", \"linecolor\": \"white\", \"minorgridcolor\": \"white\", \"startlinecolor\": \"#2a3f5f\"}, \"type\": \"carpet\"}], \"choropleth\": [{\"colorbar\": {\"outlinewidth\": 0, \"ticks\": \"\"}, \"type\": \"choropleth\"}], \"contour\": [{\"colorbar\": {\"outlinewidth\": 0, \"ticks\": \"\"}, \"colorscale\": [[0.0, \"#0d0887\"], [0.1111111111111111, \"#46039f\"], [0.2222222222222222, \"#7201a8\"], [0.3333333333333333, \"#9c179e\"], [0.4444444444444444, \"#bd3786\"], [0.5555555555555556, \"#d8576b\"], [0.6666666666666666, \"#ed7953\"], [0.7777777777777778, \"#fb9f3a\"], [0.8888888888888888, \"#fdca26\"], [1.0, \"#f0f921\"]], \"type\": \"contour\"}], \"contourcarpet\": [{\"colorbar\": {\"outlinewidth\": 0, \"ticks\": \"\"}, \"type\": \"contourcarpet\"}], \"heatmap\": [{\"colorbar\": {\"outlinewidth\": 0, \"ticks\": \"\"}, \"colorscale\": [[0.0, \"#0d0887\"], [0.1111111111111111, \"#46039f\"], [0.2222222222222222, \"#7201a8\"], [0.3333333333333333, \"#9c179e\"], [0.4444444444444444, \"#bd3786\"], [0.5555555555555556, \"#d8576b\"], [0.6666666666666666, \"#ed7953\"], [0.7777777777777778, \"#fb9f3a\"], [0.8888888888888888, \"#fdca26\"], [1.0, \"#f0f921\"]], \"type\": \"heatmap\"}], \"heatmapgl\": [{\"colorbar\": {\"outlinewidth\": 0, \"ticks\": \"\"}, \"colorscale\": [[0.0, \"#0d0887\"], [0.1111111111111111, \"#46039f\"], [0.2222222222222222, \"#7201a8\"], [0.3333333333333333, \"#9c179e\"], [0.4444444444444444, \"#bd3786\"], [0.5555555555555556, \"#d8576b\"], [0.6666666666666666, \"#ed7953\"], [0.7777777777777778, \"#fb9f3a\"], [0.8888888888888888, \"#fdca26\"], [1.0, \"#f0f921\"]], \"type\": \"heatmapgl\"}], \"histogram\": [{\"marker\": {\"colorbar\": {\"outlinewidth\": 0, \"ticks\": \"\"}}, \"type\": \"histogram\"}], \"histogram2d\": [{\"colorbar\": {\"outlinewidth\": 0, \"ticks\": \"\"}, \"colorscale\": [[0.0, \"#0d0887\"], [0.1111111111111111, \"#46039f\"], [0.2222222222222222, \"#7201a8\"], [0.3333333333333333, \"#9c179e\"], [0.4444444444444444, \"#bd3786\"], [0.5555555555555556, \"#d8576b\"], [0.6666666666666666, \"#ed7953\"], [0.7777777777777778, \"#fb9f3a\"], [0.8888888888888888, \"#fdca26\"], [1.0, \"#f0f921\"]], \"type\": \"histogram2d\"}], \"histogram2dcontour\": [{\"colorbar\": {\"outlinewidth\": 0, \"ticks\": \"\"}, \"colorscale\": [[0.0, \"#0d0887\"], [0.1111111111111111, \"#46039f\"], [0.2222222222222222, \"#7201a8\"], [0.3333333333333333, \"#9c179e\"], [0.4444444444444444, \"#bd3786\"], [0.5555555555555556, \"#d8576b\"], [0.6666666666666666, \"#ed7953\"], [0.7777777777777778, \"#fb9f3a\"], [0.8888888888888888, \"#fdca26\"], [1.0, \"#f0f921\"]], \"type\": \"histogram2dcontour\"}], \"mesh3d\": [{\"colorbar\": {\"outlinewidth\": 0, \"ticks\": \"\"}, \"type\": \"mesh3d\"}], \"parcoords\": [{\"line\": {\"colorbar\": {\"outlinewidth\": 0, \"ticks\": \"\"}}, \"type\": \"parcoords\"}], \"pie\": [{\"automargin\": true, \"type\": \"pie\"}], \"scatter\": [{\"marker\": {\"colorbar\": {\"outlinewidth\": 0, \"ticks\": \"\"}}, \"type\": \"scatter\"}], \"scatter3d\": [{\"line\": {\"colorbar\": {\"outlinewidth\": 0, \"ticks\": \"\"}}, \"marker\": {\"colorbar\": {\"outlinewidth\": 0, \"ticks\": \"\"}}, \"type\": \"scatter3d\"}], \"scattercarpet\": [{\"marker\": {\"colorbar\": {\"outlinewidth\": 0, \"ticks\": \"\"}}, \"type\": \"scattercarpet\"}], \"scattergeo\": [{\"marker\": {\"colorbar\": {\"outlinewidth\": 0, \"ticks\": \"\"}}, \"type\": \"scattergeo\"}], \"scattergl\": [{\"marker\": {\"colorbar\": {\"outlinewidth\": 0, \"ticks\": \"\"}}, \"type\": \"scattergl\"}], \"scattermapbox\": [{\"marker\": {\"colorbar\": {\"outlinewidth\": 0, \"ticks\": \"\"}}, \"type\": \"scattermapbox\"}], \"scatterpolar\": [{\"marker\": {\"colorbar\": {\"outlinewidth\": 0, \"ticks\": \"\"}}, \"type\": \"scatterpolar\"}], \"scatterpolargl\": [{\"marker\": {\"colorbar\": {\"outlinewidth\": 0, \"ticks\": \"\"}}, \"type\": \"scatterpolargl\"}], \"scatterternary\": [{\"marker\": {\"colorbar\": {\"outlinewidth\": 0, \"ticks\": \"\"}}, \"type\": \"scatterternary\"}], \"surface\": [{\"colorbar\": {\"outlinewidth\": 0, \"ticks\": \"\"}, \"colorscale\": [[0.0, \"#0d0887\"], [0.1111111111111111, \"#46039f\"], [0.2222222222222222, \"#7201a8\"], [0.3333333333333333, \"#9c179e\"], [0.4444444444444444, \"#bd3786\"], [0.5555555555555556, \"#d8576b\"], [0.6666666666666666, \"#ed7953\"], [0.7777777777777778, \"#fb9f3a\"], [0.8888888888888888, \"#fdca26\"], [1.0, \"#f0f921\"]], \"type\": \"surface\"}], \"table\": [{\"cells\": {\"fill\": {\"color\": \"#EBF0F8\"}, \"line\": {\"color\": \"white\"}}, \"header\": {\"fill\": {\"color\": \"#C8D4E3\"}, \"line\": {\"color\": \"white\"}}, \"type\": \"table\"}]}, \"layout\": {\"annotationdefaults\": {\"arrowcolor\": \"#2a3f5f\", \"arrowhead\": 0, \"arrowwidth\": 1}, \"autotypenumbers\": \"strict\", \"coloraxis\": {\"colorbar\": {\"outlinewidth\": 0, \"ticks\": \"\"}}, \"colorscale\": {\"diverging\": [[0, \"#8e0152\"], [0.1, \"#c51b7d\"], [0.2, \"#de77ae\"], [0.3, \"#f1b6da\"], [0.4, \"#fde0ef\"], [0.5, \"#f7f7f7\"], [0.6, \"#e6f5d0\"], [0.7, \"#b8e186\"], [0.8, \"#7fbc41\"], [0.9, \"#4d9221\"], [1, \"#276419\"]], \"sequential\": [[0.0, \"#0d0887\"], [0.1111111111111111, \"#46039f\"], [0.2222222222222222, \"#7201a8\"], [0.3333333333333333, \"#9c179e\"], [0.4444444444444444, \"#bd3786\"], [0.5555555555555556, \"#d8576b\"], [0.6666666666666666, \"#ed7953\"], [0.7777777777777778, \"#fb9f3a\"], [0.8888888888888888, \"#fdca26\"], [1.0, \"#f0f921\"]], \"sequentialminus\": [[0.0, \"#0d0887\"], [0.1111111111111111, \"#46039f\"], [0.2222222222222222, \"#7201a8\"], [0.3333333333333333, \"#9c179e\"], [0.4444444444444444, \"#bd3786\"], [0.5555555555555556, \"#d8576b\"], [0.6666666666666666, \"#ed7953\"], [0.7777777777777778, \"#fb9f3a\"], [0.8888888888888888, \"#fdca26\"], [1.0, \"#f0f921\"]]}, \"colorway\": [\"#636efa\", \"#EF553B\", \"#00cc96\", \"#ab63fa\", \"#FFA15A\", \"#19d3f3\", \"#FF6692\", \"#B6E880\", \"#FF97FF\", \"#FECB52\"], \"font\": {\"color\": \"#2a3f5f\"}, \"geo\": {\"bgcolor\": \"white\", \"lakecolor\": \"white\", \"landcolor\": \"#E5ECF6\", \"showlakes\": true, \"showland\": true, \"subunitcolor\": \"white\"}, \"hoverlabel\": {\"align\": \"left\"}, \"hovermode\": \"closest\", \"mapbox\": {\"style\": \"light\"}, \"paper_bgcolor\": \"white\", \"plot_bgcolor\": \"#E5ECF6\", \"polar\": {\"angularaxis\": {\"gridcolor\": \"white\", \"linecolor\": \"white\", \"ticks\": \"\"}, \"bgcolor\": \"#E5ECF6\", \"radialaxis\": {\"gridcolor\": \"white\", \"linecolor\": \"white\", \"ticks\": \"\"}}, \"scene\": {\"xaxis\": {\"backgroundcolor\": \"#E5ECF6\", \"gridcolor\": \"white\", \"gridwidth\": 2, \"linecolor\": \"white\", \"showbackground\": true, \"ticks\": \"\", \"zerolinecolor\": \"white\"}, \"yaxis\": {\"backgroundcolor\": \"#E5ECF6\", \"gridcolor\": \"white\", \"gridwidth\": 2, \"linecolor\": \"white\", \"showbackground\": true, \"ticks\": \"\", \"zerolinecolor\": \"white\"}, \"zaxis\": {\"backgroundcolor\": \"#E5ECF6\", \"gridcolor\": \"white\", \"gridwidth\": 2, \"linecolor\": \"white\", \"showbackground\": true, \"ticks\": \"\", \"zerolinecolor\": \"white\"}}, \"shapedefaults\": {\"line\": {\"color\": \"#2a3f5f\"}}, \"ternary\": {\"aaxis\": {\"gridcolor\": \"white\", \"linecolor\": \"white\", \"ticks\": \"\"}, \"baxis\": {\"gridcolor\": \"white\", \"linecolor\": \"white\", \"ticks\": \"\"}, \"bgcolor\": \"#E5ECF6\", \"caxis\": {\"gridcolor\": \"white\", \"linecolor\": \"white\", \"ticks\": \"\"}}, \"title\": {\"x\": 0.05}, \"xaxis\": {\"automargin\": true, \"gridcolor\": \"white\", \"linecolor\": \"white\", \"ticks\": \"\", \"title\": {\"standoff\": 15}, \"zerolinecolor\": \"white\", \"zerolinewidth\": 2}, \"yaxis\": {\"automargin\": true, \"gridcolor\": \"white\", \"linecolor\": \"white\", \"ticks\": \"\", \"title\": {\"standoff\": 15}, \"zerolinecolor\": \"white\", \"zerolinewidth\": 2}}}, \"title\": {\"text\": \"Device used by GStore visitors\"}, \"xaxis\": {\"anchor\": \"y\", \"categoryarray\": [\"desktop\", \"mobile\", \"tablet\"], \"categoryorder\": \"array\", \"domain\": [0.0, 1.0], \"title\": {\"text\": \"device\"}}, \"yaxis\": {\"anchor\": \"x\", \"domain\": [0.0, 1.0], \"title\": {\"text\": \"count\"}}},                        {\"responsive\": true}                    ).then(function(){\n                            \nvar gd = document.getElementById('0cf1be81-31f1-4411-83e7-15d08d69e99f');\nvar x = new MutationObserver(function (mutations, observer) {{\n        var display = window.getComputedStyle(gd).display;\n        if (!display || display === 'none') {{\n            console.log([gd, 'removed!']);\n            Plotly.purge(gd);\n            observer.disconnect();\n        }}\n}});\n\n// Listen for the removal of the full notebook cells\nvar notebookContainer = gd.closest('#notebook-container');\nif (notebookContainer) {{\n    x.observe(notebookContainer, {childList: true});\n}}\n\n// Listen for the clearing of the current output cell\nvar outputEl = gd.closest('.output');\nif (outputEl) {{\n    x.observe(outputEl, {childList: true});\n}}\n\n                        })                };                });            </script>        </div>"
     },
     "metadata": {}
    }
   ],
   "source": [
    "px.bar(device_count, x=\"device\", y=\"count\", title=\"Device used by GStore visitors\",\n",
    "color=\"device\",color_discrete_sequence=px.colors.sequential.Plasma,\n",
    "text=device_count['percent'].apply(lambda x: '{0:1.2f}%'.format(x)))"
   ]
  },
  {
   "cell_type": "code",
   "execution_count": null,
   "metadata": {},
   "outputs": [],
   "source": [
    "# pie chart desktop and mobile "
   ]
  },
  {
   "cell_type": "code",
   "execution_count": 289,
   "metadata": {},
   "outputs": [
    {
     "output_type": "display_data",
     "data": {
      "text/plain": "<Figure size 1440x720 with 1 Axes>",
      "image/svg+xml": "<?xml version=\"1.0\" encoding=\"utf-8\" standalone=\"no\"?>\r\n<!DOCTYPE svg PUBLIC \"-//W3C//DTD SVG 1.1//EN\"\r\n  \"http://www.w3.org/Graphics/SVG/1.1/DTD/svg11.dtd\">\r\n<!-- Created with matplotlib (https://matplotlib.org/) -->\r\n<svg height=\"592.534219pt\" version=\"1.1\" viewBox=\"0 0 1181.771094 592.534219\" width=\"1181.771094pt\" xmlns=\"http://www.w3.org/2000/svg\" xmlns:xlink=\"http://www.w3.org/1999/xlink\">\r\n <metadata>\r\n  <rdf:RDF xmlns:cc=\"http://creativecommons.org/ns#\" xmlns:dc=\"http://purl.org/dc/elements/1.1/\" xmlns:rdf=\"http://www.w3.org/1999/02/22-rdf-syntax-ns#\">\r\n   <cc:Work>\r\n    <dc:type rdf:resource=\"http://purl.org/dc/dcmitype/StillImage\"/>\r\n    <dc:date>2021-04-12T15:57:02.178340</dc:date>\r\n    <dc:format>image/svg+xml</dc:format>\r\n    <dc:creator>\r\n     <cc:Agent>\r\n      <dc:title>Matplotlib v3.3.2, https://matplotlib.org/</dc:title>\r\n     </cc:Agent>\r\n    </dc:creator>\r\n   </cc:Work>\r\n  </rdf:RDF>\r\n </metadata>\r\n <defs>\r\n  <style type=\"text/css\">*{stroke-linecap:butt;stroke-linejoin:round;}</style>\r\n </defs>\r\n <g id=\"figure_1\">\r\n  <g id=\"patch_1\">\r\n   <path d=\"M 0 592.534219 \r\nL 1181.771094 592.534219 \r\nL 1181.771094 0 \r\nL 0 0 \r\nz\r\n\" style=\"fill:#ffffff;\"/>\r\n  </g>\r\n  <g id=\"axes_1\">\r\n   <g id=\"patch_2\">\r\n    <path d=\"M 58.571094 550.8 \r\nL 1174.571094 550.8 \r\nL 1174.571094 7.2 \r\nL 58.571094 7.2 \r\nz\r\n\" style=\"fill:#eaeaf2;\"/>\r\n   </g>\r\n   <g id=\"matplotlib.axis_1\">\r\n    <g id=\"xtick_1\">\r\n     <g id=\"line2d_1\">\r\n      <path clip-path=\"url(#p1256f8a1a0)\" d=\"M 58.571094 550.8 \r\nL 58.571094 7.2 \r\n\" style=\"fill:none;stroke:#ffffff;stroke-linecap:round;\"/>\r\n     </g>\r\n     <g id=\"text_1\">\r\n      <!-- 0 -->\r\n      <g style=\"fill:#262626;\" transform=\"translate(55.512578 568.173594)scale(0.11 -0.11)\">\r\n       <defs>\r\n        <path d=\"M 4.15625 35.296875 \r\nQ 4.15625 48 6.765625 55.734375 \r\nQ 9.375 63.484375 14.515625 67.671875 \r\nQ 19.671875 71.875 27.484375 71.875 \r\nQ 33.25 71.875 37.59375 69.546875 \r\nQ 41.9375 67.234375 44.765625 62.859375 \r\nQ 47.609375 58.5 49.21875 52.21875 \r\nQ 50.828125 45.953125 50.828125 35.296875 \r\nQ 50.828125 22.703125 48.234375 14.96875 \r\nQ 45.65625 7.234375 40.5 3 \r\nQ 35.359375 -1.21875 27.484375 -1.21875 \r\nQ 17.140625 -1.21875 11.234375 6.203125 \r\nQ 4.15625 15.140625 4.15625 35.296875 \r\nz\r\nM 13.1875 35.296875 \r\nQ 13.1875 17.671875 17.3125 11.828125 \r\nQ 21.4375 6 27.484375 6 \r\nQ 33.546875 6 37.671875 11.859375 \r\nQ 41.796875 17.71875 41.796875 35.296875 \r\nQ 41.796875 52.984375 37.671875 58.78125 \r\nQ 33.546875 64.59375 27.390625 64.59375 \r\nQ 21.34375 64.59375 17.71875 59.46875 \r\nQ 13.1875 52.9375 13.1875 35.296875 \r\nz\r\n\" id=\"ArialMT-48\"/>\r\n       </defs>\r\n       <use xlink:href=\"#ArialMT-48\"/>\r\n      </g>\r\n     </g>\r\n    </g>\r\n    <g id=\"xtick_2\">\r\n     <g id=\"line2d_2\">\r\n      <path clip-path=\"url(#p1256f8a1a0)\" d=\"M 299.505297 550.8 \r\nL 299.505297 7.2 \r\n\" style=\"fill:none;stroke:#ffffff;stroke-linecap:round;\"/>\r\n     </g>\r\n     <g id=\"text_2\">\r\n      <!-- 10000 -->\r\n      <g style=\"fill:#262626;\" transform=\"translate(284.212719 568.173594)scale(0.11 -0.11)\">\r\n       <defs>\r\n        <path d=\"M 37.25 0 \r\nL 28.46875 0 \r\nL 28.46875 56 \r\nQ 25.296875 52.984375 20.140625 49.953125 \r\nQ 14.984375 46.921875 10.890625 45.40625 \r\nL 10.890625 53.90625 \r\nQ 18.265625 57.375 23.78125 62.296875 \r\nQ 29.296875 67.234375 31.59375 71.875 \r\nL 37.25 71.875 \r\nz\r\n\" id=\"ArialMT-49\"/>\r\n       </defs>\r\n       <use xlink:href=\"#ArialMT-49\"/>\r\n       <use x=\"55.615234\" xlink:href=\"#ArialMT-48\"/>\r\n       <use x=\"111.230469\" xlink:href=\"#ArialMT-48\"/>\r\n       <use x=\"166.845703\" xlink:href=\"#ArialMT-48\"/>\r\n       <use x=\"222.460938\" xlink:href=\"#ArialMT-48\"/>\r\n      </g>\r\n     </g>\r\n    </g>\r\n    <g id=\"xtick_3\">\r\n     <g id=\"line2d_3\">\r\n      <path clip-path=\"url(#p1256f8a1a0)\" d=\"M 540.4395 550.8 \r\nL 540.4395 7.2 \r\n\" style=\"fill:none;stroke:#ffffff;stroke-linecap:round;\"/>\r\n     </g>\r\n     <g id=\"text_3\">\r\n      <!-- 20000 -->\r\n      <g style=\"fill:#262626;\" transform=\"translate(525.146922 568.173594)scale(0.11 -0.11)\">\r\n       <defs>\r\n        <path d=\"M 50.34375 8.453125 \r\nL 50.34375 0 \r\nL 3.03125 0 \r\nQ 2.9375 3.171875 4.046875 6.109375 \r\nQ 5.859375 10.9375 9.828125 15.625 \r\nQ 13.8125 20.3125 21.34375 26.46875 \r\nQ 33.015625 36.03125 37.109375 41.625 \r\nQ 41.21875 47.21875 41.21875 52.203125 \r\nQ 41.21875 57.421875 37.46875 61 \r\nQ 33.734375 64.59375 27.734375 64.59375 \r\nQ 21.390625 64.59375 17.578125 60.78125 \r\nQ 13.765625 56.984375 13.71875 50.25 \r\nL 4.6875 51.171875 \r\nQ 5.609375 61.28125 11.65625 66.578125 \r\nQ 17.71875 71.875 27.9375 71.875 \r\nQ 38.234375 71.875 44.234375 66.15625 \r\nQ 50.25 60.453125 50.25 52 \r\nQ 50.25 47.703125 48.484375 43.546875 \r\nQ 46.734375 39.40625 42.65625 34.8125 \r\nQ 38.578125 30.21875 29.109375 22.21875 \r\nQ 21.1875 15.578125 18.9375 13.203125 \r\nQ 16.703125 10.84375 15.234375 8.453125 \r\nz\r\n\" id=\"ArialMT-50\"/>\r\n       </defs>\r\n       <use xlink:href=\"#ArialMT-50\"/>\r\n       <use x=\"55.615234\" xlink:href=\"#ArialMT-48\"/>\r\n       <use x=\"111.230469\" xlink:href=\"#ArialMT-48\"/>\r\n       <use x=\"166.845703\" xlink:href=\"#ArialMT-48\"/>\r\n       <use x=\"222.460938\" xlink:href=\"#ArialMT-48\"/>\r\n      </g>\r\n     </g>\r\n    </g>\r\n    <g id=\"xtick_4\">\r\n     <g id=\"line2d_4\">\r\n      <path clip-path=\"url(#p1256f8a1a0)\" d=\"M 781.373703 550.8 \r\nL 781.373703 7.2 \r\n\" style=\"fill:none;stroke:#ffffff;stroke-linecap:round;\"/>\r\n     </g>\r\n     <g id=\"text_4\">\r\n      <!-- 30000 -->\r\n      <g style=\"fill:#262626;\" transform=\"translate(766.081124 568.173594)scale(0.11 -0.11)\">\r\n       <defs>\r\n        <path d=\"M 4.203125 18.890625 \r\nL 12.984375 20.0625 \r\nQ 14.5 12.59375 18.140625 9.296875 \r\nQ 21.78125 6 27 6 \r\nQ 33.203125 6 37.46875 10.296875 \r\nQ 41.75 14.59375 41.75 20.953125 \r\nQ 41.75 27 37.796875 30.921875 \r\nQ 33.84375 34.859375 27.734375 34.859375 \r\nQ 25.25 34.859375 21.53125 33.890625 \r\nL 22.515625 41.609375 \r\nQ 23.390625 41.5 23.921875 41.5 \r\nQ 29.546875 41.5 34.03125 44.421875 \r\nQ 38.53125 47.359375 38.53125 53.46875 \r\nQ 38.53125 58.296875 35.25 61.46875 \r\nQ 31.984375 64.65625 26.8125 64.65625 \r\nQ 21.6875 64.65625 18.265625 61.421875 \r\nQ 14.84375 58.203125 13.875 51.765625 \r\nL 5.078125 53.328125 \r\nQ 6.6875 62.15625 12.390625 67.015625 \r\nQ 18.109375 71.875 26.609375 71.875 \r\nQ 32.46875 71.875 37.390625 69.359375 \r\nQ 42.328125 66.84375 44.9375 62.5 \r\nQ 47.5625 58.15625 47.5625 53.265625 \r\nQ 47.5625 48.640625 45.0625 44.828125 \r\nQ 42.578125 41.015625 37.703125 38.765625 \r\nQ 44.046875 37.3125 47.5625 32.6875 \r\nQ 51.078125 28.078125 51.078125 21.140625 \r\nQ 51.078125 11.765625 44.234375 5.25 \r\nQ 37.40625 -1.265625 26.953125 -1.265625 \r\nQ 17.53125 -1.265625 11.296875 4.34375 \r\nQ 5.078125 9.96875 4.203125 18.890625 \r\nz\r\n\" id=\"ArialMT-51\"/>\r\n       </defs>\r\n       <use xlink:href=\"#ArialMT-51\"/>\r\n       <use x=\"55.615234\" xlink:href=\"#ArialMT-48\"/>\r\n       <use x=\"111.230469\" xlink:href=\"#ArialMT-48\"/>\r\n       <use x=\"166.845703\" xlink:href=\"#ArialMT-48\"/>\r\n       <use x=\"222.460938\" xlink:href=\"#ArialMT-48\"/>\r\n      </g>\r\n     </g>\r\n    </g>\r\n    <g id=\"xtick_5\">\r\n     <g id=\"line2d_5\">\r\n      <path clip-path=\"url(#p1256f8a1a0)\" d=\"M 1022.307906 550.8 \r\nL 1022.307906 7.2 \r\n\" style=\"fill:none;stroke:#ffffff;stroke-linecap:round;\"/>\r\n     </g>\r\n     <g id=\"text_5\">\r\n      <!-- 40000 -->\r\n      <g style=\"fill:#262626;\" transform=\"translate(1007.015327 568.173594)scale(0.11 -0.11)\">\r\n       <defs>\r\n        <path d=\"M 32.328125 0 \r\nL 32.328125 17.140625 \r\nL 1.265625 17.140625 \r\nL 1.265625 25.203125 \r\nL 33.9375 71.578125 \r\nL 41.109375 71.578125 \r\nL 41.109375 25.203125 \r\nL 50.78125 25.203125 \r\nL 50.78125 17.140625 \r\nL 41.109375 17.140625 \r\nL 41.109375 0 \r\nz\r\nM 32.328125 25.203125 \r\nL 32.328125 57.46875 \r\nL 9.90625 25.203125 \r\nz\r\n\" id=\"ArialMT-52\"/>\r\n       </defs>\r\n       <use xlink:href=\"#ArialMT-52\"/>\r\n       <use x=\"55.615234\" xlink:href=\"#ArialMT-48\"/>\r\n       <use x=\"111.230469\" xlink:href=\"#ArialMT-48\"/>\r\n       <use x=\"166.845703\" xlink:href=\"#ArialMT-48\"/>\r\n       <use x=\"222.460938\" xlink:href=\"#ArialMT-48\"/>\r\n      </g>\r\n     </g>\r\n    </g>\r\n    <g id=\"text_6\">\r\n     <!-- count -->\r\n     <g style=\"fill:#262626;\" transform=\"translate(601.894531 582.949219)scale(0.12 -0.12)\">\r\n      <defs>\r\n       <path d=\"M 40.4375 19 \r\nL 49.078125 17.875 \r\nQ 47.65625 8.9375 41.8125 3.875 \r\nQ 35.984375 -1.171875 27.484375 -1.171875 \r\nQ 16.84375 -1.171875 10.375 5.78125 \r\nQ 3.90625 12.75 3.90625 25.734375 \r\nQ 3.90625 34.125 6.6875 40.421875 \r\nQ 9.46875 46.734375 15.15625 49.875 \r\nQ 20.84375 53.03125 27.546875 53.03125 \r\nQ 35.984375 53.03125 41.359375 48.75 \r\nQ 46.734375 44.484375 48.25 36.625 \r\nL 39.703125 35.296875 \r\nQ 38.484375 40.53125 35.375 43.15625 \r\nQ 32.28125 45.796875 27.875 45.796875 \r\nQ 21.234375 45.796875 17.078125 41.03125 \r\nQ 12.9375 36.28125 12.9375 25.984375 \r\nQ 12.9375 15.53125 16.9375 10.796875 \r\nQ 20.953125 6.0625 27.390625 6.0625 \r\nQ 32.5625 6.0625 36.03125 9.234375 \r\nQ 39.5 12.40625 40.4375 19 \r\nz\r\n\" id=\"ArialMT-99\"/>\r\n       <path d=\"M 3.328125 25.921875 \r\nQ 3.328125 40.328125 11.328125 47.265625 \r\nQ 18.015625 53.03125 27.640625 53.03125 \r\nQ 38.328125 53.03125 45.109375 46.015625 \r\nQ 51.90625 39.015625 51.90625 26.65625 \r\nQ 51.90625 16.65625 48.90625 10.90625 \r\nQ 45.90625 5.171875 40.15625 2 \r\nQ 34.421875 -1.171875 27.640625 -1.171875 \r\nQ 16.75 -1.171875 10.03125 5.8125 \r\nQ 3.328125 12.796875 3.328125 25.921875 \r\nz\r\nM 12.359375 25.921875 \r\nQ 12.359375 15.96875 16.703125 11.015625 \r\nQ 21.046875 6.0625 27.640625 6.0625 \r\nQ 34.1875 6.0625 38.53125 11.03125 \r\nQ 42.875 16.015625 42.875 26.21875 \r\nQ 42.875 35.84375 38.5 40.796875 \r\nQ 34.125 45.75 27.640625 45.75 \r\nQ 21.046875 45.75 16.703125 40.8125 \r\nQ 12.359375 35.890625 12.359375 25.921875 \r\nz\r\n\" id=\"ArialMT-111\"/>\r\n       <path d=\"M 40.578125 0 \r\nL 40.578125 7.625 \r\nQ 34.515625 -1.171875 24.125 -1.171875 \r\nQ 19.53125 -1.171875 15.546875 0.578125 \r\nQ 11.578125 2.34375 9.640625 5 \r\nQ 7.71875 7.671875 6.9375 11.53125 \r\nQ 6.390625 14.109375 6.390625 19.734375 \r\nL 6.390625 51.859375 \r\nL 15.1875 51.859375 \r\nL 15.1875 23.09375 \r\nQ 15.1875 16.21875 15.71875 13.8125 \r\nQ 16.546875 10.359375 19.234375 8.375 \r\nQ 21.921875 6.390625 25.875 6.390625 \r\nQ 29.828125 6.390625 33.296875 8.421875 \r\nQ 36.765625 10.453125 38.203125 13.9375 \r\nQ 39.65625 17.4375 39.65625 24.078125 \r\nL 39.65625 51.859375 \r\nL 48.4375 51.859375 \r\nL 48.4375 0 \r\nz\r\n\" id=\"ArialMT-117\"/>\r\n       <path d=\"M 6.59375 0 \r\nL 6.59375 51.859375 \r\nL 14.5 51.859375 \r\nL 14.5 44.484375 \r\nQ 20.21875 53.03125 31 53.03125 \r\nQ 35.6875 53.03125 39.625 51.34375 \r\nQ 43.5625 49.65625 45.515625 46.921875 \r\nQ 47.46875 44.1875 48.25 40.4375 \r\nQ 48.734375 37.984375 48.734375 31.890625 \r\nL 48.734375 0 \r\nL 39.9375 0 \r\nL 39.9375 31.546875 \r\nQ 39.9375 36.921875 38.90625 39.578125 \r\nQ 37.890625 42.234375 35.28125 43.8125 \r\nQ 32.671875 45.40625 29.15625 45.40625 \r\nQ 23.53125 45.40625 19.453125 41.84375 \r\nQ 15.375 38.28125 15.375 28.328125 \r\nL 15.375 0 \r\nz\r\n\" id=\"ArialMT-110\"/>\r\n       <path d=\"M 25.78125 7.859375 \r\nL 27.046875 0.09375 \r\nQ 23.34375 -0.6875 20.40625 -0.6875 \r\nQ 15.625 -0.6875 12.984375 0.828125 \r\nQ 10.359375 2.34375 9.28125 4.8125 \r\nQ 8.203125 7.28125 8.203125 15.1875 \r\nL 8.203125 45.015625 \r\nL 1.765625 45.015625 \r\nL 1.765625 51.859375 \r\nL 8.203125 51.859375 \r\nL 8.203125 64.703125 \r\nL 16.9375 69.96875 \r\nL 16.9375 51.859375 \r\nL 25.78125 51.859375 \r\nL 25.78125 45.015625 \r\nL 16.9375 45.015625 \r\nL 16.9375 14.703125 \r\nQ 16.9375 10.9375 17.40625 9.859375 \r\nQ 17.875 8.796875 18.921875 8.15625 \r\nQ 19.96875 7.515625 21.921875 7.515625 \r\nQ 23.390625 7.515625 25.78125 7.859375 \r\nz\r\n\" id=\"ArialMT-116\"/>\r\n      </defs>\r\n      <use xlink:href=\"#ArialMT-99\"/>\r\n      <use x=\"50\" xlink:href=\"#ArialMT-111\"/>\r\n      <use x=\"105.615234\" xlink:href=\"#ArialMT-117\"/>\r\n      <use x=\"161.230469\" xlink:href=\"#ArialMT-110\"/>\r\n      <use x=\"216.845703\" xlink:href=\"#ArialMT-116\"/>\r\n     </g>\r\n    </g>\r\n   </g>\r\n   <g id=\"matplotlib.axis_2\">\r\n    <g id=\"ytick_1\">\r\n     <g id=\"text_7\">\r\n      <!-- False -->\r\n      <g style=\"fill:#262626;\" transform=\"translate(22.174375 147.036797)scale(0.11 -0.11)\">\r\n       <defs>\r\n        <path d=\"M 8.203125 0 \r\nL 8.203125 71.578125 \r\nL 56.5 71.578125 \r\nL 56.5 63.140625 \r\nL 17.671875 63.140625 \r\nL 17.671875 40.96875 \r\nL 51.265625 40.96875 \r\nL 51.265625 32.515625 \r\nL 17.671875 32.515625 \r\nL 17.671875 0 \r\nz\r\n\" id=\"ArialMT-70\"/>\r\n        <path d=\"M 40.4375 6.390625 \r\nQ 35.546875 2.25 31.03125 0.53125 \r\nQ 26.515625 -1.171875 21.34375 -1.171875 \r\nQ 12.796875 -1.171875 8.203125 3 \r\nQ 3.609375 7.171875 3.609375 13.671875 \r\nQ 3.609375 17.484375 5.34375 20.625 \r\nQ 7.078125 23.78125 9.890625 25.6875 \r\nQ 12.703125 27.59375 16.21875 28.5625 \r\nQ 18.796875 29.25 24.03125 29.890625 \r\nQ 34.671875 31.15625 39.703125 32.90625 \r\nQ 39.75 34.71875 39.75 35.203125 \r\nQ 39.75 40.578125 37.25 42.78125 \r\nQ 33.890625 45.75 27.25 45.75 \r\nQ 21.046875 45.75 18.09375 43.578125 \r\nQ 15.140625 41.40625 13.71875 35.890625 \r\nL 5.125 37.0625 \r\nQ 6.296875 42.578125 8.984375 45.96875 \r\nQ 11.671875 49.359375 16.75 51.1875 \r\nQ 21.828125 53.03125 28.515625 53.03125 \r\nQ 35.15625 53.03125 39.296875 51.46875 \r\nQ 43.453125 49.90625 45.40625 47.53125 \r\nQ 47.359375 45.171875 48.140625 41.546875 \r\nQ 48.578125 39.3125 48.578125 33.453125 \r\nL 48.578125 21.734375 \r\nQ 48.578125 9.46875 49.140625 6.21875 \r\nQ 49.703125 2.984375 51.375 0 \r\nL 42.1875 0 \r\nQ 40.828125 2.734375 40.4375 6.390625 \r\nz\r\nM 39.703125 26.03125 \r\nQ 34.90625 24.078125 25.34375 22.703125 \r\nQ 19.921875 21.921875 17.671875 20.9375 \r\nQ 15.4375 19.96875 14.203125 18.09375 \r\nQ 12.984375 16.21875 12.984375 13.921875 \r\nQ 12.984375 10.40625 15.640625 8.0625 \r\nQ 18.3125 5.71875 23.4375 5.71875 \r\nQ 28.515625 5.71875 32.46875 7.9375 \r\nQ 36.421875 10.15625 38.28125 14.015625 \r\nQ 39.703125 17 39.703125 22.796875 \r\nz\r\n\" id=\"ArialMT-97\"/>\r\n        <path d=\"M 6.390625 0 \r\nL 6.390625 71.578125 \r\nL 15.1875 71.578125 \r\nL 15.1875 0 \r\nz\r\n\" id=\"ArialMT-108\"/>\r\n        <path d=\"M 3.078125 15.484375 \r\nL 11.765625 16.84375 \r\nQ 12.5 11.625 15.84375 8.84375 \r\nQ 19.1875 6.0625 25.203125 6.0625 \r\nQ 31.25 6.0625 34.171875 8.515625 \r\nQ 37.109375 10.984375 37.109375 14.3125 \r\nQ 37.109375 17.28125 34.515625 19 \r\nQ 32.71875 20.171875 25.53125 21.96875 \r\nQ 15.875 24.421875 12.140625 26.203125 \r\nQ 8.40625 27.984375 6.46875 31.125 \r\nQ 4.546875 34.28125 4.546875 38.09375 \r\nQ 4.546875 41.546875 6.125 44.5 \r\nQ 7.71875 47.46875 10.453125 49.421875 \r\nQ 12.5 50.921875 16.03125 51.96875 \r\nQ 19.578125 53.03125 23.640625 53.03125 \r\nQ 29.734375 53.03125 34.34375 51.265625 \r\nQ 38.96875 49.515625 41.15625 46.5 \r\nQ 43.359375 43.5 44.1875 38.484375 \r\nL 35.59375 37.3125 \r\nQ 35.015625 41.3125 32.203125 43.546875 \r\nQ 29.390625 45.796875 24.265625 45.796875 \r\nQ 18.21875 45.796875 15.625 43.796875 \r\nQ 13.03125 41.796875 13.03125 39.109375 \r\nQ 13.03125 37.40625 14.109375 36.03125 \r\nQ 15.1875 34.625 17.484375 33.6875 \r\nQ 18.796875 33.203125 25.25 31.453125 \r\nQ 34.578125 28.953125 38.25 27.359375 \r\nQ 41.9375 25.78125 44.03125 22.75 \r\nQ 46.140625 19.734375 46.140625 15.234375 \r\nQ 46.140625 10.84375 43.578125 6.953125 \r\nQ 41.015625 3.078125 36.171875 0.953125 \r\nQ 31.34375 -1.171875 25.25 -1.171875 \r\nQ 15.140625 -1.171875 9.84375 3.03125 \r\nQ 4.546875 7.234375 3.078125 15.484375 \r\nz\r\n\" id=\"ArialMT-115\"/>\r\n        <path d=\"M 42.09375 16.703125 \r\nL 51.171875 15.578125 \r\nQ 49.03125 7.625 43.21875 3.21875 \r\nQ 37.40625 -1.171875 28.375 -1.171875 \r\nQ 17 -1.171875 10.328125 5.828125 \r\nQ 3.65625 12.84375 3.65625 25.484375 \r\nQ 3.65625 38.578125 10.390625 45.796875 \r\nQ 17.140625 53.03125 27.875 53.03125 \r\nQ 38.28125 53.03125 44.875 45.953125 \r\nQ 51.46875 38.875 51.46875 26.03125 \r\nQ 51.46875 25.25 51.421875 23.6875 \r\nL 12.75 23.6875 \r\nQ 13.234375 15.140625 17.578125 10.59375 \r\nQ 21.921875 6.0625 28.421875 6.0625 \r\nQ 33.25 6.0625 36.671875 8.59375 \r\nQ 40.09375 11.140625 42.09375 16.703125 \r\nz\r\nM 13.234375 30.90625 \r\nL 42.1875 30.90625 \r\nQ 41.609375 37.453125 38.875 40.71875 \r\nQ 34.671875 45.796875 27.984375 45.796875 \r\nQ 21.921875 45.796875 17.796875 41.75 \r\nQ 13.671875 37.703125 13.234375 30.90625 \r\nz\r\n\" id=\"ArialMT-101\"/>\r\n       </defs>\r\n       <use xlink:href=\"#ArialMT-70\"/>\r\n       <use x=\"61.083984\" xlink:href=\"#ArialMT-97\"/>\r\n       <use x=\"116.699219\" xlink:href=\"#ArialMT-108\"/>\r\n       <use x=\"138.916016\" xlink:href=\"#ArialMT-115\"/>\r\n       <use x=\"188.916016\" xlink:href=\"#ArialMT-101\"/>\r\n      </g>\r\n     </g>\r\n    </g>\r\n    <g id=\"ytick_2\">\r\n     <g id=\"text_8\">\r\n      <!-- True -->\r\n      <g style=\"fill:#262626;\" transform=\"translate(26.868281 418.836797)scale(0.11 -0.11)\">\r\n       <defs>\r\n        <path d=\"M 25.921875 0 \r\nL 25.921875 63.140625 \r\nL 2.34375 63.140625 \r\nL 2.34375 71.578125 \r\nL 59.078125 71.578125 \r\nL 59.078125 63.140625 \r\nL 35.40625 63.140625 \r\nL 35.40625 0 \r\nz\r\n\" id=\"ArialMT-84\"/>\r\n        <path d=\"M 6.5 0 \r\nL 6.5 51.859375 \r\nL 14.40625 51.859375 \r\nL 14.40625 44 \r\nQ 17.4375 49.515625 20 51.265625 \r\nQ 22.5625 53.03125 25.640625 53.03125 \r\nQ 30.078125 53.03125 34.671875 50.203125 \r\nL 31.640625 42.046875 \r\nQ 28.421875 43.953125 25.203125 43.953125 \r\nQ 22.3125 43.953125 20.015625 42.21875 \r\nQ 17.71875 40.484375 16.75 37.40625 \r\nQ 15.28125 32.71875 15.28125 27.15625 \r\nL 15.28125 0 \r\nz\r\n\" id=\"ArialMT-114\"/>\r\n       </defs>\r\n       <use xlink:href=\"#ArialMT-84\"/>\r\n       <use x=\"57.333984\" xlink:href=\"#ArialMT-114\"/>\r\n       <use x=\"90.634766\" xlink:href=\"#ArialMT-117\"/>\r\n       <use x=\"146.25\" xlink:href=\"#ArialMT-101\"/>\r\n      </g>\r\n     </g>\r\n    </g>\r\n    <g id=\"text_9\">\r\n     <!-- isMobile -->\r\n     <g style=\"fill:#262626;\" transform=\"translate(15.789375 301.006875)rotate(-90)scale(0.12 -0.12)\">\r\n      <defs>\r\n       <path d=\"M 6.640625 61.46875 \r\nL 6.640625 71.578125 \r\nL 15.4375 71.578125 \r\nL 15.4375 61.46875 \r\nz\r\nM 6.640625 0 \r\nL 6.640625 51.859375 \r\nL 15.4375 51.859375 \r\nL 15.4375 0 \r\nz\r\n\" id=\"ArialMT-105\"/>\r\n       <path d=\"M 7.421875 0 \r\nL 7.421875 71.578125 \r\nL 21.6875 71.578125 \r\nL 38.625 20.90625 \r\nQ 40.96875 13.8125 42.046875 10.296875 \r\nQ 43.265625 14.203125 45.84375 21.78125 \r\nL 62.984375 71.578125 \r\nL 75.734375 71.578125 \r\nL 75.734375 0 \r\nL 66.609375 0 \r\nL 66.609375 59.90625 \r\nL 45.796875 0 \r\nL 37.25 0 \r\nL 16.546875 60.9375 \r\nL 16.546875 0 \r\nz\r\n\" id=\"ArialMT-77\"/>\r\n       <path d=\"M 14.703125 0 \r\nL 6.546875 0 \r\nL 6.546875 71.578125 \r\nL 15.328125 71.578125 \r\nL 15.328125 46.046875 \r\nQ 20.90625 53.03125 29.546875 53.03125 \r\nQ 34.328125 53.03125 38.59375 51.09375 \r\nQ 42.875 49.171875 45.625 45.671875 \r\nQ 48.390625 42.1875 49.953125 37.25 \r\nQ 51.515625 32.328125 51.515625 26.703125 \r\nQ 51.515625 13.375 44.921875 6.09375 \r\nQ 38.328125 -1.171875 29.109375 -1.171875 \r\nQ 19.921875 -1.171875 14.703125 6.5 \r\nz\r\nM 14.59375 26.3125 \r\nQ 14.59375 17 17.140625 12.84375 \r\nQ 21.296875 6.0625 28.375 6.0625 \r\nQ 34.125 6.0625 38.328125 11.0625 \r\nQ 42.53125 16.0625 42.53125 25.984375 \r\nQ 42.53125 36.140625 38.5 40.96875 \r\nQ 34.46875 45.796875 28.765625 45.796875 \r\nQ 23 45.796875 18.796875 40.796875 \r\nQ 14.59375 35.796875 14.59375 26.3125 \r\nz\r\n\" id=\"ArialMT-98\"/>\r\n      </defs>\r\n      <use xlink:href=\"#ArialMT-105\"/>\r\n      <use x=\"22.216797\" xlink:href=\"#ArialMT-115\"/>\r\n      <use x=\"72.216797\" xlink:href=\"#ArialMT-77\"/>\r\n      <use x=\"155.517578\" xlink:href=\"#ArialMT-111\"/>\r\n      <use x=\"211.132812\" xlink:href=\"#ArialMT-98\"/>\r\n      <use x=\"266.748047\" xlink:href=\"#ArialMT-105\"/>\r\n      <use x=\"288.964844\" xlink:href=\"#ArialMT-108\"/>\r\n      <use x=\"311.181641\" xlink:href=\"#ArialMT-101\"/>\r\n     </g>\r\n    </g>\r\n   </g>\r\n   <g id=\"patch_3\">\r\n    <path clip-path=\"url(#p1256f8a1a0)\" d=\"M 58.571094 34.38 \r\nL 58.595187 34.38 \r\nL 58.595187 106.86 \r\nL 58.571094 106.86 \r\nz\r\n\" style=\"fill:#d47d6f;stroke:#ffffff;stroke-linejoin:miter;\"/>\r\n   </g>\r\n   <g id=\"patch_4\">\r\n    <path clip-path=\"url(#p1256f8a1a0)\" d=\"M 58.571094 306.18 \r\nL 106.420626 306.18 \r\nL 106.420626 378.66 \r\nL 58.571094 378.66 \r\nz\r\n\" style=\"fill:#d47d6f;stroke:#ffffff;stroke-linejoin:miter;\"/>\r\n   </g>\r\n   <g id=\"patch_5\">\r\n    <path clip-path=\"url(#p1256f8a1a0)\" d=\"M 58.571094 106.86 \r\nL 1121.428237 106.86 \r\nL 1121.428237 179.34 \r\nL 58.571094 179.34 \r\nz\r\n\" style=\"fill:#b1516e;stroke:#ffffff;stroke-linejoin:miter;\"/>\r\n   </g>\r\n   <g id=\"patch_6\">\r\n    <path clip-path=\"url(#p1256f8a1a0)\" d=\"M 58.571094 378.66 \r\nL 58.836121 378.66 \r\nL 58.836121 451.14 \r\nL 58.571094 451.14 \r\nz\r\n\" style=\"fill:#b1516e;stroke:#ffffff;stroke-linejoin:miter;\"/>\r\n   </g>\r\n   <g id=\"patch_7\">\r\n    <path clip-path=\"url(#p1256f8a1a0)\" d=\"M 58.571094 179.34 \r\nL 58.956588 179.34 \r\nL 58.956588 251.82 \r\nL 58.571094 251.82 \r\nz\r\n\" style=\"fill:#7b3b6b;stroke:#ffffff;stroke-linejoin:miter;\"/>\r\n   </g>\r\n   <g id=\"patch_8\">\r\n    <path clip-path=\"url(#p1256f8a1a0)\" d=\"M 58.571094 451.14 \r\nL 392.79502 451.14 \r\nL 392.79502 523.62 \r\nL 58.571094 523.62 \r\nz\r\n\" style=\"fill:#7b3b6b;stroke:#ffffff;stroke-linejoin:miter;\"/>\r\n   </g>\r\n   <g id=\"patch_9\">\r\n    <path d=\"M 58.571094 550.8 \r\nL 58.571094 7.2 \r\n\" style=\"fill:none;stroke:#ffffff;stroke-linecap:square;stroke-linejoin:miter;stroke-width:1.25;\"/>\r\n   </g>\r\n   <g id=\"patch_10\">\r\n    <path d=\"M 1174.571094 550.8 \r\nL 1174.571094 7.2 \r\n\" style=\"fill:none;stroke:#ffffff;stroke-linecap:square;stroke-linejoin:miter;stroke-width:1.25;\"/>\r\n   </g>\r\n   <g id=\"patch_11\">\r\n    <path d=\"M 58.571094 550.8 \r\nL 1174.571094 550.8 \r\n\" style=\"fill:none;stroke:#ffffff;stroke-linecap:square;stroke-linejoin:miter;stroke-width:1.25;\"/>\r\n   </g>\r\n   <g id=\"patch_12\">\r\n    <path d=\"M 58.571094 7.2 \r\nL 1174.571094 7.2 \r\n\" style=\"fill:none;stroke:#ffffff;stroke-linecap:square;stroke-linejoin:miter;stroke-width:1.25;\"/>\r\n   </g>\r\n   <g id=\"legend_1\">\r\n    <g id=\"patch_13\">\r\n     <path d=\"M 1079.097344 79.440781 \r\nL 1166.871094 79.440781 \r\nQ 1169.071094 79.440781 1169.071094 77.240781 \r\nL 1169.071094 14.9 \r\nQ 1169.071094 12.7 1166.871094 12.7 \r\nL 1079.097344 12.7 \r\nQ 1076.897344 12.7 1076.897344 14.9 \r\nL 1076.897344 77.240781 \r\nQ 1076.897344 79.440781 1079.097344 79.440781 \r\nz\r\n\" style=\"fill:#eaeaf2;opacity:0.8;stroke:#cccccc;stroke-linejoin:miter;\"/>\r\n    </g>\r\n    <g id=\"text_10\">\r\n     <!-- deviceCategory -->\r\n     <g style=\"fill:#262626;\" transform=\"translate(1081.297344 25.835625)scale(0.12 -0.12)\">\r\n      <defs>\r\n       <path d=\"M 40.234375 0 \r\nL 40.234375 6.546875 \r\nQ 35.296875 -1.171875 25.734375 -1.171875 \r\nQ 19.53125 -1.171875 14.328125 2.25 \r\nQ 9.125 5.671875 6.265625 11.796875 \r\nQ 3.421875 17.921875 3.421875 25.875 \r\nQ 3.421875 33.640625 6 39.96875 \r\nQ 8.59375 46.296875 13.765625 49.65625 \r\nQ 18.953125 53.03125 25.34375 53.03125 \r\nQ 30.03125 53.03125 33.6875 51.046875 \r\nQ 37.359375 49.078125 39.65625 45.90625 \r\nL 39.65625 71.578125 \r\nL 48.390625 71.578125 \r\nL 48.390625 0 \r\nz\r\nM 12.453125 25.875 \r\nQ 12.453125 15.921875 16.640625 10.984375 \r\nQ 20.84375 6.0625 26.5625 6.0625 \r\nQ 32.328125 6.0625 36.34375 10.765625 \r\nQ 40.375 15.484375 40.375 25.140625 \r\nQ 40.375 35.796875 36.265625 40.765625 \r\nQ 32.171875 45.75 26.171875 45.75 \r\nQ 20.3125 45.75 16.375 40.96875 \r\nQ 12.453125 36.1875 12.453125 25.875 \r\nz\r\n\" id=\"ArialMT-100\"/>\r\n       <path d=\"M 21 0 \r\nL 1.265625 51.859375 \r\nL 10.546875 51.859375 \r\nL 21.6875 20.796875 \r\nQ 23.484375 15.765625 25 10.359375 \r\nQ 26.171875 14.453125 28.265625 20.21875 \r\nL 39.796875 51.859375 \r\nL 48.828125 51.859375 \r\nL 29.203125 0 \r\nz\r\n\" id=\"ArialMT-118\"/>\r\n       <path d=\"M 58.796875 25.09375 \r\nL 68.265625 22.703125 \r\nQ 65.28125 11.03125 57.546875 4.90625 \r\nQ 49.8125 -1.21875 38.625 -1.21875 \r\nQ 27.046875 -1.21875 19.796875 3.484375 \r\nQ 12.546875 8.203125 8.765625 17.140625 \r\nQ 4.984375 26.078125 4.984375 36.328125 \r\nQ 4.984375 47.515625 9.25 55.828125 \r\nQ 13.53125 64.15625 21.40625 68.46875 \r\nQ 29.296875 72.796875 38.765625 72.796875 \r\nQ 49.515625 72.796875 56.828125 67.328125 \r\nQ 64.15625 61.859375 67.046875 51.953125 \r\nL 57.71875 49.75 \r\nQ 55.21875 57.5625 50.484375 61.125 \r\nQ 45.75 64.703125 38.578125 64.703125 \r\nQ 30.328125 64.703125 24.78125 60.734375 \r\nQ 19.234375 56.78125 16.984375 50.109375 \r\nQ 14.75 43.453125 14.75 36.375 \r\nQ 14.75 27.25 17.40625 20.4375 \r\nQ 20.0625 13.625 25.671875 10.25 \r\nQ 31.296875 6.890625 37.84375 6.890625 \r\nQ 45.796875 6.890625 51.3125 11.46875 \r\nQ 56.84375 16.0625 58.796875 25.09375 \r\nz\r\n\" id=\"ArialMT-67\"/>\r\n       <path d=\"M 4.984375 -4.296875 \r\nL 13.53125 -5.5625 \r\nQ 14.0625 -9.515625 16.5 -11.328125 \r\nQ 19.78125 -13.765625 25.4375 -13.765625 \r\nQ 31.546875 -13.765625 34.859375 -11.328125 \r\nQ 38.1875 -8.890625 39.359375 -4.5 \r\nQ 40.046875 -1.8125 39.984375 6.78125 \r\nQ 34.234375 0 25.640625 0 \r\nQ 14.9375 0 9.078125 7.71875 \r\nQ 3.21875 15.4375 3.21875 26.21875 \r\nQ 3.21875 33.640625 5.90625 39.90625 \r\nQ 8.59375 46.1875 13.6875 49.609375 \r\nQ 18.796875 53.03125 25.6875 53.03125 \r\nQ 34.859375 53.03125 40.828125 45.609375 \r\nL 40.828125 51.859375 \r\nL 48.921875 51.859375 \r\nL 48.921875 7.03125 \r\nQ 48.921875 -5.078125 46.453125 -10.125 \r\nQ 44 -15.1875 38.640625 -18.109375 \r\nQ 33.296875 -21.046875 25.484375 -21.046875 \r\nQ 16.21875 -21.046875 10.5 -16.875 \r\nQ 4.78125 -12.703125 4.984375 -4.296875 \r\nz\r\nM 12.25 26.859375 \r\nQ 12.25 16.65625 16.296875 11.96875 \r\nQ 20.359375 7.28125 26.46875 7.28125 \r\nQ 32.515625 7.28125 36.609375 11.9375 \r\nQ 40.71875 16.609375 40.71875 26.5625 \r\nQ 40.71875 36.078125 36.5 40.90625 \r\nQ 32.28125 45.75 26.3125 45.75 \r\nQ 20.453125 45.75 16.34375 40.984375 \r\nQ 12.25 36.234375 12.25 26.859375 \r\nz\r\n\" id=\"ArialMT-103\"/>\r\n       <path d=\"M 6.203125 -19.96875 \r\nL 5.21875 -11.71875 \r\nQ 8.109375 -12.5 10.25 -12.5 \r\nQ 13.1875 -12.5 14.9375 -11.515625 \r\nQ 16.703125 -10.546875 17.828125 -8.796875 \r\nQ 18.65625 -7.46875 20.515625 -2.25 \r\nQ 20.75 -1.515625 21.296875 -0.09375 \r\nL 1.609375 51.859375 \r\nL 11.078125 51.859375 \r\nL 21.875 21.828125 \r\nQ 23.96875 16.109375 25.640625 9.8125 \r\nQ 27.15625 15.875 29.25 21.625 \r\nL 40.328125 51.859375 \r\nL 49.125 51.859375 \r\nL 29.390625 -0.875 \r\nQ 26.21875 -9.421875 24.46875 -12.640625 \r\nQ 22.125 -17 19.09375 -19.015625 \r\nQ 16.0625 -21.046875 11.859375 -21.046875 \r\nQ 9.328125 -21.046875 6.203125 -19.96875 \r\nz\r\n\" id=\"ArialMT-121\"/>\r\n      </defs>\r\n      <use xlink:href=\"#ArialMT-100\"/>\r\n      <use x=\"55.615234\" xlink:href=\"#ArialMT-101\"/>\r\n      <use x=\"111.230469\" xlink:href=\"#ArialMT-118\"/>\r\n      <use x=\"161.230469\" xlink:href=\"#ArialMT-105\"/>\r\n      <use x=\"183.447266\" xlink:href=\"#ArialMT-99\"/>\r\n      <use x=\"233.447266\" xlink:href=\"#ArialMT-101\"/>\r\n      <use x=\"289.0625\" xlink:href=\"#ArialMT-67\"/>\r\n      <use x=\"361.279297\" xlink:href=\"#ArialMT-97\"/>\r\n      <use x=\"416.894531\" xlink:href=\"#ArialMT-116\"/>\r\n      <use x=\"444.677734\" xlink:href=\"#ArialMT-101\"/>\r\n      <use x=\"500.292969\" xlink:href=\"#ArialMT-103\"/>\r\n      <use x=\"555.908203\" xlink:href=\"#ArialMT-111\"/>\r\n      <use x=\"611.523438\" xlink:href=\"#ArialMT-114\"/>\r\n      <use x=\"644.824219\" xlink:href=\"#ArialMT-121\"/>\r\n     </g>\r\n    </g>\r\n    <g id=\"patch_14\">\r\n     <path d=\"M 1088.322187 41.734844 \r\nL 1110.322187 41.734844 \r\nL 1110.322187 34.034844 \r\nL 1088.322187 34.034844 \r\nz\r\n\" style=\"fill:#d47d6f;stroke:#ffffff;stroke-linejoin:miter;\"/>\r\n    </g>\r\n    <g id=\"text_11\">\r\n     <!-- tablet -->\r\n     <g style=\"fill:#262626;\" transform=\"translate(1119.122187 41.734844)scale(0.11 -0.11)\">\r\n      <use xlink:href=\"#ArialMT-116\"/>\r\n      <use x=\"27.783203\" xlink:href=\"#ArialMT-97\"/>\r\n      <use x=\"83.398438\" xlink:href=\"#ArialMT-98\"/>\r\n      <use x=\"139.013672\" xlink:href=\"#ArialMT-108\"/>\r\n      <use x=\"161.230469\" xlink:href=\"#ArialMT-101\"/>\r\n      <use x=\"216.845703\" xlink:href=\"#ArialMT-116\"/>\r\n     </g>\r\n    </g>\r\n    <g id=\"patch_15\">\r\n     <path d=\"M 1088.322187 57.294688 \r\nL 1110.322187 57.294688 \r\nL 1110.322187 49.594688 \r\nL 1088.322187 49.594688 \r\nz\r\n\" style=\"fill:#b1516e;stroke:#ffffff;stroke-linejoin:miter;\"/>\r\n    </g>\r\n    <g id=\"text_12\">\r\n     <!-- desktop -->\r\n     <g style=\"fill:#262626;\" transform=\"translate(1119.122187 57.294688)scale(0.11 -0.11)\">\r\n      <defs>\r\n       <path d=\"M 6.640625 0 \r\nL 6.640625 71.578125 \r\nL 15.4375 71.578125 \r\nL 15.4375 30.765625 \r\nL 36.234375 51.859375 \r\nL 47.609375 51.859375 \r\nL 27.78125 32.625 \r\nL 49.609375 0 \r\nL 38.765625 0 \r\nL 21.625 26.515625 \r\nL 15.4375 20.5625 \r\nL 15.4375 0 \r\nz\r\n\" id=\"ArialMT-107\"/>\r\n       <path d=\"M 6.59375 -19.875 \r\nL 6.59375 51.859375 \r\nL 14.59375 51.859375 \r\nL 14.59375 45.125 \r\nQ 17.4375 49.078125 21 51.046875 \r\nQ 24.5625 53.03125 29.640625 53.03125 \r\nQ 36.28125 53.03125 41.359375 49.609375 \r\nQ 46.4375 46.1875 49.015625 39.953125 \r\nQ 51.609375 33.734375 51.609375 26.3125 \r\nQ 51.609375 18.359375 48.75 11.984375 \r\nQ 45.90625 5.609375 40.453125 2.21875 \r\nQ 35.015625 -1.171875 29 -1.171875 \r\nQ 24.609375 -1.171875 21.109375 0.6875 \r\nQ 17.625 2.546875 15.375 5.375 \r\nL 15.375 -19.875 \r\nz\r\nM 14.546875 25.640625 \r\nQ 14.546875 15.625 18.59375 10.84375 \r\nQ 22.65625 6.0625 28.421875 6.0625 \r\nQ 34.28125 6.0625 38.453125 11.015625 \r\nQ 42.625 15.96875 42.625 26.375 \r\nQ 42.625 36.28125 38.546875 41.203125 \r\nQ 34.46875 46.140625 28.8125 46.140625 \r\nQ 23.1875 46.140625 18.859375 40.890625 \r\nQ 14.546875 35.640625 14.546875 25.640625 \r\nz\r\n\" id=\"ArialMT-112\"/>\r\n      </defs>\r\n      <use xlink:href=\"#ArialMT-100\"/>\r\n      <use x=\"55.615234\" xlink:href=\"#ArialMT-101\"/>\r\n      <use x=\"111.230469\" xlink:href=\"#ArialMT-115\"/>\r\n      <use x=\"161.230469\" xlink:href=\"#ArialMT-107\"/>\r\n      <use x=\"211.230469\" xlink:href=\"#ArialMT-116\"/>\r\n      <use x=\"239.013672\" xlink:href=\"#ArialMT-111\"/>\r\n      <use x=\"294.628906\" xlink:href=\"#ArialMT-112\"/>\r\n     </g>\r\n    </g>\r\n    <g id=\"patch_16\">\r\n     <path d=\"M 1088.322187 72.854531 \r\nL 1110.322187 72.854531 \r\nL 1110.322187 65.154531 \r\nL 1088.322187 65.154531 \r\nz\r\n\" style=\"fill:#7b3b6b;stroke:#ffffff;stroke-linejoin:miter;\"/>\r\n    </g>\r\n    <g id=\"text_13\">\r\n     <!-- mobile -->\r\n     <g style=\"fill:#262626;\" transform=\"translate(1119.122187 72.854531)scale(0.11 -0.11)\">\r\n      <defs>\r\n       <path d=\"M 6.59375 0 \r\nL 6.59375 51.859375 \r\nL 14.453125 51.859375 \r\nL 14.453125 44.578125 \r\nQ 16.890625 48.390625 20.9375 50.703125 \r\nQ 25 53.03125 30.171875 53.03125 \r\nQ 35.9375 53.03125 39.625 50.640625 \r\nQ 43.3125 48.25 44.828125 43.953125 \r\nQ 50.984375 53.03125 60.84375 53.03125 \r\nQ 68.5625 53.03125 72.703125 48.75 \r\nQ 76.859375 44.484375 76.859375 35.59375 \r\nL 76.859375 0 \r\nL 68.109375 0 \r\nL 68.109375 32.671875 \r\nQ 68.109375 37.9375 67.25 40.25 \r\nQ 66.40625 42.578125 64.15625 43.984375 \r\nQ 61.921875 45.40625 58.890625 45.40625 \r\nQ 53.421875 45.40625 49.796875 41.765625 \r\nQ 46.1875 38.140625 46.1875 30.125 \r\nL 46.1875 0 \r\nL 37.40625 0 \r\nL 37.40625 33.6875 \r\nQ 37.40625 39.546875 35.25 42.46875 \r\nQ 33.109375 45.40625 28.21875 45.40625 \r\nQ 24.515625 45.40625 21.359375 43.453125 \r\nQ 18.21875 41.5 16.796875 37.734375 \r\nQ 15.375 33.984375 15.375 26.90625 \r\nL 15.375 0 \r\nz\r\n\" id=\"ArialMT-109\"/>\r\n      </defs>\r\n      <use xlink:href=\"#ArialMT-109\"/>\r\n      <use x=\"83.300781\" xlink:href=\"#ArialMT-111\"/>\r\n      <use x=\"138.916016\" xlink:href=\"#ArialMT-98\"/>\r\n      <use x=\"194.53125\" xlink:href=\"#ArialMT-105\"/>\r\n      <use x=\"216.748047\" xlink:href=\"#ArialMT-108\"/>\r\n      <use x=\"238.964844\" xlink:href=\"#ArialMT-101\"/>\r\n     </g>\r\n    </g>\r\n   </g>\r\n  </g>\r\n </g>\r\n <defs>\r\n  <clipPath id=\"p1256f8a1a0\">\r\n   <rect height=\"543.6\" width=\"1116\" x=\"58.571094\" y=\"7.2\"/>\r\n  </clipPath>\r\n </defs>\r\n</svg>\r\n",
      "image/png": "[encoded data removed]"
     },
     "metadata": {}
    }
   ],
   "source": [
    "# not telling much\n",
    "sns.set_theme(style=\"darkgrid\")\n",
    "fig, ax = plt.subplots(figsize=(20, 10))\n",
    "ax = sns.countplot(y=\"isMobile\", data=device, hue=\"deviceCategory\",palette=\"flare\")"
   ]
  },
  {
   "cell_type": "code",
   "execution_count": 325,
   "metadata": {},
   "outputs": [
    {
     "output_type": "display_data",
     "data": {
      "text/plain": "<Figure size 1440x720 with 1 Axes>",
      "image/svg+xml": "<?xml version=\"1.0\" encoding=\"utf-8\" standalone=\"no\"?>\r\n<!DOCTYPE svg PUBLIC \"-//W3C//DTD SVG 1.1//EN\"\r\n  \"http://www.w3.org/Graphics/SVG/1.1/DTD/svg11.dtd\">\r\n<!-- Created with matplotlib (https://matplotlib.org/) -->\r\n<svg height=\"592.534219pt\" version=\"1.1\" viewBox=\"0 0 1278.990469 592.534219\" width=\"1278.990469pt\" xmlns=\"http://www.w3.org/2000/svg\" xmlns:xlink=\"http://www.w3.org/1999/xlink\">\r\n <metadata>\r\n  <rdf:RDF xmlns:cc=\"http://creativecommons.org/ns#\" xmlns:dc=\"http://purl.org/dc/elements/1.1/\" xmlns:rdf=\"http://www.w3.org/1999/02/22-rdf-syntax-ns#\">\r\n   <cc:Work>\r\n    <dc:type rdf:resource=\"http://purl.org/dc/dcmitype/StillImage\"/>\r\n    <dc:date>2021-04-12T17:39:34.022559</dc:date>\r\n    <dc:format>image/svg+xml</dc:format>\r\n    <dc:creator>\r\n     <cc:Agent>\r\n      <dc:title>Matplotlib v3.3.2, https://matplotlib.org/</dc:title>\r\n     </cc:Agent>\r\n    </dc:creator>\r\n   </cc:Work>\r\n  </rdf:RDF>\r\n </metadata>\r\n <defs>\r\n  <style type=\"text/css\">*{stroke-linecap:butt;stroke-linejoin:round;}</style>\r\n </defs>\r\n <g id=\"figure_1\">\r\n  <g id=\"patch_1\">\r\n   <path d=\"M 0 592.534219 \r\nL 1278.990469 592.534219 \r\nL 1278.990469 0 \r\nL 0 0 \r\nz\r\n\" style=\"fill:#ffffff;\"/>\r\n  </g>\r\n  <g id=\"axes_1\">\r\n   <g id=\"patch_2\">\r\n    <path d=\"M 155.790469 550.8 \r\nL 1271.790469 550.8 \r\nL 1271.790469 7.2 \r\nL 155.790469 7.2 \r\nz\r\n\" style=\"fill:#eaeaf2;\"/>\r\n   </g>\r\n   <g id=\"matplotlib.axis_1\">\r\n    <g id=\"xtick_1\">\r\n     <g id=\"line2d_1\">\r\n      <path clip-path=\"url(#pf25dc2fc9d)\" d=\"M 155.790469 550.8 \r\nL 155.790469 7.2 \r\n\" style=\"fill:none;stroke:#ffffff;stroke-linecap:round;\"/>\r\n     </g>\r\n     <g id=\"text_1\">\r\n      <!-- 0 -->\r\n      <g style=\"fill:#262626;\" transform=\"translate(152.731953 568.173594)scale(0.11 -0.11)\">\r\n       <defs>\r\n        <path d=\"M 4.15625 35.296875 \r\nQ 4.15625 48 6.765625 55.734375 \r\nQ 9.375 63.484375 14.515625 67.671875 \r\nQ 19.671875 71.875 27.484375 71.875 \r\nQ 33.25 71.875 37.59375 69.546875 \r\nQ 41.9375 67.234375 44.765625 62.859375 \r\nQ 47.609375 58.5 49.21875 52.21875 \r\nQ 50.828125 45.953125 50.828125 35.296875 \r\nQ 50.828125 22.703125 48.234375 14.96875 \r\nQ 45.65625 7.234375 40.5 3 \r\nQ 35.359375 -1.21875 27.484375 -1.21875 \r\nQ 17.140625 -1.21875 11.234375 6.203125 \r\nQ 4.15625 15.140625 4.15625 35.296875 \r\nz\r\nM 13.1875 35.296875 \r\nQ 13.1875 17.671875 17.3125 11.828125 \r\nQ 21.4375 6 27.484375 6 \r\nQ 33.546875 6 37.671875 11.859375 \r\nQ 41.796875 17.71875 41.796875 35.296875 \r\nQ 41.796875 52.984375 37.671875 58.78125 \r\nQ 33.546875 64.59375 27.390625 64.59375 \r\nQ 21.34375 64.59375 17.71875 59.46875 \r\nQ 13.1875 52.9375 13.1875 35.296875 \r\nz\r\n\" id=\"ArialMT-48\"/>\r\n       </defs>\r\n       <use xlink:href=\"#ArialMT-48\"/>\r\n      </g>\r\n     </g>\r\n    </g>\r\n    <g id=\"xtick_2\">\r\n     <g id=\"line2d_2\">\r\n      <path clip-path=\"url(#pf25dc2fc9d)\" d=\"M 315.806298 550.8 \r\nL 315.806298 7.2 \r\n\" style=\"fill:none;stroke:#ffffff;stroke-linecap:round;\"/>\r\n     </g>\r\n     <g id=\"text_2\">\r\n      <!-- 5000 -->\r\n      <g style=\"fill:#262626;\" transform=\"translate(303.572236 568.173594)scale(0.11 -0.11)\">\r\n       <defs>\r\n        <path d=\"M 4.15625 18.75 \r\nL 13.375 19.53125 \r\nQ 14.40625 12.796875 18.140625 9.390625 \r\nQ 21.875 6 27.15625 6 \r\nQ 33.5 6 37.890625 10.78125 \r\nQ 42.28125 15.578125 42.28125 23.484375 \r\nQ 42.28125 31 38.0625 35.34375 \r\nQ 33.84375 39.703125 27 39.703125 \r\nQ 22.75 39.703125 19.328125 37.765625 \r\nQ 15.921875 35.84375 13.96875 32.765625 \r\nL 5.71875 33.84375 \r\nL 12.640625 70.609375 \r\nL 48.25 70.609375 \r\nL 48.25 62.203125 \r\nL 19.671875 62.203125 \r\nL 15.828125 42.96875 \r\nQ 22.265625 47.46875 29.34375 47.46875 \r\nQ 38.71875 47.46875 45.15625 40.96875 \r\nQ 51.609375 34.46875 51.609375 24.265625 \r\nQ 51.609375 14.546875 45.953125 7.46875 \r\nQ 39.0625 -1.21875 27.15625 -1.21875 \r\nQ 17.390625 -1.21875 11.203125 4.25 \r\nQ 5.03125 9.71875 4.15625 18.75 \r\nz\r\n\" id=\"ArialMT-53\"/>\r\n       </defs>\r\n       <use xlink:href=\"#ArialMT-53\"/>\r\n       <use x=\"55.615234\" xlink:href=\"#ArialMT-48\"/>\r\n       <use x=\"111.230469\" xlink:href=\"#ArialMT-48\"/>\r\n       <use x=\"166.845703\" xlink:href=\"#ArialMT-48\"/>\r\n      </g>\r\n     </g>\r\n    </g>\r\n    <g id=\"xtick_3\">\r\n     <g id=\"line2d_3\">\r\n      <path clip-path=\"url(#pf25dc2fc9d)\" d=\"M 475.822128 550.8 \r\nL 475.822128 7.2 \r\n\" style=\"fill:none;stroke:#ffffff;stroke-linecap:round;\"/>\r\n     </g>\r\n     <g id=\"text_3\">\r\n      <!-- 10000 -->\r\n      <g style=\"fill:#262626;\" transform=\"translate(460.52955 568.173594)scale(0.11 -0.11)\">\r\n       <defs>\r\n        <path d=\"M 37.25 0 \r\nL 28.46875 0 \r\nL 28.46875 56 \r\nQ 25.296875 52.984375 20.140625 49.953125 \r\nQ 14.984375 46.921875 10.890625 45.40625 \r\nL 10.890625 53.90625 \r\nQ 18.265625 57.375 23.78125 62.296875 \r\nQ 29.296875 67.234375 31.59375 71.875 \r\nL 37.25 71.875 \r\nz\r\n\" id=\"ArialMT-49\"/>\r\n       </defs>\r\n       <use xlink:href=\"#ArialMT-49\"/>\r\n       <use x=\"55.615234\" xlink:href=\"#ArialMT-48\"/>\r\n       <use x=\"111.230469\" xlink:href=\"#ArialMT-48\"/>\r\n       <use x=\"166.845703\" xlink:href=\"#ArialMT-48\"/>\r\n       <use x=\"222.460938\" xlink:href=\"#ArialMT-48\"/>\r\n      </g>\r\n     </g>\r\n    </g>\r\n    <g id=\"xtick_4\">\r\n     <g id=\"line2d_4\">\r\n      <path clip-path=\"url(#pf25dc2fc9d)\" d=\"M 635.837957 550.8 \r\nL 635.837957 7.2 \r\n\" style=\"fill:none;stroke:#ffffff;stroke-linecap:round;\"/>\r\n     </g>\r\n     <g id=\"text_4\">\r\n      <!-- 15000 -->\r\n      <g style=\"fill:#262626;\" transform=\"translate(620.545379 568.173594)scale(0.11 -0.11)\">\r\n       <use xlink:href=\"#ArialMT-49\"/>\r\n       <use x=\"55.615234\" xlink:href=\"#ArialMT-53\"/>\r\n       <use x=\"111.230469\" xlink:href=\"#ArialMT-48\"/>\r\n       <use x=\"166.845703\" xlink:href=\"#ArialMT-48\"/>\r\n       <use x=\"222.460938\" xlink:href=\"#ArialMT-48\"/>\r\n      </g>\r\n     </g>\r\n    </g>\r\n    <g id=\"xtick_5\">\r\n     <g id=\"line2d_5\">\r\n      <path clip-path=\"url(#pf25dc2fc9d)\" d=\"M 795.853787 550.8 \r\nL 795.853787 7.2 \r\n\" style=\"fill:none;stroke:#ffffff;stroke-linecap:round;\"/>\r\n     </g>\r\n     <g id=\"text_5\">\r\n      <!-- 20000 -->\r\n      <g style=\"fill:#262626;\" transform=\"translate(780.561209 568.173594)scale(0.11 -0.11)\">\r\n       <defs>\r\n        <path d=\"M 50.34375 8.453125 \r\nL 50.34375 0 \r\nL 3.03125 0 \r\nQ 2.9375 3.171875 4.046875 6.109375 \r\nQ 5.859375 10.9375 9.828125 15.625 \r\nQ 13.8125 20.3125 21.34375 26.46875 \r\nQ 33.015625 36.03125 37.109375 41.625 \r\nQ 41.21875 47.21875 41.21875 52.203125 \r\nQ 41.21875 57.421875 37.46875 61 \r\nQ 33.734375 64.59375 27.734375 64.59375 \r\nQ 21.390625 64.59375 17.578125 60.78125 \r\nQ 13.765625 56.984375 13.71875 50.25 \r\nL 4.6875 51.171875 \r\nQ 5.609375 61.28125 11.65625 66.578125 \r\nQ 17.71875 71.875 27.9375 71.875 \r\nQ 38.234375 71.875 44.234375 66.15625 \r\nQ 50.25 60.453125 50.25 52 \r\nQ 50.25 47.703125 48.484375 43.546875 \r\nQ 46.734375 39.40625 42.65625 34.8125 \r\nQ 38.578125 30.21875 29.109375 22.21875 \r\nQ 21.1875 15.578125 18.9375 13.203125 \r\nQ 16.703125 10.84375 15.234375 8.453125 \r\nz\r\n\" id=\"ArialMT-50\"/>\r\n       </defs>\r\n       <use xlink:href=\"#ArialMT-50\"/>\r\n       <use x=\"55.615234\" xlink:href=\"#ArialMT-48\"/>\r\n       <use x=\"111.230469\" xlink:href=\"#ArialMT-48\"/>\r\n       <use x=\"166.845703\" xlink:href=\"#ArialMT-48\"/>\r\n       <use x=\"222.460938\" xlink:href=\"#ArialMT-48\"/>\r\n      </g>\r\n     </g>\r\n    </g>\r\n    <g id=\"xtick_6\">\r\n     <g id=\"line2d_6\">\r\n      <path clip-path=\"url(#pf25dc2fc9d)\" d=\"M 955.869616 550.8 \r\nL 955.869616 7.2 \r\n\" style=\"fill:none;stroke:#ffffff;stroke-linecap:round;\"/>\r\n     </g>\r\n     <g id=\"text_6\">\r\n      <!-- 25000 -->\r\n      <g style=\"fill:#262626;\" transform=\"translate(940.577038 568.173594)scale(0.11 -0.11)\">\r\n       <use xlink:href=\"#ArialMT-50\"/>\r\n       <use x=\"55.615234\" xlink:href=\"#ArialMT-53\"/>\r\n       <use x=\"111.230469\" xlink:href=\"#ArialMT-48\"/>\r\n       <use x=\"166.845703\" xlink:href=\"#ArialMT-48\"/>\r\n       <use x=\"222.460938\" xlink:href=\"#ArialMT-48\"/>\r\n      </g>\r\n     </g>\r\n    </g>\r\n    <g id=\"xtick_7\">\r\n     <g id=\"line2d_7\">\r\n      <path clip-path=\"url(#pf25dc2fc9d)\" d=\"M 1115.885446 550.8 \r\nL 1115.885446 7.2 \r\n\" style=\"fill:none;stroke:#ffffff;stroke-linecap:round;\"/>\r\n     </g>\r\n     <g id=\"text_7\">\r\n      <!-- 30000 -->\r\n      <g style=\"fill:#262626;\" transform=\"translate(1100.592868 568.173594)scale(0.11 -0.11)\">\r\n       <defs>\r\n        <path d=\"M 4.203125 18.890625 \r\nL 12.984375 20.0625 \r\nQ 14.5 12.59375 18.140625 9.296875 \r\nQ 21.78125 6 27 6 \r\nQ 33.203125 6 37.46875 10.296875 \r\nQ 41.75 14.59375 41.75 20.953125 \r\nQ 41.75 27 37.796875 30.921875 \r\nQ 33.84375 34.859375 27.734375 34.859375 \r\nQ 25.25 34.859375 21.53125 33.890625 \r\nL 22.515625 41.609375 \r\nQ 23.390625 41.5 23.921875 41.5 \r\nQ 29.546875 41.5 34.03125 44.421875 \r\nQ 38.53125 47.359375 38.53125 53.46875 \r\nQ 38.53125 58.296875 35.25 61.46875 \r\nQ 31.984375 64.65625 26.8125 64.65625 \r\nQ 21.6875 64.65625 18.265625 61.421875 \r\nQ 14.84375 58.203125 13.875 51.765625 \r\nL 5.078125 53.328125 \r\nQ 6.6875 62.15625 12.390625 67.015625 \r\nQ 18.109375 71.875 26.609375 71.875 \r\nQ 32.46875 71.875 37.390625 69.359375 \r\nQ 42.328125 66.84375 44.9375 62.5 \r\nQ 47.5625 58.15625 47.5625 53.265625 \r\nQ 47.5625 48.640625 45.0625 44.828125 \r\nQ 42.578125 41.015625 37.703125 38.765625 \r\nQ 44.046875 37.3125 47.5625 32.6875 \r\nQ 51.078125 28.078125 51.078125 21.140625 \r\nQ 51.078125 11.765625 44.234375 5.25 \r\nQ 37.40625 -1.265625 26.953125 -1.265625 \r\nQ 17.53125 -1.265625 11.296875 4.34375 \r\nQ 5.078125 9.96875 4.203125 18.890625 \r\nz\r\n\" id=\"ArialMT-51\"/>\r\n       </defs>\r\n       <use xlink:href=\"#ArialMT-51\"/>\r\n       <use x=\"55.615234\" xlink:href=\"#ArialMT-48\"/>\r\n       <use x=\"111.230469\" xlink:href=\"#ArialMT-48\"/>\r\n       <use x=\"166.845703\" xlink:href=\"#ArialMT-48\"/>\r\n       <use x=\"222.460938\" xlink:href=\"#ArialMT-48\"/>\r\n      </g>\r\n     </g>\r\n    </g>\r\n    <g id=\"text_8\">\r\n     <!-- count -->\r\n     <g style=\"fill:#262626;\" transform=\"translate(699.113906 582.949219)scale(0.12 -0.12)\">\r\n      <defs>\r\n       <path d=\"M 40.4375 19 \r\nL 49.078125 17.875 \r\nQ 47.65625 8.9375 41.8125 3.875 \r\nQ 35.984375 -1.171875 27.484375 -1.171875 \r\nQ 16.84375 -1.171875 10.375 5.78125 \r\nQ 3.90625 12.75 3.90625 25.734375 \r\nQ 3.90625 34.125 6.6875 40.421875 \r\nQ 9.46875 46.734375 15.15625 49.875 \r\nQ 20.84375 53.03125 27.546875 53.03125 \r\nQ 35.984375 53.03125 41.359375 48.75 \r\nQ 46.734375 44.484375 48.25 36.625 \r\nL 39.703125 35.296875 \r\nQ 38.484375 40.53125 35.375 43.15625 \r\nQ 32.28125 45.796875 27.875 45.796875 \r\nQ 21.234375 45.796875 17.078125 41.03125 \r\nQ 12.9375 36.28125 12.9375 25.984375 \r\nQ 12.9375 15.53125 16.9375 10.796875 \r\nQ 20.953125 6.0625 27.390625 6.0625 \r\nQ 32.5625 6.0625 36.03125 9.234375 \r\nQ 39.5 12.40625 40.4375 19 \r\nz\r\n\" id=\"ArialMT-99\"/>\r\n       <path d=\"M 3.328125 25.921875 \r\nQ 3.328125 40.328125 11.328125 47.265625 \r\nQ 18.015625 53.03125 27.640625 53.03125 \r\nQ 38.328125 53.03125 45.109375 46.015625 \r\nQ 51.90625 39.015625 51.90625 26.65625 \r\nQ 51.90625 16.65625 48.90625 10.90625 \r\nQ 45.90625 5.171875 40.15625 2 \r\nQ 34.421875 -1.171875 27.640625 -1.171875 \r\nQ 16.75 -1.171875 10.03125 5.8125 \r\nQ 3.328125 12.796875 3.328125 25.921875 \r\nz\r\nM 12.359375 25.921875 \r\nQ 12.359375 15.96875 16.703125 11.015625 \r\nQ 21.046875 6.0625 27.640625 6.0625 \r\nQ 34.1875 6.0625 38.53125 11.03125 \r\nQ 42.875 16.015625 42.875 26.21875 \r\nQ 42.875 35.84375 38.5 40.796875 \r\nQ 34.125 45.75 27.640625 45.75 \r\nQ 21.046875 45.75 16.703125 40.8125 \r\nQ 12.359375 35.890625 12.359375 25.921875 \r\nz\r\n\" id=\"ArialMT-111\"/>\r\n       <path d=\"M 40.578125 0 \r\nL 40.578125 7.625 \r\nQ 34.515625 -1.171875 24.125 -1.171875 \r\nQ 19.53125 -1.171875 15.546875 0.578125 \r\nQ 11.578125 2.34375 9.640625 5 \r\nQ 7.71875 7.671875 6.9375 11.53125 \r\nQ 6.390625 14.109375 6.390625 19.734375 \r\nL 6.390625 51.859375 \r\nL 15.1875 51.859375 \r\nL 15.1875 23.09375 \r\nQ 15.1875 16.21875 15.71875 13.8125 \r\nQ 16.546875 10.359375 19.234375 8.375 \r\nQ 21.921875 6.390625 25.875 6.390625 \r\nQ 29.828125 6.390625 33.296875 8.421875 \r\nQ 36.765625 10.453125 38.203125 13.9375 \r\nQ 39.65625 17.4375 39.65625 24.078125 \r\nL 39.65625 51.859375 \r\nL 48.4375 51.859375 \r\nL 48.4375 0 \r\nz\r\n\" id=\"ArialMT-117\"/>\r\n       <path d=\"M 6.59375 0 \r\nL 6.59375 51.859375 \r\nL 14.5 51.859375 \r\nL 14.5 44.484375 \r\nQ 20.21875 53.03125 31 53.03125 \r\nQ 35.6875 53.03125 39.625 51.34375 \r\nQ 43.5625 49.65625 45.515625 46.921875 \r\nQ 47.46875 44.1875 48.25 40.4375 \r\nQ 48.734375 37.984375 48.734375 31.890625 \r\nL 48.734375 0 \r\nL 39.9375 0 \r\nL 39.9375 31.546875 \r\nQ 39.9375 36.921875 38.90625 39.578125 \r\nQ 37.890625 42.234375 35.28125 43.8125 \r\nQ 32.671875 45.40625 29.15625 45.40625 \r\nQ 23.53125 45.40625 19.453125 41.84375 \r\nQ 15.375 38.28125 15.375 28.328125 \r\nL 15.375 0 \r\nz\r\n\" id=\"ArialMT-110\"/>\r\n       <path d=\"M 25.78125 7.859375 \r\nL 27.046875 0.09375 \r\nQ 23.34375 -0.6875 20.40625 -0.6875 \r\nQ 15.625 -0.6875 12.984375 0.828125 \r\nQ 10.359375 2.34375 9.28125 4.8125 \r\nQ 8.203125 7.28125 8.203125 15.1875 \r\nL 8.203125 45.015625 \r\nL 1.765625 45.015625 \r\nL 1.765625 51.859375 \r\nL 8.203125 51.859375 \r\nL 8.203125 64.703125 \r\nL 16.9375 69.96875 \r\nL 16.9375 51.859375 \r\nL 25.78125 51.859375 \r\nL 25.78125 45.015625 \r\nL 16.9375 45.015625 \r\nL 16.9375 14.703125 \r\nQ 16.9375 10.9375 17.40625 9.859375 \r\nQ 17.875 8.796875 18.921875 8.15625 \r\nQ 19.96875 7.515625 21.921875 7.515625 \r\nQ 23.390625 7.515625 25.78125 7.859375 \r\nz\r\n\" id=\"ArialMT-116\"/>\r\n      </defs>\r\n      <use xlink:href=\"#ArialMT-99\"/>\r\n      <use x=\"50\" xlink:href=\"#ArialMT-111\"/>\r\n      <use x=\"105.615234\" xlink:href=\"#ArialMT-117\"/>\r\n      <use x=\"161.230469\" xlink:href=\"#ArialMT-110\"/>\r\n      <use x=\"216.845703\" xlink:href=\"#ArialMT-116\"/>\r\n     </g>\r\n    </g>\r\n   </g>\r\n   <g id=\"matplotlib.axis_2\">\r\n    <g id=\"ytick_1\">\r\n     <g id=\"text_9\">\r\n      <!-- Safari -->\r\n      <g style=\"fill:#262626;\" transform=\"translate(117.556406 20.509211)scale(0.11 -0.11)\">\r\n       <defs>\r\n        <path d=\"M 4.5 23 \r\nL 13.421875 23.78125 \r\nQ 14.0625 18.40625 16.375 14.96875 \r\nQ 18.703125 11.53125 23.578125 9.40625 \r\nQ 28.46875 7.28125 34.578125 7.28125 \r\nQ 39.984375 7.28125 44.140625 8.890625 \r\nQ 48.296875 10.5 50.3125 13.296875 \r\nQ 52.34375 16.109375 52.34375 19.4375 \r\nQ 52.34375 22.796875 50.390625 25.3125 \r\nQ 48.4375 27.828125 43.953125 29.546875 \r\nQ 41.0625 30.671875 31.203125 33.03125 \r\nQ 21.34375 35.40625 17.390625 37.5 \r\nQ 12.25 40.1875 9.734375 44.15625 \r\nQ 7.234375 48.140625 7.234375 53.078125 \r\nQ 7.234375 58.5 10.296875 63.203125 \r\nQ 13.375 67.921875 19.28125 70.359375 \r\nQ 25.203125 72.796875 32.421875 72.796875 \r\nQ 40.375 72.796875 46.453125 70.234375 \r\nQ 52.546875 67.671875 55.8125 62.6875 \r\nQ 59.078125 57.71875 59.328125 51.421875 \r\nL 50.25 50.734375 \r\nQ 49.515625 57.515625 45.28125 60.984375 \r\nQ 41.0625 64.453125 32.8125 64.453125 \r\nQ 24.21875 64.453125 20.28125 61.296875 \r\nQ 16.359375 58.15625 16.359375 53.71875 \r\nQ 16.359375 49.859375 19.140625 47.359375 \r\nQ 21.875 44.875 33.421875 42.265625 \r\nQ 44.96875 39.65625 49.265625 37.703125 \r\nQ 55.515625 34.8125 58.484375 30.390625 \r\nQ 61.46875 25.984375 61.46875 20.21875 \r\nQ 61.46875 14.5 58.203125 9.4375 \r\nQ 54.9375 4.390625 48.796875 1.578125 \r\nQ 42.671875 -1.21875 35.015625 -1.21875 \r\nQ 25.296875 -1.21875 18.71875 1.609375 \r\nQ 12.15625 4.4375 8.421875 10.125 \r\nQ 4.6875 15.828125 4.5 23 \r\nz\r\n\" id=\"ArialMT-83\"/>\r\n        <path d=\"M 40.4375 6.390625 \r\nQ 35.546875 2.25 31.03125 0.53125 \r\nQ 26.515625 -1.171875 21.34375 -1.171875 \r\nQ 12.796875 -1.171875 8.203125 3 \r\nQ 3.609375 7.171875 3.609375 13.671875 \r\nQ 3.609375 17.484375 5.34375 20.625 \r\nQ 7.078125 23.78125 9.890625 25.6875 \r\nQ 12.703125 27.59375 16.21875 28.5625 \r\nQ 18.796875 29.25 24.03125 29.890625 \r\nQ 34.671875 31.15625 39.703125 32.90625 \r\nQ 39.75 34.71875 39.75 35.203125 \r\nQ 39.75 40.578125 37.25 42.78125 \r\nQ 33.890625 45.75 27.25 45.75 \r\nQ 21.046875 45.75 18.09375 43.578125 \r\nQ 15.140625 41.40625 13.71875 35.890625 \r\nL 5.125 37.0625 \r\nQ 6.296875 42.578125 8.984375 45.96875 \r\nQ 11.671875 49.359375 16.75 51.1875 \r\nQ 21.828125 53.03125 28.515625 53.03125 \r\nQ 35.15625 53.03125 39.296875 51.46875 \r\nQ 43.453125 49.90625 45.40625 47.53125 \r\nQ 47.359375 45.171875 48.140625 41.546875 \r\nQ 48.578125 39.3125 48.578125 33.453125 \r\nL 48.578125 21.734375 \r\nQ 48.578125 9.46875 49.140625 6.21875 \r\nQ 49.703125 2.984375 51.375 0 \r\nL 42.1875 0 \r\nQ 40.828125 2.734375 40.4375 6.390625 \r\nz\r\nM 39.703125 26.03125 \r\nQ 34.90625 24.078125 25.34375 22.703125 \r\nQ 19.921875 21.921875 17.671875 20.9375 \r\nQ 15.4375 19.96875 14.203125 18.09375 \r\nQ 12.984375 16.21875 12.984375 13.921875 \r\nQ 12.984375 10.40625 15.640625 8.0625 \r\nQ 18.3125 5.71875 23.4375 5.71875 \r\nQ 28.515625 5.71875 32.46875 7.9375 \r\nQ 36.421875 10.15625 38.28125 14.015625 \r\nQ 39.703125 17 39.703125 22.796875 \r\nz\r\n\" id=\"ArialMT-97\"/>\r\n        <path d=\"M 8.6875 0 \r\nL 8.6875 45.015625 \r\nL 0.921875 45.015625 \r\nL 0.921875 51.859375 \r\nL 8.6875 51.859375 \r\nL 8.6875 57.375 \r\nQ 8.6875 62.59375 9.625 65.140625 \r\nQ 10.890625 68.5625 14.078125 70.671875 \r\nQ 17.28125 72.796875 23.046875 72.796875 \r\nQ 26.765625 72.796875 31.25 71.921875 \r\nL 29.9375 64.265625 \r\nQ 27.203125 64.75 24.75 64.75 \r\nQ 20.75 64.75 19.09375 63.03125 \r\nQ 17.4375 61.328125 17.4375 56.640625 \r\nL 17.4375 51.859375 \r\nL 27.546875 51.859375 \r\nL 27.546875 45.015625 \r\nL 17.4375 45.015625 \r\nL 17.4375 0 \r\nz\r\n\" id=\"ArialMT-102\"/>\r\n        <path d=\"M 6.5 0 \r\nL 6.5 51.859375 \r\nL 14.40625 51.859375 \r\nL 14.40625 44 \r\nQ 17.4375 49.515625 20 51.265625 \r\nQ 22.5625 53.03125 25.640625 53.03125 \r\nQ 30.078125 53.03125 34.671875 50.203125 \r\nL 31.640625 42.046875 \r\nQ 28.421875 43.953125 25.203125 43.953125 \r\nQ 22.3125 43.953125 20.015625 42.21875 \r\nQ 17.71875 40.484375 16.75 37.40625 \r\nQ 15.28125 32.71875 15.28125 27.15625 \r\nL 15.28125 0 \r\nz\r\n\" id=\"ArialMT-114\"/>\r\n        <path d=\"M 6.640625 61.46875 \r\nL 6.640625 71.578125 \r\nL 15.4375 71.578125 \r\nL 15.4375 61.46875 \r\nz\r\nM 6.640625 0 \r\nL 6.640625 51.859375 \r\nL 15.4375 51.859375 \r\nL 15.4375 0 \r\nz\r\n\" id=\"ArialMT-105\"/>\r\n       </defs>\r\n       <use xlink:href=\"#ArialMT-83\"/>\r\n       <use x=\"66.699219\" xlink:href=\"#ArialMT-97\"/>\r\n       <use x=\"122.314453\" xlink:href=\"#ArialMT-102\"/>\r\n       <use x=\"150.097656\" xlink:href=\"#ArialMT-97\"/>\r\n       <use x=\"205.712891\" xlink:href=\"#ArialMT-114\"/>\r\n       <use x=\"239.013672\" xlink:href=\"#ArialMT-105\"/>\r\n      </g>\r\n     </g>\r\n    </g>\r\n    <g id=\"ytick_2\">\r\n     <g id=\"text_10\">\r\n      <!-- Chrome -->\r\n      <g style=\"fill:#262626;\" transform=\"translate(107.17 39.254038)scale(0.11 -0.11)\">\r\n       <defs>\r\n        <path d=\"M 58.796875 25.09375 \r\nL 68.265625 22.703125 \r\nQ 65.28125 11.03125 57.546875 4.90625 \r\nQ 49.8125 -1.21875 38.625 -1.21875 \r\nQ 27.046875 -1.21875 19.796875 3.484375 \r\nQ 12.546875 8.203125 8.765625 17.140625 \r\nQ 4.984375 26.078125 4.984375 36.328125 \r\nQ 4.984375 47.515625 9.25 55.828125 \r\nQ 13.53125 64.15625 21.40625 68.46875 \r\nQ 29.296875 72.796875 38.765625 72.796875 \r\nQ 49.515625 72.796875 56.828125 67.328125 \r\nQ 64.15625 61.859375 67.046875 51.953125 \r\nL 57.71875 49.75 \r\nQ 55.21875 57.5625 50.484375 61.125 \r\nQ 45.75 64.703125 38.578125 64.703125 \r\nQ 30.328125 64.703125 24.78125 60.734375 \r\nQ 19.234375 56.78125 16.984375 50.109375 \r\nQ 14.75 43.453125 14.75 36.375 \r\nQ 14.75 27.25 17.40625 20.4375 \r\nQ 20.0625 13.625 25.671875 10.25 \r\nQ 31.296875 6.890625 37.84375 6.890625 \r\nQ 45.796875 6.890625 51.3125 11.46875 \r\nQ 56.84375 16.0625 58.796875 25.09375 \r\nz\r\n\" id=\"ArialMT-67\"/>\r\n        <path d=\"M 6.59375 0 \r\nL 6.59375 71.578125 \r\nL 15.375 71.578125 \r\nL 15.375 45.90625 \r\nQ 21.53125 53.03125 30.90625 53.03125 \r\nQ 36.671875 53.03125 40.921875 50.75 \r\nQ 45.171875 48.484375 47 44.484375 \r\nQ 48.828125 40.484375 48.828125 32.859375 \r\nL 48.828125 0 \r\nL 40.046875 0 \r\nL 40.046875 32.859375 \r\nQ 40.046875 39.453125 37.1875 42.453125 \r\nQ 34.328125 45.453125 29.109375 45.453125 \r\nQ 25.203125 45.453125 21.75 43.421875 \r\nQ 18.3125 41.40625 16.84375 37.9375 \r\nQ 15.375 34.46875 15.375 28.375 \r\nL 15.375 0 \r\nz\r\n\" id=\"ArialMT-104\"/>\r\n        <path d=\"M 6.59375 0 \r\nL 6.59375 51.859375 \r\nL 14.453125 51.859375 \r\nL 14.453125 44.578125 \r\nQ 16.890625 48.390625 20.9375 50.703125 \r\nQ 25 53.03125 30.171875 53.03125 \r\nQ 35.9375 53.03125 39.625 50.640625 \r\nQ 43.3125 48.25 44.828125 43.953125 \r\nQ 50.984375 53.03125 60.84375 53.03125 \r\nQ 68.5625 53.03125 72.703125 48.75 \r\nQ 76.859375 44.484375 76.859375 35.59375 \r\nL 76.859375 0 \r\nL 68.109375 0 \r\nL 68.109375 32.671875 \r\nQ 68.109375 37.9375 67.25 40.25 \r\nQ 66.40625 42.578125 64.15625 43.984375 \r\nQ 61.921875 45.40625 58.890625 45.40625 \r\nQ 53.421875 45.40625 49.796875 41.765625 \r\nQ 46.1875 38.140625 46.1875 30.125 \r\nL 46.1875 0 \r\nL 37.40625 0 \r\nL 37.40625 33.6875 \r\nQ 37.40625 39.546875 35.25 42.46875 \r\nQ 33.109375 45.40625 28.21875 45.40625 \r\nQ 24.515625 45.40625 21.359375 43.453125 \r\nQ 18.21875 41.5 16.796875 37.734375 \r\nQ 15.375 33.984375 15.375 26.90625 \r\nL 15.375 0 \r\nz\r\n\" id=\"ArialMT-109\"/>\r\n        <path d=\"M 42.09375 16.703125 \r\nL 51.171875 15.578125 \r\nQ 49.03125 7.625 43.21875 3.21875 \r\nQ 37.40625 -1.171875 28.375 -1.171875 \r\nQ 17 -1.171875 10.328125 5.828125 \r\nQ 3.65625 12.84375 3.65625 25.484375 \r\nQ 3.65625 38.578125 10.390625 45.796875 \r\nQ 17.140625 53.03125 27.875 53.03125 \r\nQ 38.28125 53.03125 44.875 45.953125 \r\nQ 51.46875 38.875 51.46875 26.03125 \r\nQ 51.46875 25.25 51.421875 23.6875 \r\nL 12.75 23.6875 \r\nQ 13.234375 15.140625 17.578125 10.59375 \r\nQ 21.921875 6.0625 28.421875 6.0625 \r\nQ 33.25 6.0625 36.671875 8.59375 \r\nQ 40.09375 11.140625 42.09375 16.703125 \r\nz\r\nM 13.234375 30.90625 \r\nL 42.1875 30.90625 \r\nQ 41.609375 37.453125 38.875 40.71875 \r\nQ 34.671875 45.796875 27.984375 45.796875 \r\nQ 21.921875 45.796875 17.796875 41.75 \r\nQ 13.671875 37.703125 13.234375 30.90625 \r\nz\r\n\" id=\"ArialMT-101\"/>\r\n       </defs>\r\n       <use xlink:href=\"#ArialMT-67\"/>\r\n       <use x=\"72.216797\" xlink:href=\"#ArialMT-104\"/>\r\n       <use x=\"127.832031\" xlink:href=\"#ArialMT-114\"/>\r\n       <use x=\"161.132812\" xlink:href=\"#ArialMT-111\"/>\r\n       <use x=\"216.748047\" xlink:href=\"#ArialMT-109\"/>\r\n       <use x=\"300.048828\" xlink:href=\"#ArialMT-101\"/>\r\n      </g>\r\n     </g>\r\n    </g>\r\n    <g id=\"ytick_3\">\r\n     <g id=\"text_11\">\r\n      <!-- Internet Explorer -->\r\n      <g style=\"fill:#262626;\" transform=\"translate(64.978125 57.998866)scale(0.11 -0.11)\">\r\n       <defs>\r\n        <path d=\"M 9.328125 0 \r\nL 9.328125 71.578125 \r\nL 18.796875 71.578125 \r\nL 18.796875 0 \r\nz\r\n\" id=\"ArialMT-73\"/>\r\n        <path id=\"ArialMT-32\"/>\r\n        <path d=\"M 7.90625 0 \r\nL 7.90625 71.578125 \r\nL 59.671875 71.578125 \r\nL 59.671875 63.140625 \r\nL 17.390625 63.140625 \r\nL 17.390625 41.21875 \r\nL 56.984375 41.21875 \r\nL 56.984375 32.8125 \r\nL 17.390625 32.8125 \r\nL 17.390625 8.453125 \r\nL 61.328125 8.453125 \r\nL 61.328125 0 \r\nz\r\n\" id=\"ArialMT-69\"/>\r\n        <path d=\"M 0.734375 0 \r\nL 19.671875 26.953125 \r\nL 2.15625 51.859375 \r\nL 13.140625 51.859375 \r\nL 21.09375 39.703125 \r\nQ 23.34375 36.234375 24.703125 33.890625 \r\nQ 26.859375 37.109375 28.65625 39.59375 \r\nL 37.40625 51.859375 \r\nL 47.90625 51.859375 \r\nL 29.984375 27.4375 \r\nL 49.265625 0 \r\nL 38.484375 0 \r\nL 27.828125 16.109375 \r\nL 25 20.453125 \r\nL 11.375 0 \r\nz\r\n\" id=\"ArialMT-120\"/>\r\n        <path d=\"M 6.59375 -19.875 \r\nL 6.59375 51.859375 \r\nL 14.59375 51.859375 \r\nL 14.59375 45.125 \r\nQ 17.4375 49.078125 21 51.046875 \r\nQ 24.5625 53.03125 29.640625 53.03125 \r\nQ 36.28125 53.03125 41.359375 49.609375 \r\nQ 46.4375 46.1875 49.015625 39.953125 \r\nQ 51.609375 33.734375 51.609375 26.3125 \r\nQ 51.609375 18.359375 48.75 11.984375 \r\nQ 45.90625 5.609375 40.453125 2.21875 \r\nQ 35.015625 -1.171875 29 -1.171875 \r\nQ 24.609375 -1.171875 21.109375 0.6875 \r\nQ 17.625 2.546875 15.375 5.375 \r\nL 15.375 -19.875 \r\nz\r\nM 14.546875 25.640625 \r\nQ 14.546875 15.625 18.59375 10.84375 \r\nQ 22.65625 6.0625 28.421875 6.0625 \r\nQ 34.28125 6.0625 38.453125 11.015625 \r\nQ 42.625 15.96875 42.625 26.375 \r\nQ 42.625 36.28125 38.546875 41.203125 \r\nQ 34.46875 46.140625 28.8125 46.140625 \r\nQ 23.1875 46.140625 18.859375 40.890625 \r\nQ 14.546875 35.640625 14.546875 25.640625 \r\nz\r\n\" id=\"ArialMT-112\"/>\r\n        <path d=\"M 6.390625 0 \r\nL 6.390625 71.578125 \r\nL 15.1875 71.578125 \r\nL 15.1875 0 \r\nz\r\n\" id=\"ArialMT-108\"/>\r\n       </defs>\r\n       <use xlink:href=\"#ArialMT-73\"/>\r\n       <use x=\"27.783203\" xlink:href=\"#ArialMT-110\"/>\r\n       <use x=\"83.398438\" xlink:href=\"#ArialMT-116\"/>\r\n       <use x=\"111.181641\" xlink:href=\"#ArialMT-101\"/>\r\n       <use x=\"166.796875\" xlink:href=\"#ArialMT-114\"/>\r\n       <use x=\"200.097656\" xlink:href=\"#ArialMT-110\"/>\r\n       <use x=\"255.712891\" xlink:href=\"#ArialMT-101\"/>\r\n       <use x=\"311.328125\" xlink:href=\"#ArialMT-116\"/>\r\n       <use x=\"339.111328\" xlink:href=\"#ArialMT-32\"/>\r\n       <use x=\"366.894531\" xlink:href=\"#ArialMT-69\"/>\r\n       <use x=\"433.59375\" xlink:href=\"#ArialMT-120\"/>\r\n       <use x=\"483.59375\" xlink:href=\"#ArialMT-112\"/>\r\n       <use x=\"539.208984\" xlink:href=\"#ArialMT-108\"/>\r\n       <use x=\"561.425781\" xlink:href=\"#ArialMT-111\"/>\r\n       <use x=\"617.041016\" xlink:href=\"#ArialMT-114\"/>\r\n       <use x=\"650.341797\" xlink:href=\"#ArialMT-101\"/>\r\n       <use x=\"705.957031\" xlink:href=\"#ArialMT-114\"/>\r\n      </g>\r\n     </g>\r\n    </g>\r\n    <g id=\"ytick_4\">\r\n     <g id=\"text_12\">\r\n      <!-- Firefox -->\r\n      <g style=\"fill:#262626;\" transform=\"translate(112.675156 76.743693)scale(0.11 -0.11)\">\r\n       <defs>\r\n        <path d=\"M 8.203125 0 \r\nL 8.203125 71.578125 \r\nL 56.5 71.578125 \r\nL 56.5 63.140625 \r\nL 17.671875 63.140625 \r\nL 17.671875 40.96875 \r\nL 51.265625 40.96875 \r\nL 51.265625 32.515625 \r\nL 17.671875 32.515625 \r\nL 17.671875 0 \r\nz\r\n\" id=\"ArialMT-70\"/>\r\n       </defs>\r\n       <use xlink:href=\"#ArialMT-70\"/>\r\n       <use x=\"61.083984\" xlink:href=\"#ArialMT-105\"/>\r\n       <use x=\"83.300781\" xlink:href=\"#ArialMT-114\"/>\r\n       <use x=\"116.601562\" xlink:href=\"#ArialMT-101\"/>\r\n       <use x=\"172.216797\" xlink:href=\"#ArialMT-102\"/>\r\n       <use x=\"200\" xlink:href=\"#ArialMT-111\"/>\r\n       <use x=\"255.615234\" xlink:href=\"#ArialMT-120\"/>\r\n      </g>\r\n     </g>\r\n    </g>\r\n    <g id=\"ytick_5\">\r\n     <g id=\"text_13\">\r\n      <!-- Coc Coc -->\r\n      <g style=\"fill:#262626;\" transform=\"translate(104.112344 95.488521)scale(0.11 -0.11)\">\r\n       <use xlink:href=\"#ArialMT-67\"/>\r\n       <use x=\"72.216797\" xlink:href=\"#ArialMT-111\"/>\r\n       <use x=\"127.832031\" xlink:href=\"#ArialMT-99\"/>\r\n       <use x=\"177.832031\" xlink:href=\"#ArialMT-32\"/>\r\n       <use x=\"205.615234\" xlink:href=\"#ArialMT-67\"/>\r\n       <use x=\"277.832031\" xlink:href=\"#ArialMT-111\"/>\r\n       <use x=\"333.447266\" xlink:href=\"#ArialMT-99\"/>\r\n      </g>\r\n     </g>\r\n    </g>\r\n    <g id=\"ytick_6\">\r\n     <g id=\"text_14\">\r\n      <!-- Safari (in-app) -->\r\n      <g style=\"fill:#262626;\" transform=\"translate(76.600313 114.30038)scale(0.11 -0.11)\">\r\n       <defs>\r\n        <path d=\"M 23.390625 -21.046875 \r\nQ 16.109375 -11.859375 11.078125 0.4375 \r\nQ 6.0625 12.75 6.0625 25.921875 \r\nQ 6.0625 37.546875 9.8125 48.1875 \r\nQ 14.203125 60.546875 23.390625 72.796875 \r\nL 29.6875 72.796875 \r\nQ 23.78125 62.640625 21.875 58.296875 \r\nQ 18.890625 51.5625 17.1875 44.234375 \r\nQ 15.09375 35.109375 15.09375 25.875 \r\nQ 15.09375 2.390625 29.6875 -21.046875 \r\nz\r\n\" id=\"ArialMT-40\"/>\r\n        <path d=\"M 3.171875 21.484375 \r\nL 3.171875 30.328125 \r\nL 30.171875 30.328125 \r\nL 30.171875 21.484375 \r\nz\r\n\" id=\"ArialMT-45\"/>\r\n        <path d=\"M 12.359375 -21.046875 \r\nL 6.0625 -21.046875 \r\nQ 20.65625 2.390625 20.65625 25.875 \r\nQ 20.65625 35.0625 18.5625 44.09375 \r\nQ 16.890625 51.421875 13.921875 58.15625 \r\nQ 12.015625 62.546875 6.0625 72.796875 \r\nL 12.359375 72.796875 \r\nQ 21.53125 60.546875 25.921875 48.1875 \r\nQ 29.6875 37.546875 29.6875 25.921875 \r\nQ 29.6875 12.75 24.625 0.4375 \r\nQ 19.578125 -11.859375 12.359375 -21.046875 \r\nz\r\n\" id=\"ArialMT-41\"/>\r\n       </defs>\r\n       <use xlink:href=\"#ArialMT-83\"/>\r\n       <use x=\"66.699219\" xlink:href=\"#ArialMT-97\"/>\r\n       <use x=\"122.314453\" xlink:href=\"#ArialMT-102\"/>\r\n       <use x=\"150.097656\" xlink:href=\"#ArialMT-97\"/>\r\n       <use x=\"205.712891\" xlink:href=\"#ArialMT-114\"/>\r\n       <use x=\"239.013672\" xlink:href=\"#ArialMT-105\"/>\r\n       <use x=\"261.230469\" xlink:href=\"#ArialMT-32\"/>\r\n       <use x=\"289.013672\" xlink:href=\"#ArialMT-40\"/>\r\n       <use x=\"322.314453\" xlink:href=\"#ArialMT-105\"/>\r\n       <use x=\"344.53125\" xlink:href=\"#ArialMT-110\"/>\r\n       <use x=\"400.146484\" xlink:href=\"#ArialMT-45\"/>\r\n       <use x=\"433.447266\" xlink:href=\"#ArialMT-97\"/>\r\n       <use x=\"489.0625\" xlink:href=\"#ArialMT-112\"/>\r\n       <use x=\"544.677734\" xlink:href=\"#ArialMT-112\"/>\r\n       <use x=\"600.292969\" xlink:href=\"#ArialMT-41\"/>\r\n      </g>\r\n     </g>\r\n    </g>\r\n    <g id=\"ytick_7\">\r\n     <g id=\"text_15\">\r\n      <!-- Opera -->\r\n      <g style=\"fill:#262626;\" transform=\"translate(115.720781 133.048645)scale(0.11 -0.11)\">\r\n       <defs>\r\n        <path d=\"M 4.828125 34.859375 \r\nQ 4.828125 52.6875 14.390625 62.765625 \r\nQ 23.96875 72.859375 39.109375 72.859375 \r\nQ 49.03125 72.859375 56.984375 68.109375 \r\nQ 64.9375 63.375 69.109375 54.90625 \r\nQ 73.296875 46.4375 73.296875 35.6875 \r\nQ 73.296875 24.8125 68.890625 16.21875 \r\nQ 64.5 7.625 56.4375 3.203125 \r\nQ 48.390625 -1.21875 39.0625 -1.21875 \r\nQ 28.953125 -1.21875 20.984375 3.65625 \r\nQ 13.03125 8.546875 8.921875 16.984375 \r\nQ 4.828125 25.4375 4.828125 34.859375 \r\nz\r\nM 14.59375 34.71875 \r\nQ 14.59375 21.78125 21.546875 14.328125 \r\nQ 28.515625 6.890625 39.015625 6.890625 \r\nQ 49.703125 6.890625 56.609375 14.40625 \r\nQ 63.53125 21.921875 63.53125 35.75 \r\nQ 63.53125 44.484375 60.578125 51 \r\nQ 57.625 57.515625 51.921875 61.109375 \r\nQ 46.234375 64.703125 39.15625 64.703125 \r\nQ 29.109375 64.703125 21.84375 57.78125 \r\nQ 14.59375 50.875 14.59375 34.71875 \r\nz\r\n\" id=\"ArialMT-79\"/>\r\n       </defs>\r\n       <use xlink:href=\"#ArialMT-79\"/>\r\n       <use x=\"77.783203\" xlink:href=\"#ArialMT-112\"/>\r\n       <use x=\"133.398438\" xlink:href=\"#ArialMT-101\"/>\r\n       <use x=\"189.013672\" xlink:href=\"#ArialMT-114\"/>\r\n       <use x=\"222.314453\" xlink:href=\"#ArialMT-97\"/>\r\n      </g>\r\n     </g>\r\n    </g>\r\n    <g id=\"ytick_8\">\r\n     <g id=\"text_16\">\r\n      <!-- Edge -->\r\n      <g style=\"fill:#262626;\" transform=\"translate(120.602031 151.723004)scale(0.11 -0.11)\">\r\n       <defs>\r\n        <path d=\"M 40.234375 0 \r\nL 40.234375 6.546875 \r\nQ 35.296875 -1.171875 25.734375 -1.171875 \r\nQ 19.53125 -1.171875 14.328125 2.25 \r\nQ 9.125 5.671875 6.265625 11.796875 \r\nQ 3.421875 17.921875 3.421875 25.875 \r\nQ 3.421875 33.640625 6 39.96875 \r\nQ 8.59375 46.296875 13.765625 49.65625 \r\nQ 18.953125 53.03125 25.34375 53.03125 \r\nQ 30.03125 53.03125 33.6875 51.046875 \r\nQ 37.359375 49.078125 39.65625 45.90625 \r\nL 39.65625 71.578125 \r\nL 48.390625 71.578125 \r\nL 48.390625 0 \r\nz\r\nM 12.453125 25.875 \r\nQ 12.453125 15.921875 16.640625 10.984375 \r\nQ 20.84375 6.0625 26.5625 6.0625 \r\nQ 32.328125 6.0625 36.34375 10.765625 \r\nQ 40.375 15.484375 40.375 25.140625 \r\nQ 40.375 35.796875 36.265625 40.765625 \r\nQ 32.171875 45.75 26.171875 45.75 \r\nQ 20.3125 45.75 16.375 40.96875 \r\nQ 12.453125 36.1875 12.453125 25.875 \r\nz\r\n\" id=\"ArialMT-100\"/>\r\n        <path d=\"M 4.984375 -4.296875 \r\nL 13.53125 -5.5625 \r\nQ 14.0625 -9.515625 16.5 -11.328125 \r\nQ 19.78125 -13.765625 25.4375 -13.765625 \r\nQ 31.546875 -13.765625 34.859375 -11.328125 \r\nQ 38.1875 -8.890625 39.359375 -4.5 \r\nQ 40.046875 -1.8125 39.984375 6.78125 \r\nQ 34.234375 0 25.640625 0 \r\nQ 14.9375 0 9.078125 7.71875 \r\nQ 3.21875 15.4375 3.21875 26.21875 \r\nQ 3.21875 33.640625 5.90625 39.90625 \r\nQ 8.59375 46.1875 13.6875 49.609375 \r\nQ 18.796875 53.03125 25.6875 53.03125 \r\nQ 34.859375 53.03125 40.828125 45.609375 \r\nL 40.828125 51.859375 \r\nL 48.921875 51.859375 \r\nL 48.921875 7.03125 \r\nQ 48.921875 -5.078125 46.453125 -10.125 \r\nQ 44 -15.1875 38.640625 -18.109375 \r\nQ 33.296875 -21.046875 25.484375 -21.046875 \r\nQ 16.21875 -21.046875 10.5 -16.875 \r\nQ 4.78125 -12.703125 4.984375 -4.296875 \r\nz\r\nM 12.25 26.859375 \r\nQ 12.25 16.65625 16.296875 11.96875 \r\nQ 20.359375 7.28125 26.46875 7.28125 \r\nQ 32.515625 7.28125 36.609375 11.9375 \r\nQ 40.71875 16.609375 40.71875 26.5625 \r\nQ 40.71875 36.078125 36.5 40.90625 \r\nQ 32.28125 45.75 26.3125 45.75 \r\nQ 20.453125 45.75 16.34375 40.984375 \r\nQ 12.25 36.234375 12.25 26.859375 \r\nz\r\n\" id=\"ArialMT-103\"/>\r\n       </defs>\r\n       <use xlink:href=\"#ArialMT-69\"/>\r\n       <use x=\"66.699219\" xlink:href=\"#ArialMT-100\"/>\r\n       <use x=\"122.314453\" xlink:href=\"#ArialMT-103\"/>\r\n       <use x=\"177.929688\" xlink:href=\"#ArialMT-101\"/>\r\n      </g>\r\n     </g>\r\n    </g>\r\n    <g id=\"ytick_9\">\r\n     <g id=\"text_17\">\r\n      <!-- Android Webview -->\r\n      <g style=\"fill:#262626;\" transform=\"translate(60.892656 170.467831)scale(0.11 -0.11)\">\r\n       <defs>\r\n        <path d=\"M -0.140625 0 \r\nL 27.34375 71.578125 \r\nL 37.546875 71.578125 \r\nL 66.84375 0 \r\nL 56.0625 0 \r\nL 47.703125 21.6875 \r\nL 17.78125 21.6875 \r\nL 9.90625 0 \r\nz\r\nM 20.515625 29.390625 \r\nL 44.78125 29.390625 \r\nL 37.3125 49.21875 \r\nQ 33.890625 58.25 32.234375 64.0625 \r\nQ 30.859375 57.171875 28.375 50.390625 \r\nz\r\n\" id=\"ArialMT-65\"/>\r\n        <path d=\"M 20.21875 0 \r\nL 1.21875 71.578125 \r\nL 10.9375 71.578125 \r\nL 21.828125 24.65625 \r\nQ 23.578125 17.28125 24.859375 10.015625 \r\nQ 27.59375 21.484375 28.078125 23.25 \r\nL 41.703125 71.578125 \r\nL 53.125 71.578125 \r\nL 63.375 35.359375 \r\nQ 67.234375 21.875 68.953125 10.015625 \r\nQ 70.3125 16.796875 72.515625 25.59375 \r\nL 83.734375 71.578125 \r\nL 93.265625 71.578125 \r\nL 73.640625 0 \r\nL 64.5 0 \r\nL 49.421875 54.546875 \r\nQ 47.515625 61.375 47.171875 62.9375 \r\nQ 46.046875 58.015625 45.0625 54.546875 \r\nL 29.890625 0 \r\nz\r\n\" id=\"ArialMT-87\"/>\r\n        <path d=\"M 14.703125 0 \r\nL 6.546875 0 \r\nL 6.546875 71.578125 \r\nL 15.328125 71.578125 \r\nL 15.328125 46.046875 \r\nQ 20.90625 53.03125 29.546875 53.03125 \r\nQ 34.328125 53.03125 38.59375 51.09375 \r\nQ 42.875 49.171875 45.625 45.671875 \r\nQ 48.390625 42.1875 49.953125 37.25 \r\nQ 51.515625 32.328125 51.515625 26.703125 \r\nQ 51.515625 13.375 44.921875 6.09375 \r\nQ 38.328125 -1.171875 29.109375 -1.171875 \r\nQ 19.921875 -1.171875 14.703125 6.5 \r\nz\r\nM 14.59375 26.3125 \r\nQ 14.59375 17 17.140625 12.84375 \r\nQ 21.296875 6.0625 28.375 6.0625 \r\nQ 34.125 6.0625 38.328125 11.0625 \r\nQ 42.53125 16.0625 42.53125 25.984375 \r\nQ 42.53125 36.140625 38.5 40.96875 \r\nQ 34.46875 45.796875 28.765625 45.796875 \r\nQ 23 45.796875 18.796875 40.796875 \r\nQ 14.59375 35.796875 14.59375 26.3125 \r\nz\r\n\" id=\"ArialMT-98\"/>\r\n        <path d=\"M 21 0 \r\nL 1.265625 51.859375 \r\nL 10.546875 51.859375 \r\nL 21.6875 20.796875 \r\nQ 23.484375 15.765625 25 10.359375 \r\nQ 26.171875 14.453125 28.265625 20.21875 \r\nL 39.796875 51.859375 \r\nL 48.828125 51.859375 \r\nL 29.203125 0 \r\nz\r\n\" id=\"ArialMT-118\"/>\r\n        <path d=\"M 16.15625 0 \r\nL 0.296875 51.859375 \r\nL 9.375 51.859375 \r\nL 17.625 21.921875 \r\nL 20.703125 10.796875 \r\nQ 20.90625 11.625 23.390625 21.484375 \r\nL 31.640625 51.859375 \r\nL 40.671875 51.859375 \r\nL 48.4375 21.78125 \r\nL 51.03125 11.859375 \r\nL 54 21.875 \r\nL 62.890625 51.859375 \r\nL 71.4375 51.859375 \r\nL 55.21875 0 \r\nL 46.09375 0 \r\nL 37.84375 31.0625 \r\nL 35.84375 39.890625 \r\nL 25.34375 0 \r\nz\r\n\" id=\"ArialMT-119\"/>\r\n       </defs>\r\n       <use xlink:href=\"#ArialMT-65\"/>\r\n       <use x=\"66.699219\" xlink:href=\"#ArialMT-110\"/>\r\n       <use x=\"122.314453\" xlink:href=\"#ArialMT-100\"/>\r\n       <use x=\"177.929688\" xlink:href=\"#ArialMT-114\"/>\r\n       <use x=\"211.230469\" xlink:href=\"#ArialMT-111\"/>\r\n       <use x=\"266.845703\" xlink:href=\"#ArialMT-105\"/>\r\n       <use x=\"289.0625\" xlink:href=\"#ArialMT-100\"/>\r\n       <use x=\"344.677734\" xlink:href=\"#ArialMT-32\"/>\r\n       <use x=\"372.460938\" xlink:href=\"#ArialMT-87\"/>\r\n       <use x=\"465.095703\" xlink:href=\"#ArialMT-101\"/>\r\n       <use x=\"520.710938\" xlink:href=\"#ArialMT-98\"/>\r\n       <use x=\"576.326172\" xlink:href=\"#ArialMT-118\"/>\r\n       <use x=\"626.326172\" xlink:href=\"#ArialMT-105\"/>\r\n       <use x=\"648.542969\" xlink:href=\"#ArialMT-101\"/>\r\n       <use x=\"704.158203\" xlink:href=\"#ArialMT-119\"/>\r\n      </g>\r\n     </g>\r\n    </g>\r\n    <g id=\"ytick_10\">\r\n     <g id=\"text_18\">\r\n      <!-- Opera Mini -->\r\n      <g style=\"fill:#262626;\" transform=\"translate(92.497031 189.283128)scale(0.11 -0.11)\">\r\n       <defs>\r\n        <path d=\"M 7.421875 0 \r\nL 7.421875 71.578125 \r\nL 21.6875 71.578125 \r\nL 38.625 20.90625 \r\nQ 40.96875 13.8125 42.046875 10.296875 \r\nQ 43.265625 14.203125 45.84375 21.78125 \r\nL 62.984375 71.578125 \r\nL 75.734375 71.578125 \r\nL 75.734375 0 \r\nL 66.609375 0 \r\nL 66.609375 59.90625 \r\nL 45.796875 0 \r\nL 37.25 0 \r\nL 16.546875 60.9375 \r\nL 16.546875 0 \r\nz\r\n\" id=\"ArialMT-77\"/>\r\n       </defs>\r\n       <use xlink:href=\"#ArialMT-79\"/>\r\n       <use x=\"77.783203\" xlink:href=\"#ArialMT-112\"/>\r\n       <use x=\"133.398438\" xlink:href=\"#ArialMT-101\"/>\r\n       <use x=\"189.013672\" xlink:href=\"#ArialMT-114\"/>\r\n       <use x=\"222.314453\" xlink:href=\"#ArialMT-97\"/>\r\n       <use x=\"277.929688\" xlink:href=\"#ArialMT-32\"/>\r\n       <use x=\"305.712891\" xlink:href=\"#ArialMT-77\"/>\r\n       <use x=\"389.013672\" xlink:href=\"#ArialMT-105\"/>\r\n       <use x=\"411.230469\" xlink:href=\"#ArialMT-110\"/>\r\n       <use x=\"466.845703\" xlink:href=\"#ArialMT-105\"/>\r\n      </g>\r\n     </g>\r\n    </g>\r\n    <g id=\"ytick_11\">\r\n     <g id=\"text_19\">\r\n      <!-- YaBrowser -->\r\n      <g style=\"fill:#262626;\" transform=\"translate(93.306563 207.957487)scale(0.11 -0.11)\">\r\n       <defs>\r\n        <path d=\"M 27.875 0 \r\nL 27.875 30.328125 \r\nL 0.296875 71.578125 \r\nL 11.8125 71.578125 \r\nL 25.921875 50 \r\nQ 29.828125 43.953125 33.203125 37.890625 \r\nQ 36.421875 43.5 41.015625 50.53125 \r\nL 54.890625 71.578125 \r\nL 65.921875 71.578125 \r\nL 37.359375 30.328125 \r\nL 37.359375 0 \r\nz\r\n\" id=\"ArialMT-89\"/>\r\n        <path d=\"M 7.328125 0 \r\nL 7.328125 71.578125 \r\nL 34.1875 71.578125 \r\nQ 42.390625 71.578125 47.34375 69.40625 \r\nQ 52.296875 67.234375 55.09375 62.71875 \r\nQ 57.90625 58.203125 57.90625 53.265625 \r\nQ 57.90625 48.6875 55.421875 44.625 \r\nQ 52.9375 40.578125 47.90625 38.09375 \r\nQ 54.390625 36.1875 57.875 31.59375 \r\nQ 61.375 27 61.375 20.75 \r\nQ 61.375 15.71875 59.25 11.390625 \r\nQ 57.125 7.078125 54 4.734375 \r\nQ 50.875 2.390625 46.15625 1.1875 \r\nQ 41.453125 0 34.625 0 \r\nz\r\nM 16.796875 41.5 \r\nL 32.28125 41.5 \r\nQ 38.578125 41.5 41.3125 42.328125 \r\nQ 44.921875 43.40625 46.75 45.890625 \r\nQ 48.578125 48.390625 48.578125 52.15625 \r\nQ 48.578125 55.71875 46.875 58.421875 \r\nQ 45.171875 61.140625 41.984375 62.140625 \r\nQ 38.8125 63.140625 31.109375 63.140625 \r\nL 16.796875 63.140625 \r\nz\r\nM 16.796875 8.453125 \r\nL 34.625 8.453125 \r\nQ 39.203125 8.453125 41.0625 8.796875 \r\nQ 44.34375 9.375 46.53125 10.734375 \r\nQ 48.734375 12.109375 50.140625 14.71875 \r\nQ 51.5625 17.328125 51.5625 20.75 \r\nQ 51.5625 24.75 49.515625 27.703125 \r\nQ 47.46875 30.671875 43.828125 31.859375 \r\nQ 40.1875 33.0625 33.34375 33.0625 \r\nL 16.796875 33.0625 \r\nz\r\n\" id=\"ArialMT-66\"/>\r\n        <path d=\"M 3.078125 15.484375 \r\nL 11.765625 16.84375 \r\nQ 12.5 11.625 15.84375 8.84375 \r\nQ 19.1875 6.0625 25.203125 6.0625 \r\nQ 31.25 6.0625 34.171875 8.515625 \r\nQ 37.109375 10.984375 37.109375 14.3125 \r\nQ 37.109375 17.28125 34.515625 19 \r\nQ 32.71875 20.171875 25.53125 21.96875 \r\nQ 15.875 24.421875 12.140625 26.203125 \r\nQ 8.40625 27.984375 6.46875 31.125 \r\nQ 4.546875 34.28125 4.546875 38.09375 \r\nQ 4.546875 41.546875 6.125 44.5 \r\nQ 7.71875 47.46875 10.453125 49.421875 \r\nQ 12.5 50.921875 16.03125 51.96875 \r\nQ 19.578125 53.03125 23.640625 53.03125 \r\nQ 29.734375 53.03125 34.34375 51.265625 \r\nQ 38.96875 49.515625 41.15625 46.5 \r\nQ 43.359375 43.5 44.1875 38.484375 \r\nL 35.59375 37.3125 \r\nQ 35.015625 41.3125 32.203125 43.546875 \r\nQ 29.390625 45.796875 24.265625 45.796875 \r\nQ 18.21875 45.796875 15.625 43.796875 \r\nQ 13.03125 41.796875 13.03125 39.109375 \r\nQ 13.03125 37.40625 14.109375 36.03125 \r\nQ 15.1875 34.625 17.484375 33.6875 \r\nQ 18.796875 33.203125 25.25 31.453125 \r\nQ 34.578125 28.953125 38.25 27.359375 \r\nQ 41.9375 25.78125 44.03125 22.75 \r\nQ 46.140625 19.734375 46.140625 15.234375 \r\nQ 46.140625 10.84375 43.578125 6.953125 \r\nQ 41.015625 3.078125 36.171875 0.953125 \r\nQ 31.34375 -1.171875 25.25 -1.171875 \r\nQ 15.140625 -1.171875 9.84375 3.03125 \r\nQ 4.546875 7.234375 3.078125 15.484375 \r\nz\r\n\" id=\"ArialMT-115\"/>\r\n       </defs>\r\n       <use xlink:href=\"#ArialMT-89\"/>\r\n       <use x=\"59.324219\" xlink:href=\"#ArialMT-97\"/>\r\n       <use x=\"114.939453\" xlink:href=\"#ArialMT-66\"/>\r\n       <use x=\"181.638672\" xlink:href=\"#ArialMT-114\"/>\r\n       <use x=\"214.939453\" xlink:href=\"#ArialMT-111\"/>\r\n       <use x=\"270.554688\" xlink:href=\"#ArialMT-119\"/>\r\n       <use x=\"342.771484\" xlink:href=\"#ArialMT-115\"/>\r\n       <use x=\"392.771484\" xlink:href=\"#ArialMT-101\"/>\r\n       <use x=\"448.386719\" xlink:href=\"#ArialMT-114\"/>\r\n      </g>\r\n     </g>\r\n    </g>\r\n    <g id=\"ytick_12\">\r\n     <g id=\"text_20\">\r\n      <!-- Mozilla Compatible Agent -->\r\n      <g style=\"fill:#262626;\" transform=\"translate(22.174375 226.769345)scale(0.11 -0.11)\">\r\n       <defs>\r\n        <path d=\"M 1.953125 0 \r\nL 1.953125 7.125 \r\nL 34.96875 45.015625 \r\nQ 29.34375 44.734375 25.046875 44.734375 \r\nL 3.90625 44.734375 \r\nL 3.90625 51.859375 \r\nL 46.296875 51.859375 \r\nL 46.296875 46.046875 \r\nL 18.21875 13.140625 \r\nL 12.796875 7.125 \r\nQ 18.703125 7.5625 23.875 7.5625 \r\nL 47.859375 7.5625 \r\nL 47.859375 0 \r\nz\r\n\" id=\"ArialMT-122\"/>\r\n       </defs>\r\n       <use xlink:href=\"#ArialMT-77\"/>\r\n       <use x=\"83.300781\" xlink:href=\"#ArialMT-111\"/>\r\n       <use x=\"138.916016\" xlink:href=\"#ArialMT-122\"/>\r\n       <use x=\"188.916016\" xlink:href=\"#ArialMT-105\"/>\r\n       <use x=\"211.132812\" xlink:href=\"#ArialMT-108\"/>\r\n       <use x=\"233.349609\" xlink:href=\"#ArialMT-108\"/>\r\n       <use x=\"255.566406\" xlink:href=\"#ArialMT-97\"/>\r\n       <use x=\"311.181641\" xlink:href=\"#ArialMT-32\"/>\r\n       <use x=\"338.964844\" xlink:href=\"#ArialMT-67\"/>\r\n       <use x=\"411.181641\" xlink:href=\"#ArialMT-111\"/>\r\n       <use x=\"466.796875\" xlink:href=\"#ArialMT-109\"/>\r\n       <use x=\"550.097656\" xlink:href=\"#ArialMT-112\"/>\r\n       <use x=\"605.712891\" xlink:href=\"#ArialMT-97\"/>\r\n       <use x=\"661.328125\" xlink:href=\"#ArialMT-116\"/>\r\n       <use x=\"689.111328\" xlink:href=\"#ArialMT-105\"/>\r\n       <use x=\"711.328125\" xlink:href=\"#ArialMT-98\"/>\r\n       <use x=\"766.943359\" xlink:href=\"#ArialMT-108\"/>\r\n       <use x=\"789.160156\" xlink:href=\"#ArialMT-101\"/>\r\n       <use x=\"844.775391\" xlink:href=\"#ArialMT-32\"/>\r\n       <use x=\"867.058594\" xlink:href=\"#ArialMT-65\"/>\r\n       <use x=\"933.757812\" xlink:href=\"#ArialMT-103\"/>\r\n       <use x=\"989.373047\" xlink:href=\"#ArialMT-101\"/>\r\n       <use x=\"1044.988281\" xlink:href=\"#ArialMT-110\"/>\r\n       <use x=\"1100.603516\" xlink:href=\"#ArialMT-116\"/>\r\n      </g>\r\n     </g>\r\n    </g>\r\n    <g id=\"ytick_13\">\r\n     <g id=\"text_21\">\r\n      <!-- Nintendo Browser -->\r\n      <g style=\"fill:#262626;\" transform=\"translate(58.864531 245.447142)scale(0.11 -0.11)\">\r\n       <defs>\r\n        <path d=\"M 7.625 0 \r\nL 7.625 71.578125 \r\nL 17.328125 71.578125 \r\nL 54.9375 15.375 \r\nL 54.9375 71.578125 \r\nL 64.015625 71.578125 \r\nL 64.015625 0 \r\nL 54.296875 0 \r\nL 16.703125 56.25 \r\nL 16.703125 0 \r\nz\r\n\" id=\"ArialMT-78\"/>\r\n       </defs>\r\n       <use xlink:href=\"#ArialMT-78\"/>\r\n       <use x=\"72.216797\" xlink:href=\"#ArialMT-105\"/>\r\n       <use x=\"94.433594\" xlink:href=\"#ArialMT-110\"/>\r\n       <use x=\"150.048828\" xlink:href=\"#ArialMT-116\"/>\r\n       <use x=\"177.832031\" xlink:href=\"#ArialMT-101\"/>\r\n       <use x=\"233.447266\" xlink:href=\"#ArialMT-110\"/>\r\n       <use x=\"289.0625\" xlink:href=\"#ArialMT-100\"/>\r\n       <use x=\"344.677734\" xlink:href=\"#ArialMT-111\"/>\r\n       <use x=\"400.292969\" xlink:href=\"#ArialMT-32\"/>\r\n       <use x=\"428.076172\" xlink:href=\"#ArialMT-66\"/>\r\n       <use x=\"494.775391\" xlink:href=\"#ArialMT-114\"/>\r\n       <use x=\"528.076172\" xlink:href=\"#ArialMT-111\"/>\r\n       <use x=\"583.691406\" xlink:href=\"#ArialMT-119\"/>\r\n       <use x=\"655.908203\" xlink:href=\"#ArialMT-115\"/>\r\n       <use x=\"705.908203\" xlink:href=\"#ArialMT-101\"/>\r\n       <use x=\"761.523438\" xlink:href=\"#ArialMT-114\"/>\r\n      </g>\r\n     </g>\r\n    </g>\r\n    <g id=\"ytick_14\">\r\n     <g id=\"text_22\">\r\n      <!-- UC Browser -->\r\n      <g style=\"fill:#262626;\" transform=\"translate(87.005625 264.191969)scale(0.11 -0.11)\">\r\n       <defs>\r\n        <path d=\"M 54.6875 71.578125 \r\nL 64.15625 71.578125 \r\nL 64.15625 30.21875 \r\nQ 64.15625 19.4375 61.71875 13.078125 \r\nQ 59.28125 6.734375 52.90625 2.75 \r\nQ 46.53125 -1.21875 36.1875 -1.21875 \r\nQ 26.125 -1.21875 19.71875 2.25 \r\nQ 13.328125 5.71875 10.59375 12.28125 \r\nQ 7.859375 18.84375 7.859375 30.21875 \r\nL 7.859375 71.578125 \r\nL 17.328125 71.578125 \r\nL 17.328125 30.28125 \r\nQ 17.328125 20.953125 19.0625 16.53125 \r\nQ 20.796875 12.109375 25.015625 9.71875 \r\nQ 29.25 7.328125 35.359375 7.328125 \r\nQ 45.796875 7.328125 50.234375 12.0625 \r\nQ 54.6875 16.796875 54.6875 30.28125 \r\nz\r\n\" id=\"ArialMT-85\"/>\r\n       </defs>\r\n       <use xlink:href=\"#ArialMT-85\"/>\r\n       <use x=\"72.216797\" xlink:href=\"#ArialMT-67\"/>\r\n       <use x=\"144.433594\" xlink:href=\"#ArialMT-32\"/>\r\n       <use x=\"172.216797\" xlink:href=\"#ArialMT-66\"/>\r\n       <use x=\"238.916016\" xlink:href=\"#ArialMT-114\"/>\r\n       <use x=\"272.216797\" xlink:href=\"#ArialMT-111\"/>\r\n       <use x=\"327.832031\" xlink:href=\"#ArialMT-119\"/>\r\n       <use x=\"400.048828\" xlink:href=\"#ArialMT-115\"/>\r\n       <use x=\"450.048828\" xlink:href=\"#ArialMT-101\"/>\r\n       <use x=\"505.664062\" xlink:href=\"#ArialMT-114\"/>\r\n      </g>\r\n     </g>\r\n    </g>\r\n    <g id=\"ytick_15\">\r\n     <g id=\"text_23\">\r\n      <!-- BlackBerry -->\r\n      <g style=\"fill:#262626;\" transform=\"translate(93.112344 282.936797)scale(0.11 -0.11)\">\r\n       <defs>\r\n        <path d=\"M 6.640625 0 \r\nL 6.640625 71.578125 \r\nL 15.4375 71.578125 \r\nL 15.4375 30.765625 \r\nL 36.234375 51.859375 \r\nL 47.609375 51.859375 \r\nL 27.78125 32.625 \r\nL 49.609375 0 \r\nL 38.765625 0 \r\nL 21.625 26.515625 \r\nL 15.4375 20.5625 \r\nL 15.4375 0 \r\nz\r\n\" id=\"ArialMT-107\"/>\r\n        <path d=\"M 6.203125 -19.96875 \r\nL 5.21875 -11.71875 \r\nQ 8.109375 -12.5 10.25 -12.5 \r\nQ 13.1875 -12.5 14.9375 -11.515625 \r\nQ 16.703125 -10.546875 17.828125 -8.796875 \r\nQ 18.65625 -7.46875 20.515625 -2.25 \r\nQ 20.75 -1.515625 21.296875 -0.09375 \r\nL 1.609375 51.859375 \r\nL 11.078125 51.859375 \r\nL 21.875 21.828125 \r\nQ 23.96875 16.109375 25.640625 9.8125 \r\nQ 27.15625 15.875 29.25 21.625 \r\nL 40.328125 51.859375 \r\nL 49.125 51.859375 \r\nL 29.390625 -0.875 \r\nQ 26.21875 -9.421875 24.46875 -12.640625 \r\nQ 22.125 -17 19.09375 -19.015625 \r\nQ 16.0625 -21.046875 11.859375 -21.046875 \r\nQ 9.328125 -21.046875 6.203125 -19.96875 \r\nz\r\n\" id=\"ArialMT-121\"/>\r\n       </defs>\r\n       <use xlink:href=\"#ArialMT-66\"/>\r\n       <use x=\"66.699219\" xlink:href=\"#ArialMT-108\"/>\r\n       <use x=\"88.916016\" xlink:href=\"#ArialMT-97\"/>\r\n       <use x=\"144.53125\" xlink:href=\"#ArialMT-99\"/>\r\n       <use x=\"194.53125\" xlink:href=\"#ArialMT-107\"/>\r\n       <use x=\"244.53125\" xlink:href=\"#ArialMT-66\"/>\r\n       <use x=\"311.230469\" xlink:href=\"#ArialMT-101\"/>\r\n       <use x=\"366.845703\" xlink:href=\"#ArialMT-114\"/>\r\n       <use x=\"400.146484\" xlink:href=\"#ArialMT-114\"/>\r\n       <use x=\"433.447266\" xlink:href=\"#ArialMT-121\"/>\r\n      </g>\r\n     </g>\r\n    </g>\r\n    <g id=\"ytick_16\">\r\n     <g id=\"text_24\">\r\n      <!-- 0 -->\r\n      <g style=\"fill:#262626;\" transform=\"translate(140.173438 301.681624)scale(0.11 -0.11)\">\r\n       <use xlink:href=\"#ArialMT-48\"/>\r\n      </g>\r\n     </g>\r\n    </g>\r\n    <g id=\"ytick_17\">\r\n     <g id=\"text_25\">\r\n      <!-- Android Browser -->\r\n      <g style=\"fill:#262626;\" transform=\"translate(64.981562 320.426452)scale(0.11 -0.11)\">\r\n       <use xlink:href=\"#ArialMT-65\"/>\r\n       <use x=\"66.699219\" xlink:href=\"#ArialMT-110\"/>\r\n       <use x=\"122.314453\" xlink:href=\"#ArialMT-100\"/>\r\n       <use x=\"177.929688\" xlink:href=\"#ArialMT-114\"/>\r\n       <use x=\"211.230469\" xlink:href=\"#ArialMT-111\"/>\r\n       <use x=\"266.845703\" xlink:href=\"#ArialMT-105\"/>\r\n       <use x=\"289.0625\" xlink:href=\"#ArialMT-100\"/>\r\n       <use x=\"344.677734\" xlink:href=\"#ArialMT-32\"/>\r\n       <use x=\"372.460938\" xlink:href=\"#ArialMT-66\"/>\r\n       <use x=\"439.160156\" xlink:href=\"#ArialMT-114\"/>\r\n       <use x=\"472.460938\" xlink:href=\"#ArialMT-111\"/>\r\n       <use x=\"528.076172\" xlink:href=\"#ArialMT-119\"/>\r\n       <use x=\"600.292969\" xlink:href=\"#ArialMT-115\"/>\r\n       <use x=\"650.292969\" xlink:href=\"#ArialMT-101\"/>\r\n       <use x=\"705.908203\" xlink:href=\"#ArialMT-114\"/>\r\n      </g>\r\n     </g>\r\n    </g>\r\n    <g id=\"ytick_18\">\r\n     <g id=\"text_26\">\r\n      <!-- Nokia Browser -->\r\n      <g style=\"fill:#262626;\" transform=\"translate(74.771563 339.17128)scale(0.11 -0.11)\">\r\n       <use xlink:href=\"#ArialMT-78\"/>\r\n       <use x=\"72.216797\" xlink:href=\"#ArialMT-111\"/>\r\n       <use x=\"127.832031\" xlink:href=\"#ArialMT-107\"/>\r\n       <use x=\"177.832031\" xlink:href=\"#ArialMT-105\"/>\r\n       <use x=\"200.048828\" xlink:href=\"#ArialMT-97\"/>\r\n       <use x=\"255.664062\" xlink:href=\"#ArialMT-32\"/>\r\n       <use x=\"283.447266\" xlink:href=\"#ArialMT-66\"/>\r\n       <use x=\"350.146484\" xlink:href=\"#ArialMT-114\"/>\r\n       <use x=\"383.447266\" xlink:href=\"#ArialMT-111\"/>\r\n       <use x=\"439.0625\" xlink:href=\"#ArialMT-119\"/>\r\n       <use x=\"511.279297\" xlink:href=\"#ArialMT-115\"/>\r\n       <use x=\"561.279297\" xlink:href=\"#ArialMT-101\"/>\r\n       <use x=\"616.894531\" xlink:href=\"#ArialMT-114\"/>\r\n      </g>\r\n     </g>\r\n    </g>\r\n    <g id=\"ytick_19\">\r\n     <g id=\"text_27\">\r\n      <!-- Amazon Silk -->\r\n      <g style=\"fill:#262626;\" transform=\"translate(85.157969 357.916107)scale(0.11 -0.11)\">\r\n       <use xlink:href=\"#ArialMT-65\"/>\r\n       <use x=\"66.699219\" xlink:href=\"#ArialMT-109\"/>\r\n       <use x=\"150\" xlink:href=\"#ArialMT-97\"/>\r\n       <use x=\"205.615234\" xlink:href=\"#ArialMT-122\"/>\r\n       <use x=\"255.615234\" xlink:href=\"#ArialMT-111\"/>\r\n       <use x=\"311.230469\" xlink:href=\"#ArialMT-110\"/>\r\n       <use x=\"366.845703\" xlink:href=\"#ArialMT-32\"/>\r\n       <use x=\"394.628906\" xlink:href=\"#ArialMT-83\"/>\r\n       <use x=\"461.328125\" xlink:href=\"#ArialMT-105\"/>\r\n       <use x=\"483.544922\" xlink:href=\"#ArialMT-108\"/>\r\n       <use x=\"505.761719\" xlink:href=\"#ArialMT-107\"/>\r\n      </g>\r\n     </g>\r\n    </g>\r\n    <g id=\"ytick_20\">\r\n     <g id=\"text_28\">\r\n      <!-- Maxthon -->\r\n      <g style=\"fill:#262626;\" transform=\"translate(104.10375 376.660935)scale(0.11 -0.11)\">\r\n       <use xlink:href=\"#ArialMT-77\"/>\r\n       <use x=\"83.300781\" xlink:href=\"#ArialMT-97\"/>\r\n       <use x=\"138.916016\" xlink:href=\"#ArialMT-120\"/>\r\n       <use x=\"188.916016\" xlink:href=\"#ArialMT-116\"/>\r\n       <use x=\"216.699219\" xlink:href=\"#ArialMT-104\"/>\r\n       <use x=\"272.314453\" xlink:href=\"#ArialMT-111\"/>\r\n       <use x=\"327.929688\" xlink:href=\"#ArialMT-110\"/>\r\n      </g>\r\n     </g>\r\n    </g>\r\n    <g id=\"ytick_21\">\r\n     <g id=\"text_29\">\r\n      <!-- MRCHROME -->\r\n      <g style=\"fill:#262626;\" transform=\"translate(80.295625 395.405762)scale(0.11 -0.11)\">\r\n       <defs>\r\n        <path d=\"M 7.859375 0 \r\nL 7.859375 71.578125 \r\nL 39.59375 71.578125 \r\nQ 49.171875 71.578125 54.140625 69.640625 \r\nQ 59.125 67.71875 62.109375 62.828125 \r\nQ 65.09375 57.953125 65.09375 52.046875 \r\nQ 65.09375 44.4375 60.15625 39.203125 \r\nQ 55.21875 33.984375 44.921875 32.5625 \r\nQ 48.6875 30.765625 50.640625 29 \r\nQ 54.78125 25.203125 58.5 19.484375 \r\nL 70.953125 0 \r\nL 59.03125 0 \r\nL 49.5625 14.890625 \r\nQ 45.40625 21.34375 42.71875 24.75 \r\nQ 40.046875 28.171875 37.921875 29.53125 \r\nQ 35.796875 30.90625 33.59375 31.453125 \r\nQ 31.984375 31.78125 28.328125 31.78125 \r\nL 17.328125 31.78125 \r\nL 17.328125 0 \r\nz\r\nM 17.328125 39.984375 \r\nL 37.703125 39.984375 \r\nQ 44.1875 39.984375 47.84375 41.328125 \r\nQ 51.515625 42.671875 53.421875 45.625 \r\nQ 55.328125 48.578125 55.328125 52.046875 \r\nQ 55.328125 57.125 51.640625 60.390625 \r\nQ 47.953125 63.671875 39.984375 63.671875 \r\nL 17.328125 63.671875 \r\nz\r\n\" id=\"ArialMT-82\"/>\r\n        <path d=\"M 8.015625 0 \r\nL 8.015625 71.578125 \r\nL 17.484375 71.578125 \r\nL 17.484375 42.1875 \r\nL 54.6875 42.1875 \r\nL 54.6875 71.578125 \r\nL 64.15625 71.578125 \r\nL 64.15625 0 \r\nL 54.6875 0 \r\nL 54.6875 33.734375 \r\nL 17.484375 33.734375 \r\nL 17.484375 0 \r\nz\r\n\" id=\"ArialMT-72\"/>\r\n       </defs>\r\n       <use xlink:href=\"#ArialMT-77\"/>\r\n       <use x=\"83.300781\" xlink:href=\"#ArialMT-82\"/>\r\n       <use x=\"155.517578\" xlink:href=\"#ArialMT-67\"/>\r\n       <use x=\"227.734375\" xlink:href=\"#ArialMT-72\"/>\r\n       <use x=\"299.951172\" xlink:href=\"#ArialMT-82\"/>\r\n       <use x=\"372.167969\" xlink:href=\"#ArialMT-79\"/>\r\n       <use x=\"449.951172\" xlink:href=\"#ArialMT-77\"/>\r\n       <use x=\"533.251953\" xlink:href=\"#ArialMT-69\"/>\r\n      </g>\r\n     </g>\r\n    </g>\r\n    <g id=\"ytick_22\">\r\n     <g id=\"text_30\">\r\n      <!-- Puffin -->\r\n      <g style=\"fill:#262626;\" transform=\"translate(118.355625 414.15059)scale(0.11 -0.11)\">\r\n       <defs>\r\n        <path d=\"M 7.71875 0 \r\nL 7.71875 71.578125 \r\nL 34.71875 71.578125 \r\nQ 41.84375 71.578125 45.609375 70.90625 \r\nQ 50.875 70.015625 54.4375 67.546875 \r\nQ 58.015625 65.09375 60.1875 60.640625 \r\nQ 62.359375 56.203125 62.359375 50.875 \r\nQ 62.359375 41.75 56.546875 35.421875 \r\nQ 50.734375 29.109375 35.546875 29.109375 \r\nL 17.1875 29.109375 \r\nL 17.1875 0 \r\nz\r\nM 17.1875 37.546875 \r\nL 35.6875 37.546875 \r\nQ 44.875 37.546875 48.734375 40.96875 \r\nQ 52.59375 44.390625 52.59375 50.59375 \r\nQ 52.59375 55.078125 50.3125 58.265625 \r\nQ 48.046875 61.46875 44.34375 62.5 \r\nQ 41.9375 63.140625 35.5 63.140625 \r\nL 17.1875 63.140625 \r\nz\r\n\" id=\"ArialMT-80\"/>\r\n       </defs>\r\n       <use xlink:href=\"#ArialMT-80\"/>\r\n       <use x=\"66.699219\" xlink:href=\"#ArialMT-117\"/>\r\n       <use x=\"122.314453\" xlink:href=\"#ArialMT-102\"/>\r\n       <use x=\"148.347656\" xlink:href=\"#ArialMT-102\"/>\r\n       <use x=\"176.130859\" xlink:href=\"#ArialMT-105\"/>\r\n       <use x=\"198.347656\" xlink:href=\"#ArialMT-110\"/>\r\n      </g>\r\n     </g>\r\n    </g>\r\n    <g id=\"ytick_23\">\r\n     <g id=\"text_31\">\r\n      <!-- MQQBrowser -->\r\n      <g style=\"fill:#262626;\" transform=\"translate(79.675156 432.895418)scale(0.11 -0.11)\">\r\n       <defs>\r\n        <path d=\"M 61.96875 7.671875 \r\nQ 68.5625 3.125 74.125 1.03125 \r\nL 71.34375 -5.5625 \r\nQ 63.625 -2.78125 55.953125 3.21875 \r\nQ 48 -1.21875 38.375 -1.21875 \r\nQ 28.65625 -1.21875 20.75 3.46875 \r\nQ 12.84375 8.15625 8.5625 16.640625 \r\nQ 4.296875 25.140625 4.296875 35.796875 \r\nQ 4.296875 46.390625 8.59375 55.078125 \r\nQ 12.890625 63.765625 20.828125 68.3125 \r\nQ 28.765625 72.859375 38.578125 72.859375 \r\nQ 48.484375 72.859375 56.4375 68.140625 \r\nQ 64.40625 63.421875 68.578125 54.953125 \r\nQ 72.75 46.484375 72.75 35.84375 \r\nQ 72.75 27 70.0625 19.9375 \r\nQ 67.390625 12.890625 61.96875 7.671875 \r\nz\r\nM 41.109375 19.78125 \r\nQ 49.3125 17.484375 54.640625 12.9375 \r\nQ 62.984375 20.5625 62.984375 35.84375 \r\nQ 62.984375 44.53125 60.03125 51.015625 \r\nQ 57.078125 57.515625 51.390625 61.109375 \r\nQ 45.703125 64.703125 38.625 64.703125 \r\nQ 28.03125 64.703125 21.046875 57.453125 \r\nQ 14.0625 50.203125 14.0625 35.796875 \r\nQ 14.0625 21.828125 20.96875 14.359375 \r\nQ 27.875 6.890625 38.625 6.890625 \r\nQ 43.703125 6.890625 48.1875 8.796875 \r\nQ 43.75 11.671875 38.8125 12.890625 \r\nz\r\n\" id=\"ArialMT-81\"/>\r\n       </defs>\r\n       <use xlink:href=\"#ArialMT-77\"/>\r\n       <use x=\"83.300781\" xlink:href=\"#ArialMT-81\"/>\r\n       <use x=\"161.083984\" xlink:href=\"#ArialMT-81\"/>\r\n       <use x=\"238.867188\" xlink:href=\"#ArialMT-66\"/>\r\n       <use x=\"305.566406\" xlink:href=\"#ArialMT-114\"/>\r\n       <use x=\"338.867188\" xlink:href=\"#ArialMT-111\"/>\r\n       <use x=\"394.482422\" xlink:href=\"#ArialMT-119\"/>\r\n       <use x=\"466.699219\" xlink:href=\"#ArialMT-115\"/>\r\n       <use x=\"516.699219\" xlink:href=\"#ArialMT-101\"/>\r\n       <use x=\"572.314453\" xlink:href=\"#ArialMT-114\"/>\r\n      </g>\r\n     </g>\r\n    </g>\r\n    <g id=\"ytick_24\">\r\n     <g id=\"text_32\">\r\n      <!-- Iron -->\r\n      <g style=\"fill:#262626;\" transform=\"translate(127.337812 451.640245)scale(0.11 -0.11)\">\r\n       <use xlink:href=\"#ArialMT-73\"/>\r\n       <use x=\"27.783203\" xlink:href=\"#ArialMT-114\"/>\r\n       <use x=\"61.083984\" xlink:href=\"#ArialMT-111\"/>\r\n       <use x=\"116.699219\" xlink:href=\"#ArialMT-110\"/>\r\n      </g>\r\n     </g>\r\n    </g>\r\n    <g id=\"ytick_25\">\r\n     <g id=\"text_33\">\r\n      <!-- SeaMonkey -->\r\n      <g style=\"fill:#262626;\" transform=\"translate(88.205313 470.452104)scale(0.11 -0.11)\">\r\n       <use xlink:href=\"#ArialMT-83\"/>\r\n       <use x=\"66.699219\" xlink:href=\"#ArialMT-101\"/>\r\n       <use x=\"122.314453\" xlink:href=\"#ArialMT-97\"/>\r\n       <use x=\"177.929688\" xlink:href=\"#ArialMT-77\"/>\r\n       <use x=\"261.230469\" xlink:href=\"#ArialMT-111\"/>\r\n       <use x=\"316.845703\" xlink:href=\"#ArialMT-110\"/>\r\n       <use x=\"372.460938\" xlink:href=\"#ArialMT-107\"/>\r\n       <use x=\"422.460938\" xlink:href=\"#ArialMT-101\"/>\r\n       <use x=\"478.076172\" xlink:href=\"#ArialMT-121\"/>\r\n      </g>\r\n     </g>\r\n    </g>\r\n    <g id=\"ytick_26\">\r\n     <g id=\"text_34\">\r\n      <!-- DoCoMo -->\r\n      <g style=\"fill:#262626;\" transform=\"translate(102.888594 489.1299)scale(0.11 -0.11)\">\r\n       <defs>\r\n        <path d=\"M 7.71875 0 \r\nL 7.71875 71.578125 \r\nL 32.375 71.578125 \r\nQ 40.71875 71.578125 45.125 70.5625 \r\nQ 51.265625 69.140625 55.609375 65.4375 \r\nQ 61.28125 60.640625 64.078125 53.1875 \r\nQ 66.890625 45.75 66.890625 36.1875 \r\nQ 66.890625 28.03125 64.984375 21.734375 \r\nQ 63.09375 15.4375 60.109375 11.296875 \r\nQ 57.125 7.171875 53.578125 4.796875 \r\nQ 50.046875 2.4375 45.046875 1.21875 \r\nQ 40.046875 0 33.546875 0 \r\nz\r\nM 17.1875 8.453125 \r\nL 32.46875 8.453125 \r\nQ 39.546875 8.453125 43.578125 9.765625 \r\nQ 47.609375 11.078125 50 13.484375 \r\nQ 53.375 16.84375 55.25 22.53125 \r\nQ 57.125 28.21875 57.125 36.328125 \r\nQ 57.125 47.5625 53.4375 53.59375 \r\nQ 49.75 59.625 44.484375 61.671875 \r\nQ 40.671875 63.140625 32.234375 63.140625 \r\nL 17.1875 63.140625 \r\nz\r\n\" id=\"ArialMT-68\"/>\r\n       </defs>\r\n       <use xlink:href=\"#ArialMT-68\"/>\r\n       <use x=\"72.216797\" xlink:href=\"#ArialMT-111\"/>\r\n       <use x=\"127.832031\" xlink:href=\"#ArialMT-67\"/>\r\n       <use x=\"200.048828\" xlink:href=\"#ArialMT-111\"/>\r\n       <use x=\"255.664062\" xlink:href=\"#ArialMT-77\"/>\r\n       <use x=\"338.964844\" xlink:href=\"#ArialMT-111\"/>\r\n      </g>\r\n     </g>\r\n    </g>\r\n    <g id=\"ytick_27\">\r\n     <g id=\"text_35\">\r\n      <!-- Mozilla -->\r\n      <g style=\"fill:#262626;\" transform=\"translate(112.061563 507.874728)scale(0.11 -0.11)\">\r\n       <use xlink:href=\"#ArialMT-77\"/>\r\n       <use x=\"83.300781\" xlink:href=\"#ArialMT-111\"/>\r\n       <use x=\"138.916016\" xlink:href=\"#ArialMT-122\"/>\r\n       <use x=\"188.916016\" xlink:href=\"#ArialMT-105\"/>\r\n       <use x=\"211.132812\" xlink:href=\"#ArialMT-108\"/>\r\n       <use x=\"233.349609\" xlink:href=\"#ArialMT-108\"/>\r\n       <use x=\"255.566406\" xlink:href=\"#ArialMT-97\"/>\r\n      </g>\r\n     </g>\r\n    </g>\r\n    <g id=\"ytick_28\">\r\n     <g id=\"text_36\">\r\n      <!-- LYF_LS_4002_12 -->\r\n      <g style=\"fill:#262626;\" transform=\"translate(58.421094 526.686587)scale(0.11 -0.11)\">\r\n       <defs>\r\n        <path d=\"M 7.328125 0 \r\nL 7.328125 71.578125 \r\nL 16.796875 71.578125 \r\nL 16.796875 8.453125 \r\nL 52.046875 8.453125 \r\nL 52.046875 0 \r\nz\r\n\" id=\"ArialMT-76\"/>\r\n        <path d=\"M -1.515625 -19.875 \r\nL -1.515625 -13.53125 \r\nL 56.734375 -13.53125 \r\nL 56.734375 -19.875 \r\nz\r\n\" id=\"ArialMT-95\"/>\r\n        <path d=\"M 32.328125 0 \r\nL 32.328125 17.140625 \r\nL 1.265625 17.140625 \r\nL 1.265625 25.203125 \r\nL 33.9375 71.578125 \r\nL 41.109375 71.578125 \r\nL 41.109375 25.203125 \r\nL 50.78125 25.203125 \r\nL 50.78125 17.140625 \r\nL 41.109375 17.140625 \r\nL 41.109375 0 \r\nz\r\nM 32.328125 25.203125 \r\nL 32.328125 57.46875 \r\nL 9.90625 25.203125 \r\nz\r\n\" id=\"ArialMT-52\"/>\r\n       </defs>\r\n       <use xlink:href=\"#ArialMT-76\"/>\r\n       <use x=\"48.240234\" xlink:href=\"#ArialMT-89\"/>\r\n       <use x=\"114.939453\" xlink:href=\"#ArialMT-70\"/>\r\n       <use x=\"176.023438\" xlink:href=\"#ArialMT-95\"/>\r\n       <use x=\"231.638672\" xlink:href=\"#ArialMT-76\"/>\r\n       <use x=\"287.253906\" xlink:href=\"#ArialMT-83\"/>\r\n       <use x=\"353.953125\" xlink:href=\"#ArialMT-95\"/>\r\n       <use x=\"409.568359\" xlink:href=\"#ArialMT-52\"/>\r\n       <use x=\"465.183594\" xlink:href=\"#ArialMT-48\"/>\r\n       <use x=\"520.798828\" xlink:href=\"#ArialMT-48\"/>\r\n       <use x=\"576.414062\" xlink:href=\"#ArialMT-50\"/>\r\n       <use x=\"632.029297\" xlink:href=\"#ArialMT-95\"/>\r\n       <use x=\"687.644531\" xlink:href=\"#ArialMT-49\"/>\r\n       <use x=\"743.259766\" xlink:href=\"#ArialMT-50\"/>\r\n      </g>\r\n     </g>\r\n    </g>\r\n    <g id=\"ytick_29\">\r\n     <g id=\"text_37\">\r\n      <!-- Apple-iPhone7C2 -->\r\n      <g style=\"fill:#262626;\" transform=\"translate(60.067656 545.431414)scale(0.11 -0.11)\">\r\n       <defs>\r\n        <path d=\"M 4.734375 62.203125 \r\nL 4.734375 70.65625 \r\nL 51.078125 70.65625 \r\nL 51.078125 63.8125 \r\nQ 44.234375 56.546875 37.515625 44.484375 \r\nQ 30.8125 32.421875 27.15625 19.671875 \r\nQ 24.515625 10.6875 23.78125 0 \r\nL 14.75 0 \r\nQ 14.890625 8.453125 18.0625 20.40625 \r\nQ 21.234375 32.375 27.171875 43.484375 \r\nQ 33.109375 54.59375 39.796875 62.203125 \r\nz\r\n\" id=\"ArialMT-55\"/>\r\n       </defs>\r\n       <use xlink:href=\"#ArialMT-65\"/>\r\n       <use x=\"66.699219\" xlink:href=\"#ArialMT-112\"/>\r\n       <use x=\"122.314453\" xlink:href=\"#ArialMT-112\"/>\r\n       <use x=\"177.929688\" xlink:href=\"#ArialMT-108\"/>\r\n       <use x=\"200.146484\" xlink:href=\"#ArialMT-101\"/>\r\n       <use x=\"255.761719\" xlink:href=\"#ArialMT-45\"/>\r\n       <use x=\"289.0625\" xlink:href=\"#ArialMT-105\"/>\r\n       <use x=\"311.279297\" xlink:href=\"#ArialMT-80\"/>\r\n       <use x=\"377.978516\" xlink:href=\"#ArialMT-104\"/>\r\n       <use x=\"433.59375\" xlink:href=\"#ArialMT-111\"/>\r\n       <use x=\"489.208984\" xlink:href=\"#ArialMT-110\"/>\r\n       <use x=\"544.824219\" xlink:href=\"#ArialMT-101\"/>\r\n       <use x=\"600.439453\" xlink:href=\"#ArialMT-55\"/>\r\n       <use x=\"656.054688\" xlink:href=\"#ArialMT-67\"/>\r\n       <use x=\"728.271484\" xlink:href=\"#ArialMT-50\"/>\r\n      </g>\r\n     </g>\r\n    </g>\r\n    <g id=\"text_38\">\r\n     <!-- browser -->\r\n     <g style=\"fill:#262626;\" transform=\"translate(15.789375 300.338437)rotate(-90)scale(0.12 -0.12)\">\r\n      <use xlink:href=\"#ArialMT-98\"/>\r\n      <use x=\"55.615234\" xlink:href=\"#ArialMT-114\"/>\r\n      <use x=\"88.916016\" xlink:href=\"#ArialMT-111\"/>\r\n      <use x=\"144.53125\" xlink:href=\"#ArialMT-119\"/>\r\n      <use x=\"216.748047\" xlink:href=\"#ArialMT-115\"/>\r\n      <use x=\"266.748047\" xlink:href=\"#ArialMT-101\"/>\r\n      <use x=\"322.363281\" xlink:href=\"#ArialMT-114\"/>\r\n     </g>\r\n    </g>\r\n   </g>\r\n   <g id=\"patch_3\">\r\n    <path clip-path=\"url(#pf25dc2fc9d)\" d=\"M 155.790469 9.074483 \r\nL 192.210072 9.074483 \r\nL 192.210072 14.073103 \r\nL 155.790469 14.073103 \r\nz\r\n\" style=\"fill:#cb6d67;stroke:#ffffff;stroke-linejoin:miter;\"/>\r\n   </g>\r\n   <g id=\"patch_4\">\r\n    <path clip-path=\"url(#pf25dc2fc9d)\" d=\"M 155.790469 27.81931 \r\nL 177.424609 27.81931 \r\nL 177.424609 32.817931 \r\nL 155.790469 32.817931 \r\nz\r\n\" style=\"fill:#cb6d67;stroke:#ffffff;stroke-linejoin:miter;\"/>\r\n   </g>\r\n   <g id=\"patch_5\">\r\n    <path clip-path=\"url(#pf25dc2fc9d)\" d=\"M 155.790469 46.564138 \r\nL 156.654554 46.564138 \r\nL 156.654554 51.562759 \r\nL 155.790469 51.562759 \r\nz\r\n\" style=\"fill:#cb6d67;stroke:#ffffff;stroke-linejoin:miter;\"/>\r\n   </g>\r\n   <g id=\"patch_6\">\r\n    <path clip-path=\"url(#pf25dc2fc9d)\" d=\"M 0 0 \r\nz\r\n\" style=\"fill:#cb6d67;stroke:#ffffff;stroke-linejoin:miter;\"/>\r\n   </g>\r\n   <g id=\"patch_7\">\r\n    <path clip-path=\"url(#pf25dc2fc9d)\" d=\"M 155.790469 84.053793 \r\nL 155.822472 84.053793 \r\nL 155.822472 89.052414 \r\nL 155.790469 89.052414 \r\nz\r\n\" style=\"fill:#cb6d67;stroke:#ffffff;stroke-linejoin:miter;\"/>\r\n   </g>\r\n   <g id=\"patch_8\">\r\n    <path clip-path=\"url(#pf25dc2fc9d)\" d=\"M 155.790469 102.798621 \r\nL 157.774665 102.798621 \r\nL 157.774665 107.797241 \r\nL 155.790469 107.797241 \r\nz\r\n\" style=\"fill:#cb6d67;stroke:#ffffff;stroke-linejoin:miter;\"/>\r\n   </g>\r\n   <g id=\"patch_9\">\r\n    <path clip-path=\"url(#pf25dc2fc9d)\" d=\"M 155.790469 121.543448 \r\nL 155.918481 121.543448 \r\nL 155.918481 126.542069 \r\nL 155.790469 126.542069 \r\nz\r\n\" style=\"fill:#cb6d67;stroke:#ffffff;stroke-linejoin:miter;\"/>\r\n   </g>\r\n   <g id=\"patch_10\">\r\n    <path clip-path=\"url(#pf25dc2fc9d)\" d=\"M 0 0 \r\nz\r\n\" style=\"fill:#cb6d67;stroke:#ffffff;stroke-linejoin:miter;\"/>\r\n   </g>\r\n   <g id=\"patch_11\">\r\n    <path clip-path=\"url(#pf25dc2fc9d)\" d=\"M 155.790469 159.033103 \r\nL 157.230611 159.033103 \r\nL 157.230611 164.031724 \r\nL 155.790469 164.031724 \r\nz\r\n\" style=\"fill:#cb6d67;stroke:#ffffff;stroke-linejoin:miter;\"/>\r\n   </g>\r\n   <g id=\"patch_12\">\r\n    <path clip-path=\"url(#pf25dc2fc9d)\" d=\"M 155.790469 177.777931 \r\nL 155.854475 177.777931 \r\nL 155.854475 182.776552 \r\nL 155.790469 182.776552 \r\nz\r\n\" style=\"fill:#cb6d67;stroke:#ffffff;stroke-linejoin:miter;\"/>\r\n   </g>\r\n   <g id=\"patch_13\">\r\n    <path clip-path=\"url(#pf25dc2fc9d)\" d=\"M 155.790469 196.522759 \r\nL 155.854475 196.522759 \r\nL 155.854475 201.521379 \r\nL 155.790469 201.521379 \r\nz\r\n\" style=\"fill:#cb6d67;stroke:#ffffff;stroke-linejoin:miter;\"/>\r\n   </g>\r\n   <g id=\"patch_14\">\r\n    <path clip-path=\"url(#pf25dc2fc9d)\" d=\"M 0 0 \r\nz\r\n\" style=\"fill:#cb6d67;stroke:#ffffff;stroke-linejoin:miter;\"/>\r\n   </g>\r\n   <g id=\"patch_15\">\r\n    <path clip-path=\"url(#pf25dc2fc9d)\" d=\"M 0 0 \r\nz\r\n\" style=\"fill:#cb6d67;stroke:#ffffff;stroke-linejoin:miter;\"/>\r\n   </g>\r\n   <g id=\"patch_16\">\r\n    <path clip-path=\"url(#pf25dc2fc9d)\" d=\"M 155.790469 252.757241 \r\nL 155.822472 252.757241 \r\nL 155.822472 257.755862 \r\nL 155.790469 257.755862 \r\nz\r\n\" style=\"fill:#cb6d67;stroke:#ffffff;stroke-linejoin:miter;\"/>\r\n   </g>\r\n   <g id=\"patch_17\">\r\n    <path clip-path=\"url(#pf25dc2fc9d)\" d=\"M 0 0 \r\nz\r\n\" style=\"fill:#cb6d67;stroke:#ffffff;stroke-linejoin:miter;\"/>\r\n   </g>\r\n   <g id=\"patch_18\">\r\n    <path clip-path=\"url(#pf25dc2fc9d)\" d=\"M 0 0 \r\nz\r\n\" style=\"fill:#cb6d67;stroke:#ffffff;stroke-linejoin:miter;\"/>\r\n   </g>\r\n   <g id=\"patch_19\">\r\n    <path clip-path=\"url(#pf25dc2fc9d)\" d=\"M 155.790469 308.991724 \r\nL 155.854475 308.991724 \r\nL 155.854475 313.990345 \r\nL 155.790469 313.990345 \r\nz\r\n\" style=\"fill:#cb6d67;stroke:#ffffff;stroke-linejoin:miter;\"/>\r\n   </g>\r\n   <g id=\"patch_20\">\r\n    <path clip-path=\"url(#pf25dc2fc9d)\" d=\"M 0 0 \r\nz\r\n\" style=\"fill:#cb6d67;stroke:#ffffff;stroke-linejoin:miter;\"/>\r\n   </g>\r\n   <g id=\"patch_21\">\r\n    <path clip-path=\"url(#pf25dc2fc9d)\" d=\"M 155.790469 346.481379 \r\nL 156.654554 346.481379 \r\nL 156.654554 351.48 \r\nL 155.790469 351.48 \r\nz\r\n\" style=\"fill:#cb6d67;stroke:#ffffff;stroke-linejoin:miter;\"/>\r\n   </g>\r\n   <g id=\"patch_22\">\r\n    <path clip-path=\"url(#pf25dc2fc9d)\" d=\"M 0 0 \r\nz\r\n\" style=\"fill:#cb6d67;stroke:#ffffff;stroke-linejoin:miter;\"/>\r\n   </g>\r\n   <g id=\"patch_23\">\r\n    <path clip-path=\"url(#pf25dc2fc9d)\" d=\"M 0 0 \r\nz\r\n\" style=\"fill:#cb6d67;stroke:#ffffff;stroke-linejoin:miter;\"/>\r\n   </g>\r\n   <g id=\"patch_24\">\r\n    <path clip-path=\"url(#pf25dc2fc9d)\" d=\"M 0 0 \r\nz\r\n\" style=\"fill:#cb6d67;stroke:#ffffff;stroke-linejoin:miter;\"/>\r\n   </g>\r\n   <g id=\"patch_25\">\r\n    <path clip-path=\"url(#pf25dc2fc9d)\" d=\"M 0 0 \r\nz\r\n\" style=\"fill:#cb6d67;stroke:#ffffff;stroke-linejoin:miter;\"/>\r\n   </g>\r\n   <g id=\"patch_26\">\r\n    <path clip-path=\"url(#pf25dc2fc9d)\" d=\"M 0 0 \r\nz\r\n\" style=\"fill:#cb6d67;stroke:#ffffff;stroke-linejoin:miter;\"/>\r\n   </g>\r\n   <g id=\"patch_27\">\r\n    <path clip-path=\"url(#pf25dc2fc9d)\" d=\"M 0 0 \r\nz\r\n\" style=\"fill:#cb6d67;stroke:#ffffff;stroke-linejoin:miter;\"/>\r\n   </g>\r\n   <g id=\"patch_28\">\r\n    <path clip-path=\"url(#pf25dc2fc9d)\" d=\"M 0 0 \r\nz\r\n\" style=\"fill:#cb6d67;stroke:#ffffff;stroke-linejoin:miter;\"/>\r\n   </g>\r\n   <g id=\"patch_29\">\r\n    <path clip-path=\"url(#pf25dc2fc9d)\" d=\"M 0 0 \r\nz\r\n\" style=\"fill:#cb6d67;stroke:#ffffff;stroke-linejoin:miter;\"/>\r\n   </g>\r\n   <g id=\"patch_30\">\r\n    <path clip-path=\"url(#pf25dc2fc9d)\" d=\"M 0 0 \r\nz\r\n\" style=\"fill:#cb6d67;stroke:#ffffff;stroke-linejoin:miter;\"/>\r\n   </g>\r\n   <g id=\"patch_31\">\r\n    <path clip-path=\"url(#pf25dc2fc9d)\" d=\"M 0 0 \r\nz\r\n\" style=\"fill:#cb6d67;stroke:#ffffff;stroke-linejoin:miter;\"/>\r\n   </g>\r\n   <g id=\"patch_32\">\r\n    <path clip-path=\"url(#pf25dc2fc9d)\" d=\"M 155.790469 14.073103 \r\nL 350.465727 14.073103 \r\nL 350.465727 19.071724 \r\nL 155.790469 19.071724 \r\nz\r\n\" style=\"fill:#67cb6d;stroke:#ffffff;stroke-linejoin:miter;\"/>\r\n   </g>\r\n   <g id=\"patch_33\">\r\n    <path clip-path=\"url(#pf25dc2fc9d)\" d=\"M 155.790469 32.817931 \r\nL 1218.647612 32.817931 \r\nL 1218.647612 37.816552 \r\nL 155.790469 37.816552 \r\nz\r\n\" style=\"fill:#67cb6d;stroke:#ffffff;stroke-linejoin:miter;\"/>\r\n   </g>\r\n   <g id=\"patch_34\">\r\n    <path clip-path=\"url(#pf25dc2fc9d)\" d=\"M 155.790469 51.562759 \r\nL 192.946144 51.562759 \r\nL 192.946144 56.561379 \r\nL 155.790469 56.561379 \r\nz\r\n\" style=\"fill:#67cb6d;stroke:#ffffff;stroke-linejoin:miter;\"/>\r\n   </g>\r\n   <g id=\"patch_35\">\r\n    <path clip-path=\"url(#pf25dc2fc9d)\" d=\"M 155.790469 70.307586 \r\nL 231.061915 70.307586 \r\nL 231.061915 75.306207 \r\nL 155.790469 75.306207 \r\nz\r\n\" style=\"fill:#67cb6d;stroke:#ffffff;stroke-linejoin:miter;\"/>\r\n   </g>\r\n   <g id=\"patch_36\">\r\n    <path clip-path=\"url(#pf25dc2fc9d)\" d=\"M 155.790469 89.052414 \r\nL 157.806668 89.052414 \r\nL 157.806668 94.051034 \r\nL 155.790469 94.051034 \r\nz\r\n\" style=\"fill:#67cb6d;stroke:#ffffff;stroke-linejoin:miter;\"/>\r\n   </g>\r\n   <g id=\"patch_37\">\r\n    <path clip-path=\"url(#pf25dc2fc9d)\" d=\"M 0 0 \r\nz\r\n\" style=\"fill:#67cb6d;stroke:#ffffff;stroke-linejoin:miter;\"/>\r\n   </g>\r\n   <g id=\"patch_38\">\r\n    <path clip-path=\"url(#pf25dc2fc9d)\" d=\"M 155.790469 126.542069 \r\nL 167.503627 126.542069 \r\nL 167.503627 131.54069 \r\nL 155.790469 131.54069 \r\nz\r\n\" style=\"fill:#67cb6d;stroke:#ffffff;stroke-linejoin:miter;\"/>\r\n   </g>\r\n   <g id=\"patch_39\">\r\n    <path clip-path=\"url(#pf25dc2fc9d)\" d=\"M 155.790469 145.286897 \r\nL 175.856454 145.286897 \r\nL 175.856454 150.285517 \r\nL 155.790469 150.285517 \r\nz\r\n\" style=\"fill:#67cb6d;stroke:#ffffff;stroke-linejoin:miter;\"/>\r\n   </g>\r\n   <g id=\"patch_40\">\r\n    <path clip-path=\"url(#pf25dc2fc9d)\" d=\"M 0 0 \r\nz\r\n\" style=\"fill:#67cb6d;stroke:#ffffff;stroke-linejoin:miter;\"/>\r\n   </g>\r\n   <g id=\"patch_41\">\r\n    <path clip-path=\"url(#pf25dc2fc9d)\" d=\"M 0 0 \r\nz\r\n\" style=\"fill:#67cb6d;stroke:#ffffff;stroke-linejoin:miter;\"/>\r\n   </g>\r\n   <g id=\"patch_42\">\r\n    <path clip-path=\"url(#pf25dc2fc9d)\" d=\"M 155.790469 201.521379 \r\nL 160.430928 201.521379 \r\nL 160.430928 206.52 \r\nL 155.790469 206.52 \r\nz\r\n\" style=\"fill:#67cb6d;stroke:#ffffff;stroke-linejoin:miter;\"/>\r\n   </g>\r\n   <g id=\"patch_43\">\r\n    <path clip-path=\"url(#pf25dc2fc9d)\" d=\"M 155.790469 220.266207 \r\nL 156.686557 220.266207 \r\nL 156.686557 225.264828 \r\nL 155.790469 225.264828 \r\nz\r\n\" style=\"fill:#67cb6d;stroke:#ffffff;stroke-linejoin:miter;\"/>\r\n   </g>\r\n   <g id=\"patch_44\">\r\n    <path clip-path=\"url(#pf25dc2fc9d)\" d=\"M 155.790469 239.011034 \r\nL 156.142504 239.011034 \r\nL 156.142504 244.009655 \r\nL 155.790469 244.009655 \r\nz\r\n\" style=\"fill:#67cb6d;stroke:#ffffff;stroke-linejoin:miter;\"/>\r\n   </g>\r\n   <g id=\"patch_45\">\r\n    <path clip-path=\"url(#pf25dc2fc9d)\" d=\"M 155.790469 257.755862 \r\nL 157.070595 257.755862 \r\nL 157.070595 262.754483 \r\nL 155.790469 262.754483 \r\nz\r\n\" style=\"fill:#67cb6d;stroke:#ffffff;stroke-linejoin:miter;\"/>\r\n   </g>\r\n   <g id=\"patch_46\">\r\n    <path clip-path=\"url(#pf25dc2fc9d)\" d=\"M 0 0 \r\nz\r\n\" style=\"fill:#67cb6d;stroke:#ffffff;stroke-linejoin:miter;\"/>\r\n   </g>\r\n   <g id=\"patch_47\">\r\n    <path clip-path=\"url(#pf25dc2fc9d)\" d=\"M 155.790469 295.245517 \r\nL 155.822472 295.245517 \r\nL 155.822472 300.244138 \r\nL 155.790469 300.244138 \r\nz\r\n\" style=\"fill:#67cb6d;stroke:#ffffff;stroke-linejoin:miter;\"/>\r\n   </g>\r\n   <g id=\"patch_48\">\r\n    <path clip-path=\"url(#pf25dc2fc9d)\" d=\"M 0 0 \r\nz\r\n\" style=\"fill:#67cb6d;stroke:#ffffff;stroke-linejoin:miter;\"/>\r\n   </g>\r\n   <g id=\"patch_49\">\r\n    <path clip-path=\"url(#pf25dc2fc9d)\" d=\"M 155.790469 332.735172 \r\nL 155.822472 332.735172 \r\nL 155.822472 337.733793 \r\nL 155.790469 337.733793 \r\nz\r\n\" style=\"fill:#67cb6d;stroke:#ffffff;stroke-linejoin:miter;\"/>\r\n   </g>\r\n   <g id=\"patch_50\">\r\n    <path clip-path=\"url(#pf25dc2fc9d)\" d=\"M 0 0 \r\nz\r\n\" style=\"fill:#67cb6d;stroke:#ffffff;stroke-linejoin:miter;\"/>\r\n   </g>\r\n   <g id=\"patch_51\">\r\n    <path clip-path=\"url(#pf25dc2fc9d)\" d=\"M 155.790469 370.224828 \r\nL 156.270516 370.224828 \r\nL 156.270516 375.223448 \r\nL 155.790469 375.223448 \r\nz\r\n\" style=\"fill:#67cb6d;stroke:#ffffff;stroke-linejoin:miter;\"/>\r\n   </g>\r\n   <g id=\"patch_52\">\r\n    <path clip-path=\"url(#pf25dc2fc9d)\" d=\"M 155.790469 388.969655 \r\nL 156.1105 388.969655 \r\nL 156.1105 393.968276 \r\nL 155.790469 393.968276 \r\nz\r\n\" style=\"fill:#67cb6d;stroke:#ffffff;stroke-linejoin:miter;\"/>\r\n   </g>\r\n   <g id=\"patch_53\">\r\n    <path clip-path=\"url(#pf25dc2fc9d)\" d=\"M 155.790469 407.714483 \r\nL 155.918481 407.714483 \r\nL 155.918481 412.713103 \r\nL 155.790469 412.713103 \r\nz\r\n\" style=\"fill:#67cb6d;stroke:#ffffff;stroke-linejoin:miter;\"/>\r\n   </g>\r\n   <g id=\"patch_54\">\r\n    <path clip-path=\"url(#pf25dc2fc9d)\" d=\"M 155.790469 426.45931 \r\nL 155.822472 426.45931 \r\nL 155.822472 431.457931 \r\nL 155.790469 431.457931 \r\nz\r\n\" style=\"fill:#67cb6d;stroke:#ffffff;stroke-linejoin:miter;\"/>\r\n   </g>\r\n   <g id=\"patch_55\">\r\n    <path clip-path=\"url(#pf25dc2fc9d)\" d=\"M 155.790469 445.204138 \r\nL 155.822472 445.204138 \r\nL 155.822472 450.202759 \r\nL 155.790469 450.202759 \r\nz\r\n\" style=\"fill:#67cb6d;stroke:#ffffff;stroke-linejoin:miter;\"/>\r\n   </g>\r\n   <g id=\"patch_56\">\r\n    <path clip-path=\"url(#pf25dc2fc9d)\" d=\"M 155.790469 463.948966 \r\nL 155.822472 463.948966 \r\nL 155.822472 468.947586 \r\nL 155.790469 468.947586 \r\nz\r\n\" style=\"fill:#67cb6d;stroke:#ffffff;stroke-linejoin:miter;\"/>\r\n   </g>\r\n   <g id=\"patch_57\">\r\n    <path clip-path=\"url(#pf25dc2fc9d)\" d=\"M 0 0 \r\nz\r\n\" style=\"fill:#67cb6d;stroke:#ffffff;stroke-linejoin:miter;\"/>\r\n   </g>\r\n   <g id=\"patch_58\">\r\n    <path clip-path=\"url(#pf25dc2fc9d)\" d=\"M 155.790469 501.438621 \r\nL 155.854475 501.438621 \r\nL 155.854475 506.437241 \r\nL 155.790469 506.437241 \r\nz\r\n\" style=\"fill:#67cb6d;stroke:#ffffff;stroke-linejoin:miter;\"/>\r\n   </g>\r\n   <g id=\"patch_59\">\r\n    <path clip-path=\"url(#pf25dc2fc9d)\" d=\"M 155.790469 520.183448 \r\nL 155.822472 520.183448 \r\nL 155.822472 525.182069 \r\nL 155.790469 525.182069 \r\nz\r\n\" style=\"fill:#67cb6d;stroke:#ffffff;stroke-linejoin:miter;\"/>\r\n   </g>\r\n   <g id=\"patch_60\">\r\n    <path clip-path=\"url(#pf25dc2fc9d)\" d=\"M 155.790469 538.928276 \r\nL 155.822472 538.928276 \r\nL 155.822472 543.926897 \r\nL 155.790469 543.926897 \r\nz\r\n\" style=\"fill:#67cb6d;stroke:#ffffff;stroke-linejoin:miter;\"/>\r\n   </g>\r\n   <g id=\"patch_61\">\r\n    <path clip-path=\"url(#pf25dc2fc9d)\" d=\"M 155.790469 19.071724 \r\nL 310.429766 19.071724 \r\nL 310.429766 24.070345 \r\nL 155.790469 24.070345 \r\nz\r\n\" style=\"fill:#6d67cb;stroke:#ffffff;stroke-linejoin:miter;\"/>\r\n   </g>\r\n   <g id=\"patch_62\">\r\n    <path clip-path=\"url(#pf25dc2fc9d)\" d=\"M 155.790469 37.816552 \r\nL 394.374071 37.816552 \r\nL 394.374071 42.815172 \r\nL 155.790469 42.815172 \r\nz\r\n\" style=\"fill:#6d67cb;stroke:#ffffff;stroke-linejoin:miter;\"/>\r\n   </g>\r\n   <g id=\"patch_63\">\r\n    <path clip-path=\"url(#pf25dc2fc9d)\" d=\"M 155.790469 56.561379 \r\nL 158.478735 56.561379 \r\nL 158.478735 61.56 \r\nL 155.790469 61.56 \r\nz\r\n\" style=\"fill:#6d67cb;stroke:#ffffff;stroke-linejoin:miter;\"/>\r\n   </g>\r\n   <g id=\"patch_64\">\r\n    <path clip-path=\"url(#pf25dc2fc9d)\" d=\"M 155.790469 75.306207 \r\nL 158.73476 75.306207 \r\nL 158.73476 80.304828 \r\nL 155.790469 80.304828 \r\nz\r\n\" style=\"fill:#6d67cb;stroke:#ffffff;stroke-linejoin:miter;\"/>\r\n   </g>\r\n   <g id=\"patch_65\">\r\n    <path clip-path=\"url(#pf25dc2fc9d)\" d=\"M 0 0 \r\nz\r\n\" style=\"fill:#6d67cb;stroke:#ffffff;stroke-linejoin:miter;\"/>\r\n   </g>\r\n   <g id=\"patch_66\">\r\n    <path clip-path=\"url(#pf25dc2fc9d)\" d=\"M 155.790469 112.795862 \r\nL 167.503627 112.795862 \r\nL 167.503627 117.794483 \r\nL 155.790469 117.794483 \r\nz\r\n\" style=\"fill:#6d67cb;stroke:#ffffff;stroke-linejoin:miter;\"/>\r\n   </g>\r\n   <g id=\"patch_67\">\r\n    <path clip-path=\"url(#pf25dc2fc9d)\" d=\"M 155.790469 131.54069 \r\nL 156.846573 131.54069 \r\nL 156.846573 136.53931 \r\nL 155.790469 136.53931 \r\nz\r\n\" style=\"fill:#6d67cb;stroke:#ffffff;stroke-linejoin:miter;\"/>\r\n   </g>\r\n   <g id=\"patch_68\">\r\n    <path clip-path=\"url(#pf25dc2fc9d)\" d=\"M 155.790469 150.285517 \r\nL 156.590548 150.285517 \r\nL 156.590548 155.284138 \r\nL 155.790469 155.284138 \r\nz\r\n\" style=\"fill:#6d67cb;stroke:#ffffff;stroke-linejoin:miter;\"/>\r\n   </g>\r\n   <g id=\"patch_69\">\r\n    <path clip-path=\"url(#pf25dc2fc9d)\" d=\"M 155.790469 169.030345 \r\nL 169.743849 169.030345 \r\nL 169.743849 174.028966 \r\nL 155.790469 174.028966 \r\nz\r\n\" style=\"fill:#6d67cb;stroke:#ffffff;stroke-linejoin:miter;\"/>\r\n   </g>\r\n   <g id=\"patch_70\">\r\n    <path clip-path=\"url(#pf25dc2fc9d)\" d=\"M 155.790469 187.775172 \r\nL 169.103786 187.775172 \r\nL 169.103786 192.773793 \r\nL 155.790469 192.773793 \r\nz\r\n\" style=\"fill:#6d67cb;stroke:#ffffff;stroke-linejoin:miter;\"/>\r\n   </g>\r\n   <g id=\"patch_71\">\r\n    <path clip-path=\"url(#pf25dc2fc9d)\" d=\"M 155.790469 206.52 \r\nL 155.918481 206.52 \r\nL 155.918481 211.518621 \r\nL 155.790469 211.518621 \r\nz\r\n\" style=\"fill:#6d67cb;stroke:#ffffff;stroke-linejoin:miter;\"/>\r\n   </g>\r\n   <g id=\"patch_72\">\r\n    <path clip-path=\"url(#pf25dc2fc9d)\" d=\"M 0 0 \r\nz\r\n\" style=\"fill:#6d67cb;stroke:#ffffff;stroke-linejoin:miter;\"/>\r\n   </g>\r\n   <g id=\"patch_73\">\r\n    <path clip-path=\"url(#pf25dc2fc9d)\" d=\"M 155.790469 244.009655 \r\nL 155.918481 244.009655 \r\nL 155.918481 249.008276 \r\nL 155.790469 249.008276 \r\nz\r\n\" style=\"fill:#6d67cb;stroke:#ffffff;stroke-linejoin:miter;\"/>\r\n   </g>\r\n   <g id=\"patch_74\">\r\n    <path clip-path=\"url(#pf25dc2fc9d)\" d=\"M 155.790469 262.754483 \r\nL 158.542741 262.754483 \r\nL 158.542741 267.753103 \r\nL 155.790469 267.753103 \r\nz\r\n\" style=\"fill:#6d67cb;stroke:#ffffff;stroke-linejoin:miter;\"/>\r\n   </g>\r\n   <g id=\"patch_75\">\r\n    <path clip-path=\"url(#pf25dc2fc9d)\" d=\"M 155.790469 281.49931 \r\nL 156.302519 281.49931 \r\nL 156.302519 286.497931 \r\nL 155.790469 286.497931 \r\nz\r\n\" style=\"fill:#6d67cb;stroke:#ffffff;stroke-linejoin:miter;\"/>\r\n   </g>\r\n   <g id=\"patch_76\">\r\n    <path clip-path=\"url(#pf25dc2fc9d)\" d=\"M 0 0 \r\nz\r\n\" style=\"fill:#6d67cb;stroke:#ffffff;stroke-linejoin:miter;\"/>\r\n   </g>\r\n   <g id=\"patch_77\">\r\n    <path clip-path=\"url(#pf25dc2fc9d)\" d=\"M 155.790469 318.988966 \r\nL 156.878576 318.988966 \r\nL 156.878576 323.987586 \r\nL 155.790469 323.987586 \r\nz\r\n\" style=\"fill:#6d67cb;stroke:#ffffff;stroke-linejoin:miter;\"/>\r\n   </g>\r\n   <g id=\"patch_78\">\r\n    <path clip-path=\"url(#pf25dc2fc9d)\" d=\"M 155.790469 337.733793 \r\nL 155.854475 337.733793 \r\nL 155.854475 342.732414 \r\nL 155.790469 342.732414 \r\nz\r\n\" style=\"fill:#6d67cb;stroke:#ffffff;stroke-linejoin:miter;\"/>\r\n   </g>\r\n   <g id=\"patch_79\">\r\n    <path clip-path=\"url(#pf25dc2fc9d)\" d=\"M 155.790469 356.478621 \r\nL 155.822472 356.478621 \r\nL 155.822472 361.477241 \r\nL 155.790469 361.477241 \r\nz\r\n\" style=\"fill:#6d67cb;stroke:#ffffff;stroke-linejoin:miter;\"/>\r\n   </g>\r\n   <g id=\"patch_80\">\r\n    <path clip-path=\"url(#pf25dc2fc9d)\" d=\"M 0 0 \r\nz\r\n\" style=\"fill:#6d67cb;stroke:#ffffff;stroke-linejoin:miter;\"/>\r\n   </g>\r\n   <g id=\"patch_81\">\r\n    <path clip-path=\"url(#pf25dc2fc9d)\" d=\"M 0 0 \r\nz\r\n\" style=\"fill:#6d67cb;stroke:#ffffff;stroke-linejoin:miter;\"/>\r\n   </g>\r\n   <g id=\"patch_82\">\r\n    <path clip-path=\"url(#pf25dc2fc9d)\" d=\"M 155.790469 412.713103 \r\nL 155.822472 412.713103 \r\nL 155.822472 417.711724 \r\nL 155.790469 417.711724 \r\nz\r\n\" style=\"fill:#6d67cb;stroke:#ffffff;stroke-linejoin:miter;\"/>\r\n   </g>\r\n   <g id=\"patch_83\">\r\n    <path clip-path=\"url(#pf25dc2fc9d)\" d=\"M 0 0 \r\nz\r\n\" style=\"fill:#6d67cb;stroke:#ffffff;stroke-linejoin:miter;\"/>\r\n   </g>\r\n   <g id=\"patch_84\">\r\n    <path clip-path=\"url(#pf25dc2fc9d)\" d=\"M 0 0 \r\nz\r\n\" style=\"fill:#6d67cb;stroke:#ffffff;stroke-linejoin:miter;\"/>\r\n   </g>\r\n   <g id=\"patch_85\">\r\n    <path clip-path=\"url(#pf25dc2fc9d)\" d=\"M 0 0 \r\nz\r\n\" style=\"fill:#6d67cb;stroke:#ffffff;stroke-linejoin:miter;\"/>\r\n   </g>\r\n   <g id=\"patch_86\">\r\n    <path clip-path=\"url(#pf25dc2fc9d)\" d=\"M 155.790469 487.692414 \r\nL 155.822472 487.692414 \r\nL 155.822472 492.691034 \r\nL 155.790469 492.691034 \r\nz\r\n\" style=\"fill:#6d67cb;stroke:#ffffff;stroke-linejoin:miter;\"/>\r\n   </g>\r\n   <g id=\"patch_87\">\r\n    <path clip-path=\"url(#pf25dc2fc9d)\" d=\"M 0 0 \r\nz\r\n\" style=\"fill:#6d67cb;stroke:#ffffff;stroke-linejoin:miter;\"/>\r\n   </g>\r\n   <g id=\"patch_88\">\r\n    <path clip-path=\"url(#pf25dc2fc9d)\" d=\"M 0 0 \r\nz\r\n\" style=\"fill:#6d67cb;stroke:#ffffff;stroke-linejoin:miter;\"/>\r\n   </g>\r\n   <g id=\"patch_89\">\r\n    <path clip-path=\"url(#pf25dc2fc9d)\" d=\"M 0 0 \r\nz\r\n\" style=\"fill:#6d67cb;stroke:#ffffff;stroke-linejoin:miter;\"/>\r\n   </g>\r\n   <g id=\"patch_90\">\r\n    <path d=\"M 155.790469 550.8 \r\nL 155.790469 7.2 \r\n\" style=\"fill:none;stroke:#ffffff;stroke-linecap:square;stroke-linejoin:miter;stroke-width:1.25;\"/>\r\n   </g>\r\n   <g id=\"patch_91\">\r\n    <path d=\"M 1271.790469 550.8 \r\nL 1271.790469 7.2 \r\n\" style=\"fill:none;stroke:#ffffff;stroke-linecap:square;stroke-linejoin:miter;stroke-width:1.25;\"/>\r\n   </g>\r\n   <g id=\"patch_92\">\r\n    <path d=\"M 155.790469 550.8 \r\nL 1271.790469 550.8 \r\n\" style=\"fill:none;stroke:#ffffff;stroke-linecap:square;stroke-linejoin:miter;stroke-width:1.25;\"/>\r\n   </g>\r\n   <g id=\"patch_93\">\r\n    <path d=\"M 155.790469 7.2 \r\nL 1271.790469 7.2 \r\n\" style=\"fill:none;stroke:#ffffff;stroke-linecap:square;stroke-linejoin:miter;stroke-width:1.25;\"/>\r\n   </g>\r\n   <g id=\"legend_1\">\r\n    <g id=\"patch_94\">\r\n     <path d=\"M 1176.316719 79.440781 \r\nL 1264.090469 79.440781 \r\nQ 1266.290469 79.440781 1266.290469 77.240781 \r\nL 1266.290469 14.9 \r\nQ 1266.290469 12.7 1264.090469 12.7 \r\nL 1176.316719 12.7 \r\nQ 1174.116719 12.7 1174.116719 14.9 \r\nL 1174.116719 77.240781 \r\nQ 1174.116719 79.440781 1176.316719 79.440781 \r\nz\r\n\" style=\"fill:#eaeaf2;opacity:0.8;stroke:#cccccc;stroke-linejoin:miter;\"/>\r\n    </g>\r\n    <g id=\"text_39\">\r\n     <!-- deviceCategory -->\r\n     <g style=\"fill:#262626;\" transform=\"translate(1178.516719 25.835625)scale(0.12 -0.12)\">\r\n      <use xlink:href=\"#ArialMT-100\"/>\r\n      <use x=\"55.615234\" xlink:href=\"#ArialMT-101\"/>\r\n      <use x=\"111.230469\" xlink:href=\"#ArialMT-118\"/>\r\n      <use x=\"161.230469\" xlink:href=\"#ArialMT-105\"/>\r\n      <use x=\"183.447266\" xlink:href=\"#ArialMT-99\"/>\r\n      <use x=\"233.447266\" xlink:href=\"#ArialMT-101\"/>\r\n      <use x=\"289.0625\" xlink:href=\"#ArialMT-67\"/>\r\n      <use x=\"361.279297\" xlink:href=\"#ArialMT-97\"/>\r\n      <use x=\"416.894531\" xlink:href=\"#ArialMT-116\"/>\r\n      <use x=\"444.677734\" xlink:href=\"#ArialMT-101\"/>\r\n      <use x=\"500.292969\" xlink:href=\"#ArialMT-103\"/>\r\n      <use x=\"555.908203\" xlink:href=\"#ArialMT-111\"/>\r\n      <use x=\"611.523438\" xlink:href=\"#ArialMT-114\"/>\r\n      <use x=\"644.824219\" xlink:href=\"#ArialMT-121\"/>\r\n     </g>\r\n    </g>\r\n    <g id=\"patch_95\">\r\n     <path d=\"M 1185.541563 41.734844 \r\nL 1207.541563 41.734844 \r\nL 1207.541563 34.034844 \r\nL 1185.541563 34.034844 \r\nz\r\n\" style=\"fill:#cb6d67;stroke:#ffffff;stroke-linejoin:miter;\"/>\r\n    </g>\r\n    <g id=\"text_40\">\r\n     <!-- tablet -->\r\n     <g style=\"fill:#262626;\" transform=\"translate(1216.341563 41.734844)scale(0.11 -0.11)\">\r\n      <use xlink:href=\"#ArialMT-116\"/>\r\n      <use x=\"27.783203\" xlink:href=\"#ArialMT-97\"/>\r\n      <use x=\"83.398438\" xlink:href=\"#ArialMT-98\"/>\r\n      <use x=\"139.013672\" xlink:href=\"#ArialMT-108\"/>\r\n      <use x=\"161.230469\" xlink:href=\"#ArialMT-101\"/>\r\n      <use x=\"216.845703\" xlink:href=\"#ArialMT-116\"/>\r\n     </g>\r\n    </g>\r\n    <g id=\"patch_96\">\r\n     <path d=\"M 1185.541563 57.294688 \r\nL 1207.541563 57.294688 \r\nL 1207.541563 49.594688 \r\nL 1185.541563 49.594688 \r\nz\r\n\" style=\"fill:#67cb6d;stroke:#ffffff;stroke-linejoin:miter;\"/>\r\n    </g>\r\n    <g id=\"text_41\">\r\n     <!-- desktop -->\r\n     <g style=\"fill:#262626;\" transform=\"translate(1216.341563 57.294688)scale(0.11 -0.11)\">\r\n      <use xlink:href=\"#ArialMT-100\"/>\r\n      <use x=\"55.615234\" xlink:href=\"#ArialMT-101\"/>\r\n      <use x=\"111.230469\" xlink:href=\"#ArialMT-115\"/>\r\n      <use x=\"161.230469\" xlink:href=\"#ArialMT-107\"/>\r\n      <use x=\"211.230469\" xlink:href=\"#ArialMT-116\"/>\r\n      <use x=\"239.013672\" xlink:href=\"#ArialMT-111\"/>\r\n      <use x=\"294.628906\" xlink:href=\"#ArialMT-112\"/>\r\n     </g>\r\n    </g>\r\n    <g id=\"patch_97\">\r\n     <path d=\"M 1185.541563 72.854531 \r\nL 1207.541563 72.854531 \r\nL 1207.541563 65.154531 \r\nL 1185.541563 65.154531 \r\nz\r\n\" style=\"fill:#6d67cb;stroke:#ffffff;stroke-linejoin:miter;\"/>\r\n    </g>\r\n    <g id=\"text_42\">\r\n     <!-- mobile -->\r\n     <g style=\"fill:#262626;\" transform=\"translate(1216.341563 72.854531)scale(0.11 -0.11)\">\r\n      <use xlink:href=\"#ArialMT-109\"/>\r\n      <use x=\"83.300781\" xlink:href=\"#ArialMT-111\"/>\r\n      <use x=\"138.916016\" xlink:href=\"#ArialMT-98\"/>\r\n      <use x=\"194.53125\" xlink:href=\"#ArialMT-105\"/>\r\n      <use x=\"216.748047\" xlink:href=\"#ArialMT-108\"/>\r\n      <use x=\"238.964844\" xlink:href=\"#ArialMT-101\"/>\r\n     </g>\r\n    </g>\r\n   </g>\r\n  </g>\r\n </g>\r\n <defs>\r\n  <clipPath id=\"pf25dc2fc9d\">\r\n   <rect height=\"543.6\" width=\"1116\" x=\"155.790469\" y=\"7.2\"/>\r\n  </clipPath>\r\n </defs>\r\n</svg>\r\n",
      "image/png": "[encoded data removed]"
     },
     "metadata": {}
    }
   ],
   "source": [
    "# https://seaborn.pydata.org/generated/seaborn.countplot.html\n",
    "sns.set_theme(style=\"darkgrid\")\n",
    "fig, ax = plt.subplots(figsize=(20, 10))\n",
    "ax = sns.countplot(y=\"browser\", data=device, hue=\"deviceCategory\",palette=\"hls\")"
   ]
  },
  {
   "cell_type": "code",
   "execution_count": 121,
   "metadata": {},
   "outputs": [
    {
     "output_type": "execute_result",
     "data": {
      "text/plain": [
       "             browser  count  percent\n",
       "0             Chrome  41103    68.90\n",
       "1             Safari  12231    20.50\n",
       "2            Firefox   2439     4.09\n",
       "3  Internet Explorer   1286     2.16\n",
       "4               Edge    672     1.13\n",
       "5    Android Webview    562     0.94\n",
       "6    Safari (in-app)    454     0.76\n",
       "7         Opera Mini    395     0.66\n",
       "8              Opera    373     0.63\n",
       "9          YaBrowser    143     0.24"
      ],
      "text/html": "<div>\n<style scoped>\n    .dataframe tbody tr th:only-of-type {\n        vertical-align: middle;\n    }\n\n    .dataframe tbody tr th {\n        vertical-align: top;\n    }\n\n    .dataframe thead th {\n        text-align: right;\n    }\n</style>\n<table border=\"1\" class=\"dataframe\">\n  <thead>\n    <tr style=\"text-align: right;\">\n      <th></th>\n      <th>browser</th>\n      <th>count</th>\n      <th>percent</th>\n    </tr>\n  </thead>\n  <tbody>\n    <tr>\n      <th>0</th>\n      <td>Chrome</td>\n      <td>41103</td>\n      <td>68.90</td>\n    </tr>\n    <tr>\n      <th>1</th>\n      <td>Safari</td>\n      <td>12231</td>\n      <td>20.50</td>\n    </tr>\n    <tr>\n      <th>2</th>\n      <td>Firefox</td>\n      <td>2439</td>\n      <td>4.09</td>\n    </tr>\n    <tr>\n      <th>3</th>\n      <td>Internet Explorer</td>\n      <td>1286</td>\n      <td>2.16</td>\n    </tr>\n    <tr>\n      <th>4</th>\n      <td>Edge</td>\n      <td>672</td>\n      <td>1.13</td>\n    </tr>\n    <tr>\n      <th>5</th>\n      <td>Android Webview</td>\n      <td>562</td>\n      <td>0.94</td>\n    </tr>\n    <tr>\n      <th>6</th>\n      <td>Safari (in-app)</td>\n      <td>454</td>\n      <td>0.76</td>\n    </tr>\n    <tr>\n      <th>7</th>\n      <td>Opera Mini</td>\n      <td>395</td>\n      <td>0.66</td>\n    </tr>\n    <tr>\n      <th>8</th>\n      <td>Opera</td>\n      <td>373</td>\n      <td>0.63</td>\n    </tr>\n    <tr>\n      <th>9</th>\n      <td>YaBrowser</td>\n      <td>143</td>\n      <td>0.24</td>\n    </tr>\n  </tbody>\n</table>\n</div>"
     },
     "metadata": {},
     "execution_count": 121
    }
   ],
   "source": [
    "most_used_browser = device.groupby(\"browser\")[\"isMobile\"].count().sort_values(ascending=False).reset_index()[:10]\n",
    "most_used_browser.columns=[\"browser\",\"count\"]\n",
    "most_used_browser[\"percent\"] = round((most_used_browser[\"count\"] / most_used_browser[\"count\"].sum())*100,2)\n",
    "most_used_browser\n"
   ]
  },
  {
   "cell_type": "code",
   "execution_count": 122,
   "metadata": {},
   "outputs": [
    {
     "output_type": "display_data",
     "data": {
      "application/vnd.plotly.v1+json": {
       "config": {
        "plotlyServerURL": "https://plotly.com"
       },
       "data": [
        {
         "alignmentgroup": "True",
         "hovertemplate": "browser=%{y}<br>count=%{x}<br>text=%{text}<extra></extra>",
         "legendgroup": "Chrome",
         "marker": {
          "color": "#f0f921"
         },
         "name": "Chrome",
         "offsetgroup": "Chrome",
         "orientation": "h",
         "showlegend": true,
         "text": [
          "68.90%"
         ],
         "textposition": "auto",
         "type": "bar",
         "x": [
          41103
         ],
         "xaxis": "x",
         "y": [
          "Chrome"
         ],
         "yaxis": "y"
        },
        {
         "alignmentgroup": "True",
         "hovertemplate": "browser=%{y}<br>count=%{x}<br>text=%{text}<extra></extra>",
         "legendgroup": "Safari",
         "marker": {
          "color": "#fdca26"
         },
         "name": "Safari",
         "offsetgroup": "Safari",
         "orientation": "h",
         "showlegend": true,
         "text": [
          "20.50%"
         ],
         "textposition": "auto",
         "type": "bar",
         "x": [
          12231
         ],
         "xaxis": "x",
         "y": [
          "Safari"
         ],
         "yaxis": "y"
        },
        {
         "alignmentgroup": "True",
         "hovertemplate": "browser=%{y}<br>count=%{x}<br>text=%{text}<extra></extra>",
         "legendgroup": "Firefox",
         "marker": {
          "color": "#fb9f3a"
         },
         "name": "Firefox",
         "offsetgroup": "Firefox",
         "orientation": "h",
         "showlegend": true,
         "text": [
          "4.09%"
         ],
         "textposition": "auto",
         "type": "bar",
         "x": [
          2439
         ],
         "xaxis": "x",
         "y": [
          "Firefox"
         ],
         "yaxis": "y"
        },
        {
         "alignmentgroup": "True",
         "hovertemplate": "browser=%{y}<br>count=%{x}<br>text=%{text}<extra></extra>",
         "legendgroup": "Internet Explorer",
         "marker": {
          "color": "#ed7953"
         },
         "name": "Internet Explorer",
         "offsetgroup": "Internet Explorer",
         "orientation": "h",
         "showlegend": true,
         "text": [
          "2.16%"
         ],
         "textposition": "auto",
         "type": "bar",
         "x": [
          1286
         ],
         "xaxis": "x",
         "y": [
          "Internet Explorer"
         ],
         "yaxis": "y"
        },
        {
         "alignmentgroup": "True",
         "hovertemplate": "browser=%{y}<br>count=%{x}<br>text=%{text}<extra></extra>",
         "legendgroup": "Edge",
         "marker": {
          "color": "#d8576b"
         },
         "name": "Edge",
         "offsetgroup": "Edge",
         "orientation": "h",
         "showlegend": true,
         "text": [
          "1.13%"
         ],
         "textposition": "auto",
         "type": "bar",
         "x": [
          672
         ],
         "xaxis": "x",
         "y": [
          "Edge"
         ],
         "yaxis": "y"
        },
        {
         "alignmentgroup": "True",
         "hovertemplate": "browser=%{y}<br>count=%{x}<br>text=%{text}<extra></extra>",
         "legendgroup": "Android Webview",
         "marker": {
          "color": "#bd3786"
         },
         "name": "Android Webview",
         "offsetgroup": "Android Webview",
         "orientation": "h",
         "showlegend": true,
         "text": [
          "0.94%"
         ],
         "textposition": "auto",
         "type": "bar",
         "x": [
          562
         ],
         "xaxis": "x",
         "y": [
          "Android Webview"
         ],
         "yaxis": "y"
        },
        {
         "alignmentgroup": "True",
         "hovertemplate": "browser=%{y}<br>count=%{x}<br>text=%{text}<extra></extra>",
         "legendgroup": "Safari (in-app)",
         "marker": {
          "color": "#9c179e"
         },
         "name": "Safari (in-app)",
         "offsetgroup": "Safari (in-app)",
         "orientation": "h",
         "showlegend": true,
         "text": [
          "0.76%"
         ],
         "textposition": "auto",
         "type": "bar",
         "x": [
          454
         ],
         "xaxis": "x",
         "y": [
          "Safari (in-app)"
         ],
         "yaxis": "y"
        },
        {
         "alignmentgroup": "True",
         "hovertemplate": "browser=%{y}<br>count=%{x}<br>text=%{text}<extra></extra>",
         "legendgroup": "Opera Mini",
         "marker": {
          "color": "#7201a8"
         },
         "name": "Opera Mini",
         "offsetgroup": "Opera Mini",
         "orientation": "h",
         "showlegend": true,
         "text": [
          "0.66%"
         ],
         "textposition": "auto",
         "type": "bar",
         "x": [
          395
         ],
         "xaxis": "x",
         "y": [
          "Opera Mini"
         ],
         "yaxis": "y"
        },
        {
         "alignmentgroup": "True",
         "hovertemplate": "browser=%{y}<br>count=%{x}<br>text=%{text}<extra></extra>",
         "legendgroup": "Opera",
         "marker": {
          "color": "#46039f"
         },
         "name": "Opera",
         "offsetgroup": "Opera",
         "orientation": "h",
         "showlegend": true,
         "text": [
          "0.63%"
         ],
         "textposition": "auto",
         "type": "bar",
         "x": [
          373
         ],
         "xaxis": "x",
         "y": [
          "Opera"
         ],
         "yaxis": "y"
        },
        {
         "alignmentgroup": "True",
         "hovertemplate": "browser=%{y}<br>count=%{x}<br>text=%{text}<extra></extra>",
         "legendgroup": "YaBrowser",
         "marker": {
          "color": "#0d0887"
         },
         "name": "YaBrowser",
         "offsetgroup": "YaBrowser",
         "orientation": "h",
         "showlegend": true,
         "text": [
          "0.24%"
         ],
         "textposition": "auto",
         "type": "bar",
         "x": [
          143
         ],
         "xaxis": "x",
         "y": [
          "YaBrowser"
         ],
         "yaxis": "y"
        }
       ],
       "layout": {
        "barmode": "relative",
        "legend": {
         "title": {
          "text": "browser"
         },
         "tracegroupgap": 0
        },
        "template": {
         "data": {
          "bar": [
           {
            "error_x": {
             "color": "#2a3f5f"
            },
            "error_y": {
             "color": "#2a3f5f"
            },
            "marker": {
             "line": {
              "color": "#E5ECF6",
              "width": 0.5
             }
            },
            "type": "bar"
           }
          ],
          "barpolar": [
           {
            "marker": {
             "line": {
              "color": "#E5ECF6",
              "width": 0.5
             }
            },
            "type": "barpolar"
           }
          ],
          "carpet": [
           {
            "aaxis": {
             "endlinecolor": "#2a3f5f",
             "gridcolor": "white",
             "linecolor": "white",
             "minorgridcolor": "white",
             "startlinecolor": "#2a3f5f"
            },
            "baxis": {
             "endlinecolor": "#2a3f5f",
             "gridcolor": "white",
             "linecolor": "white",
             "minorgridcolor": "white",
             "startlinecolor": "#2a3f5f"
            },
            "type": "carpet"
           }
          ],
          "choropleth": [
           {
            "colorbar": {
             "outlinewidth": 0,
             "ticks": ""
            },
            "type": "choropleth"
           }
          ],
          "contour": [
           {
            "colorbar": {
             "outlinewidth": 0,
             "ticks": ""
            },
            "colorscale": [
             [
              0,
              "#0d0887"
             ],
             [
              0.1111111111111111,
              "#46039f"
             ],
             [
              0.2222222222222222,
              "#7201a8"
             ],
             [
              0.3333333333333333,
              "#9c179e"
             ],
             [
              0.4444444444444444,
              "#bd3786"
             ],
             [
              0.5555555555555556,
              "#d8576b"
             ],
             [
              0.6666666666666666,
              "#ed7953"
             ],
             [
              0.7777777777777778,
              "#fb9f3a"
             ],
             [
              0.8888888888888888,
              "#fdca26"
             ],
             [
              1,
              "#f0f921"
             ]
            ],
            "type": "contour"
           }
          ],
          "contourcarpet": [
           {
            "colorbar": {
             "outlinewidth": 0,
             "ticks": ""
            },
            "type": "contourcarpet"
           }
          ],
          "heatmap": [
           {
            "colorbar": {
             "outlinewidth": 0,
             "ticks": ""
            },
            "colorscale": [
             [
              0,
              "#0d0887"
             ],
             [
              0.1111111111111111,
              "#46039f"
             ],
             [
              0.2222222222222222,
              "#7201a8"
             ],
             [
              0.3333333333333333,
              "#9c179e"
             ],
             [
              0.4444444444444444,
              "#bd3786"
             ],
             [
              0.5555555555555556,
              "#d8576b"
             ],
             [
              0.6666666666666666,
              "#ed7953"
             ],
             [
              0.7777777777777778,
              "#fb9f3a"
             ],
             [
              0.8888888888888888,
              "#fdca26"
             ],
             [
              1,
              "#f0f921"
             ]
            ],
            "type": "heatmap"
           }
          ],
          "heatmapgl": [
           {
            "colorbar": {
             "outlinewidth": 0,
             "ticks": ""
            },
            "colorscale": [
             [
              0,
              "#0d0887"
             ],
             [
              0.1111111111111111,
              "#46039f"
             ],
             [
              0.2222222222222222,
              "#7201a8"
             ],
             [
              0.3333333333333333,
              "#9c179e"
             ],
             [
              0.4444444444444444,
              "#bd3786"
             ],
             [
              0.5555555555555556,
              "#d8576b"
             ],
             [
              0.6666666666666666,
              "#ed7953"
             ],
             [
              0.7777777777777778,
              "#fb9f3a"
             ],
             [
              0.8888888888888888,
              "#fdca26"
             ],
             [
              1,
              "#f0f921"
             ]
            ],
            "type": "heatmapgl"
           }
          ],
          "histogram": [
           {
            "marker": {
             "colorbar": {
              "outlinewidth": 0,
              "ticks": ""
             }
            },
            "type": "histogram"
           }
          ],
          "histogram2d": [
           {
            "colorbar": {
             "outlinewidth": 0,
             "ticks": ""
            },
            "colorscale": [
             [
              0,
              "#0d0887"
             ],
             [
              0.1111111111111111,
              "#46039f"
             ],
             [
              0.2222222222222222,
              "#7201a8"
             ],
             [
              0.3333333333333333,
              "#9c179e"
             ],
             [
              0.4444444444444444,
              "#bd3786"
             ],
             [
              0.5555555555555556,
              "#d8576b"
             ],
             [
              0.6666666666666666,
              "#ed7953"
             ],
             [
              0.7777777777777778,
              "#fb9f3a"
             ],
             [
              0.8888888888888888,
              "#fdca26"
             ],
             [
              1,
              "#f0f921"
             ]
            ],
            "type": "histogram2d"
           }
          ],
          "histogram2dcontour": [
           {
            "colorbar": {
             "outlinewidth": 0,
             "ticks": ""
            },
            "colorscale": [
             [
              0,
              "#0d0887"
             ],
             [
              0.1111111111111111,
              "#46039f"
             ],
             [
              0.2222222222222222,
              "#7201a8"
             ],
             [
              0.3333333333333333,
              "#9c179e"
             ],
             [
              0.4444444444444444,
              "#bd3786"
             ],
             [
              0.5555555555555556,
              "#d8576b"
             ],
             [
              0.6666666666666666,
              "#ed7953"
             ],
             [
              0.7777777777777778,
              "#fb9f3a"
             ],
             [
              0.8888888888888888,
              "#fdca26"
             ],
             [
              1,
              "#f0f921"
             ]
            ],
            "type": "histogram2dcontour"
           }
          ],
          "mesh3d": [
           {
            "colorbar": {
             "outlinewidth": 0,
             "ticks": ""
            },
            "type": "mesh3d"
           }
          ],
          "parcoords": [
           {
            "line": {
             "colorbar": {
              "outlinewidth": 0,
              "ticks": ""
             }
            },
            "type": "parcoords"
           }
          ],
          "pie": [
           {
            "automargin": true,
            "type": "pie"
           }
          ],
          "scatter": [
           {
            "marker": {
             "colorbar": {
              "outlinewidth": 0,
              "ticks": ""
             }
            },
            "type": "scatter"
           }
          ],
          "scatter3d": [
           {
            "line": {
             "colorbar": {
              "outlinewidth": 0,
              "ticks": ""
             }
            },
            "marker": {
             "colorbar": {
              "outlinewidth": 0,
              "ticks": ""
             }
            },
            "type": "scatter3d"
           }
          ],
          "scattercarpet": [
           {
            "marker": {
             "colorbar": {
              "outlinewidth": 0,
              "ticks": ""
             }
            },
            "type": "scattercarpet"
           }
          ],
          "scattergeo": [
           {
            "marker": {
             "colorbar": {
              "outlinewidth": 0,
              "ticks": ""
             }
            },
            "type": "scattergeo"
           }
          ],
          "scattergl": [
           {
            "marker": {
             "colorbar": {
              "outlinewidth": 0,
              "ticks": ""
             }
            },
            "type": "scattergl"
           }
          ],
          "scattermapbox": [
           {
            "marker": {
             "colorbar": {
              "outlinewidth": 0,
              "ticks": ""
             }
            },
            "type": "scattermapbox"
           }
          ],
          "scatterpolar": [
           {
            "marker": {
             "colorbar": {
              "outlinewidth": 0,
              "ticks": ""
             }
            },
            "type": "scatterpolar"
           }
          ],
          "scatterpolargl": [
           {
            "marker": {
             "colorbar": {
              "outlinewidth": 0,
              "ticks": ""
             }
            },
            "type": "scatterpolargl"
           }
          ],
          "scatterternary": [
           {
            "marker": {
             "colorbar": {
              "outlinewidth": 0,
              "ticks": ""
             }
            },
            "type": "scatterternary"
           }
          ],
          "surface": [
           {
            "colorbar": {
             "outlinewidth": 0,
             "ticks": ""
            },
            "colorscale": [
             [
              0,
              "#0d0887"
             ],
             [
              0.1111111111111111,
              "#46039f"
             ],
             [
              0.2222222222222222,
              "#7201a8"
             ],
             [
              0.3333333333333333,
              "#9c179e"
             ],
             [
              0.4444444444444444,
              "#bd3786"
             ],
             [
              0.5555555555555556,
              "#d8576b"
             ],
             [
              0.6666666666666666,
              "#ed7953"
             ],
             [
              0.7777777777777778,
              "#fb9f3a"
             ],
             [
              0.8888888888888888,
              "#fdca26"
             ],
             [
              1,
              "#f0f921"
             ]
            ],
            "type": "surface"
           }
          ],
          "table": [
           {
            "cells": {
             "fill": {
              "color": "#EBF0F8"
             },
             "line": {
              "color": "white"
             }
            },
            "header": {
             "fill": {
              "color": "#C8D4E3"
             },
             "line": {
              "color": "white"
             }
            },
            "type": "table"
           }
          ]
         },
         "layout": {
          "annotationdefaults": {
           "arrowcolor": "#2a3f5f",
           "arrowhead": 0,
           "arrowwidth": 1
          },
          "autotypenumbers": "strict",
          "coloraxis": {
           "colorbar": {
            "outlinewidth": 0,
            "ticks": ""
           }
          },
          "colorscale": {
           "diverging": [
            [
             0,
             "#8e0152"
            ],
            [
             0.1,
             "#c51b7d"
            ],
            [
             0.2,
             "#de77ae"
            ],
            [
             0.3,
             "#f1b6da"
            ],
            [
             0.4,
             "#fde0ef"
            ],
            [
             0.5,
             "#f7f7f7"
            ],
            [
             0.6,
             "#e6f5d0"
            ],
            [
             0.7,
             "#b8e186"
            ],
            [
             0.8,
             "#7fbc41"
            ],
            [
             0.9,
             "#4d9221"
            ],
            [
             1,
             "#276419"
            ]
           ],
           "sequential": [
            [
             0,
             "#0d0887"
            ],
            [
             0.1111111111111111,
             "#46039f"
            ],
            [
             0.2222222222222222,
             "#7201a8"
            ],
            [
             0.3333333333333333,
             "#9c179e"
            ],
            [
             0.4444444444444444,
             "#bd3786"
            ],
            [
             0.5555555555555556,
             "#d8576b"
            ],
            [
             0.6666666666666666,
             "#ed7953"
            ],
            [
             0.7777777777777778,
             "#fb9f3a"
            ],
            [
             0.8888888888888888,
             "#fdca26"
            ],
            [
             1,
             "#f0f921"
            ]
           ],
           "sequentialminus": [
            [
             0,
             "#0d0887"
            ],
            [
             0.1111111111111111,
             "#46039f"
            ],
            [
             0.2222222222222222,
             "#7201a8"
            ],
            [
             0.3333333333333333,
             "#9c179e"
            ],
            [
             0.4444444444444444,
             "#bd3786"
            ],
            [
             0.5555555555555556,
             "#d8576b"
            ],
            [
             0.6666666666666666,
             "#ed7953"
            ],
            [
             0.7777777777777778,
             "#fb9f3a"
            ],
            [
             0.8888888888888888,
             "#fdca26"
            ],
            [
             1,
             "#f0f921"
            ]
           ]
          },
          "colorway": [
           "#636efa",
           "#EF553B",
           "#00cc96",
           "#ab63fa",
           "#FFA15A",
           "#19d3f3",
           "#FF6692",
           "#B6E880",
           "#FF97FF",
           "#FECB52"
          ],
          "font": {
           "color": "#2a3f5f"
          },
          "geo": {
           "bgcolor": "white",
           "lakecolor": "white",
           "landcolor": "#E5ECF6",
           "showlakes": true,
           "showland": true,
           "subunitcolor": "white"
          },
          "hoverlabel": {
           "align": "left"
          },
          "hovermode": "closest",
          "mapbox": {
           "style": "light"
          },
          "paper_bgcolor": "white",
          "plot_bgcolor": "#E5ECF6",
          "polar": {
           "angularaxis": {
            "gridcolor": "white",
            "linecolor": "white",
            "ticks": ""
           },
           "bgcolor": "#E5ECF6",
           "radialaxis": {
            "gridcolor": "white",
            "linecolor": "white",
            "ticks": ""
           }
          },
          "scene": {
           "xaxis": {
            "backgroundcolor": "#E5ECF6",
            "gridcolor": "white",
            "gridwidth": 2,
            "linecolor": "white",
            "showbackground": true,
            "ticks": "",
            "zerolinecolor": "white"
           },
           "yaxis": {
            "backgroundcolor": "#E5ECF6",
            "gridcolor": "white",
            "gridwidth": 2,
            "linecolor": "white",
            "showbackground": true,
            "ticks": "",
            "zerolinecolor": "white"
           },
           "zaxis": {
            "backgroundcolor": "#E5ECF6",
            "gridcolor": "white",
            "gridwidth": 2,
            "linecolor": "white",
            "showbackground": true,
            "ticks": "",
            "zerolinecolor": "white"
           }
          },
          "shapedefaults": {
           "line": {
            "color": "#2a3f5f"
           }
          },
          "ternary": {
           "aaxis": {
            "gridcolor": "white",
            "linecolor": "white",
            "ticks": ""
           },
           "baxis": {
            "gridcolor": "white",
            "linecolor": "white",
            "ticks": ""
           },
           "bgcolor": "#E5ECF6",
           "caxis": {
            "gridcolor": "white",
            "linecolor": "white",
            "ticks": ""
           }
          },
          "title": {
           "x": 0.05
          },
          "xaxis": {
           "automargin": true,
           "gridcolor": "white",
           "linecolor": "white",
           "ticks": "",
           "title": {
            "standoff": 15
           },
           "zerolinecolor": "white",
           "zerolinewidth": 2
          },
          "yaxis": {
           "automargin": true,
           "gridcolor": "white",
           "linecolor": "white",
           "ticks": "",
           "title": {
            "standoff": 15
           },
           "zerolinecolor": "white",
           "zerolinewidth": 2
          }
         }
        },
        "title": {
         "text": "Browser used by visitors to reach GStore"
        },
        "xaxis": {
         "anchor": "y",
         "domain": [
          0,
          1
         ],
         "title": {
          "text": "count"
         }
        },
        "yaxis": {
         "anchor": "x",
         "categoryarray": [
          "YaBrowser",
          "Opera",
          "Opera Mini",
          "Safari (in-app)",
          "Android Webview",
          "Edge",
          "Internet Explorer",
          "Firefox",
          "Safari",
          "Chrome"
         ],
         "categoryorder": "array",
         "domain": [
          0,
          1
         ],
         "title": {
          "text": "browser"
         }
        }
       }
      },
      "text/html": "<div>                            <div id=\"36bfe941-60bf-4b2c-a8a9-c4ab60d732c3\" class=\"plotly-graph-div\" style=\"height:525px; width:100%;\"></div>            <script type=\"text/javascript\">                require([\"plotly\"], function(Plotly) {                    window.PLOTLYENV=window.PLOTLYENV || {};                                    if (document.getElementById(\"36bfe941-60bf-4b2c-a8a9-c4ab60d732c3\")) {                    Plotly.newPlot(                        \"36bfe941-60bf-4b2c-a8a9-c4ab60d732c3\",                        [{\"alignmentgroup\": \"True\", \"hovertemplate\": \"browser=%{y}<br>count=%{x}<br>text=%{text}<extra></extra>\", \"legendgroup\": \"Chrome\", \"marker\": {\"color\": \"#f0f921\"}, \"name\": \"Chrome\", \"offsetgroup\": \"Chrome\", \"orientation\": \"h\", \"showlegend\": true, \"text\": [\"68.90%\"], \"textposition\": \"auto\", \"type\": \"bar\", \"x\": [41103], \"xaxis\": \"x\", \"y\": [\"Chrome\"], \"yaxis\": \"y\"}, {\"alignmentgroup\": \"True\", \"hovertemplate\": \"browser=%{y}<br>count=%{x}<br>text=%{text}<extra></extra>\", \"legendgroup\": \"Safari\", \"marker\": {\"color\": \"#fdca26\"}, \"name\": \"Safari\", \"offsetgroup\": \"Safari\", \"orientation\": \"h\", \"showlegend\": true, \"text\": [\"20.50%\"], \"textposition\": \"auto\", \"type\": \"bar\", \"x\": [12231], \"xaxis\": \"x\", \"y\": [\"Safari\"], \"yaxis\": \"y\"}, {\"alignmentgroup\": \"True\", \"hovertemplate\": \"browser=%{y}<br>count=%{x}<br>text=%{text}<extra></extra>\", \"legendgroup\": \"Firefox\", \"marker\": {\"color\": \"#fb9f3a\"}, \"name\": \"Firefox\", \"offsetgroup\": \"Firefox\", \"orientation\": \"h\", \"showlegend\": true, \"text\": [\"4.09%\"], \"textposition\": \"auto\", \"type\": \"bar\", \"x\": [2439], \"xaxis\": \"x\", \"y\": [\"Firefox\"], \"yaxis\": \"y\"}, {\"alignmentgroup\": \"True\", \"hovertemplate\": \"browser=%{y}<br>count=%{x}<br>text=%{text}<extra></extra>\", \"legendgroup\": \"Internet Explorer\", \"marker\": {\"color\": \"#ed7953\"}, \"name\": \"Internet Explorer\", \"offsetgroup\": \"Internet Explorer\", \"orientation\": \"h\", \"showlegend\": true, \"text\": [\"2.16%\"], \"textposition\": \"auto\", \"type\": \"bar\", \"x\": [1286], \"xaxis\": \"x\", \"y\": [\"Internet Explorer\"], \"yaxis\": \"y\"}, {\"alignmentgroup\": \"True\", \"hovertemplate\": \"browser=%{y}<br>count=%{x}<br>text=%{text}<extra></extra>\", \"legendgroup\": \"Edge\", \"marker\": {\"color\": \"#d8576b\"}, \"name\": \"Edge\", \"offsetgroup\": \"Edge\", \"orientation\": \"h\", \"showlegend\": true, \"text\": [\"1.13%\"], \"textposition\": \"auto\", \"type\": \"bar\", \"x\": [672], \"xaxis\": \"x\", \"y\": [\"Edge\"], \"yaxis\": \"y\"}, {\"alignmentgroup\": \"True\", \"hovertemplate\": \"browser=%{y}<br>count=%{x}<br>text=%{text}<extra></extra>\", \"legendgroup\": \"Android Webview\", \"marker\": {\"color\": \"#bd3786\"}, \"name\": \"Android Webview\", \"offsetgroup\": \"Android Webview\", \"orientation\": \"h\", \"showlegend\": true, \"text\": [\"0.94%\"], \"textposition\": \"auto\", \"type\": \"bar\", \"x\": [562], \"xaxis\": \"x\", \"y\": [\"Android Webview\"], \"yaxis\": \"y\"}, {\"alignmentgroup\": \"True\", \"hovertemplate\": \"browser=%{y}<br>count=%{x}<br>text=%{text}<extra></extra>\", \"legendgroup\": \"Safari (in-app)\", \"marker\": {\"color\": \"#9c179e\"}, \"name\": \"Safari (in-app)\", \"offsetgroup\": \"Safari (in-app)\", \"orientation\": \"h\", \"showlegend\": true, \"text\": [\"0.76%\"], \"textposition\": \"auto\", \"type\": \"bar\", \"x\": [454], \"xaxis\": \"x\", \"y\": [\"Safari (in-app)\"], \"yaxis\": \"y\"}, {\"alignmentgroup\": \"True\", \"hovertemplate\": \"browser=%{y}<br>count=%{x}<br>text=%{text}<extra></extra>\", \"legendgroup\": \"Opera Mini\", \"marker\": {\"color\": \"#7201a8\"}, \"name\": \"Opera Mini\", \"offsetgroup\": \"Opera Mini\", \"orientation\": \"h\", \"showlegend\": true, \"text\": [\"0.66%\"], \"textposition\": \"auto\", \"type\": \"bar\", \"x\": [395], \"xaxis\": \"x\", \"y\": [\"Opera Mini\"], \"yaxis\": \"y\"}, {\"alignmentgroup\": \"True\", \"hovertemplate\": \"browser=%{y}<br>count=%{x}<br>text=%{text}<extra></extra>\", \"legendgroup\": \"Opera\", \"marker\": {\"color\": \"#46039f\"}, \"name\": \"Opera\", \"offsetgroup\": \"Opera\", \"orientation\": \"h\", \"showlegend\": true, \"text\": [\"0.63%\"], \"textposition\": \"auto\", \"type\": \"bar\", \"x\": [373], \"xaxis\": \"x\", \"y\": [\"Opera\"], \"yaxis\": \"y\"}, {\"alignmentgroup\": \"True\", \"hovertemplate\": \"browser=%{y}<br>count=%{x}<br>text=%{text}<extra></extra>\", \"legendgroup\": \"YaBrowser\", \"marker\": {\"color\": \"#0d0887\"}, \"name\": \"YaBrowser\", \"offsetgroup\": \"YaBrowser\", \"orientation\": \"h\", \"showlegend\": true, \"text\": [\"0.24%\"], \"textposition\": \"auto\", \"type\": \"bar\", \"x\": [143], \"xaxis\": \"x\", \"y\": [\"YaBrowser\"], \"yaxis\": \"y\"}],                        {\"barmode\": \"relative\", \"legend\": {\"title\": {\"text\": \"browser\"}, \"tracegroupgap\": 0}, \"template\": {\"data\": {\"bar\": [{\"error_x\": {\"color\": \"#2a3f5f\"}, \"error_y\": {\"color\": \"#2a3f5f\"}, \"marker\": {\"line\": {\"color\": \"#E5ECF6\", \"width\": 0.5}}, \"type\": \"bar\"}], \"barpolar\": [{\"marker\": {\"line\": {\"color\": \"#E5ECF6\", \"width\": 0.5}}, \"type\": \"barpolar\"}], \"carpet\": [{\"aaxis\": {\"endlinecolor\": \"#2a3f5f\", \"gridcolor\": \"white\", \"linecolor\": \"white\", \"minorgridcolor\": \"white\", \"startlinecolor\": \"#2a3f5f\"}, \"baxis\": {\"endlinecolor\": \"#2a3f5f\", \"gridcolor\": \"white\", \"linecolor\": \"white\", \"minorgridcolor\": \"white\", \"startlinecolor\": \"#2a3f5f\"}, \"type\": \"carpet\"}], \"choropleth\": [{\"colorbar\": {\"outlinewidth\": 0, \"ticks\": \"\"}, \"type\": \"choropleth\"}], \"contour\": [{\"colorbar\": {\"outlinewidth\": 0, \"ticks\": \"\"}, \"colorscale\": [[0.0, \"#0d0887\"], [0.1111111111111111, \"#46039f\"], [0.2222222222222222, \"#7201a8\"], [0.3333333333333333, \"#9c179e\"], [0.4444444444444444, \"#bd3786\"], [0.5555555555555556, \"#d8576b\"], [0.6666666666666666, \"#ed7953\"], [0.7777777777777778, \"#fb9f3a\"], [0.8888888888888888, \"#fdca26\"], [1.0, \"#f0f921\"]], \"type\": \"contour\"}], \"contourcarpet\": [{\"colorbar\": {\"outlinewidth\": 0, \"ticks\": \"\"}, \"type\": \"contourcarpet\"}], \"heatmap\": [{\"colorbar\": {\"outlinewidth\": 0, \"ticks\": \"\"}, \"colorscale\": [[0.0, \"#0d0887\"], [0.1111111111111111, \"#46039f\"], [0.2222222222222222, \"#7201a8\"], [0.3333333333333333, \"#9c179e\"], [0.4444444444444444, \"#bd3786\"], [0.5555555555555556, \"#d8576b\"], [0.6666666666666666, \"#ed7953\"], [0.7777777777777778, \"#fb9f3a\"], [0.8888888888888888, \"#fdca26\"], [1.0, \"#f0f921\"]], \"type\": \"heatmap\"}], \"heatmapgl\": [{\"colorbar\": {\"outlinewidth\": 0, \"ticks\": \"\"}, \"colorscale\": [[0.0, \"#0d0887\"], [0.1111111111111111, \"#46039f\"], [0.2222222222222222, \"#7201a8\"], [0.3333333333333333, \"#9c179e\"], [0.4444444444444444, \"#bd3786\"], [0.5555555555555556, \"#d8576b\"], [0.6666666666666666, \"#ed7953\"], [0.7777777777777778, \"#fb9f3a\"], [0.8888888888888888, \"#fdca26\"], [1.0, \"#f0f921\"]], \"type\": \"heatmapgl\"}], \"histogram\": [{\"marker\": {\"colorbar\": {\"outlinewidth\": 0, \"ticks\": \"\"}}, \"type\": \"histogram\"}], \"histogram2d\": [{\"colorbar\": {\"outlinewidth\": 0, \"ticks\": \"\"}, \"colorscale\": [[0.0, \"#0d0887\"], [0.1111111111111111, \"#46039f\"], [0.2222222222222222, \"#7201a8\"], [0.3333333333333333, \"#9c179e\"], [0.4444444444444444, \"#bd3786\"], [0.5555555555555556, \"#d8576b\"], [0.6666666666666666, \"#ed7953\"], [0.7777777777777778, \"#fb9f3a\"], [0.8888888888888888, \"#fdca26\"], [1.0, \"#f0f921\"]], \"type\": \"histogram2d\"}], \"histogram2dcontour\": [{\"colorbar\": {\"outlinewidth\": 0, \"ticks\": \"\"}, \"colorscale\": [[0.0, \"#0d0887\"], [0.1111111111111111, \"#46039f\"], [0.2222222222222222, \"#7201a8\"], [0.3333333333333333, \"#9c179e\"], [0.4444444444444444, \"#bd3786\"], [0.5555555555555556, \"#d8576b\"], [0.6666666666666666, \"#ed7953\"], [0.7777777777777778, \"#fb9f3a\"], [0.8888888888888888, \"#fdca26\"], [1.0, \"#f0f921\"]], \"type\": \"histogram2dcontour\"}], \"mesh3d\": [{\"colorbar\": {\"outlinewidth\": 0, \"ticks\": \"\"}, \"type\": \"mesh3d\"}], \"parcoords\": [{\"line\": {\"colorbar\": {\"outlinewidth\": 0, \"ticks\": \"\"}}, \"type\": \"parcoords\"}], \"pie\": [{\"automargin\": true, \"type\": \"pie\"}], \"scatter\": [{\"marker\": {\"colorbar\": {\"outlinewidth\": 0, \"ticks\": \"\"}}, \"type\": \"scatter\"}], \"scatter3d\": [{\"line\": {\"colorbar\": {\"outlinewidth\": 0, \"ticks\": \"\"}}, \"marker\": {\"colorbar\": {\"outlinewidth\": 0, \"ticks\": \"\"}}, \"type\": \"scatter3d\"}], \"scattercarpet\": [{\"marker\": {\"colorbar\": {\"outlinewidth\": 0, \"ticks\": \"\"}}, \"type\": \"scattercarpet\"}], \"scattergeo\": [{\"marker\": {\"colorbar\": {\"outlinewidth\": 0, \"ticks\": \"\"}}, \"type\": \"scattergeo\"}], \"scattergl\": [{\"marker\": {\"colorbar\": {\"outlinewidth\": 0, \"ticks\": \"\"}}, \"type\": \"scattergl\"}], \"scattermapbox\": [{\"marker\": {\"colorbar\": {\"outlinewidth\": 0, \"ticks\": \"\"}}, \"type\": \"scattermapbox\"}], \"scatterpolar\": [{\"marker\": {\"colorbar\": {\"outlinewidth\": 0, \"ticks\": \"\"}}, \"type\": \"scatterpolar\"}], \"scatterpolargl\": [{\"marker\": {\"colorbar\": {\"outlinewidth\": 0, \"ticks\": \"\"}}, \"type\": \"scatterpolargl\"}], \"scatterternary\": [{\"marker\": {\"colorbar\": {\"outlinewidth\": 0, \"ticks\": \"\"}}, \"type\": \"scatterternary\"}], \"surface\": [{\"colorbar\": {\"outlinewidth\": 0, \"ticks\": \"\"}, \"colorscale\": [[0.0, \"#0d0887\"], [0.1111111111111111, \"#46039f\"], [0.2222222222222222, \"#7201a8\"], [0.3333333333333333, \"#9c179e\"], [0.4444444444444444, \"#bd3786\"], [0.5555555555555556, \"#d8576b\"], [0.6666666666666666, \"#ed7953\"], [0.7777777777777778, \"#fb9f3a\"], [0.8888888888888888, \"#fdca26\"], [1.0, \"#f0f921\"]], \"type\": \"surface\"}], \"table\": [{\"cells\": {\"fill\": {\"color\": \"#EBF0F8\"}, \"line\": {\"color\": \"white\"}}, \"header\": {\"fill\": {\"color\": \"#C8D4E3\"}, \"line\": {\"color\": \"white\"}}, \"type\": \"table\"}]}, \"layout\": {\"annotationdefaults\": {\"arrowcolor\": \"#2a3f5f\", \"arrowhead\": 0, \"arrowwidth\": 1}, \"autotypenumbers\": \"strict\", \"coloraxis\": {\"colorbar\": {\"outlinewidth\": 0, \"ticks\": \"\"}}, \"colorscale\": {\"diverging\": [[0, \"#8e0152\"], [0.1, \"#c51b7d\"], [0.2, \"#de77ae\"], [0.3, \"#f1b6da\"], [0.4, \"#fde0ef\"], [0.5, \"#f7f7f7\"], [0.6, \"#e6f5d0\"], [0.7, \"#b8e186\"], [0.8, \"#7fbc41\"], [0.9, \"#4d9221\"], [1, \"#276419\"]], \"sequential\": [[0.0, \"#0d0887\"], [0.1111111111111111, \"#46039f\"], [0.2222222222222222, \"#7201a8\"], [0.3333333333333333, \"#9c179e\"], [0.4444444444444444, \"#bd3786\"], [0.5555555555555556, \"#d8576b\"], [0.6666666666666666, \"#ed7953\"], [0.7777777777777778, \"#fb9f3a\"], [0.8888888888888888, \"#fdca26\"], [1.0, \"#f0f921\"]], \"sequentialminus\": [[0.0, \"#0d0887\"], [0.1111111111111111, \"#46039f\"], [0.2222222222222222, \"#7201a8\"], [0.3333333333333333, \"#9c179e\"], [0.4444444444444444, \"#bd3786\"], [0.5555555555555556, \"#d8576b\"], [0.6666666666666666, \"#ed7953\"], [0.7777777777777778, \"#fb9f3a\"], [0.8888888888888888, \"#fdca26\"], [1.0, \"#f0f921\"]]}, \"colorway\": [\"#636efa\", \"#EF553B\", \"#00cc96\", \"#ab63fa\", \"#FFA15A\", \"#19d3f3\", \"#FF6692\", \"#B6E880\", \"#FF97FF\", \"#FECB52\"], \"font\": {\"color\": \"#2a3f5f\"}, \"geo\": {\"bgcolor\": \"white\", \"lakecolor\": \"white\", \"landcolor\": \"#E5ECF6\", \"showlakes\": true, \"showland\": true, \"subunitcolor\": \"white\"}, \"hoverlabel\": {\"align\": \"left\"}, \"hovermode\": \"closest\", \"mapbox\": {\"style\": \"light\"}, \"paper_bgcolor\": \"white\", \"plot_bgcolor\": \"#E5ECF6\", \"polar\": {\"angularaxis\": {\"gridcolor\": \"white\", \"linecolor\": \"white\", \"ticks\": \"\"}, \"bgcolor\": \"#E5ECF6\", \"radialaxis\": {\"gridcolor\": \"white\", \"linecolor\": \"white\", \"ticks\": \"\"}}, \"scene\": {\"xaxis\": {\"backgroundcolor\": \"#E5ECF6\", \"gridcolor\": \"white\", \"gridwidth\": 2, \"linecolor\": \"white\", \"showbackground\": true, \"ticks\": \"\", \"zerolinecolor\": \"white\"}, \"yaxis\": {\"backgroundcolor\": \"#E5ECF6\", \"gridcolor\": \"white\", \"gridwidth\": 2, \"linecolor\": \"white\", \"showbackground\": true, \"ticks\": \"\", \"zerolinecolor\": \"white\"}, \"zaxis\": {\"backgroundcolor\": \"#E5ECF6\", \"gridcolor\": \"white\", \"gridwidth\": 2, \"linecolor\": \"white\", \"showbackground\": true, \"ticks\": \"\", \"zerolinecolor\": \"white\"}}, \"shapedefaults\": {\"line\": {\"color\": \"#2a3f5f\"}}, \"ternary\": {\"aaxis\": {\"gridcolor\": \"white\", \"linecolor\": \"white\", \"ticks\": \"\"}, \"baxis\": {\"gridcolor\": \"white\", \"linecolor\": \"white\", \"ticks\": \"\"}, \"bgcolor\": \"#E5ECF6\", \"caxis\": {\"gridcolor\": \"white\", \"linecolor\": \"white\", \"ticks\": \"\"}}, \"title\": {\"x\": 0.05}, \"xaxis\": {\"automargin\": true, \"gridcolor\": \"white\", \"linecolor\": \"white\", \"ticks\": \"\", \"title\": {\"standoff\": 15}, \"zerolinecolor\": \"white\", \"zerolinewidth\": 2}, \"yaxis\": {\"automargin\": true, \"gridcolor\": \"white\", \"linecolor\": \"white\", \"ticks\": \"\", \"title\": {\"standoff\": 15}, \"zerolinecolor\": \"white\", \"zerolinewidth\": 2}}}, \"title\": {\"text\": \"Browser used by visitors to reach GStore\"}, \"xaxis\": {\"anchor\": \"y\", \"domain\": [0.0, 1.0], \"title\": {\"text\": \"count\"}}, \"yaxis\": {\"anchor\": \"x\", \"categoryarray\": [\"YaBrowser\", \"Opera\", \"Opera Mini\", \"Safari (in-app)\", \"Android Webview\", \"Edge\", \"Internet Explorer\", \"Firefox\", \"Safari\", \"Chrome\"], \"categoryorder\": \"array\", \"domain\": [0.0, 1.0], \"title\": {\"text\": \"browser\"}}},                        {\"responsive\": true}                    ).then(function(){\n                            \nvar gd = document.getElementById('36bfe941-60bf-4b2c-a8a9-c4ab60d732c3');\nvar x = new MutationObserver(function (mutations, observer) {{\n        var display = window.getComputedStyle(gd).display;\n        if (!display || display === 'none') {{\n            console.log([gd, 'removed!']);\n            Plotly.purge(gd);\n            observer.disconnect();\n        }}\n}});\n\n// Listen for the removal of the full notebook cells\nvar notebookContainer = gd.closest('#notebook-container');\nif (notebookContainer) {{\n    x.observe(notebookContainer, {childList: true});\n}}\n\n// Listen for the clearing of the current output cell\nvar outputEl = gd.closest('.output');\nif (outputEl) {{\n    x.observe(outputEl, {childList: true});\n}}\n\n                        })                };                });            </script>        </div>"
     },
     "metadata": {}
    }
   ],
   "source": [
    "fig = px.bar(most_used_browser, x=\"count\", y=\"browser\", title=\"Browser used by visitors to reach GStore\",\n",
    "orientation='h',\n",
    "color=\"browser\",color_discrete_sequence=px.colors.sequential.Plasma_r,\n",
    "text=most_used_browser['percent'].apply(lambda x: '{0:1.2f}%'.format(x)))\n",
    "fig.show()"
   ]
  },
  {
   "cell_type": "code",
   "execution_count": 101,
   "metadata": {},
   "outputs": [],
   "source": [
    "# sns.set_theme(style=\"darkgrid\")\n",
    "# sns.set(rc={'figure.figsize':(12,8)})\n",
    "# sns.barplot(y=\"browser\",x=\"count\", data=most_used_browser[:10],palette=\"flare\")"
   ]
  },
  {
   "cell_type": "code",
   "execution_count": 103,
   "metadata": {},
   "outputs": [
    {
     "output_type": "execute_result",
     "data": {
      "text/plain": [
       "              os  count  percent\n",
       "0        Windows  23165    38.62\n",
       "1      Macintosh  16869    28.13\n",
       "2        Android   8097    13.50\n",
       "3            iOS   7198    12.00\n",
       "4          Linux   2424     4.04\n",
       "5      Chrome OS   1813     3.02\n",
       "6      (not set)    298     0.50\n",
       "7  Windows Phone     80     0.13\n",
       "8        Samsung     21     0.04\n",
       "9     BlackBerry     13     0.02"
      ],
      "text/html": "<div>\n<style scoped>\n    .dataframe tbody tr th:only-of-type {\n        vertical-align: middle;\n    }\n\n    .dataframe tbody tr th {\n        vertical-align: top;\n    }\n\n    .dataframe thead th {\n        text-align: right;\n    }\n</style>\n<table border=\"1\" class=\"dataframe\">\n  <thead>\n    <tr style=\"text-align: right;\">\n      <th></th>\n      <th>os</th>\n      <th>count</th>\n      <th>percent</th>\n    </tr>\n  </thead>\n  <tbody>\n    <tr>\n      <th>0</th>\n      <td>Windows</td>\n      <td>23165</td>\n      <td>38.62</td>\n    </tr>\n    <tr>\n      <th>1</th>\n      <td>Macintosh</td>\n      <td>16869</td>\n      <td>28.13</td>\n    </tr>\n    <tr>\n      <th>2</th>\n      <td>Android</td>\n      <td>8097</td>\n      <td>13.50</td>\n    </tr>\n    <tr>\n      <th>3</th>\n      <td>iOS</td>\n      <td>7198</td>\n      <td>12.00</td>\n    </tr>\n    <tr>\n      <th>4</th>\n      <td>Linux</td>\n      <td>2424</td>\n      <td>4.04</td>\n    </tr>\n    <tr>\n      <th>5</th>\n      <td>Chrome OS</td>\n      <td>1813</td>\n      <td>3.02</td>\n    </tr>\n    <tr>\n      <th>6</th>\n      <td>(not set)</td>\n      <td>298</td>\n      <td>0.50</td>\n    </tr>\n    <tr>\n      <th>7</th>\n      <td>Windows Phone</td>\n      <td>80</td>\n      <td>0.13</td>\n    </tr>\n    <tr>\n      <th>8</th>\n      <td>Samsung</td>\n      <td>21</td>\n      <td>0.04</td>\n    </tr>\n    <tr>\n      <th>9</th>\n      <td>BlackBerry</td>\n      <td>13</td>\n      <td>0.02</td>\n    </tr>\n  </tbody>\n</table>\n</div>"
     },
     "metadata": {},
     "execution_count": 103
    }
   ],
   "source": [
    "OS = device.groupby(\"operatingSystem\")[\"isMobile\"].count().sort_values(ascending=False).reset_index()[:10]\n",
    "OS.columns=[\"os\",\"count\"]\n",
    "OS[\"percent\"] = round((OS[\"count\"] / OS[\"count\"].sum())*100,2)\n",
    "OS"
   ]
  },
  {
   "cell_type": "code",
   "execution_count": 107,
   "metadata": {},
   "outputs": [
    {
     "output_type": "display_data",
     "data": {
      "application/vnd.plotly.v1+json": {
       "config": {
        "plotlyServerURL": "https://plotly.com"
       },
       "data": [
        {
         "alignmentgroup": "True",
         "hovertemplate": "os=%{y}<br>count=%{x}<br>text=%{text}<extra></extra>",
         "legendgroup": "Windows",
         "marker": {
          "color": "#f0f921"
         },
         "name": "Windows",
         "offsetgroup": "Windows",
         "orientation": "h",
         "showlegend": true,
         "text": [
          "38.62%"
         ],
         "textposition": "auto",
         "type": "bar",
         "x": [
          23165
         ],
         "xaxis": "x",
         "y": [
          "Windows"
         ],
         "yaxis": "y"
        },
        {
         "alignmentgroup": "True",
         "hovertemplate": "os=%{y}<br>count=%{x}<br>text=%{text}<extra></extra>",
         "legendgroup": "Macintosh",
         "marker": {
          "color": "#fdca26"
         },
         "name": "Macintosh",
         "offsetgroup": "Macintosh",
         "orientation": "h",
         "showlegend": true,
         "text": [
          "28.13%"
         ],
         "textposition": "auto",
         "type": "bar",
         "x": [
          16869
         ],
         "xaxis": "x",
         "y": [
          "Macintosh"
         ],
         "yaxis": "y"
        },
        {
         "alignmentgroup": "True",
         "hovertemplate": "os=%{y}<br>count=%{x}<br>text=%{text}<extra></extra>",
         "legendgroup": "Android",
         "marker": {
          "color": "#fb9f3a"
         },
         "name": "Android",
         "offsetgroup": "Android",
         "orientation": "h",
         "showlegend": true,
         "text": [
          "13.50%"
         ],
         "textposition": "auto",
         "type": "bar",
         "x": [
          8097
         ],
         "xaxis": "x",
         "y": [
          "Android"
         ],
         "yaxis": "y"
        },
        {
         "alignmentgroup": "True",
         "hovertemplate": "os=%{y}<br>count=%{x}<br>text=%{text}<extra></extra>",
         "legendgroup": "iOS",
         "marker": {
          "color": "#ed7953"
         },
         "name": "iOS",
         "offsetgroup": "iOS",
         "orientation": "h",
         "showlegend": true,
         "text": [
          "12.00%"
         ],
         "textposition": "auto",
         "type": "bar",
         "x": [
          7198
         ],
         "xaxis": "x",
         "y": [
          "iOS"
         ],
         "yaxis": "y"
        },
        {
         "alignmentgroup": "True",
         "hovertemplate": "os=%{y}<br>count=%{x}<br>text=%{text}<extra></extra>",
         "legendgroup": "Linux",
         "marker": {
          "color": "#d8576b"
         },
         "name": "Linux",
         "offsetgroup": "Linux",
         "orientation": "h",
         "showlegend": true,
         "text": [
          "4.04%"
         ],
         "textposition": "auto",
         "type": "bar",
         "x": [
          2424
         ],
         "xaxis": "x",
         "y": [
          "Linux"
         ],
         "yaxis": "y"
        },
        {
         "alignmentgroup": "True",
         "hovertemplate": "os=%{y}<br>count=%{x}<br>text=%{text}<extra></extra>",
         "legendgroup": "Chrome OS",
         "marker": {
          "color": "#bd3786"
         },
         "name": "Chrome OS",
         "offsetgroup": "Chrome OS",
         "orientation": "h",
         "showlegend": true,
         "text": [
          "3.02%"
         ],
         "textposition": "auto",
         "type": "bar",
         "x": [
          1813
         ],
         "xaxis": "x",
         "y": [
          "Chrome OS"
         ],
         "yaxis": "y"
        },
        {
         "alignmentgroup": "True",
         "hovertemplate": "os=%{y}<br>count=%{x}<br>text=%{text}<extra></extra>",
         "legendgroup": "(not set)",
         "marker": {
          "color": "#9c179e"
         },
         "name": "(not set)",
         "offsetgroup": "(not set)",
         "orientation": "h",
         "showlegend": true,
         "text": [
          "0.50%"
         ],
         "textposition": "auto",
         "type": "bar",
         "x": [
          298
         ],
         "xaxis": "x",
         "y": [
          "(not set)"
         ],
         "yaxis": "y"
        },
        {
         "alignmentgroup": "True",
         "hovertemplate": "os=%{y}<br>count=%{x}<br>text=%{text}<extra></extra>",
         "legendgroup": "Windows Phone",
         "marker": {
          "color": "#7201a8"
         },
         "name": "Windows Phone",
         "offsetgroup": "Windows Phone",
         "orientation": "h",
         "showlegend": true,
         "text": [
          "0.13%"
         ],
         "textposition": "auto",
         "type": "bar",
         "x": [
          80
         ],
         "xaxis": "x",
         "y": [
          "Windows Phone"
         ],
         "yaxis": "y"
        },
        {
         "alignmentgroup": "True",
         "hovertemplate": "os=%{y}<br>count=%{x}<br>text=%{text}<extra></extra>",
         "legendgroup": "Samsung",
         "marker": {
          "color": "#46039f"
         },
         "name": "Samsung",
         "offsetgroup": "Samsung",
         "orientation": "h",
         "showlegend": true,
         "text": [
          "0.04%"
         ],
         "textposition": "auto",
         "type": "bar",
         "x": [
          21
         ],
         "xaxis": "x",
         "y": [
          "Samsung"
         ],
         "yaxis": "y"
        },
        {
         "alignmentgroup": "True",
         "hovertemplate": "os=%{y}<br>count=%{x}<br>text=%{text}<extra></extra>",
         "legendgroup": "BlackBerry",
         "marker": {
          "color": "#0d0887"
         },
         "name": "BlackBerry",
         "offsetgroup": "BlackBerry",
         "orientation": "h",
         "showlegend": true,
         "text": [
          "0.02%"
         ],
         "textposition": "auto",
         "type": "bar",
         "x": [
          13
         ],
         "xaxis": "x",
         "y": [
          "BlackBerry"
         ],
         "yaxis": "y"
        }
       ],
       "layout": {
        "barmode": "relative",
        "legend": {
         "title": {
          "text": "os"
         },
         "tracegroupgap": 0
        },
        "template": {
         "data": {
          "bar": [
           {
            "error_x": {
             "color": "#2a3f5f"
            },
            "error_y": {
             "color": "#2a3f5f"
            },
            "marker": {
             "line": {
              "color": "#E5ECF6",
              "width": 0.5
             }
            },
            "type": "bar"
           }
          ],
          "barpolar": [
           {
            "marker": {
             "line": {
              "color": "#E5ECF6",
              "width": 0.5
             }
            },
            "type": "barpolar"
           }
          ],
          "carpet": [
           {
            "aaxis": {
             "endlinecolor": "#2a3f5f",
             "gridcolor": "white",
             "linecolor": "white",
             "minorgridcolor": "white",
             "startlinecolor": "#2a3f5f"
            },
            "baxis": {
             "endlinecolor": "#2a3f5f",
             "gridcolor": "white",
             "linecolor": "white",
             "minorgridcolor": "white",
             "startlinecolor": "#2a3f5f"
            },
            "type": "carpet"
           }
          ],
          "choropleth": [
           {
            "colorbar": {
             "outlinewidth": 0,
             "ticks": ""
            },
            "type": "choropleth"
           }
          ],
          "contour": [
           {
            "colorbar": {
             "outlinewidth": 0,
             "ticks": ""
            },
            "colorscale": [
             [
              0,
              "#0d0887"
             ],
             [
              0.1111111111111111,
              "#46039f"
             ],
             [
              0.2222222222222222,
              "#7201a8"
             ],
             [
              0.3333333333333333,
              "#9c179e"
             ],
             [
              0.4444444444444444,
              "#bd3786"
             ],
             [
              0.5555555555555556,
              "#d8576b"
             ],
             [
              0.6666666666666666,
              "#ed7953"
             ],
             [
              0.7777777777777778,
              "#fb9f3a"
             ],
             [
              0.8888888888888888,
              "#fdca26"
             ],
             [
              1,
              "#f0f921"
             ]
            ],
            "type": "contour"
           }
          ],
          "contourcarpet": [
           {
            "colorbar": {
             "outlinewidth": 0,
             "ticks": ""
            },
            "type": "contourcarpet"
           }
          ],
          "heatmap": [
           {
            "colorbar": {
             "outlinewidth": 0,
             "ticks": ""
            },
            "colorscale": [
             [
              0,
              "#0d0887"
             ],
             [
              0.1111111111111111,
              "#46039f"
             ],
             [
              0.2222222222222222,
              "#7201a8"
             ],
             [
              0.3333333333333333,
              "#9c179e"
             ],
             [
              0.4444444444444444,
              "#bd3786"
             ],
             [
              0.5555555555555556,
              "#d8576b"
             ],
             [
              0.6666666666666666,
              "#ed7953"
             ],
             [
              0.7777777777777778,
              "#fb9f3a"
             ],
             [
              0.8888888888888888,
              "#fdca26"
             ],
             [
              1,
              "#f0f921"
             ]
            ],
            "type": "heatmap"
           }
          ],
          "heatmapgl": [
           {
            "colorbar": {
             "outlinewidth": 0,
             "ticks": ""
            },
            "colorscale": [
             [
              0,
              "#0d0887"
             ],
             [
              0.1111111111111111,
              "#46039f"
             ],
             [
              0.2222222222222222,
              "#7201a8"
             ],
             [
              0.3333333333333333,
              "#9c179e"
             ],
             [
              0.4444444444444444,
              "#bd3786"
             ],
             [
              0.5555555555555556,
              "#d8576b"
             ],
             [
              0.6666666666666666,
              "#ed7953"
             ],
             [
              0.7777777777777778,
              "#fb9f3a"
             ],
             [
              0.8888888888888888,
              "#fdca26"
             ],
             [
              1,
              "#f0f921"
             ]
            ],
            "type": "heatmapgl"
           }
          ],
          "histogram": [
           {
            "marker": {
             "colorbar": {
              "outlinewidth": 0,
              "ticks": ""
             }
            },
            "type": "histogram"
           }
          ],
          "histogram2d": [
           {
            "colorbar": {
             "outlinewidth": 0,
             "ticks": ""
            },
            "colorscale": [
             [
              0,
              "#0d0887"
             ],
             [
              0.1111111111111111,
              "#46039f"
             ],
             [
              0.2222222222222222,
              "#7201a8"
             ],
             [
              0.3333333333333333,
              "#9c179e"
             ],
             [
              0.4444444444444444,
              "#bd3786"
             ],
             [
              0.5555555555555556,
              "#d8576b"
             ],
             [
              0.6666666666666666,
              "#ed7953"
             ],
             [
              0.7777777777777778,
              "#fb9f3a"
             ],
             [
              0.8888888888888888,
              "#fdca26"
             ],
             [
              1,
              "#f0f921"
             ]
            ],
            "type": "histogram2d"
           }
          ],
          "histogram2dcontour": [
           {
            "colorbar": {
             "outlinewidth": 0,
             "ticks": ""
            },
            "colorscale": [
             [
              0,
              "#0d0887"
             ],
             [
              0.1111111111111111,
              "#46039f"
             ],
             [
              0.2222222222222222,
              "#7201a8"
             ],
             [
              0.3333333333333333,
              "#9c179e"
             ],
             [
              0.4444444444444444,
              "#bd3786"
             ],
             [
              0.5555555555555556,
              "#d8576b"
             ],
             [
              0.6666666666666666,
              "#ed7953"
             ],
             [
              0.7777777777777778,
              "#fb9f3a"
             ],
             [
              0.8888888888888888,
              "#fdca26"
             ],
             [
              1,
              "#f0f921"
             ]
            ],
            "type": "histogram2dcontour"
           }
          ],
          "mesh3d": [
           {
            "colorbar": {
             "outlinewidth": 0,
             "ticks": ""
            },
            "type": "mesh3d"
           }
          ],
          "parcoords": [
           {
            "line": {
             "colorbar": {
              "outlinewidth": 0,
              "ticks": ""
             }
            },
            "type": "parcoords"
           }
          ],
          "pie": [
           {
            "automargin": true,
            "type": "pie"
           }
          ],
          "scatter": [
           {
            "marker": {
             "colorbar": {
              "outlinewidth": 0,
              "ticks": ""
             }
            },
            "type": "scatter"
           }
          ],
          "scatter3d": [
           {
            "line": {
             "colorbar": {
              "outlinewidth": 0,
              "ticks": ""
             }
            },
            "marker": {
             "colorbar": {
              "outlinewidth": 0,
              "ticks": ""
             }
            },
            "type": "scatter3d"
           }
          ],
          "scattercarpet": [
           {
            "marker": {
             "colorbar": {
              "outlinewidth": 0,
              "ticks": ""
             }
            },
            "type": "scattercarpet"
           }
          ],
          "scattergeo": [
           {
            "marker": {
             "colorbar": {
              "outlinewidth": 0,
              "ticks": ""
             }
            },
            "type": "scattergeo"
           }
          ],
          "scattergl": [
           {
            "marker": {
             "colorbar": {
              "outlinewidth": 0,
              "ticks": ""
             }
            },
            "type": "scattergl"
           }
          ],
          "scattermapbox": [
           {
            "marker": {
             "colorbar": {
              "outlinewidth": 0,
              "ticks": ""
             }
            },
            "type": "scattermapbox"
           }
          ],
          "scatterpolar": [
           {
            "marker": {
             "colorbar": {
              "outlinewidth": 0,
              "ticks": ""
             }
            },
            "type": "scatterpolar"
           }
          ],
          "scatterpolargl": [
           {
            "marker": {
             "colorbar": {
              "outlinewidth": 0,
              "ticks": ""
             }
            },
            "type": "scatterpolargl"
           }
          ],
          "scatterternary": [
           {
            "marker": {
             "colorbar": {
              "outlinewidth": 0,
              "ticks": ""
             }
            },
            "type": "scatterternary"
           }
          ],
          "surface": [
           {
            "colorbar": {
             "outlinewidth": 0,
             "ticks": ""
            },
            "colorscale": [
             [
              0,
              "#0d0887"
             ],
             [
              0.1111111111111111,
              "#46039f"
             ],
             [
              0.2222222222222222,
              "#7201a8"
             ],
             [
              0.3333333333333333,
              "#9c179e"
             ],
             [
              0.4444444444444444,
              "#bd3786"
             ],
             [
              0.5555555555555556,
              "#d8576b"
             ],
             [
              0.6666666666666666,
              "#ed7953"
             ],
             [
              0.7777777777777778,
              "#fb9f3a"
             ],
             [
              0.8888888888888888,
              "#fdca26"
             ],
             [
              1,
              "#f0f921"
             ]
            ],
            "type": "surface"
           }
          ],
          "table": [
           {
            "cells": {
             "fill": {
              "color": "#EBF0F8"
             },
             "line": {
              "color": "white"
             }
            },
            "header": {
             "fill": {
              "color": "#C8D4E3"
             },
             "line": {
              "color": "white"
             }
            },
            "type": "table"
           }
          ]
         },
         "layout": {
          "annotationdefaults": {
           "arrowcolor": "#2a3f5f",
           "arrowhead": 0,
           "arrowwidth": 1
          },
          "autotypenumbers": "strict",
          "coloraxis": {
           "colorbar": {
            "outlinewidth": 0,
            "ticks": ""
           }
          },
          "colorscale": {
           "diverging": [
            [
             0,
             "#8e0152"
            ],
            [
             0.1,
             "#c51b7d"
            ],
            [
             0.2,
             "#de77ae"
            ],
            [
             0.3,
             "#f1b6da"
            ],
            [
             0.4,
             "#fde0ef"
            ],
            [
             0.5,
             "#f7f7f7"
            ],
            [
             0.6,
             "#e6f5d0"
            ],
            [
             0.7,
             "#b8e186"
            ],
            [
             0.8,
             "#7fbc41"
            ],
            [
             0.9,
             "#4d9221"
            ],
            [
             1,
             "#276419"
            ]
           ],
           "sequential": [
            [
             0,
             "#0d0887"
            ],
            [
             0.1111111111111111,
             "#46039f"
            ],
            [
             0.2222222222222222,
             "#7201a8"
            ],
            [
             0.3333333333333333,
             "#9c179e"
            ],
            [
             0.4444444444444444,
             "#bd3786"
            ],
            [
             0.5555555555555556,
             "#d8576b"
            ],
            [
             0.6666666666666666,
             "#ed7953"
            ],
            [
             0.7777777777777778,
             "#fb9f3a"
            ],
            [
             0.8888888888888888,
             "#fdca26"
            ],
            [
             1,
             "#f0f921"
            ]
           ],
           "sequentialminus": [
            [
             0,
             "#0d0887"
            ],
            [
             0.1111111111111111,
             "#46039f"
            ],
            [
             0.2222222222222222,
             "#7201a8"
            ],
            [
             0.3333333333333333,
             "#9c179e"
            ],
            [
             0.4444444444444444,
             "#bd3786"
            ],
            [
             0.5555555555555556,
             "#d8576b"
            ],
            [
             0.6666666666666666,
             "#ed7953"
            ],
            [
             0.7777777777777778,
             "#fb9f3a"
            ],
            [
             0.8888888888888888,
             "#fdca26"
            ],
            [
             1,
             "#f0f921"
            ]
           ]
          },
          "colorway": [
           "#636efa",
           "#EF553B",
           "#00cc96",
           "#ab63fa",
           "#FFA15A",
           "#19d3f3",
           "#FF6692",
           "#B6E880",
           "#FF97FF",
           "#FECB52"
          ],
          "font": {
           "color": "#2a3f5f"
          },
          "geo": {
           "bgcolor": "white",
           "lakecolor": "white",
           "landcolor": "#E5ECF6",
           "showlakes": true,
           "showland": true,
           "subunitcolor": "white"
          },
          "hoverlabel": {
           "align": "left"
          },
          "hovermode": "closest",
          "mapbox": {
           "style": "light"
          },
          "paper_bgcolor": "white",
          "plot_bgcolor": "#E5ECF6",
          "polar": {
           "angularaxis": {
            "gridcolor": "white",
            "linecolor": "white",
            "ticks": ""
           },
           "bgcolor": "#E5ECF6",
           "radialaxis": {
            "gridcolor": "white",
            "linecolor": "white",
            "ticks": ""
           }
          },
          "scene": {
           "xaxis": {
            "backgroundcolor": "#E5ECF6",
            "gridcolor": "white",
            "gridwidth": 2,
            "linecolor": "white",
            "showbackground": true,
            "ticks": "",
            "zerolinecolor": "white"
           },
           "yaxis": {
            "backgroundcolor": "#E5ECF6",
            "gridcolor": "white",
            "gridwidth": 2,
            "linecolor": "white",
            "showbackground": true,
            "ticks": "",
            "zerolinecolor": "white"
           },
           "zaxis": {
            "backgroundcolor": "#E5ECF6",
            "gridcolor": "white",
            "gridwidth": 2,
            "linecolor": "white",
            "showbackground": true,
            "ticks": "",
            "zerolinecolor": "white"
           }
          },
          "shapedefaults": {
           "line": {
            "color": "#2a3f5f"
           }
          },
          "ternary": {
           "aaxis": {
            "gridcolor": "white",
            "linecolor": "white",
            "ticks": ""
           },
           "baxis": {
            "gridcolor": "white",
            "linecolor": "white",
            "ticks": ""
           },
           "bgcolor": "#E5ECF6",
           "caxis": {
            "gridcolor": "white",
            "linecolor": "white",
            "ticks": ""
           }
          },
          "title": {
           "x": 0.05
          },
          "xaxis": {
           "automargin": true,
           "gridcolor": "white",
           "linecolor": "white",
           "ticks": "",
           "title": {
            "standoff": 15
           },
           "zerolinecolor": "white",
           "zerolinewidth": 2
          },
          "yaxis": {
           "automargin": true,
           "gridcolor": "white",
           "linecolor": "white",
           "ticks": "",
           "title": {
            "standoff": 15
           },
           "zerolinecolor": "white",
           "zerolinewidth": 2
          }
         }
        },
        "title": {
         "text": "OS used by visitors on their devices"
        },
        "xaxis": {
         "anchor": "y",
         "domain": [
          0,
          1
         ],
         "title": {
          "text": "count"
         }
        },
        "yaxis": {
         "anchor": "x",
         "categoryarray": [
          "BlackBerry",
          "Samsung",
          "Windows Phone",
          "(not set)",
          "Chrome OS",
          "Linux",
          "iOS",
          "Android",
          "Macintosh",
          "Windows"
         ],
         "categoryorder": "array",
         "domain": [
          0,
          1
         ],
         "title": {
          "text": "os"
         }
        }
       }
      },
      "text/html": "<div>                            <div id=\"e23a3bf8-6b20-4d04-a3bb-d31e1a66f04e\" class=\"plotly-graph-div\" style=\"height:525px; width:100%;\"></div>            <script type=\"text/javascript\">                require([\"plotly\"], function(Plotly) {                    window.PLOTLYENV=window.PLOTLYENV || {};                                    if (document.getElementById(\"e23a3bf8-6b20-4d04-a3bb-d31e1a66f04e\")) {                    Plotly.newPlot(                        \"e23a3bf8-6b20-4d04-a3bb-d31e1a66f04e\",                        [{\"alignmentgroup\": \"True\", \"hovertemplate\": \"os=%{y}<br>count=%{x}<br>text=%{text}<extra></extra>\", \"legendgroup\": \"Windows\", \"marker\": {\"color\": \"#f0f921\"}, \"name\": \"Windows\", \"offsetgroup\": \"Windows\", \"orientation\": \"h\", \"showlegend\": true, \"text\": [\"38.62%\"], \"textposition\": \"auto\", \"type\": \"bar\", \"x\": [23165], \"xaxis\": \"x\", \"y\": [\"Windows\"], \"yaxis\": \"y\"}, {\"alignmentgroup\": \"True\", \"hovertemplate\": \"os=%{y}<br>count=%{x}<br>text=%{text}<extra></extra>\", \"legendgroup\": \"Macintosh\", \"marker\": {\"color\": \"#fdca26\"}, \"name\": \"Macintosh\", \"offsetgroup\": \"Macintosh\", \"orientation\": \"h\", \"showlegend\": true, \"text\": [\"28.13%\"], \"textposition\": \"auto\", \"type\": \"bar\", \"x\": [16869], \"xaxis\": \"x\", \"y\": [\"Macintosh\"], \"yaxis\": \"y\"}, {\"alignmentgroup\": \"True\", \"hovertemplate\": \"os=%{y}<br>count=%{x}<br>text=%{text}<extra></extra>\", \"legendgroup\": \"Android\", \"marker\": {\"color\": \"#fb9f3a\"}, \"name\": \"Android\", \"offsetgroup\": \"Android\", \"orientation\": \"h\", \"showlegend\": true, \"text\": [\"13.50%\"], \"textposition\": \"auto\", \"type\": \"bar\", \"x\": [8097], \"xaxis\": \"x\", \"y\": [\"Android\"], \"yaxis\": \"y\"}, {\"alignmentgroup\": \"True\", \"hovertemplate\": \"os=%{y}<br>count=%{x}<br>text=%{text}<extra></extra>\", \"legendgroup\": \"iOS\", \"marker\": {\"color\": \"#ed7953\"}, \"name\": \"iOS\", \"offsetgroup\": \"iOS\", \"orientation\": \"h\", \"showlegend\": true, \"text\": [\"12.00%\"], \"textposition\": \"auto\", \"type\": \"bar\", \"x\": [7198], \"xaxis\": \"x\", \"y\": [\"iOS\"], \"yaxis\": \"y\"}, {\"alignmentgroup\": \"True\", \"hovertemplate\": \"os=%{y}<br>count=%{x}<br>text=%{text}<extra></extra>\", \"legendgroup\": \"Linux\", \"marker\": {\"color\": \"#d8576b\"}, \"name\": \"Linux\", \"offsetgroup\": \"Linux\", \"orientation\": \"h\", \"showlegend\": true, \"text\": [\"4.04%\"], \"textposition\": \"auto\", \"type\": \"bar\", \"x\": [2424], \"xaxis\": \"x\", \"y\": [\"Linux\"], \"yaxis\": \"y\"}, {\"alignmentgroup\": \"True\", \"hovertemplate\": \"os=%{y}<br>count=%{x}<br>text=%{text}<extra></extra>\", \"legendgroup\": \"Chrome OS\", \"marker\": {\"color\": \"#bd3786\"}, \"name\": \"Chrome OS\", \"offsetgroup\": \"Chrome OS\", \"orientation\": \"h\", \"showlegend\": true, \"text\": [\"3.02%\"], \"textposition\": \"auto\", \"type\": \"bar\", \"x\": [1813], \"xaxis\": \"x\", \"y\": [\"Chrome OS\"], \"yaxis\": \"y\"}, {\"alignmentgroup\": \"True\", \"hovertemplate\": \"os=%{y}<br>count=%{x}<br>text=%{text}<extra></extra>\", \"legendgroup\": \"(not set)\", \"marker\": {\"color\": \"#9c179e\"}, \"name\": \"(not set)\", \"offsetgroup\": \"(not set)\", \"orientation\": \"h\", \"showlegend\": true, \"text\": [\"0.50%\"], \"textposition\": \"auto\", \"type\": \"bar\", \"x\": [298], \"xaxis\": \"x\", \"y\": [\"(not set)\"], \"yaxis\": \"y\"}, {\"alignmentgroup\": \"True\", \"hovertemplate\": \"os=%{y}<br>count=%{x}<br>text=%{text}<extra></extra>\", \"legendgroup\": \"Windows Phone\", \"marker\": {\"color\": \"#7201a8\"}, \"name\": \"Windows Phone\", \"offsetgroup\": \"Windows Phone\", \"orientation\": \"h\", \"showlegend\": true, \"text\": [\"0.13%\"], \"textposition\": \"auto\", \"type\": \"bar\", \"x\": [80], \"xaxis\": \"x\", \"y\": [\"Windows Phone\"], \"yaxis\": \"y\"}, {\"alignmentgroup\": \"True\", \"hovertemplate\": \"os=%{y}<br>count=%{x}<br>text=%{text}<extra></extra>\", \"legendgroup\": \"Samsung\", \"marker\": {\"color\": \"#46039f\"}, \"name\": \"Samsung\", \"offsetgroup\": \"Samsung\", \"orientation\": \"h\", \"showlegend\": true, \"text\": [\"0.04%\"], \"textposition\": \"auto\", \"type\": \"bar\", \"x\": [21], \"xaxis\": \"x\", \"y\": [\"Samsung\"], \"yaxis\": \"y\"}, {\"alignmentgroup\": \"True\", \"hovertemplate\": \"os=%{y}<br>count=%{x}<br>text=%{text}<extra></extra>\", \"legendgroup\": \"BlackBerry\", \"marker\": {\"color\": \"#0d0887\"}, \"name\": \"BlackBerry\", \"offsetgroup\": \"BlackBerry\", \"orientation\": \"h\", \"showlegend\": true, \"text\": [\"0.02%\"], \"textposition\": \"auto\", \"type\": \"bar\", \"x\": [13], \"xaxis\": \"x\", \"y\": [\"BlackBerry\"], \"yaxis\": \"y\"}],                        {\"barmode\": \"relative\", \"legend\": {\"title\": {\"text\": \"os\"}, \"tracegroupgap\": 0}, \"template\": {\"data\": {\"bar\": [{\"error_x\": {\"color\": \"#2a3f5f\"}, \"error_y\": {\"color\": \"#2a3f5f\"}, \"marker\": {\"line\": {\"color\": \"#E5ECF6\", \"width\": 0.5}}, \"type\": \"bar\"}], \"barpolar\": [{\"marker\": {\"line\": {\"color\": \"#E5ECF6\", \"width\": 0.5}}, \"type\": \"barpolar\"}], \"carpet\": [{\"aaxis\": {\"endlinecolor\": \"#2a3f5f\", \"gridcolor\": \"white\", \"linecolor\": \"white\", \"minorgridcolor\": \"white\", \"startlinecolor\": \"#2a3f5f\"}, \"baxis\": {\"endlinecolor\": \"#2a3f5f\", \"gridcolor\": \"white\", \"linecolor\": \"white\", \"minorgridcolor\": \"white\", \"startlinecolor\": \"#2a3f5f\"}, \"type\": \"carpet\"}], \"choropleth\": [{\"colorbar\": {\"outlinewidth\": 0, \"ticks\": \"\"}, \"type\": \"choropleth\"}], \"contour\": [{\"colorbar\": {\"outlinewidth\": 0, \"ticks\": \"\"}, \"colorscale\": [[0.0, \"#0d0887\"], [0.1111111111111111, \"#46039f\"], [0.2222222222222222, \"#7201a8\"], [0.3333333333333333, \"#9c179e\"], [0.4444444444444444, \"#bd3786\"], [0.5555555555555556, \"#d8576b\"], [0.6666666666666666, \"#ed7953\"], [0.7777777777777778, \"#fb9f3a\"], [0.8888888888888888, \"#fdca26\"], [1.0, \"#f0f921\"]], \"type\": \"contour\"}], \"contourcarpet\": [{\"colorbar\": {\"outlinewidth\": 0, \"ticks\": \"\"}, \"type\": \"contourcarpet\"}], \"heatmap\": [{\"colorbar\": {\"outlinewidth\": 0, \"ticks\": \"\"}, \"colorscale\": [[0.0, \"#0d0887\"], [0.1111111111111111, \"#46039f\"], [0.2222222222222222, \"#7201a8\"], [0.3333333333333333, \"#9c179e\"], [0.4444444444444444, \"#bd3786\"], [0.5555555555555556, \"#d8576b\"], [0.6666666666666666, \"#ed7953\"], [0.7777777777777778, \"#fb9f3a\"], [0.8888888888888888, \"#fdca26\"], [1.0, \"#f0f921\"]], \"type\": \"heatmap\"}], \"heatmapgl\": [{\"colorbar\": {\"outlinewidth\": 0, \"ticks\": \"\"}, \"colorscale\": [[0.0, \"#0d0887\"], [0.1111111111111111, \"#46039f\"], [0.2222222222222222, \"#7201a8\"], [0.3333333333333333, \"#9c179e\"], [0.4444444444444444, \"#bd3786\"], [0.5555555555555556, \"#d8576b\"], [0.6666666666666666, \"#ed7953\"], [0.7777777777777778, \"#fb9f3a\"], [0.8888888888888888, \"#fdca26\"], [1.0, \"#f0f921\"]], \"type\": \"heatmapgl\"}], \"histogram\": [{\"marker\": {\"colorbar\": {\"outlinewidth\": 0, \"ticks\": \"\"}}, \"type\": \"histogram\"}], \"histogram2d\": [{\"colorbar\": {\"outlinewidth\": 0, \"ticks\": \"\"}, \"colorscale\": [[0.0, \"#0d0887\"], [0.1111111111111111, \"#46039f\"], [0.2222222222222222, \"#7201a8\"], [0.3333333333333333, \"#9c179e\"], [0.4444444444444444, \"#bd3786\"], [0.5555555555555556, \"#d8576b\"], [0.6666666666666666, \"#ed7953\"], [0.7777777777777778, \"#fb9f3a\"], [0.8888888888888888, \"#fdca26\"], [1.0, \"#f0f921\"]], \"type\": \"histogram2d\"}], \"histogram2dcontour\": [{\"colorbar\": {\"outlinewidth\": 0, \"ticks\": \"\"}, \"colorscale\": [[0.0, \"#0d0887\"], [0.1111111111111111, \"#46039f\"], [0.2222222222222222, \"#7201a8\"], [0.3333333333333333, \"#9c179e\"], [0.4444444444444444, \"#bd3786\"], [0.5555555555555556, \"#d8576b\"], [0.6666666666666666, \"#ed7953\"], [0.7777777777777778, \"#fb9f3a\"], [0.8888888888888888, \"#fdca26\"], [1.0, \"#f0f921\"]], \"type\": \"histogram2dcontour\"}], \"mesh3d\": [{\"colorbar\": {\"outlinewidth\": 0, \"ticks\": \"\"}, \"type\": \"mesh3d\"}], \"parcoords\": [{\"line\": {\"colorbar\": {\"outlinewidth\": 0, \"ticks\": \"\"}}, \"type\": \"parcoords\"}], \"pie\": [{\"automargin\": true, \"type\": \"pie\"}], \"scatter\": [{\"marker\": {\"colorbar\": {\"outlinewidth\": 0, \"ticks\": \"\"}}, \"type\": \"scatter\"}], \"scatter3d\": [{\"line\": {\"colorbar\": {\"outlinewidth\": 0, \"ticks\": \"\"}}, \"marker\": {\"colorbar\": {\"outlinewidth\": 0, \"ticks\": \"\"}}, \"type\": \"scatter3d\"}], \"scattercarpet\": [{\"marker\": {\"colorbar\": {\"outlinewidth\": 0, \"ticks\": \"\"}}, \"type\": \"scattercarpet\"}], \"scattergeo\": [{\"marker\": {\"colorbar\": {\"outlinewidth\": 0, \"ticks\": \"\"}}, \"type\": \"scattergeo\"}], \"scattergl\": [{\"marker\": {\"colorbar\": {\"outlinewidth\": 0, \"ticks\": \"\"}}, \"type\": \"scattergl\"}], \"scattermapbox\": [{\"marker\": {\"colorbar\": {\"outlinewidth\": 0, \"ticks\": \"\"}}, \"type\": \"scattermapbox\"}], \"scatterpolar\": [{\"marker\": {\"colorbar\": {\"outlinewidth\": 0, \"ticks\": \"\"}}, \"type\": \"scatterpolar\"}], \"scatterpolargl\": [{\"marker\": {\"colorbar\": {\"outlinewidth\": 0, \"ticks\": \"\"}}, \"type\": \"scatterpolargl\"}], \"scatterternary\": [{\"marker\": {\"colorbar\": {\"outlinewidth\": 0, \"ticks\": \"\"}}, \"type\": \"scatterternary\"}], \"surface\": [{\"colorbar\": {\"outlinewidth\": 0, \"ticks\": \"\"}, \"colorscale\": [[0.0, \"#0d0887\"], [0.1111111111111111, \"#46039f\"], [0.2222222222222222, \"#7201a8\"], [0.3333333333333333, \"#9c179e\"], [0.4444444444444444, \"#bd3786\"], [0.5555555555555556, \"#d8576b\"], [0.6666666666666666, \"#ed7953\"], [0.7777777777777778, \"#fb9f3a\"], [0.8888888888888888, \"#fdca26\"], [1.0, \"#f0f921\"]], \"type\": \"surface\"}], \"table\": [{\"cells\": {\"fill\": {\"color\": \"#EBF0F8\"}, \"line\": {\"color\": \"white\"}}, \"header\": {\"fill\": {\"color\": \"#C8D4E3\"}, \"line\": {\"color\": \"white\"}}, \"type\": \"table\"}]}, \"layout\": {\"annotationdefaults\": {\"arrowcolor\": \"#2a3f5f\", \"arrowhead\": 0, \"arrowwidth\": 1}, \"autotypenumbers\": \"strict\", \"coloraxis\": {\"colorbar\": {\"outlinewidth\": 0, \"ticks\": \"\"}}, \"colorscale\": {\"diverging\": [[0, \"#8e0152\"], [0.1, \"#c51b7d\"], [0.2, \"#de77ae\"], [0.3, \"#f1b6da\"], [0.4, \"#fde0ef\"], [0.5, \"#f7f7f7\"], [0.6, \"#e6f5d0\"], [0.7, \"#b8e186\"], [0.8, \"#7fbc41\"], [0.9, \"#4d9221\"], [1, \"#276419\"]], \"sequential\": [[0.0, \"#0d0887\"], [0.1111111111111111, \"#46039f\"], [0.2222222222222222, \"#7201a8\"], [0.3333333333333333, \"#9c179e\"], [0.4444444444444444, \"#bd3786\"], [0.5555555555555556, \"#d8576b\"], [0.6666666666666666, \"#ed7953\"], [0.7777777777777778, \"#fb9f3a\"], [0.8888888888888888, \"#fdca26\"], [1.0, \"#f0f921\"]], \"sequentialminus\": [[0.0, \"#0d0887\"], [0.1111111111111111, \"#46039f\"], [0.2222222222222222, \"#7201a8\"], [0.3333333333333333, \"#9c179e\"], [0.4444444444444444, \"#bd3786\"], [0.5555555555555556, \"#d8576b\"], [0.6666666666666666, \"#ed7953\"], [0.7777777777777778, \"#fb9f3a\"], [0.8888888888888888, \"#fdca26\"], [1.0, \"#f0f921\"]]}, \"colorway\": [\"#636efa\", \"#EF553B\", \"#00cc96\", \"#ab63fa\", \"#FFA15A\", \"#19d3f3\", \"#FF6692\", \"#B6E880\", \"#FF97FF\", \"#FECB52\"], \"font\": {\"color\": \"#2a3f5f\"}, \"geo\": {\"bgcolor\": \"white\", \"lakecolor\": \"white\", \"landcolor\": \"#E5ECF6\", \"showlakes\": true, \"showland\": true, \"subunitcolor\": \"white\"}, \"hoverlabel\": {\"align\": \"left\"}, \"hovermode\": \"closest\", \"mapbox\": {\"style\": \"light\"}, \"paper_bgcolor\": \"white\", \"plot_bgcolor\": \"#E5ECF6\", \"polar\": {\"angularaxis\": {\"gridcolor\": \"white\", \"linecolor\": \"white\", \"ticks\": \"\"}, \"bgcolor\": \"#E5ECF6\", \"radialaxis\": {\"gridcolor\": \"white\", \"linecolor\": \"white\", \"ticks\": \"\"}}, \"scene\": {\"xaxis\": {\"backgroundcolor\": \"#E5ECF6\", \"gridcolor\": \"white\", \"gridwidth\": 2, \"linecolor\": \"white\", \"showbackground\": true, \"ticks\": \"\", \"zerolinecolor\": \"white\"}, \"yaxis\": {\"backgroundcolor\": \"#E5ECF6\", \"gridcolor\": \"white\", \"gridwidth\": 2, \"linecolor\": \"white\", \"showbackground\": true, \"ticks\": \"\", \"zerolinecolor\": \"white\"}, \"zaxis\": {\"backgroundcolor\": \"#E5ECF6\", \"gridcolor\": \"white\", \"gridwidth\": 2, \"linecolor\": \"white\", \"showbackground\": true, \"ticks\": \"\", \"zerolinecolor\": \"white\"}}, \"shapedefaults\": {\"line\": {\"color\": \"#2a3f5f\"}}, \"ternary\": {\"aaxis\": {\"gridcolor\": \"white\", \"linecolor\": \"white\", \"ticks\": \"\"}, \"baxis\": {\"gridcolor\": \"white\", \"linecolor\": \"white\", \"ticks\": \"\"}, \"bgcolor\": \"#E5ECF6\", \"caxis\": {\"gridcolor\": \"white\", \"linecolor\": \"white\", \"ticks\": \"\"}}, \"title\": {\"x\": 0.05}, \"xaxis\": {\"automargin\": true, \"gridcolor\": \"white\", \"linecolor\": \"white\", \"ticks\": \"\", \"title\": {\"standoff\": 15}, \"zerolinecolor\": \"white\", \"zerolinewidth\": 2}, \"yaxis\": {\"automargin\": true, \"gridcolor\": \"white\", \"linecolor\": \"white\", \"ticks\": \"\", \"title\": {\"standoff\": 15}, \"zerolinecolor\": \"white\", \"zerolinewidth\": 2}}}, \"title\": {\"text\": \"OS used by visitors on their devices\"}, \"xaxis\": {\"anchor\": \"y\", \"domain\": [0.0, 1.0], \"title\": {\"text\": \"count\"}}, \"yaxis\": {\"anchor\": \"x\", \"categoryarray\": [\"BlackBerry\", \"Samsung\", \"Windows Phone\", \"(not set)\", \"Chrome OS\", \"Linux\", \"iOS\", \"Android\", \"Macintosh\", \"Windows\"], \"categoryorder\": \"array\", \"domain\": [0.0, 1.0], \"title\": {\"text\": \"os\"}}},                        {\"responsive\": true}                    ).then(function(){\n                            \nvar gd = document.getElementById('e23a3bf8-6b20-4d04-a3bb-d31e1a66f04e');\nvar x = new MutationObserver(function (mutations, observer) {{\n        var display = window.getComputedStyle(gd).display;\n        if (!display || display === 'none') {{\n            console.log([gd, 'removed!']);\n            Plotly.purge(gd);\n            observer.disconnect();\n        }}\n}});\n\n// Listen for the removal of the full notebook cells\nvar notebookContainer = gd.closest('#notebook-container');\nif (notebookContainer) {{\n    x.observe(notebookContainer, {childList: true});\n}}\n\n// Listen for the clearing of the current output cell\nvar outputEl = gd.closest('.output');\nif (outputEl) {{\n    x.observe(outputEl, {childList: true});\n}}\n\n                        })                };                });            </script>        </div>"
     },
     "metadata": {}
    }
   ],
   "source": [
    "fig = px.bar(OS, x=\"count\", y=\"os\", title=\"OS used by visitors on their devices\",\n",
    "orientation='h',\n",
    "color=\"os\",color_discrete_sequence=px.colors.sequential.Plasma_r,\n",
    "text=OS['percent'].apply(lambda x: '{0:1.2f}%'.format(x)))\n",
    "fig.show()"
   ]
  },
  {
   "cell_type": "code",
   "execution_count": 108,
   "metadata": {},
   "outputs": [],
   "source": [
    "# sns.set_theme(style=\"darkgrid\")\n",
    "# sns.set(rc={'figure.figsize':(12,8)})\n",
    "# sns.barplot(y=\"os\",x=\"count\", data=OS[:10],palette=\"mako\")"
   ]
  },
  {
   "cell_type": "code",
   "execution_count": 164,
   "metadata": {},
   "outputs": [
    {
     "output_type": "execute_result",
     "data": {
      "text/plain": [
       "      visits hits pageviews bounces newVisits transactionRevenue\n",
       "0          1    1         1       1       NaN                NaN\n",
       "1          1    1         1       1         1                NaN\n",
       "2          1    1         1       1       NaN                NaN\n",
       "3          1    1         1       1         1                NaN\n",
       "4          1    2         2     NaN         1                NaN\n",
       "...      ...  ...       ...     ...       ...                ...\n",
       "59995      1    1         1       1       NaN                NaN\n",
       "59996      1    1         1       1       NaN                NaN\n",
       "59997      1    6         6     NaN         1                NaN\n",
       "59998      1    1         1       1       NaN                NaN\n",
       "59999      1    1         1       1         1                NaN\n",
       "\n",
       "[60000 rows x 6 columns]"
      ],
      "text/html": "<div>\n<style scoped>\n    .dataframe tbody tr th:only-of-type {\n        vertical-align: middle;\n    }\n\n    .dataframe tbody tr th {\n        vertical-align: top;\n    }\n\n    .dataframe thead th {\n        text-align: right;\n    }\n</style>\n<table border=\"1\" class=\"dataframe\">\n  <thead>\n    <tr style=\"text-align: right;\">\n      <th></th>\n      <th>visits</th>\n      <th>hits</th>\n      <th>pageviews</th>\n      <th>bounces</th>\n      <th>newVisits</th>\n      <th>transactionRevenue</th>\n    </tr>\n  </thead>\n  <tbody>\n    <tr>\n      <th>0</th>\n      <td>1</td>\n      <td>1</td>\n      <td>1</td>\n      <td>1</td>\n      <td>NaN</td>\n      <td>NaN</td>\n    </tr>\n    <tr>\n      <th>1</th>\n      <td>1</td>\n      <td>1</td>\n      <td>1</td>\n      <td>1</td>\n      <td>1</td>\n      <td>NaN</td>\n    </tr>\n    <tr>\n      <th>2</th>\n      <td>1</td>\n      <td>1</td>\n      <td>1</td>\n      <td>1</td>\n      <td>NaN</td>\n      <td>NaN</td>\n    </tr>\n    <tr>\n      <th>3</th>\n      <td>1</td>\n      <td>1</td>\n      <td>1</td>\n      <td>1</td>\n      <td>1</td>\n      <td>NaN</td>\n    </tr>\n    <tr>\n      <th>4</th>\n      <td>1</td>\n      <td>2</td>\n      <td>2</td>\n      <td>NaN</td>\n      <td>1</td>\n      <td>NaN</td>\n    </tr>\n    <tr>\n      <th>...</th>\n      <td>...</td>\n      <td>...</td>\n      <td>...</td>\n      <td>...</td>\n      <td>...</td>\n      <td>...</td>\n    </tr>\n    <tr>\n      <th>59995</th>\n      <td>1</td>\n      <td>1</td>\n      <td>1</td>\n      <td>1</td>\n      <td>NaN</td>\n      <td>NaN</td>\n    </tr>\n    <tr>\n      <th>59996</th>\n      <td>1</td>\n      <td>1</td>\n      <td>1</td>\n      <td>1</td>\n      <td>NaN</td>\n      <td>NaN</td>\n    </tr>\n    <tr>\n      <th>59997</th>\n      <td>1</td>\n      <td>6</td>\n      <td>6</td>\n      <td>NaN</td>\n      <td>1</td>\n      <td>NaN</td>\n    </tr>\n    <tr>\n      <th>59998</th>\n      <td>1</td>\n      <td>1</td>\n      <td>1</td>\n      <td>1</td>\n      <td>NaN</td>\n      <td>NaN</td>\n    </tr>\n    <tr>\n      <th>59999</th>\n      <td>1</td>\n      <td>1</td>\n      <td>1</td>\n      <td>1</td>\n      <td>1</td>\n      <td>NaN</td>\n    </tr>\n  </tbody>\n</table>\n<p>60000 rows × 6 columns</p>\n</div>"
     },
     "metadata": {},
     "execution_count": 164
    }
   ],
   "source": [
    "# Analysis on totals\n",
    "\n",
    "# relation on newvisits and transactionRevenue\n",
    "# hits to categorical - boxplot, barplot, scatterplot\n",
    "# bounces ?? people leaving teh website?\n",
    "# histogram TR as category yes or no with all others\n",
    "\n",
    "totals"
   ]
  },
  {
   "cell_type": "code",
   "execution_count": 165,
   "metadata": {},
   "outputs": [
    {
     "output_type": "stream",
     "name": "stdout",
     "text": [
      "<class 'pandas.core.frame.DataFrame'>\nRangeIndex: 60000 entries, 0 to 59999\nData columns (total 6 columns):\n #   Column              Non-Null Count  Dtype \n---  ------              --------------  ----- \n 0   visits              60000 non-null  object\n 1   hits                60000 non-null  object\n 2   pageviews           59994 non-null  object\n 3   bounces             29849 non-null  object\n 4   newVisits           46588 non-null  object\n 5   transactionRevenue  771 non-null    object\ndtypes: object(6)\nmemory usage: 2.7+ MB\n"
     ]
    }
   ],
   "source": [
    "# what to do with the NaN values? bounces and new.Visits can be filled with 0 to have categorical data, transactionRevenue can be filled with 0 as well to have the column reporting all intergers. I will add one more categorical column to identify users who generated revenue and users who didn't.\n",
    "#  Pageviewslast has only 8 null data that I will fill with the number 1 as the mode of the column.\n",
    "totals.info()"
   ]
  },
  {
   "cell_type": "code",
   "execution_count": 166,
   "metadata": {},
   "outputs": [
    {
     "output_type": "execute_result",
     "data": {
      "text/plain": [
       "1      29972\n",
       "2       9576\n",
       "3       4918\n",
       "4       3100\n",
       "5       2152\n",
       "       ...  \n",
       "179        1\n",
       "134        1\n",
       "112        1\n",
       "123        1\n",
       "132        1\n",
       "Name: pageviews, Length: 109, dtype: int64"
      ]
     },
     "metadata": {},
     "execution_count": 166
    }
   ],
   "source": [
    "totals.pageviews.value_counts()"
   ]
  },
  {
   "cell_type": "code",
   "execution_count": 167,
   "metadata": {},
   "outputs": [
    {
     "output_type": "execute_result",
     "data": {
      "text/plain": [
       "      visits hits pageviews bounces newVisits transactionRevenue\n",
       "3991       1    2       NaN     NaN       NaN                NaN\n",
       "33910      1    1       NaN     NaN       NaN                NaN\n",
       "34738      1    2       NaN     NaN       NaN                NaN\n",
       "37039      1    2       NaN     NaN       NaN                NaN\n",
       "42234      1    1       NaN     NaN       NaN                NaN\n",
       "44210      1    1       NaN     NaN         1                NaN"
      ],
      "text/html": "<div>\n<style scoped>\n    .dataframe tbody tr th:only-of-type {\n        vertical-align: middle;\n    }\n\n    .dataframe tbody tr th {\n        vertical-align: top;\n    }\n\n    .dataframe thead th {\n        text-align: right;\n    }\n</style>\n<table border=\"1\" class=\"dataframe\">\n  <thead>\n    <tr style=\"text-align: right;\">\n      <th></th>\n      <th>visits</th>\n      <th>hits</th>\n      <th>pageviews</th>\n      <th>bounces</th>\n      <th>newVisits</th>\n      <th>transactionRevenue</th>\n    </tr>\n  </thead>\n  <tbody>\n    <tr>\n      <th>3991</th>\n      <td>1</td>\n      <td>2</td>\n      <td>NaN</td>\n      <td>NaN</td>\n      <td>NaN</td>\n      <td>NaN</td>\n    </tr>\n    <tr>\n      <th>33910</th>\n      <td>1</td>\n      <td>1</td>\n      <td>NaN</td>\n      <td>NaN</td>\n      <td>NaN</td>\n      <td>NaN</td>\n    </tr>\n    <tr>\n      <th>34738</th>\n      <td>1</td>\n      <td>2</td>\n      <td>NaN</td>\n      <td>NaN</td>\n      <td>NaN</td>\n      <td>NaN</td>\n    </tr>\n    <tr>\n      <th>37039</th>\n      <td>1</td>\n      <td>2</td>\n      <td>NaN</td>\n      <td>NaN</td>\n      <td>NaN</td>\n      <td>NaN</td>\n    </tr>\n    <tr>\n      <th>42234</th>\n      <td>1</td>\n      <td>1</td>\n      <td>NaN</td>\n      <td>NaN</td>\n      <td>NaN</td>\n      <td>NaN</td>\n    </tr>\n    <tr>\n      <th>44210</th>\n      <td>1</td>\n      <td>1</td>\n      <td>NaN</td>\n      <td>NaN</td>\n      <td>1</td>\n      <td>NaN</td>\n    </tr>\n  </tbody>\n</table>\n</div>"
     },
     "metadata": {},
     "execution_count": 167
    }
   ],
   "source": [
    "totals[totals.pageviews.isnull()]"
   ]
  },
  {
   "cell_type": "code",
   "execution_count": 168,
   "metadata": {},
   "outputs": [],
   "source": [
    "totals.bounces.fillna(0,inplace=True)\n",
    "totals.newVisits.fillna(0,inplace=True)\n",
    "totals.transactionRevenue.fillna(0,inplace=True)\n",
    "totals.pageviews.fillna(1,inplace=True)"
   ]
  },
  {
   "cell_type": "code",
   "execution_count": 169,
   "metadata": {},
   "outputs": [],
   "source": [
    "# converting dtypes to proper ones\n",
    "totals.transactionRevenue = totals.transactionRevenue.astype(\"int64\")\n",
    "totals.visits = totals.visits.astype(\"int64\")\n",
    "totals.hits = totals.hits.astype(\"int64\")\n",
    "totals.pageviews = totals.pageviews.astype(\"int64\")\n",
    "totals.newVisits = totals.newVisits.astype(\"category\")\n",
    "totals.bounces = totals.bounces.astype(\"category\")"
   ]
  },
  {
   "cell_type": "code",
   "execution_count": 170,
   "metadata": {},
   "outputs": [
    {
     "output_type": "execute_result",
     "data": {
      "text/plain": [
       "1      29590\n",
       "2       9156\n",
       "3       4711\n",
       "4       2902\n",
       "5       2037\n",
       "       ...  \n",
       "168        1\n",
       "151        1\n",
       "215        1\n",
       "134        1\n",
       "111        1\n",
       "Name: hits, Length: 143, dtype: int64"
      ]
     },
     "metadata": {},
     "execution_count": 170
    }
   ],
   "source": [
    "totals.hits.value_counts()"
   ]
  },
  {
   "cell_type": "code",
   "execution_count": 171,
   "metadata": {},
   "outputs": [
    {
     "output_type": "execute_result",
     "data": {
      "text/plain": [
       "1      29978\n",
       "2       9576\n",
       "3       4918\n",
       "4       3100\n",
       "5       2152\n",
       "       ...  \n",
       "88         1\n",
       "179        1\n",
       "134        1\n",
       "110        1\n",
       "116        1\n",
       "Name: pageviews, Length: 109, dtype: int64"
      ]
     },
     "metadata": {},
     "execution_count": 171
    }
   ],
   "source": [
    "totals.pageviews.value_counts()"
   ]
  },
  {
   "cell_type": "code",
   "execution_count": 172,
   "metadata": {},
   "outputs": [
    {
     "output_type": "execute_result",
     "data": {
      "text/plain": [
       "   visits  hits  pageviews bounces newVisits  transactionRevenue hits_label  \\\n",
       "0       1     1          1       1         0                   0        1-2   \n",
       "1       1     1          1       1         1                   0        1-2   \n",
       "2       1     1          1       1         0                   0        1-2   \n",
       "3       1     1          1       1         1                   0        1-2   \n",
       "4       1     2          2       0         1                   0        1-2   \n",
       "\n",
       "  pageviews_label  \n",
       "0             1-2  \n",
       "1             1-2  \n",
       "2             1-2  \n",
       "3             1-2  \n",
       "4             1-2  "
      ],
      "text/html": "<div>\n<style scoped>\n    .dataframe tbody tr th:only-of-type {\n        vertical-align: middle;\n    }\n\n    .dataframe tbody tr th {\n        vertical-align: top;\n    }\n\n    .dataframe thead th {\n        text-align: right;\n    }\n</style>\n<table border=\"1\" class=\"dataframe\">\n  <thead>\n    <tr style=\"text-align: right;\">\n      <th></th>\n      <th>visits</th>\n      <th>hits</th>\n      <th>pageviews</th>\n      <th>bounces</th>\n      <th>newVisits</th>\n      <th>transactionRevenue</th>\n      <th>hits_label</th>\n      <th>pageviews_label</th>\n    </tr>\n  </thead>\n  <tbody>\n    <tr>\n      <th>0</th>\n      <td>1</td>\n      <td>1</td>\n      <td>1</td>\n      <td>1</td>\n      <td>0</td>\n      <td>0</td>\n      <td>1-2</td>\n      <td>1-2</td>\n    </tr>\n    <tr>\n      <th>1</th>\n      <td>1</td>\n      <td>1</td>\n      <td>1</td>\n      <td>1</td>\n      <td>1</td>\n      <td>0</td>\n      <td>1-2</td>\n      <td>1-2</td>\n    </tr>\n    <tr>\n      <th>2</th>\n      <td>1</td>\n      <td>1</td>\n      <td>1</td>\n      <td>1</td>\n      <td>0</td>\n      <td>0</td>\n      <td>1-2</td>\n      <td>1-2</td>\n    </tr>\n    <tr>\n      <th>3</th>\n      <td>1</td>\n      <td>1</td>\n      <td>1</td>\n      <td>1</td>\n      <td>1</td>\n      <td>0</td>\n      <td>1-2</td>\n      <td>1-2</td>\n    </tr>\n    <tr>\n      <th>4</th>\n      <td>1</td>\n      <td>2</td>\n      <td>2</td>\n      <td>0</td>\n      <td>1</td>\n      <td>0</td>\n      <td>1-2</td>\n      <td>1-2</td>\n    </tr>\n  </tbody>\n</table>\n</div>"
     },
     "metadata": {},
     "execution_count": 172
    }
   ],
   "source": [
    "# reducing number of hits and pageviews for visualizations, creating bins to include values \n",
    "totals['hits_label'] = totals['hits'].apply(lambda value: \"1-2\" if value >= 0 else \"3-5\" if value >= 3 else \"6-10\" if value >= 6 else \"10-20\" if value >= 10 else \"more than 20\")\n",
    "totals['pageviews_label'] = totals['pageviews'].apply(lambda value: \"1-2\" if value >= 0 else \"3-5\" if value >= 3 else \"6-10\" if value >= 6 else \"10-20\" if value >= 10 else \"more than 20\")\n",
    "totals.head()"
   ]
  },
  {
   "cell_type": "code",
   "execution_count": 173,
   "metadata": {},
   "outputs": [
    {
     "output_type": "execute_result",
     "data": {
      "text/plain": [
       "     visits  hits  pageviews bounces newVisits  transactionRevenue hits_label  \\\n",
       "7         1    18         15       0         1            16990000        1-2   \n",
       "74        1    22         18       0         1            16990000        1-2   \n",
       "262       1    41         33       0         1           133960000        1-2   \n",
       "297       1    18         16       0         1            24990000        1-2   \n",
       "520       1    17         12       0         0            27180000        1-2   \n",
       "\n",
       "    pageviews_label trans_label  \n",
       "7               1-2        True  \n",
       "74              1-2        True  \n",
       "262             1-2        True  \n",
       "297             1-2        True  \n",
       "520             1-2        True  "
      ],
      "text/html": "<div>\n<style scoped>\n    .dataframe tbody tr th:only-of-type {\n        vertical-align: middle;\n    }\n\n    .dataframe tbody tr th {\n        vertical-align: top;\n    }\n\n    .dataframe thead th {\n        text-align: right;\n    }\n</style>\n<table border=\"1\" class=\"dataframe\">\n  <thead>\n    <tr style=\"text-align: right;\">\n      <th></th>\n      <th>visits</th>\n      <th>hits</th>\n      <th>pageviews</th>\n      <th>bounces</th>\n      <th>newVisits</th>\n      <th>transactionRevenue</th>\n      <th>hits_label</th>\n      <th>pageviews_label</th>\n      <th>trans_label</th>\n    </tr>\n  </thead>\n  <tbody>\n    <tr>\n      <th>7</th>\n      <td>1</td>\n      <td>18</td>\n      <td>15</td>\n      <td>0</td>\n      <td>1</td>\n      <td>16990000</td>\n      <td>1-2</td>\n      <td>1-2</td>\n      <td>True</td>\n    </tr>\n    <tr>\n      <th>74</th>\n      <td>1</td>\n      <td>22</td>\n      <td>18</td>\n      <td>0</td>\n      <td>1</td>\n      <td>16990000</td>\n      <td>1-2</td>\n      <td>1-2</td>\n      <td>True</td>\n    </tr>\n    <tr>\n      <th>262</th>\n      <td>1</td>\n      <td>41</td>\n      <td>33</td>\n      <td>0</td>\n      <td>1</td>\n      <td>133960000</td>\n      <td>1-2</td>\n      <td>1-2</td>\n      <td>True</td>\n    </tr>\n    <tr>\n      <th>297</th>\n      <td>1</td>\n      <td>18</td>\n      <td>16</td>\n      <td>0</td>\n      <td>1</td>\n      <td>24990000</td>\n      <td>1-2</td>\n      <td>1-2</td>\n      <td>True</td>\n    </tr>\n    <tr>\n      <th>520</th>\n      <td>1</td>\n      <td>17</td>\n      <td>12</td>\n      <td>0</td>\n      <td>0</td>\n      <td>27180000</td>\n      <td>1-2</td>\n      <td>1-2</td>\n      <td>True</td>\n    </tr>\n  </tbody>\n</table>\n</div>"
     },
     "metadata": {},
     "execution_count": 173
    }
   ],
   "source": [
    "totals['trans_label'] = totals['transactionRevenue'].apply(lambda value: 'False' if value == 0 else 'True')\n",
    "# Create two additional DataFrames to traces\n",
    "df1 = totals[totals[\"trans_label\"] == \"True\"]\n",
    "df2 = totals[totals[\"trans_label\"] == \"False\"]\n",
    "df1.head()"
   ]
  },
  {
   "cell_type": "code",
   "execution_count": 174,
   "metadata": {},
   "outputs": [],
   "source": [
    "# https://stackoverflow.com/questions/52467562/how-to-make-countplot-in-plotly\n",
    "\n",
    "# Create two traces, first \"True\" and second \"False\"\n",
    "trace1 = go.Bar(x=df1[\"trans_label\"], y=df1[\"hits_label\"], name=\"True\")\n",
    "trace2 = go.Bar(x=df1[\"trans_label\"], y=df1[\"hits_label\"], name=\"False\")\n",
    "# Fill out  data with our traces\n",
    "data = [trace1, trace2]\n",
    "# Create layout and specify title, legend and so on\n"
   ]
  },
  {
   "cell_type": "code",
   "execution_count": null,
   "metadata": {},
   "outputs": [],
   "source": []
  },
  {
   "cell_type": "code",
   "execution_count": null,
   "metadata": {},
   "outputs": [],
   "source": [
    "# px.histogram(device, x=\"deviceCategory\", title=\"Device used by GStore visitors\",color=\"deviceCategory\",color_discrete_sequence=px.colors.sequential.Plasma)"
   ]
  },
  {
   "cell_type": "code",
   "execution_count": null,
   "metadata": {},
   "outputs": [],
   "source": []
  },
  {
   "cell_type": "code",
   "execution_count": null,
   "metadata": {},
   "outputs": [],
   "source": []
  },
  {
   "cell_type": "code",
   "execution_count": 104,
   "metadata": {},
   "outputs": [
    {
     "output_type": "execute_result",
     "data": {
      "text/plain": [
       "1      24807\n",
       "2       7646\n",
       "3       3899\n",
       "4       2343\n",
       "5       1717\n",
       "       ...  \n",
       "278        1\n",
       "110        1\n",
       "142        1\n",
       "220        1\n",
       "159        1\n",
       "Name: hits, Length: 140, dtype: int64"
      ]
     },
     "metadata": {},
     "execution_count": 104
    }
   ],
   "source": [
    "# 1 - 2 to 4 - 5 to 10 - rest\n",
    "totals.hits.value_counts()"
   ]
  },
  {
   "cell_type": "code",
   "execution_count": 88,
   "metadata": {},
   "outputs": [],
   "source": [
    "totals.visits.fillna(value=\"0\", inplace=True)\n",
    "totals.newVisits.fillna(value=\"0\", inplace=True)"
   ]
  },
  {
   "cell_type": "code",
   "execution_count": 93,
   "metadata": {},
   "outputs": [
    {
     "output_type": "execute_result",
     "data": {
      "text/plain": [
       "<seaborn.axisgrid.FacetGrid at 0x202bbedbbb0>"
      ]
     },
     "metadata": {},
     "execution_count": 93
    },
    {
     "output_type": "display_data",
     "data": {
      "text/plain": "<Figure size 360x360 with 1 Axes>",
      "image/svg+xml": "<?xml version=\"1.0\" encoding=\"utf-8\" standalone=\"no\"?>\r\n<!DOCTYPE svg PUBLIC \"-//W3C//DTD SVG 1.1//EN\"\r\n  \"http://www.w3.org/Graphics/SVG/1.1/DTD/svg11.dtd\">\r\n<!-- Created with matplotlib (https://matplotlib.org/) -->\r\n<svg height=\"365.754687pt\" version=\"1.1\" viewBox=\"0 0 366.38125 365.754687\" width=\"366.38125pt\" xmlns=\"http://www.w3.org/2000/svg\" xmlns:xlink=\"http://www.w3.org/1999/xlink\">\r\n <metadata>\r\n  <rdf:RDF xmlns:cc=\"http://creativecommons.org/ns#\" xmlns:dc=\"http://purl.org/dc/elements/1.1/\" xmlns:rdf=\"http://www.w3.org/1999/02/22-rdf-syntax-ns#\">\r\n   <cc:Work>\r\n    <dc:type rdf:resource=\"http://purl.org/dc/dcmitype/StillImage\"/>\r\n    <dc:date>2021-04-12T11:10:25.203523</dc:date>\r\n    <dc:format>image/svg+xml</dc:format>\r\n    <dc:creator>\r\n     <cc:Agent>\r\n      <dc:title>Matplotlib v3.3.2, https://matplotlib.org/</dc:title>\r\n     </cc:Agent>\r\n    </dc:creator>\r\n   </cc:Work>\r\n  </rdf:RDF>\r\n </metadata>\r\n <defs>\r\n  <style type=\"text/css\">*{stroke-linecap:butt;stroke-linejoin:round;}</style>\r\n </defs>\r\n <g id=\"figure_1\">\r\n  <g id=\"patch_1\">\r\n   <path d=\"M 0 365.754687 \r\nL 366.38125 365.754687 \r\nL 366.38125 -0 \r\nL 0 -0 \r\nz\r\n\" style=\"fill:none;\"/>\r\n  </g>\r\n  <g id=\"axes_1\">\r\n   <g id=\"patch_2\">\r\n    <path d=\"M 43.78125 328.198437 \r\nL 359.18125 328.198437 \r\nL 359.18125 17.798437 \r\nL 43.78125 17.798437 \r\nz\r\n\" style=\"fill:#ffffff;\"/>\r\n   </g>\r\n   <g id=\"matplotlib.axis_1\">\r\n    <g id=\"xtick_1\">\r\n     <g id=\"line2d_1\">\r\n      <defs>\r\n       <path d=\"M 0 0 \r\nL 0 3.5 \r\n\" id=\"me18b298b9f\" style=\"stroke:#000000;stroke-width:0.8;\"/>\r\n      </defs>\r\n      <g>\r\n       <use style=\"stroke:#000000;stroke-width:0.8;\" x=\"122.63125\" xlink:href=\"#me18b298b9f\" y=\"328.198437\"/>\r\n      </g>\r\n     </g>\r\n     <g id=\"text_1\">\r\n      <!-- 0 -->\r\n      <g transform=\"translate(119.45 342.796875)scale(0.1 -0.1)\">\r\n       <defs>\r\n        <path d=\"M 31.78125 66.40625 \r\nQ 24.171875 66.40625 20.328125 58.90625 \r\nQ 16.5 51.421875 16.5 36.375 \r\nQ 16.5 21.390625 20.328125 13.890625 \r\nQ 24.171875 6.390625 31.78125 6.390625 \r\nQ 39.453125 6.390625 43.28125 13.890625 \r\nQ 47.125 21.390625 47.125 36.375 \r\nQ 47.125 51.421875 43.28125 58.90625 \r\nQ 39.453125 66.40625 31.78125 66.40625 \r\nz\r\nM 31.78125 74.21875 \r\nQ 44.046875 74.21875 50.515625 64.515625 \r\nQ 56.984375 54.828125 56.984375 36.375 \r\nQ 56.984375 17.96875 50.515625 8.265625 \r\nQ 44.046875 -1.421875 31.78125 -1.421875 \r\nQ 19.53125 -1.421875 13.0625 8.265625 \r\nQ 6.59375 17.96875 6.59375 36.375 \r\nQ 6.59375 54.828125 13.0625 64.515625 \r\nQ 19.53125 74.21875 31.78125 74.21875 \r\nz\r\n\" id=\"DejaVuSans-48\"/>\r\n       </defs>\r\n       <use xlink:href=\"#DejaVuSans-48\"/>\r\n      </g>\r\n     </g>\r\n    </g>\r\n    <g id=\"xtick_2\">\r\n     <g id=\"line2d_2\">\r\n      <g>\r\n       <use style=\"stroke:#000000;stroke-width:0.8;\" x=\"280.33125\" xlink:href=\"#me18b298b9f\" y=\"328.198437\"/>\r\n      </g>\r\n     </g>\r\n     <g id=\"text_2\">\r\n      <!-- 1 -->\r\n      <g transform=\"translate(277.15 342.796875)scale(0.1 -0.1)\">\r\n       <defs>\r\n        <path d=\"M 12.40625 8.296875 \r\nL 28.515625 8.296875 \r\nL 28.515625 63.921875 \r\nL 10.984375 60.40625 \r\nL 10.984375 69.390625 \r\nL 28.421875 72.90625 \r\nL 38.28125 72.90625 \r\nL 38.28125 8.296875 \r\nL 54.390625 8.296875 \r\nL 54.390625 0 \r\nL 12.40625 0 \r\nz\r\n\" id=\"DejaVuSans-49\"/>\r\n       </defs>\r\n       <use xlink:href=\"#DejaVuSans-49\"/>\r\n      </g>\r\n     </g>\r\n    </g>\r\n    <g id=\"text_3\">\r\n     <!-- newVisits -->\r\n     <g transform=\"translate(177.891406 356.475)scale(0.1 -0.1)\">\r\n      <defs>\r\n       <path d=\"M 54.890625 33.015625 \r\nL 54.890625 0 \r\nL 45.90625 0 \r\nL 45.90625 32.71875 \r\nQ 45.90625 40.484375 42.875 44.328125 \r\nQ 39.84375 48.1875 33.796875 48.1875 \r\nQ 26.515625 48.1875 22.3125 43.546875 \r\nQ 18.109375 38.921875 18.109375 30.90625 \r\nL 18.109375 0 \r\nL 9.078125 0 \r\nL 9.078125 54.6875 \r\nL 18.109375 54.6875 \r\nL 18.109375 46.1875 \r\nQ 21.34375 51.125 25.703125 53.5625 \r\nQ 30.078125 56 35.796875 56 \r\nQ 45.21875 56 50.046875 50.171875 \r\nQ 54.890625 44.34375 54.890625 33.015625 \r\nz\r\n\" id=\"DejaVuSans-110\"/>\r\n       <path d=\"M 56.203125 29.59375 \r\nL 56.203125 25.203125 \r\nL 14.890625 25.203125 \r\nQ 15.484375 15.921875 20.484375 11.0625 \r\nQ 25.484375 6.203125 34.421875 6.203125 \r\nQ 39.59375 6.203125 44.453125 7.46875 \r\nQ 49.3125 8.734375 54.109375 11.28125 \r\nL 54.109375 2.78125 \r\nQ 49.265625 0.734375 44.1875 -0.34375 \r\nQ 39.109375 -1.421875 33.890625 -1.421875 \r\nQ 20.796875 -1.421875 13.15625 6.1875 \r\nQ 5.515625 13.8125 5.515625 26.8125 \r\nQ 5.515625 40.234375 12.765625 48.109375 \r\nQ 20.015625 56 32.328125 56 \r\nQ 43.359375 56 49.78125 48.890625 \r\nQ 56.203125 41.796875 56.203125 29.59375 \r\nz\r\nM 47.21875 32.234375 \r\nQ 47.125 39.59375 43.09375 43.984375 \r\nQ 39.0625 48.390625 32.421875 48.390625 \r\nQ 24.90625 48.390625 20.390625 44.140625 \r\nQ 15.875 39.890625 15.1875 32.171875 \r\nz\r\n\" id=\"DejaVuSans-101\"/>\r\n       <path d=\"M 4.203125 54.6875 \r\nL 13.1875 54.6875 \r\nL 24.421875 12.015625 \r\nL 35.59375 54.6875 \r\nL 46.1875 54.6875 \r\nL 57.421875 12.015625 \r\nL 68.609375 54.6875 \r\nL 77.59375 54.6875 \r\nL 63.28125 0 \r\nL 52.6875 0 \r\nL 40.921875 44.828125 \r\nL 29.109375 0 \r\nL 18.5 0 \r\nz\r\n\" id=\"DejaVuSans-119\"/>\r\n       <path d=\"M 28.609375 0 \r\nL 0.78125 72.90625 \r\nL 11.078125 72.90625 \r\nL 34.1875 11.53125 \r\nL 57.328125 72.90625 \r\nL 67.578125 72.90625 \r\nL 39.796875 0 \r\nz\r\n\" id=\"DejaVuSans-86\"/>\r\n       <path d=\"M 9.421875 54.6875 \r\nL 18.40625 54.6875 \r\nL 18.40625 0 \r\nL 9.421875 0 \r\nz\r\nM 9.421875 75.984375 \r\nL 18.40625 75.984375 \r\nL 18.40625 64.59375 \r\nL 9.421875 64.59375 \r\nz\r\n\" id=\"DejaVuSans-105\"/>\r\n       <path d=\"M 44.28125 53.078125 \r\nL 44.28125 44.578125 \r\nQ 40.484375 46.53125 36.375 47.5 \r\nQ 32.28125 48.484375 27.875 48.484375 \r\nQ 21.1875 48.484375 17.84375 46.4375 \r\nQ 14.5 44.390625 14.5 40.28125 \r\nQ 14.5 37.15625 16.890625 35.375 \r\nQ 19.28125 33.59375 26.515625 31.984375 \r\nL 29.59375 31.296875 \r\nQ 39.15625 29.25 43.1875 25.515625 \r\nQ 47.21875 21.78125 47.21875 15.09375 \r\nQ 47.21875 7.46875 41.1875 3.015625 \r\nQ 35.15625 -1.421875 24.609375 -1.421875 \r\nQ 20.21875 -1.421875 15.453125 -0.5625 \r\nQ 10.6875 0.296875 5.421875 2 \r\nL 5.421875 11.28125 \r\nQ 10.40625 8.6875 15.234375 7.390625 \r\nQ 20.0625 6.109375 24.8125 6.109375 \r\nQ 31.15625 6.109375 34.5625 8.28125 \r\nQ 37.984375 10.453125 37.984375 14.40625 \r\nQ 37.984375 18.0625 35.515625 20.015625 \r\nQ 33.0625 21.96875 24.703125 23.78125 \r\nL 21.578125 24.515625 \r\nQ 13.234375 26.265625 9.515625 29.90625 \r\nQ 5.8125 33.546875 5.8125 39.890625 \r\nQ 5.8125 47.609375 11.28125 51.796875 \r\nQ 16.75 56 26.8125 56 \r\nQ 31.78125 56 36.171875 55.265625 \r\nQ 40.578125 54.546875 44.28125 53.078125 \r\nz\r\n\" id=\"DejaVuSans-115\"/>\r\n       <path d=\"M 18.3125 70.21875 \r\nL 18.3125 54.6875 \r\nL 36.8125 54.6875 \r\nL 36.8125 47.703125 \r\nL 18.3125 47.703125 \r\nL 18.3125 18.015625 \r\nQ 18.3125 11.328125 20.140625 9.421875 \r\nQ 21.96875 7.515625 27.59375 7.515625 \r\nL 36.8125 7.515625 \r\nL 36.8125 0 \r\nL 27.59375 0 \r\nQ 17.1875 0 13.234375 3.875 \r\nQ 9.28125 7.765625 9.28125 18.015625 \r\nL 9.28125 47.703125 \r\nL 2.6875 47.703125 \r\nL 2.6875 54.6875 \r\nL 9.28125 54.6875 \r\nL 9.28125 70.21875 \r\nz\r\n\" id=\"DejaVuSans-116\"/>\r\n      </defs>\r\n      <use xlink:href=\"#DejaVuSans-110\"/>\r\n      <use x=\"63.378906\" xlink:href=\"#DejaVuSans-101\"/>\r\n      <use x=\"124.902344\" xlink:href=\"#DejaVuSans-119\"/>\r\n      <use x=\"206.689453\" xlink:href=\"#DejaVuSans-86\"/>\r\n      <use x=\"272.847656\" xlink:href=\"#DejaVuSans-105\"/>\r\n      <use x=\"300.630859\" xlink:href=\"#DejaVuSans-115\"/>\r\n      <use x=\"352.730469\" xlink:href=\"#DejaVuSans-105\"/>\r\n      <use x=\"380.513672\" xlink:href=\"#DejaVuSans-116\"/>\r\n      <use x=\"419.722656\" xlink:href=\"#DejaVuSans-115\"/>\r\n     </g>\r\n    </g>\r\n   </g>\r\n   <g id=\"matplotlib.axis_2\">\r\n    <g id=\"ytick_1\">\r\n     <g id=\"line2d_3\">\r\n      <defs>\r\n       <path d=\"M 0 0 \r\nL -3.5 0 \r\n\" id=\"m0e3a74b86a\" style=\"stroke:#000000;stroke-width:0.8;\"/>\r\n      </defs>\r\n      <g>\r\n       <use style=\"stroke:#000000;stroke-width:0.8;\" x=\"43.78125\" xlink:href=\"#m0e3a74b86a\" y=\"316.460862\"/>\r\n      </g>\r\n     </g>\r\n     <g id=\"text_4\">\r\n      <!-- 0.0 -->\r\n      <g transform=\"translate(20.878125 320.26008)scale(0.1 -0.1)\">\r\n       <defs>\r\n        <path d=\"M 10.6875 12.40625 \r\nL 21 12.40625 \r\nL 21 0 \r\nL 10.6875 0 \r\nz\r\n\" id=\"DejaVuSans-46\"/>\r\n       </defs>\r\n       <use xlink:href=\"#DejaVuSans-48\"/>\r\n       <use x=\"63.623047\" xlink:href=\"#DejaVuSans-46\"/>\r\n       <use x=\"95.410156\" xlink:href=\"#DejaVuSans-48\"/>\r\n      </g>\r\n     </g>\r\n    </g>\r\n    <g id=\"ytick_2\">\r\n     <g id=\"line2d_4\">\r\n      <g>\r\n       <use style=\"stroke:#000000;stroke-width:0.8;\" x=\"43.78125\" xlink:href=\"#m0e3a74b86a\" y=\"269.030563\"/>\r\n      </g>\r\n     </g>\r\n     <g id=\"text_5\">\r\n      <!-- 0.5 -->\r\n      <g transform=\"translate(20.878125 272.829782)scale(0.1 -0.1)\">\r\n       <defs>\r\n        <path d=\"M 10.796875 72.90625 \r\nL 49.515625 72.90625 \r\nL 49.515625 64.59375 \r\nL 19.828125 64.59375 \r\nL 19.828125 46.734375 \r\nQ 21.96875 47.46875 24.109375 47.828125 \r\nQ 26.265625 48.1875 28.421875 48.1875 \r\nQ 40.625 48.1875 47.75 41.5 \r\nQ 54.890625 34.8125 54.890625 23.390625 \r\nQ 54.890625 11.625 47.5625 5.09375 \r\nQ 40.234375 -1.421875 26.90625 -1.421875 \r\nQ 22.3125 -1.421875 17.546875 -0.640625 \r\nQ 12.796875 0.140625 7.71875 1.703125 \r\nL 7.71875 11.625 \r\nQ 12.109375 9.234375 16.796875 8.0625 \r\nQ 21.484375 6.890625 26.703125 6.890625 \r\nQ 35.15625 6.890625 40.078125 11.328125 \r\nQ 45.015625 15.765625 45.015625 23.390625 \r\nQ 45.015625 31 40.078125 35.4375 \r\nQ 35.15625 39.890625 26.703125 39.890625 \r\nQ 22.75 39.890625 18.8125 39.015625 \r\nQ 14.890625 38.140625 10.796875 36.28125 \r\nz\r\n\" id=\"DejaVuSans-53\"/>\r\n       </defs>\r\n       <use xlink:href=\"#DejaVuSans-48\"/>\r\n       <use x=\"63.623047\" xlink:href=\"#DejaVuSans-46\"/>\r\n       <use x=\"95.410156\" xlink:href=\"#DejaVuSans-53\"/>\r\n      </g>\r\n     </g>\r\n    </g>\r\n    <g id=\"ytick_3\">\r\n     <g id=\"line2d_5\">\r\n      <g>\r\n       <use style=\"stroke:#000000;stroke-width:0.8;\" x=\"43.78125\" xlink:href=\"#m0e3a74b86a\" y=\"221.600264\"/>\r\n      </g>\r\n     </g>\r\n     <g id=\"text_6\">\r\n      <!-- 1.0 -->\r\n      <g transform=\"translate(20.878125 225.399483)scale(0.1 -0.1)\">\r\n       <use xlink:href=\"#DejaVuSans-49\"/>\r\n       <use x=\"63.623047\" xlink:href=\"#DejaVuSans-46\"/>\r\n       <use x=\"95.410156\" xlink:href=\"#DejaVuSans-48\"/>\r\n      </g>\r\n     </g>\r\n    </g>\r\n    <g id=\"ytick_4\">\r\n     <g id=\"line2d_6\">\r\n      <g>\r\n       <use style=\"stroke:#000000;stroke-width:0.8;\" x=\"43.78125\" xlink:href=\"#m0e3a74b86a\" y=\"174.169966\"/>\r\n      </g>\r\n     </g>\r\n     <g id=\"text_7\">\r\n      <!-- 1.5 -->\r\n      <g transform=\"translate(20.878125 177.969185)scale(0.1 -0.1)\">\r\n       <use xlink:href=\"#DejaVuSans-49\"/>\r\n       <use x=\"63.623047\" xlink:href=\"#DejaVuSans-46\"/>\r\n       <use x=\"95.410156\" xlink:href=\"#DejaVuSans-53\"/>\r\n      </g>\r\n     </g>\r\n    </g>\r\n    <g id=\"ytick_5\">\r\n     <g id=\"line2d_7\">\r\n      <g>\r\n       <use style=\"stroke:#000000;stroke-width:0.8;\" x=\"43.78125\" xlink:href=\"#m0e3a74b86a\" y=\"126.739667\"/>\r\n      </g>\r\n     </g>\r\n     <g id=\"text_8\">\r\n      <!-- 2.0 -->\r\n      <g transform=\"translate(20.878125 130.538886)scale(0.1 -0.1)\">\r\n       <defs>\r\n        <path d=\"M 19.1875 8.296875 \r\nL 53.609375 8.296875 \r\nL 53.609375 0 \r\nL 7.328125 0 \r\nL 7.328125 8.296875 \r\nQ 12.9375 14.109375 22.625 23.890625 \r\nQ 32.328125 33.6875 34.8125 36.53125 \r\nQ 39.546875 41.84375 41.421875 45.53125 \r\nQ 43.3125 49.21875 43.3125 52.78125 \r\nQ 43.3125 58.59375 39.234375 62.25 \r\nQ 35.15625 65.921875 28.609375 65.921875 \r\nQ 23.96875 65.921875 18.8125 64.3125 \r\nQ 13.671875 62.703125 7.8125 59.421875 \r\nL 7.8125 69.390625 \r\nQ 13.765625 71.78125 18.9375 73 \r\nQ 24.125 74.21875 28.421875 74.21875 \r\nQ 39.75 74.21875 46.484375 68.546875 \r\nQ 53.21875 62.890625 53.21875 53.421875 \r\nQ 53.21875 48.921875 51.53125 44.890625 \r\nQ 49.859375 40.875 45.40625 35.40625 \r\nQ 44.1875 33.984375 37.640625 27.21875 \r\nQ 31.109375 20.453125 19.1875 8.296875 \r\nz\r\n\" id=\"DejaVuSans-50\"/>\r\n       </defs>\r\n       <use xlink:href=\"#DejaVuSans-50\"/>\r\n       <use x=\"63.623047\" xlink:href=\"#DejaVuSans-46\"/>\r\n       <use x=\"95.410156\" xlink:href=\"#DejaVuSans-48\"/>\r\n      </g>\r\n     </g>\r\n    </g>\r\n    <g id=\"ytick_6\">\r\n     <g id=\"line2d_8\">\r\n      <g>\r\n       <use style=\"stroke:#000000;stroke-width:0.8;\" x=\"43.78125\" xlink:href=\"#m0e3a74b86a\" y=\"79.309369\"/>\r\n      </g>\r\n     </g>\r\n     <g id=\"text_9\">\r\n      <!-- 2.5 -->\r\n      <g transform=\"translate(20.878125 83.108588)scale(0.1 -0.1)\">\r\n       <use xlink:href=\"#DejaVuSans-50\"/>\r\n       <use x=\"63.623047\" xlink:href=\"#DejaVuSans-46\"/>\r\n       <use x=\"95.410156\" xlink:href=\"#DejaVuSans-53\"/>\r\n      </g>\r\n     </g>\r\n    </g>\r\n    <g id=\"ytick_7\">\r\n     <g id=\"line2d_9\">\r\n      <g>\r\n       <use style=\"stroke:#000000;stroke-width:0.8;\" x=\"43.78125\" xlink:href=\"#m0e3a74b86a\" y=\"31.87907\"/>\r\n      </g>\r\n     </g>\r\n     <g id=\"text_10\">\r\n      <!-- 3.0 -->\r\n      <g transform=\"translate(20.878125 35.678289)scale(0.1 -0.1)\">\r\n       <defs>\r\n        <path d=\"M 40.578125 39.3125 \r\nQ 47.65625 37.796875 51.625 33 \r\nQ 55.609375 28.21875 55.609375 21.1875 \r\nQ 55.609375 10.40625 48.1875 4.484375 \r\nQ 40.765625 -1.421875 27.09375 -1.421875 \r\nQ 22.515625 -1.421875 17.65625 -0.515625 \r\nQ 12.796875 0.390625 7.625 2.203125 \r\nL 7.625 11.71875 \r\nQ 11.71875 9.328125 16.59375 8.109375 \r\nQ 21.484375 6.890625 26.8125 6.890625 \r\nQ 36.078125 6.890625 40.9375 10.546875 \r\nQ 45.796875 14.203125 45.796875 21.1875 \r\nQ 45.796875 27.640625 41.28125 31.265625 \r\nQ 36.765625 34.90625 28.71875 34.90625 \r\nL 20.21875 34.90625 \r\nL 20.21875 43.015625 \r\nL 29.109375 43.015625 \r\nQ 36.375 43.015625 40.234375 45.921875 \r\nQ 44.09375 48.828125 44.09375 54.296875 \r\nQ 44.09375 59.90625 40.109375 62.90625 \r\nQ 36.140625 65.921875 28.71875 65.921875 \r\nQ 24.65625 65.921875 20.015625 65.03125 \r\nQ 15.375 64.15625 9.8125 62.3125 \r\nL 9.8125 71.09375 \r\nQ 15.4375 72.65625 20.34375 73.4375 \r\nQ 25.25 74.21875 29.59375 74.21875 \r\nQ 40.828125 74.21875 47.359375 69.109375 \r\nQ 53.90625 64.015625 53.90625 55.328125 \r\nQ 53.90625 49.265625 50.4375 45.09375 \r\nQ 46.96875 40.921875 40.578125 39.3125 \r\nz\r\n\" id=\"DejaVuSans-51\"/>\r\n       </defs>\r\n       <use xlink:href=\"#DejaVuSans-51\"/>\r\n       <use x=\"63.623047\" xlink:href=\"#DejaVuSans-46\"/>\r\n       <use x=\"95.410156\" xlink:href=\"#DejaVuSans-48\"/>\r\n      </g>\r\n     </g>\r\n    </g>\r\n    <g id=\"text_11\">\r\n     <!-- transactionRevenue -->\r\n     <g transform=\"translate(14.798438 223.017969)rotate(-90)scale(0.1 -0.1)\">\r\n      <defs>\r\n       <path d=\"M 41.109375 46.296875 \r\nQ 39.59375 47.171875 37.8125 47.578125 \r\nQ 36.03125 48 33.890625 48 \r\nQ 26.265625 48 22.1875 43.046875 \r\nQ 18.109375 38.09375 18.109375 28.8125 \r\nL 18.109375 0 \r\nL 9.078125 0 \r\nL 9.078125 54.6875 \r\nL 18.109375 54.6875 \r\nL 18.109375 46.1875 \r\nQ 20.953125 51.171875 25.484375 53.578125 \r\nQ 30.03125 56 36.53125 56 \r\nQ 37.453125 56 38.578125 55.875 \r\nQ 39.703125 55.765625 41.0625 55.515625 \r\nz\r\n\" id=\"DejaVuSans-114\"/>\r\n       <path d=\"M 34.28125 27.484375 \r\nQ 23.390625 27.484375 19.1875 25 \r\nQ 14.984375 22.515625 14.984375 16.5 \r\nQ 14.984375 11.71875 18.140625 8.90625 \r\nQ 21.296875 6.109375 26.703125 6.109375 \r\nQ 34.1875 6.109375 38.703125 11.40625 \r\nQ 43.21875 16.703125 43.21875 25.484375 \r\nL 43.21875 27.484375 \r\nz\r\nM 52.203125 31.203125 \r\nL 52.203125 0 \r\nL 43.21875 0 \r\nL 43.21875 8.296875 \r\nQ 40.140625 3.328125 35.546875 0.953125 \r\nQ 30.953125 -1.421875 24.3125 -1.421875 \r\nQ 15.921875 -1.421875 10.953125 3.296875 \r\nQ 6 8.015625 6 15.921875 \r\nQ 6 25.140625 12.171875 29.828125 \r\nQ 18.359375 34.515625 30.609375 34.515625 \r\nL 43.21875 34.515625 \r\nL 43.21875 35.40625 \r\nQ 43.21875 41.609375 39.140625 45 \r\nQ 35.0625 48.390625 27.6875 48.390625 \r\nQ 23 48.390625 18.546875 47.265625 \r\nQ 14.109375 46.140625 10.015625 43.890625 \r\nL 10.015625 52.203125 \r\nQ 14.9375 54.109375 19.578125 55.046875 \r\nQ 24.21875 56 28.609375 56 \r\nQ 40.484375 56 46.34375 49.84375 \r\nQ 52.203125 43.703125 52.203125 31.203125 \r\nz\r\n\" id=\"DejaVuSans-97\"/>\r\n       <path d=\"M 48.78125 52.59375 \r\nL 48.78125 44.1875 \r\nQ 44.96875 46.296875 41.140625 47.34375 \r\nQ 37.3125 48.390625 33.40625 48.390625 \r\nQ 24.65625 48.390625 19.8125 42.84375 \r\nQ 14.984375 37.3125 14.984375 27.296875 \r\nQ 14.984375 17.28125 19.8125 11.734375 \r\nQ 24.65625 6.203125 33.40625 6.203125 \r\nQ 37.3125 6.203125 41.140625 7.25 \r\nQ 44.96875 8.296875 48.78125 10.40625 \r\nL 48.78125 2.09375 \r\nQ 45.015625 0.34375 40.984375 -0.53125 \r\nQ 36.96875 -1.421875 32.421875 -1.421875 \r\nQ 20.0625 -1.421875 12.78125 6.34375 \r\nQ 5.515625 14.109375 5.515625 27.296875 \r\nQ 5.515625 40.671875 12.859375 48.328125 \r\nQ 20.21875 56 33.015625 56 \r\nQ 37.15625 56 41.109375 55.140625 \r\nQ 45.0625 54.296875 48.78125 52.59375 \r\nz\r\n\" id=\"DejaVuSans-99\"/>\r\n       <path d=\"M 30.609375 48.390625 \r\nQ 23.390625 48.390625 19.1875 42.75 \r\nQ 14.984375 37.109375 14.984375 27.296875 \r\nQ 14.984375 17.484375 19.15625 11.84375 \r\nQ 23.34375 6.203125 30.609375 6.203125 \r\nQ 37.796875 6.203125 41.984375 11.859375 \r\nQ 46.1875 17.53125 46.1875 27.296875 \r\nQ 46.1875 37.015625 41.984375 42.703125 \r\nQ 37.796875 48.390625 30.609375 48.390625 \r\nz\r\nM 30.609375 56 \r\nQ 42.328125 56 49.015625 48.375 \r\nQ 55.71875 40.765625 55.71875 27.296875 \r\nQ 55.71875 13.875 49.015625 6.21875 \r\nQ 42.328125 -1.421875 30.609375 -1.421875 \r\nQ 18.84375 -1.421875 12.171875 6.21875 \r\nQ 5.515625 13.875 5.515625 27.296875 \r\nQ 5.515625 40.765625 12.171875 48.375 \r\nQ 18.84375 56 30.609375 56 \r\nz\r\n\" id=\"DejaVuSans-111\"/>\r\n       <path d=\"M 44.390625 34.1875 \r\nQ 47.5625 33.109375 50.5625 29.59375 \r\nQ 53.5625 26.078125 56.59375 19.921875 \r\nL 66.609375 0 \r\nL 56 0 \r\nL 46.6875 18.703125 \r\nQ 43.0625 26.03125 39.671875 28.421875 \r\nQ 36.28125 30.8125 30.421875 30.8125 \r\nL 19.671875 30.8125 \r\nL 19.671875 0 \r\nL 9.8125 0 \r\nL 9.8125 72.90625 \r\nL 32.078125 72.90625 \r\nQ 44.578125 72.90625 50.734375 67.671875 \r\nQ 56.890625 62.453125 56.890625 51.90625 \r\nQ 56.890625 45.015625 53.6875 40.46875 \r\nQ 50.484375 35.9375 44.390625 34.1875 \r\nz\r\nM 19.671875 64.796875 \r\nL 19.671875 38.921875 \r\nL 32.078125 38.921875 \r\nQ 39.203125 38.921875 42.84375 42.21875 \r\nQ 46.484375 45.515625 46.484375 51.90625 \r\nQ 46.484375 58.296875 42.84375 61.546875 \r\nQ 39.203125 64.796875 32.078125 64.796875 \r\nz\r\n\" id=\"DejaVuSans-82\"/>\r\n       <path d=\"M 2.984375 54.6875 \r\nL 12.5 54.6875 \r\nL 29.59375 8.796875 \r\nL 46.6875 54.6875 \r\nL 56.203125 54.6875 \r\nL 35.6875 0 \r\nL 23.484375 0 \r\nz\r\n\" id=\"DejaVuSans-118\"/>\r\n       <path d=\"M 8.5 21.578125 \r\nL 8.5 54.6875 \r\nL 17.484375 54.6875 \r\nL 17.484375 21.921875 \r\nQ 17.484375 14.15625 20.5 10.265625 \r\nQ 23.53125 6.390625 29.59375 6.390625 \r\nQ 36.859375 6.390625 41.078125 11.03125 \r\nQ 45.3125 15.671875 45.3125 23.6875 \r\nL 45.3125 54.6875 \r\nL 54.296875 54.6875 \r\nL 54.296875 0 \r\nL 45.3125 0 \r\nL 45.3125 8.40625 \r\nQ 42.046875 3.421875 37.71875 1 \r\nQ 33.40625 -1.421875 27.6875 -1.421875 \r\nQ 18.265625 -1.421875 13.375 4.4375 \r\nQ 8.5 10.296875 8.5 21.578125 \r\nz\r\nM 31.109375 56 \r\nz\r\n\" id=\"DejaVuSans-117\"/>\r\n      </defs>\r\n      <use xlink:href=\"#DejaVuSans-116\"/>\r\n      <use x=\"39.208984\" xlink:href=\"#DejaVuSans-114\"/>\r\n      <use x=\"80.322266\" xlink:href=\"#DejaVuSans-97\"/>\r\n      <use x=\"141.601562\" xlink:href=\"#DejaVuSans-110\"/>\r\n      <use x=\"204.980469\" xlink:href=\"#DejaVuSans-115\"/>\r\n      <use x=\"257.080078\" xlink:href=\"#DejaVuSans-97\"/>\r\n      <use x=\"318.359375\" xlink:href=\"#DejaVuSans-99\"/>\r\n      <use x=\"373.339844\" xlink:href=\"#DejaVuSans-116\"/>\r\n      <use x=\"412.548828\" xlink:href=\"#DejaVuSans-105\"/>\r\n      <use x=\"440.332031\" xlink:href=\"#DejaVuSans-111\"/>\r\n      <use x=\"501.513672\" xlink:href=\"#DejaVuSans-110\"/>\r\n      <use x=\"564.892578\" xlink:href=\"#DejaVuSans-82\"/>\r\n      <use x=\"629.875\" xlink:href=\"#DejaVuSans-101\"/>\r\n      <use x=\"691.398438\" xlink:href=\"#DejaVuSans-118\"/>\r\n      <use x=\"750.578125\" xlink:href=\"#DejaVuSans-101\"/>\r\n      <use x=\"812.101562\" xlink:href=\"#DejaVuSans-110\"/>\r\n      <use x=\"875.480469\" xlink:href=\"#DejaVuSans-117\"/>\r\n      <use x=\"938.859375\" xlink:href=\"#DejaVuSans-101\"/>\r\n     </g>\r\n    </g>\r\n    <g id=\"text_12\">\r\n     <!-- 1e8 -->\r\n     <g transform=\"translate(43.78125 14.798437)scale(0.1 -0.1)\">\r\n      <defs>\r\n       <path d=\"M 31.78125 34.625 \r\nQ 24.75 34.625 20.71875 30.859375 \r\nQ 16.703125 27.09375 16.703125 20.515625 \r\nQ 16.703125 13.921875 20.71875 10.15625 \r\nQ 24.75 6.390625 31.78125 6.390625 \r\nQ 38.8125 6.390625 42.859375 10.171875 \r\nQ 46.921875 13.96875 46.921875 20.515625 \r\nQ 46.921875 27.09375 42.890625 30.859375 \r\nQ 38.875 34.625 31.78125 34.625 \r\nz\r\nM 21.921875 38.8125 \r\nQ 15.578125 40.375 12.03125 44.71875 \r\nQ 8.5 49.078125 8.5 55.328125 \r\nQ 8.5 64.0625 14.71875 69.140625 \r\nQ 20.953125 74.21875 31.78125 74.21875 \r\nQ 42.671875 74.21875 48.875 69.140625 \r\nQ 55.078125 64.0625 55.078125 55.328125 \r\nQ 55.078125 49.078125 51.53125 44.71875 \r\nQ 48 40.375 41.703125 38.8125 \r\nQ 48.828125 37.15625 52.796875 32.3125 \r\nQ 56.78125 27.484375 56.78125 20.515625 \r\nQ 56.78125 9.90625 50.3125 4.234375 \r\nQ 43.84375 -1.421875 31.78125 -1.421875 \r\nQ 19.734375 -1.421875 13.25 4.234375 \r\nQ 6.78125 9.90625 6.78125 20.515625 \r\nQ 6.78125 27.484375 10.78125 32.3125 \r\nQ 14.796875 37.15625 21.921875 38.8125 \r\nz\r\nM 18.3125 54.390625 \r\nQ 18.3125 48.734375 21.84375 45.5625 \r\nQ 25.390625 42.390625 31.78125 42.390625 \r\nQ 38.140625 42.390625 41.71875 45.5625 \r\nQ 45.3125 48.734375 45.3125 54.390625 \r\nQ 45.3125 60.0625 41.71875 63.234375 \r\nQ 38.140625 66.40625 31.78125 66.40625 \r\nQ 25.390625 66.40625 21.84375 63.234375 \r\nQ 18.3125 60.0625 18.3125 54.390625 \r\nz\r\n\" id=\"DejaVuSans-56\"/>\r\n      </defs>\r\n      <use xlink:href=\"#DejaVuSans-49\"/>\r\n      <use x=\"63.623047\" xlink:href=\"#DejaVuSans-101\"/>\r\n      <use x=\"125.146484\" xlink:href=\"#DejaVuSans-56\"/>\r\n     </g>\r\n    </g>\r\n   </g>\r\n   <g id=\"patch_3\">\r\n    <path d=\"M 43.78125 328.198437 \r\nL 43.78125 17.798437 \r\n\" style=\"fill:none;stroke:#000000;stroke-linecap:square;stroke-linejoin:miter;stroke-width:0.8;\"/>\r\n   </g>\r\n   <g id=\"patch_4\">\r\n    <path d=\"M 43.78125 328.198437 \r\nL 359.18125 328.198437 \r\n\" style=\"fill:none;stroke:#000000;stroke-linecap:square;stroke-linejoin:miter;stroke-width:0.8;\"/>\r\n   </g>\r\n   <g id=\"PathCollection_1\">\r\n    <defs>\r\n     <path d=\"M 0 2.5 \r\nC 0.663008 2.5 1.29895 2.236584 1.767767 1.767767 \r\nC 2.236584 1.29895 2.5 0.663008 2.5 -0 \r\nC 2.5 -0.663008 2.236584 -1.29895 1.767767 -1.767767 \r\nC 1.29895 -2.236584 0.663008 -2.5 0 -2.5 \r\nC -0.663008 -2.5 -1.29895 -2.236584 -1.767767 -1.767767 \r\nC -2.236584 -1.29895 -2.5 -0.663008 -2.5 0 \r\nC -2.5 0.663008 -2.236584 1.29895 -1.767767 1.767767 \r\nC -1.29895 2.236584 -0.663008 2.5 0 2.5 \r\nz\r\n\" id=\"C0_0_358fabf3df\"/>\r\n    </defs>\r\n    <g clip-path=\"url(#pead2e4aa23)\">\r\n     <use style=\"fill:#1f77b4;\" x=\"133.723346\" xlink:href=\"#C0_0_358fabf3df\" y=\"284.597187\"/>\r\n    </g>\r\n    <g clip-path=\"url(#pead2e4aa23)\">\r\n     <use style=\"fill:#1f77b4;\" x=\"111.44463\" xlink:href=\"#C0_0_358fabf3df\" y=\"264.894641\"/>\r\n    </g>\r\n    <g clip-path=\"url(#pead2e4aa23)\">\r\n     <use style=\"fill:#1f77b4;\" x=\"119.552024\" xlink:href=\"#C0_0_358fabf3df\" y=\"291.332289\"/>\r\n    </g>\r\n    <g clip-path=\"url(#pead2e4aa23)\">\r\n     <use style=\"fill:#1f77b4;\" x=\"110.577121\" xlink:href=\"#C0_0_358fabf3df\" y=\"302.051537\"/>\r\n    </g>\r\n    <g clip-path=\"url(#pead2e4aa23)\">\r\n     <use style=\"fill:#1f77b4;\" x=\"117.288079\" xlink:href=\"#C0_0_358fabf3df\" y=\"277.1032\"/>\r\n    </g>\r\n    <g clip-path=\"url(#pead2e4aa23)\">\r\n     <use style=\"fill:#1f77b4;\" x=\"133.65999\" xlink:href=\"#C0_0_358fabf3df\" y=\"269.030563\"/>\r\n    </g>\r\n    <g clip-path=\"url(#pead2e4aa23)\">\r\n     <use style=\"fill:#1f77b4;\" x=\"136.285937\" xlink:href=\"#C0_0_358fabf3df\" y=\"252.733512\"/>\r\n    </g>\r\n    <g clip-path=\"url(#pead2e4aa23)\">\r\n     <use style=\"fill:#1f77b4;\" x=\"115.134595\" xlink:href=\"#C0_0_358fabf3df\" y=\"306.045168\"/>\r\n    </g>\r\n    <g clip-path=\"url(#pead2e4aa23)\">\r\n     <use style=\"fill:#1f77b4;\" x=\"134.647603\" xlink:href=\"#C0_0_358fabf3df\" y=\"222.302233\"/>\r\n    </g>\r\n    <g clip-path=\"url(#pead2e4aa23)\">\r\n     <use style=\"fill:#1f77b4;\" x=\"114.006548\" xlink:href=\"#C0_0_358fabf3df\" y=\"301.311624\"/>\r\n    </g>\r\n    <g clip-path=\"url(#pead2e4aa23)\">\r\n     <use style=\"fill:#1f77b4;\" x=\"111.703165\" xlink:href=\"#C0_0_358fabf3df\" y=\"248.256092\"/>\r\n    </g>\r\n    <g clip-path=\"url(#pead2e4aa23)\">\r\n     <use style=\"fill:#1f77b4;\" x=\"135.826411\" xlink:href=\"#C0_0_358fabf3df\" y=\"278.620969\"/>\r\n    </g>\r\n    <g clip-path=\"url(#pead2e4aa23)\">\r\n     <use style=\"fill:#1f77b4;\" x=\"127.855794\" xlink:href=\"#C0_0_358fabf3df\" y=\"287.642212\"/>\r\n    </g>\r\n    <g clip-path=\"url(#pead2e4aa23)\">\r\n     <use style=\"fill:#1f77b4;\" x=\"121.848364\" xlink:href=\"#C0_0_358fabf3df\" y=\"284.597187\"/>\r\n    </g>\r\n    <g clip-path=\"url(#pead2e4aa23)\">\r\n     <use style=\"fill:#1f77b4;\" x=\"132.937435\" xlink:href=\"#C0_0_358fabf3df\" y=\"293.741749\"/>\r\n    </g>\r\n    <g clip-path=\"url(#pead2e4aa23)\">\r\n     <use style=\"fill:#1f77b4;\" x=\"122.103804\" xlink:href=\"#C0_0_358fabf3df\" y=\"291.891967\"/>\r\n    </g>\r\n    <g clip-path=\"url(#pead2e4aa23)\">\r\n     <use style=\"fill:#1f77b4;\" x=\"109.966361\" xlink:href=\"#C0_0_358fabf3df\" y=\"283.088903\"/>\r\n    </g>\r\n    <g clip-path=\"url(#pead2e4aa23)\">\r\n     <use style=\"fill:#1f77b4;\" x=\"136.38264\" xlink:href=\"#C0_0_358fabf3df\" y=\"273.9728\"/>\r\n    </g>\r\n    <g clip-path=\"url(#pead2e4aa23)\">\r\n     <use style=\"fill:#1f77b4;\" x=\"118.410825\" xlink:href=\"#C0_0_358fabf3df\" y=\"200.531726\"/>\r\n    </g>\r\n    <g clip-path=\"url(#pead2e4aa23)\">\r\n     <use style=\"fill:#1f77b4;\" x=\"123.781297\" xlink:href=\"#C0_0_358fabf3df\" y=\"32.163652\"/>\r\n    </g>\r\n    <g clip-path=\"url(#pead2e4aa23)\">\r\n     <use style=\"fill:#1f77b4;\" x=\"120.361778\" xlink:href=\"#C0_0_358fabf3df\" y=\"108.175448\"/>\r\n    </g>\r\n    <g clip-path=\"url(#pead2e4aa23)\">\r\n     <use style=\"fill:#1f77b4;\" x=\"119.584241\" xlink:href=\"#C0_0_358fabf3df\" y=\"286.352108\"/>\r\n    </g>\r\n    <g clip-path=\"url(#pead2e4aa23)\">\r\n     <use style=\"fill:#1f77b4;\" x=\"127.607528\" xlink:href=\"#C0_0_358fabf3df\" y=\"301.292652\"/>\r\n    </g>\r\n    <g clip-path=\"url(#pead2e4aa23)\">\r\n     <use style=\"fill:#1f77b4;\" x=\"120.261901\" xlink:href=\"#C0_0_358fabf3df\" y=\"259.572961\"/>\r\n    </g>\r\n    <g clip-path=\"url(#pead2e4aa23)\">\r\n     <use style=\"fill:#1f77b4;\" x=\"112.759669\" xlink:href=\"#C0_0_358fabf3df\" y=\"273.9728\"/>\r\n    </g>\r\n    <g clip-path=\"url(#pead2e4aa23)\">\r\n     <use style=\"fill:#1f77b4;\" x=\"132.705425\" xlink:href=\"#C0_0_358fabf3df\" y=\"303.569306\"/>\r\n    </g>\r\n    <g clip-path=\"url(#pead2e4aa23)\">\r\n     <use style=\"fill:#1f77b4;\" x=\"135.369195\" xlink:href=\"#C0_0_358fabf3df\" y=\"301.292652\"/>\r\n    </g>\r\n    <g clip-path=\"url(#pead2e4aa23)\">\r\n     <use style=\"fill:#1f77b4;\" x=\"118.979689\" xlink:href=\"#C0_0_358fabf3df\" y=\"256.556394\"/>\r\n    </g>\r\n    <g clip-path=\"url(#pead2e4aa23)\">\r\n     <use style=\"fill:#1f77b4;\" x=\"123.568233\" xlink:href=\"#C0_0_358fabf3df\" y=\"290.004241\"/>\r\n    </g>\r\n    <g clip-path=\"url(#pead2e4aa23)\">\r\n     <use style=\"fill:#1f77b4;\" x=\"121.60752\" xlink:href=\"#C0_0_358fabf3df\" y=\"295.601016\"/>\r\n    </g>\r\n    <g clip-path=\"url(#pead2e4aa23)\">\r\n     <use style=\"fill:#1f77b4;\" x=\"130.540853\" xlink:href=\"#C0_0_358fabf3df\" y=\"273.9728\"/>\r\n    </g>\r\n    <g clip-path=\"url(#pead2e4aa23)\">\r\n     <use style=\"fill:#1f77b4;\" x=\"125.696527\" xlink:href=\"#C0_0_358fabf3df\" y=\"307.951866\"/>\r\n    </g>\r\n    <g clip-path=\"url(#pead2e4aa23)\">\r\n     <use style=\"fill:#1f77b4;\" x=\"118.885656\" xlink:href=\"#C0_0_358fabf3df\" y=\"299.404926\"/>\r\n    </g>\r\n    <g clip-path=\"url(#pead2e4aa23)\">\r\n     <use style=\"fill:#1f77b4;\" x=\"107.690821\" xlink:href=\"#C0_0_358fabf3df\" y=\"293.722776\"/>\r\n    </g>\r\n    <g clip-path=\"url(#pead2e4aa23)\">\r\n     <use style=\"fill:#1f77b4;\" x=\"112.051241\" xlink:href=\"#C0_0_358fabf3df\" y=\"186.501843\"/>\r\n    </g>\r\n    <g clip-path=\"url(#pead2e4aa23)\">\r\n     <use style=\"fill:#1f77b4;\" x=\"138.035359\" xlink:href=\"#C0_0_358fabf3df\" y=\"304.622259\"/>\r\n    </g>\r\n    <g clip-path=\"url(#pead2e4aa23)\">\r\n     <use style=\"fill:#1f77b4;\" x=\"119.943718\" xlink:href=\"#C0_0_358fabf3df\" y=\"307.401674\"/>\r\n    </g>\r\n    <g clip-path=\"url(#pead2e4aa23)\">\r\n     <use style=\"fill:#1f77b4;\" x=\"112.582804\" xlink:href=\"#C0_0_358fabf3df\" y=\"284.597187\"/>\r\n    </g>\r\n    <g clip-path=\"url(#pead2e4aa23)\">\r\n     <use style=\"fill:#1f77b4;\" x=\"109.182892\" xlink:href=\"#C0_0_358fabf3df\" y=\"290.507002\"/>\r\n    </g>\r\n    <g clip-path=\"url(#pead2e4aa23)\">\r\n     <use style=\"fill:#1f77b4;\" x=\"129.152363\" xlink:href=\"#C0_0_358fabf3df\" y=\"222.558356\"/>\r\n    </g>\r\n    <g clip-path=\"url(#pead2e4aa23)\">\r\n     <use style=\"fill:#1f77b4;\" x=\"111.616837\" xlink:href=\"#C0_0_358fabf3df\" y=\"283.743442\"/>\r\n    </g>\r\n    <g clip-path=\"url(#pead2e4aa23)\">\r\n     <use style=\"fill:#1f77b4;\" x=\"122.691307\" xlink:href=\"#C0_0_358fabf3df\" y=\"232.158249\"/>\r\n    </g>\r\n    <g clip-path=\"url(#pead2e4aa23)\">\r\n     <use style=\"fill:#1f77b4;\" x=\"136.344454\" xlink:href=\"#C0_0_358fabf3df\" y=\"313.747848\"/>\r\n    </g>\r\n    <g clip-path=\"url(#pead2e4aa23)\">\r\n     <use style=\"fill:#1f77b4;\" x=\"112.423965\" xlink:href=\"#C0_0_358fabf3df\" y=\"81.491163\"/>\r\n    </g>\r\n    <g clip-path=\"url(#pead2e4aa23)\">\r\n     <use style=\"fill:#1f77b4;\" x=\"106.955866\" xlink:href=\"#C0_0_358fabf3df\" y=\"251.927197\"/>\r\n    </g>\r\n    <g clip-path=\"url(#pead2e4aa23)\">\r\n     <use style=\"fill:#1f77b4;\" x=\"117.584893\" xlink:href=\"#C0_0_358fabf3df\" y=\"163.517121\"/>\r\n    </g>\r\n    <g clip-path=\"url(#pead2e4aa23)\">\r\n     <use style=\"fill:#1f77b4;\" x=\"114.732707\" xlink:href=\"#C0_0_358fabf3df\" y=\"125.838492\"/>\r\n    </g>\r\n    <g clip-path=\"url(#pead2e4aa23)\">\r\n     <use style=\"fill:#1f77b4;\" x=\"118.82476\" xlink:href=\"#C0_0_358fabf3df\" y=\"252.923234\"/>\r\n    </g>\r\n    <g clip-path=\"url(#pead2e4aa23)\">\r\n     <use style=\"fill:#1f77b4;\" x=\"130.854979\" xlink:href=\"#C0_0_358fabf3df\" y=\"256.641769\"/>\r\n    </g>\r\n    <g clip-path=\"url(#pead2e4aa23)\">\r\n     <use style=\"fill:#1f77b4;\" x=\"128.435419\" xlink:href=\"#C0_0_358fabf3df\" y=\"305.096562\"/>\r\n    </g>\r\n    <g clip-path=\"url(#pead2e4aa23)\">\r\n     <use style=\"fill:#1f77b4;\" x=\"123.582763\" xlink:href=\"#C0_0_358fabf3df\" y=\"210.311853\"/>\r\n    </g>\r\n    <g clip-path=\"url(#pead2e4aa23)\">\r\n     <use style=\"fill:#1f77b4;\" x=\"131.09251\" xlink:href=\"#C0_0_358fabf3df\" y=\"265.463805\"/>\r\n    </g>\r\n    <g clip-path=\"url(#pead2e4aa23)\">\r\n     <use style=\"fill:#1f77b4;\" x=\"115.81885\" xlink:href=\"#C0_0_358fabf3df\" y=\"301.292652\"/>\r\n    </g>\r\n    <g clip-path=\"url(#pead2e4aa23)\">\r\n     <use style=\"fill:#1f77b4;\" x=\"133.297289\" xlink:href=\"#C0_0_358fabf3df\" y=\"110.765143\"/>\r\n    </g>\r\n    <g clip-path=\"url(#pead2e4aa23)\">\r\n     <use style=\"fill:#1f77b4;\" x=\"127.446839\" xlink:href=\"#C0_0_358fabf3df\" y=\"290.867472\"/>\r\n    </g>\r\n    <g clip-path=\"url(#pead2e4aa23)\">\r\n     <use style=\"fill:#1f77b4;\" x=\"116.721217\" xlink:href=\"#C0_0_358fabf3df\" y=\"193.236946\"/>\r\n    </g>\r\n    <g clip-path=\"url(#pead2e4aa23)\">\r\n     <use style=\"fill:#1f77b4;\" x=\"107.837993\" xlink:href=\"#C0_0_358fabf3df\" y=\"273.792565\"/>\r\n    </g>\r\n    <g clip-path=\"url(#pead2e4aa23)\">\r\n     <use style=\"fill:#1f77b4;\" x=\"121.678334\" xlink:href=\"#C0_0_358fabf3df\" y=\"283.107876\"/>\r\n    </g>\r\n    <g clip-path=\"url(#pead2e4aa23)\">\r\n     <use style=\"fill:#1f77b4;\" x=\"114.909623\" xlink:href=\"#C0_0_358fabf3df\" y=\"296.559108\"/>\r\n    </g>\r\n    <g clip-path=\"url(#pead2e4aa23)\">\r\n     <use style=\"fill:#1f77b4;\" x=\"124.195297\" xlink:href=\"#C0_0_358fabf3df\" y=\"191.795065\"/>\r\n    </g>\r\n    <g clip-path=\"url(#pead2e4aa23)\">\r\n     <use style=\"fill:#1f77b4;\" x=\"135.561621\" xlink:href=\"#C0_0_358fabf3df\" y=\"135.115858\"/>\r\n    </g>\r\n    <g clip-path=\"url(#pead2e4aa23)\">\r\n     <use style=\"fill:#1f77b4;\" x=\"111.607787\" xlink:href=\"#C0_0_358fabf3df\" y=\"296.255554\"/>\r\n    </g>\r\n    <g clip-path=\"url(#pead2e4aa23)\">\r\n     <use style=\"fill:#1f77b4;\" x=\"124.026749\" xlink:href=\"#C0_0_358fabf3df\" y=\"210.615407\"/>\r\n    </g>\r\n    <g clip-path=\"url(#pead2e4aa23)\">\r\n     <use style=\"fill:#1f77b4;\" x=\"137.306585\" xlink:href=\"#C0_0_358fabf3df\" y=\"272.948306\"/>\r\n    </g>\r\n    <g clip-path=\"url(#pead2e4aa23)\">\r\n     <use style=\"fill:#1f77b4;\" x=\"116.975651\" xlink:href=\"#C0_0_358fabf3df\" y=\"259.553989\"/>\r\n    </g>\r\n    <g clip-path=\"url(#pead2e4aa23)\">\r\n     <use style=\"fill:#1f77b4;\" x=\"132.252557\" xlink:href=\"#C0_0_358fabf3df\" y=\"252.733512\"/>\r\n    </g>\r\n    <g clip-path=\"url(#pead2e4aa23)\">\r\n     <use style=\"fill:#1f77b4;\" x=\"135.901135\" xlink:href=\"#C0_0_358fabf3df\" y=\"223.905377\"/>\r\n    </g>\r\n    <g clip-path=\"url(#pead2e4aa23)\">\r\n     <use style=\"fill:#1f77b4;\" x=\"132.158567\" xlink:href=\"#C0_0_358fabf3df\" y=\"263.614023\"/>\r\n    </g>\r\n    <g clip-path=\"url(#pead2e4aa23)\">\r\n     <use style=\"fill:#1f77b4;\" x=\"118.237876\" xlink:href=\"#C0_0_358fabf3df\" y=\"283.7719\"/>\r\n    </g>\r\n    <g clip-path=\"url(#pead2e4aa23)\">\r\n     <use style=\"fill:#1f77b4;\" x=\"106.936128\" xlink:href=\"#C0_0_358fabf3df\" y=\"298.257113\"/>\r\n    </g>\r\n    <g clip-path=\"url(#pead2e4aa23)\">\r\n     <use style=\"fill:#1f77b4;\" x=\"128.600113\" xlink:href=\"#C0_0_358fabf3df\" y=\"300.344046\"/>\r\n    </g>\r\n    <g clip-path=\"url(#pead2e4aa23)\">\r\n     <use style=\"fill:#1f77b4;\" x=\"116.954764\" xlink:href=\"#C0_0_358fabf3df\" y=\"187.516852\"/>\r\n    </g>\r\n    <g clip-path=\"url(#pead2e4aa23)\">\r\n     <use style=\"fill:#1f77b4;\" x=\"131.083358\" xlink:href=\"#C0_0_358fabf3df\" y=\"185.648098\"/>\r\n    </g>\r\n    <g clip-path=\"url(#pead2e4aa23)\">\r\n     <use style=\"fill:#1f77b4;\" x=\"137.796705\" xlink:href=\"#C0_0_358fabf3df\" y=\"277.767224\"/>\r\n    </g>\r\n    <g clip-path=\"url(#pead2e4aa23)\">\r\n     <use style=\"fill:#1f77b4;\" x=\"108.973479\" xlink:href=\"#C0_0_358fabf3df\" y=\"284.597187\"/>\r\n    </g>\r\n    <g clip-path=\"url(#pead2e4aa23)\">\r\n     <use style=\"fill:#1f77b4;\" x=\"120.534729\" xlink:href=\"#C0_0_358fabf3df\" y=\"273.9728\"/>\r\n    </g>\r\n    <g clip-path=\"url(#pead2e4aa23)\">\r\n     <use style=\"fill:#1f77b4;\" x=\"134.670416\" xlink:href=\"#C0_0_358fabf3df\" y=\"284.606673\"/>\r\n    </g>\r\n    <g clip-path=\"url(#pead2e4aa23)\">\r\n     <use style=\"fill:#1f77b4;\" x=\"107.699433\" xlink:href=\"#C0_0_358fabf3df\" y=\"312.68541\"/>\r\n    </g>\r\n    <g clip-path=\"url(#pead2e4aa23)\">\r\n     <use style=\"fill:#1f77b4;\" x=\"133.97586\" xlink:href=\"#C0_0_358fabf3df\" y=\"227.51008\"/>\r\n    </g>\r\n    <g clip-path=\"url(#pead2e4aa23)\">\r\n     <use style=\"fill:#1f77b4;\" x=\"120.503165\" xlink:href=\"#C0_0_358fabf3df\" y=\"101.715442\"/>\r\n    </g>\r\n    <g clip-path=\"url(#pead2e4aa23)\">\r\n     <use style=\"fill:#1f77b4;\" x=\"128.117559\" xlink:href=\"#C0_0_358fabf3df\" y=\"298.883193\"/>\r\n    </g>\r\n    <g clip-path=\"url(#pead2e4aa23)\">\r\n     <use style=\"fill:#1f77b4;\" x=\"137.981968\" xlink:href=\"#C0_0_358fabf3df\" y=\"262.418779\"/>\r\n    </g>\r\n    <g clip-path=\"url(#pead2e4aa23)\">\r\n     <use style=\"fill:#1f77b4;\" x=\"134.931309\" xlink:href=\"#C0_0_358fabf3df\" y=\"270.187862\"/>\r\n    </g>\r\n    <g clip-path=\"url(#pead2e4aa23)\">\r\n     <use style=\"fill:#1f77b4;\" x=\"117.803599\" xlink:href=\"#C0_0_358fabf3df\" y=\"287.613754\"/>\r\n    </g>\r\n    <g clip-path=\"url(#pead2e4aa23)\">\r\n     <use style=\"fill:#1f77b4;\" x=\"130.764061\" xlink:href=\"#C0_0_358fabf3df\" y=\"304.707634\"/>\r\n    </g>\r\n    <g clip-path=\"url(#pead2e4aa23)\">\r\n     <use style=\"fill:#1f77b4;\" x=\"124.38431\" xlink:href=\"#C0_0_358fabf3df\" y=\"293.751235\"/>\r\n    </g>\r\n    <g clip-path=\"url(#pead2e4aa23)\">\r\n     <use style=\"fill:#1f77b4;\" x=\"119.991345\" xlink:href=\"#C0_0_358fabf3df\" y=\"273.9728\"/>\r\n    </g>\r\n    <g clip-path=\"url(#pead2e4aa23)\">\r\n     <use style=\"fill:#1f77b4;\" x=\"131.873291\" xlink:href=\"#C0_0_358fabf3df\" y=\"274.228924\"/>\r\n    </g>\r\n    <g clip-path=\"url(#pead2e4aa23)\">\r\n     <use style=\"fill:#1f77b4;\" x=\"134.485682\" xlink:href=\"#C0_0_358fabf3df\" y=\"251.301117\"/>\r\n    </g>\r\n    <g clip-path=\"url(#pead2e4aa23)\">\r\n     <use style=\"fill:#1f77b4;\" x=\"114.205873\" xlink:href=\"#C0_0_358fabf3df\" y=\"283.401943\"/>\r\n    </g>\r\n    <g clip-path=\"url(#pead2e4aa23)\">\r\n     <use style=\"fill:#1f77b4;\" x=\"118.827157\" xlink:href=\"#C0_0_358fabf3df\" y=\"290.677751\"/>\r\n    </g>\r\n    <g clip-path=\"url(#pead2e4aa23)\">\r\n     <use style=\"fill:#1f77b4;\" x=\"119.732152\" xlink:href=\"#C0_0_358fabf3df\" y=\"284.597187\"/>\r\n    </g>\r\n    <g clip-path=\"url(#pead2e4aa23)\">\r\n     <use style=\"fill:#1f77b4;\" x=\"129.369374\" xlink:href=\"#C0_0_358fabf3df\" y=\"213.575058\"/>\r\n    </g>\r\n    <g clip-path=\"url(#pead2e4aa23)\">\r\n     <use style=\"fill:#1f77b4;\" x=\"122.024548\" xlink:href=\"#C0_0_358fabf3df\" y=\"270.662165\"/>\r\n    </g>\r\n    <g clip-path=\"url(#pead2e4aa23)\">\r\n     <use style=\"fill:#1f77b4;\" x=\"137.387915\" xlink:href=\"#C0_0_358fabf3df\" y=\"272.464517\"/>\r\n    </g>\r\n    <g clip-path=\"url(#pead2e4aa23)\">\r\n     <use style=\"fill:#1f77b4;\" x=\"135.188251\" xlink:href=\"#C0_0_358fabf3df\" y=\"221.600264\"/>\r\n    </g>\r\n    <g clip-path=\"url(#pead2e4aa23)\">\r\n     <use style=\"fill:#1f77b4;\" x=\"135.044619\" xlink:href=\"#C0_0_358fabf3df\" y=\"300.344046\"/>\r\n    </g>\r\n    <g clip-path=\"url(#pead2e4aa23)\">\r\n     <use style=\"fill:#1f77b4;\" x=\"117.996975\" xlink:href=\"#C0_0_358fabf3df\" y=\"302.715561\"/>\r\n    </g>\r\n    <g clip-path=\"url(#pead2e4aa23)\">\r\n     <use style=\"fill:#1f77b4;\" x=\"108.262585\" xlink:href=\"#C0_0_358fabf3df\" y=\"252.733512\"/>\r\n    </g>\r\n    <g clip-path=\"url(#pead2e4aa23)\">\r\n     <use style=\"fill:#1f77b4;\" x=\"123.429514\" xlink:href=\"#C0_0_358fabf3df\" y=\"269.030563\"/>\r\n    </g>\r\n    <g clip-path=\"url(#pead2e4aa23)\">\r\n     <use style=\"fill:#1f77b4;\" x=\"118.227077\" xlink:href=\"#C0_0_358fabf3df\" y=\"188.996677\"/>\r\n    </g>\r\n    <g clip-path=\"url(#pead2e4aa23)\">\r\n     <use style=\"fill:#1f77b4;\" x=\"124.55831\" xlink:href=\"#C0_0_358fabf3df\" y=\"289.653257\"/>\r\n    </g>\r\n    <g clip-path=\"url(#pead2e4aa23)\">\r\n     <use style=\"fill:#1f77b4;\" x=\"122.691383\" xlink:href=\"#C0_0_358fabf3df\" y=\"286.295192\"/>\r\n    </g>\r\n    <g clip-path=\"url(#pead2e4aa23)\">\r\n     <use style=\"fill:#1f77b4;\" x=\"110.06048\" xlink:href=\"#C0_0_358fabf3df\" y=\"273.232887\"/>\r\n    </g>\r\n    <g clip-path=\"url(#pead2e4aa23)\">\r\n     <use style=\"fill:#1f77b4;\" x=\"121.470239\" xlink:href=\"#C0_0_358fabf3df\" y=\"141.367171\"/>\r\n    </g>\r\n    <g clip-path=\"url(#pead2e4aa23)\">\r\n     <use style=\"fill:#1f77b4;\" x=\"109.303703\" xlink:href=\"#C0_0_358fabf3df\" y=\"248.958061\"/>\r\n    </g>\r\n    <g clip-path=\"url(#pead2e4aa23)\">\r\n     <use style=\"fill:#1f77b4;\" x=\"125.346826\" xlink:href=\"#C0_0_358fabf3df\" y=\"200.275602\"/>\r\n    </g>\r\n    <g clip-path=\"url(#pead2e4aa23)\">\r\n     <use style=\"fill:#1f77b4;\" x=\"121.00423\" xlink:href=\"#C0_0_358fabf3df\" y=\"182.290033\"/>\r\n    </g>\r\n    <g clip-path=\"url(#pead2e4aa23)\">\r\n     <use style=\"fill:#1f77b4;\" x=\"106.909911\" xlink:href=\"#C0_0_358fabf3df\" y=\"290.677751\"/>\r\n    </g>\r\n    <g clip-path=\"url(#pead2e4aa23)\">\r\n     <use style=\"fill:#1f77b4;\" x=\"117.558194\" xlink:href=\"#C0_0_358fabf3df\" y=\"211.004336\"/>\r\n    </g>\r\n    <g clip-path=\"url(#pead2e4aa23)\">\r\n     <use style=\"fill:#1f77b4;\" x=\"120.737232\" xlink:href=\"#C0_0_358fabf3df\" y=\"284.597187\"/>\r\n    </g>\r\n    <g clip-path=\"url(#pead2e4aa23)\">\r\n     <use style=\"fill:#1f77b4;\" x=\"115.720144\" xlink:href=\"#C0_0_358fabf3df\" y=\"207.010705\"/>\r\n    </g>\r\n    <g clip-path=\"url(#pead2e4aa23)\">\r\n     <use style=\"fill:#1f77b4;\" x=\"112.054384\" xlink:href=\"#C0_0_358fabf3df\" y=\"129.272445\"/>\r\n    </g>\r\n    <g clip-path=\"url(#pead2e4aa23)\">\r\n     <use style=\"fill:#1f77b4;\" x=\"136.660449\" xlink:href=\"#C0_0_358fabf3df\" y=\"258.03622\"/>\r\n    </g>\r\n    <g clip-path=\"url(#pead2e4aa23)\">\r\n     <use style=\"fill:#1f77b4;\" x=\"121.058561\" xlink:href=\"#C0_0_358fabf3df\" y=\"217.065928\"/>\r\n    </g>\r\n    <g clip-path=\"url(#pead2e4aa23)\">\r\n     <use style=\"fill:#1f77b4;\" x=\"116.445414\" xlink:href=\"#C0_0_358fabf3df\" y=\"200.408407\"/>\r\n    </g>\r\n    <g clip-path=\"url(#pead2e4aa23)\">\r\n     <use style=\"fill:#1f77b4;\" x=\"123.691717\" xlink:href=\"#C0_0_358fabf3df\" y=\"285.185323\"/>\r\n    </g>\r\n    <g clip-path=\"url(#pead2e4aa23)\">\r\n     <use style=\"fill:#1f77b4;\" x=\"108.552788\" xlink:href=\"#C0_0_358fabf3df\" y=\"307.94238\"/>\r\n    </g>\r\n    <g clip-path=\"url(#pead2e4aa23)\">\r\n     <use style=\"fill:#1f77b4;\" x=\"110.307091\" xlink:href=\"#C0_0_358fabf3df\" y=\"289.23587\"/>\r\n    </g>\r\n    <g clip-path=\"url(#pead2e4aa23)\">\r\n     <use style=\"fill:#1f77b4;\" x=\"132.288916\" xlink:href=\"#C0_0_358fabf3df\" y=\"258.889965\"/>\r\n    </g>\r\n    <g clip-path=\"url(#pead2e4aa23)\">\r\n     <use style=\"fill:#1f77b4;\" x=\"125.896515\" xlink:href=\"#C0_0_358fabf3df\" y=\"53.602147\"/>\r\n    </g>\r\n    <g clip-path=\"url(#pead2e4aa23)\">\r\n     <use style=\"fill:#1f77b4;\" x=\"126.377865\" xlink:href=\"#C0_0_358fabf3df\" y=\"297.498228\"/>\r\n    </g>\r\n    <g clip-path=\"url(#pead2e4aa23)\">\r\n     <use style=\"fill:#1f77b4;\" x=\"127.018324\" xlink:href=\"#C0_0_358fabf3df\" y=\"299.774882\"/>\r\n    </g>\r\n    <g clip-path=\"url(#pead2e4aa23)\">\r\n     <use style=\"fill:#1f77b4;\" x=\"134.771963\" xlink:href=\"#C0_0_358fabf3df\" y=\"242.640345\"/>\r\n    </g>\r\n    <g clip-path=\"url(#pead2e4aa23)\">\r\n     <use style=\"fill:#1f77b4;\" x=\"122.356059\" xlink:href=\"#C0_0_358fabf3df\" y=\"244.006337\"/>\r\n    </g>\r\n    <g clip-path=\"url(#pead2e4aa23)\">\r\n     <use style=\"fill:#1f77b4;\" x=\"113.855376\" xlink:href=\"#C0_0_358fabf3df\" y=\"267.911208\"/>\r\n    </g>\r\n    <g clip-path=\"url(#pead2e4aa23)\">\r\n     <use style=\"fill:#1f77b4;\" x=\"127.52927\" xlink:href=\"#C0_0_358fabf3df\" y=\"288.031141\"/>\r\n    </g>\r\n    <g clip-path=\"url(#pead2e4aa23)\">\r\n     <use style=\"fill:#1f77b4;\" x=\"129.571901\" xlink:href=\"#C0_0_358fabf3df\" y=\"298.257113\"/>\r\n    </g>\r\n    <g clip-path=\"url(#pead2e4aa23)\">\r\n     <use style=\"fill:#1f77b4;\" x=\"132.290885\" xlink:href=\"#C0_0_358fabf3df\" y=\"138.227286\"/>\r\n    </g>\r\n    <g clip-path=\"url(#pead2e4aa23)\">\r\n     <use style=\"fill:#1f77b4;\" x=\"109.391349\" xlink:href=\"#C0_0_358fabf3df\" y=\"309.251456\"/>\r\n    </g>\r\n    <g clip-path=\"url(#pead2e4aa23)\">\r\n     <use style=\"fill:#1f77b4;\" x=\"134.13536\" xlink:href=\"#C0_0_358fabf3df\" y=\"241.340755\"/>\r\n    </g>\r\n    <g clip-path=\"url(#pead2e4aa23)\">\r\n     <use style=\"fill:#1f77b4;\" x=\"119.912712\" xlink:href=\"#C0_0_358fabf3df\" y=\"271.193385\"/>\r\n    </g>\r\n    <g clip-path=\"url(#pead2e4aa23)\">\r\n     <use style=\"fill:#1f77b4;\" x=\"128.276962\" xlink:href=\"#C0_0_358fabf3df\" y=\"263.348413\"/>\r\n    </g>\r\n    <g clip-path=\"url(#pead2e4aa23)\">\r\n     <use style=\"fill:#1f77b4;\" x=\"125.655761\" xlink:href=\"#C0_0_358fabf3df\" y=\"281.400385\"/>\r\n    </g>\r\n    <g clip-path=\"url(#pead2e4aa23)\">\r\n     <use style=\"fill:#1f77b4;\" x=\"136.034799\" xlink:href=\"#C0_0_358fabf3df\" y=\"279.0763\"/>\r\n    </g>\r\n    <g clip-path=\"url(#pead2e4aa23)\">\r\n     <use style=\"fill:#1f77b4;\" x=\"132.179294\" xlink:href=\"#C0_0_358fabf3df\" y=\"42.247333\"/>\r\n    </g>\r\n    <g clip-path=\"url(#pead2e4aa23)\">\r\n     <use style=\"fill:#1f77b4;\" x=\"134.734588\" xlink:href=\"#C0_0_358fabf3df\" y=\"306.035682\"/>\r\n    </g>\r\n    <g clip-path=\"url(#pead2e4aa23)\">\r\n     <use style=\"fill:#1f77b4;\" x=\"117.587269\" xlink:href=\"#C0_0_358fabf3df\" y=\"252.93272\"/>\r\n    </g>\r\n    <g clip-path=\"url(#pead2e4aa23)\">\r\n     <use style=\"fill:#1f77b4;\" x=\"115.405307\" xlink:href=\"#C0_0_358fabf3df\" y=\"267.674056\"/>\r\n    </g>\r\n    <g clip-path=\"url(#pead2e4aa23)\">\r\n     <use style=\"fill:#1f77b4;\" x=\"136.996365\" xlink:href=\"#C0_0_358fabf3df\" y=\"76.975798\"/>\r\n    </g>\r\n    <g clip-path=\"url(#pead2e4aa23)\">\r\n     <use style=\"fill:#1f77b4;\" x=\"107.632058\" xlink:href=\"#C0_0_358fabf3df\" y=\"269.077993\"/>\r\n    </g>\r\n    <g clip-path=\"url(#pead2e4aa23)\">\r\n     <use style=\"fill:#1f77b4;\" x=\"134.578587\" xlink:href=\"#C0_0_358fabf3df\" y=\"227.690315\"/>\r\n    </g>\r\n    <g clip-path=\"url(#pead2e4aa23)\">\r\n     <use style=\"fill:#1f77b4;\" x=\"107.443992\" xlink:href=\"#C0_0_358fabf3df\" y=\"292.755198\"/>\r\n    </g>\r\n    <g clip-path=\"url(#pead2e4aa23)\">\r\n     <use style=\"fill:#1f77b4;\" x=\"119.139388\" xlink:href=\"#C0_0_358fabf3df\" y=\"252.724026\"/>\r\n    </g>\r\n    <g clip-path=\"url(#pead2e4aa23)\">\r\n     <use style=\"fill:#1f77b4;\" x=\"135.59487\" xlink:href=\"#C0_0_358fabf3df\" y=\"287.67067\"/>\r\n    </g>\r\n    <g clip-path=\"url(#pead2e4aa23)\">\r\n     <use style=\"fill:#1f77b4;\" x=\"123.429055\" xlink:href=\"#C0_0_358fabf3df\" y=\"239.870415\"/>\r\n    </g>\r\n    <g clip-path=\"url(#pead2e4aa23)\">\r\n     <use style=\"fill:#1f77b4;\" x=\"136.260249\" xlink:href=\"#C0_0_358fabf3df\" y=\"203.358572\"/>\r\n    </g>\r\n    <g clip-path=\"url(#pead2e4aa23)\">\r\n     <use style=\"fill:#1f77b4;\" x=\"122.462768\" xlink:href=\"#C0_0_358fabf3df\" y=\"300.865779\"/>\r\n    </g>\r\n    <g clip-path=\"url(#pead2e4aa23)\">\r\n     <use style=\"fill:#1f77b4;\" x=\"121.364757\" xlink:href=\"#C0_0_358fabf3df\" y=\"31.907528\"/>\r\n    </g>\r\n    <g clip-path=\"url(#pead2e4aa23)\">\r\n     <use style=\"fill:#1f77b4;\" x=\"115.539494\" xlink:href=\"#C0_0_358fabf3df\" y=\"222.074567\"/>\r\n    </g>\r\n    <g clip-path=\"url(#pead2e4aa23)\">\r\n     <use style=\"fill:#1f77b4;\" x=\"122.391431\" xlink:href=\"#C0_0_358fabf3df\" y=\"259.563475\"/>\r\n    </g>\r\n    <g clip-path=\"url(#pead2e4aa23)\">\r\n     <use style=\"fill:#1f77b4;\" x=\"125.501414\" xlink:href=\"#C0_0_358fabf3df\" y=\"220.651658\"/>\r\n    </g>\r\n    <g clip-path=\"url(#pead2e4aa23)\">\r\n     <use style=\"fill:#1f77b4;\" x=\"136.524416\" xlink:href=\"#C0_0_358fabf3df\" y=\"273.261346\"/>\r\n    </g>\r\n    <g clip-path=\"url(#pead2e4aa23)\">\r\n     <use style=\"fill:#1f77b4;\" x=\"110.767855\" xlink:href=\"#C0_0_358fabf3df\" y=\"286.902299\"/>\r\n    </g>\r\n    <g clip-path=\"url(#pead2e4aa23)\">\r\n     <use style=\"fill:#1f77b4;\" x=\"124.778709\" xlink:href=\"#C0_0_358fabf3df\" y=\"240.58187\"/>\r\n    </g>\r\n    <g clip-path=\"url(#pead2e4aa23)\">\r\n     <use style=\"fill:#1f77b4;\" x=\"131.98541\" xlink:href=\"#C0_0_358fabf3df\" y=\"283.942649\"/>\r\n    </g>\r\n    <g clip-path=\"url(#pead2e4aa23)\">\r\n     <use style=\"fill:#1f77b4;\" x=\"111.862021\" xlink:href=\"#C0_0_358fabf3df\" y=\"272.464517\"/>\r\n    </g>\r\n    <g clip-path=\"url(#pead2e4aa23)\">\r\n     <use style=\"fill:#1f77b4;\" x=\"121.685287\" xlink:href=\"#C0_0_358fabf3df\" y=\"296.103777\"/>\r\n    </g>\r\n    <g clip-path=\"url(#pead2e4aa23)\">\r\n     <use style=\"fill:#1f77b4;\" x=\"119.634191\" xlink:href=\"#C0_0_358fabf3df\" y=\"284.597187\"/>\r\n    </g>\r\n    <g clip-path=\"url(#pead2e4aa23)\">\r\n     <use style=\"fill:#1f77b4;\" x=\"110.670924\" xlink:href=\"#C0_0_358fabf3df\" y=\"107.777034\"/>\r\n    </g>\r\n    <g clip-path=\"url(#pead2e4aa23)\">\r\n     <use style=\"fill:#1f77b4;\" x=\"127.591305\" xlink:href=\"#C0_0_358fabf3df\" y=\"273.232887\"/>\r\n    </g>\r\n    <g clip-path=\"url(#pead2e4aa23)\">\r\n     <use style=\"fill:#1f77b4;\" x=\"117.534111\" xlink:href=\"#C0_0_358fabf3df\" y=\"240.58187\"/>\r\n    </g>\r\n    <g clip-path=\"url(#pead2e4aa23)\">\r\n     <use style=\"fill:#1f77b4;\" x=\"131.073918\" xlink:href=\"#C0_0_358fabf3df\" y=\"286.409024\"/>\r\n    </g>\r\n    <g clip-path=\"url(#pead2e4aa23)\">\r\n     <use style=\"fill:#1f77b4;\" x=\"126.887435\" xlink:href=\"#C0_0_358fabf3df\" y=\"269.267714\"/>\r\n    </g>\r\n    <g clip-path=\"url(#pead2e4aa23)\">\r\n     <use style=\"fill:#1f77b4;\" x=\"131.338068\" xlink:href=\"#C0_0_358fabf3df\" y=\"300.344046\"/>\r\n    </g>\r\n    <g clip-path=\"url(#pead2e4aa23)\">\r\n     <use style=\"fill:#1f77b4;\" x=\"124.101893\" xlink:href=\"#C0_0_358fabf3df\" y=\"221.600264\"/>\r\n    </g>\r\n    <g clip-path=\"url(#pead2e4aa23)\">\r\n     <use style=\"fill:#1f77b4;\" x=\"130.332362\" xlink:href=\"#C0_0_358fabf3df\" y=\"306.035682\"/>\r\n    </g>\r\n    <g clip-path=\"url(#pead2e4aa23)\">\r\n     <use style=\"fill:#1f77b4;\" x=\"122.306597\" xlink:href=\"#C0_0_358fabf3df\" y=\"300.344046\"/>\r\n    </g>\r\n    <g clip-path=\"url(#pead2e4aa23)\">\r\n     <use style=\"fill:#1f77b4;\" x=\"110.208559\" xlink:href=\"#C0_0_358fabf3df\" y=\"281.419357\"/>\r\n    </g>\r\n    <g clip-path=\"url(#pead2e4aa23)\">\r\n     <use style=\"fill:#1f77b4;\" x=\"126.470608\" xlink:href=\"#C0_0_358fabf3df\" y=\"97.304424\"/>\r\n    </g>\r\n    <g clip-path=\"url(#pead2e4aa23)\">\r\n     <use style=\"fill:#1f77b4;\" x=\"133.396889\" xlink:href=\"#C0_0_358fabf3df\" y=\"297.877671\"/>\r\n    </g>\r\n    <g clip-path=\"url(#pead2e4aa23)\">\r\n     <use style=\"fill:#1f77b4;\" x=\"135.818784\" xlink:href=\"#C0_0_358fabf3df\" y=\"298.446834\"/>\r\n    </g>\r\n    <g clip-path=\"url(#pead2e4aa23)\">\r\n     <use style=\"fill:#1f77b4;\" x=\"134.9365\" xlink:href=\"#C0_0_358fabf3df\" y=\"269.030563\"/>\r\n    </g>\r\n    <g clip-path=\"url(#pead2e4aa23)\">\r\n     <use style=\"fill:#1f77b4;\" x=\"123.854227\" xlink:href=\"#C0_0_358fabf3df\" y=\"240.6293\"/>\r\n    </g>\r\n    <g clip-path=\"url(#pead2e4aa23)\">\r\n     <use style=\"fill:#1f77b4;\" x=\"111.89752\" xlink:href=\"#C0_0_358fabf3df\" y=\"275.974359\"/>\r\n    </g>\r\n    <g clip-path=\"url(#pead2e4aa23)\">\r\n     <use style=\"fill:#1f77b4;\" x=\"137.502121\" xlink:href=\"#C0_0_358fabf3df\" y=\"245.154151\"/>\r\n    </g>\r\n    <g clip-path=\"url(#pead2e4aa23)\">\r\n     <use style=\"fill:#1f77b4;\" x=\"120.196879\" xlink:href=\"#C0_0_358fabf3df\" y=\"259.553989\"/>\r\n    </g>\r\n    <g clip-path=\"url(#pead2e4aa23)\">\r\n     <use style=\"fill:#1f77b4;\" x=\"124.532491\" xlink:href=\"#C0_0_358fabf3df\" y=\"47.502611\"/>\r\n    </g>\r\n    <g clip-path=\"url(#pead2e4aa23)\">\r\n     <use style=\"fill:#1f77b4;\" x=\"113.294865\" xlink:href=\"#C0_0_358fabf3df\" y=\"240.088595\"/>\r\n    </g>\r\n    <g clip-path=\"url(#pead2e4aa23)\">\r\n     <use style=\"fill:#1f77b4;\" x=\"108.469585\" xlink:href=\"#C0_0_358fabf3df\" y=\"296.568594\"/>\r\n    </g>\r\n    <g clip-path=\"url(#pead2e4aa23)\">\r\n     <use style=\"fill:#1f77b4;\" x=\"124.505215\" xlink:href=\"#C0_0_358fabf3df\" y=\"288.002682\"/>\r\n    </g>\r\n    <g clip-path=\"url(#pead2e4aa23)\">\r\n     <use style=\"fill:#1f77b4;\" x=\"123.589791\" xlink:href=\"#C0_0_358fabf3df\" y=\"298.446834\"/>\r\n    </g>\r\n    <g clip-path=\"url(#pead2e4aa23)\">\r\n     <use style=\"fill:#1f77b4;\" x=\"136.786996\" xlink:href=\"#C0_0_358fabf3df\" y=\"165.537652\"/>\r\n    </g>\r\n    <g clip-path=\"url(#pead2e4aa23)\">\r\n     <use style=\"fill:#1f77b4;\" x=\"130.220079\" xlink:href=\"#C0_0_358fabf3df\" y=\"261.100217\"/>\r\n    </g>\r\n    <g clip-path=\"url(#pead2e4aa23)\">\r\n     <use style=\"fill:#1f77b4;\" x=\"138.300213\" xlink:href=\"#C0_0_358fabf3df\" y=\"138.872338\"/>\r\n    </g>\r\n    <g clip-path=\"url(#pead2e4aa23)\">\r\n     <use style=\"fill:#1f77b4;\" x=\"114.851019\" xlink:href=\"#C0_0_358fabf3df\" y=\"277.217032\"/>\r\n    </g>\r\n    <g clip-path=\"url(#pead2e4aa23)\">\r\n     <use style=\"fill:#1f77b4;\" x=\"116.221757\" xlink:href=\"#C0_0_358fabf3df\" y=\"313.150227\"/>\r\n    </g>\r\n    <g clip-path=\"url(#pead2e4aa23)\">\r\n     <use style=\"fill:#1f77b4;\" x=\"131.246909\" xlink:href=\"#C0_0_358fabf3df\" y=\"308.340794\"/>\r\n    </g>\r\n    <g clip-path=\"url(#pead2e4aa23)\">\r\n     <use style=\"fill:#1f77b4;\" x=\"128.501737\" xlink:href=\"#C0_0_358fabf3df\" y=\"288.401097\"/>\r\n    </g>\r\n    <g clip-path=\"url(#pead2e4aa23)\">\r\n     <use style=\"fill:#1f77b4;\" x=\"128.48075\" xlink:href=\"#C0_0_358fabf3df\" y=\"280.432807\"/>\r\n    </g>\r\n    <g clip-path=\"url(#pead2e4aa23)\">\r\n     <use style=\"fill:#1f77b4;\" x=\"129.685629\" xlink:href=\"#C0_0_358fabf3df\" y=\"267.968124\"/>\r\n    </g>\r\n    <g clip-path=\"url(#pead2e4aa23)\">\r\n     <use style=\"fill:#1f77b4;\" x=\"111.266556\" xlink:href=\"#C0_0_358fabf3df\" y=\"233.002508\"/>\r\n    </g>\r\n    <g clip-path=\"url(#pead2e4aa23)\">\r\n     <use style=\"fill:#1f77b4;\" x=\"112.27437\" xlink:href=\"#C0_0_358fabf3df\" y=\"270.956233\"/>\r\n    </g>\r\n    <g clip-path=\"url(#pead2e4aa23)\">\r\n     <use style=\"fill:#1f77b4;\" x=\"117.068029\" xlink:href=\"#C0_0_358fabf3df\" y=\"175.203946\"/>\r\n    </g>\r\n    <g clip-path=\"url(#pead2e4aa23)\">\r\n     <use style=\"fill:#1f77b4;\" x=\"116.093575\" xlink:href=\"#C0_0_358fabf3df\" y=\"252.951692\"/>\r\n    </g>\r\n    <g clip-path=\"url(#pead2e4aa23)\">\r\n     <use style=\"fill:#1f77b4;\" x=\"132.789894\" xlink:href=\"#C0_0_358fabf3df\" y=\"248.445813\"/>\r\n    </g>\r\n    <g clip-path=\"url(#pead2e4aa23)\">\r\n     <use style=\"fill:#1f77b4;\" x=\"135.32011\" xlink:href=\"#C0_0_358fabf3df\" y=\"303.569306\"/>\r\n    </g>\r\n    <g clip-path=\"url(#pead2e4aa23)\">\r\n     <use style=\"fill:#1f77b4;\" x=\"116.080334\" xlink:href=\"#C0_0_358fabf3df\" y=\"171.096483\"/>\r\n    </g>\r\n    <g clip-path=\"url(#pead2e4aa23)\">\r\n     <use style=\"fill:#1f77b4;\" x=\"137.053792\" xlink:href=\"#C0_0_358fabf3df\" y=\"243.427688\"/>\r\n    </g>\r\n    <g clip-path=\"url(#pead2e4aa23)\">\r\n     <use style=\"fill:#1f77b4;\" x=\"137.950323\" xlink:href=\"#C0_0_358fabf3df\" y=\"311.727318\"/>\r\n    </g>\r\n    <g clip-path=\"url(#pead2e4aa23)\">\r\n     <use style=\"fill:#1f77b4;\" x=\"123.872049\" xlink:href=\"#C0_0_358fabf3df\" y=\"264.002951\"/>\r\n    </g>\r\n    <g clip-path=\"url(#pead2e4aa23)\">\r\n     <use style=\"fill:#1f77b4;\" x=\"109.007515\" xlink:href=\"#C0_0_358fabf3df\" y=\"270.16889\"/>\r\n    </g>\r\n    <g clip-path=\"url(#pead2e4aa23)\">\r\n     <use style=\"fill:#1f77b4;\" x=\"110.192334\" xlink:href=\"#C0_0_358fabf3df\" y=\"297.498228\"/>\r\n    </g>\r\n    <g clip-path=\"url(#pead2e4aa23)\">\r\n     <use style=\"fill:#1f77b4;\" x=\"108.459041\" xlink:href=\"#C0_0_358fabf3df\" y=\"302.051537\"/>\r\n    </g>\r\n    <g clip-path=\"url(#pead2e4aa23)\">\r\n     <use style=\"fill:#1f77b4;\" x=\"112.288929\" xlink:href=\"#C0_0_358fabf3df\" y=\"104.902758\"/>\r\n    </g>\r\n    <g clip-path=\"url(#pead2e4aa23)\">\r\n     <use style=\"fill:#1f77b4;\" x=\"120.372724\" xlink:href=\"#C0_0_358fabf3df\" y=\"255.038625\"/>\r\n    </g>\r\n    <g clip-path=\"url(#pead2e4aa23)\">\r\n     <use style=\"fill:#1f77b4;\" x=\"115.1912\" xlink:href=\"#C0_0_358fabf3df\" y=\"211.051766\"/>\r\n    </g>\r\n    <g clip-path=\"url(#pead2e4aa23)\">\r\n     <use style=\"fill:#1f77b4;\" x=\"115.546944\" xlink:href=\"#C0_0_358fabf3df\" y=\"288.012168\"/>\r\n    </g>\r\n    <g clip-path=\"url(#pead2e4aa23)\">\r\n     <use style=\"fill:#1f77b4;\" x=\"125.711994\" xlink:href=\"#C0_0_358fabf3df\" y=\"211.203543\"/>\r\n    </g>\r\n    <g clip-path=\"url(#pead2e4aa23)\">\r\n     <use style=\"fill:#1f77b4;\" x=\"133.758592\" xlink:href=\"#C0_0_358fabf3df\" y=\"259.136603\"/>\r\n    </g>\r\n    <g clip-path=\"url(#pead2e4aa23)\">\r\n     <use style=\"fill:#1f77b4;\" x=\"108.132026\" xlink:href=\"#C0_0_358fabf3df\" y=\"125.250356\"/>\r\n    </g>\r\n    <g clip-path=\"url(#pead2e4aa23)\">\r\n     <use style=\"fill:#1f77b4;\" x=\"110.229088\" xlink:href=\"#C0_0_358fabf3df\" y=\"290.516488\"/>\r\n    </g>\r\n    <g clip-path=\"url(#pead2e4aa23)\">\r\n     <use style=\"fill:#1f77b4;\" x=\"124.552572\" xlink:href=\"#C0_0_358fabf3df\" y=\"187.54531\"/>\r\n    </g>\r\n    <g clip-path=\"url(#pead2e4aa23)\">\r\n     <use style=\"fill:#1f77b4;\" x=\"117.343449\" xlink:href=\"#C0_0_358fabf3df\" y=\"212.256496\"/>\r\n    </g>\r\n    <g clip-path=\"url(#pead2e4aa23)\">\r\n     <use style=\"fill:#1f77b4;\" x=\"120.679126\" xlink:href=\"#C0_0_358fabf3df\" y=\"275.500056\"/>\r\n    </g>\r\n    <g clip-path=\"url(#pead2e4aa23)\">\r\n     <use style=\"fill:#1f77b4;\" x=\"135.016043\" xlink:href=\"#C0_0_358fabf3df\" y=\"298.446834\"/>\r\n    </g>\r\n    <g clip-path=\"url(#pead2e4aa23)\">\r\n     <use style=\"fill:#1f77b4;\" x=\"133.787896\" xlink:href=\"#C0_0_358fabf3df\" y=\"287.253284\"/>\r\n    </g>\r\n    <g clip-path=\"url(#pead2e4aa23)\">\r\n     <use style=\"fill:#1f77b4;\" x=\"111.36453\" xlink:href=\"#C0_0_358fabf3df\" y=\"204.221803\"/>\r\n    </g>\r\n    <g clip-path=\"url(#pead2e4aa23)\">\r\n     <use style=\"fill:#1f77b4;\" x=\"137.204407\" xlink:href=\"#C0_0_358fabf3df\" y=\"295.610502\"/>\r\n    </g>\r\n    <g clip-path=\"url(#pead2e4aa23)\">\r\n     <use style=\"fill:#1f77b4;\" x=\"112.920987\" xlink:href=\"#C0_0_358fabf3df\" y=\"311.736804\"/>\r\n    </g>\r\n    <g clip-path=\"url(#pead2e4aa23)\">\r\n     <use style=\"fill:#1f77b4;\" x=\"116.429913\" xlink:href=\"#C0_0_358fabf3df\" y=\"303.939263\"/>\r\n    </g>\r\n    <g clip-path=\"url(#pead2e4aa23)\">\r\n     <use style=\"fill:#1f77b4;\" x=\"121.900113\" xlink:href=\"#C0_0_358fabf3df\" y=\"263.348413\"/>\r\n    </g>\r\n    <g clip-path=\"url(#pead2e4aa23)\">\r\n     <use style=\"fill:#1f77b4;\" x=\"128.585747\" xlink:href=\"#C0_0_358fabf3df\" y=\"299.983576\"/>\r\n    </g>\r\n    <g clip-path=\"url(#pead2e4aa23)\">\r\n     <use style=\"fill:#1f77b4;\" x=\"129.216275\" xlink:href=\"#C0_0_358fabf3df\" y=\"276.628897\"/>\r\n    </g>\r\n    <g clip-path=\"url(#pead2e4aa23)\">\r\n     <use style=\"fill:#1f77b4;\" x=\"130.599185\" xlink:href=\"#C0_0_358fabf3df\" y=\"290.668265\"/>\r\n    </g>\r\n    <g clip-path=\"url(#pead2e4aa23)\">\r\n     <use style=\"fill:#1f77b4;\" x=\"131.071923\" xlink:href=\"#C0_0_358fabf3df\" y=\"254.346143\"/>\r\n    </g>\r\n    <g clip-path=\"url(#pead2e4aa23)\">\r\n     <use style=\"fill:#1f77b4;\" x=\"135.53189\" xlink:href=\"#C0_0_358fabf3df\" y=\"50.85119\"/>\r\n    </g>\r\n    <g clip-path=\"url(#pead2e4aa23)\">\r\n     <use style=\"fill:#1f77b4;\" x=\"111.525388\" xlink:href=\"#C0_0_358fabf3df\" y=\"292.755198\"/>\r\n    </g>\r\n    <g clip-path=\"url(#pead2e4aa23)\">\r\n     <use style=\"fill:#1f77b4;\" x=\"121.198457\" xlink:href=\"#C0_0_358fabf3df\" y=\"269.44795\"/>\r\n    </g>\r\n    <g clip-path=\"url(#pead2e4aa23)\">\r\n     <use style=\"fill:#1f77b4;\" x=\"118.250605\" xlink:href=\"#C0_0_358fabf3df\" y=\"306.604845\"/>\r\n    </g>\r\n    <g clip-path=\"url(#pead2e4aa23)\">\r\n     <use style=\"fill:#1f77b4;\" x=\"121.454251\" xlink:href=\"#C0_0_358fabf3df\" y=\"302.051537\"/>\r\n    </g>\r\n    <g clip-path=\"url(#pead2e4aa23)\">\r\n     <use style=\"fill:#1f77b4;\" x=\"134.623422\" xlink:href=\"#C0_0_358fabf3df\" y=\"302.051537\"/>\r\n    </g>\r\n    <g clip-path=\"url(#pead2e4aa23)\">\r\n     <use style=\"fill:#1f77b4;\" x=\"130.352475\" xlink:href=\"#C0_0_358fabf3df\" y=\"291.123596\"/>\r\n    </g>\r\n    <g clip-path=\"url(#pead2e4aa23)\">\r\n     <use style=\"fill:#1f77b4;\" x=\"114.962575\" xlink:href=\"#C0_0_358fabf3df\" y=\"179.188091\"/>\r\n    </g>\r\n    <g clip-path=\"url(#pead2e4aa23)\">\r\n     <use style=\"fill:#1f77b4;\" x=\"137.200213\" xlink:href=\"#C0_0_358fabf3df\" y=\"109.655274\"/>\r\n    </g>\r\n    <g clip-path=\"url(#pead2e4aa23)\">\r\n     <use style=\"fill:#1f77b4;\" x=\"135.859295\" xlink:href=\"#C0_0_358fabf3df\" y=\"128.750712\"/>\r\n    </g>\r\n    <g clip-path=\"url(#pead2e4aa23)\">\r\n     <use style=\"fill:#1f77b4;\" x=\"137.564424\" xlink:href=\"#C0_0_358fabf3df\" y=\"259.553989\"/>\r\n    </g>\r\n    <g clip-path=\"url(#pead2e4aa23)\">\r\n     <use style=\"fill:#1f77b4;\" x=\"109.906352\" xlink:href=\"#C0_0_358fabf3df\" y=\"273.9728\"/>\r\n    </g>\r\n    <g clip-path=\"url(#pead2e4aa23)\">\r\n     <use style=\"fill:#1f77b4;\" x=\"125.938473\" xlink:href=\"#C0_0_358fabf3df\" y=\"300.344046\"/>\r\n    </g>\r\n    <g clip-path=\"url(#pead2e4aa23)\">\r\n     <use style=\"fill:#1f77b4;\" x=\"121.160979\" xlink:href=\"#C0_0_358fabf3df\" y=\"271.696146\"/>\r\n    </g>\r\n    <g clip-path=\"url(#pead2e4aa23)\">\r\n     <use style=\"fill:#1f77b4;\" x=\"129.957614\" xlink:href=\"#C0_0_358fabf3df\" y=\"192.212451\"/>\r\n    </g>\r\n    <g clip-path=\"url(#pead2e4aa23)\">\r\n     <use style=\"fill:#1f77b4;\" x=\"135.961222\" xlink:href=\"#C0_0_358fabf3df\" y=\"246.814211\"/>\r\n    </g>\r\n    <g clip-path=\"url(#pead2e4aa23)\">\r\n     <use style=\"fill:#1f77b4;\" x=\"124.283911\" xlink:href=\"#C0_0_358fabf3df\" y=\"273.9728\"/>\r\n    </g>\r\n    <g clip-path=\"url(#pead2e4aa23)\">\r\n     <use style=\"fill:#1f77b4;\" x=\"130.500164\" xlink:href=\"#C0_0_358fabf3df\" y=\"274.741171\"/>\r\n    </g>\r\n    <g clip-path=\"url(#pead2e4aa23)\">\r\n     <use style=\"fill:#1f77b4;\" x=\"115.020852\" xlink:href=\"#C0_0_358fabf3df\" y=\"257.580889\"/>\r\n    </g>\r\n    <g clip-path=\"url(#pead2e4aa23)\">\r\n     <use style=\"fill:#1f77b4;\" x=\"111.981828\" xlink:href=\"#C0_0_358fabf3df\" y=\"122.793466\"/>\r\n    </g>\r\n    <g clip-path=\"url(#pead2e4aa23)\">\r\n     <use style=\"fill:#1f77b4;\" x=\"108.60519\" xlink:href=\"#C0_0_358fabf3df\" y=\"121.104948\"/>\r\n    </g>\r\n    <g clip-path=\"url(#pead2e4aa23)\">\r\n     <use style=\"fill:#1f77b4;\" x=\"110.440645\" xlink:href=\"#C0_0_358fabf3df\" y=\"111.846554\"/>\r\n    </g>\r\n    <g clip-path=\"url(#pead2e4aa23)\">\r\n     <use style=\"fill:#1f77b4;\" x=\"121.167882\" xlink:href=\"#C0_0_358fabf3df\" y=\"300.344046\"/>\r\n    </g>\r\n    <g clip-path=\"url(#pead2e4aa23)\">\r\n     <use style=\"fill:#1f77b4;\" x=\"135.80446\" xlink:href=\"#C0_0_358fabf3df\" y=\"189.366634\"/>\r\n    </g>\r\n    <g clip-path=\"url(#pead2e4aa23)\">\r\n     <use style=\"fill:#1f77b4;\" x=\"125.373729\" xlink:href=\"#C0_0_358fabf3df\" y=\"267.161809\"/>\r\n    </g>\r\n    <g clip-path=\"url(#pead2e4aa23)\">\r\n     <use style=\"fill:#1f77b4;\" x=\"137.200253\" xlink:href=\"#C0_0_358fabf3df\" y=\"273.802051\"/>\r\n    </g>\r\n    <g clip-path=\"url(#pead2e4aa23)\">\r\n     <use style=\"fill:#1f77b4;\" x=\"137.80229\" xlink:href=\"#C0_0_358fabf3df\" y=\"250.608635\"/>\r\n    </g>\r\n    <g clip-path=\"url(#pead2e4aa23)\">\r\n     <use style=\"fill:#1f77b4;\" x=\"112.183352\" xlink:href=\"#C0_0_358fabf3df\" y=\"231.513197\"/>\r\n    </g>\r\n    <g clip-path=\"url(#pead2e4aa23)\">\r\n     <use style=\"fill:#1f77b4;\" x=\"120.383914\" xlink:href=\"#C0_0_358fabf3df\" y=\"112.150107\"/>\r\n    </g>\r\n    <g clip-path=\"url(#pead2e4aa23)\">\r\n     <use style=\"fill:#1f77b4;\" x=\"138.184722\" xlink:href=\"#C0_0_358fabf3df\" y=\"300.344046\"/>\r\n    </g>\r\n    <g clip-path=\"url(#pead2e4aa23)\">\r\n     <use style=\"fill:#1f77b4;\" x=\"137.224151\" xlink:href=\"#C0_0_358fabf3df\" y=\"300.344046\"/>\r\n    </g>\r\n    <g clip-path=\"url(#pead2e4aa23)\">\r\n     <use style=\"fill:#1f77b4;\" x=\"130.792761\" xlink:href=\"#C0_0_358fabf3df\" y=\"254.308198\"/>\r\n    </g>\r\n    <g clip-path=\"url(#pead2e4aa23)\">\r\n     <use style=\"fill:#1f77b4;\" x=\"107.877167\" xlink:href=\"#C0_0_358fabf3df\" y=\"279.019384\"/>\r\n    </g>\r\n    <g clip-path=\"url(#pead2e4aa23)\">\r\n     <use style=\"fill:#1f77b4;\" x=\"112.743375\" xlink:href=\"#C0_0_358fabf3df\" y=\"229.985941\"/>\r\n    </g>\r\n    <g clip-path=\"url(#pead2e4aa23)\">\r\n     <use style=\"fill:#1f77b4;\" x=\"113.684037\" xlink:href=\"#C0_0_358fabf3df\" y=\"242.498054\"/>\r\n    </g>\r\n    <g clip-path=\"url(#pead2e4aa23)\">\r\n     <use style=\"fill:#1f77b4;\" x=\"115.18777\" xlink:href=\"#C0_0_358fabf3df\" y=\"285.365558\"/>\r\n    </g>\r\n    <g clip-path=\"url(#pead2e4aa23)\">\r\n     <use style=\"fill:#1f77b4;\" x=\"119.549232\" xlink:href=\"#C0_0_358fabf3df\" y=\"213.461225\"/>\r\n    </g>\r\n    <g clip-path=\"url(#pead2e4aa23)\">\r\n     <use style=\"fill:#1f77b4;\" x=\"136.985519\" xlink:href=\"#C0_0_358fabf3df\" y=\"292.755198\"/>\r\n    </g>\r\n    <g clip-path=\"url(#pead2e4aa23)\">\r\n     <use style=\"fill:#1f77b4;\" x=\"130.357178\" xlink:href=\"#C0_0_358fabf3df\" y=\"275.699263\"/>\r\n    </g>\r\n    <g clip-path=\"url(#pead2e4aa23)\">\r\n     <use style=\"fill:#1f77b4;\" x=\"111.982904\" xlink:href=\"#C0_0_358fabf3df\" y=\"284.597187\"/>\r\n    </g>\r\n    <g clip-path=\"url(#pead2e4aa23)\">\r\n     <use style=\"fill:#1f77b4;\" x=\"117.431702\" xlink:href=\"#C0_0_358fabf3df\" y=\"279.835185\"/>\r\n    </g>\r\n    <g clip-path=\"url(#pead2e4aa23)\">\r\n     <use style=\"fill:#1f77b4;\" x=\"122.022015\" xlink:href=\"#C0_0_358fabf3df\" y=\"297.498228\"/>\r\n    </g>\r\n    <g clip-path=\"url(#pead2e4aa23)\">\r\n     <use style=\"fill:#1f77b4;\" x=\"133.577998\" xlink:href=\"#C0_0_358fabf3df\" y=\"292.755198\"/>\r\n    </g>\r\n    <g clip-path=\"url(#pead2e4aa23)\">\r\n     <use style=\"fill:#1f77b4;\" x=\"130.474456\" xlink:href=\"#C0_0_358fabf3df\" y=\"126.834528\"/>\r\n    </g>\r\n    <g clip-path=\"url(#pead2e4aa23)\">\r\n     <use style=\"fill:#1f77b4;\" x=\"121.743854\" xlink:href=\"#C0_0_358fabf3df\" y=\"259.563475\"/>\r\n    </g>\r\n    <g clip-path=\"url(#pead2e4aa23)\">\r\n     <use style=\"fill:#1f77b4;\" x=\"116.068154\" xlink:href=\"#C0_0_358fabf3df\" y=\"269.428977\"/>\r\n    </g>\r\n    <g clip-path=\"url(#pead2e4aa23)\">\r\n     <use style=\"fill:#1f77b4;\" x=\"112.390868\" xlink:href=\"#C0_0_358fabf3df\" y=\"262.608501\"/>\r\n    </g>\r\n    <g clip-path=\"url(#pead2e4aa23)\">\r\n     <use style=\"fill:#1f77b4;\" x=\"120.485254\" xlink:href=\"#C0_0_358fabf3df\" y=\"303.189864\"/>\r\n    </g>\r\n    <g clip-path=\"url(#pead2e4aa23)\">\r\n     <use style=\"fill:#1f77b4;\" x=\"118.484966\" xlink:href=\"#C0_0_358fabf3df\" y=\"302.26023\"/>\r\n    </g>\r\n    <g clip-path=\"url(#pead2e4aa23)\">\r\n     <use style=\"fill:#1f77b4;\" x=\"113.111217\" xlink:href=\"#C0_0_358fabf3df\" y=\"130.315912\"/>\r\n    </g>\r\n    <g clip-path=\"url(#pead2e4aa23)\">\r\n     <use style=\"fill:#1f77b4;\" x=\"107.983175\" xlink:href=\"#C0_0_358fabf3df\" y=\"297.346451\"/>\r\n    </g>\r\n    <g clip-path=\"url(#pead2e4aa23)\">\r\n     <use style=\"fill:#1f77b4;\" x=\"136.407073\" xlink:href=\"#C0_0_358fabf3df\" y=\"299.869743\"/>\r\n    </g>\r\n    <g clip-path=\"url(#pead2e4aa23)\">\r\n     <use style=\"fill:#1f77b4;\" x=\"125.392051\" xlink:href=\"#C0_0_358fabf3df\" y=\"222.558356\"/>\r\n    </g>\r\n    <g clip-path=\"url(#pead2e4aa23)\">\r\n     <use style=\"fill:#1f77b4;\" x=\"119.980545\" xlink:href=\"#C0_0_358fabf3df\" y=\"298.257113\"/>\r\n    </g>\r\n    <g clip-path=\"url(#pead2e4aa23)\">\r\n     <use style=\"fill:#1f77b4;\" x=\"126.349138\" xlink:href=\"#C0_0_358fabf3df\" y=\"274.750657\"/>\r\n    </g>\r\n    <g clip-path=\"url(#pead2e4aa23)\">\r\n     <use style=\"fill:#1f77b4;\" x=\"117.201626\" xlink:href=\"#C0_0_358fabf3df\" y=\"220.718061\"/>\r\n    </g>\r\n    <g clip-path=\"url(#pead2e4aa23)\">\r\n     <use style=\"fill:#1f77b4;\" x=\"113.637663\" xlink:href=\"#C0_0_358fabf3df\" y=\"252.942206\"/>\r\n    </g>\r\n    <g clip-path=\"url(#pead2e4aa23)\">\r\n     <use style=\"fill:#1f77b4;\" x=\"112.956966\" xlink:href=\"#C0_0_358fabf3df\" y=\"264.894641\"/>\r\n    </g>\r\n    <g clip-path=\"url(#pead2e4aa23)\">\r\n     <use style=\"fill:#1f77b4;\" x=\"122.496145\" xlink:href=\"#C0_0_358fabf3df\" y=\"157.123517\"/>\r\n    </g>\r\n    <g clip-path=\"url(#pead2e4aa23)\">\r\n     <use style=\"fill:#1f77b4;\" x=\"133.716399\" xlink:href=\"#C0_0_358fabf3df\" y=\"259.553989\"/>\r\n    </g>\r\n    <g clip-path=\"url(#pead2e4aa23)\">\r\n     <use style=\"fill:#1f77b4;\" x=\"125.497729\" xlink:href=\"#C0_0_358fabf3df\" y=\"302.051537\"/>\r\n    </g>\r\n    <g clip-path=\"url(#pead2e4aa23)\">\r\n     <use style=\"fill:#1f77b4;\" x=\"133.645717\" xlink:href=\"#C0_0_358fabf3df\" y=\"298.257113\"/>\r\n    </g>\r\n    <g clip-path=\"url(#pead2e4aa23)\">\r\n     <use style=\"fill:#1f77b4;\" x=\"127.252451\" xlink:href=\"#C0_0_358fabf3df\" y=\"278.526109\"/>\r\n    </g>\r\n    <g clip-path=\"url(#pead2e4aa23)\">\r\n     <use style=\"fill:#1f77b4;\" x=\"137.034676\" xlink:href=\"#C0_0_358fabf3df\" y=\"305.12502\"/>\r\n    </g>\r\n    <g clip-path=\"url(#pead2e4aa23)\">\r\n     <use style=\"fill:#1f77b4;\" x=\"120.324744\" xlink:href=\"#C0_0_358fabf3df\" y=\"297.896643\"/>\r\n    </g>\r\n    <g clip-path=\"url(#pead2e4aa23)\">\r\n     <use style=\"fill:#1f77b4;\" x=\"132.200047\" xlink:href=\"#C0_0_358fabf3df\" y=\"151.393937\"/>\r\n    </g>\r\n    <g clip-path=\"url(#pead2e4aa23)\">\r\n     <use style=\"fill:#1f77b4;\" x=\"119.372607\" xlink:href=\"#C0_0_358fabf3df\" y=\"261.100217\"/>\r\n    </g>\r\n    <g clip-path=\"url(#pead2e4aa23)\">\r\n     <use style=\"fill:#1f77b4;\" x=\"125.983317\" xlink:href=\"#C0_0_358fabf3df\" y=\"284.597187\"/>\r\n    </g>\r\n    <g clip-path=\"url(#pead2e4aa23)\">\r\n     <use style=\"fill:#1f77b4;\" x=\"123.908712\" xlink:href=\"#C0_0_358fabf3df\" y=\"278.867607\"/>\r\n    </g>\r\n    <g clip-path=\"url(#pead2e4aa23)\">\r\n     <use style=\"fill:#1f77b4;\" x=\"122.988712\" xlink:href=\"#C0_0_358fabf3df\" y=\"236.559781\"/>\r\n    </g>\r\n    <g clip-path=\"url(#pead2e4aa23)\">\r\n     <use style=\"fill:#1f77b4;\" x=\"123.574646\" xlink:href=\"#C0_0_358fabf3df\" y=\"230.498188\"/>\r\n    </g>\r\n    <g clip-path=\"url(#pead2e4aa23)\">\r\n     <use style=\"fill:#1f77b4;\" x=\"123.691887\" xlink:href=\"#C0_0_358fabf3df\" y=\"289.90938\"/>\r\n    </g>\r\n    <g clip-path=\"url(#pead2e4aa23)\">\r\n     <use style=\"fill:#1f77b4;\" x=\"135.685598\" xlink:href=\"#C0_0_358fabf3df\" y=\"305.115534\"/>\r\n    </g>\r\n    <g clip-path=\"url(#pead2e4aa23)\">\r\n     <use style=\"fill:#1f77b4;\" x=\"122.002393\" xlink:href=\"#C0_0_358fabf3df\" y=\"229.21757\"/>\r\n    </g>\r\n    <g clip-path=\"url(#pead2e4aa23)\">\r\n     <use style=\"fill:#1f77b4;\" x=\"129.810236\" xlink:href=\"#C0_0_358fabf3df\" y=\"273.9728\"/>\r\n    </g>\r\n    <g clip-path=\"url(#pead2e4aa23)\">\r\n     <use style=\"fill:#1f77b4;\" x=\"114.320062\" xlink:href=\"#C0_0_358fabf3df\" y=\"273.005222\"/>\r\n    </g>\r\n    <g clip-path=\"url(#pead2e4aa23)\">\r\n     <use style=\"fill:#1f77b4;\" x=\"124.643265\" xlink:href=\"#C0_0_358fabf3df\" y=\"259.553989\"/>\r\n    </g>\r\n    <g clip-path=\"url(#pead2e4aa23)\">\r\n     <use style=\"fill:#1f77b4;\" x=\"125.670497\" xlink:href=\"#C0_0_358fabf3df\" y=\"139.602764\"/>\r\n    </g>\r\n    <g clip-path=\"url(#pead2e4aa23)\">\r\n     <use style=\"fill:#1f77b4;\" x=\"132.434989\" xlink:href=\"#C0_0_358fabf3df\" y=\"287.642212\"/>\r\n    </g>\r\n    <g clip-path=\"url(#pead2e4aa23)\">\r\n     <use style=\"fill:#1f77b4;\" x=\"112.379415\" xlink:href=\"#C0_0_358fabf3df\" y=\"298.257113\"/>\r\n    </g>\r\n    <g clip-path=\"url(#pead2e4aa23)\">\r\n     <use style=\"fill:#1f77b4;\" x=\"137.511691\" xlink:href=\"#C0_0_358fabf3df\" y=\"224.218417\"/>\r\n    </g>\r\n    <g clip-path=\"url(#pead2e4aa23)\">\r\n     <use style=\"fill:#1f77b4;\" x=\"133.389143\" xlink:href=\"#C0_0_358fabf3df\" y=\"267.142837\"/>\r\n    </g>\r\n    <g clip-path=\"url(#pead2e4aa23)\">\r\n     <use style=\"fill:#1f77b4;\" x=\"130.152035\" xlink:href=\"#C0_0_358fabf3df\" y=\"298.446834\"/>\r\n    </g>\r\n    <g clip-path=\"url(#pead2e4aa23)\">\r\n     <use style=\"fill:#1f77b4;\" x=\"120.193641\" xlink:href=\"#C0_0_358fabf3df\" y=\"195.096214\"/>\r\n    </g>\r\n    <g clip-path=\"url(#pead2e4aa23)\">\r\n     <use style=\"fill:#1f77b4;\" x=\"109.392135\" xlink:href=\"#C0_0_358fabf3df\" y=\"145.047763\"/>\r\n    </g>\r\n    <g clip-path=\"url(#pead2e4aa23)\">\r\n     <use style=\"fill:#1f77b4;\" x=\"138.345314\" xlink:href=\"#C0_0_358fabf3df\" y=\"300.344046\"/>\r\n    </g>\r\n    <g clip-path=\"url(#pead2e4aa23)\">\r\n     <use style=\"fill:#1f77b4;\" x=\"116.618503\" xlink:href=\"#C0_0_358fabf3df\" y=\"300.154325\"/>\r\n    </g>\r\n    <g clip-path=\"url(#pead2e4aa23)\">\r\n     <use style=\"fill:#1f77b4;\" x=\"106.861761\" xlink:href=\"#C0_0_358fabf3df\" y=\"162.568515\"/>\r\n    </g>\r\n    <g clip-path=\"url(#pead2e4aa23)\">\r\n     <use style=\"fill:#1f77b4;\" x=\"119.725676\" xlink:href=\"#C0_0_358fabf3df\" y=\"300.344046\"/>\r\n    </g>\r\n    <g clip-path=\"url(#pead2e4aa23)\">\r\n     <use style=\"fill:#1f77b4;\" x=\"112.245739\" xlink:href=\"#C0_0_358fabf3df\" y=\"279.958504\"/>\r\n    </g>\r\n    <g clip-path=\"url(#pead2e4aa23)\">\r\n     <use style=\"fill:#1f77b4;\" x=\"134.297641\" xlink:href=\"#C0_0_358fabf3df\" y=\"214.79876\"/>\r\n    </g>\r\n    <g clip-path=\"url(#pead2e4aa23)\">\r\n     <use style=\"fill:#1f77b4;\" x=\"137.820569\" xlink:href=\"#C0_0_358fabf3df\" y=\"191.92787\"/>\r\n    </g>\r\n    <g clip-path=\"url(#pead2e4aa23)\">\r\n     <use style=\"fill:#1f77b4;\" x=\"111.534582\" xlink:href=\"#C0_0_358fabf3df\" y=\"120.13737\"/>\r\n    </g>\r\n    <g clip-path=\"url(#pead2e4aa23)\">\r\n     <use style=\"fill:#1f77b4;\" x=\"116.394942\" xlink:href=\"#C0_0_358fabf3df\" y=\"274.741171\"/>\r\n    </g>\r\n    <g clip-path=\"url(#pead2e4aa23)\">\r\n     <use style=\"fill:#1f77b4;\" x=\"112.531664\" xlink:href=\"#C0_0_358fabf3df\" y=\"95.777168\"/>\r\n    </g>\r\n    <g clip-path=\"url(#pead2e4aa23)\">\r\n     <use style=\"fill:#1f77b4;\" x=\"108.569422\" xlink:href=\"#C0_0_358fabf3df\" y=\"284.227231\"/>\r\n    </g>\r\n    <g clip-path=\"url(#pead2e4aa23)\">\r\n     <use style=\"fill:#1f77b4;\" x=\"113.180204\" xlink:href=\"#C0_0_358fabf3df\" y=\"225.034218\"/>\r\n    </g>\r\n    <g clip-path=\"url(#pead2e4aa23)\">\r\n     <use style=\"fill:#1f77b4;\" x=\"128.310668\" xlink:href=\"#C0_0_358fabf3df\" y=\"308.407197\"/>\r\n    </g>\r\n    <g clip-path=\"url(#pead2e4aa23)\">\r\n     <use style=\"fill:#1f77b4;\" x=\"124.10689\" xlink:href=\"#C0_0_358fabf3df\" y=\"217.957617\"/>\r\n    </g>\r\n    <g clip-path=\"url(#pead2e4aa23)\">\r\n     <use style=\"fill:#1f77b4;\" x=\"118.194857\" xlink:href=\"#C0_0_358fabf3df\" y=\"298.257113\"/>\r\n    </g>\r\n    <g clip-path=\"url(#pead2e4aa23)\">\r\n     <use style=\"fill:#1f77b4;\" x=\"122.103491\" xlink:href=\"#C0_0_358fabf3df\" y=\"254.308198\"/>\r\n    </g>\r\n    <g clip-path=\"url(#pead2e4aa23)\">\r\n     <use style=\"fill:#1f77b4;\" x=\"118.228837\" xlink:href=\"#C0_0_358fabf3df\" y=\"278.573539\"/>\r\n    </g>\r\n    <g clip-path=\"url(#pead2e4aa23)\">\r\n     <use style=\"fill:#1f77b4;\" x=\"109.589241\" xlink:href=\"#C0_0_358fabf3df\" y=\"292.745712\"/>\r\n    </g>\r\n    <g clip-path=\"url(#pead2e4aa23)\">\r\n     <use style=\"fill:#1f77b4;\" x=\"111.102604\" xlink:href=\"#C0_0_358fabf3df\" y=\"289.159982\"/>\r\n    </g>\r\n    <g clip-path=\"url(#pead2e4aa23)\">\r\n     <use style=\"fill:#1f77b4;\" x=\"115.21131\" xlink:href=\"#C0_0_358fabf3df\" y=\"292.77417\"/>\r\n    </g>\r\n    <g clip-path=\"url(#pead2e4aa23)\">\r\n     <use style=\"fill:#1f77b4;\" x=\"135.129077\" xlink:href=\"#C0_0_358fabf3df\" y=\"254.289226\"/>\r\n    </g>\r\n    <g clip-path=\"url(#pead2e4aa23)\">\r\n     <use style=\"fill:#1f77b4;\" x=\"114.20512\" xlink:href=\"#C0_0_358fabf3df\" y=\"236.132908\"/>\r\n    </g>\r\n    <g clip-path=\"url(#pead2e4aa23)\">\r\n     <use style=\"fill:#1f77b4;\" x=\"135.234842\" xlink:href=\"#C0_0_358fabf3df\" y=\"291.835051\"/>\r\n    </g>\r\n    <g clip-path=\"url(#pead2e4aa23)\">\r\n     <use style=\"fill:#1f77b4;\" x=\"113.524956\" xlink:href=\"#C0_0_358fabf3df\" y=\"241.539962\"/>\r\n    </g>\r\n    <g clip-path=\"url(#pead2e4aa23)\">\r\n     <use style=\"fill:#1f77b4;\" x=\"116.849968\" xlink:href=\"#C0_0_358fabf3df\" y=\"301.292652\"/>\r\n    </g>\r\n    <g clip-path=\"url(#pead2e4aa23)\">\r\n     <use style=\"fill:#1f77b4;\" x=\"126.143881\" xlink:href=\"#C0_0_358fabf3df\" y=\"274.750657\"/>\r\n    </g>\r\n    <g clip-path=\"url(#pead2e4aa23)\">\r\n     <use style=\"fill:#1f77b4;\" x=\"120.433573\" xlink:href=\"#C0_0_358fabf3df\" y=\"213.32842\"/>\r\n    </g>\r\n    <g clip-path=\"url(#pead2e4aa23)\">\r\n     <use style=\"fill:#1f77b4;\" x=\"122.457413\" xlink:href=\"#C0_0_358fabf3df\" y=\"305.07759\"/>\r\n    </g>\r\n    <g clip-path=\"url(#pead2e4aa23)\">\r\n     <use style=\"fill:#1f77b4;\" x=\"131.983898\" xlink:href=\"#C0_0_358fabf3df\" y=\"174.084591\"/>\r\n    </g>\r\n    <g clip-path=\"url(#pead2e4aa23)\">\r\n     <use style=\"fill:#1f77b4;\" x=\"117.218235\" xlink:href=\"#C0_0_358fabf3df\" y=\"273.9728\"/>\r\n    </g>\r\n    <g clip-path=\"url(#pead2e4aa23)\">\r\n     <use style=\"fill:#1f77b4;\" x=\"110.341487\" xlink:href=\"#C0_0_358fabf3df\" y=\"261.081245\"/>\r\n    </g>\r\n    <g clip-path=\"url(#pead2e4aa23)\">\r\n     <use style=\"fill:#1f77b4;\" x=\"119.085802\" xlink:href=\"#C0_0_358fabf3df\" y=\"284.986115\"/>\r\n    </g>\r\n    <g clip-path=\"url(#pead2e4aa23)\">\r\n     <use style=\"fill:#1f77b4;\" x=\"134.203456\" xlink:href=\"#C0_0_358fabf3df\" y=\"73.181374\"/>\r\n    </g>\r\n    <g clip-path=\"url(#pead2e4aa23)\">\r\n     <use style=\"fill:#1f77b4;\" x=\"133.210884\" xlink:href=\"#C0_0_358fabf3df\" y=\"207.067621\"/>\r\n    </g>\r\n    <g clip-path=\"url(#pead2e4aa23)\">\r\n     <use style=\"fill:#1f77b4;\" x=\"130.259178\" xlink:href=\"#C0_0_358fabf3df\" y=\"273.9728\"/>\r\n    </g>\r\n    <g clip-path=\"url(#pead2e4aa23)\">\r\n     <use style=\"fill:#1f77b4;\" x=\"109.920832\" xlink:href=\"#C0_0_358fabf3df\" y=\"148.652465\"/>\r\n    </g>\r\n    <g clip-path=\"url(#pead2e4aa23)\">\r\n     <use style=\"fill:#1f77b4;\" x=\"126.717382\" xlink:href=\"#C0_0_358fabf3df\" y=\"296.018403\"/>\r\n    </g>\r\n    <g clip-path=\"url(#pead2e4aa23)\">\r\n     <use style=\"fill:#1f77b4;\" x=\"134.74467\" xlink:href=\"#C0_0_358fabf3df\" y=\"203.017073\"/>\r\n    </g>\r\n    <g clip-path=\"url(#pead2e4aa23)\">\r\n     <use style=\"fill:#1f77b4;\" x=\"116.096948\" xlink:href=\"#C0_0_358fabf3df\" y=\"298.257113\"/>\r\n    </g>\r\n    <g clip-path=\"url(#pead2e4aa23)\">\r\n     <use style=\"fill:#1f77b4;\" x=\"116.80862\" xlink:href=\"#C0_0_358fabf3df\" y=\"276.628897\"/>\r\n    </g>\r\n    <g clip-path=\"url(#pead2e4aa23)\">\r\n     <use style=\"fill:#1f77b4;\" x=\"124.992105\" xlink:href=\"#C0_0_358fabf3df\" y=\"299.404926\"/>\r\n    </g>\r\n    <g clip-path=\"url(#pead2e4aa23)\">\r\n     <use style=\"fill:#1f77b4;\" x=\"115.036529\" xlink:href=\"#C0_0_358fabf3df\" y=\"306.035682\"/>\r\n    </g>\r\n    <g clip-path=\"url(#pead2e4aa23)\">\r\n     <use style=\"fill:#1f77b4;\" x=\"131.299293\" xlink:href=\"#C0_0_358fabf3df\" y=\"269.068507\"/>\r\n    </g>\r\n    <g clip-path=\"url(#pead2e4aa23)\">\r\n     <use style=\"fill:#1f77b4;\" x=\"110.857083\" xlink:href=\"#C0_0_358fabf3df\" y=\"274.750657\"/>\r\n    </g>\r\n    <g clip-path=\"url(#pead2e4aa23)\">\r\n     <use style=\"fill:#1f77b4;\" x=\"125.168619\" xlink:href=\"#C0_0_358fabf3df\" y=\"254.459975\"/>\r\n    </g>\r\n    <g clip-path=\"url(#pead2e4aa23)\">\r\n     <use style=\"fill:#1f77b4;\" x=\"118.7288\" xlink:href=\"#C0_0_358fabf3df\" y=\"273.9728\"/>\r\n    </g>\r\n   </g>\r\n   <g id=\"PathCollection_2\">\r\n    <defs>\r\n     <path d=\"M 0 2.5 \r\nC 0.663008 2.5 1.29895 2.236584 1.767767 1.767767 \r\nC 2.236584 1.29895 2.5 0.663008 2.5 -0 \r\nC 2.5 -0.663008 2.236584 -1.29895 1.767767 -1.767767 \r\nC 1.29895 -2.236584 0.663008 -2.5 0 -2.5 \r\nC -0.663008 -2.5 -1.29895 -2.236584 -1.767767 -1.767767 \r\nC -2.236584 -1.29895 -2.5 -0.663008 -2.5 0 \r\nC -2.5 0.663008 -2.236584 1.29895 -1.767767 1.767767 \r\nC -1.29895 2.236584 -0.663008 2.5 0 2.5 \r\nz\r\n\" id=\"C1_0_5636171acb\"/>\r\n    </defs>\r\n    <g clip-path=\"url(#pead2e4aa23)\">\r\n     <use style=\"fill:#ff7f0e;\" x=\"295.917796\" xlink:href=\"#C1_0_5636171acb\" y=\"289.918866\"/>\r\n    </g>\r\n    <g clip-path=\"url(#pead2e4aa23)\">\r\n     <use style=\"fill:#ff7f0e;\" x=\"287.580935\" xlink:href=\"#C1_0_5636171acb\" y=\"305.07759\"/>\r\n    </g>\r\n    <g clip-path=\"url(#pead2e4aa23)\">\r\n     <use style=\"fill:#ff7f0e;\" x=\"277.590259\" xlink:href=\"#C1_0_5636171acb\" y=\"274.741171\"/>\r\n    </g>\r\n    <g clip-path=\"url(#pead2e4aa23)\">\r\n     <use style=\"fill:#ff7f0e;\" x=\"277.642792\" xlink:href=\"#C1_0_5636171acb\" y=\"308.027754\"/>\r\n    </g>\r\n    <g clip-path=\"url(#pead2e4aa23)\">\r\n     <use style=\"fill:#ff7f0e;\" x=\"282.643683\" xlink:href=\"#C1_0_5636171acb\" y=\"262.067795\"/>\r\n    </g>\r\n    <g clip-path=\"url(#pead2e4aa23)\">\r\n     <use style=\"fill:#ff7f0e;\" x=\"285.961727\" xlink:href=\"#C1_0_5636171acb\" y=\"250.456858\"/>\r\n    </g>\r\n    <g clip-path=\"url(#pead2e4aa23)\">\r\n     <use style=\"fill:#ff7f0e;\" x=\"271.820825\" xlink:href=\"#C1_0_5636171acb\" y=\"273.507983\"/>\r\n    </g>\r\n    <g clip-path=\"url(#pead2e4aa23)\">\r\n     <use style=\"fill:#ff7f0e;\" x=\"275.716645\" xlink:href=\"#C1_0_5636171acb\" y=\"301.292652\"/>\r\n    </g>\r\n    <g clip-path=\"url(#pead2e4aa23)\">\r\n     <use style=\"fill:#ff7f0e;\" x=\"292.373927\" xlink:href=\"#C1_0_5636171acb\" y=\"284.597187\"/>\r\n    </g>\r\n    <g clip-path=\"url(#pead2e4aa23)\">\r\n     <use style=\"fill:#ff7f0e;\" x=\"295.743548\" xlink:href=\"#C1_0_5636171acb\" y=\"292.755198\"/>\r\n    </g>\r\n    <g clip-path=\"url(#pead2e4aa23)\">\r\n     <use style=\"fill:#ff7f0e;\" x=\"286.856103\" xlink:href=\"#C1_0_5636171acb\" y=\"302.051537\"/>\r\n    </g>\r\n    <g clip-path=\"url(#pead2e4aa23)\">\r\n     <use style=\"fill:#ff7f0e;\" x=\"288.478933\" xlink:href=\"#C1_0_5636171acb\" y=\"252.733512\"/>\r\n    </g>\r\n    <g clip-path=\"url(#pead2e4aa23)\">\r\n     <use style=\"fill:#ff7f0e;\" x=\"269.669594\" xlink:href=\"#C1_0_5636171acb\" y=\"312.305967\"/>\r\n    </g>\r\n    <g clip-path=\"url(#pead2e4aa23)\">\r\n     <use style=\"fill:#ff7f0e;\" x=\"289.760229\" xlink:href=\"#C1_0_5636171acb\" y=\"131.084283\"/>\r\n    </g>\r\n    <g clip-path=\"url(#pead2e4aa23)\">\r\n     <use style=\"fill:#ff7f0e;\" x=\"291.791922\" xlink:href=\"#C1_0_5636171acb\" y=\"284.435924\"/>\r\n    </g>\r\n    <g clip-path=\"url(#pead2e4aa23)\">\r\n     <use style=\"fill:#ff7f0e;\" x=\"278.843031\" xlink:href=\"#C1_0_5636171acb\" y=\"304.13847\"/>\r\n    </g>\r\n    <g clip-path=\"url(#pead2e4aa23)\">\r\n     <use style=\"fill:#ff7f0e;\" x=\"290.853229\" xlink:href=\"#C1_0_5636171acb\" y=\"295.601016\"/>\r\n    </g>\r\n    <g clip-path=\"url(#pead2e4aa23)\">\r\n     <use style=\"fill:#ff7f0e;\" x=\"270.6969\" xlink:href=\"#C1_0_5636171acb\" y=\"304.783522\"/>\r\n    </g>\r\n    <g clip-path=\"url(#pead2e4aa23)\">\r\n     <use style=\"fill:#ff7f0e;\" x=\"290.33584\" xlink:href=\"#C1_0_5636171acb\" y=\"219.048514\"/>\r\n    </g>\r\n    <g clip-path=\"url(#pead2e4aa23)\">\r\n     <use style=\"fill:#ff7f0e;\" x=\"270.252352\" xlink:href=\"#C1_0_5636171acb\" y=\"89.269731\"/>\r\n    </g>\r\n    <g clip-path=\"url(#pead2e4aa23)\">\r\n     <use style=\"fill:#ff7f0e;\" x=\"285.8443\" xlink:href=\"#C1_0_5636171acb\" y=\"262.504154\"/>\r\n    </g>\r\n    <g clip-path=\"url(#pead2e4aa23)\">\r\n     <use style=\"fill:#ff7f0e;\" x=\"278.301358\" xlink:href=\"#C1_0_5636171acb\" y=\"285.96318\"/>\r\n    </g>\r\n    <g clip-path=\"url(#pead2e4aa23)\">\r\n     <use style=\"fill:#ff7f0e;\" x=\"273.936746\" xlink:href=\"#C1_0_5636171acb\" y=\"302.051537\"/>\r\n    </g>\r\n    <g clip-path=\"url(#pead2e4aa23)\">\r\n     <use style=\"fill:#ff7f0e;\" x=\"289.425428\" xlink:href=\"#C1_0_5636171acb\" y=\"143.909435\"/>\r\n    </g>\r\n    <g clip-path=\"url(#pead2e4aa23)\">\r\n     <use style=\"fill:#ff7f0e;\" x=\"275.05826\" xlink:href=\"#C1_0_5636171acb\" y=\"124.339694\"/>\r\n    </g>\r\n    <g clip-path=\"url(#pead2e4aa23)\">\r\n     <use style=\"fill:#ff7f0e;\" x=\"278.812785\" xlink:href=\"#C1_0_5636171acb\" y=\"221.60975\"/>\r\n    </g>\r\n    <g clip-path=\"url(#pead2e4aa23)\">\r\n     <use style=\"fill:#ff7f0e;\" x=\"279.260735\" xlink:href=\"#C1_0_5636171acb\" y=\"309.830106\"/>\r\n    </g>\r\n    <g clip-path=\"url(#pead2e4aa23)\">\r\n     <use style=\"fill:#ff7f0e;\" x=\"289.293587\" xlink:href=\"#C1_0_5636171acb\" y=\"225.508521\"/>\r\n    </g>\r\n    <g clip-path=\"url(#pead2e4aa23)\">\r\n     <use style=\"fill:#ff7f0e;\" x=\"292.589159\" xlink:href=\"#C1_0_5636171acb\" y=\"297.507714\"/>\r\n    </g>\r\n    <g clip-path=\"url(#pead2e4aa23)\">\r\n     <use style=\"fill:#ff7f0e;\" x=\"291.348347\" xlink:href=\"#C1_0_5636171acb\" y=\"272.085074\"/>\r\n    </g>\r\n    <g clip-path=\"url(#pead2e4aa23)\">\r\n     <use style=\"fill:#ff7f0e;\" x=\"275.539015\" xlink:href=\"#C1_0_5636171acb\" y=\"305.096562\"/>\r\n    </g>\r\n    <g clip-path=\"url(#pead2e4aa23)\">\r\n     <use style=\"fill:#ff7f0e;\" x=\"275.666026\" xlink:href=\"#C1_0_5636171acb\" y=\"196.04482\"/>\r\n    </g>\r\n    <g clip-path=\"url(#pead2e4aa23)\">\r\n     <use style=\"fill:#ff7f0e;\" x=\"285.196915\" xlink:href=\"#C1_0_5636171acb\" y=\"250.750926\"/>\r\n    </g>\r\n    <g clip-path=\"url(#pead2e4aa23)\">\r\n     <use style=\"fill:#ff7f0e;\" x=\"291.0545\" xlink:href=\"#C1_0_5636171acb\" y=\"286.892813\"/>\r\n    </g>\r\n    <g clip-path=\"url(#pead2e4aa23)\">\r\n     <use style=\"fill:#ff7f0e;\" x=\"271.989152\" xlink:href=\"#C1_0_5636171acb\" y=\"274.731685\"/>\r\n    </g>\r\n    <g clip-path=\"url(#pead2e4aa23)\">\r\n     <use style=\"fill:#ff7f0e;\" x=\"288.391201\" xlink:href=\"#C1_0_5636171acb\" y=\"300.344046\"/>\r\n    </g>\r\n    <g clip-path=\"url(#pead2e4aa23)\">\r\n     <use style=\"fill:#ff7f0e;\" x=\"269.174601\" xlink:href=\"#C1_0_5636171acb\" y=\"287.26277\"/>\r\n    </g>\r\n    <g clip-path=\"url(#pead2e4aa23)\">\r\n     <use style=\"fill:#ff7f0e;\" x=\"273.05354\" xlink:href=\"#C1_0_5636171acb\" y=\"308.122615\"/>\r\n    </g>\r\n    <g clip-path=\"url(#pead2e4aa23)\">\r\n     <use style=\"fill:#ff7f0e;\" x=\"271.411416\" xlink:href=\"#C1_0_5636171acb\" y=\"280.423321\"/>\r\n    </g>\r\n    <g clip-path=\"url(#pead2e4aa23)\">\r\n     <use style=\"fill:#ff7f0e;\" x=\"278.638953\" xlink:href=\"#C1_0_5636171acb\" y=\"300.344046\"/>\r\n    </g>\r\n    <g clip-path=\"url(#pead2e4aa23)\">\r\n     <use style=\"fill:#ff7f0e;\" x=\"273.813306\" xlink:href=\"#C1_0_5636171acb\" y=\"286.589259\"/>\r\n    </g>\r\n    <g clip-path=\"url(#pead2e4aa23)\">\r\n     <use style=\"fill:#ff7f0e;\" x=\"282.490744\" xlink:href=\"#C1_0_5636171acb\" y=\"68.97905\"/>\r\n    </g>\r\n    <g clip-path=\"url(#pead2e4aa23)\">\r\n     <use style=\"fill:#ff7f0e;\" x=\"286.549178\" xlink:href=\"#C1_0_5636171acb\" y=\"272.967278\"/>\r\n    </g>\r\n    <g clip-path=\"url(#pead2e4aa23)\">\r\n     <use style=\"fill:#ff7f0e;\" x=\"282.416931\" xlink:href=\"#C1_0_5636171acb\" y=\"277.710308\"/>\r\n    </g>\r\n    <g clip-path=\"url(#pead2e4aa23)\">\r\n     <use style=\"fill:#ff7f0e;\" x=\"286.589988\" xlink:href=\"#C1_0_5636171acb\" y=\"245.704342\"/>\r\n    </g>\r\n    <g clip-path=\"url(#pead2e4aa23)\">\r\n     <use style=\"fill:#ff7f0e;\" x=\"268.303725\" xlink:href=\"#C1_0_5636171acb\" y=\"307.838033\"/>\r\n    </g>\r\n    <g clip-path=\"url(#pead2e4aa23)\">\r\n     <use style=\"fill:#ff7f0e;\" x=\"292.260262\" xlink:href=\"#C1_0_5636171acb\" y=\"272.843959\"/>\r\n    </g>\r\n    <g clip-path=\"url(#pead2e4aa23)\">\r\n     <use style=\"fill:#ff7f0e;\" x=\"291.592405\" xlink:href=\"#C1_0_5636171acb\" y=\"307.951866\"/>\r\n    </g>\r\n    <g clip-path=\"url(#pead2e4aa23)\">\r\n     <use style=\"fill:#ff7f0e;\" x=\"265.698426\" xlink:href=\"#C1_0_5636171acb\" y=\"240.591356\"/>\r\n    </g>\r\n    <g clip-path=\"url(#pead2e4aa23)\">\r\n     <use style=\"fill:#ff7f0e;\" x=\"289.650925\" xlink:href=\"#C1_0_5636171acb\" y=\"209.600399\"/>\r\n    </g>\r\n    <g clip-path=\"url(#pead2e4aa23)\">\r\n     <use style=\"fill:#ff7f0e;\" x=\"286.315253\" xlink:href=\"#C1_0_5636171acb\" y=\"314.089347\"/>\r\n    </g>\r\n    <g clip-path=\"url(#pead2e4aa23)\">\r\n     <use style=\"fill:#ff7f0e;\" x=\"291.335658\" xlink:href=\"#C1_0_5636171acb\" y=\"284.597187\"/>\r\n    </g>\r\n    <g clip-path=\"url(#pead2e4aa23)\">\r\n     <use style=\"fill:#ff7f0e;\" x=\"293.525211\" xlink:href=\"#C1_0_5636171acb\" y=\"289.169468\"/>\r\n    </g>\r\n    <g clip-path=\"url(#pead2e4aa23)\">\r\n     <use style=\"fill:#ff7f0e;\" x=\"265.719461\" xlink:href=\"#C1_0_5636171acb\" y=\"290.516488\"/>\r\n    </g>\r\n    <g clip-path=\"url(#pead2e4aa23)\">\r\n     <use style=\"fill:#ff7f0e;\" x=\"265.019801\" xlink:href=\"#C1_0_5636171acb\" y=\"310.105202\"/>\r\n    </g>\r\n    <g clip-path=\"url(#pead2e4aa23)\">\r\n     <use style=\"fill:#ff7f0e;\" x=\"269.67726\" xlink:href=\"#C1_0_5636171acb\" y=\"186.530302\"/>\r\n    </g>\r\n    <g clip-path=\"url(#pead2e4aa23)\">\r\n     <use style=\"fill:#ff7f0e;\" x=\"273.445249\" xlink:href=\"#C1_0_5636171acb\" y=\"273.232887\"/>\r\n    </g>\r\n    <g clip-path=\"url(#pead2e4aa23)\">\r\n     <use style=\"fill:#ff7f0e;\" x=\"265.80113\" xlink:href=\"#C1_0_5636171acb\" y=\"164.740823\"/>\r\n    </g>\r\n    <g clip-path=\"url(#pead2e4aa23)\">\r\n     <use style=\"fill:#ff7f0e;\" x=\"278.919808\" xlink:href=\"#C1_0_5636171acb\" y=\"275.500056\"/>\r\n    </g>\r\n    <g clip-path=\"url(#pead2e4aa23)\">\r\n     <use style=\"fill:#ff7f0e;\" x=\"280.159701\" xlink:href=\"#C1_0_5636171acb\" y=\"287.26277\"/>\r\n    </g>\r\n    <g clip-path=\"url(#pead2e4aa23)\">\r\n     <use style=\"fill:#ff7f0e;\" x=\"281.91697\" xlink:href=\"#C1_0_5636171acb\" y=\"126.739667\"/>\r\n    </g>\r\n    <g clip-path=\"url(#pead2e4aa23)\">\r\n     <use style=\"fill:#ff7f0e;\" x=\"276.123176\" xlink:href=\"#C1_0_5636171acb\" y=\"292.299867\"/>\r\n    </g>\r\n    <g clip-path=\"url(#pead2e4aa23)\">\r\n     <use style=\"fill:#ff7f0e;\" x=\"270.426\" xlink:href=\"#C1_0_5636171acb\" y=\"111.818095\"/>\r\n    </g>\r\n    <g clip-path=\"url(#pead2e4aa23)\">\r\n     <use style=\"fill:#ff7f0e;\" x=\"276.628589\" xlink:href=\"#C1_0_5636171acb\" y=\"287.063562\"/>\r\n    </g>\r\n    <g clip-path=\"url(#pead2e4aa23)\">\r\n     <use style=\"fill:#ff7f0e;\" x=\"281.138738\" xlink:href=\"#C1_0_5636171acb\" y=\"301.292652\"/>\r\n    </g>\r\n    <g clip-path=\"url(#pead2e4aa23)\">\r\n     <use style=\"fill:#ff7f0e;\" x=\"290.151049\" xlink:href=\"#C1_0_5636171acb\" y=\"259.60142\"/>\r\n    </g>\r\n    <g clip-path=\"url(#pead2e4aa23)\">\r\n     <use style=\"fill:#ff7f0e;\" x=\"290.899638\" xlink:href=\"#C1_0_5636171acb\" y=\"298.446834\"/>\r\n    </g>\r\n    <g clip-path=\"url(#pead2e4aa23)\">\r\n     <use style=\"fill:#ff7f0e;\" x=\"271.117813\" xlink:href=\"#C1_0_5636171acb\" y=\"276.83759\"/>\r\n    </g>\r\n    <g clip-path=\"url(#pead2e4aa23)\">\r\n     <use style=\"fill:#ff7f0e;\" x=\"284.278705\" xlink:href=\"#C1_0_5636171acb\" y=\"183.703456\"/>\r\n    </g>\r\n    <g clip-path=\"url(#pead2e4aa23)\">\r\n     <use style=\"fill:#ff7f0e;\" x=\"288.962362\" xlink:href=\"#C1_0_5636171acb\" y=\"288.979747\"/>\r\n    </g>\r\n    <g clip-path=\"url(#pead2e4aa23)\">\r\n     <use style=\"fill:#ff7f0e;\" x=\"268.76408\" xlink:href=\"#C1_0_5636171acb\" y=\"300.344046\"/>\r\n    </g>\r\n    <g clip-path=\"url(#pead2e4aa23)\">\r\n     <use style=\"fill:#ff7f0e;\" x=\"264.892248\" xlink:href=\"#C1_0_5636171acb\" y=\"158.413621\"/>\r\n    </g>\r\n    <g clip-path=\"url(#pead2e4aa23)\">\r\n     <use style=\"fill:#ff7f0e;\" x=\"269.94846\" xlink:href=\"#C1_0_5636171acb\" y=\"269.428977\"/>\r\n    </g>\r\n    <g clip-path=\"url(#pead2e4aa23)\">\r\n     <use style=\"fill:#ff7f0e;\" x=\"264.920041\" xlink:href=\"#C1_0_5636171acb\" y=\"304.13847\"/>\r\n    </g>\r\n    <g clip-path=\"url(#pead2e4aa23)\">\r\n     <use style=\"fill:#ff7f0e;\" x=\"290.847239\" xlink:href=\"#C1_0_5636171acb\" y=\"178.941454\"/>\r\n    </g>\r\n    <g clip-path=\"url(#pead2e4aa23)\">\r\n     <use style=\"fill:#ff7f0e;\" x=\"274.221129\" xlink:href=\"#C1_0_5636171acb\" y=\"224.664262\"/>\r\n    </g>\r\n    <g clip-path=\"url(#pead2e4aa23)\">\r\n     <use style=\"fill:#ff7f0e;\" x=\"288.666012\" xlink:href=\"#C1_0_5636171acb\" y=\"306.035682\"/>\r\n    </g>\r\n    <g clip-path=\"url(#pead2e4aa23)\">\r\n     <use style=\"fill:#ff7f0e;\" x=\"286.793688\" xlink:href=\"#C1_0_5636171acb\" y=\"280.423321\"/>\r\n    </g>\r\n    <g clip-path=\"url(#pead2e4aa23)\">\r\n     <use style=\"fill:#ff7f0e;\" x=\"281.232536\" xlink:href=\"#C1_0_5636171acb\" y=\"313.140741\"/>\r\n    </g>\r\n    <g clip-path=\"url(#pead2e4aa23)\">\r\n     <use style=\"fill:#ff7f0e;\" x=\"282.542715\" xlink:href=\"#C1_0_5636171acb\" y=\"252.534305\"/>\r\n    </g>\r\n    <g clip-path=\"url(#pead2e4aa23)\">\r\n     <use style=\"fill:#ff7f0e;\" x=\"279.42916\" xlink:href=\"#C1_0_5636171acb\" y=\"303.853888\"/>\r\n    </g>\r\n    <g clip-path=\"url(#pead2e4aa23)\">\r\n     <use style=\"fill:#ff7f0e;\" x=\"287.870772\" xlink:href=\"#C1_0_5636171acb\" y=\"88.842859\"/>\r\n    </g>\r\n    <g clip-path=\"url(#pead2e4aa23)\">\r\n     <use style=\"fill:#ff7f0e;\" x=\"282.01002\" xlink:href=\"#C1_0_5636171acb\" y=\"298.45632\"/>\r\n    </g>\r\n    <g clip-path=\"url(#pead2e4aa23)\">\r\n     <use style=\"fill:#ff7f0e;\" x=\"286.618187\" xlink:href=\"#C1_0_5636171acb\" y=\"307.932894\"/>\r\n    </g>\r\n    <g clip-path=\"url(#pead2e4aa23)\">\r\n     <use style=\"fill:#ff7f0e;\" x=\"285.844524\" xlink:href=\"#C1_0_5636171acb\" y=\"281.381413\"/>\r\n    </g>\r\n    <g clip-path=\"url(#pead2e4aa23)\">\r\n     <use style=\"fill:#ff7f0e;\" x=\"294.03005\" xlink:href=\"#C1_0_5636171acb\" y=\"258.03622\"/>\r\n    </g>\r\n    <g clip-path=\"url(#pead2e4aa23)\">\r\n     <use style=\"fill:#ff7f0e;\" x=\"283.566396\" xlink:href=\"#C1_0_5636171acb\" y=\"202.817866\"/>\r\n    </g>\r\n    <g clip-path=\"url(#pead2e4aa23)\">\r\n     <use style=\"fill:#ff7f0e;\" x=\"276.024958\" xlink:href=\"#C1_0_5636171acb\" y=\"291.835051\"/>\r\n    </g>\r\n    <g clip-path=\"url(#pead2e4aa23)\">\r\n     <use style=\"fill:#ff7f0e;\" x=\"289.805534\" xlink:href=\"#C1_0_5636171acb\" y=\"261.849616\"/>\r\n    </g>\r\n    <g clip-path=\"url(#pead2e4aa23)\">\r\n     <use style=\"fill:#ff7f0e;\" x=\"294.305614\" xlink:href=\"#C1_0_5636171acb\" y=\"300.344046\"/>\r\n    </g>\r\n    <g clip-path=\"url(#pead2e4aa23)\">\r\n     <use style=\"fill:#ff7f0e;\" x=\"283.454929\" xlink:href=\"#C1_0_5636171acb\" y=\"217.198733\"/>\r\n    </g>\r\n    <g clip-path=\"url(#pead2e4aa23)\">\r\n     <use style=\"fill:#ff7f0e;\" x=\"282.475584\" xlink:href=\"#C1_0_5636171acb\" y=\"269.030563\"/>\r\n    </g>\r\n    <g clip-path=\"url(#pead2e4aa23)\">\r\n     <use style=\"fill:#ff7f0e;\" x=\"267.509863\" xlink:href=\"#C1_0_5636171acb\" y=\"291.246915\"/>\r\n    </g>\r\n    <g clip-path=\"url(#pead2e4aa23)\">\r\n     <use style=\"fill:#ff7f0e;\" x=\"272.381436\" xlink:href=\"#C1_0_5636171acb\" y=\"298.446834\"/>\r\n    </g>\r\n    <g clip-path=\"url(#pead2e4aa23)\">\r\n     <use style=\"fill:#ff7f0e;\" x=\"281.693001\" xlink:href=\"#C1_0_5636171acb\" y=\"288.780539\"/>\r\n    </g>\r\n    <g clip-path=\"url(#pead2e4aa23)\">\r\n     <use style=\"fill:#ff7f0e;\" x=\"272.277028\" xlink:href=\"#C1_0_5636171acb\" y=\"289.159982\"/>\r\n    </g>\r\n    <g clip-path=\"url(#pead2e4aa23)\">\r\n     <use style=\"fill:#ff7f0e;\" x=\"283.741299\" xlink:href=\"#C1_0_5636171acb\" y=\"295.23106\"/>\r\n    </g>\r\n    <g clip-path=\"url(#pead2e4aa23)\">\r\n     <use style=\"fill:#ff7f0e;\" x=\"274.263258\" xlink:href=\"#C1_0_5636171acb\" y=\"285.365558\"/>\r\n    </g>\r\n    <g clip-path=\"url(#pead2e4aa23)\">\r\n     <use style=\"fill:#ff7f0e;\" x=\"294.402278\" xlink:href=\"#C1_0_5636171acb\" y=\"281.381413\"/>\r\n    </g>\r\n    <g clip-path=\"url(#pead2e4aa23)\">\r\n     <use style=\"fill:#ff7f0e;\" x=\"294.245799\" xlink:href=\"#C1_0_5636171acb\" y=\"145.854078\"/>\r\n    </g>\r\n    <g clip-path=\"url(#pead2e4aa23)\">\r\n     <use style=\"fill:#ff7f0e;\" x=\"266.035408\" xlink:href=\"#C1_0_5636171acb\" y=\"264.79978\"/>\r\n    </g>\r\n    <g clip-path=\"url(#pead2e4aa23)\">\r\n     <use style=\"fill:#ff7f0e;\" x=\"292.851174\" xlink:href=\"#C1_0_5636171acb\" y=\"303.853888\"/>\r\n    </g>\r\n    <g clip-path=\"url(#pead2e4aa23)\">\r\n     <use style=\"fill:#ff7f0e;\" x=\"270.637647\" xlink:href=\"#C1_0_5636171acb\" y=\"244.309891\"/>\r\n    </g>\r\n    <g clip-path=\"url(#pead2e4aa23)\">\r\n     <use style=\"fill:#ff7f0e;\" x=\"272.365758\" xlink:href=\"#C1_0_5636171acb\" y=\"257.846499\"/>\r\n    </g>\r\n    <g clip-path=\"url(#pead2e4aa23)\">\r\n     <use style=\"fill:#ff7f0e;\" x=\"288.679669\" xlink:href=\"#C1_0_5636171acb\" y=\"300.344046\"/>\r\n    </g>\r\n    <g clip-path=\"url(#pead2e4aa23)\">\r\n     <use style=\"fill:#ff7f0e;\" x=\"269.548987\" xlink:href=\"#C1_0_5636171acb\" y=\"298.446834\"/>\r\n    </g>\r\n    <g clip-path=\"url(#pead2e4aa23)\">\r\n     <use style=\"fill:#ff7f0e;\" x=\"265.975008\" xlink:href=\"#C1_0_5636171acb\" y=\"273.773593\"/>\r\n    </g>\r\n    <g clip-path=\"url(#pead2e4aa23)\">\r\n     <use style=\"fill:#ff7f0e;\" x=\"284.282617\" xlink:href=\"#C1_0_5636171acb\" y=\"298.446834\"/>\r\n    </g>\r\n    <g clip-path=\"url(#pead2e4aa23)\">\r\n     <use style=\"fill:#ff7f0e;\" x=\"267.630032\" xlink:href=\"#C1_0_5636171acb\" y=\"310.797684\"/>\r\n    </g>\r\n    <g clip-path=\"url(#pead2e4aa23)\">\r\n     <use style=\"fill:#ff7f0e;\" x=\"277.69618\" xlink:href=\"#C1_0_5636171acb\" y=\"298.257113\"/>\r\n    </g>\r\n    <g clip-path=\"url(#pead2e4aa23)\">\r\n     <use style=\"fill:#ff7f0e;\" x=\"272.23584\" xlink:href=\"#C1_0_5636171acb\" y=\"282.6146\"/>\r\n    </g>\r\n    <g clip-path=\"url(#pead2e4aa23)\">\r\n     <use style=\"fill:#ff7f0e;\" x=\"293.620166\" xlink:href=\"#C1_0_5636171acb\" y=\"309.849078\"/>\r\n    </g>\r\n    <g clip-path=\"url(#pead2e4aa23)\">\r\n     <use style=\"fill:#ff7f0e;\" x=\"284.670352\" xlink:href=\"#C1_0_5636171acb\" y=\"286.143415\"/>\r\n    </g>\r\n    <g clip-path=\"url(#pead2e4aa23)\">\r\n     <use style=\"fill:#ff7f0e;\" x=\"266.614985\" xlink:href=\"#C1_0_5636171acb\" y=\"282.330019\"/>\r\n    </g>\r\n    <g clip-path=\"url(#pead2e4aa23)\">\r\n     <use style=\"fill:#ff7f0e;\" x=\"270.667389\" xlink:href=\"#C1_0_5636171acb\" y=\"294.661896\"/>\r\n    </g>\r\n    <g clip-path=\"url(#pead2e4aa23)\">\r\n     <use style=\"fill:#ff7f0e;\" x=\"292.220556\" xlink:href=\"#C1_0_5636171acb\" y=\"301.302138\"/>\r\n    </g>\r\n    <g clip-path=\"url(#pead2e4aa23)\">\r\n     <use style=\"fill:#ff7f0e;\" x=\"292.879043\" xlink:href=\"#C1_0_5636171acb\" y=\"300.344046\"/>\r\n    </g>\r\n    <g clip-path=\"url(#pead2e4aa23)\">\r\n     <use style=\"fill:#ff7f0e;\" x=\"270.073004\" xlink:href=\"#C1_0_5636171acb\" y=\"302.715561\"/>\r\n    </g>\r\n    <g clip-path=\"url(#pead2e4aa23)\">\r\n     <use style=\"fill:#ff7f0e;\" x=\"283.199025\" xlink:href=\"#C1_0_5636171acb\" y=\"259.553989\"/>\r\n    </g>\r\n    <g clip-path=\"url(#pead2e4aa23)\">\r\n     <use style=\"fill:#ff7f0e;\" x=\"288.722864\" xlink:href=\"#C1_0_5636171acb\" y=\"293.001836\"/>\r\n    </g>\r\n    <g clip-path=\"url(#pead2e4aa23)\">\r\n     <use style=\"fill:#ff7f0e;\" x=\"268.262708\" xlink:href=\"#C1_0_5636171acb\" y=\"298.446834\"/>\r\n    </g>\r\n    <g clip-path=\"url(#pead2e4aa23)\">\r\n     <use style=\"fill:#ff7f0e;\" x=\"279.577314\" xlink:href=\"#C1_0_5636171acb\" y=\"295.601016\"/>\r\n    </g>\r\n    <g clip-path=\"url(#pead2e4aa23)\">\r\n     <use style=\"fill:#ff7f0e;\" x=\"276.455762\" xlink:href=\"#C1_0_5636171acb\" y=\"253.492397\"/>\r\n    </g>\r\n    <g clip-path=\"url(#pead2e4aa23)\">\r\n     <use style=\"fill:#ff7f0e;\" x=\"288.674497\" xlink:href=\"#C1_0_5636171acb\" y=\"286.143415\"/>\r\n    </g>\r\n    <g clip-path=\"url(#pead2e4aa23)\">\r\n     <use style=\"fill:#ff7f0e;\" x=\"283.31558\" xlink:href=\"#C1_0_5636171acb\" y=\"306.500499\"/>\r\n    </g>\r\n    <g clip-path=\"url(#pead2e4aa23)\">\r\n     <use style=\"fill:#ff7f0e;\" x=\"271.646798\" xlink:href=\"#C1_0_5636171acb\" y=\"306.035682\"/>\r\n    </g>\r\n    <g clip-path=\"url(#pead2e4aa23)\">\r\n     <use style=\"fill:#ff7f0e;\" x=\"293.668754\" xlink:href=\"#C1_0_5636171acb\" y=\"309.830106\"/>\r\n    </g>\r\n    <g clip-path=\"url(#pead2e4aa23)\">\r\n     <use style=\"fill:#ff7f0e;\" x=\"281.256644\" xlink:href=\"#C1_0_5636171acb\" y=\"304.147956\"/>\r\n    </g>\r\n    <g clip-path=\"url(#pead2e4aa23)\">\r\n     <use style=\"fill:#ff7f0e;\" x=\"278.773981\" xlink:href=\"#C1_0_5636171acb\" y=\"237.783482\"/>\r\n    </g>\r\n    <g clip-path=\"url(#pead2e4aa23)\">\r\n     <use style=\"fill:#ff7f0e;\" x=\"294.136612\" xlink:href=\"#C1_0_5636171acb\" y=\"303.569306\"/>\r\n    </g>\r\n    <g clip-path=\"url(#pead2e4aa23)\">\r\n     <use style=\"fill:#ff7f0e;\" x=\"286.525789\" xlink:href=\"#C1_0_5636171acb\" y=\"311.727318\"/>\r\n    </g>\r\n    <g clip-path=\"url(#pead2e4aa23)\">\r\n     <use style=\"fill:#ff7f0e;\" x=\"289.081829\" xlink:href=\"#C1_0_5636171acb\" y=\"289.90938\"/>\r\n    </g>\r\n    <g clip-path=\"url(#pead2e4aa23)\">\r\n     <use style=\"fill:#ff7f0e;\" x=\"290.156937\" xlink:href=\"#C1_0_5636171acb\" y=\"141.936335\"/>\r\n    </g>\r\n    <g clip-path=\"url(#pead2e4aa23)\">\r\n     <use style=\"fill:#ff7f0e;\" x=\"289.137845\" xlink:href=\"#C1_0_5636171acb\" y=\"300.533767\"/>\r\n    </g>\r\n    <g clip-path=\"url(#pead2e4aa23)\">\r\n     <use style=\"fill:#ff7f0e;\" x=\"273.579919\" xlink:href=\"#C1_0_5636171acb\" y=\"146.508616\"/>\r\n    </g>\r\n    <g clip-path=\"url(#pead2e4aa23)\">\r\n     <use style=\"fill:#ff7f0e;\" x=\"264.896627\" xlink:href=\"#C1_0_5636171acb\" y=\"306.37718\"/>\r\n    </g>\r\n    <g clip-path=\"url(#pead2e4aa23)\">\r\n     <use style=\"fill:#ff7f0e;\" x=\"277.394836\" xlink:href=\"#C1_0_5636171acb\" y=\"92.001717\"/>\r\n    </g>\r\n    <g clip-path=\"url(#pead2e4aa23)\">\r\n     <use style=\"fill:#ff7f0e;\" x=\"267.676446\" xlink:href=\"#C1_0_5636171acb\" y=\"237.76451\"/>\r\n    </g>\r\n    <g clip-path=\"url(#pead2e4aa23)\">\r\n     <use style=\"fill:#ff7f0e;\" x=\"274.250936\" xlink:href=\"#C1_0_5636171acb\" y=\"262.532612\"/>\r\n    </g>\r\n    <g clip-path=\"url(#pead2e4aa23)\">\r\n     <use style=\"fill:#ff7f0e;\" x=\"280.94883\" xlink:href=\"#C1_0_5636171acb\" y=\"302.819908\"/>\r\n    </g>\r\n    <g clip-path=\"url(#pead2e4aa23)\">\r\n     <use style=\"fill:#ff7f0e;\" x=\"288.55406\" xlink:href=\"#C1_0_5636171acb\" y=\"300.932182\"/>\r\n    </g>\r\n    <g clip-path=\"url(#pead2e4aa23)\">\r\n     <use style=\"fill:#ff7f0e;\" x=\"277.006806\" xlink:href=\"#C1_0_5636171acb\" y=\"301.292652\"/>\r\n    </g>\r\n    <g clip-path=\"url(#pead2e4aa23)\">\r\n     <use style=\"fill:#ff7f0e;\" x=\"292.960427\" xlink:href=\"#C1_0_5636171acb\" y=\"305.836475\"/>\r\n    </g>\r\n    <g clip-path=\"url(#pead2e4aa23)\">\r\n     <use style=\"fill:#ff7f0e;\" x=\"288.00343\" xlink:href=\"#C1_0_5636171acb\" y=\"162.568515\"/>\r\n    </g>\r\n    <g clip-path=\"url(#pead2e4aa23)\">\r\n     <use style=\"fill:#ff7f0e;\" x=\"274.073171\" xlink:href=\"#C1_0_5636171acb\" y=\"265.131792\"/>\r\n    </g>\r\n    <g clip-path=\"url(#pead2e4aa23)\">\r\n     <use style=\"fill:#ff7f0e;\" x=\"288.634764\" xlink:href=\"#C1_0_5636171acb\" y=\"286.589259\"/>\r\n    </g>\r\n    <g clip-path=\"url(#pead2e4aa23)\">\r\n     <use style=\"fill:#ff7f0e;\" x=\"273.280922\" xlink:href=\"#C1_0_5636171acb\" y=\"145.512579\"/>\r\n    </g>\r\n    <g clip-path=\"url(#pead2e4aa23)\">\r\n     <use style=\"fill:#ff7f0e;\" x=\"284.327613\" xlink:href=\"#C1_0_5636171acb\" y=\"299.784369\"/>\r\n    </g>\r\n    <g clip-path=\"url(#pead2e4aa23)\">\r\n     <use style=\"fill:#ff7f0e;\" x=\"267.758041\" xlink:href=\"#C1_0_5636171acb\" y=\"293.703804\"/>\r\n    </g>\r\n    <g clip-path=\"url(#pead2e4aa23)\">\r\n     <use style=\"fill:#ff7f0e;\" x=\"285.815728\" xlink:href=\"#C1_0_5636171acb\" y=\"287.3102\"/>\r\n    </g>\r\n    <g clip-path=\"url(#pead2e4aa23)\">\r\n     <use style=\"fill:#ff7f0e;\" x=\"291.788441\" xlink:href=\"#C1_0_5636171acb\" y=\"287.642212\"/>\r\n    </g>\r\n    <g clip-path=\"url(#pead2e4aa23)\">\r\n     <use style=\"fill:#ff7f0e;\" x=\"271.603\" xlink:href=\"#C1_0_5636171acb\" y=\"245.353358\"/>\r\n    </g>\r\n    <g clip-path=\"url(#pead2e4aa23)\">\r\n     <use style=\"fill:#ff7f0e;\" x=\"293.140871\" xlink:href=\"#C1_0_5636171acb\" y=\"297.507714\"/>\r\n    </g>\r\n    <g clip-path=\"url(#pead2e4aa23)\">\r\n     <use style=\"fill:#ff7f0e;\" x=\"289.391192\" xlink:href=\"#C1_0_5636171acb\" y=\"230.15669\"/>\r\n    </g>\r\n    <g clip-path=\"url(#pead2e4aa23)\">\r\n     <use style=\"fill:#ff7f0e;\" x=\"286.550498\" xlink:href=\"#C1_0_5636171acb\" y=\"263.348413\"/>\r\n    </g>\r\n    <g clip-path=\"url(#pead2e4aa23)\">\r\n     <use style=\"fill:#ff7f0e;\" x=\"277.994336\" xlink:href=\"#C1_0_5636171acb\" y=\"176.03872\"/>\r\n    </g>\r\n    <g clip-path=\"url(#pead2e4aa23)\">\r\n     <use style=\"fill:#ff7f0e;\" x=\"265.828944\" xlink:href=\"#C1_0_5636171acb\" y=\"305.570865\"/>\r\n    </g>\r\n    <g clip-path=\"url(#pead2e4aa23)\">\r\n     <use style=\"fill:#ff7f0e;\" x=\"274.532012\" xlink:href=\"#C1_0_5636171acb\" y=\"306.159001\"/>\r\n    </g>\r\n    <g clip-path=\"url(#pead2e4aa23)\">\r\n     <use style=\"fill:#ff7f0e;\" x=\"266.030941\" xlink:href=\"#C1_0_5636171acb\" y=\"292.745712\"/>\r\n    </g>\r\n    <g clip-path=\"url(#pead2e4aa23)\">\r\n     <use style=\"fill:#ff7f0e;\" x=\"279.10562\" xlink:href=\"#C1_0_5636171acb\" y=\"182.223631\"/>\r\n    </g>\r\n    <g clip-path=\"url(#pead2e4aa23)\">\r\n     <use style=\"fill:#ff7f0e;\" x=\"281.057301\" xlink:href=\"#C1_0_5636171acb\" y=\"309.830106\"/>\r\n    </g>\r\n    <g clip-path=\"url(#pead2e4aa23)\">\r\n     <use style=\"fill:#ff7f0e;\" x=\"278.887784\" xlink:href=\"#C1_0_5636171acb\" y=\"269.049535\"/>\r\n    </g>\r\n    <g clip-path=\"url(#pead2e4aa23)\">\r\n     <use style=\"fill:#ff7f0e;\" x=\"284.313449\" xlink:href=\"#C1_0_5636171acb\" y=\"111.846554\"/>\r\n    </g>\r\n    <g clip-path=\"url(#pead2e4aa23)\">\r\n     <use style=\"fill:#ff7f0e;\" x=\"294.180401\" xlink:href=\"#C1_0_5636171acb\" y=\"284.673075\"/>\r\n    </g>\r\n    <g clip-path=\"url(#pead2e4aa23)\">\r\n     <use style=\"fill:#ff7f0e;\" x=\"275.661695\" xlink:href=\"#C1_0_5636171acb\" y=\"300.344046\"/>\r\n    </g>\r\n    <g clip-path=\"url(#pead2e4aa23)\">\r\n     <use style=\"fill:#ff7f0e;\" x=\"289.370302\" xlink:href=\"#C1_0_5636171acb\" y=\"157.42707\"/>\r\n    </g>\r\n    <g clip-path=\"url(#pead2e4aa23)\">\r\n     <use style=\"fill:#ff7f0e;\" x=\"270.812726\" xlink:href=\"#C1_0_5636171acb\" y=\"277.77671\"/>\r\n    </g>\r\n    <g clip-path=\"url(#pead2e4aa23)\">\r\n     <use style=\"fill:#ff7f0e;\" x=\"284.73153\" xlink:href=\"#C1_0_5636171acb\" y=\"294.91802\"/>\r\n    </g>\r\n    <g clip-path=\"url(#pead2e4aa23)\">\r\n     <use style=\"fill:#ff7f0e;\" x=\"295.135684\" xlink:href=\"#C1_0_5636171acb\" y=\"223.17495\"/>\r\n    </g>\r\n    <g clip-path=\"url(#pead2e4aa23)\">\r\n     <use style=\"fill:#ff7f0e;\" x=\"271.993561\" xlink:href=\"#C1_0_5636171acb\" y=\"270.927775\"/>\r\n    </g>\r\n    <g clip-path=\"url(#pead2e4aa23)\">\r\n     <use style=\"fill:#ff7f0e;\" x=\"294.938692\" xlink:href=\"#C1_0_5636171acb\" y=\"223.165464\"/>\r\n    </g>\r\n    <g clip-path=\"url(#pead2e4aa23)\">\r\n     <use style=\"fill:#ff7f0e;\" x=\"285.471407\" xlink:href=\"#C1_0_5636171acb\" y=\"281.779827\"/>\r\n    </g>\r\n    <g clip-path=\"url(#pead2e4aa23)\">\r\n     <use style=\"fill:#ff7f0e;\" x=\"273.64725\" xlink:href=\"#C1_0_5636171acb\" y=\"195.864584\"/>\r\n    </g>\r\n    <g clip-path=\"url(#pead2e4aa23)\">\r\n     <use style=\"fill:#ff7f0e;\" x=\"295.26683\" xlink:href=\"#C1_0_5636171acb\" y=\"303.569306\"/>\r\n    </g>\r\n    <g clip-path=\"url(#pead2e4aa23)\">\r\n     <use style=\"fill:#ff7f0e;\" x=\"281.669385\" xlink:href=\"#C1_0_5636171acb\" y=\"259.02277\"/>\r\n    </g>\r\n    <g clip-path=\"url(#pead2e4aa23)\">\r\n     <use style=\"fill:#ff7f0e;\" x=\"289.405262\" xlink:href=\"#C1_0_5636171acb\" y=\"151.517255\"/>\r\n    </g>\r\n    <g clip-path=\"url(#pead2e4aa23)\">\r\n     <use style=\"fill:#ff7f0e;\" x=\"266.061055\" xlink:href=\"#C1_0_5636171acb\" y=\"244.38578\"/>\r\n    </g>\r\n    <g clip-path=\"url(#pead2e4aa23)\">\r\n     <use style=\"fill:#ff7f0e;\" x=\"271.062701\" xlink:href=\"#C1_0_5636171acb\" y=\"289.918866\"/>\r\n    </g>\r\n    <g clip-path=\"url(#pead2e4aa23)\">\r\n     <use style=\"fill:#ff7f0e;\" x=\"295.822986\" xlink:href=\"#C1_0_5636171acb\" y=\"145.768703\"/>\r\n    </g>\r\n    <g clip-path=\"url(#pead2e4aa23)\">\r\n     <use style=\"fill:#ff7f0e;\" x=\"267.33298\" xlink:href=\"#C1_0_5636171acb\" y=\"240.58187\"/>\r\n    </g>\r\n    <g clip-path=\"url(#pead2e4aa23)\">\r\n     <use style=\"fill:#ff7f0e;\" x=\"290.565312\" xlink:href=\"#C1_0_5636171acb\" y=\"278.08975\"/>\r\n    </g>\r\n    <g clip-path=\"url(#pead2e4aa23)\">\r\n     <use style=\"fill:#ff7f0e;\" x=\"290.97618\" xlink:href=\"#C1_0_5636171acb\" y=\"240.154997\"/>\r\n    </g>\r\n    <g clip-path=\"url(#pead2e4aa23)\">\r\n     <use style=\"fill:#ff7f0e;\" x=\"288.672958\" xlink:href=\"#C1_0_5636171acb\" y=\"300.344046\"/>\r\n    </g>\r\n    <g clip-path=\"url(#pead2e4aa23)\">\r\n     <use style=\"fill:#ff7f0e;\" x=\"289.070626\" xlink:href=\"#C1_0_5636171acb\" y=\"298.257113\"/>\r\n    </g>\r\n    <g clip-path=\"url(#pead2e4aa23)\">\r\n     <use style=\"fill:#ff7f0e;\" x=\"270.590826\" xlink:href=\"#C1_0_5636171acb\" y=\"278.526109\"/>\r\n    </g>\r\n    <g clip-path=\"url(#pead2e4aa23)\">\r\n     <use style=\"fill:#ff7f0e;\" x=\"267.748273\" xlink:href=\"#C1_0_5636171acb\" y=\"297.498228\"/>\r\n    </g>\r\n    <g clip-path=\"url(#pead2e4aa23)\">\r\n     <use style=\"fill:#ff7f0e;\" x=\"275.808225\" xlink:href=\"#C1_0_5636171acb\" y=\"292.755198\"/>\r\n    </g>\r\n    <g clip-path=\"url(#pead2e4aa23)\">\r\n     <use style=\"fill:#ff7f0e;\" x=\"291.146108\" xlink:href=\"#C1_0_5636171acb\" y=\"306.035682\"/>\r\n    </g>\r\n    <g clip-path=\"url(#pead2e4aa23)\">\r\n     <use style=\"fill:#ff7f0e;\" x=\"284.620274\" xlink:href=\"#C1_0_5636171acb\" y=\"263.376871\"/>\r\n    </g>\r\n    <g clip-path=\"url(#pead2e4aa23)\">\r\n     <use style=\"fill:#ff7f0e;\" x=\"264.781397\" xlink:href=\"#C1_0_5636171acb\" y=\"278.526109\"/>\r\n    </g>\r\n    <g clip-path=\"url(#pead2e4aa23)\">\r\n     <use style=\"fill:#ff7f0e;\" x=\"265.858936\" xlink:href=\"#C1_0_5636171acb\" y=\"288.998719\"/>\r\n    </g>\r\n    <g clip-path=\"url(#pead2e4aa23)\">\r\n     <use style=\"fill:#ff7f0e;\" x=\"282.69166\" xlink:href=\"#C1_0_5636171acb\" y=\"259.553989\"/>\r\n    </g>\r\n    <g clip-path=\"url(#pead2e4aa23)\">\r\n     <use style=\"fill:#ff7f0e;\" x=\"283.058989\" xlink:href=\"#C1_0_5636171acb\" y=\"313.62453\"/>\r\n    </g>\r\n    <g clip-path=\"url(#pead2e4aa23)\">\r\n     <use style=\"fill:#ff7f0e;\" x=\"266.77969\" xlink:href=\"#C1_0_5636171acb\" y=\"296.559108\"/>\r\n    </g>\r\n    <g clip-path=\"url(#pead2e4aa23)\">\r\n     <use style=\"fill:#ff7f0e;\" x=\"288.908759\" xlink:href=\"#C1_0_5636171acb\" y=\"298.45632\"/>\r\n    </g>\r\n    <g clip-path=\"url(#pead2e4aa23)\">\r\n     <use style=\"fill:#ff7f0e;\" x=\"270.401232\" xlink:href=\"#C1_0_5636171acb\" y=\"252.724026\"/>\r\n    </g>\r\n    <g clip-path=\"url(#pead2e4aa23)\">\r\n     <use style=\"fill:#ff7f0e;\" x=\"295.335509\" xlink:href=\"#C1_0_5636171acb\" y=\"284.227231\"/>\r\n    </g>\r\n    <g clip-path=\"url(#pead2e4aa23)\">\r\n     <use style=\"fill:#ff7f0e;\" x=\"282.43435\" xlink:href=\"#C1_0_5636171acb\" y=\"217.549717\"/>\r\n    </g>\r\n    <g clip-path=\"url(#pead2e4aa23)\">\r\n     <use style=\"fill:#ff7f0e;\" x=\"277.019612\" xlink:href=\"#C1_0_5636171acb\" y=\"102.132828\"/>\r\n    </g>\r\n    <g clip-path=\"url(#pead2e4aa23)\">\r\n     <use style=\"fill:#ff7f0e;\" x=\"294.705977\" xlink:href=\"#C1_0_5636171acb\" y=\"283.088903\"/>\r\n    </g>\r\n    <g clip-path=\"url(#pead2e4aa23)\">\r\n     <use style=\"fill:#ff7f0e;\" x=\"282.846206\" xlink:href=\"#C1_0_5636171acb\" y=\"284.597187\"/>\r\n    </g>\r\n    <g clip-path=\"url(#pead2e4aa23)\">\r\n     <use style=\"fill:#ff7f0e;\" x=\"295.027857\" xlink:href=\"#C1_0_5636171acb\" y=\"249.916153\"/>\r\n    </g>\r\n    <g clip-path=\"url(#pead2e4aa23)\">\r\n     <use style=\"fill:#ff7f0e;\" x=\"293.121598\" xlink:href=\"#C1_0_5636171acb\" y=\"151.488797\"/>\r\n    </g>\r\n    <g clip-path=\"url(#pead2e4aa23)\">\r\n     <use style=\"fill:#ff7f0e;\" x=\"285.260066\" xlink:href=\"#C1_0_5636171acb\" y=\"267.142837\"/>\r\n    </g>\r\n    <g clip-path=\"url(#pead2e4aa23)\">\r\n     <use style=\"fill:#ff7f0e;\" x=\"295.671396\" xlink:href=\"#C1_0_5636171acb\" y=\"278.535595\"/>\r\n    </g>\r\n    <g clip-path=\"url(#pead2e4aa23)\">\r\n     <use style=\"fill:#ff7f0e;\" x=\"287.068042\" xlink:href=\"#C1_0_5636171acb\" y=\"135.0874\"/>\r\n    </g>\r\n    <g clip-path=\"url(#pead2e4aa23)\">\r\n     <use style=\"fill:#ff7f0e;\" x=\"278.499034\" xlink:href=\"#C1_0_5636171acb\" y=\"300.344046\"/>\r\n    </g>\r\n   </g>\r\n  </g>\r\n </g>\r\n <defs>\r\n  <clipPath id=\"pead2e4aa23\">\r\n   <rect height=\"310.4\" width=\"315.4\" x=\"43.78125\" y=\"17.798437\"/>\r\n  </clipPath>\r\n </defs>\r\n</svg>\r\n",
      "image/png": "[encoded data removed]"
     },
     "metadata": {
      "needs_background": "light"
     }
    }
   ],
   "source": [
    "# +++ query the data to get specific types of data, (eg. \"country==\"United States\"\"\") +++\n",
    "sns.catplot(x=\"newVisits\", y=\"transactionRevenue\", data=totals.query(\"transactionRevenue  < 300000000\"))"
   ]
  },
  {
   "cell_type": "code",
   "execution_count": 94,
   "metadata": {},
   "outputs": [
    {
     "output_type": "execute_result",
     "data": {
      "text/plain": [
       "<seaborn.axisgrid.FacetGrid at 0x202bbf45550>"
      ]
     },
     "metadata": {},
     "execution_count": 94
    },
    {
     "output_type": "display_data",
     "data": {
      "text/plain": "<Figure size 360x360 with 1 Axes>",
      "image/svg+xml": "<?xml version=\"1.0\" encoding=\"utf-8\" standalone=\"no\"?>\r\n<!DOCTYPE svg PUBLIC \"-//W3C//DTD SVG 1.1//EN\"\r\n  \"http://www.w3.org/Graphics/SVG/1.1/DTD/svg11.dtd\">\r\n<!-- Created with matplotlib (https://matplotlib.org/) -->\r\n<svg height=\"365.754687pt\" version=\"1.1\" viewBox=\"0 0 366.38125 365.754687\" width=\"366.38125pt\" xmlns=\"http://www.w3.org/2000/svg\" xmlns:xlink=\"http://www.w3.org/1999/xlink\">\r\n <metadata>\r\n  <rdf:RDF xmlns:cc=\"http://creativecommons.org/ns#\" xmlns:dc=\"http://purl.org/dc/elements/1.1/\" xmlns:rdf=\"http://www.w3.org/1999/02/22-rdf-syntax-ns#\">\r\n   <cc:Work>\r\n    <dc:type rdf:resource=\"http://purl.org/dc/dcmitype/StillImage\"/>\r\n    <dc:date>2021-04-12T11:11:46.687180</dc:date>\r\n    <dc:format>image/svg+xml</dc:format>\r\n    <dc:creator>\r\n     <cc:Agent>\r\n      <dc:title>Matplotlib v3.3.2, https://matplotlib.org/</dc:title>\r\n     </cc:Agent>\r\n    </dc:creator>\r\n   </cc:Work>\r\n  </rdf:RDF>\r\n </metadata>\r\n <defs>\r\n  <style type=\"text/css\">*{stroke-linecap:butt;stroke-linejoin:round;}</style>\r\n </defs>\r\n <g id=\"figure_1\">\r\n  <g id=\"patch_1\">\r\n   <path d=\"M 0 365.754687 \r\nL 366.38125 365.754687 \r\nL 366.38125 -0 \r\nL 0 -0 \r\nz\r\n\" style=\"fill:none;\"/>\r\n  </g>\r\n  <g id=\"axes_1\">\r\n   <g id=\"patch_2\">\r\n    <path d=\"M 43.78125 328.198437 \r\nL 359.18125 328.198437 \r\nL 359.18125 17.798437 \r\nL 43.78125 17.798437 \r\nz\r\n\" style=\"fill:#ffffff;\"/>\r\n   </g>\r\n   <g id=\"patch_3\">\r\n    <path clip-path=\"url(#p05239f39a8)\" d=\"M 59.55125 291.891967 \r\nL 185.71125 291.891967 \r\nL 185.71125 229.21757 \r\nL 59.55125 229.21757 \r\nL 59.55125 291.891967 \r\nz\r\n\" style=\"fill:#3274a1;stroke:#3f3f3f;stroke-linejoin:miter;stroke-width:1.5;\"/>\r\n   </g>\r\n   <g id=\"patch_4\">\r\n    <path clip-path=\"url(#p05239f39a8)\" d=\"M 217.25125 300.344046 \r\nL 343.41125 300.344046 \r\nL 343.41125 250.603892 \r\nL 217.25125 250.603892 \r\nL 217.25125 300.344046 \r\nz\r\n\" style=\"fill:#e1812c;stroke:#3f3f3f;stroke-linejoin:miter;stroke-width:1.5;\"/>\r\n   </g>\r\n   <g id=\"matplotlib.axis_1\">\r\n    <g id=\"xtick_1\">\r\n     <g id=\"line2d_1\">\r\n      <defs>\r\n       <path d=\"M 0 0 \r\nL 0 3.5 \r\n\" id=\"m2e154193d4\" style=\"stroke:#000000;stroke-width:0.8;\"/>\r\n      </defs>\r\n      <g>\r\n       <use style=\"stroke:#000000;stroke-width:0.8;\" x=\"122.63125\" xlink:href=\"#m2e154193d4\" y=\"328.198437\"/>\r\n      </g>\r\n     </g>\r\n     <g id=\"text_1\">\r\n      <!-- 0 -->\r\n      <g transform=\"translate(119.45 342.796875)scale(0.1 -0.1)\">\r\n       <defs>\r\n        <path d=\"M 31.78125 66.40625 \r\nQ 24.171875 66.40625 20.328125 58.90625 \r\nQ 16.5 51.421875 16.5 36.375 \r\nQ 16.5 21.390625 20.328125 13.890625 \r\nQ 24.171875 6.390625 31.78125 6.390625 \r\nQ 39.453125 6.390625 43.28125 13.890625 \r\nQ 47.125 21.390625 47.125 36.375 \r\nQ 47.125 51.421875 43.28125 58.90625 \r\nQ 39.453125 66.40625 31.78125 66.40625 \r\nz\r\nM 31.78125 74.21875 \r\nQ 44.046875 74.21875 50.515625 64.515625 \r\nQ 56.984375 54.828125 56.984375 36.375 \r\nQ 56.984375 17.96875 50.515625 8.265625 \r\nQ 44.046875 -1.421875 31.78125 -1.421875 \r\nQ 19.53125 -1.421875 13.0625 8.265625 \r\nQ 6.59375 17.96875 6.59375 36.375 \r\nQ 6.59375 54.828125 13.0625 64.515625 \r\nQ 19.53125 74.21875 31.78125 74.21875 \r\nz\r\n\" id=\"DejaVuSans-48\"/>\r\n       </defs>\r\n       <use xlink:href=\"#DejaVuSans-48\"/>\r\n      </g>\r\n     </g>\r\n    </g>\r\n    <g id=\"xtick_2\">\r\n     <g id=\"line2d_2\">\r\n      <g>\r\n       <use style=\"stroke:#000000;stroke-width:0.8;\" x=\"280.33125\" xlink:href=\"#m2e154193d4\" y=\"328.198437\"/>\r\n      </g>\r\n     </g>\r\n     <g id=\"text_2\">\r\n      <!-- 1 -->\r\n      <g transform=\"translate(277.15 342.796875)scale(0.1 -0.1)\">\r\n       <defs>\r\n        <path d=\"M 12.40625 8.296875 \r\nL 28.515625 8.296875 \r\nL 28.515625 63.921875 \r\nL 10.984375 60.40625 \r\nL 10.984375 69.390625 \r\nL 28.421875 72.90625 \r\nL 38.28125 72.90625 \r\nL 38.28125 8.296875 \r\nL 54.390625 8.296875 \r\nL 54.390625 0 \r\nL 12.40625 0 \r\nz\r\n\" id=\"DejaVuSans-49\"/>\r\n       </defs>\r\n       <use xlink:href=\"#DejaVuSans-49\"/>\r\n      </g>\r\n     </g>\r\n    </g>\r\n    <g id=\"text_3\">\r\n     <!-- newVisits -->\r\n     <g transform=\"translate(177.891406 356.475)scale(0.1 -0.1)\">\r\n      <defs>\r\n       <path d=\"M 54.890625 33.015625 \r\nL 54.890625 0 \r\nL 45.90625 0 \r\nL 45.90625 32.71875 \r\nQ 45.90625 40.484375 42.875 44.328125 \r\nQ 39.84375 48.1875 33.796875 48.1875 \r\nQ 26.515625 48.1875 22.3125 43.546875 \r\nQ 18.109375 38.921875 18.109375 30.90625 \r\nL 18.109375 0 \r\nL 9.078125 0 \r\nL 9.078125 54.6875 \r\nL 18.109375 54.6875 \r\nL 18.109375 46.1875 \r\nQ 21.34375 51.125 25.703125 53.5625 \r\nQ 30.078125 56 35.796875 56 \r\nQ 45.21875 56 50.046875 50.171875 \r\nQ 54.890625 44.34375 54.890625 33.015625 \r\nz\r\n\" id=\"DejaVuSans-110\"/>\r\n       <path d=\"M 56.203125 29.59375 \r\nL 56.203125 25.203125 \r\nL 14.890625 25.203125 \r\nQ 15.484375 15.921875 20.484375 11.0625 \r\nQ 25.484375 6.203125 34.421875 6.203125 \r\nQ 39.59375 6.203125 44.453125 7.46875 \r\nQ 49.3125 8.734375 54.109375 11.28125 \r\nL 54.109375 2.78125 \r\nQ 49.265625 0.734375 44.1875 -0.34375 \r\nQ 39.109375 -1.421875 33.890625 -1.421875 \r\nQ 20.796875 -1.421875 13.15625 6.1875 \r\nQ 5.515625 13.8125 5.515625 26.8125 \r\nQ 5.515625 40.234375 12.765625 48.109375 \r\nQ 20.015625 56 32.328125 56 \r\nQ 43.359375 56 49.78125 48.890625 \r\nQ 56.203125 41.796875 56.203125 29.59375 \r\nz\r\nM 47.21875 32.234375 \r\nQ 47.125 39.59375 43.09375 43.984375 \r\nQ 39.0625 48.390625 32.421875 48.390625 \r\nQ 24.90625 48.390625 20.390625 44.140625 \r\nQ 15.875 39.890625 15.1875 32.171875 \r\nz\r\n\" id=\"DejaVuSans-101\"/>\r\n       <path d=\"M 4.203125 54.6875 \r\nL 13.1875 54.6875 \r\nL 24.421875 12.015625 \r\nL 35.59375 54.6875 \r\nL 46.1875 54.6875 \r\nL 57.421875 12.015625 \r\nL 68.609375 54.6875 \r\nL 77.59375 54.6875 \r\nL 63.28125 0 \r\nL 52.6875 0 \r\nL 40.921875 44.828125 \r\nL 29.109375 0 \r\nL 18.5 0 \r\nz\r\n\" id=\"DejaVuSans-119\"/>\r\n       <path d=\"M 28.609375 0 \r\nL 0.78125 72.90625 \r\nL 11.078125 72.90625 \r\nL 34.1875 11.53125 \r\nL 57.328125 72.90625 \r\nL 67.578125 72.90625 \r\nL 39.796875 0 \r\nz\r\n\" id=\"DejaVuSans-86\"/>\r\n       <path d=\"M 9.421875 54.6875 \r\nL 18.40625 54.6875 \r\nL 18.40625 0 \r\nL 9.421875 0 \r\nz\r\nM 9.421875 75.984375 \r\nL 18.40625 75.984375 \r\nL 18.40625 64.59375 \r\nL 9.421875 64.59375 \r\nz\r\n\" id=\"DejaVuSans-105\"/>\r\n       <path d=\"M 44.28125 53.078125 \r\nL 44.28125 44.578125 \r\nQ 40.484375 46.53125 36.375 47.5 \r\nQ 32.28125 48.484375 27.875 48.484375 \r\nQ 21.1875 48.484375 17.84375 46.4375 \r\nQ 14.5 44.390625 14.5 40.28125 \r\nQ 14.5 37.15625 16.890625 35.375 \r\nQ 19.28125 33.59375 26.515625 31.984375 \r\nL 29.59375 31.296875 \r\nQ 39.15625 29.25 43.1875 25.515625 \r\nQ 47.21875 21.78125 47.21875 15.09375 \r\nQ 47.21875 7.46875 41.1875 3.015625 \r\nQ 35.15625 -1.421875 24.609375 -1.421875 \r\nQ 20.21875 -1.421875 15.453125 -0.5625 \r\nQ 10.6875 0.296875 5.421875 2 \r\nL 5.421875 11.28125 \r\nQ 10.40625 8.6875 15.234375 7.390625 \r\nQ 20.0625 6.109375 24.8125 6.109375 \r\nQ 31.15625 6.109375 34.5625 8.28125 \r\nQ 37.984375 10.453125 37.984375 14.40625 \r\nQ 37.984375 18.0625 35.515625 20.015625 \r\nQ 33.0625 21.96875 24.703125 23.78125 \r\nL 21.578125 24.515625 \r\nQ 13.234375 26.265625 9.515625 29.90625 \r\nQ 5.8125 33.546875 5.8125 39.890625 \r\nQ 5.8125 47.609375 11.28125 51.796875 \r\nQ 16.75 56 26.8125 56 \r\nQ 31.78125 56 36.171875 55.265625 \r\nQ 40.578125 54.546875 44.28125 53.078125 \r\nz\r\n\" id=\"DejaVuSans-115\"/>\r\n       <path d=\"M 18.3125 70.21875 \r\nL 18.3125 54.6875 \r\nL 36.8125 54.6875 \r\nL 36.8125 47.703125 \r\nL 18.3125 47.703125 \r\nL 18.3125 18.015625 \r\nQ 18.3125 11.328125 20.140625 9.421875 \r\nQ 21.96875 7.515625 27.59375 7.515625 \r\nL 36.8125 7.515625 \r\nL 36.8125 0 \r\nL 27.59375 0 \r\nQ 17.1875 0 13.234375 3.875 \r\nQ 9.28125 7.765625 9.28125 18.015625 \r\nL 9.28125 47.703125 \r\nL 2.6875 47.703125 \r\nL 2.6875 54.6875 \r\nL 9.28125 54.6875 \r\nL 9.28125 70.21875 \r\nz\r\n\" id=\"DejaVuSans-116\"/>\r\n      </defs>\r\n      <use xlink:href=\"#DejaVuSans-110\"/>\r\n      <use x=\"63.378906\" xlink:href=\"#DejaVuSans-101\"/>\r\n      <use x=\"124.902344\" xlink:href=\"#DejaVuSans-119\"/>\r\n      <use x=\"206.689453\" xlink:href=\"#DejaVuSans-86\"/>\r\n      <use x=\"272.847656\" xlink:href=\"#DejaVuSans-105\"/>\r\n      <use x=\"300.630859\" xlink:href=\"#DejaVuSans-115\"/>\r\n      <use x=\"352.730469\" xlink:href=\"#DejaVuSans-105\"/>\r\n      <use x=\"380.513672\" xlink:href=\"#DejaVuSans-116\"/>\r\n      <use x=\"419.722656\" xlink:href=\"#DejaVuSans-115\"/>\r\n     </g>\r\n    </g>\r\n   </g>\r\n   <g id=\"matplotlib.axis_2\">\r\n    <g id=\"ytick_1\">\r\n     <g id=\"line2d_3\">\r\n      <defs>\r\n       <path d=\"M 0 0 \r\nL -3.5 0 \r\n\" id=\"mbeb13a3d21\" style=\"stroke:#000000;stroke-width:0.8;\"/>\r\n      </defs>\r\n      <g>\r\n       <use style=\"stroke:#000000;stroke-width:0.8;\" x=\"43.78125\" xlink:href=\"#mbeb13a3d21\" y=\"316.460862\"/>\r\n      </g>\r\n     </g>\r\n     <g id=\"text_4\">\r\n      <!-- 0.0 -->\r\n      <g transform=\"translate(20.878125 320.26008)scale(0.1 -0.1)\">\r\n       <defs>\r\n        <path d=\"M 10.6875 12.40625 \r\nL 21 12.40625 \r\nL 21 0 \r\nL 10.6875 0 \r\nz\r\n\" id=\"DejaVuSans-46\"/>\r\n       </defs>\r\n       <use xlink:href=\"#DejaVuSans-48\"/>\r\n       <use x=\"63.623047\" xlink:href=\"#DejaVuSans-46\"/>\r\n       <use x=\"95.410156\" xlink:href=\"#DejaVuSans-48\"/>\r\n      </g>\r\n     </g>\r\n    </g>\r\n    <g id=\"ytick_2\">\r\n     <g id=\"line2d_4\">\r\n      <g>\r\n       <use style=\"stroke:#000000;stroke-width:0.8;\" x=\"43.78125\" xlink:href=\"#mbeb13a3d21\" y=\"269.030563\"/>\r\n      </g>\r\n     </g>\r\n     <g id=\"text_5\">\r\n      <!-- 0.5 -->\r\n      <g transform=\"translate(20.878125 272.829782)scale(0.1 -0.1)\">\r\n       <defs>\r\n        <path d=\"M 10.796875 72.90625 \r\nL 49.515625 72.90625 \r\nL 49.515625 64.59375 \r\nL 19.828125 64.59375 \r\nL 19.828125 46.734375 \r\nQ 21.96875 47.46875 24.109375 47.828125 \r\nQ 26.265625 48.1875 28.421875 48.1875 \r\nQ 40.625 48.1875 47.75 41.5 \r\nQ 54.890625 34.8125 54.890625 23.390625 \r\nQ 54.890625 11.625 47.5625 5.09375 \r\nQ 40.234375 -1.421875 26.90625 -1.421875 \r\nQ 22.3125 -1.421875 17.546875 -0.640625 \r\nQ 12.796875 0.140625 7.71875 1.703125 \r\nL 7.71875 11.625 \r\nQ 12.109375 9.234375 16.796875 8.0625 \r\nQ 21.484375 6.890625 26.703125 6.890625 \r\nQ 35.15625 6.890625 40.078125 11.328125 \r\nQ 45.015625 15.765625 45.015625 23.390625 \r\nQ 45.015625 31 40.078125 35.4375 \r\nQ 35.15625 39.890625 26.703125 39.890625 \r\nQ 22.75 39.890625 18.8125 39.015625 \r\nQ 14.890625 38.140625 10.796875 36.28125 \r\nz\r\n\" id=\"DejaVuSans-53\"/>\r\n       </defs>\r\n       <use xlink:href=\"#DejaVuSans-48\"/>\r\n       <use x=\"63.623047\" xlink:href=\"#DejaVuSans-46\"/>\r\n       <use x=\"95.410156\" xlink:href=\"#DejaVuSans-53\"/>\r\n      </g>\r\n     </g>\r\n    </g>\r\n    <g id=\"ytick_3\">\r\n     <g id=\"line2d_5\">\r\n      <g>\r\n       <use style=\"stroke:#000000;stroke-width:0.8;\" x=\"43.78125\" xlink:href=\"#mbeb13a3d21\" y=\"221.600264\"/>\r\n      </g>\r\n     </g>\r\n     <g id=\"text_6\">\r\n      <!-- 1.0 -->\r\n      <g transform=\"translate(20.878125 225.399483)scale(0.1 -0.1)\">\r\n       <use xlink:href=\"#DejaVuSans-49\"/>\r\n       <use x=\"63.623047\" xlink:href=\"#DejaVuSans-46\"/>\r\n       <use x=\"95.410156\" xlink:href=\"#DejaVuSans-48\"/>\r\n      </g>\r\n     </g>\r\n    </g>\r\n    <g id=\"ytick_4\">\r\n     <g id=\"line2d_6\">\r\n      <g>\r\n       <use style=\"stroke:#000000;stroke-width:0.8;\" x=\"43.78125\" xlink:href=\"#mbeb13a3d21\" y=\"174.169966\"/>\r\n      </g>\r\n     </g>\r\n     <g id=\"text_7\">\r\n      <!-- 1.5 -->\r\n      <g transform=\"translate(20.878125 177.969185)scale(0.1 -0.1)\">\r\n       <use xlink:href=\"#DejaVuSans-49\"/>\r\n       <use x=\"63.623047\" xlink:href=\"#DejaVuSans-46\"/>\r\n       <use x=\"95.410156\" xlink:href=\"#DejaVuSans-53\"/>\r\n      </g>\r\n     </g>\r\n    </g>\r\n    <g id=\"ytick_5\">\r\n     <g id=\"line2d_7\">\r\n      <g>\r\n       <use style=\"stroke:#000000;stroke-width:0.8;\" x=\"43.78125\" xlink:href=\"#mbeb13a3d21\" y=\"126.739667\"/>\r\n      </g>\r\n     </g>\r\n     <g id=\"text_8\">\r\n      <!-- 2.0 -->\r\n      <g transform=\"translate(20.878125 130.538886)scale(0.1 -0.1)\">\r\n       <defs>\r\n        <path d=\"M 19.1875 8.296875 \r\nL 53.609375 8.296875 \r\nL 53.609375 0 \r\nL 7.328125 0 \r\nL 7.328125 8.296875 \r\nQ 12.9375 14.109375 22.625 23.890625 \r\nQ 32.328125 33.6875 34.8125 36.53125 \r\nQ 39.546875 41.84375 41.421875 45.53125 \r\nQ 43.3125 49.21875 43.3125 52.78125 \r\nQ 43.3125 58.59375 39.234375 62.25 \r\nQ 35.15625 65.921875 28.609375 65.921875 \r\nQ 23.96875 65.921875 18.8125 64.3125 \r\nQ 13.671875 62.703125 7.8125 59.421875 \r\nL 7.8125 69.390625 \r\nQ 13.765625 71.78125 18.9375 73 \r\nQ 24.125 74.21875 28.421875 74.21875 \r\nQ 39.75 74.21875 46.484375 68.546875 \r\nQ 53.21875 62.890625 53.21875 53.421875 \r\nQ 53.21875 48.921875 51.53125 44.890625 \r\nQ 49.859375 40.875 45.40625 35.40625 \r\nQ 44.1875 33.984375 37.640625 27.21875 \r\nQ 31.109375 20.453125 19.1875 8.296875 \r\nz\r\n\" id=\"DejaVuSans-50\"/>\r\n       </defs>\r\n       <use xlink:href=\"#DejaVuSans-50\"/>\r\n       <use x=\"63.623047\" xlink:href=\"#DejaVuSans-46\"/>\r\n       <use x=\"95.410156\" xlink:href=\"#DejaVuSans-48\"/>\r\n      </g>\r\n     </g>\r\n    </g>\r\n    <g id=\"ytick_6\">\r\n     <g id=\"line2d_8\">\r\n      <g>\r\n       <use style=\"stroke:#000000;stroke-width:0.8;\" x=\"43.78125\" xlink:href=\"#mbeb13a3d21\" y=\"79.309369\"/>\r\n      </g>\r\n     </g>\r\n     <g id=\"text_9\">\r\n      <!-- 2.5 -->\r\n      <g transform=\"translate(20.878125 83.108588)scale(0.1 -0.1)\">\r\n       <use xlink:href=\"#DejaVuSans-50\"/>\r\n       <use x=\"63.623047\" xlink:href=\"#DejaVuSans-46\"/>\r\n       <use x=\"95.410156\" xlink:href=\"#DejaVuSans-53\"/>\r\n      </g>\r\n     </g>\r\n    </g>\r\n    <g id=\"ytick_7\">\r\n     <g id=\"line2d_9\">\r\n      <g>\r\n       <use style=\"stroke:#000000;stroke-width:0.8;\" x=\"43.78125\" xlink:href=\"#mbeb13a3d21\" y=\"31.87907\"/>\r\n      </g>\r\n     </g>\r\n     <g id=\"text_10\">\r\n      <!-- 3.0 -->\r\n      <g transform=\"translate(20.878125 35.678289)scale(0.1 -0.1)\">\r\n       <defs>\r\n        <path d=\"M 40.578125 39.3125 \r\nQ 47.65625 37.796875 51.625 33 \r\nQ 55.609375 28.21875 55.609375 21.1875 \r\nQ 55.609375 10.40625 48.1875 4.484375 \r\nQ 40.765625 -1.421875 27.09375 -1.421875 \r\nQ 22.515625 -1.421875 17.65625 -0.515625 \r\nQ 12.796875 0.390625 7.625 2.203125 \r\nL 7.625 11.71875 \r\nQ 11.71875 9.328125 16.59375 8.109375 \r\nQ 21.484375 6.890625 26.8125 6.890625 \r\nQ 36.078125 6.890625 40.9375 10.546875 \r\nQ 45.796875 14.203125 45.796875 21.1875 \r\nQ 45.796875 27.640625 41.28125 31.265625 \r\nQ 36.765625 34.90625 28.71875 34.90625 \r\nL 20.21875 34.90625 \r\nL 20.21875 43.015625 \r\nL 29.109375 43.015625 \r\nQ 36.375 43.015625 40.234375 45.921875 \r\nQ 44.09375 48.828125 44.09375 54.296875 \r\nQ 44.09375 59.90625 40.109375 62.90625 \r\nQ 36.140625 65.921875 28.71875 65.921875 \r\nQ 24.65625 65.921875 20.015625 65.03125 \r\nQ 15.375 64.15625 9.8125 62.3125 \r\nL 9.8125 71.09375 \r\nQ 15.4375 72.65625 20.34375 73.4375 \r\nQ 25.25 74.21875 29.59375 74.21875 \r\nQ 40.828125 74.21875 47.359375 69.109375 \r\nQ 53.90625 64.015625 53.90625 55.328125 \r\nQ 53.90625 49.265625 50.4375 45.09375 \r\nQ 46.96875 40.921875 40.578125 39.3125 \r\nz\r\n\" id=\"DejaVuSans-51\"/>\r\n       </defs>\r\n       <use xlink:href=\"#DejaVuSans-51\"/>\r\n       <use x=\"63.623047\" xlink:href=\"#DejaVuSans-46\"/>\r\n       <use x=\"95.410156\" xlink:href=\"#DejaVuSans-48\"/>\r\n      </g>\r\n     </g>\r\n    </g>\r\n    <g id=\"text_11\">\r\n     <!-- transactionRevenue -->\r\n     <g transform=\"translate(14.798438 223.017969)rotate(-90)scale(0.1 -0.1)\">\r\n      <defs>\r\n       <path d=\"M 41.109375 46.296875 \r\nQ 39.59375 47.171875 37.8125 47.578125 \r\nQ 36.03125 48 33.890625 48 \r\nQ 26.265625 48 22.1875 43.046875 \r\nQ 18.109375 38.09375 18.109375 28.8125 \r\nL 18.109375 0 \r\nL 9.078125 0 \r\nL 9.078125 54.6875 \r\nL 18.109375 54.6875 \r\nL 18.109375 46.1875 \r\nQ 20.953125 51.171875 25.484375 53.578125 \r\nQ 30.03125 56 36.53125 56 \r\nQ 37.453125 56 38.578125 55.875 \r\nQ 39.703125 55.765625 41.0625 55.515625 \r\nz\r\n\" id=\"DejaVuSans-114\"/>\r\n       <path d=\"M 34.28125 27.484375 \r\nQ 23.390625 27.484375 19.1875 25 \r\nQ 14.984375 22.515625 14.984375 16.5 \r\nQ 14.984375 11.71875 18.140625 8.90625 \r\nQ 21.296875 6.109375 26.703125 6.109375 \r\nQ 34.1875 6.109375 38.703125 11.40625 \r\nQ 43.21875 16.703125 43.21875 25.484375 \r\nL 43.21875 27.484375 \r\nz\r\nM 52.203125 31.203125 \r\nL 52.203125 0 \r\nL 43.21875 0 \r\nL 43.21875 8.296875 \r\nQ 40.140625 3.328125 35.546875 0.953125 \r\nQ 30.953125 -1.421875 24.3125 -1.421875 \r\nQ 15.921875 -1.421875 10.953125 3.296875 \r\nQ 6 8.015625 6 15.921875 \r\nQ 6 25.140625 12.171875 29.828125 \r\nQ 18.359375 34.515625 30.609375 34.515625 \r\nL 43.21875 34.515625 \r\nL 43.21875 35.40625 \r\nQ 43.21875 41.609375 39.140625 45 \r\nQ 35.0625 48.390625 27.6875 48.390625 \r\nQ 23 48.390625 18.546875 47.265625 \r\nQ 14.109375 46.140625 10.015625 43.890625 \r\nL 10.015625 52.203125 \r\nQ 14.9375 54.109375 19.578125 55.046875 \r\nQ 24.21875 56 28.609375 56 \r\nQ 40.484375 56 46.34375 49.84375 \r\nQ 52.203125 43.703125 52.203125 31.203125 \r\nz\r\n\" id=\"DejaVuSans-97\"/>\r\n       <path d=\"M 48.78125 52.59375 \r\nL 48.78125 44.1875 \r\nQ 44.96875 46.296875 41.140625 47.34375 \r\nQ 37.3125 48.390625 33.40625 48.390625 \r\nQ 24.65625 48.390625 19.8125 42.84375 \r\nQ 14.984375 37.3125 14.984375 27.296875 \r\nQ 14.984375 17.28125 19.8125 11.734375 \r\nQ 24.65625 6.203125 33.40625 6.203125 \r\nQ 37.3125 6.203125 41.140625 7.25 \r\nQ 44.96875 8.296875 48.78125 10.40625 \r\nL 48.78125 2.09375 \r\nQ 45.015625 0.34375 40.984375 -0.53125 \r\nQ 36.96875 -1.421875 32.421875 -1.421875 \r\nQ 20.0625 -1.421875 12.78125 6.34375 \r\nQ 5.515625 14.109375 5.515625 27.296875 \r\nQ 5.515625 40.671875 12.859375 48.328125 \r\nQ 20.21875 56 33.015625 56 \r\nQ 37.15625 56 41.109375 55.140625 \r\nQ 45.0625 54.296875 48.78125 52.59375 \r\nz\r\n\" id=\"DejaVuSans-99\"/>\r\n       <path d=\"M 30.609375 48.390625 \r\nQ 23.390625 48.390625 19.1875 42.75 \r\nQ 14.984375 37.109375 14.984375 27.296875 \r\nQ 14.984375 17.484375 19.15625 11.84375 \r\nQ 23.34375 6.203125 30.609375 6.203125 \r\nQ 37.796875 6.203125 41.984375 11.859375 \r\nQ 46.1875 17.53125 46.1875 27.296875 \r\nQ 46.1875 37.015625 41.984375 42.703125 \r\nQ 37.796875 48.390625 30.609375 48.390625 \r\nz\r\nM 30.609375 56 \r\nQ 42.328125 56 49.015625 48.375 \r\nQ 55.71875 40.765625 55.71875 27.296875 \r\nQ 55.71875 13.875 49.015625 6.21875 \r\nQ 42.328125 -1.421875 30.609375 -1.421875 \r\nQ 18.84375 -1.421875 12.171875 6.21875 \r\nQ 5.515625 13.875 5.515625 27.296875 \r\nQ 5.515625 40.765625 12.171875 48.375 \r\nQ 18.84375 56 30.609375 56 \r\nz\r\n\" id=\"DejaVuSans-111\"/>\r\n       <path d=\"M 44.390625 34.1875 \r\nQ 47.5625 33.109375 50.5625 29.59375 \r\nQ 53.5625 26.078125 56.59375 19.921875 \r\nL 66.609375 0 \r\nL 56 0 \r\nL 46.6875 18.703125 \r\nQ 43.0625 26.03125 39.671875 28.421875 \r\nQ 36.28125 30.8125 30.421875 30.8125 \r\nL 19.671875 30.8125 \r\nL 19.671875 0 \r\nL 9.8125 0 \r\nL 9.8125 72.90625 \r\nL 32.078125 72.90625 \r\nQ 44.578125 72.90625 50.734375 67.671875 \r\nQ 56.890625 62.453125 56.890625 51.90625 \r\nQ 56.890625 45.015625 53.6875 40.46875 \r\nQ 50.484375 35.9375 44.390625 34.1875 \r\nz\r\nM 19.671875 64.796875 \r\nL 19.671875 38.921875 \r\nL 32.078125 38.921875 \r\nQ 39.203125 38.921875 42.84375 42.21875 \r\nQ 46.484375 45.515625 46.484375 51.90625 \r\nQ 46.484375 58.296875 42.84375 61.546875 \r\nQ 39.203125 64.796875 32.078125 64.796875 \r\nz\r\n\" id=\"DejaVuSans-82\"/>\r\n       <path d=\"M 2.984375 54.6875 \r\nL 12.5 54.6875 \r\nL 29.59375 8.796875 \r\nL 46.6875 54.6875 \r\nL 56.203125 54.6875 \r\nL 35.6875 0 \r\nL 23.484375 0 \r\nz\r\n\" id=\"DejaVuSans-118\"/>\r\n       <path d=\"M 8.5 21.578125 \r\nL 8.5 54.6875 \r\nL 17.484375 54.6875 \r\nL 17.484375 21.921875 \r\nQ 17.484375 14.15625 20.5 10.265625 \r\nQ 23.53125 6.390625 29.59375 6.390625 \r\nQ 36.859375 6.390625 41.078125 11.03125 \r\nQ 45.3125 15.671875 45.3125 23.6875 \r\nL 45.3125 54.6875 \r\nL 54.296875 54.6875 \r\nL 54.296875 0 \r\nL 45.3125 0 \r\nL 45.3125 8.40625 \r\nQ 42.046875 3.421875 37.71875 1 \r\nQ 33.40625 -1.421875 27.6875 -1.421875 \r\nQ 18.265625 -1.421875 13.375 4.4375 \r\nQ 8.5 10.296875 8.5 21.578125 \r\nz\r\nM 31.109375 56 \r\nz\r\n\" id=\"DejaVuSans-117\"/>\r\n      </defs>\r\n      <use xlink:href=\"#DejaVuSans-116\"/>\r\n      <use x=\"39.208984\" xlink:href=\"#DejaVuSans-114\"/>\r\n      <use x=\"80.322266\" xlink:href=\"#DejaVuSans-97\"/>\r\n      <use x=\"141.601562\" xlink:href=\"#DejaVuSans-110\"/>\r\n      <use x=\"204.980469\" xlink:href=\"#DejaVuSans-115\"/>\r\n      <use x=\"257.080078\" xlink:href=\"#DejaVuSans-97\"/>\r\n      <use x=\"318.359375\" xlink:href=\"#DejaVuSans-99\"/>\r\n      <use x=\"373.339844\" xlink:href=\"#DejaVuSans-116\"/>\r\n      <use x=\"412.548828\" xlink:href=\"#DejaVuSans-105\"/>\r\n      <use x=\"440.332031\" xlink:href=\"#DejaVuSans-111\"/>\r\n      <use x=\"501.513672\" xlink:href=\"#DejaVuSans-110\"/>\r\n      <use x=\"564.892578\" xlink:href=\"#DejaVuSans-82\"/>\r\n      <use x=\"629.875\" xlink:href=\"#DejaVuSans-101\"/>\r\n      <use x=\"691.398438\" xlink:href=\"#DejaVuSans-118\"/>\r\n      <use x=\"750.578125\" xlink:href=\"#DejaVuSans-101\"/>\r\n      <use x=\"812.101562\" xlink:href=\"#DejaVuSans-110\"/>\r\n      <use x=\"875.480469\" xlink:href=\"#DejaVuSans-117\"/>\r\n      <use x=\"938.859375\" xlink:href=\"#DejaVuSans-101\"/>\r\n     </g>\r\n    </g>\r\n    <g id=\"text_12\">\r\n     <!-- 1e8 -->\r\n     <g transform=\"translate(43.78125 14.798437)scale(0.1 -0.1)\">\r\n      <defs>\r\n       <path d=\"M 31.78125 34.625 \r\nQ 24.75 34.625 20.71875 30.859375 \r\nQ 16.703125 27.09375 16.703125 20.515625 \r\nQ 16.703125 13.921875 20.71875 10.15625 \r\nQ 24.75 6.390625 31.78125 6.390625 \r\nQ 38.8125 6.390625 42.859375 10.171875 \r\nQ 46.921875 13.96875 46.921875 20.515625 \r\nQ 46.921875 27.09375 42.890625 30.859375 \r\nQ 38.875 34.625 31.78125 34.625 \r\nz\r\nM 21.921875 38.8125 \r\nQ 15.578125 40.375 12.03125 44.71875 \r\nQ 8.5 49.078125 8.5 55.328125 \r\nQ 8.5 64.0625 14.71875 69.140625 \r\nQ 20.953125 74.21875 31.78125 74.21875 \r\nQ 42.671875 74.21875 48.875 69.140625 \r\nQ 55.078125 64.0625 55.078125 55.328125 \r\nQ 55.078125 49.078125 51.53125 44.71875 \r\nQ 48 40.375 41.703125 38.8125 \r\nQ 48.828125 37.15625 52.796875 32.3125 \r\nQ 56.78125 27.484375 56.78125 20.515625 \r\nQ 56.78125 9.90625 50.3125 4.234375 \r\nQ 43.84375 -1.421875 31.78125 -1.421875 \r\nQ 19.734375 -1.421875 13.25 4.234375 \r\nQ 6.78125 9.90625 6.78125 20.515625 \r\nQ 6.78125 27.484375 10.78125 32.3125 \r\nQ 14.796875 37.15625 21.921875 38.8125 \r\nz\r\nM 18.3125 54.390625 \r\nQ 18.3125 48.734375 21.84375 45.5625 \r\nQ 25.390625 42.390625 31.78125 42.390625 \r\nQ 38.140625 42.390625 41.71875 45.5625 \r\nQ 45.3125 48.734375 45.3125 54.390625 \r\nQ 45.3125 60.0625 41.71875 63.234375 \r\nQ 38.140625 66.40625 31.78125 66.40625 \r\nQ 25.390625 66.40625 21.84375 63.234375 \r\nQ 18.3125 60.0625 18.3125 54.390625 \r\nz\r\n\" id=\"DejaVuSans-56\"/>\r\n      </defs>\r\n      <use xlink:href=\"#DejaVuSans-49\"/>\r\n      <use x=\"63.623047\" xlink:href=\"#DejaVuSans-101\"/>\r\n      <use x=\"125.146484\" xlink:href=\"#DejaVuSans-56\"/>\r\n     </g>\r\n    </g>\r\n   </g>\r\n   <g id=\"line2d_10\">\r\n    <path clip-path=\"url(#p05239f39a8)\" d=\"M 122.63125 291.891967 \r\nL 122.63125 313.747848 \r\n\" style=\"fill:none;stroke:#3f3f3f;stroke-linecap:square;stroke-width:1.5;\"/>\r\n   </g>\r\n   <g id=\"line2d_11\">\r\n    <path clip-path=\"url(#p05239f39a8)\" d=\"M 122.63125 229.21757 \r\nL 122.63125 138.227286 \r\n\" style=\"fill:none;stroke:#3f3f3f;stroke-linecap:square;stroke-width:1.5;\"/>\r\n   </g>\r\n   <g id=\"line2d_12\">\r\n    <path clip-path=\"url(#p05239f39a8)\" d=\"M 91.09125 313.747848 \r\nL 154.17125 313.747848 \r\n\" style=\"fill:none;stroke:#3f3f3f;stroke-linecap:square;stroke-width:1.5;\"/>\r\n   </g>\r\n   <g id=\"line2d_13\">\r\n    <path clip-path=\"url(#p05239f39a8)\" d=\"M 91.09125 138.227286 \r\nL 154.17125 138.227286 \r\n\" style=\"fill:none;stroke:#3f3f3f;stroke-linecap:square;stroke-width:1.5;\"/>\r\n   </g>\r\n   <g id=\"line2d_14\">\r\n    <defs>\r\n     <path d=\"M 0 3.535534 \r\nL 2.12132 0 \r\nL 0 -3.535534 \r\nL -2.12132 0 \r\nz\r\n\" id=\"m3bb7cdedea\" style=\"stroke:#3f3f3f;stroke-linejoin:miter;\"/>\r\n    </defs>\r\n    <g clip-path=\"url(#p05239f39a8)\">\r\n     <use style=\"fill:#3f3f3f;stroke:#3f3f3f;stroke-linejoin:miter;\" x=\"122.63125\" xlink:href=\"#m3bb7cdedea\" y=\"32.163652\"/>\r\n     <use style=\"fill:#3f3f3f;stroke:#3f3f3f;stroke-linejoin:miter;\" x=\"122.63125\" xlink:href=\"#m3bb7cdedea\" y=\"108.175448\"/>\r\n     <use style=\"fill:#3f3f3f;stroke:#3f3f3f;stroke-linejoin:miter;\" x=\"122.63125\" xlink:href=\"#m3bb7cdedea\" y=\"81.491163\"/>\r\n     <use style=\"fill:#3f3f3f;stroke:#3f3f3f;stroke-linejoin:miter;\" x=\"122.63125\" xlink:href=\"#m3bb7cdedea\" y=\"125.838492\"/>\r\n     <use style=\"fill:#3f3f3f;stroke:#3f3f3f;stroke-linejoin:miter;\" x=\"122.63125\" xlink:href=\"#m3bb7cdedea\" y=\"110.765143\"/>\r\n     <use style=\"fill:#3f3f3f;stroke:#3f3f3f;stroke-linejoin:miter;\" x=\"122.63125\" xlink:href=\"#m3bb7cdedea\" y=\"135.115858\"/>\r\n     <use style=\"fill:#3f3f3f;stroke:#3f3f3f;stroke-linejoin:miter;\" x=\"122.63125\" xlink:href=\"#m3bb7cdedea\" y=\"101.715442\"/>\r\n     <use style=\"fill:#3f3f3f;stroke:#3f3f3f;stroke-linejoin:miter;\" x=\"122.63125\" xlink:href=\"#m3bb7cdedea\" y=\"129.272445\"/>\r\n     <use style=\"fill:#3f3f3f;stroke:#3f3f3f;stroke-linejoin:miter;\" x=\"122.63125\" xlink:href=\"#m3bb7cdedea\" y=\"53.602147\"/>\r\n     <use style=\"fill:#3f3f3f;stroke:#3f3f3f;stroke-linejoin:miter;\" x=\"122.63125\" xlink:href=\"#m3bb7cdedea\" y=\"42.247333\"/>\r\n     <use style=\"fill:#3f3f3f;stroke:#3f3f3f;stroke-linejoin:miter;\" x=\"122.63125\" xlink:href=\"#m3bb7cdedea\" y=\"76.975798\"/>\r\n     <use style=\"fill:#3f3f3f;stroke:#3f3f3f;stroke-linejoin:miter;\" x=\"122.63125\" xlink:href=\"#m3bb7cdedea\" y=\"31.907528\"/>\r\n     <use style=\"fill:#3f3f3f;stroke:#3f3f3f;stroke-linejoin:miter;\" x=\"122.63125\" xlink:href=\"#m3bb7cdedea\" y=\"107.777034\"/>\r\n     <use style=\"fill:#3f3f3f;stroke:#3f3f3f;stroke-linejoin:miter;\" x=\"122.63125\" xlink:href=\"#m3bb7cdedea\" y=\"97.304424\"/>\r\n     <use style=\"fill:#3f3f3f;stroke:#3f3f3f;stroke-linejoin:miter;\" x=\"122.63125\" xlink:href=\"#m3bb7cdedea\" y=\"47.502611\"/>\r\n     <use style=\"fill:#3f3f3f;stroke:#3f3f3f;stroke-linejoin:miter;\" x=\"122.63125\" xlink:href=\"#m3bb7cdedea\" y=\"104.902758\"/>\r\n     <use style=\"fill:#3f3f3f;stroke:#3f3f3f;stroke-linejoin:miter;\" x=\"122.63125\" xlink:href=\"#m3bb7cdedea\" y=\"125.250356\"/>\r\n     <use style=\"fill:#3f3f3f;stroke:#3f3f3f;stroke-linejoin:miter;\" x=\"122.63125\" xlink:href=\"#m3bb7cdedea\" y=\"50.85119\"/>\r\n     <use style=\"fill:#3f3f3f;stroke:#3f3f3f;stroke-linejoin:miter;\" x=\"122.63125\" xlink:href=\"#m3bb7cdedea\" y=\"109.655274\"/>\r\n     <use style=\"fill:#3f3f3f;stroke:#3f3f3f;stroke-linejoin:miter;\" x=\"122.63125\" xlink:href=\"#m3bb7cdedea\" y=\"128.750712\"/>\r\n     <use style=\"fill:#3f3f3f;stroke:#3f3f3f;stroke-linejoin:miter;\" x=\"122.63125\" xlink:href=\"#m3bb7cdedea\" y=\"122.793466\"/>\r\n     <use style=\"fill:#3f3f3f;stroke:#3f3f3f;stroke-linejoin:miter;\" x=\"122.63125\" xlink:href=\"#m3bb7cdedea\" y=\"121.104948\"/>\r\n     <use style=\"fill:#3f3f3f;stroke:#3f3f3f;stroke-linejoin:miter;\" x=\"122.63125\" xlink:href=\"#m3bb7cdedea\" y=\"111.846554\"/>\r\n     <use style=\"fill:#3f3f3f;stroke:#3f3f3f;stroke-linejoin:miter;\" x=\"122.63125\" xlink:href=\"#m3bb7cdedea\" y=\"112.150107\"/>\r\n     <use style=\"fill:#3f3f3f;stroke:#3f3f3f;stroke-linejoin:miter;\" x=\"122.63125\" xlink:href=\"#m3bb7cdedea\" y=\"126.834528\"/>\r\n     <use style=\"fill:#3f3f3f;stroke:#3f3f3f;stroke-linejoin:miter;\" x=\"122.63125\" xlink:href=\"#m3bb7cdedea\" y=\"130.315912\"/>\r\n     <use style=\"fill:#3f3f3f;stroke:#3f3f3f;stroke-linejoin:miter;\" x=\"122.63125\" xlink:href=\"#m3bb7cdedea\" y=\"120.13737\"/>\r\n     <use style=\"fill:#3f3f3f;stroke:#3f3f3f;stroke-linejoin:miter;\" x=\"122.63125\" xlink:href=\"#m3bb7cdedea\" y=\"95.777168\"/>\r\n     <use style=\"fill:#3f3f3f;stroke:#3f3f3f;stroke-linejoin:miter;\" x=\"122.63125\" xlink:href=\"#m3bb7cdedea\" y=\"73.181374\"/>\r\n    </g>\r\n   </g>\r\n   <g id=\"line2d_15\">\r\n    <path clip-path=\"url(#p05239f39a8)\" d=\"M 280.33125 300.344046 \r\nL 280.33125 314.089347 \r\n\" style=\"fill:none;stroke:#3f3f3f;stroke-linecap:square;stroke-width:1.5;\"/>\r\n   </g>\r\n   <g id=\"line2d_16\">\r\n    <path clip-path=\"url(#p05239f39a8)\" d=\"M 280.33125 250.603892 \r\nL 280.33125 176.03872 \r\n\" style=\"fill:none;stroke:#3f3f3f;stroke-linecap:square;stroke-width:1.5;\"/>\r\n   </g>\r\n   <g id=\"line2d_17\">\r\n    <path clip-path=\"url(#p05239f39a8)\" d=\"M 248.79125 314.089347 \r\nL 311.87125 314.089347 \r\n\" style=\"fill:none;stroke:#3f3f3f;stroke-linecap:square;stroke-width:1.5;\"/>\r\n   </g>\r\n   <g id=\"line2d_18\">\r\n    <path clip-path=\"url(#p05239f39a8)\" d=\"M 248.79125 176.03872 \r\nL 311.87125 176.03872 \r\n\" style=\"fill:none;stroke:#3f3f3f;stroke-linecap:square;stroke-width:1.5;\"/>\r\n   </g>\r\n   <g id=\"line2d_19\">\r\n    <g clip-path=\"url(#p05239f39a8)\">\r\n     <use style=\"fill:#3f3f3f;stroke:#3f3f3f;stroke-linejoin:miter;\" x=\"280.33125\" xlink:href=\"#m3bb7cdedea\" y=\"131.084283\"/>\r\n     <use style=\"fill:#3f3f3f;stroke:#3f3f3f;stroke-linejoin:miter;\" x=\"280.33125\" xlink:href=\"#m3bb7cdedea\" y=\"89.269731\"/>\r\n     <use style=\"fill:#3f3f3f;stroke:#3f3f3f;stroke-linejoin:miter;\" x=\"280.33125\" xlink:href=\"#m3bb7cdedea\" y=\"143.909435\"/>\r\n     <use style=\"fill:#3f3f3f;stroke:#3f3f3f;stroke-linejoin:miter;\" x=\"280.33125\" xlink:href=\"#m3bb7cdedea\" y=\"124.339694\"/>\r\n     <use style=\"fill:#3f3f3f;stroke:#3f3f3f;stroke-linejoin:miter;\" x=\"280.33125\" xlink:href=\"#m3bb7cdedea\" y=\"68.97905\"/>\r\n     <use style=\"fill:#3f3f3f;stroke:#3f3f3f;stroke-linejoin:miter;\" x=\"280.33125\" xlink:href=\"#m3bb7cdedea\" y=\"164.740823\"/>\r\n     <use style=\"fill:#3f3f3f;stroke:#3f3f3f;stroke-linejoin:miter;\" x=\"280.33125\" xlink:href=\"#m3bb7cdedea\" y=\"126.739667\"/>\r\n     <use style=\"fill:#3f3f3f;stroke:#3f3f3f;stroke-linejoin:miter;\" x=\"280.33125\" xlink:href=\"#m3bb7cdedea\" y=\"111.818095\"/>\r\n     <use style=\"fill:#3f3f3f;stroke:#3f3f3f;stroke-linejoin:miter;\" x=\"280.33125\" xlink:href=\"#m3bb7cdedea\" y=\"158.413621\"/>\r\n     <use style=\"fill:#3f3f3f;stroke:#3f3f3f;stroke-linejoin:miter;\" x=\"280.33125\" xlink:href=\"#m3bb7cdedea\" y=\"88.842859\"/>\r\n     <use style=\"fill:#3f3f3f;stroke:#3f3f3f;stroke-linejoin:miter;\" x=\"280.33125\" xlink:href=\"#m3bb7cdedea\" y=\"145.854078\"/>\r\n     <use style=\"fill:#3f3f3f;stroke:#3f3f3f;stroke-linejoin:miter;\" x=\"280.33125\" xlink:href=\"#m3bb7cdedea\" y=\"141.936335\"/>\r\n     <use style=\"fill:#3f3f3f;stroke:#3f3f3f;stroke-linejoin:miter;\" x=\"280.33125\" xlink:href=\"#m3bb7cdedea\" y=\"146.508616\"/>\r\n     <use style=\"fill:#3f3f3f;stroke:#3f3f3f;stroke-linejoin:miter;\" x=\"280.33125\" xlink:href=\"#m3bb7cdedea\" y=\"92.001717\"/>\r\n     <use style=\"fill:#3f3f3f;stroke:#3f3f3f;stroke-linejoin:miter;\" x=\"280.33125\" xlink:href=\"#m3bb7cdedea\" y=\"162.568515\"/>\r\n     <use style=\"fill:#3f3f3f;stroke:#3f3f3f;stroke-linejoin:miter;\" x=\"280.33125\" xlink:href=\"#m3bb7cdedea\" y=\"145.512579\"/>\r\n     <use style=\"fill:#3f3f3f;stroke:#3f3f3f;stroke-linejoin:miter;\" x=\"280.33125\" xlink:href=\"#m3bb7cdedea\" y=\"111.846554\"/>\r\n     <use style=\"fill:#3f3f3f;stroke:#3f3f3f;stroke-linejoin:miter;\" x=\"280.33125\" xlink:href=\"#m3bb7cdedea\" y=\"157.42707\"/>\r\n     <use style=\"fill:#3f3f3f;stroke:#3f3f3f;stroke-linejoin:miter;\" x=\"280.33125\" xlink:href=\"#m3bb7cdedea\" y=\"151.517255\"/>\r\n     <use style=\"fill:#3f3f3f;stroke:#3f3f3f;stroke-linejoin:miter;\" x=\"280.33125\" xlink:href=\"#m3bb7cdedea\" y=\"145.768703\"/>\r\n     <use style=\"fill:#3f3f3f;stroke:#3f3f3f;stroke-linejoin:miter;\" x=\"280.33125\" xlink:href=\"#m3bb7cdedea\" y=\"102.132828\"/>\r\n     <use style=\"fill:#3f3f3f;stroke:#3f3f3f;stroke-linejoin:miter;\" x=\"280.33125\" xlink:href=\"#m3bb7cdedea\" y=\"151.488797\"/>\r\n     <use style=\"fill:#3f3f3f;stroke:#3f3f3f;stroke-linejoin:miter;\" x=\"280.33125\" xlink:href=\"#m3bb7cdedea\" y=\"135.0874\"/>\r\n    </g>\r\n   </g>\r\n   <g id=\"line2d_20\">\r\n    <path clip-path=\"url(#p05239f39a8)\" d=\"M 59.55125 273.005222 \r\nL 185.71125 273.005222 \r\n\" style=\"fill:none;stroke:#3f3f3f;stroke-linecap:square;stroke-width:1.5;\"/>\r\n   </g>\r\n   <g id=\"line2d_21\">\r\n    <path clip-path=\"url(#p05239f39a8)\" d=\"M 217.25125 284.597187 \r\nL 343.41125 284.597187 \r\n\" style=\"fill:none;stroke:#3f3f3f;stroke-linecap:square;stroke-width:1.5;\"/>\r\n   </g>\r\n   <g id=\"patch_5\">\r\n    <path d=\"M 43.78125 328.198437 \r\nL 43.78125 17.798437 \r\n\" style=\"fill:none;stroke:#000000;stroke-linecap:square;stroke-linejoin:miter;stroke-width:0.8;\"/>\r\n   </g>\r\n   <g id=\"patch_6\">\r\n    <path d=\"M 43.78125 328.198437 \r\nL 359.18125 328.198437 \r\n\" style=\"fill:none;stroke:#000000;stroke-linecap:square;stroke-linejoin:miter;stroke-width:0.8;\"/>\r\n   </g>\r\n  </g>\r\n </g>\r\n <defs>\r\n  <clipPath id=\"p05239f39a8\">\r\n   <rect height=\"310.4\" width=\"315.4\" x=\"43.78125\" y=\"17.798437\"/>\r\n  </clipPath>\r\n </defs>\r\n</svg>\r\n",
      "image/png": "[encoded data removed]"
     },
     "metadata": {
      "needs_background": "light"
     }
    }
   ],
   "source": [
    "sns.catplot(x=\"newVisits\", y=\"transactionRevenue\", data=totals.query(\"transactionRevenue  < 300000000\"),kind=\"box\")"
   ]
  },
  {
   "cell_type": "code",
   "execution_count": 64,
   "metadata": {},
   "outputs": [],
   "source": [
    "totals.bounces = totals.bounces.astype(float)"
   ]
  },
  {
   "cell_type": "code",
   "execution_count": 65,
   "metadata": {},
   "outputs": [
    {
     "output_type": "execute_result",
     "data": {
      "text/plain": [
       "visits                 object\n",
       "hits                   object\n",
       "pageviews              object\n",
       "newVisits              object\n",
       "bounces               float64\n",
       "transactionRevenue     object\n",
       "dtype: object"
      ]
     },
     "metadata": {},
     "execution_count": 65
    }
   ],
   "source": [
    "totals.dtypes"
   ]
  },
  {
   "cell_type": "code",
   "execution_count": 66,
   "metadata": {},
   "outputs": [
    {
     "output_type": "execute_result",
     "data": {
      "text/plain": [
       "visits                    0\n",
       "hits                      0\n",
       "pageviews                10\n",
       "newVisits             11267\n",
       "bounces               24992\n",
       "transactionRevenue    49380\n",
       "dtype: int64"
      ]
     },
     "metadata": {},
     "execution_count": 66
    }
   ],
   "source": [
    "totals.isnull().sum()"
   ]
  },
  {
   "cell_type": "code",
   "execution_count": 86,
   "metadata": {},
   "outputs": [
    {
     "output_type": "execute_result",
     "data": {
      "text/plain": [
       "<AxesSubplot:>"
      ]
     },
     "metadata": {},
     "execution_count": 86
    },
    {
     "output_type": "display_data",
     "data": {
      "text/plain": "<Figure size 432x288 with 1 Axes>",
      "image/svg+xml": "<?xml version=\"1.0\" encoding=\"utf-8\" standalone=\"no\"?>\r\n<!DOCTYPE svg PUBLIC \"-//W3C//DTD SVG 1.1//EN\"\r\n  \"http://www.w3.org/Graphics/SVG/1.1/DTD/svg11.dtd\">\r\n<!-- Created with matplotlib (https://matplotlib.org/) -->\r\n<svg height=\"259.116562pt\" version=\"1.1\" viewBox=\"0 0 374.032097 259.116562\" width=\"374.032097pt\" xmlns=\"http://www.w3.org/2000/svg\" xmlns:xlink=\"http://www.w3.org/1999/xlink\">\r\n <metadata>\r\n  <rdf:RDF xmlns:cc=\"http://creativecommons.org/ns#\" xmlns:dc=\"http://purl.org/dc/elements/1.1/\" xmlns:rdf=\"http://www.w3.org/1999/02/22-rdf-syntax-ns#\">\r\n   <cc:Work>\r\n    <dc:type rdf:resource=\"http://purl.org/dc/dcmitype/StillImage\"/>\r\n    <dc:date>2021-04-12T11:02:51.494771</dc:date>\r\n    <dc:format>image/svg+xml</dc:format>\r\n    <dc:creator>\r\n     <cc:Agent>\r\n      <dc:title>Matplotlib v3.3.2, https://matplotlib.org/</dc:title>\r\n     </cc:Agent>\r\n    </dc:creator>\r\n   </cc:Work>\r\n  </rdf:RDF>\r\n </metadata>\r\n <defs>\r\n  <style type=\"text/css\">*{stroke-linecap:butt;stroke-linejoin:round;}</style>\r\n </defs>\r\n <g id=\"figure_1\">\r\n  <g id=\"patch_1\">\r\n   <path d=\"M 0 259.116562 \r\nL 374.032097 259.116562 \r\nL 374.032097 0 \r\nL 0 0 \r\nz\r\n\" style=\"fill:none;\"/>\r\n  </g>\r\n  <g id=\"axes_1\">\r\n   <g id=\"patch_2\">\r\n    <path d=\"M 30.103125 235.238437 \r\nL 364.903125 235.238437 \r\nL 364.903125 17.798437 \r\nL 30.103125 17.798437 \r\nz\r\n\" style=\"fill:#ffffff;\"/>\r\n   </g>\r\n   <g id=\"matplotlib.axis_1\">\r\n    <g id=\"xtick_1\">\r\n     <g id=\"line2d_1\">\r\n      <defs>\r\n       <path d=\"M 0 0 \r\nL 0 3.5 \r\n\" id=\"m42af302351\" style=\"stroke:#000000;stroke-width:0.8;\"/>\r\n      </defs>\r\n      <g>\r\n       <use style=\"stroke:#000000;stroke-width:0.8;\" x=\"45.28463\" xlink:href=\"#m42af302351\" y=\"235.238437\"/>\r\n      </g>\r\n     </g>\r\n     <g id=\"text_1\">\r\n      <!-- 0 -->\r\n      <g transform=\"translate(42.10338 249.836875)scale(0.1 -0.1)\">\r\n       <defs>\r\n        <path d=\"M 31.78125 66.40625 \r\nQ 24.171875 66.40625 20.328125 58.90625 \r\nQ 16.5 51.421875 16.5 36.375 \r\nQ 16.5 21.390625 20.328125 13.890625 \r\nQ 24.171875 6.390625 31.78125 6.390625 \r\nQ 39.453125 6.390625 43.28125 13.890625 \r\nQ 47.125 21.390625 47.125 36.375 \r\nQ 47.125 51.421875 43.28125 58.90625 \r\nQ 39.453125 66.40625 31.78125 66.40625 \r\nz\r\nM 31.78125 74.21875 \r\nQ 44.046875 74.21875 50.515625 64.515625 \r\nQ 56.984375 54.828125 56.984375 36.375 \r\nQ 56.984375 17.96875 50.515625 8.265625 \r\nQ 44.046875 -1.421875 31.78125 -1.421875 \r\nQ 19.53125 -1.421875 13.0625 8.265625 \r\nQ 6.59375 17.96875 6.59375 36.375 \r\nQ 6.59375 54.828125 13.0625 64.515625 \r\nQ 19.53125 74.21875 31.78125 74.21875 \r\nz\r\n\" id=\"DejaVuSans-48\"/>\r\n       </defs>\r\n       <use xlink:href=\"#DejaVuSans-48\"/>\r\n      </g>\r\n     </g>\r\n    </g>\r\n    <g id=\"xtick_2\">\r\n     <g id=\"line2d_2\">\r\n      <g>\r\n       <use style=\"stroke:#000000;stroke-width:0.8;\" x=\"106.412873\" xlink:href=\"#m42af302351\" y=\"235.238437\"/>\r\n      </g>\r\n     </g>\r\n     <g id=\"text_2\">\r\n      <!-- 10000 -->\r\n      <g transform=\"translate(90.506623 249.836875)scale(0.1 -0.1)\">\r\n       <defs>\r\n        <path d=\"M 12.40625 8.296875 \r\nL 28.515625 8.296875 \r\nL 28.515625 63.921875 \r\nL 10.984375 60.40625 \r\nL 10.984375 69.390625 \r\nL 28.421875 72.90625 \r\nL 38.28125 72.90625 \r\nL 38.28125 8.296875 \r\nL 54.390625 8.296875 \r\nL 54.390625 0 \r\nL 12.40625 0 \r\nz\r\n\" id=\"DejaVuSans-49\"/>\r\n       </defs>\r\n       <use xlink:href=\"#DejaVuSans-49\"/>\r\n       <use x=\"63.623047\" xlink:href=\"#DejaVuSans-48\"/>\r\n       <use x=\"127.246094\" xlink:href=\"#DejaVuSans-48\"/>\r\n       <use x=\"190.869141\" xlink:href=\"#DejaVuSans-48\"/>\r\n       <use x=\"254.492188\" xlink:href=\"#DejaVuSans-48\"/>\r\n      </g>\r\n     </g>\r\n    </g>\r\n    <g id=\"xtick_3\">\r\n     <g id=\"line2d_3\">\r\n      <g>\r\n       <use style=\"stroke:#000000;stroke-width:0.8;\" x=\"167.541117\" xlink:href=\"#m42af302351\" y=\"235.238437\"/>\r\n      </g>\r\n     </g>\r\n     <g id=\"text_3\">\r\n      <!-- 20000 -->\r\n      <g transform=\"translate(151.634867 249.836875)scale(0.1 -0.1)\">\r\n       <defs>\r\n        <path d=\"M 19.1875 8.296875 \r\nL 53.609375 8.296875 \r\nL 53.609375 0 \r\nL 7.328125 0 \r\nL 7.328125 8.296875 \r\nQ 12.9375 14.109375 22.625 23.890625 \r\nQ 32.328125 33.6875 34.8125 36.53125 \r\nQ 39.546875 41.84375 41.421875 45.53125 \r\nQ 43.3125 49.21875 43.3125 52.78125 \r\nQ 43.3125 58.59375 39.234375 62.25 \r\nQ 35.15625 65.921875 28.609375 65.921875 \r\nQ 23.96875 65.921875 18.8125 64.3125 \r\nQ 13.671875 62.703125 7.8125 59.421875 \r\nL 7.8125 69.390625 \r\nQ 13.765625 71.78125 18.9375 73 \r\nQ 24.125 74.21875 28.421875 74.21875 \r\nQ 39.75 74.21875 46.484375 68.546875 \r\nQ 53.21875 62.890625 53.21875 53.421875 \r\nQ 53.21875 48.921875 51.53125 44.890625 \r\nQ 49.859375 40.875 45.40625 35.40625 \r\nQ 44.1875 33.984375 37.640625 27.21875 \r\nQ 31.109375 20.453125 19.1875 8.296875 \r\nz\r\n\" id=\"DejaVuSans-50\"/>\r\n       </defs>\r\n       <use xlink:href=\"#DejaVuSans-50\"/>\r\n       <use x=\"63.623047\" xlink:href=\"#DejaVuSans-48\"/>\r\n       <use x=\"127.246094\" xlink:href=\"#DejaVuSans-48\"/>\r\n       <use x=\"190.869141\" xlink:href=\"#DejaVuSans-48\"/>\r\n       <use x=\"254.492188\" xlink:href=\"#DejaVuSans-48\"/>\r\n      </g>\r\n     </g>\r\n    </g>\r\n    <g id=\"xtick_4\">\r\n     <g id=\"line2d_4\">\r\n      <g>\r\n       <use style=\"stroke:#000000;stroke-width:0.8;\" x=\"228.66936\" xlink:href=\"#m42af302351\" y=\"235.238437\"/>\r\n      </g>\r\n     </g>\r\n     <g id=\"text_4\">\r\n      <!-- 30000 -->\r\n      <g transform=\"translate(212.76311 249.836875)scale(0.1 -0.1)\">\r\n       <defs>\r\n        <path d=\"M 40.578125 39.3125 \r\nQ 47.65625 37.796875 51.625 33 \r\nQ 55.609375 28.21875 55.609375 21.1875 \r\nQ 55.609375 10.40625 48.1875 4.484375 \r\nQ 40.765625 -1.421875 27.09375 -1.421875 \r\nQ 22.515625 -1.421875 17.65625 -0.515625 \r\nQ 12.796875 0.390625 7.625 2.203125 \r\nL 7.625 11.71875 \r\nQ 11.71875 9.328125 16.59375 8.109375 \r\nQ 21.484375 6.890625 26.8125 6.890625 \r\nQ 36.078125 6.890625 40.9375 10.546875 \r\nQ 45.796875 14.203125 45.796875 21.1875 \r\nQ 45.796875 27.640625 41.28125 31.265625 \r\nQ 36.765625 34.90625 28.71875 34.90625 \r\nL 20.21875 34.90625 \r\nL 20.21875 43.015625 \r\nL 29.109375 43.015625 \r\nQ 36.375 43.015625 40.234375 45.921875 \r\nQ 44.09375 48.828125 44.09375 54.296875 \r\nQ 44.09375 59.90625 40.109375 62.90625 \r\nQ 36.140625 65.921875 28.71875 65.921875 \r\nQ 24.65625 65.921875 20.015625 65.03125 \r\nQ 15.375 64.15625 9.8125 62.3125 \r\nL 9.8125 71.09375 \r\nQ 15.4375 72.65625 20.34375 73.4375 \r\nQ 25.25 74.21875 29.59375 74.21875 \r\nQ 40.828125 74.21875 47.359375 69.109375 \r\nQ 53.90625 64.015625 53.90625 55.328125 \r\nQ 53.90625 49.265625 50.4375 45.09375 \r\nQ 46.96875 40.921875 40.578125 39.3125 \r\nz\r\n\" id=\"DejaVuSans-51\"/>\r\n       </defs>\r\n       <use xlink:href=\"#DejaVuSans-51\"/>\r\n       <use x=\"63.623047\" xlink:href=\"#DejaVuSans-48\"/>\r\n       <use x=\"127.246094\" xlink:href=\"#DejaVuSans-48\"/>\r\n       <use x=\"190.869141\" xlink:href=\"#DejaVuSans-48\"/>\r\n       <use x=\"254.492188\" xlink:href=\"#DejaVuSans-48\"/>\r\n      </g>\r\n     </g>\r\n    </g>\r\n    <g id=\"xtick_5\">\r\n     <g id=\"line2d_5\">\r\n      <g>\r\n       <use style=\"stroke:#000000;stroke-width:0.8;\" x=\"289.797603\" xlink:href=\"#m42af302351\" y=\"235.238437\"/>\r\n      </g>\r\n     </g>\r\n     <g id=\"text_5\">\r\n      <!-- 40000 -->\r\n      <g transform=\"translate(273.891353 249.836875)scale(0.1 -0.1)\">\r\n       <defs>\r\n        <path d=\"M 37.796875 64.3125 \r\nL 12.890625 25.390625 \r\nL 37.796875 25.390625 \r\nz\r\nM 35.203125 72.90625 \r\nL 47.609375 72.90625 \r\nL 47.609375 25.390625 \r\nL 58.015625 25.390625 \r\nL 58.015625 17.1875 \r\nL 47.609375 17.1875 \r\nL 47.609375 0 \r\nL 37.796875 0 \r\nL 37.796875 17.1875 \r\nL 4.890625 17.1875 \r\nL 4.890625 26.703125 \r\nz\r\n\" id=\"DejaVuSans-52\"/>\r\n       </defs>\r\n       <use xlink:href=\"#DejaVuSans-52\"/>\r\n       <use x=\"63.623047\" xlink:href=\"#DejaVuSans-48\"/>\r\n       <use x=\"127.246094\" xlink:href=\"#DejaVuSans-48\"/>\r\n       <use x=\"190.869141\" xlink:href=\"#DejaVuSans-48\"/>\r\n       <use x=\"254.492188\" xlink:href=\"#DejaVuSans-48\"/>\r\n      </g>\r\n     </g>\r\n    </g>\r\n    <g id=\"xtick_6\">\r\n     <g id=\"line2d_6\">\r\n      <g>\r\n       <use style=\"stroke:#000000;stroke-width:0.8;\" x=\"350.925847\" xlink:href=\"#m42af302351\" y=\"235.238437\"/>\r\n      </g>\r\n     </g>\r\n     <g id=\"text_6\">\r\n      <!-- 50000 -->\r\n      <g transform=\"translate(335.019597 249.836875)scale(0.1 -0.1)\">\r\n       <defs>\r\n        <path d=\"M 10.796875 72.90625 \r\nL 49.515625 72.90625 \r\nL 49.515625 64.59375 \r\nL 19.828125 64.59375 \r\nL 19.828125 46.734375 \r\nQ 21.96875 47.46875 24.109375 47.828125 \r\nQ 26.265625 48.1875 28.421875 48.1875 \r\nQ 40.625 48.1875 47.75 41.5 \r\nQ 54.890625 34.8125 54.890625 23.390625 \r\nQ 54.890625 11.625 47.5625 5.09375 \r\nQ 40.234375 -1.421875 26.90625 -1.421875 \r\nQ 22.3125 -1.421875 17.546875 -0.640625 \r\nQ 12.796875 0.140625 7.71875 1.703125 \r\nL 7.71875 11.625 \r\nQ 12.109375 9.234375 16.796875 8.0625 \r\nQ 21.484375 6.890625 26.703125 6.890625 \r\nQ 35.15625 6.890625 40.078125 11.328125 \r\nQ 45.015625 15.765625 45.015625 23.390625 \r\nQ 45.015625 31 40.078125 35.4375 \r\nQ 35.15625 39.890625 26.703125 39.890625 \r\nQ 22.75 39.890625 18.8125 39.015625 \r\nQ 14.890625 38.140625 10.796875 36.28125 \r\nz\r\n\" id=\"DejaVuSans-53\"/>\r\n       </defs>\r\n       <use xlink:href=\"#DejaVuSans-53\"/>\r\n       <use x=\"63.623047\" xlink:href=\"#DejaVuSans-48\"/>\r\n       <use x=\"127.246094\" xlink:href=\"#DejaVuSans-48\"/>\r\n       <use x=\"190.869141\" xlink:href=\"#DejaVuSans-48\"/>\r\n       <use x=\"254.492188\" xlink:href=\"#DejaVuSans-48\"/>\r\n      </g>\r\n     </g>\r\n    </g>\r\n   </g>\r\n   <g id=\"matplotlib.axis_2\">\r\n    <g id=\"ytick_1\">\r\n     <g id=\"line2d_7\">\r\n      <defs>\r\n       <path d=\"M 0 0 \r\nL -3.5 0 \r\n\" id=\"m05a0be4933\" style=\"stroke:#000000;stroke-width:0.8;\"/>\r\n      </defs>\r\n      <g>\r\n       <use style=\"stroke:#000000;stroke-width:0.8;\" x=\"30.103125\" xlink:href=\"#m05a0be4933\" y=\"225.500737\"/>\r\n      </g>\r\n     </g>\r\n     <g id=\"text_7\">\r\n      <!-- 0.0 -->\r\n      <g transform=\"translate(7.2 229.299956)scale(0.1 -0.1)\">\r\n       <defs>\r\n        <path d=\"M 10.6875 12.40625 \r\nL 21 12.40625 \r\nL 21 0 \r\nL 10.6875 0 \r\nz\r\n\" id=\"DejaVuSans-46\"/>\r\n       </defs>\r\n       <use xlink:href=\"#DejaVuSans-48\"/>\r\n       <use x=\"63.623047\" xlink:href=\"#DejaVuSans-46\"/>\r\n       <use x=\"95.410156\" xlink:href=\"#DejaVuSans-48\"/>\r\n      </g>\r\n     </g>\r\n    </g>\r\n    <g id=\"ytick_2\">\r\n     <g id=\"line2d_8\">\r\n      <g>\r\n       <use style=\"stroke:#000000;stroke-width:0.8;\" x=\"30.103125\" xlink:href=\"#m05a0be4933\" y=\"196.313611\"/>\r\n      </g>\r\n     </g>\r\n     <g id=\"text_8\">\r\n      <!-- 0.5 -->\r\n      <g transform=\"translate(7.2 200.11283)scale(0.1 -0.1)\">\r\n       <use xlink:href=\"#DejaVuSans-48\"/>\r\n       <use x=\"63.623047\" xlink:href=\"#DejaVuSans-46\"/>\r\n       <use x=\"95.410156\" xlink:href=\"#DejaVuSans-53\"/>\r\n      </g>\r\n     </g>\r\n    </g>\r\n    <g id=\"ytick_3\">\r\n     <g id=\"line2d_9\">\r\n      <g>\r\n       <use style=\"stroke:#000000;stroke-width:0.8;\" x=\"30.103125\" xlink:href=\"#m05a0be4933\" y=\"167.126485\"/>\r\n      </g>\r\n     </g>\r\n     <g id=\"text_9\">\r\n      <!-- 1.0 -->\r\n      <g transform=\"translate(7.2 170.925704)scale(0.1 -0.1)\">\r\n       <use xlink:href=\"#DejaVuSans-49\"/>\r\n       <use x=\"63.623047\" xlink:href=\"#DejaVuSans-46\"/>\r\n       <use x=\"95.410156\" xlink:href=\"#DejaVuSans-48\"/>\r\n      </g>\r\n     </g>\r\n    </g>\r\n    <g id=\"ytick_4\">\r\n     <g id=\"line2d_10\">\r\n      <g>\r\n       <use style=\"stroke:#000000;stroke-width:0.8;\" x=\"30.103125\" xlink:href=\"#m05a0be4933\" y=\"137.93936\"/>\r\n      </g>\r\n     </g>\r\n     <g id=\"text_10\">\r\n      <!-- 1.5 -->\r\n      <g transform=\"translate(7.2 141.738579)scale(0.1 -0.1)\">\r\n       <use xlink:href=\"#DejaVuSans-49\"/>\r\n       <use x=\"63.623047\" xlink:href=\"#DejaVuSans-46\"/>\r\n       <use x=\"95.410156\" xlink:href=\"#DejaVuSans-53\"/>\r\n      </g>\r\n     </g>\r\n    </g>\r\n    <g id=\"ytick_5\">\r\n     <g id=\"line2d_11\">\r\n      <g>\r\n       <use style=\"stroke:#000000;stroke-width:0.8;\" x=\"30.103125\" xlink:href=\"#m05a0be4933\" y=\"108.752234\"/>\r\n      </g>\r\n     </g>\r\n     <g id=\"text_11\">\r\n      <!-- 2.0 -->\r\n      <g transform=\"translate(7.2 112.551453)scale(0.1 -0.1)\">\r\n       <use xlink:href=\"#DejaVuSans-50\"/>\r\n       <use x=\"63.623047\" xlink:href=\"#DejaVuSans-46\"/>\r\n       <use x=\"95.410156\" xlink:href=\"#DejaVuSans-48\"/>\r\n      </g>\r\n     </g>\r\n    </g>\r\n    <g id=\"ytick_6\">\r\n     <g id=\"line2d_12\">\r\n      <g>\r\n       <use style=\"stroke:#000000;stroke-width:0.8;\" x=\"30.103125\" xlink:href=\"#m05a0be4933\" y=\"79.565108\"/>\r\n      </g>\r\n     </g>\r\n     <g id=\"text_12\">\r\n      <!-- 2.5 -->\r\n      <g transform=\"translate(7.2 83.364327)scale(0.1 -0.1)\">\r\n       <use xlink:href=\"#DejaVuSans-50\"/>\r\n       <use x=\"63.623047\" xlink:href=\"#DejaVuSans-46\"/>\r\n       <use x=\"95.410156\" xlink:href=\"#DejaVuSans-53\"/>\r\n      </g>\r\n     </g>\r\n    </g>\r\n    <g id=\"ytick_7\">\r\n     <g id=\"line2d_13\">\r\n      <g>\r\n       <use style=\"stroke:#000000;stroke-width:0.8;\" x=\"30.103125\" xlink:href=\"#m05a0be4933\" y=\"50.377983\"/>\r\n      </g>\r\n     </g>\r\n     <g id=\"text_13\">\r\n      <!-- 3.0 -->\r\n      <g transform=\"translate(7.2 54.177202)scale(0.1 -0.1)\">\r\n       <use xlink:href=\"#DejaVuSans-51\"/>\r\n       <use x=\"63.623047\" xlink:href=\"#DejaVuSans-46\"/>\r\n       <use x=\"95.410156\" xlink:href=\"#DejaVuSans-48\"/>\r\n      </g>\r\n     </g>\r\n    </g>\r\n    <g id=\"ytick_8\">\r\n     <g id=\"line2d_14\">\r\n      <g>\r\n       <use style=\"stroke:#000000;stroke-width:0.8;\" x=\"30.103125\" xlink:href=\"#m05a0be4933\" y=\"21.190857\"/>\r\n      </g>\r\n     </g>\r\n     <g id=\"text_14\">\r\n      <!-- 3.5 -->\r\n      <g transform=\"translate(7.2 24.990076)scale(0.1 -0.1)\">\r\n       <use xlink:href=\"#DejaVuSans-51\"/>\r\n       <use x=\"63.623047\" xlink:href=\"#DejaVuSans-46\"/>\r\n       <use x=\"95.410156\" xlink:href=\"#DejaVuSans-53\"/>\r\n      </g>\r\n     </g>\r\n    </g>\r\n    <g id=\"text_15\">\r\n     <!-- 1e9 -->\r\n     <g transform=\"translate(30.103125 14.798437)scale(0.1 -0.1)\">\r\n      <defs>\r\n       <path d=\"M 56.203125 29.59375 \r\nL 56.203125 25.203125 \r\nL 14.890625 25.203125 \r\nQ 15.484375 15.921875 20.484375 11.0625 \r\nQ 25.484375 6.203125 34.421875 6.203125 \r\nQ 39.59375 6.203125 44.453125 7.46875 \r\nQ 49.3125 8.734375 54.109375 11.28125 \r\nL 54.109375 2.78125 \r\nQ 49.265625 0.734375 44.1875 -0.34375 \r\nQ 39.109375 -1.421875 33.890625 -1.421875 \r\nQ 20.796875 -1.421875 13.15625 6.1875 \r\nQ 5.515625 13.8125 5.515625 26.8125 \r\nQ 5.515625 40.234375 12.765625 48.109375 \r\nQ 20.015625 56 32.328125 56 \r\nQ 43.359375 56 49.78125 48.890625 \r\nQ 56.203125 41.796875 56.203125 29.59375 \r\nz\r\nM 47.21875 32.234375 \r\nQ 47.125 39.59375 43.09375 43.984375 \r\nQ 39.0625 48.390625 32.421875 48.390625 \r\nQ 24.90625 48.390625 20.390625 44.140625 \r\nQ 15.875 39.890625 15.1875 32.171875 \r\nz\r\n\" id=\"DejaVuSans-101\"/>\r\n       <path d=\"M 10.984375 1.515625 \r\nL 10.984375 10.5 \r\nQ 14.703125 8.734375 18.5 7.8125 \r\nQ 22.3125 6.890625 25.984375 6.890625 \r\nQ 35.75 6.890625 40.890625 13.453125 \r\nQ 46.046875 20.015625 46.78125 33.40625 \r\nQ 43.953125 29.203125 39.59375 26.953125 \r\nQ 35.25 24.703125 29.984375 24.703125 \r\nQ 19.046875 24.703125 12.671875 31.3125 \r\nQ 6.296875 37.9375 6.296875 49.421875 \r\nQ 6.296875 60.640625 12.9375 67.421875 \r\nQ 19.578125 74.21875 30.609375 74.21875 \r\nQ 43.265625 74.21875 49.921875 64.515625 \r\nQ 56.59375 54.828125 56.59375 36.375 \r\nQ 56.59375 19.140625 48.40625 8.859375 \r\nQ 40.234375 -1.421875 26.421875 -1.421875 \r\nQ 22.703125 -1.421875 18.890625 -0.6875 \r\nQ 15.09375 0.046875 10.984375 1.515625 \r\nz\r\nM 30.609375 32.421875 \r\nQ 37.25 32.421875 41.125 36.953125 \r\nQ 45.015625 41.5 45.015625 49.421875 \r\nQ 45.015625 57.28125 41.125 61.84375 \r\nQ 37.25 66.40625 30.609375 66.40625 \r\nQ 23.96875 66.40625 20.09375 61.84375 \r\nQ 16.21875 57.28125 16.21875 49.421875 \r\nQ 16.21875 41.5 20.09375 36.953125 \r\nQ 23.96875 32.421875 30.609375 32.421875 \r\nz\r\n\" id=\"DejaVuSans-57\"/>\r\n      </defs>\r\n      <use xlink:href=\"#DejaVuSans-49\"/>\r\n      <use x=\"63.623047\" xlink:href=\"#DejaVuSans-101\"/>\r\n      <use x=\"125.146484\" xlink:href=\"#DejaVuSans-57\"/>\r\n     </g>\r\n    </g>\r\n   </g>\r\n   <g id=\"line2d_15\">\r\n    <path clip-path=\"url(#p3b8c3bbd12)\" d=\"M 55.994298 224.5685 \r\nL 56.000411 224.567332 \r\nM 152.858112 224.508958 \r\nL 152.864225 215.775003 \r\nL 152.870338 222.606541 \r\nM 169.986246 221.905467 \r\nL 169.992359 223.729078 \r\nL 169.998472 218.507501 \r\nM 193.648989 220.801026 \r\nL 193.655102 225.152242 \r\nM 284.797313 215.695614 \r\nL 284.803426 200.992307 \r\nM 338.700198 219.414054 \r\nL 338.706311 193.441598 \r\nM 349.684943 224.508958 \r\n\" style=\"fill:none;stroke:#1f77b4;stroke-linecap:square;stroke-width:1.5;\"/>\r\n   </g>\r\n   <g id=\"patch_3\">\r\n    <path d=\"M 30.103125 235.238437 \r\nL 30.103125 17.798437 \r\n\" style=\"fill:none;stroke:#000000;stroke-linecap:square;stroke-linejoin:miter;stroke-width:0.8;\"/>\r\n   </g>\r\n   <g id=\"patch_4\">\r\n    <path d=\"M 364.903125 235.238437 \r\nL 364.903125 17.798437 \r\n\" style=\"fill:none;stroke:#000000;stroke-linecap:square;stroke-linejoin:miter;stroke-width:0.8;\"/>\r\n   </g>\r\n   <g id=\"patch_5\">\r\n    <path d=\"M 30.103125 235.238437 \r\nL 364.903125 235.238437 \r\n\" style=\"fill:none;stroke:#000000;stroke-linecap:square;stroke-linejoin:miter;stroke-width:0.8;\"/>\r\n   </g>\r\n   <g id=\"patch_6\">\r\n    <path d=\"M 30.103125 17.798437 \r\nL 364.903125 17.798437 \r\n\" style=\"fill:none;stroke:#000000;stroke-linecap:square;stroke-linejoin:miter;stroke-width:0.8;\"/>\r\n   </g>\r\n  </g>\r\n </g>\r\n <defs>\r\n  <clipPath id=\"p3b8c3bbd12\">\r\n   <rect height=\"217.44\" width=\"334.8\" x=\"30.103125\" y=\"17.798437\"/>\r\n  </clipPath>\r\n </defs>\r\n</svg>\r\n",
      "image/png": "[encoded data removed]"
     },
     "metadata": {
      "needs_background": "light"
     }
    }
   ],
   "source": [
    "totals.transactionRevenue.astype(\"float\").plot()"
   ]
  },
  {
   "cell_type": "code",
   "execution_count": 70,
   "metadata": {},
   "outputs": [
    {
     "output_type": "execute_result",
     "data": {
      "text/plain": [
       "        campaign               source    medium         keyword  \\\n",
       "0      (not set)               google   organic  (not provided)   \n",
       "1      (not set)          youtube.com  referral             NaN   \n",
       "2      (not set)          youtube.com  referral             NaN   \n",
       "3      (not set)               google   organic  (not provided)   \n",
       "4      (not set)    groups.google.com  referral             NaN   \n",
       "...          ...                  ...       ...             ...   \n",
       "49995  (not set)               google   organic  (not provided)   \n",
       "49996  (not set)               google   organic  (not provided)   \n",
       "49997  (not set)             (direct)    (none)             NaN   \n",
       "49998  (not set)  mall.googleplex.com  referral             NaN   \n",
       "49999  (not set)               google   organic  (not provided)   \n",
       "\n",
       "                                        adwordsClickInfo  \\\n",
       "0      {'criteriaParameters': 'not available in demo ...   \n",
       "1      {'criteriaParameters': 'not available in demo ...   \n",
       "2      {'criteriaParameters': 'not available in demo ...   \n",
       "3      {'criteriaParameters': 'not available in demo ...   \n",
       "4      {'criteriaParameters': 'not available in demo ...   \n",
       "...                                                  ...   \n",
       "49995  {'criteriaParameters': 'not available in demo ...   \n",
       "49996  {'criteriaParameters': 'not available in demo ...   \n",
       "49997  {'criteriaParameters': 'not available in demo ...   \n",
       "49998  {'criteriaParameters': 'not available in demo ...   \n",
       "49999  {'criteriaParameters': 'not available in demo ...   \n",
       "\n",
       "               referralPath isTrueDirect adContent  \n",
       "0                       NaN          NaN       NaN  \n",
       "1                /yt/about/          NaN       NaN  \n",
       "2             /yt/about/th/          NaN       NaN  \n",
       "3                       NaN          NaN       NaN  \n",
       "4      /a/google.com/forum/          NaN       NaN  \n",
       "...                     ...          ...       ...  \n",
       "49995                   NaN          NaN       NaN  \n",
       "49996                   NaN         True       NaN  \n",
       "49997                   NaN         True       NaN  \n",
       "49998                     /          NaN       NaN  \n",
       "49999                   NaN          NaN       NaN  \n",
       "\n",
       "[50000 rows x 8 columns]"
      ],
      "text/html": "<div>\n<style scoped>\n    .dataframe tbody tr th:only-of-type {\n        vertical-align: middle;\n    }\n\n    .dataframe tbody tr th {\n        vertical-align: top;\n    }\n\n    .dataframe thead th {\n        text-align: right;\n    }\n</style>\n<table border=\"1\" class=\"dataframe\">\n  <thead>\n    <tr style=\"text-align: right;\">\n      <th></th>\n      <th>campaign</th>\n      <th>source</th>\n      <th>medium</th>\n      <th>keyword</th>\n      <th>adwordsClickInfo</th>\n      <th>referralPath</th>\n      <th>isTrueDirect</th>\n      <th>adContent</th>\n    </tr>\n  </thead>\n  <tbody>\n    <tr>\n      <th>0</th>\n      <td>(not set)</td>\n      <td>google</td>\n      <td>organic</td>\n      <td>(not provided)</td>\n      <td>{'criteriaParameters': 'not available in demo ...</td>\n      <td>NaN</td>\n      <td>NaN</td>\n      <td>NaN</td>\n    </tr>\n    <tr>\n      <th>1</th>\n      <td>(not set)</td>\n      <td>youtube.com</td>\n      <td>referral</td>\n      <td>NaN</td>\n      <td>{'criteriaParameters': 'not available in demo ...</td>\n      <td>/yt/about/</td>\n      <td>NaN</td>\n      <td>NaN</td>\n    </tr>\n    <tr>\n      <th>2</th>\n      <td>(not set)</td>\n      <td>youtube.com</td>\n      <td>referral</td>\n      <td>NaN</td>\n      <td>{'criteriaParameters': 'not available in demo ...</td>\n      <td>/yt/about/th/</td>\n      <td>NaN</td>\n      <td>NaN</td>\n    </tr>\n    <tr>\n      <th>3</th>\n      <td>(not set)</td>\n      <td>google</td>\n      <td>organic</td>\n      <td>(not provided)</td>\n      <td>{'criteriaParameters': 'not available in demo ...</td>\n      <td>NaN</td>\n      <td>NaN</td>\n      <td>NaN</td>\n    </tr>\n    <tr>\n      <th>4</th>\n      <td>(not set)</td>\n      <td>groups.google.com</td>\n      <td>referral</td>\n      <td>NaN</td>\n      <td>{'criteriaParameters': 'not available in demo ...</td>\n      <td>/a/google.com/forum/</td>\n      <td>NaN</td>\n      <td>NaN</td>\n    </tr>\n    <tr>\n      <th>...</th>\n      <td>...</td>\n      <td>...</td>\n      <td>...</td>\n      <td>...</td>\n      <td>...</td>\n      <td>...</td>\n      <td>...</td>\n      <td>...</td>\n    </tr>\n    <tr>\n      <th>49995</th>\n      <td>(not set)</td>\n      <td>google</td>\n      <td>organic</td>\n      <td>(not provided)</td>\n      <td>{'criteriaParameters': 'not available in demo ...</td>\n      <td>NaN</td>\n      <td>NaN</td>\n      <td>NaN</td>\n    </tr>\n    <tr>\n      <th>49996</th>\n      <td>(not set)</td>\n      <td>google</td>\n      <td>organic</td>\n      <td>(not provided)</td>\n      <td>{'criteriaParameters': 'not available in demo ...</td>\n      <td>NaN</td>\n      <td>True</td>\n      <td>NaN</td>\n    </tr>\n    <tr>\n      <th>49997</th>\n      <td>(not set)</td>\n      <td>(direct)</td>\n      <td>(none)</td>\n      <td>NaN</td>\n      <td>{'criteriaParameters': 'not available in demo ...</td>\n      <td>NaN</td>\n      <td>True</td>\n      <td>NaN</td>\n    </tr>\n    <tr>\n      <th>49998</th>\n      <td>(not set)</td>\n      <td>mall.googleplex.com</td>\n      <td>referral</td>\n      <td>NaN</td>\n      <td>{'criteriaParameters': 'not available in demo ...</td>\n      <td>/</td>\n      <td>NaN</td>\n      <td>NaN</td>\n    </tr>\n    <tr>\n      <th>49999</th>\n      <td>(not set)</td>\n      <td>google</td>\n      <td>organic</td>\n      <td>(not provided)</td>\n      <td>{'criteriaParameters': 'not available in demo ...</td>\n      <td>NaN</td>\n      <td>NaN</td>\n      <td>NaN</td>\n    </tr>\n  </tbody>\n</table>\n<p>50000 rows × 8 columns</p>\n</div>"
     },
     "metadata": {},
     "execution_count": 70
    }
   ],
   "source": [
    "# ??? isTrueDirect either NaN or True, should I fill in  NAn with False\n",
    "# drop adContent + adwordsClickInfo\n",
    "# keyword useful??\n",
    "# \n",
    "\n",
    "trafficSource"
   ]
  },
  {
   "cell_type": "code",
   "execution_count": 304,
   "metadata": {},
   "outputs": [
    {
     "output_type": "execute_result",
     "data": {
      "text/plain": [
       "campaign                0\n",
       "source                  0\n",
       "medium                  0\n",
       "keyword             33503\n",
       "adwordsClickInfo        0\n",
       "isTrueDirect        41779\n",
       "referralPath        37983\n",
       "adContent           59253\n",
       "dtype: int64"
      ]
     },
     "metadata": {},
     "execution_count": 304
    }
   ],
   "source": [
    "# drop adContent, keyword, campaign, adwordsClickInfo as more than 90% of data is missing        \n",
    "trafficSource.isnull().sum()"
   ]
  },
  {
   "cell_type": "code",
   "execution_count": 303,
   "metadata": {},
   "outputs": [
    {
     "output_type": "execute_result",
     "data": {
      "text/plain": [
       "(not provided)                     24248\n",
       "6qEhsCssdK0z36ri                     738\n",
       "google merchandise store             162\n",
       "(Remarketing/Content targeting)      155\n",
       "1hZbAqLCbjwfgOH7                     130\n",
       "                                   ...  \n",
       "google powerbank                       1\n",
       "yutube                                 1\n",
       "youtube on                             1\n",
       "Water mug                              1\n",
       "বৈশাখী স্টিকার for t-shirt             1\n",
       "Name: keyword, Length: 446, dtype: int64"
      ]
     },
     "metadata": {},
     "execution_count": 303
    }
   ],
   "source": [
    "trafficSource.keyword.value_counts()"
   ]
  },
  {
   "cell_type": "code",
   "execution_count": 305,
   "metadata": {},
   "outputs": [
    {
     "output_type": "execute_result",
     "data": {
      "text/plain": [
       "(not set)                                          57472\n",
       "Data Share Promo                                    1087\n",
       "AW - Dynamic Search Ads Whole Site                   907\n",
       "AW - Accessories                                     494\n",
       "test-liyuhz                                           24\n",
       "AW - Electronics                                       7\n",
       "AW - Apparel                                           4\n",
       "Retail (DO NOT EDIT owners nophakun and tianyu)        4\n",
       "All Products                                           1\n",
       "Name: campaign, dtype: int64"
      ]
     },
     "metadata": {},
     "execution_count": 305
    }
   ],
   "source": [
    "trafficSource.campaign.value_counts()"
   ]
  },
  {
   "cell_type": "code",
   "execution_count": 308,
   "metadata": {},
   "outputs": [],
   "source": [
    "trafficSource.isTrueDirect.fillna(value=\"False\", inplace=True)     "
   ]
  },
  {
   "cell_type": "code",
   "execution_count": 316,
   "metadata": {},
   "outputs": [],
   "source": [
    "trafficSource.drop(columns=[\"adContent\", \"keyword\", \"campaign\", \"adwordsClickInfo\"],inplace=True)"
   ]
  },
  {
   "cell_type": "code",
   "execution_count": 317,
   "metadata": {},
   "outputs": [
    {
     "output_type": "execute_result",
     "data": {
      "text/plain": [
       "                     source    medium isTrueDirect   referralPath\n",
       "0                    google   organic         True            NaN\n",
       "1                    google   organic        False            NaN\n",
       "2                    google   organic        False            NaN\n",
       "3                    google   organic        False            NaN\n",
       "4      moma.corp.google.com  referral         True              /\n",
       "...                     ...       ...          ...            ...\n",
       "59995              (direct)    (none)         True            NaN\n",
       "59996              (direct)    (none)         True            NaN\n",
       "59997                google   organic        False            NaN\n",
       "59998                google   organic        False            NaN\n",
       "59999           youtube.com  referral        False  /yt/about/es/\n",
       "\n",
       "[60000 rows x 4 columns]"
      ],
      "text/html": "<div>\n<style scoped>\n    .dataframe tbody tr th:only-of-type {\n        vertical-align: middle;\n    }\n\n    .dataframe tbody tr th {\n        vertical-align: top;\n    }\n\n    .dataframe thead th {\n        text-align: right;\n    }\n</style>\n<table border=\"1\" class=\"dataframe\">\n  <thead>\n    <tr style=\"text-align: right;\">\n      <th></th>\n      <th>source</th>\n      <th>medium</th>\n      <th>isTrueDirect</th>\n      <th>referralPath</th>\n    </tr>\n  </thead>\n  <tbody>\n    <tr>\n      <th>0</th>\n      <td>google</td>\n      <td>organic</td>\n      <td>True</td>\n      <td>NaN</td>\n    </tr>\n    <tr>\n      <th>1</th>\n      <td>google</td>\n      <td>organic</td>\n      <td>False</td>\n      <td>NaN</td>\n    </tr>\n    <tr>\n      <th>2</th>\n      <td>google</td>\n      <td>organic</td>\n      <td>False</td>\n      <td>NaN</td>\n    </tr>\n    <tr>\n      <th>3</th>\n      <td>google</td>\n      <td>organic</td>\n      <td>False</td>\n      <td>NaN</td>\n    </tr>\n    <tr>\n      <th>4</th>\n      <td>moma.corp.google.com</td>\n      <td>referral</td>\n      <td>True</td>\n      <td>/</td>\n    </tr>\n    <tr>\n      <th>...</th>\n      <td>...</td>\n      <td>...</td>\n      <td>...</td>\n      <td>...</td>\n    </tr>\n    <tr>\n      <th>59995</th>\n      <td>(direct)</td>\n      <td>(none)</td>\n      <td>True</td>\n      <td>NaN</td>\n    </tr>\n    <tr>\n      <th>59996</th>\n      <td>(direct)</td>\n      <td>(none)</td>\n      <td>True</td>\n      <td>NaN</td>\n    </tr>\n    <tr>\n      <th>59997</th>\n      <td>google</td>\n      <td>organic</td>\n      <td>False</td>\n      <td>NaN</td>\n    </tr>\n    <tr>\n      <th>59998</th>\n      <td>google</td>\n      <td>organic</td>\n      <td>False</td>\n      <td>NaN</td>\n    </tr>\n    <tr>\n      <th>59999</th>\n      <td>youtube.com</td>\n      <td>referral</td>\n      <td>False</td>\n      <td>/yt/about/es/</td>\n    </tr>\n  </tbody>\n</table>\n<p>60000 rows × 4 columns</p>\n</div>"
     },
     "metadata": {},
     "execution_count": 317
    }
   ],
   "source": [
    "trafficSource"
   ]
  },
  {
   "cell_type": "code",
   "execution_count": null,
   "metadata": {},
   "outputs": [],
   "source": []
  }
 ]
}